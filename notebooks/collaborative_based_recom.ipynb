{
 "metadata": {
  "language_info": {
   "codemirror_mode": {
    "name": "ipython",
    "version": 3
   },
   "file_extension": ".py",
   "mimetype": "text/x-python",
   "name": "python",
   "nbconvert_exporter": "python",
   "pygments_lexer": "ipython3",
   "version": "3.7.6-final"
  },
  "orig_nbformat": 2,
  "kernelspec": {
   "name": "python_defaultSpec_1600437494448",
   "display_name": "Python 3.7.6 64-bit ('base': conda)"
  }
 },
 "nbformat": 4,
 "nbformat_minor": 2,
 "cells": [
  {
   "cell_type": "code",
   "execution_count": 13,
   "metadata": {
    "tags": []
   },
   "outputs": [],
   "source": [
    "import boto3\n",
    "import pandas as pd\n",
    "import numpy as np\n",
    "import sys\n",
    "from io import StringIO\n",
    "import surprise\n",
    "from surprise import accuracy\n",
    "from sklearn.model_selection import train_test_split"
   ]
  },
  {
   "cell_type": "code",
   "execution_count": 2,
   "metadata": {},
   "outputs": [],
   "source": [
    "sys.path.insert(1, '../src')"
   ]
  },
  {
   "cell_type": "code",
   "execution_count": 3,
   "metadata": {},
   "outputs": [],
   "source": [
    "%load_ext autoreload\n",
    "%autoreload 2"
   ]
  },
  {
   "cell_type": "code",
   "execution_count": 4,
   "metadata": {},
   "outputs": [],
   "source": [
    "%reload_ext autoreload"
   ]
  },
  {
   "cell_type": "code",
   "execution_count": 5,
   "metadata": {},
   "outputs": [],
   "source": [
    "s3 = boto3.client('s3')"
   ]
  },
  {
   "cell_type": "code",
   "execution_count": 6,
   "metadata": {},
   "outputs": [],
   "source": [
    "df_all_15 = pd.read_csv(\"s3://recommender-system-amazon/df_all_15_text.csv\")"
   ]
  },
  {
   "cell_type": "code",
   "execution_count": 8,
   "metadata": {},
   "outputs": [],
   "source": [
    "df_all_15 = df_all_15[~(df_all_15['title_nlp'].isna())]\n",
    "df_all_15 = df_all_15[~(df_all_15['item_text'].isna())]\n",
    "df_all_15 = df_all_15[~(df_all_15['reviewText'].isna())]"
   ]
  },
  {
   "cell_type": "code",
   "execution_count": 9,
   "metadata": {},
   "outputs": [
    {
     "output_type": "execute_result",
     "data": {
      "text/plain": "Index(['Unnamed: 0', 'category', 'description', 'title', 'also_buy', 'image_x',\n       'brand', 'feature', 'rank', 'also_view', 'main_cat', 'price', 'asin',\n       'overall', 'verified', 'reviewText', 'summary', 'unixReviewTime',\n       'style', 'item_text', 'title_nlp'],\n      dtype='object')"
     },
     "metadata": {},
     "execution_count": 9
    }
   ],
   "source": [
    "df_all_15.columns"
   ]
  },
  {
   "cell_type": "code",
   "execution_count": 10,
   "metadata": {},
   "outputs": [],
   "source": [
    "df_collab = df_all_15[[\"asin\",\"overall\"]].reset_index()"
   ]
  },
  {
   "cell_type": "code",
   "execution_count": 11,
   "metadata": {},
   "outputs": [
    {
     "output_type": "execute_result",
     "data": {
      "text/plain": "   index        asin  overall\n0      0  0899332757      5.0\n1      1  0899332757      4.0\n2      2  0899332757      5.0\n3      3  0899333257      5.0\n4      4  0899333257      5.0",
      "text/html": "<div>\n<style scoped>\n    .dataframe tbody tr th:only-of-type {\n        vertical-align: middle;\n    }\n\n    .dataframe tbody tr th {\n        vertical-align: top;\n    }\n\n    .dataframe thead th {\n        text-align: right;\n    }\n</style>\n<table border=\"1\" class=\"dataframe\">\n  <thead>\n    <tr style=\"text-align: right;\">\n      <th></th>\n      <th>index</th>\n      <th>asin</th>\n      <th>overall</th>\n    </tr>\n  </thead>\n  <tbody>\n    <tr>\n      <th>0</th>\n      <td>0</td>\n      <td>0899332757</td>\n      <td>5.0</td>\n    </tr>\n    <tr>\n      <th>1</th>\n      <td>1</td>\n      <td>0899332757</td>\n      <td>4.0</td>\n    </tr>\n    <tr>\n      <th>2</th>\n      <td>2</td>\n      <td>0899332757</td>\n      <td>5.0</td>\n    </tr>\n    <tr>\n      <th>3</th>\n      <td>3</td>\n      <td>0899333257</td>\n      <td>5.0</td>\n    </tr>\n    <tr>\n      <th>4</th>\n      <td>4</td>\n      <td>0899333257</td>\n      <td>5.0</td>\n    </tr>\n  </tbody>\n</table>\n</div>"
     },
     "metadata": {},
     "execution_count": 11
    }
   ],
   "source": [
    "df_collab.head()"
   ]
  },
  {
   "cell_type": "code",
   "execution_count": 12,
   "metadata": {},
   "outputs": [
    {
     "output_type": "execute_result",
     "data": {
      "text/plain": "(369155, 3)"
     },
     "metadata": {},
     "execution_count": 12
    }
   ],
   "source": [
    "df_collab.shape"
   ]
  },
  {
   "cell_type": "code",
   "execution_count": 13,
   "metadata": {},
   "outputs": [
    {
     "output_type": "execute_result",
     "data": {
      "text/plain": "               index        overall\ncount  369155.000000  369155.000000\nmean   185148.438423       4.447806\nstd    106886.985863       0.965468\nmin         0.000000       1.000000\n25%     92589.500000       4.000000\n50%    185166.000000       5.000000\n75%    277729.500000       5.000000\nmax    370251.000000       5.000000",
      "text/html": "<div>\n<style scoped>\n    .dataframe tbody tr th:only-of-type {\n        vertical-align: middle;\n    }\n\n    .dataframe tbody tr th {\n        vertical-align: top;\n    }\n\n    .dataframe thead th {\n        text-align: right;\n    }\n</style>\n<table border=\"1\" class=\"dataframe\">\n  <thead>\n    <tr style=\"text-align: right;\">\n      <th></th>\n      <th>index</th>\n      <th>overall</th>\n    </tr>\n  </thead>\n  <tbody>\n    <tr>\n      <th>count</th>\n      <td>369155.000000</td>\n      <td>369155.000000</td>\n    </tr>\n    <tr>\n      <th>mean</th>\n      <td>185148.438423</td>\n      <td>4.447806</td>\n    </tr>\n    <tr>\n      <th>std</th>\n      <td>106886.985863</td>\n      <td>0.965468</td>\n    </tr>\n    <tr>\n      <th>min</th>\n      <td>0.000000</td>\n      <td>1.000000</td>\n    </tr>\n    <tr>\n      <th>25%</th>\n      <td>92589.500000</td>\n      <td>4.000000</td>\n    </tr>\n    <tr>\n      <th>50%</th>\n      <td>185166.000000</td>\n      <td>5.000000</td>\n    </tr>\n    <tr>\n      <th>75%</th>\n      <td>277729.500000</td>\n      <td>5.000000</td>\n    </tr>\n    <tr>\n      <th>max</th>\n      <td>370251.000000</td>\n      <td>5.000000</td>\n    </tr>\n  </tbody>\n</table>\n</div>"
     },
     "metadata": {},
     "execution_count": 13
    }
   ],
   "source": [
    "df_collab.describe()"
   ]
  },
  {
   "cell_type": "code",
   "execution_count": 15,
   "metadata": {},
   "outputs": [],
   "source": [
    "# X_Train,X_holdout = train_test_split(df_collab, test_size=0.2)"
   ]
  },
  {
   "cell_type": "code",
   "execution_count": 16,
   "metadata": {},
   "outputs": [],
   "source": [
    "reader = surprise.Reader(rating_scale=(1,5))"
   ]
  },
  {
   "cell_type": "code",
   "execution_count": 17,
   "metadata": {},
   "outputs": [],
   "source": [
    "# data = surprise.Dataset.load_from_df(X_Train,reader)\n",
    "\n",
    "data = surprise.Dataset.load_from_df(df_collab,reader)\n",
    "# holdout = surprise.Dataset.load_from_df(X_holdout,reader)"
   ]
  },
  {
   "cell_type": "code",
   "execution_count": 16,
   "metadata": {},
   "outputs": [],
   "source": [
    "kSplit = surprise.model_selection.split.KFold(n_splits=1, shuffle=True)"
   ]
  },
  {
   "cell_type": "code",
   "execution_count": 22,
   "metadata": {
    "tags": []
   },
   "outputs": [
    {
     "output_type": "stream",
     "name": "stdout",
     "text": "Computing the cosine similarity matrix...\nDone computing similarity matrix.\nRMSE: 0.0000\n"
    },
    {
     "output_type": "execute_result",
     "data": {
      "text/plain": "0.0"
     },
     "metadata": {},
     "execution_count": 22
    }
   ],
   "source": [
    "sim_options = sim_options = {'name': 'cosine','user_based': False}\n",
    "\n",
    "collabKNN = surprise.KNNBasic(k=10,min_k=1,sim_options=sim_options,verbose=True) #try removing sim_options. \n",
    "# collabKNN = surprise.SVD()\n",
    "trainset = data.build_full_trainset()\n",
    "collabKNN.fit(trainset)\n",
    "testset = trainset.build_testset()\n",
    "predictions = collabKNN.test(testset)\n",
    "accuracy.rmse(predictions, verbose=True)\n",
    "\n",
    "# rmseKNN = []\n",
    "\n",
    "\n",
    "\n",
    "# for trainset, testset in kSplit.split(data): #iterate through the folds.\n",
    "#     collabKNN.fit(trainset)\n",
    "#     predictionsKNN = collabKNN.test(testset)\n",
    "#     rmseKNN.append(surprise.accuracy.rmse(predictionsKNN,verbose=True))#get root means squared "
   ]
  },
  {
   "cell_type": "code",
   "execution_count": 18,
   "metadata": {
    "tags": []
   },
   "outputs": [
    {
     "output_type": "stream",
     "name": "stdout",
     "text": "Computing the cosine similarity matrix...\nDone computing similarity matrix.\n"
    }
   ],
   "source": [
    "sm = collabKNN.compute_similarities()"
   ]
  },
  {
   "cell_type": "code",
   "execution_count": 19,
   "metadata": {},
   "outputs": [
    {
     "output_type": "execute_result",
     "data": {
      "text/plain": "(56351, 56351)"
     },
     "metadata": {},
     "execution_count": 19
    }
   ],
   "source": [
    "sm.shape"
   ]
  },
  {
   "cell_type": "code",
   "execution_count": null,
   "metadata": {},
   "outputs": [],
   "source": []
  }
 ]
}