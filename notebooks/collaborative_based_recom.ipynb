{
 "metadata": {
  "language_info": {
   "codemirror_mode": {
    "name": "ipython",
    "version": 3
   },
   "file_extension": ".py",
   "mimetype": "text/x-python",
   "name": "python",
   "nbconvert_exporter": "python",
   "pygments_lexer": "ipython3",
   "version": "3.7.6-final"
  },
  "orig_nbformat": 2,
  "kernelspec": {
   "name": "python_defaultSpec_1600636327178",
   "display_name": "Python 3.7.6 64-bit ('base': conda)"
  }
 },
 "nbformat": 4,
 "nbformat_minor": 2,
 "cells": [
  {
   "cell_type": "code",
   "execution_count": 26,
   "metadata": {
    "tags": []
   },
   "outputs": [],
   "source": [
    "import boto3\n",
    "import pandas as pd\n",
    "import numpy as np\n",
    "import sys\n",
    "from io import StringIO\n",
    "import surprise\n",
    "from surprise import accuracy\n",
    "from sklearn.model_selection import train_test_split\n",
    "from surprise import SVD, NMF, KNNBaseline\n",
    "import pickle"
   ]
  },
  {
   "cell_type": "code",
   "execution_count": 2,
   "metadata": {},
   "outputs": [],
   "source": [
    "sys.path.insert(1, '../src')\n",
    "from Collaborative_recommender import CollaborativeRecommender"
   ]
  },
  {
   "cell_type": "code",
   "execution_count": 3,
   "metadata": {
    "tags": []
   },
   "outputs": [],
   "source": [
    "%load_ext autoreload\n",
    "%autoreload 2"
   ]
  },
  {
   "cell_type": "code",
   "execution_count": 4,
   "metadata": {
    "tags": []
   },
   "outputs": [],
   "source": [
    "%reload_ext autoreload"
   ]
  },
  {
   "cell_type": "code",
   "execution_count": 5,
   "metadata": {},
   "outputs": [],
   "source": [
    "s3 = boto3.client('s3')"
   ]
  },
  {
   "cell_type": "code",
   "execution_count": 6,
   "metadata": {},
   "outputs": [],
   "source": [
    "df_all_15 = pd.read_csv(\"s3://recommender-system-amazon/df_all_15_text.csv\",index_col=[0])"
   ]
  },
  {
   "cell_type": "code",
   "execution_count": 7,
   "metadata": {},
   "outputs": [
    {
     "output_type": "execute_result",
     "data": {
      "text/plain": "   fit                                              title  \\\n0  NaN  Black Mountain Products Resistance Band Set wi...   \n1  NaN  Black Mountain Products Resistance Band Set wi...   \n2  NaN  Black Mountain Products Resistance Band Set wi...   \n3  NaN  Black Mountain Products Resistance Band Set wi...   \n4  NaN  Black Mountain Products Resistance Band Set wi...   \n\n                                            also_buy  \\\n0  ['1612431712', 'B01AVDVHTI', 'B002YQUP7Q', 'B0...   \n1  ['1612431712', 'B01AVDVHTI', 'B002YQUP7Q', 'B0...   \n2  ['1612431712', 'B01AVDVHTI', 'B002YQUP7Q', 'B0...   \n3  ['1612431712', 'B01AVDVHTI', 'B002YQUP7Q', 'B0...   \n4  ['1612431712', 'B01AVDVHTI', 'B002YQUP7Q', 'B0...   \n\n                                             image_x   price        asin  \\\n0  ['https://images-na.ssl-images-amazon.com/imag...  $17.32  7245456313   \n1  ['https://images-na.ssl-images-amazon.com/imag...  $17.32  7245456313   \n2  ['https://images-na.ssl-images-amazon.com/imag...  $17.32  7245456313   \n3  ['https://images-na.ssl-images-amazon.com/imag...  $17.32  7245456313   \n4  ['https://images-na.ssl-images-amazon.com/imag...  $17.32  7245456313   \n\n   overall      reviewerID                                         reviewText  \\\n0      5.0  A1J5VYG8O0YEMB                        work advertis work advertis   \n1      4.0   AYMDRRCOPKTCF             four star product arriv prompt describ   \n2      4.0  A3AX86YSUHLELL  great resist band top qualiti okay resist band...   \n3      5.0  A12MJJT1RL2S7K  perfect transport resist band perfect cross fi...   \n4      5.0  A33BKACRGR3H38  awesom great band crosstrain dont like lift gy...   \n\n        item_text                                          title_nlp  \n0  black mountain  black mountain product resist band set door an...  \n1  black mountain  black mountain product resist band set door an...  \n2  black mountain  black mountain product resist band set door an...  \n3  black mountain  black mountain product resist band set door an...  \n4  black mountain  black mountain product resist band set door an...  ",
      "text/html": "<div>\n<style scoped>\n    .dataframe tbody tr th:only-of-type {\n        vertical-align: middle;\n    }\n\n    .dataframe tbody tr th {\n        vertical-align: top;\n    }\n\n    .dataframe thead th {\n        text-align: right;\n    }\n</style>\n<table border=\"1\" class=\"dataframe\">\n  <thead>\n    <tr style=\"text-align: right;\">\n      <th></th>\n      <th>fit</th>\n      <th>title</th>\n      <th>also_buy</th>\n      <th>image_x</th>\n      <th>price</th>\n      <th>asin</th>\n      <th>overall</th>\n      <th>reviewerID</th>\n      <th>reviewText</th>\n      <th>item_text</th>\n      <th>title_nlp</th>\n    </tr>\n  </thead>\n  <tbody>\n    <tr>\n      <th>0</th>\n      <td>NaN</td>\n      <td>Black Mountain Products Resistance Band Set wi...</td>\n      <td>['1612431712', 'B01AVDVHTI', 'B002YQUP7Q', 'B0...</td>\n      <td>['https://images-na.ssl-images-amazon.com/imag...</td>\n      <td>$17.32</td>\n      <td>7245456313</td>\n      <td>5.0</td>\n      <td>A1J5VYG8O0YEMB</td>\n      <td>work advertis work advertis</td>\n      <td>black mountain</td>\n      <td>black mountain product resist band set door an...</td>\n    </tr>\n    <tr>\n      <th>1</th>\n      <td>NaN</td>\n      <td>Black Mountain Products Resistance Band Set wi...</td>\n      <td>['1612431712', 'B01AVDVHTI', 'B002YQUP7Q', 'B0...</td>\n      <td>['https://images-na.ssl-images-amazon.com/imag...</td>\n      <td>$17.32</td>\n      <td>7245456313</td>\n      <td>4.0</td>\n      <td>AYMDRRCOPKTCF</td>\n      <td>four star product arriv prompt describ</td>\n      <td>black mountain</td>\n      <td>black mountain product resist band set door an...</td>\n    </tr>\n    <tr>\n      <th>2</th>\n      <td>NaN</td>\n      <td>Black Mountain Products Resistance Band Set wi...</td>\n      <td>['1612431712', 'B01AVDVHTI', 'B002YQUP7Q', 'B0...</td>\n      <td>['https://images-na.ssl-images-amazon.com/imag...</td>\n      <td>$17.32</td>\n      <td>7245456313</td>\n      <td>4.0</td>\n      <td>A3AX86YSUHLELL</td>\n      <td>great resist band top qualiti okay resist band...</td>\n      <td>black mountain</td>\n      <td>black mountain product resist band set door an...</td>\n    </tr>\n    <tr>\n      <th>3</th>\n      <td>NaN</td>\n      <td>Black Mountain Products Resistance Band Set wi...</td>\n      <td>['1612431712', 'B01AVDVHTI', 'B002YQUP7Q', 'B0...</td>\n      <td>['https://images-na.ssl-images-amazon.com/imag...</td>\n      <td>$17.32</td>\n      <td>7245456313</td>\n      <td>5.0</td>\n      <td>A12MJJT1RL2S7K</td>\n      <td>perfect transport resist band perfect cross fi...</td>\n      <td>black mountain</td>\n      <td>black mountain product resist band set door an...</td>\n    </tr>\n    <tr>\n      <th>4</th>\n      <td>NaN</td>\n      <td>Black Mountain Products Resistance Band Set wi...</td>\n      <td>['1612431712', 'B01AVDVHTI', 'B002YQUP7Q', 'B0...</td>\n      <td>['https://images-na.ssl-images-amazon.com/imag...</td>\n      <td>$17.32</td>\n      <td>7245456313</td>\n      <td>5.0</td>\n      <td>A33BKACRGR3H38</td>\n      <td>awesom great band crosstrain dont like lift gy...</td>\n      <td>black mountain</td>\n      <td>black mountain product resist band set door an...</td>\n    </tr>\n  </tbody>\n</table>\n</div>"
     },
     "metadata": {},
     "execution_count": 7
    }
   ],
   "source": [
    "df_all_15.head(5)"
   ]
  },
  {
   "cell_type": "code",
   "execution_count": 8,
   "metadata": {},
   "outputs": [
    {
     "output_type": "execute_result",
     "data": {
      "text/plain": "(227509, 11)"
     },
     "metadata": {},
     "execution_count": 8
    }
   ],
   "source": [
    "df_all_15.shape"
   ]
  },
  {
   "cell_type": "code",
   "execution_count": 9,
   "metadata": {},
   "outputs": [
    {
     "output_type": "execute_result",
     "data": {
      "text/plain": "Index(['fit', 'title', 'also_buy', 'image_x', 'price', 'asin', 'overall',\n       'reviewerID', 'reviewText', 'item_text', 'title_nlp'],\n      dtype='object')"
     },
     "metadata": {},
     "execution_count": 9
    }
   ],
   "source": [
    "df_all_15.columns"
   ]
  },
  {
   "cell_type": "code",
   "execution_count": 10,
   "metadata": {},
   "outputs": [],
   "source": [
    "df_collab = df_all_15[['reviewerID',\"asin\",\"overall\"]]"
   ]
  },
  {
   "cell_type": "code",
   "execution_count": 11,
   "metadata": {},
   "outputs": [
    {
     "output_type": "execute_result",
     "data": {
      "text/plain": "       reviewerID        asin  overall\n0  A1J5VYG8O0YEMB  7245456313      5.0\n1   AYMDRRCOPKTCF  7245456313      4.0\n2  A3AX86YSUHLELL  7245456313      4.0\n3  A12MJJT1RL2S7K  7245456313      5.0\n4  A33BKACRGR3H38  7245456313      5.0",
      "text/html": "<div>\n<style scoped>\n    .dataframe tbody tr th:only-of-type {\n        vertical-align: middle;\n    }\n\n    .dataframe tbody tr th {\n        vertical-align: top;\n    }\n\n    .dataframe thead th {\n        text-align: right;\n    }\n</style>\n<table border=\"1\" class=\"dataframe\">\n  <thead>\n    <tr style=\"text-align: right;\">\n      <th></th>\n      <th>reviewerID</th>\n      <th>asin</th>\n      <th>overall</th>\n    </tr>\n  </thead>\n  <tbody>\n    <tr>\n      <th>0</th>\n      <td>A1J5VYG8O0YEMB</td>\n      <td>7245456313</td>\n      <td>5.0</td>\n    </tr>\n    <tr>\n      <th>1</th>\n      <td>AYMDRRCOPKTCF</td>\n      <td>7245456313</td>\n      <td>4.0</td>\n    </tr>\n    <tr>\n      <th>2</th>\n      <td>A3AX86YSUHLELL</td>\n      <td>7245456313</td>\n      <td>4.0</td>\n    </tr>\n    <tr>\n      <th>3</th>\n      <td>A12MJJT1RL2S7K</td>\n      <td>7245456313</td>\n      <td>5.0</td>\n    </tr>\n    <tr>\n      <th>4</th>\n      <td>A33BKACRGR3H38</td>\n      <td>7245456313</td>\n      <td>5.0</td>\n    </tr>\n  </tbody>\n</table>\n</div>"
     },
     "metadata": {},
     "execution_count": 11
    }
   ],
   "source": [
    "df_collab.head()"
   ]
  },
  {
   "cell_type": "code",
   "execution_count": 12,
   "metadata": {},
   "outputs": [
    {
     "output_type": "execute_result",
     "data": {
      "text/plain": "(227509, 3)"
     },
     "metadata": {},
     "execution_count": 12
    }
   ],
   "source": [
    "df_collab.shape"
   ]
  },
  {
   "source": [
    "## Using surprise to develop a collaborative filter (NMF based method)"
   ],
   "cell_type": "markdown",
   "metadata": {}
  },
  {
   "cell_type": "code",
   "execution_count": 13,
   "metadata": {},
   "outputs": [],
   "source": [
    "reader = surprise.Reader(rating_scale=(1,5))\n",
    "recom = CollaborativeRecommender(df_collab,reader,NMF)"
   ]
  },
  {
   "source": [
    "Use grid search to find the best paramaters for the model"
   ],
   "cell_type": "markdown",
   "metadata": {}
  },
  {
   "cell_type": "code",
   "execution_count": 15,
   "metadata": {},
   "outputs": [],
   "source": [
    "param_grid = {'n_factors': [8,15,23,30,37,42], 'n_epochs': [10, 50, 70]}\n",
    "recom.grid(param_grid,cv=3)\n",
    "recom.fit()\n"
   ]
  },
  {
   "source": [
    "Accuracy for the best model and predictions"
   ],
   "cell_type": "markdown",
   "metadata": {}
  },
  {
   "cell_type": "code",
   "execution_count": 17,
   "metadata": {
    "tags": []
   },
   "outputs": [
    {
     "output_type": "stream",
     "name": "stdout",
     "text": "RMSE: 0.3959\naccuracy of the best model: 0.3959284557005485\n"
    }
   ],
   "source": [
    "df_pred, acc = recom.pred()\n",
    "\n",
    "print(f'accuracy of the best model: {acc}')"
   ]
  },
  {
   "source": [
    "Prediction matrix"
   ],
   "cell_type": "markdown",
   "metadata": {}
  },
  {
   "cell_type": "code",
   "execution_count": 18,
   "metadata": {},
   "outputs": [
    {
     "output_type": "execute_result",
     "data": {
      "text/plain": "                   uid         iid  r_ui       est                    details  \\\n0       A1J5VYG8O0YEMB  7245456313   5.0  5.000000  {'was_impossible': False}   \n1       A1J5VYG8O0YEMB  B001RWUZ0U   4.0  4.558899  {'was_impossible': False}   \n2       A1J5VYG8O0YEMB  B004RDP2I6   4.0  4.454279  {'was_impossible': False}   \n3       A1J5VYG8O0YEMB  B00MAJKX9M   5.0  5.000000  {'was_impossible': False}   \n4       A1J5VYG8O0YEMB  B00TOKD51S   4.0  4.540833  {'was_impossible': False}   \n...                ...         ...   ...       ...                        ...   \n227504  A2N7AV15HVN942  B01G81DGH8   4.0  4.482234  {'was_impossible': False}   \n227505  A2WTSMH8S7BEFZ  B01GA3N9MQ   4.0  4.478469  {'was_impossible': False}   \n227506  A2YV0C9IG1KBMQ  B01GPXBOVY   5.0  5.000000  {'was_impossible': False}   \n227507  A2J8289OOT5DE4  B01H8CZ91M   4.0  4.483062  {'was_impossible': False}   \n227508  A300QB98FO5UBO  B01H8CZ91M   5.0  5.000000  {'was_impossible': False}   \n\n             err  Iu   Ui  \n0       0.000000   5  176  \n1       0.558899   5   60  \n2       0.454279   5   19  \n3       0.000000   5   62  \n4       0.540833   5   32  \n...          ...  ..  ...  \n227504  0.482234   1    8  \n227505  0.478469   1   62  \n227506  0.000000   1   32  \n227507  0.483062   1   66  \n227508  0.000000   1   66  \n\n[227509 rows x 8 columns]",
      "text/html": "<div>\n<style scoped>\n    .dataframe tbody tr th:only-of-type {\n        vertical-align: middle;\n    }\n\n    .dataframe tbody tr th {\n        vertical-align: top;\n    }\n\n    .dataframe thead th {\n        text-align: right;\n    }\n</style>\n<table border=\"1\" class=\"dataframe\">\n  <thead>\n    <tr style=\"text-align: right;\">\n      <th></th>\n      <th>uid</th>\n      <th>iid</th>\n      <th>r_ui</th>\n      <th>est</th>\n      <th>details</th>\n      <th>err</th>\n      <th>Iu</th>\n      <th>Ui</th>\n    </tr>\n  </thead>\n  <tbody>\n    <tr>\n      <th>0</th>\n      <td>A1J5VYG8O0YEMB</td>\n      <td>7245456313</td>\n      <td>5.0</td>\n      <td>5.000000</td>\n      <td>{'was_impossible': False}</td>\n      <td>0.000000</td>\n      <td>5</td>\n      <td>176</td>\n    </tr>\n    <tr>\n      <th>1</th>\n      <td>A1J5VYG8O0YEMB</td>\n      <td>B001RWUZ0U</td>\n      <td>4.0</td>\n      <td>4.558899</td>\n      <td>{'was_impossible': False}</td>\n      <td>0.558899</td>\n      <td>5</td>\n      <td>60</td>\n    </tr>\n    <tr>\n      <th>2</th>\n      <td>A1J5VYG8O0YEMB</td>\n      <td>B004RDP2I6</td>\n      <td>4.0</td>\n      <td>4.454279</td>\n      <td>{'was_impossible': False}</td>\n      <td>0.454279</td>\n      <td>5</td>\n      <td>19</td>\n    </tr>\n    <tr>\n      <th>3</th>\n      <td>A1J5VYG8O0YEMB</td>\n      <td>B00MAJKX9M</td>\n      <td>5.0</td>\n      <td>5.000000</td>\n      <td>{'was_impossible': False}</td>\n      <td>0.000000</td>\n      <td>5</td>\n      <td>62</td>\n    </tr>\n    <tr>\n      <th>4</th>\n      <td>A1J5VYG8O0YEMB</td>\n      <td>B00TOKD51S</td>\n      <td>4.0</td>\n      <td>4.540833</td>\n      <td>{'was_impossible': False}</td>\n      <td>0.540833</td>\n      <td>5</td>\n      <td>32</td>\n    </tr>\n    <tr>\n      <th>...</th>\n      <td>...</td>\n      <td>...</td>\n      <td>...</td>\n      <td>...</td>\n      <td>...</td>\n      <td>...</td>\n      <td>...</td>\n      <td>...</td>\n    </tr>\n    <tr>\n      <th>227504</th>\n      <td>A2N7AV15HVN942</td>\n      <td>B01G81DGH8</td>\n      <td>4.0</td>\n      <td>4.482234</td>\n      <td>{'was_impossible': False}</td>\n      <td>0.482234</td>\n      <td>1</td>\n      <td>8</td>\n    </tr>\n    <tr>\n      <th>227505</th>\n      <td>A2WTSMH8S7BEFZ</td>\n      <td>B01GA3N9MQ</td>\n      <td>4.0</td>\n      <td>4.478469</td>\n      <td>{'was_impossible': False}</td>\n      <td>0.478469</td>\n      <td>1</td>\n      <td>62</td>\n    </tr>\n    <tr>\n      <th>227506</th>\n      <td>A2YV0C9IG1KBMQ</td>\n      <td>B01GPXBOVY</td>\n      <td>5.0</td>\n      <td>5.000000</td>\n      <td>{'was_impossible': False}</td>\n      <td>0.000000</td>\n      <td>1</td>\n      <td>32</td>\n    </tr>\n    <tr>\n      <th>227507</th>\n      <td>A2J8289OOT5DE4</td>\n      <td>B01H8CZ91M</td>\n      <td>4.0</td>\n      <td>4.483062</td>\n      <td>{'was_impossible': False}</td>\n      <td>0.483062</td>\n      <td>1</td>\n      <td>66</td>\n    </tr>\n    <tr>\n      <th>227508</th>\n      <td>A300QB98FO5UBO</td>\n      <td>B01H8CZ91M</td>\n      <td>5.0</td>\n      <td>5.000000</td>\n      <td>{'was_impossible': False}</td>\n      <td>0.000000</td>\n      <td>1</td>\n      <td>66</td>\n    </tr>\n  </tbody>\n</table>\n<p>227509 rows × 8 columns</p>\n</div>"
     },
     "metadata": {},
     "execution_count": 18
    }
   ],
   "source": [
    "df_pred['Iu'] = df_pred.uid.apply(recom.get_Iu)\n",
    "df_pred['Ui'] = df_pred.iid.apply(recom.get_Ui)\n",
    "df_pred"
   ]
  },
  {
   "source": [
    "Utility Matrix"
   ],
   "cell_type": "markdown",
   "metadata": {}
  },
  {
   "cell_type": "code",
   "execution_count": 19,
   "metadata": {},
   "outputs": [
    {
     "output_type": "execute_result",
     "data": {
      "text/plain": "iid                   7245456275  7245456313  B00003G4JR  B00004NKIQ  \\\nuid                                                                    \nA0029274J35Q1MYNKUWO         NaN         NaN         NaN         NaN   \nA0098869QS7I6WOAODWI         NaN         NaN         NaN         NaN   \nA0289048PRWFY7ZXQKCD         NaN         NaN         NaN         NaN   \nA0418008MEWDDIUPHXP7         NaN         NaN         NaN         NaN   \nA0464351OZXPUPKGI6HO         NaN         NaN         NaN         NaN   \n...                          ...         ...         ...         ...   \nAZZ2W9JD10R3H                NaN         NaN         NaN         NaN   \nAZZCSO2MC725N                NaN         NaN         NaN         NaN   \nAZZG39P6RDCHL                NaN         NaN         NaN         NaN   \nAZZKYP9254H32                NaN         NaN         NaN         NaN   \nAZZYI1EW1WY3M                NaN         NaN         NaN         NaN   \n\niid                   B00004SYN6  B00004T11T  B00004TBLW  B00004YTPE  \\\nuid                                                                    \nA0029274J35Q1MYNKUWO         NaN         NaN         NaN         NaN   \nA0098869QS7I6WOAODWI         NaN         NaN         NaN         NaN   \nA0289048PRWFY7ZXQKCD         NaN         NaN         NaN         NaN   \nA0418008MEWDDIUPHXP7         NaN         NaN         NaN         NaN   \nA0464351OZXPUPKGI6HO         NaN         NaN         NaN         NaN   \n...                          ...         ...         ...         ...   \nAZZ2W9JD10R3H                NaN         NaN         NaN         NaN   \nAZZCSO2MC725N                NaN         NaN         NaN         NaN   \nAZZG39P6RDCHL                NaN         NaN         NaN         NaN   \nAZZKYP9254H32                NaN         NaN         NaN         NaN   \nAZZYI1EW1WY3M                NaN         NaN         NaN         NaN   \n\niid                   B000051ZHS  B0000568SY  ...  B01HAGT6G0  B01HBACO4G  \\\nuid                                           ...                           \nA0029274J35Q1MYNKUWO         NaN         NaN  ...         NaN         NaN   \nA0098869QS7I6WOAODWI         NaN         NaN  ...         NaN         NaN   \nA0289048PRWFY7ZXQKCD         NaN         NaN  ...         NaN         NaN   \nA0418008MEWDDIUPHXP7         NaN         NaN  ...         NaN         NaN   \nA0464351OZXPUPKGI6HO         NaN         NaN  ...         NaN         NaN   \n...                          ...         ...  ...         ...         ...   \nAZZ2W9JD10R3H                NaN         NaN  ...         NaN         NaN   \nAZZCSO2MC725N                NaN         NaN  ...         NaN         NaN   \nAZZG39P6RDCHL                NaN         NaN  ...         NaN         NaN   \nAZZKYP9254H32                NaN         NaN  ...         NaN         NaN   \nAZZYI1EW1WY3M                NaN         NaN  ...         NaN         NaN   \n\niid                   B01HBPL78K  B01HCI0I6S  B01HCKR9ZE  B01HCU3NTU  \\\nuid                                                                    \nA0029274J35Q1MYNKUWO         NaN         NaN         NaN         NaN   \nA0098869QS7I6WOAODWI         NaN         NaN         NaN         NaN   \nA0289048PRWFY7ZXQKCD         NaN         NaN         NaN         NaN   \nA0418008MEWDDIUPHXP7         5.0         NaN         NaN         NaN   \nA0464351OZXPUPKGI6HO         NaN         NaN         NaN         NaN   \n...                          ...         ...         ...         ...   \nAZZ2W9JD10R3H                NaN         NaN         NaN         NaN   \nAZZCSO2MC725N                NaN         NaN         NaN         NaN   \nAZZG39P6RDCHL                NaN         NaN         NaN         NaN   \nAZZKYP9254H32                NaN         NaN         NaN         NaN   \nAZZYI1EW1WY3M                NaN         NaN         NaN         NaN   \n\niid                   B01HD17S3A  B01HE0PMFQ  B01HEYYKLO  B01HHB2HK0  \nuid                                                                   \nA0029274J35Q1MYNKUWO         NaN         NaN         NaN         NaN  \nA0098869QS7I6WOAODWI         NaN         NaN         NaN         NaN  \nA0289048PRWFY7ZXQKCD         NaN         NaN         NaN         NaN  \nA0418008MEWDDIUPHXP7         NaN         NaN         NaN         NaN  \nA0464351OZXPUPKGI6HO         NaN         NaN         NaN         NaN  \n...                          ...         ...         ...         ...  \nAZZ2W9JD10R3H                NaN         NaN         NaN         NaN  \nAZZCSO2MC725N                NaN         NaN         NaN         NaN  \nAZZG39P6RDCHL                NaN         NaN         NaN         NaN  \nAZZKYP9254H32                NaN         NaN         NaN         NaN  \nAZZYI1EW1WY3M                NaN         NaN         NaN         NaN  \n\n[29419 rows x 7119 columns]",
      "text/html": "<div>\n<style scoped>\n    .dataframe tbody tr th:only-of-type {\n        vertical-align: middle;\n    }\n\n    .dataframe tbody tr th {\n        vertical-align: top;\n    }\n\n    .dataframe thead th {\n        text-align: right;\n    }\n</style>\n<table border=\"1\" class=\"dataframe\">\n  <thead>\n    <tr style=\"text-align: right;\">\n      <th>iid</th>\n      <th>7245456275</th>\n      <th>7245456313</th>\n      <th>B00003G4JR</th>\n      <th>B00004NKIQ</th>\n      <th>B00004SYN6</th>\n      <th>B00004T11T</th>\n      <th>B00004TBLW</th>\n      <th>B00004YTPE</th>\n      <th>B000051ZHS</th>\n      <th>B0000568SY</th>\n      <th>...</th>\n      <th>B01HAGT6G0</th>\n      <th>B01HBACO4G</th>\n      <th>B01HBPL78K</th>\n      <th>B01HCI0I6S</th>\n      <th>B01HCKR9ZE</th>\n      <th>B01HCU3NTU</th>\n      <th>B01HD17S3A</th>\n      <th>B01HE0PMFQ</th>\n      <th>B01HEYYKLO</th>\n      <th>B01HHB2HK0</th>\n    </tr>\n    <tr>\n      <th>uid</th>\n      <th></th>\n      <th></th>\n      <th></th>\n      <th></th>\n      <th></th>\n      <th></th>\n      <th></th>\n      <th></th>\n      <th></th>\n      <th></th>\n      <th></th>\n      <th></th>\n      <th></th>\n      <th></th>\n      <th></th>\n      <th></th>\n      <th></th>\n      <th></th>\n      <th></th>\n      <th></th>\n      <th></th>\n    </tr>\n  </thead>\n  <tbody>\n    <tr>\n      <th>A0029274J35Q1MYNKUWO</th>\n      <td>NaN</td>\n      <td>NaN</td>\n      <td>NaN</td>\n      <td>NaN</td>\n      <td>NaN</td>\n      <td>NaN</td>\n      <td>NaN</td>\n      <td>NaN</td>\n      <td>NaN</td>\n      <td>NaN</td>\n      <td>...</td>\n      <td>NaN</td>\n      <td>NaN</td>\n      <td>NaN</td>\n      <td>NaN</td>\n      <td>NaN</td>\n      <td>NaN</td>\n      <td>NaN</td>\n      <td>NaN</td>\n      <td>NaN</td>\n      <td>NaN</td>\n    </tr>\n    <tr>\n      <th>A0098869QS7I6WOAODWI</th>\n      <td>NaN</td>\n      <td>NaN</td>\n      <td>NaN</td>\n      <td>NaN</td>\n      <td>NaN</td>\n      <td>NaN</td>\n      <td>NaN</td>\n      <td>NaN</td>\n      <td>NaN</td>\n      <td>NaN</td>\n      <td>...</td>\n      <td>NaN</td>\n      <td>NaN</td>\n      <td>NaN</td>\n      <td>NaN</td>\n      <td>NaN</td>\n      <td>NaN</td>\n      <td>NaN</td>\n      <td>NaN</td>\n      <td>NaN</td>\n      <td>NaN</td>\n    </tr>\n    <tr>\n      <th>A0289048PRWFY7ZXQKCD</th>\n      <td>NaN</td>\n      <td>NaN</td>\n      <td>NaN</td>\n      <td>NaN</td>\n      <td>NaN</td>\n      <td>NaN</td>\n      <td>NaN</td>\n      <td>NaN</td>\n      <td>NaN</td>\n      <td>NaN</td>\n      <td>...</td>\n      <td>NaN</td>\n      <td>NaN</td>\n      <td>NaN</td>\n      <td>NaN</td>\n      <td>NaN</td>\n      <td>NaN</td>\n      <td>NaN</td>\n      <td>NaN</td>\n      <td>NaN</td>\n      <td>NaN</td>\n    </tr>\n    <tr>\n      <th>A0418008MEWDDIUPHXP7</th>\n      <td>NaN</td>\n      <td>NaN</td>\n      <td>NaN</td>\n      <td>NaN</td>\n      <td>NaN</td>\n      <td>NaN</td>\n      <td>NaN</td>\n      <td>NaN</td>\n      <td>NaN</td>\n      <td>NaN</td>\n      <td>...</td>\n      <td>NaN</td>\n      <td>NaN</td>\n      <td>5.0</td>\n      <td>NaN</td>\n      <td>NaN</td>\n      <td>NaN</td>\n      <td>NaN</td>\n      <td>NaN</td>\n      <td>NaN</td>\n      <td>NaN</td>\n    </tr>\n    <tr>\n      <th>A0464351OZXPUPKGI6HO</th>\n      <td>NaN</td>\n      <td>NaN</td>\n      <td>NaN</td>\n      <td>NaN</td>\n      <td>NaN</td>\n      <td>NaN</td>\n      <td>NaN</td>\n      <td>NaN</td>\n      <td>NaN</td>\n      <td>NaN</td>\n      <td>...</td>\n      <td>NaN</td>\n      <td>NaN</td>\n      <td>NaN</td>\n      <td>NaN</td>\n      <td>NaN</td>\n      <td>NaN</td>\n      <td>NaN</td>\n      <td>NaN</td>\n      <td>NaN</td>\n      <td>NaN</td>\n    </tr>\n    <tr>\n      <th>...</th>\n      <td>...</td>\n      <td>...</td>\n      <td>...</td>\n      <td>...</td>\n      <td>...</td>\n      <td>...</td>\n      <td>...</td>\n      <td>...</td>\n      <td>...</td>\n      <td>...</td>\n      <td>...</td>\n      <td>...</td>\n      <td>...</td>\n      <td>...</td>\n      <td>...</td>\n      <td>...</td>\n      <td>...</td>\n      <td>...</td>\n      <td>...</td>\n      <td>...</td>\n      <td>...</td>\n    </tr>\n    <tr>\n      <th>AZZ2W9JD10R3H</th>\n      <td>NaN</td>\n      <td>NaN</td>\n      <td>NaN</td>\n      <td>NaN</td>\n      <td>NaN</td>\n      <td>NaN</td>\n      <td>NaN</td>\n      <td>NaN</td>\n      <td>NaN</td>\n      <td>NaN</td>\n      <td>...</td>\n      <td>NaN</td>\n      <td>NaN</td>\n      <td>NaN</td>\n      <td>NaN</td>\n      <td>NaN</td>\n      <td>NaN</td>\n      <td>NaN</td>\n      <td>NaN</td>\n      <td>NaN</td>\n      <td>NaN</td>\n    </tr>\n    <tr>\n      <th>AZZCSO2MC725N</th>\n      <td>NaN</td>\n      <td>NaN</td>\n      <td>NaN</td>\n      <td>NaN</td>\n      <td>NaN</td>\n      <td>NaN</td>\n      <td>NaN</td>\n      <td>NaN</td>\n      <td>NaN</td>\n      <td>NaN</td>\n      <td>...</td>\n      <td>NaN</td>\n      <td>NaN</td>\n      <td>NaN</td>\n      <td>NaN</td>\n      <td>NaN</td>\n      <td>NaN</td>\n      <td>NaN</td>\n      <td>NaN</td>\n      <td>NaN</td>\n      <td>NaN</td>\n    </tr>\n    <tr>\n      <th>AZZG39P6RDCHL</th>\n      <td>NaN</td>\n      <td>NaN</td>\n      <td>NaN</td>\n      <td>NaN</td>\n      <td>NaN</td>\n      <td>NaN</td>\n      <td>NaN</td>\n      <td>NaN</td>\n      <td>NaN</td>\n      <td>NaN</td>\n      <td>...</td>\n      <td>NaN</td>\n      <td>NaN</td>\n      <td>NaN</td>\n      <td>NaN</td>\n      <td>NaN</td>\n      <td>NaN</td>\n      <td>NaN</td>\n      <td>NaN</td>\n      <td>NaN</td>\n      <td>NaN</td>\n    </tr>\n    <tr>\n      <th>AZZKYP9254H32</th>\n      <td>NaN</td>\n      <td>NaN</td>\n      <td>NaN</td>\n      <td>NaN</td>\n      <td>NaN</td>\n      <td>NaN</td>\n      <td>NaN</td>\n      <td>NaN</td>\n      <td>NaN</td>\n      <td>NaN</td>\n      <td>...</td>\n      <td>NaN</td>\n      <td>NaN</td>\n      <td>NaN</td>\n      <td>NaN</td>\n      <td>NaN</td>\n      <td>NaN</td>\n      <td>NaN</td>\n      <td>NaN</td>\n      <td>NaN</td>\n      <td>NaN</td>\n    </tr>\n    <tr>\n      <th>AZZYI1EW1WY3M</th>\n      <td>NaN</td>\n      <td>NaN</td>\n      <td>NaN</td>\n      <td>NaN</td>\n      <td>NaN</td>\n      <td>NaN</td>\n      <td>NaN</td>\n      <td>NaN</td>\n      <td>NaN</td>\n      <td>NaN</td>\n      <td>...</td>\n      <td>NaN</td>\n      <td>NaN</td>\n      <td>NaN</td>\n      <td>NaN</td>\n      <td>NaN</td>\n      <td>NaN</td>\n      <td>NaN</td>\n      <td>NaN</td>\n      <td>NaN</td>\n      <td>NaN</td>\n    </tr>\n  </tbody>\n</table>\n<p>29419 rows × 7119 columns</p>\n</div>"
     },
     "metadata": {},
     "execution_count": 19
    }
   ],
   "source": [
    "UM = recom.utility_matrix()\n",
    "UM"
   ]
  },
  {
   "source": [
    "Get top n items for a given user"
   ],
   "cell_type": "markdown",
   "metadata": {}
  },
  {
   "cell_type": "code",
   "execution_count": 20,
   "metadata": {
    "tags": []
   },
   "outputs": [
    {
     "output_type": "execute_result",
     "data": {
      "text/plain": "            predicted_rating\niid                         \nB000P3WQ86          5.000000\nB001ASUH4A          5.000000\nB004TBMUMM          5.000000\nB00AT6HZGM          5.000000\nB00GU3K5AQ          5.000000\nB00I77PNUA          5.000000\nB00QBLAQCE          5.000000\nB01D8WEH14          2.435884\n7245456275               NaN\n7245456313               NaN",
      "text/html": "<div>\n<style scoped>\n    .dataframe tbody tr th:only-of-type {\n        vertical-align: middle;\n    }\n\n    .dataframe tbody tr th {\n        vertical-align: top;\n    }\n\n    .dataframe thead th {\n        text-align: right;\n    }\n</style>\n<table border=\"1\" class=\"dataframe\">\n  <thead>\n    <tr style=\"text-align: right;\">\n      <th></th>\n      <th>predicted_rating</th>\n    </tr>\n    <tr>\n      <th>iid</th>\n      <th></th>\n    </tr>\n  </thead>\n  <tbody>\n    <tr>\n      <th>B000P3WQ86</th>\n      <td>5.000000</td>\n    </tr>\n    <tr>\n      <th>B001ASUH4A</th>\n      <td>5.000000</td>\n    </tr>\n    <tr>\n      <th>B004TBMUMM</th>\n      <td>5.000000</td>\n    </tr>\n    <tr>\n      <th>B00AT6HZGM</th>\n      <td>5.000000</td>\n    </tr>\n    <tr>\n      <th>B00GU3K5AQ</th>\n      <td>5.000000</td>\n    </tr>\n    <tr>\n      <th>B00I77PNUA</th>\n      <td>5.000000</td>\n    </tr>\n    <tr>\n      <th>B00QBLAQCE</th>\n      <td>5.000000</td>\n    </tr>\n    <tr>\n      <th>B01D8WEH14</th>\n      <td>2.435884</td>\n    </tr>\n    <tr>\n      <th>7245456275</th>\n      <td>NaN</td>\n    </tr>\n    <tr>\n      <th>7245456313</th>\n      <td>NaN</td>\n    </tr>\n  </tbody>\n</table>\n</div>"
     },
     "metadata": {},
     "execution_count": 20
    }
   ],
   "source": [
    "UI = \"AZZG39P6RDCHL\"\n",
    "recom.get_top_n(UI)"
   ]
  },
  {
   "source": [
    "## Pickle the collaborative recommender"
   ],
   "cell_type": "markdown",
   "metadata": {}
  },
  {
   "cell_type": "code",
   "execution_count": 27,
   "metadata": {},
   "outputs": [],
   "source": [
    "with open('../../data/recom_colab.pkl', 'wb') as f:\n",
    "    pickle.dump(recom, f)"
   ]
  },
  {
   "cell_type": "code",
   "execution_count": 28,
   "metadata": {
    "tags": []
   },
   "outputs": [
    {
     "output_type": "stream",
     "name": "stdout",
     "text": "recom_colab.pkl\n"
    }
   ],
   "source": [
    "ls ../../data\n"
   ]
  },
  {
   "cell_type": "code",
   "execution_count": 29,
   "metadata": {},
   "outputs": [],
   "source": [
    "remote_file_name = 'recom_colab.pkl'\n",
    "local_file_name = '../../data/recom_colab.pkl'\n",
    "bucket_name = 'recommender-system-amazon'\n",
    "\n",
    "s3.upload_file(Filename=local_file_name, \n",
    "               Bucket=bucket_name, \n",
    "               Key=remote_file_name)"
   ]
  },
  {
   "cell_type": "code",
   "execution_count": null,
   "metadata": {},
   "outputs": [],
   "source": []
  }
 ]
}