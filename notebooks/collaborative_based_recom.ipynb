{
 "metadata": {
  "language_info": {
   "codemirror_mode": {
    "name": "ipython",
    "version": 3
   },
   "file_extension": ".py",
   "mimetype": "text/x-python",
   "name": "python",
   "nbconvert_exporter": "python",
   "pygments_lexer": "ipython3",
   "version": "3.7.6-final"
  },
  "orig_nbformat": 2,
  "kernelspec": {
   "name": "python_defaultSpec_1600550334513",
   "display_name": "Python 3.7.6 64-bit ('base': conda)"
  }
 },
 "nbformat": 4,
 "nbformat_minor": 2,
 "cells": [
  {
   "cell_type": "code",
   "execution_count": 3,
   "metadata": {
    "tags": []
   },
   "outputs": [],
   "source": [
    "import boto3\n",
    "import pandas as pd\n",
    "import numpy as np\n",
    "import sys\n",
    "from io import StringIO\n",
    "import surprise\n",
    "from surprise import accuracy\n",
    "from sklearn.model_selection import train_test_split\n",
    "from surprise import SVD, NMF"
   ]
  },
  {
   "cell_type": "code",
   "execution_count": 4,
   "metadata": {},
   "outputs": [],
   "source": [
    "sys.path.insert(1, '../src')\n",
    "from Collaborative_recommender import CollaborativeRecommender"
   ]
  },
  {
   "cell_type": "code",
   "execution_count": 5,
   "metadata": {
    "tags": []
   },
   "outputs": [],
   "source": [
    "%load_ext autoreload\n",
    "%autoreload 2"
   ]
  },
  {
   "cell_type": "code",
   "execution_count": 6,
   "metadata": {
    "tags": []
   },
   "outputs": [],
   "source": [
    "%reload_ext autoreload"
   ]
  },
  {
   "cell_type": "code",
   "execution_count": 7,
   "metadata": {},
   "outputs": [],
   "source": [
    "s3 = boto3.client('s3')"
   ]
  },
  {
   "cell_type": "code",
   "execution_count": 8,
   "metadata": {},
   "outputs": [],
   "source": [
    "df_all_15 = pd.read_csv(\"s3://recommender-system-amazon/df_all_15_text.csv\")"
   ]
  },
  {
   "cell_type": "code",
   "execution_count": 9,
   "metadata": {},
   "outputs": [
    {
     "output_type": "execute_result",
     "data": {
      "text/plain": "   Unnamed: 0  fit                                              title  \\\n0           0  NaN  Black Mountain Products Resistance Band Set wi...   \n1           1  NaN  Black Mountain Products Resistance Band Set wi...   \n2           2  NaN  Black Mountain Products Resistance Band Set wi...   \n3           3  NaN  Black Mountain Products Resistance Band Set wi...   \n4           4  NaN  Black Mountain Products Resistance Band Set wi...   \n\n                                            also_buy  \\\n0  ['1612431712', 'B01AVDVHTI', 'B002YQUP7Q', 'B0...   \n1  ['1612431712', 'B01AVDVHTI', 'B002YQUP7Q', 'B0...   \n2  ['1612431712', 'B01AVDVHTI', 'B002YQUP7Q', 'B0...   \n3  ['1612431712', 'B01AVDVHTI', 'B002YQUP7Q', 'B0...   \n4  ['1612431712', 'B01AVDVHTI', 'B002YQUP7Q', 'B0...   \n\n                                             image_x   price        asin  \\\n0  ['https://images-na.ssl-images-amazon.com/imag...  $17.32  7245456313   \n1  ['https://images-na.ssl-images-amazon.com/imag...  $17.32  7245456313   \n2  ['https://images-na.ssl-images-amazon.com/imag...  $17.32  7245456313   \n3  ['https://images-na.ssl-images-amazon.com/imag...  $17.32  7245456313   \n4  ['https://images-na.ssl-images-amazon.com/imag...  $17.32  7245456313   \n\n   overall      reviewerID                                         reviewText  \\\n0      5.0  A1J5VYG8O0YEMB                        work advertis work advertis   \n1      4.0   AYMDRRCOPKTCF             four star product arriv prompt describ   \n2      4.0  A3AX86YSUHLELL  great resist band top qualiti okay resist band...   \n3      5.0  A12MJJT1RL2S7K  perfect transport resist band perfect cross fi...   \n4      5.0  A33BKACRGR3H38  awesom great band crosstrain dont like lift gy...   \n\n        item_text                                          title_nlp  \n0  black mountain  black mountain product resist band set door an...  \n1  black mountain  black mountain product resist band set door an...  \n2  black mountain  black mountain product resist band set door an...  \n3  black mountain  black mountain product resist band set door an...  \n4  black mountain  black mountain product resist band set door an...  ",
      "text/html": "<div>\n<style scoped>\n    .dataframe tbody tr th:only-of-type {\n        vertical-align: middle;\n    }\n\n    .dataframe tbody tr th {\n        vertical-align: top;\n    }\n\n    .dataframe thead th {\n        text-align: right;\n    }\n</style>\n<table border=\"1\" class=\"dataframe\">\n  <thead>\n    <tr style=\"text-align: right;\">\n      <th></th>\n      <th>Unnamed: 0</th>\n      <th>fit</th>\n      <th>title</th>\n      <th>also_buy</th>\n      <th>image_x</th>\n      <th>price</th>\n      <th>asin</th>\n      <th>overall</th>\n      <th>reviewerID</th>\n      <th>reviewText</th>\n      <th>item_text</th>\n      <th>title_nlp</th>\n    </tr>\n  </thead>\n  <tbody>\n    <tr>\n      <th>0</th>\n      <td>0</td>\n      <td>NaN</td>\n      <td>Black Mountain Products Resistance Band Set wi...</td>\n      <td>['1612431712', 'B01AVDVHTI', 'B002YQUP7Q', 'B0...</td>\n      <td>['https://images-na.ssl-images-amazon.com/imag...</td>\n      <td>$17.32</td>\n      <td>7245456313</td>\n      <td>5.0</td>\n      <td>A1J5VYG8O0YEMB</td>\n      <td>work advertis work advertis</td>\n      <td>black mountain</td>\n      <td>black mountain product resist band set door an...</td>\n    </tr>\n    <tr>\n      <th>1</th>\n      <td>1</td>\n      <td>NaN</td>\n      <td>Black Mountain Products Resistance Band Set wi...</td>\n      <td>['1612431712', 'B01AVDVHTI', 'B002YQUP7Q', 'B0...</td>\n      <td>['https://images-na.ssl-images-amazon.com/imag...</td>\n      <td>$17.32</td>\n      <td>7245456313</td>\n      <td>4.0</td>\n      <td>AYMDRRCOPKTCF</td>\n      <td>four star product arriv prompt describ</td>\n      <td>black mountain</td>\n      <td>black mountain product resist band set door an...</td>\n    </tr>\n    <tr>\n      <th>2</th>\n      <td>2</td>\n      <td>NaN</td>\n      <td>Black Mountain Products Resistance Band Set wi...</td>\n      <td>['1612431712', 'B01AVDVHTI', 'B002YQUP7Q', 'B0...</td>\n      <td>['https://images-na.ssl-images-amazon.com/imag...</td>\n      <td>$17.32</td>\n      <td>7245456313</td>\n      <td>4.0</td>\n      <td>A3AX86YSUHLELL</td>\n      <td>great resist band top qualiti okay resist band...</td>\n      <td>black mountain</td>\n      <td>black mountain product resist band set door an...</td>\n    </tr>\n    <tr>\n      <th>3</th>\n      <td>3</td>\n      <td>NaN</td>\n      <td>Black Mountain Products Resistance Band Set wi...</td>\n      <td>['1612431712', 'B01AVDVHTI', 'B002YQUP7Q', 'B0...</td>\n      <td>['https://images-na.ssl-images-amazon.com/imag...</td>\n      <td>$17.32</td>\n      <td>7245456313</td>\n      <td>5.0</td>\n      <td>A12MJJT1RL2S7K</td>\n      <td>perfect transport resist band perfect cross fi...</td>\n      <td>black mountain</td>\n      <td>black mountain product resist band set door an...</td>\n    </tr>\n    <tr>\n      <th>4</th>\n      <td>4</td>\n      <td>NaN</td>\n      <td>Black Mountain Products Resistance Band Set wi...</td>\n      <td>['1612431712', 'B01AVDVHTI', 'B002YQUP7Q', 'B0...</td>\n      <td>['https://images-na.ssl-images-amazon.com/imag...</td>\n      <td>$17.32</td>\n      <td>7245456313</td>\n      <td>5.0</td>\n      <td>A33BKACRGR3H38</td>\n      <td>awesom great band crosstrain dont like lift gy...</td>\n      <td>black mountain</td>\n      <td>black mountain product resist band set door an...</td>\n    </tr>\n  </tbody>\n</table>\n</div>"
     },
     "metadata": {},
     "execution_count": 9
    }
   ],
   "source": [
    "df_all_15.head(5)"
   ]
  },
  {
   "cell_type": "code",
   "execution_count": 10,
   "metadata": {},
   "outputs": [
    {
     "output_type": "execute_result",
     "data": {
      "text/plain": "(227509, 12)"
     },
     "metadata": {},
     "execution_count": 10
    }
   ],
   "source": [
    "df_all_15.shape"
   ]
  },
  {
   "cell_type": "code",
   "execution_count": 11,
   "metadata": {},
   "outputs": [
    {
     "output_type": "execute_result",
     "data": {
      "text/plain": "Index(['Unnamed: 0', 'fit', 'title', 'also_buy', 'image_x', 'price', 'asin',\n       'overall', 'reviewerID', 'reviewText', 'item_text', 'title_nlp'],\n      dtype='object')"
     },
     "metadata": {},
     "execution_count": 11
    }
   ],
   "source": [
    "df_all_15.columns"
   ]
  },
  {
   "cell_type": "code",
   "execution_count": 12,
   "metadata": {},
   "outputs": [],
   "source": [
    "df_collab = df_all_15[['reviewerID',\"asin\",\"overall\"]]"
   ]
  },
  {
   "cell_type": "code",
   "execution_count": 13,
   "metadata": {},
   "outputs": [
    {
     "output_type": "execute_result",
     "data": {
      "text/plain": "       reviewerID        asin  overall\n0  A1J5VYG8O0YEMB  7245456313      5.0\n1   AYMDRRCOPKTCF  7245456313      4.0\n2  A3AX86YSUHLELL  7245456313      4.0\n3  A12MJJT1RL2S7K  7245456313      5.0\n4  A33BKACRGR3H38  7245456313      5.0",
      "text/html": "<div>\n<style scoped>\n    .dataframe tbody tr th:only-of-type {\n        vertical-align: middle;\n    }\n\n    .dataframe tbody tr th {\n        vertical-align: top;\n    }\n\n    .dataframe thead th {\n        text-align: right;\n    }\n</style>\n<table border=\"1\" class=\"dataframe\">\n  <thead>\n    <tr style=\"text-align: right;\">\n      <th></th>\n      <th>reviewerID</th>\n      <th>asin</th>\n      <th>overall</th>\n    </tr>\n  </thead>\n  <tbody>\n    <tr>\n      <th>0</th>\n      <td>A1J5VYG8O0YEMB</td>\n      <td>7245456313</td>\n      <td>5.0</td>\n    </tr>\n    <tr>\n      <th>1</th>\n      <td>AYMDRRCOPKTCF</td>\n      <td>7245456313</td>\n      <td>4.0</td>\n    </tr>\n    <tr>\n      <th>2</th>\n      <td>A3AX86YSUHLELL</td>\n      <td>7245456313</td>\n      <td>4.0</td>\n    </tr>\n    <tr>\n      <th>3</th>\n      <td>A12MJJT1RL2S7K</td>\n      <td>7245456313</td>\n      <td>5.0</td>\n    </tr>\n    <tr>\n      <th>4</th>\n      <td>A33BKACRGR3H38</td>\n      <td>7245456313</td>\n      <td>5.0</td>\n    </tr>\n  </tbody>\n</table>\n</div>"
     },
     "metadata": {},
     "execution_count": 13
    }
   ],
   "source": [
    "df_collab.head()"
   ]
  },
  {
   "cell_type": "code",
   "execution_count": 14,
   "metadata": {},
   "outputs": [
    {
     "output_type": "execute_result",
     "data": {
      "text/plain": "(227509, 3)"
     },
     "metadata": {},
     "execution_count": 14
    }
   ],
   "source": [
    "df_collab.shape"
   ]
  },
  {
   "cell_type": "code",
   "execution_count": 22,
   "metadata": {},
   "outputs": [],
   "source": [
    "UM = pd.pivot_table(df_collab,index='reviewerID', columns='asin', values='overall')"
   ]
  },
  {
   "cell_type": "code",
   "execution_count": null,
   "metadata": {},
   "outputs": [],
   "source": [
    "UM"
   ]
  },
  {
   "cell_type": "code",
   "execution_count": 44,
   "metadata": {},
   "outputs": [],
   "source": [
    "b = (~np.isnan(UM.values)).sum()"
   ]
  },
  {
   "cell_type": "code",
   "execution_count": 47,
   "metadata": {},
   "outputs": [
    {
     "output_type": "execute_result",
     "data": {
      "text/plain": "0.034218338461255854"
     },
     "metadata": {},
     "execution_count": 47
    }
   ],
   "source": [
    "b/(b+a)*100"
   ]
  },
  {
   "cell_type": "code",
   "execution_count": 18,
   "metadata": {},
   "outputs": [
    {
     "output_type": "execute_result",
     "data": {
      "text/plain": "             overall\ncount  227509.000000\nmean        4.474311\nstd         0.955971\nmin         1.000000\n25%         4.000000\n50%         5.000000\n75%         5.000000\nmax         5.000000",
      "text/html": "<div>\n<style scoped>\n    .dataframe tbody tr th:only-of-type {\n        vertical-align: middle;\n    }\n\n    .dataframe tbody tr th {\n        vertical-align: top;\n    }\n\n    .dataframe thead th {\n        text-align: right;\n    }\n</style>\n<table border=\"1\" class=\"dataframe\">\n  <thead>\n    <tr style=\"text-align: right;\">\n      <th></th>\n      <th>overall</th>\n    </tr>\n  </thead>\n  <tbody>\n    <tr>\n      <th>count</th>\n      <td>227509.000000</td>\n    </tr>\n    <tr>\n      <th>mean</th>\n      <td>4.474311</td>\n    </tr>\n    <tr>\n      <th>std</th>\n      <td>0.955971</td>\n    </tr>\n    <tr>\n      <th>min</th>\n      <td>1.000000</td>\n    </tr>\n    <tr>\n      <th>25%</th>\n      <td>4.000000</td>\n    </tr>\n    <tr>\n      <th>50%</th>\n      <td>5.000000</td>\n    </tr>\n    <tr>\n      <th>75%</th>\n      <td>5.000000</td>\n    </tr>\n    <tr>\n      <th>max</th>\n      <td>5.000000</td>\n    </tr>\n  </tbody>\n</table>\n</div>"
     },
     "metadata": {},
     "execution_count": 18
    }
   ],
   "source": [
    "df_collab.describe()"
   ]
  },
  {
   "source": [
    "## Using surprise to develop a collaborative filter (NMF based method)"
   ],
   "cell_type": "markdown",
   "metadata": {}
  },
  {
   "cell_type": "code",
   "execution_count": 15,
   "metadata": {},
   "outputs": [],
   "source": [
    "reader = surprise.Reader(rating_scale=(1,5))\n",
    "recom = CollaborativeRecommender(df_collab,reader,NMF)"
   ]
  },
  {
   "source": [
    "Use grid search to find the best paramaters for the model"
   ],
   "cell_type": "markdown",
   "metadata": {}
  },
  {
   "cell_type": "code",
   "execution_count": 16,
   "metadata": {},
   "outputs": [
    {
     "output_type": "execute_result",
     "data": {
      "text/plain": "<Collaborative_recommender.CollaborativeRecommender at 0x7f9a865f7310>"
     },
     "metadata": {},
     "execution_count": 16
    }
   ],
   "source": [
    "# param_grid = {'n_factors': [4,8,12,16,20,24,32], 'lr_all': [0.002, 0.005], 'n_epochs': [5, 10]}\n",
    "param_grid = {'n_factors': [8,15,23,30,37,42], 'n_epochs': [5, 10]}\n",
    "recom.grid(param_grid,cv=3)\n",
    "recom.fit()\n"
   ]
  },
  {
   "source": [
    "Accuracy for the best model"
   ],
   "cell_type": "markdown",
   "metadata": {}
  },
  {
   "cell_type": "code",
   "execution_count": 18,
   "metadata": {
    "tags": []
   },
   "outputs": [
    {
     "output_type": "stream",
     "name": "stdout",
     "text": "RMSE: 0.6899\naccuracy of the best model: 0.6899440357584086\n"
    }
   ],
   "source": [
    "pred, acc = recom.predictions()\n",
    "\n",
    "print(f'accuracy of the best model: {acc}')"
   ]
  },
  {
   "cell_type": "code",
   "execution_count": 34,
   "metadata": {},
   "outputs": [],
   "source": [
    "df_pred = pd.DataFrame.from_dict(pred)\n",
    "df_pred['Iu'] = df_pred.uid.apply(recom.get_Iu)\n",
    "df_pred['Ui'] = df_pred.iid.apply(get_Ui)\n",
    "df_pred['err'] = abs(df_pred.est - df_pred.r_ui)\n",
    "\n"
   ]
  },
  {
   "cell_type": "code",
   "execution_count": 35,
   "metadata": {},
   "outputs": [
    {
     "output_type": "execute_result",
     "data": {
      "text/plain": "                   uid         iid  r_ui  est                    details  err  \\\n199801  A3SJFAYA81NIJB  B0072T3X38   1.0  5.0  {'was_impossible': False}  4.0   \n220094  A3BLY5DYMNWARB  B013XADM6W   1.0  5.0  {'was_impossible': False}  4.0   \n87673   A26KNV0HTA4U5D  B0030WK1BS   1.0  5.0  {'was_impossible': False}  4.0   \n121546  A2XWG40J6EUAM0  B003SHBL00   1.0  5.0  {'was_impossible': False}  4.0   \n173845  A1CT6MLYNBG3L4  B00Z8X3BL4   1.0  5.0  {'was_impossible': False}  4.0   \n...                ...         ...   ...  ...                        ...  ...   \n106013  A1WZI4N6V5F0EC  B016APS3CU   5.0  5.0  {'was_impossible': False}  0.0   \n106011  A1WZI4N6V5F0EC  B00SAY9LLC   5.0  5.0  {'was_impossible': False}  0.0   \n106009  A1WZI4N6V5F0EC  B00JO2BWFC   5.0  5.0  {'was_impossible': False}  0.0   \n106008  A1WZI4N6V5F0EC  B00I7Z0FDM   5.0  5.0  {'was_impossible': False}  0.0   \n227508  A300QB98FO5UBO  B01H8CZ91M   5.0  5.0  {'was_impossible': False}  0.0   \n\n        Iu  \n199801  10  \n220094   8  \n87673   50  \n121546  10  \n173845  15  \n...     ..  \n106013  15  \n106011  15  \n106009  15  \n106008  15  \n227508   1  \n\n[227509 rows x 7 columns]",
      "text/html": "<div>\n<style scoped>\n    .dataframe tbody tr th:only-of-type {\n        vertical-align: middle;\n    }\n\n    .dataframe tbody tr th {\n        vertical-align: top;\n    }\n\n    .dataframe thead th {\n        text-align: right;\n    }\n</style>\n<table border=\"1\" class=\"dataframe\">\n  <thead>\n    <tr style=\"text-align: right;\">\n      <th></th>\n      <th>uid</th>\n      <th>iid</th>\n      <th>r_ui</th>\n      <th>est</th>\n      <th>details</th>\n      <th>err</th>\n      <th>Iu</th>\n    </tr>\n  </thead>\n  <tbody>\n    <tr>\n      <th>199801</th>\n      <td>A3SJFAYA81NIJB</td>\n      <td>B0072T3X38</td>\n      <td>1.0</td>\n      <td>5.0</td>\n      <td>{'was_impossible': False}</td>\n      <td>4.0</td>\n      <td>10</td>\n    </tr>\n    <tr>\n      <th>220094</th>\n      <td>A3BLY5DYMNWARB</td>\n      <td>B013XADM6W</td>\n      <td>1.0</td>\n      <td>5.0</td>\n      <td>{'was_impossible': False}</td>\n      <td>4.0</td>\n      <td>8</td>\n    </tr>\n    <tr>\n      <th>87673</th>\n      <td>A26KNV0HTA4U5D</td>\n      <td>B0030WK1BS</td>\n      <td>1.0</td>\n      <td>5.0</td>\n      <td>{'was_impossible': False}</td>\n      <td>4.0</td>\n      <td>50</td>\n    </tr>\n    <tr>\n      <th>121546</th>\n      <td>A2XWG40J6EUAM0</td>\n      <td>B003SHBL00</td>\n      <td>1.0</td>\n      <td>5.0</td>\n      <td>{'was_impossible': False}</td>\n      <td>4.0</td>\n      <td>10</td>\n    </tr>\n    <tr>\n      <th>173845</th>\n      <td>A1CT6MLYNBG3L4</td>\n      <td>B00Z8X3BL4</td>\n      <td>1.0</td>\n      <td>5.0</td>\n      <td>{'was_impossible': False}</td>\n      <td>4.0</td>\n      <td>15</td>\n    </tr>\n    <tr>\n      <th>...</th>\n      <td>...</td>\n      <td>...</td>\n      <td>...</td>\n      <td>...</td>\n      <td>...</td>\n      <td>...</td>\n      <td>...</td>\n    </tr>\n    <tr>\n      <th>106013</th>\n      <td>A1WZI4N6V5F0EC</td>\n      <td>B016APS3CU</td>\n      <td>5.0</td>\n      <td>5.0</td>\n      <td>{'was_impossible': False}</td>\n      <td>0.0</td>\n      <td>15</td>\n    </tr>\n    <tr>\n      <th>106011</th>\n      <td>A1WZI4N6V5F0EC</td>\n      <td>B00SAY9LLC</td>\n      <td>5.0</td>\n      <td>5.0</td>\n      <td>{'was_impossible': False}</td>\n      <td>0.0</td>\n      <td>15</td>\n    </tr>\n    <tr>\n      <th>106009</th>\n      <td>A1WZI4N6V5F0EC</td>\n      <td>B00JO2BWFC</td>\n      <td>5.0</td>\n      <td>5.0</td>\n      <td>{'was_impossible': False}</td>\n      <td>0.0</td>\n      <td>15</td>\n    </tr>\n    <tr>\n      <th>106008</th>\n      <td>A1WZI4N6V5F0EC</td>\n      <td>B00I7Z0FDM</td>\n      <td>5.0</td>\n      <td>5.0</td>\n      <td>{'was_impossible': False}</td>\n      <td>0.0</td>\n      <td>15</td>\n    </tr>\n    <tr>\n      <th>227508</th>\n      <td>A300QB98FO5UBO</td>\n      <td>B01H8CZ91M</td>\n      <td>5.0</td>\n      <td>5.0</td>\n      <td>{'was_impossible': False}</td>\n      <td>0.0</td>\n      <td>1</td>\n    </tr>\n  </tbody>\n</table>\n<p>227509 rows × 7 columns</p>\n</div>"
     },
     "metadata": {},
     "execution_count": 35
    }
   ],
   "source": [
    "df_pred.sort_values(by='err',ascending=False)"
   ]
  },
  {
   "source": [
    "Top n prediction for a given user"
   ],
   "cell_type": "markdown",
   "metadata": {}
  },
  {
   "cell_type": "code",
   "execution_count": null,
   "metadata": {},
   "outputs": [],
   "source": []
  },
  {
   "cell_type": "code",
   "execution_count": null,
   "metadata": {},
   "outputs": [],
   "source": [
    "bucket = 'recommender-system-amazon' \n",
    "csv_buffer = StringIO()\n",
    "df_collab.sm.to_csv(csv_buffer)\n",
    "s3_resource = boto3.resource('s3')\n",
    "s3_resource.Object(bucket, 'df_colab_sm.csv').put(Body=csv_buffer.getvalue())\n"
   ]
  },
  {
   "cell_type": "code",
   "execution_count": 33,
   "metadata": {},
   "outputs": [
    {
     "output_type": "execute_result",
     "data": {
      "text/plain": "array(['0899332757', '0899332757', '0899332757', ..., 'B01HJDGJ1E',\n       'B01HJDGJ1E', 'B01HJGAJ9O'], dtype=object)"
     },
     "metadata": {},
     "execution_count": 33
    }
   ],
   "source": [
    "df_collab['asin'].values"
   ]
  },
  {
   "cell_type": "code",
   "execution_count": 27,
   "metadata": {},
   "outputs": [
    {
     "output_type": "execute_result",
     "data": {
      "text/plain": "Index(['0899332757', '0899333257', '0971100764', '3843518912', '7245456275',\n       '7245456313', '7245456453', '8804850086', '9641766805', 'B00000IURU',\n       ...\n       'B01HJ234E0', 'B01HJ4DN08', 'B01HJ4EYS8', 'B01HJ8YC0Y', 'B01HJA241G',\n       'B01HJA7KWE', 'B01HJDGJ1E', 'B01HJDHNX2', 'B01HJDZ34I', 'B01HJGAJ9O'],\n      dtype='object', name='asin', length=56351)"
     },
     "metadata": {},
     "execution_count": 27
    }
   ],
   "source": [
    "UM.columns"
   ]
  },
  {
   "cell_type": "code",
   "execution_count": null,
   "metadata": {},
   "outputs": [],
   "source": []
  }
 ]
}