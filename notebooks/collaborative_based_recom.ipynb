{
 "metadata": {
  "language_info": {
   "codemirror_mode": {
    "name": "ipython",
    "version": 3
   },
   "file_extension": ".py",
   "mimetype": "text/x-python",
   "name": "python",
   "nbconvert_exporter": "python",
   "pygments_lexer": "ipython3",
   "version": "3.7.6-final"
  },
  "orig_nbformat": 2,
  "kernelspec": {
   "name": "python_defaultSpec_1600453308303",
   "display_name": "Python 3.7.6 64-bit ('base': conda)"
  }
 },
 "nbformat": 4,
 "nbformat_minor": 2,
 "cells": [
  {
   "cell_type": "code",
   "execution_count": 1,
   "metadata": {
    "tags": []
   },
   "outputs": [],
   "source": [
    "import boto3\n",
    "import pandas as pd\n",
    "import numpy as np\n",
    "import sys\n",
    "from io import StringIO\n",
    "import surprise\n",
    "from surprise import accuracy\n",
    "from sklearn.model_selection import train_test_split"
   ]
  },
  {
   "cell_type": "code",
   "execution_count": 2,
   "metadata": {},
   "outputs": [],
   "source": [
    "sys.path.insert(1, '../src')\n",
    "from Collaborative_recommender import CollaborativeRecommender"
   ]
  },
  {
   "cell_type": "code",
   "execution_count": 3,
   "metadata": {
    "tags": []
   },
   "outputs": [],
   "source": [
    "%load_ext autoreload\n",
    "%autoreload 2"
   ]
  },
  {
   "cell_type": "code",
   "execution_count": 4,
   "metadata": {},
   "outputs": [],
   "source": [
    "%reload_ext autoreload"
   ]
  },
  {
   "cell_type": "code",
   "execution_count": 5,
   "metadata": {},
   "outputs": [],
   "source": [
    "s3 = boto3.client('s3')"
   ]
  },
  {
   "cell_type": "code",
   "execution_count": 6,
   "metadata": {},
   "outputs": [],
   "source": [
    "df_all_15 = pd.read_csv(\"s3://recommender-system-amazon/df_all_15_text.csv\")"
   ]
  },
  {
   "cell_type": "code",
   "execution_count": 7,
   "metadata": {},
   "outputs": [],
   "source": [
    "reviewerID = pd.read_csv(\"s3://recommender-system-amazon/reviewerID.csv\")"
   ]
  },
  {
   "cell_type": "code",
   "execution_count": 8,
   "metadata": {},
   "outputs": [],
   "source": [
    "reviewerID.drop(['Unnamed: 0',\"asin\"],axis=1,inplace=True)"
   ]
  },
  {
   "cell_type": "code",
   "execution_count": 9,
   "metadata": {},
   "outputs": [],
   "source": [
    "df_all_15 = pd.concat([df_all_15, reviewerID.reindex(df_all_15.index)], axis=1)"
   ]
  },
  {
   "cell_type": "code",
   "execution_count": 10,
   "metadata": {},
   "outputs": [
    {
     "output_type": "execute_result",
     "data": {
      "text/plain": "   Unnamed: 0                                           category  \\\n0           0  ['Sports & Outdoors', 'Outdoor Recreation', 'C...   \n1           1  ['Sports & Outdoors', 'Outdoor Recreation', 'C...   \n\n                                         description  \\\n0  ['Find your way through New York while hitting...   \n1  ['Find your way through New York while hitting...   \n\n                                          title  \\\n0  Delorme New York State Atlas &amp; Gazetteer   \n1  Delorme New York State Atlas &amp; Gazetteer   \n\n                                            also_buy  \\\n0  ['0899334415', '0899334431', '0899333419', '08...   \n1  ['0899334415', '0899334431', '0899333419', '08...   \n\n                                             image_x   brand  \\\n0  ['https://images-na.ssl-images-amazon.com/imag...  Garmin   \n1  ['https://images-na.ssl-images-amazon.com/imag...  Garmin   \n\n                                             feature  \\\n0  ['Amazingly detailed and beautifully crafted, ...   \n1  ['Amazingly detailed and beautifully crafted, ...   \n\n                           rank  \\\n0  121,074 in Office Products (   \n1  121,074 in Office Products (   \n\n                                           also_view  ...        asin overall  \\\n0  ['0528881922', '1569145792', '0899334431', '08...  ...  0899332757     5.0   \n1  ['0528881922', '1569145792', '0899334431', '08...  ...  0899332757     4.0   \n\n  verified                                         reviewText  \\\n0    False  your interest explor area new york beyond metr...   \n1     True                  wonder comprehens atla littl larg   \n\n                                            summary unixReviewTime  \\\n0  Great for exploring the rural parts of the state     1470009600   \n1                                        Four Stars     1438646400   \n\n                       style  \\\n0  {'Format:': ' Paperback'}   \n1  {'Format:': ' Paperback'}   \n\n                                           item_text  \\\n0  garmingreat explor rural part stateformat pape...   \n1                   garminfour starsformat paperback   \n\n                               title_nlp      reviewerID  \n0  delorm new york state atla amp gazett    A1LACH6MLQWZ  \n1  delorm new york state atla amp gazett  A2LBF5LI09BS8Z  \n\n[2 rows x 22 columns]",
      "text/html": "<div>\n<style scoped>\n    .dataframe tbody tr th:only-of-type {\n        vertical-align: middle;\n    }\n\n    .dataframe tbody tr th {\n        vertical-align: top;\n    }\n\n    .dataframe thead th {\n        text-align: right;\n    }\n</style>\n<table border=\"1\" class=\"dataframe\">\n  <thead>\n    <tr style=\"text-align: right;\">\n      <th></th>\n      <th>Unnamed: 0</th>\n      <th>category</th>\n      <th>description</th>\n      <th>title</th>\n      <th>also_buy</th>\n      <th>image_x</th>\n      <th>brand</th>\n      <th>feature</th>\n      <th>rank</th>\n      <th>also_view</th>\n      <th>...</th>\n      <th>asin</th>\n      <th>overall</th>\n      <th>verified</th>\n      <th>reviewText</th>\n      <th>summary</th>\n      <th>unixReviewTime</th>\n      <th>style</th>\n      <th>item_text</th>\n      <th>title_nlp</th>\n      <th>reviewerID</th>\n    </tr>\n  </thead>\n  <tbody>\n    <tr>\n      <th>0</th>\n      <td>0</td>\n      <td>['Sports &amp; Outdoors', 'Outdoor Recreation', 'C...</td>\n      <td>['Find your way through New York while hitting...</td>\n      <td>Delorme New York State Atlas &amp;amp; Gazetteer</td>\n      <td>['0899334415', '0899334431', '0899333419', '08...</td>\n      <td>['https://images-na.ssl-images-amazon.com/imag...</td>\n      <td>Garmin</td>\n      <td>['Amazingly detailed and beautifully crafted, ...</td>\n      <td>121,074 in Office Products (</td>\n      <td>['0528881922', '1569145792', '0899334431', '08...</td>\n      <td>...</td>\n      <td>0899332757</td>\n      <td>5.0</td>\n      <td>False</td>\n      <td>your interest explor area new york beyond metr...</td>\n      <td>Great for exploring the rural parts of the state</td>\n      <td>1470009600</td>\n      <td>{'Format:': ' Paperback'}</td>\n      <td>garmingreat explor rural part stateformat pape...</td>\n      <td>delorm new york state atla amp gazett</td>\n      <td>A1LACH6MLQWZ</td>\n    </tr>\n    <tr>\n      <th>1</th>\n      <td>1</td>\n      <td>['Sports &amp; Outdoors', 'Outdoor Recreation', 'C...</td>\n      <td>['Find your way through New York while hitting...</td>\n      <td>Delorme New York State Atlas &amp;amp; Gazetteer</td>\n      <td>['0899334415', '0899334431', '0899333419', '08...</td>\n      <td>['https://images-na.ssl-images-amazon.com/imag...</td>\n      <td>Garmin</td>\n      <td>['Amazingly detailed and beautifully crafted, ...</td>\n      <td>121,074 in Office Products (</td>\n      <td>['0528881922', '1569145792', '0899334431', '08...</td>\n      <td>...</td>\n      <td>0899332757</td>\n      <td>4.0</td>\n      <td>True</td>\n      <td>wonder comprehens atla littl larg</td>\n      <td>Four Stars</td>\n      <td>1438646400</td>\n      <td>{'Format:': ' Paperback'}</td>\n      <td>garminfour starsformat paperback</td>\n      <td>delorm new york state atla amp gazett</td>\n      <td>A2LBF5LI09BS8Z</td>\n    </tr>\n  </tbody>\n</table>\n<p>2 rows × 22 columns</p>\n</div>"
     },
     "metadata": {},
     "execution_count": 10
    }
   ],
   "source": [
    "df_all_15.head(2)"
   ]
  },
  {
   "cell_type": "code",
   "execution_count": 13,
   "metadata": {},
   "outputs": [
    {
     "output_type": "execute_result",
     "data": {
      "text/plain": "(369155, 22)"
     },
     "metadata": {},
     "execution_count": 13
    }
   ],
   "source": [
    "df_all_15.shape"
   ]
  },
  {
   "cell_type": "code",
   "execution_count": 14,
   "metadata": {},
   "outputs": [],
   "source": [
    "df_all_15 = df_all_15[~(df_all_15['title_nlp'].isna())]\n",
    "df_all_15 = df_all_15[~(df_all_15['item_text'].isna())]\n",
    "df_all_15 = df_all_15[~(df_all_15['reviewText'].isna())]"
   ]
  },
  {
   "cell_type": "code",
   "execution_count": 15,
   "metadata": {},
   "outputs": [
    {
     "output_type": "execute_result",
     "data": {
      "text/plain": "Index(['Unnamed: 0', 'category', 'description', 'title', 'also_buy', 'image_x',\n       'brand', 'feature', 'rank', 'also_view', 'main_cat', 'price', 'asin',\n       'overall', 'verified', 'reviewText', 'summary', 'unixReviewTime',\n       'style', 'item_text', 'title_nlp', 'reviewerID'],\n      dtype='object')"
     },
     "metadata": {},
     "execution_count": 15
    }
   ],
   "source": [
    "df_all_15.columns"
   ]
  },
  {
   "cell_type": "code",
   "execution_count": 16,
   "metadata": {},
   "outputs": [],
   "source": [
    "df_collab = df_all_15[['reviewerID',\"asin\",\"overall\"]]"
   ]
  },
  {
   "cell_type": "code",
   "execution_count": 17,
   "metadata": {},
   "outputs": [
    {
     "output_type": "execute_result",
     "data": {
      "text/plain": "       reviewerID        asin  overall\n0    A1LACH6MLQWZ  0899332757      5.0\n1  A2LBF5LI09BS8Z  0899332757      4.0\n2  A11G1FW7QISV3Y  0899332757      5.0\n3   APR0HI8KAJ4QG  0899333257      5.0\n4    A1LACH6MLQWZ  0899333257      5.0",
      "text/html": "<div>\n<style scoped>\n    .dataframe tbody tr th:only-of-type {\n        vertical-align: middle;\n    }\n\n    .dataframe tbody tr th {\n        vertical-align: top;\n    }\n\n    .dataframe thead th {\n        text-align: right;\n    }\n</style>\n<table border=\"1\" class=\"dataframe\">\n  <thead>\n    <tr style=\"text-align: right;\">\n      <th></th>\n      <th>reviewerID</th>\n      <th>asin</th>\n      <th>overall</th>\n    </tr>\n  </thead>\n  <tbody>\n    <tr>\n      <th>0</th>\n      <td>A1LACH6MLQWZ</td>\n      <td>0899332757</td>\n      <td>5.0</td>\n    </tr>\n    <tr>\n      <th>1</th>\n      <td>A2LBF5LI09BS8Z</td>\n      <td>0899332757</td>\n      <td>4.0</td>\n    </tr>\n    <tr>\n      <th>2</th>\n      <td>A11G1FW7QISV3Y</td>\n      <td>0899332757</td>\n      <td>5.0</td>\n    </tr>\n    <tr>\n      <th>3</th>\n      <td>APR0HI8KAJ4QG</td>\n      <td>0899333257</td>\n      <td>5.0</td>\n    </tr>\n    <tr>\n      <th>4</th>\n      <td>A1LACH6MLQWZ</td>\n      <td>0899333257</td>\n      <td>5.0</td>\n    </tr>\n  </tbody>\n</table>\n</div>"
     },
     "metadata": {},
     "execution_count": 17
    }
   ],
   "source": [
    "df_collab.head()"
   ]
  },
  {
   "cell_type": "code",
   "execution_count": 66,
   "metadata": {},
   "outputs": [
    {
     "output_type": "execute_result",
     "data": {
      "text/plain": "(369155, 3)"
     },
     "metadata": {},
     "execution_count": 66
    }
   ],
   "source": [
    "df_collab.shape"
   ]
  },
  {
   "cell_type": "code",
   "execution_count": 68,
   "metadata": {},
   "outputs": [],
   "source": [
    "UM = pd.pivot_table(df_collab,index='reviewerID', columns='asin', values='overall')"
   ]
  },
  {
   "cell_type": "code",
   "execution_count": 71,
   "metadata": {},
   "outputs": [
    {
     "output_type": "execute_result",
     "data": {
      "text/plain": "asin                  0899332757  0899333257  0971100764  3843518912  \\\nreviewerID                                                             \nA0098869QS7I6WOAODWI         NaN         NaN         NaN         NaN   \nA0418008MEWDDIUPHXP7         NaN         NaN         NaN         NaN   \nA0743345UFTOA4V1Z7W          NaN         NaN         NaN         NaN   \nA0784213CF0H1GDXG0G2         NaN         NaN         NaN         NaN   \nA07936821FOVJO6NP4Q8         NaN         NaN         NaN         NaN   \n...                          ...         ...         ...         ...   \nAZYJE40XW6MFG                NaN         NaN         NaN         NaN   \nAZYJMUE8PNTQV                NaN         NaN         NaN         NaN   \nAZYP4FQ2L2C4O                NaN         NaN         NaN         NaN   \nAZYPAWSYSCISH                NaN         NaN         NaN         NaN   \nAZZ2A1GE3Q01J                NaN         NaN         NaN         NaN   \n\nasin                  7245456275  7245456313  7245456453  8804850086  \\\nreviewerID                                                             \nA0098869QS7I6WOAODWI         NaN         NaN         NaN         NaN   \nA0418008MEWDDIUPHXP7         NaN         NaN         NaN         NaN   \nA0743345UFTOA4V1Z7W          NaN         NaN         NaN         NaN   \nA0784213CF0H1GDXG0G2         NaN         NaN         NaN         NaN   \nA07936821FOVJO6NP4Q8         NaN         NaN         NaN         NaN   \n...                          ...         ...         ...         ...   \nAZYJE40XW6MFG                NaN         NaN         NaN         NaN   \nAZYJMUE8PNTQV                NaN         NaN         NaN         NaN   \nAZYP4FQ2L2C4O                NaN         NaN         NaN         NaN   \nAZYPAWSYSCISH                NaN         NaN         NaN         NaN   \nAZZ2A1GE3Q01J                NaN         NaN         NaN         NaN   \n\nasin                  9641766805  B00000IURU  ...  B01HJ234E0  B01HJ4DN08  \\\nreviewerID                                    ...                           \nA0098869QS7I6WOAODWI         NaN         NaN  ...         NaN         NaN   \nA0418008MEWDDIUPHXP7         NaN         NaN  ...         NaN         NaN   \nA0743345UFTOA4V1Z7W          NaN         NaN  ...         NaN         NaN   \nA0784213CF0H1GDXG0G2         NaN         NaN  ...         NaN         NaN   \nA07936821FOVJO6NP4Q8         NaN         NaN  ...         NaN         NaN   \n...                          ...         ...  ...         ...         ...   \nAZYJE40XW6MFG                NaN         NaN  ...         NaN         NaN   \nAZYJMUE8PNTQV                NaN         NaN  ...         NaN         NaN   \nAZYP4FQ2L2C4O                NaN         NaN  ...         NaN         NaN   \nAZYPAWSYSCISH                NaN         NaN  ...         NaN         NaN   \nAZZ2A1GE3Q01J                NaN         NaN  ...         NaN         NaN   \n\nasin                  B01HJ4EYS8  B01HJ8YC0Y  B01HJA241G  B01HJA7KWE  \\\nreviewerID                                                             \nA0098869QS7I6WOAODWI         NaN         NaN         NaN         NaN   \nA0418008MEWDDIUPHXP7         NaN         NaN         NaN         NaN   \nA0743345UFTOA4V1Z7W          NaN         NaN         NaN         NaN   \nA0784213CF0H1GDXG0G2         NaN         NaN         NaN         NaN   \nA07936821FOVJO6NP4Q8         NaN         NaN         NaN         NaN   \n...                          ...         ...         ...         ...   \nAZYJE40XW6MFG                NaN         NaN         NaN         NaN   \nAZYJMUE8PNTQV                NaN         NaN         NaN         NaN   \nAZYP4FQ2L2C4O                NaN         NaN         NaN         NaN   \nAZYPAWSYSCISH                NaN         NaN         NaN         NaN   \nAZZ2A1GE3Q01J                NaN         NaN         NaN         NaN   \n\nasin                  B01HJDGJ1E  B01HJDHNX2  B01HJDZ34I  B01HJGAJ9O  \nreviewerID                                                            \nA0098869QS7I6WOAODWI         NaN         NaN         NaN         NaN  \nA0418008MEWDDIUPHXP7         NaN         NaN         NaN         NaN  \nA0743345UFTOA4V1Z7W          NaN         NaN         NaN         NaN  \nA0784213CF0H1GDXG0G2         NaN         NaN         NaN         NaN  \nA07936821FOVJO6NP4Q8         NaN         NaN         NaN         NaN  \n...                          ...         ...         ...         ...  \nAZYJE40XW6MFG                NaN         NaN         NaN         NaN  \nAZYJMUE8PNTQV                NaN         NaN         NaN         NaN  \nAZYP4FQ2L2C4O                NaN         NaN         NaN         NaN  \nAZYPAWSYSCISH                NaN         NaN         NaN         NaN  \nAZZ2A1GE3Q01J                NaN         NaN         NaN         NaN  \n\n[17930 rows x 56351 columns]",
      "text/html": "<div>\n<style scoped>\n    .dataframe tbody tr th:only-of-type {\n        vertical-align: middle;\n    }\n\n    .dataframe tbody tr th {\n        vertical-align: top;\n    }\n\n    .dataframe thead th {\n        text-align: right;\n    }\n</style>\n<table border=\"1\" class=\"dataframe\">\n  <thead>\n    <tr style=\"text-align: right;\">\n      <th>asin</th>\n      <th>0899332757</th>\n      <th>0899333257</th>\n      <th>0971100764</th>\n      <th>3843518912</th>\n      <th>7245456275</th>\n      <th>7245456313</th>\n      <th>7245456453</th>\n      <th>8804850086</th>\n      <th>9641766805</th>\n      <th>B00000IURU</th>\n      <th>...</th>\n      <th>B01HJ234E0</th>\n      <th>B01HJ4DN08</th>\n      <th>B01HJ4EYS8</th>\n      <th>B01HJ8YC0Y</th>\n      <th>B01HJA241G</th>\n      <th>B01HJA7KWE</th>\n      <th>B01HJDGJ1E</th>\n      <th>B01HJDHNX2</th>\n      <th>B01HJDZ34I</th>\n      <th>B01HJGAJ9O</th>\n    </tr>\n    <tr>\n      <th>reviewerID</th>\n      <th></th>\n      <th></th>\n      <th></th>\n      <th></th>\n      <th></th>\n      <th></th>\n      <th></th>\n      <th></th>\n      <th></th>\n      <th></th>\n      <th></th>\n      <th></th>\n      <th></th>\n      <th></th>\n      <th></th>\n      <th></th>\n      <th></th>\n      <th></th>\n      <th></th>\n      <th></th>\n      <th></th>\n    </tr>\n  </thead>\n  <tbody>\n    <tr>\n      <th>A0098869QS7I6WOAODWI</th>\n      <td>NaN</td>\n      <td>NaN</td>\n      <td>NaN</td>\n      <td>NaN</td>\n      <td>NaN</td>\n      <td>NaN</td>\n      <td>NaN</td>\n      <td>NaN</td>\n      <td>NaN</td>\n      <td>NaN</td>\n      <td>...</td>\n      <td>NaN</td>\n      <td>NaN</td>\n      <td>NaN</td>\n      <td>NaN</td>\n      <td>NaN</td>\n      <td>NaN</td>\n      <td>NaN</td>\n      <td>NaN</td>\n      <td>NaN</td>\n      <td>NaN</td>\n    </tr>\n    <tr>\n      <th>A0418008MEWDDIUPHXP7</th>\n      <td>NaN</td>\n      <td>NaN</td>\n      <td>NaN</td>\n      <td>NaN</td>\n      <td>NaN</td>\n      <td>NaN</td>\n      <td>NaN</td>\n      <td>NaN</td>\n      <td>NaN</td>\n      <td>NaN</td>\n      <td>...</td>\n      <td>NaN</td>\n      <td>NaN</td>\n      <td>NaN</td>\n      <td>NaN</td>\n      <td>NaN</td>\n      <td>NaN</td>\n      <td>NaN</td>\n      <td>NaN</td>\n      <td>NaN</td>\n      <td>NaN</td>\n    </tr>\n    <tr>\n      <th>A0743345UFTOA4V1Z7W</th>\n      <td>NaN</td>\n      <td>NaN</td>\n      <td>NaN</td>\n      <td>NaN</td>\n      <td>NaN</td>\n      <td>NaN</td>\n      <td>NaN</td>\n      <td>NaN</td>\n      <td>NaN</td>\n      <td>NaN</td>\n      <td>...</td>\n      <td>NaN</td>\n      <td>NaN</td>\n      <td>NaN</td>\n      <td>NaN</td>\n      <td>NaN</td>\n      <td>NaN</td>\n      <td>NaN</td>\n      <td>NaN</td>\n      <td>NaN</td>\n      <td>NaN</td>\n    </tr>\n    <tr>\n      <th>A0784213CF0H1GDXG0G2</th>\n      <td>NaN</td>\n      <td>NaN</td>\n      <td>NaN</td>\n      <td>NaN</td>\n      <td>NaN</td>\n      <td>NaN</td>\n      <td>NaN</td>\n      <td>NaN</td>\n      <td>NaN</td>\n      <td>NaN</td>\n      <td>...</td>\n      <td>NaN</td>\n      <td>NaN</td>\n      <td>NaN</td>\n      <td>NaN</td>\n      <td>NaN</td>\n      <td>NaN</td>\n      <td>NaN</td>\n      <td>NaN</td>\n      <td>NaN</td>\n      <td>NaN</td>\n    </tr>\n    <tr>\n      <th>A07936821FOVJO6NP4Q8</th>\n      <td>NaN</td>\n      <td>NaN</td>\n      <td>NaN</td>\n      <td>NaN</td>\n      <td>NaN</td>\n      <td>NaN</td>\n      <td>NaN</td>\n      <td>NaN</td>\n      <td>NaN</td>\n      <td>NaN</td>\n      <td>...</td>\n      <td>NaN</td>\n      <td>NaN</td>\n      <td>NaN</td>\n      <td>NaN</td>\n      <td>NaN</td>\n      <td>NaN</td>\n      <td>NaN</td>\n      <td>NaN</td>\n      <td>NaN</td>\n      <td>NaN</td>\n    </tr>\n    <tr>\n      <th>...</th>\n      <td>...</td>\n      <td>...</td>\n      <td>...</td>\n      <td>...</td>\n      <td>...</td>\n      <td>...</td>\n      <td>...</td>\n      <td>...</td>\n      <td>...</td>\n      <td>...</td>\n      <td>...</td>\n      <td>...</td>\n      <td>...</td>\n      <td>...</td>\n      <td>...</td>\n      <td>...</td>\n      <td>...</td>\n      <td>...</td>\n      <td>...</td>\n      <td>...</td>\n      <td>...</td>\n    </tr>\n    <tr>\n      <th>AZYJE40XW6MFG</th>\n      <td>NaN</td>\n      <td>NaN</td>\n      <td>NaN</td>\n      <td>NaN</td>\n      <td>NaN</td>\n      <td>NaN</td>\n      <td>NaN</td>\n      <td>NaN</td>\n      <td>NaN</td>\n      <td>NaN</td>\n      <td>...</td>\n      <td>NaN</td>\n      <td>NaN</td>\n      <td>NaN</td>\n      <td>NaN</td>\n      <td>NaN</td>\n      <td>NaN</td>\n      <td>NaN</td>\n      <td>NaN</td>\n      <td>NaN</td>\n      <td>NaN</td>\n    </tr>\n    <tr>\n      <th>AZYJMUE8PNTQV</th>\n      <td>NaN</td>\n      <td>NaN</td>\n      <td>NaN</td>\n      <td>NaN</td>\n      <td>NaN</td>\n      <td>NaN</td>\n      <td>NaN</td>\n      <td>NaN</td>\n      <td>NaN</td>\n      <td>NaN</td>\n      <td>...</td>\n      <td>NaN</td>\n      <td>NaN</td>\n      <td>NaN</td>\n      <td>NaN</td>\n      <td>NaN</td>\n      <td>NaN</td>\n      <td>NaN</td>\n      <td>NaN</td>\n      <td>NaN</td>\n      <td>NaN</td>\n    </tr>\n    <tr>\n      <th>AZYP4FQ2L2C4O</th>\n      <td>NaN</td>\n      <td>NaN</td>\n      <td>NaN</td>\n      <td>NaN</td>\n      <td>NaN</td>\n      <td>NaN</td>\n      <td>NaN</td>\n      <td>NaN</td>\n      <td>NaN</td>\n      <td>NaN</td>\n      <td>...</td>\n      <td>NaN</td>\n      <td>NaN</td>\n      <td>NaN</td>\n      <td>NaN</td>\n      <td>NaN</td>\n      <td>NaN</td>\n      <td>NaN</td>\n      <td>NaN</td>\n      <td>NaN</td>\n      <td>NaN</td>\n    </tr>\n    <tr>\n      <th>AZYPAWSYSCISH</th>\n      <td>NaN</td>\n      <td>NaN</td>\n      <td>NaN</td>\n      <td>NaN</td>\n      <td>NaN</td>\n      <td>NaN</td>\n      <td>NaN</td>\n      <td>NaN</td>\n      <td>NaN</td>\n      <td>NaN</td>\n      <td>...</td>\n      <td>NaN</td>\n      <td>NaN</td>\n      <td>NaN</td>\n      <td>NaN</td>\n      <td>NaN</td>\n      <td>NaN</td>\n      <td>NaN</td>\n      <td>NaN</td>\n      <td>NaN</td>\n      <td>NaN</td>\n    </tr>\n    <tr>\n      <th>AZZ2A1GE3Q01J</th>\n      <td>NaN</td>\n      <td>NaN</td>\n      <td>NaN</td>\n      <td>NaN</td>\n      <td>NaN</td>\n      <td>NaN</td>\n      <td>NaN</td>\n      <td>NaN</td>\n      <td>NaN</td>\n      <td>NaN</td>\n      <td>...</td>\n      <td>NaN</td>\n      <td>NaN</td>\n      <td>NaN</td>\n      <td>NaN</td>\n      <td>NaN</td>\n      <td>NaN</td>\n      <td>NaN</td>\n      <td>NaN</td>\n      <td>NaN</td>\n      <td>NaN</td>\n    </tr>\n  </tbody>\n</table>\n<p>17930 rows × 56351 columns</p>\n</div>"
     },
     "metadata": {},
     "execution_count": 71
    }
   ],
   "source": [
    "UM"
   ]
  },
  {
   "cell_type": "code",
   "execution_count": 72,
   "metadata": {},
   "outputs": [
    {
     "output_type": "execute_result",
     "data": {
      "text/plain": "             overall\ncount  369155.000000\nmean        4.447806\nstd         0.965468\nmin         1.000000\n25%         4.000000\n50%         5.000000\n75%         5.000000\nmax         5.000000",
      "text/html": "<div>\n<style scoped>\n    .dataframe tbody tr th:only-of-type {\n        vertical-align: middle;\n    }\n\n    .dataframe tbody tr th {\n        vertical-align: top;\n    }\n\n    .dataframe thead th {\n        text-align: right;\n    }\n</style>\n<table border=\"1\" class=\"dataframe\">\n  <thead>\n    <tr style=\"text-align: right;\">\n      <th></th>\n      <th>overall</th>\n    </tr>\n  </thead>\n  <tbody>\n    <tr>\n      <th>count</th>\n      <td>369155.000000</td>\n    </tr>\n    <tr>\n      <th>mean</th>\n      <td>4.447806</td>\n    </tr>\n    <tr>\n      <th>std</th>\n      <td>0.965468</td>\n    </tr>\n    <tr>\n      <th>min</th>\n      <td>1.000000</td>\n    </tr>\n    <tr>\n      <th>25%</th>\n      <td>4.000000</td>\n    </tr>\n    <tr>\n      <th>50%</th>\n      <td>5.000000</td>\n    </tr>\n    <tr>\n      <th>75%</th>\n      <td>5.000000</td>\n    </tr>\n    <tr>\n      <th>max</th>\n      <td>5.000000</td>\n    </tr>\n  </tbody>\n</table>\n</div>"
     },
     "metadata": {},
     "execution_count": 72
    }
   ],
   "source": [
    "df_collab.describe()"
   ]
  },
  {
   "cell_type": "code",
   "execution_count": 18,
   "metadata": {},
   "outputs": [],
   "source": [
    "reader = surprise.Reader(rating_scale=(1,5))\n",
    "# recom = CollaborativeRecommender(df_collab,reader)"
   ]
  },
  {
   "cell_type": "code",
   "execution_count": 38,
   "metadata": {},
   "outputs": [
    {
     "output_type": "execute_result",
     "data": {
      "text/plain": "<Collaborative_recommender.CollaborativeRecommender at 0x7feb3df2a950>"
     },
     "metadata": {},
     "execution_count": 38
    }
   ],
   "source": [
    "# param_grid = {'n_epochs': [5, 10], 'lr_all': [0.002, 0.005]}\n",
    "# recom.grid(param_grid,cv=3)\n",
    "# recom.fit()\n",
    "# recom.predict()"
   ]
  },
  {
   "cell_type": "code",
   "execution_count": 39,
   "metadata": {},
   "outputs": [
    {
     "output_type": "execute_result",
     "data": {
      "text/plain": "<Collaborative_recommender.CollaborativeRecommender at 0x7feb3df2a950>"
     },
     "metadata": {},
     "execution_count": 39
    }
   ],
   "source": []
  },
  {
   "cell_type": "code",
   "execution_count": 40,
   "metadata": {
    "tags": []
   },
   "outputs": [
    {
     "output_type": "stream",
     "name": "stdout",
     "text": "RMSE: 0.7925\n"
    },
    {
     "output_type": "execute_result",
     "data": {
      "text/plain": "0.7924577576585875"
     },
     "metadata": {},
     "execution_count": 40
    }
   ],
   "source": []
  },
  {
   "cell_type": "code",
   "execution_count": 15,
   "metadata": {},
   "outputs": [],
   "source": [
    "# X_Train,X_holdout = train_test_split(df_collab, test_size=0.2)"
   ]
  },
  {
   "cell_type": "code",
   "execution_count": 19,
   "metadata": {},
   "outputs": [],
   "source": [
    "reader = surprise.Reader(rating_scale=(1,5))"
   ]
  },
  {
   "cell_type": "code",
   "execution_count": 20,
   "metadata": {},
   "outputs": [],
   "source": [
    "# data = surprise.Dataset.load_from_df(X_Train,reader)\n",
    "\n",
    "data = surprise.Dataset.load_from_df(df_collab,reader)\n",
    "# holdout = surprise.Dataset.load_from_df(X_holdout,reader)"
   ]
  },
  {
   "cell_type": "code",
   "execution_count": 16,
   "metadata": {},
   "outputs": [],
   "source": [
    "kSplit = surprise.model_selection.split.KFold(n_splits=1, shuffle=True)"
   ]
  },
  {
   "cell_type": "code",
   "execution_count": 75,
   "metadata": {
    "tags": []
   },
   "outputs": [],
   "source": [
    "sim_options = sim_options = {'name': 'cosine','user_based': False}\n",
    "\n",
    "collabKNN = surprise.KNNBasic(k=100,min_k=1,sim_options=sim_options,verbose=True) #try removing sim_options. \n",
    "# collabKNN = surprise.SVD()\n",
    "trainset = data.build_full_trainset()\n",
    "collabKNN.fit(trainset)\n",
    "testset = trainset.build_testset()\n",
    "predictions = collabKNN.test(testset)\n",
    "accuracy.rmse(predictions, verbose=True)\n",
    "\n",
    "# rmseKNN = []\n",
    "\n",
    "\n",
    "\n",
    "# for trainset, testset in kSplit.split(data): #iterate through the folds.\n",
    "#     collabKNN.fit(trainset)\n",
    "#     predictionsKNN = collabKNN.test(testset)\n",
    "#     rmseKNN.append(surprise.accuracy.rmse(predictionsKNN,verbose=True))#get root means squared "
   ]
  },
  {
   "cell_type": "code",
   "execution_count": 18,
   "metadata": {
    "tags": []
   },
   "outputs": [
    {
     "output_type": "stream",
     "name": "stdout",
     "text": "Computing the cosine similarity matrix...\nDone computing similarity matrix.\n"
    }
   ],
   "source": [
    "sm = collabKNN.compute_similarities()"
   ]
  },
  {
   "cell_type": "code",
   "execution_count": 19,
   "metadata": {},
   "outputs": [
    {
     "output_type": "execute_result",
     "data": {
      "text/plain": "(56351, 56351)"
     },
     "metadata": {},
     "execution_count": 19
    }
   ],
   "source": [
    "sm.shape"
   ]
  },
  {
   "cell_type": "code",
   "execution_count": null,
   "metadata": {},
   "outputs": [],
   "source": []
  }
 ]
}