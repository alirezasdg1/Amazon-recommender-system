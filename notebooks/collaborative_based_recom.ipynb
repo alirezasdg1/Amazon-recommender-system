{
 "metadata": {
  "language_info": {
   "codemirror_mode": {
    "name": "ipython",
    "version": 3
   },
   "file_extension": ".py",
   "mimetype": "text/x-python",
   "name": "python",
   "nbconvert_exporter": "python",
   "pygments_lexer": "ipython3",
   "version": "3.7.6-final"
  },
  "orig_nbformat": 2,
  "kernelspec": {
   "name": "python_defaultSpec_1600550334513",
   "display_name": "Python 3.7.6 64-bit ('base': conda)"
  }
 },
 "nbformat": 4,
 "nbformat_minor": 2,
 "cells": [
  {
   "cell_type": "code",
   "execution_count": 67,
   "metadata": {
    "tags": []
   },
   "outputs": [],
   "source": [
    "import boto3\n",
    "import pandas as pd\n",
    "import numpy as np\n",
    "import sys\n",
    "from io import StringIO\n",
    "import surprise\n",
    "from surprise import accuracy\n",
    "from sklearn.model_selection import train_test_split\n",
    "from surprise import SVD, NMF, KNNBaseline"
   ]
  },
  {
   "cell_type": "code",
   "execution_count": 4,
   "metadata": {},
   "outputs": [],
   "source": [
    "sys.path.insert(1, '../src')\n",
    "from Collaborative_recommender import CollaborativeRecommender"
   ]
  },
  {
   "cell_type": "code",
   "execution_count": 5,
   "metadata": {
    "tags": []
   },
   "outputs": [],
   "source": [
    "%load_ext autoreload\n",
    "%autoreload 2"
   ]
  },
  {
   "cell_type": "code",
   "execution_count": 6,
   "metadata": {
    "tags": []
   },
   "outputs": [],
   "source": [
    "%reload_ext autoreload"
   ]
  },
  {
   "cell_type": "code",
   "execution_count": 7,
   "metadata": {},
   "outputs": [],
   "source": [
    "s3 = boto3.client('s3')"
   ]
  },
  {
   "cell_type": "code",
   "execution_count": 8,
   "metadata": {},
   "outputs": [],
   "source": [
    "df_all_15 = pd.read_csv(\"s3://recommender-system-amazon/df_all_15_text.csv\")"
   ]
  },
  {
   "cell_type": "code",
   "execution_count": 9,
   "metadata": {},
   "outputs": [
    {
     "output_type": "execute_result",
     "data": {
      "text/plain": "   Unnamed: 0  fit                                              title  \\\n0           0  NaN  Black Mountain Products Resistance Band Set wi...   \n1           1  NaN  Black Mountain Products Resistance Band Set wi...   \n2           2  NaN  Black Mountain Products Resistance Band Set wi...   \n3           3  NaN  Black Mountain Products Resistance Band Set wi...   \n4           4  NaN  Black Mountain Products Resistance Band Set wi...   \n\n                                            also_buy  \\\n0  ['1612431712', 'B01AVDVHTI', 'B002YQUP7Q', 'B0...   \n1  ['1612431712', 'B01AVDVHTI', 'B002YQUP7Q', 'B0...   \n2  ['1612431712', 'B01AVDVHTI', 'B002YQUP7Q', 'B0...   \n3  ['1612431712', 'B01AVDVHTI', 'B002YQUP7Q', 'B0...   \n4  ['1612431712', 'B01AVDVHTI', 'B002YQUP7Q', 'B0...   \n\n                                             image_x   price        asin  \\\n0  ['https://images-na.ssl-images-amazon.com/imag...  $17.32  7245456313   \n1  ['https://images-na.ssl-images-amazon.com/imag...  $17.32  7245456313   \n2  ['https://images-na.ssl-images-amazon.com/imag...  $17.32  7245456313   \n3  ['https://images-na.ssl-images-amazon.com/imag...  $17.32  7245456313   \n4  ['https://images-na.ssl-images-amazon.com/imag...  $17.32  7245456313   \n\n   overall      reviewerID                                         reviewText  \\\n0      5.0  A1J5VYG8O0YEMB                        work advertis work advertis   \n1      4.0   AYMDRRCOPKTCF             four star product arriv prompt describ   \n2      4.0  A3AX86YSUHLELL  great resist band top qualiti okay resist band...   \n3      5.0  A12MJJT1RL2S7K  perfect transport resist band perfect cross fi...   \n4      5.0  A33BKACRGR3H38  awesom great band crosstrain dont like lift gy...   \n\n        item_text                                          title_nlp  \n0  black mountain  black mountain product resist band set door an...  \n1  black mountain  black mountain product resist band set door an...  \n2  black mountain  black mountain product resist band set door an...  \n3  black mountain  black mountain product resist band set door an...  \n4  black mountain  black mountain product resist band set door an...  ",
      "text/html": "<div>\n<style scoped>\n    .dataframe tbody tr th:only-of-type {\n        vertical-align: middle;\n    }\n\n    .dataframe tbody tr th {\n        vertical-align: top;\n    }\n\n    .dataframe thead th {\n        text-align: right;\n    }\n</style>\n<table border=\"1\" class=\"dataframe\">\n  <thead>\n    <tr style=\"text-align: right;\">\n      <th></th>\n      <th>Unnamed: 0</th>\n      <th>fit</th>\n      <th>title</th>\n      <th>also_buy</th>\n      <th>image_x</th>\n      <th>price</th>\n      <th>asin</th>\n      <th>overall</th>\n      <th>reviewerID</th>\n      <th>reviewText</th>\n      <th>item_text</th>\n      <th>title_nlp</th>\n    </tr>\n  </thead>\n  <tbody>\n    <tr>\n      <th>0</th>\n      <td>0</td>\n      <td>NaN</td>\n      <td>Black Mountain Products Resistance Band Set wi...</td>\n      <td>['1612431712', 'B01AVDVHTI', 'B002YQUP7Q', 'B0...</td>\n      <td>['https://images-na.ssl-images-amazon.com/imag...</td>\n      <td>$17.32</td>\n      <td>7245456313</td>\n      <td>5.0</td>\n      <td>A1J5VYG8O0YEMB</td>\n      <td>work advertis work advertis</td>\n      <td>black mountain</td>\n      <td>black mountain product resist band set door an...</td>\n    </tr>\n    <tr>\n      <th>1</th>\n      <td>1</td>\n      <td>NaN</td>\n      <td>Black Mountain Products Resistance Band Set wi...</td>\n      <td>['1612431712', 'B01AVDVHTI', 'B002YQUP7Q', 'B0...</td>\n      <td>['https://images-na.ssl-images-amazon.com/imag...</td>\n      <td>$17.32</td>\n      <td>7245456313</td>\n      <td>4.0</td>\n      <td>AYMDRRCOPKTCF</td>\n      <td>four star product arriv prompt describ</td>\n      <td>black mountain</td>\n      <td>black mountain product resist band set door an...</td>\n    </tr>\n    <tr>\n      <th>2</th>\n      <td>2</td>\n      <td>NaN</td>\n      <td>Black Mountain Products Resistance Band Set wi...</td>\n      <td>['1612431712', 'B01AVDVHTI', 'B002YQUP7Q', 'B0...</td>\n      <td>['https://images-na.ssl-images-amazon.com/imag...</td>\n      <td>$17.32</td>\n      <td>7245456313</td>\n      <td>4.0</td>\n      <td>A3AX86YSUHLELL</td>\n      <td>great resist band top qualiti okay resist band...</td>\n      <td>black mountain</td>\n      <td>black mountain product resist band set door an...</td>\n    </tr>\n    <tr>\n      <th>3</th>\n      <td>3</td>\n      <td>NaN</td>\n      <td>Black Mountain Products Resistance Band Set wi...</td>\n      <td>['1612431712', 'B01AVDVHTI', 'B002YQUP7Q', 'B0...</td>\n      <td>['https://images-na.ssl-images-amazon.com/imag...</td>\n      <td>$17.32</td>\n      <td>7245456313</td>\n      <td>5.0</td>\n      <td>A12MJJT1RL2S7K</td>\n      <td>perfect transport resist band perfect cross fi...</td>\n      <td>black mountain</td>\n      <td>black mountain product resist band set door an...</td>\n    </tr>\n    <tr>\n      <th>4</th>\n      <td>4</td>\n      <td>NaN</td>\n      <td>Black Mountain Products Resistance Band Set wi...</td>\n      <td>['1612431712', 'B01AVDVHTI', 'B002YQUP7Q', 'B0...</td>\n      <td>['https://images-na.ssl-images-amazon.com/imag...</td>\n      <td>$17.32</td>\n      <td>7245456313</td>\n      <td>5.0</td>\n      <td>A33BKACRGR3H38</td>\n      <td>awesom great band crosstrain dont like lift gy...</td>\n      <td>black mountain</td>\n      <td>black mountain product resist band set door an...</td>\n    </tr>\n  </tbody>\n</table>\n</div>"
     },
     "metadata": {},
     "execution_count": 9
    }
   ],
   "source": [
    "df_all_15.head(5)"
   ]
  },
  {
   "cell_type": "code",
   "execution_count": 10,
   "metadata": {},
   "outputs": [
    {
     "output_type": "execute_result",
     "data": {
      "text/plain": "(227509, 12)"
     },
     "metadata": {},
     "execution_count": 10
    }
   ],
   "source": [
    "df_all_15.shape"
   ]
  },
  {
   "cell_type": "code",
   "execution_count": 11,
   "metadata": {},
   "outputs": [
    {
     "output_type": "execute_result",
     "data": {
      "text/plain": "Index(['Unnamed: 0', 'fit', 'title', 'also_buy', 'image_x', 'price', 'asin',\n       'overall', 'reviewerID', 'reviewText', 'item_text', 'title_nlp'],\n      dtype='object')"
     },
     "metadata": {},
     "execution_count": 11
    }
   ],
   "source": [
    "df_all_15.columns"
   ]
  },
  {
   "cell_type": "code",
   "execution_count": 12,
   "metadata": {},
   "outputs": [],
   "source": [
    "df_collab = df_all_15[['reviewerID',\"asin\",\"overall\"]]"
   ]
  },
  {
   "cell_type": "code",
   "execution_count": 13,
   "metadata": {},
   "outputs": [
    {
     "output_type": "execute_result",
     "data": {
      "text/plain": "       reviewerID        asin  overall\n0  A1J5VYG8O0YEMB  7245456313      5.0\n1   AYMDRRCOPKTCF  7245456313      4.0\n2  A3AX86YSUHLELL  7245456313      4.0\n3  A12MJJT1RL2S7K  7245456313      5.0\n4  A33BKACRGR3H38  7245456313      5.0",
      "text/html": "<div>\n<style scoped>\n    .dataframe tbody tr th:only-of-type {\n        vertical-align: middle;\n    }\n\n    .dataframe tbody tr th {\n        vertical-align: top;\n    }\n\n    .dataframe thead th {\n        text-align: right;\n    }\n</style>\n<table border=\"1\" class=\"dataframe\">\n  <thead>\n    <tr style=\"text-align: right;\">\n      <th></th>\n      <th>reviewerID</th>\n      <th>asin</th>\n      <th>overall</th>\n    </tr>\n  </thead>\n  <tbody>\n    <tr>\n      <th>0</th>\n      <td>A1J5VYG8O0YEMB</td>\n      <td>7245456313</td>\n      <td>5.0</td>\n    </tr>\n    <tr>\n      <th>1</th>\n      <td>AYMDRRCOPKTCF</td>\n      <td>7245456313</td>\n      <td>4.0</td>\n    </tr>\n    <tr>\n      <th>2</th>\n      <td>A3AX86YSUHLELL</td>\n      <td>7245456313</td>\n      <td>4.0</td>\n    </tr>\n    <tr>\n      <th>3</th>\n      <td>A12MJJT1RL2S7K</td>\n      <td>7245456313</td>\n      <td>5.0</td>\n    </tr>\n    <tr>\n      <th>4</th>\n      <td>A33BKACRGR3H38</td>\n      <td>7245456313</td>\n      <td>5.0</td>\n    </tr>\n  </tbody>\n</table>\n</div>"
     },
     "metadata": {},
     "execution_count": 13
    }
   ],
   "source": [
    "df_collab.head()"
   ]
  },
  {
   "cell_type": "code",
   "execution_count": 14,
   "metadata": {},
   "outputs": [
    {
     "output_type": "execute_result",
     "data": {
      "text/plain": "(227509, 3)"
     },
     "metadata": {},
     "execution_count": 14
    }
   ],
   "source": [
    "df_collab.shape"
   ]
  },
  {
   "source": [
    "## Using surprise to develop a collaborative filter (NMF based method)"
   ],
   "cell_type": "markdown",
   "metadata": {}
  },
  {
   "cell_type": "code",
   "execution_count": 73,
   "metadata": {},
   "outputs": [],
   "source": [
    "reader = surprise.Reader(rating_scale=(1,5))\n",
    "recom = CollaborativeRecommender(df_collab,reader,NMF)"
   ]
  },
  {
   "source": [
    "Use grid search to find the best paramaters for the model"
   ],
   "cell_type": "markdown",
   "metadata": {}
  },
  {
   "cell_type": "code",
   "execution_count": 74,
   "metadata": {},
   "outputs": [
    {
     "output_type": "execute_result",
     "data": {
      "text/plain": "<Collaborative_recommender.CollaborativeRecommender at 0x7f9a40b498d0>"
     },
     "metadata": {},
     "execution_count": 74
    }
   ],
   "source": [
    "# param_grid = {'n_factors': [4,8,12,16,20,24,32], 'lr_all': [0.002, 0.005], 'n_epochs': [5, 10]}\n",
    "param_grid = {'n_factors': [8,15,23,30,37,42], 'n_epochs': [5, 10]}\n",
    "recom.grid(param_grid,cv=3)\n",
    "recom.fit()\n"
   ]
  },
  {
   "source": [
    "Accuracy for the best model and predictions"
   ],
   "cell_type": "markdown",
   "metadata": {}
  },
  {
   "cell_type": "code",
   "execution_count": 151,
   "metadata": {
    "tags": []
   },
   "outputs": [
    {
     "output_type": "stream",
     "name": "stdout",
     "text": "RMSE: 0.6882\naccuracy of the best model: 0.6881553414630098\n"
    }
   ],
   "source": [
    "df_pred, acc = recom.pred()\n",
    "\n",
    "print(f'accuracy of the best model: {acc}')"
   ]
  },
  {
   "source": [
    "Prediction matrix"
   ],
   "cell_type": "markdown",
   "metadata": {}
  },
  {
   "cell_type": "code",
   "execution_count": 153,
   "metadata": {},
   "outputs": [
    {
     "output_type": "execute_result",
     "data": {
      "text/plain": "                   uid         iid  r_ui       est                    details  \\\n0       A1J5VYG8O0YEMB  7245456313   5.0  4.773593  {'was_impossible': False}   \n1       A1J5VYG8O0YEMB  B001RWUZ0U   4.0  4.608998  {'was_impossible': False}   \n2       A1J5VYG8O0YEMB  B004RDP2I6   4.0  4.476702  {'was_impossible': False}   \n3       A1J5VYG8O0YEMB  B00MAJKX9M   5.0  5.000000  {'was_impossible': False}   \n4       A1J5VYG8O0YEMB  B00TOKD51S   4.0  4.438862  {'was_impossible': False}   \n...                ...         ...   ...       ...                        ...   \n227504  A2N7AV15HVN942  B01G81DGH8   4.0  4.376809  {'was_impossible': False}   \n227505  A2WTSMH8S7BEFZ  B01GA3N9MQ   4.0  4.282289  {'was_impossible': False}   \n227506  A2YV0C9IG1KBMQ  B01GPXBOVY   5.0  5.000000  {'was_impossible': False}   \n227507  A2J8289OOT5DE4  B01H8CZ91M   4.0  4.365305  {'was_impossible': False}   \n227508  A300QB98FO5UBO  B01H8CZ91M   5.0  5.000000  {'was_impossible': False}   \n\n             err  Iu   Ui  \n0       0.226407   5  176  \n1       0.608998   5   60  \n2       0.476702   5   19  \n3       0.000000   5   62  \n4       0.438862   5   32  \n...          ...  ..  ...  \n227504  0.376809   1    8  \n227505  0.282289   1   62  \n227506  0.000000   1   32  \n227507  0.365305   1   66  \n227508  0.000000   1   66  \n\n[227509 rows x 8 columns]",
      "text/html": "<div>\n<style scoped>\n    .dataframe tbody tr th:only-of-type {\n        vertical-align: middle;\n    }\n\n    .dataframe tbody tr th {\n        vertical-align: top;\n    }\n\n    .dataframe thead th {\n        text-align: right;\n    }\n</style>\n<table border=\"1\" class=\"dataframe\">\n  <thead>\n    <tr style=\"text-align: right;\">\n      <th></th>\n      <th>uid</th>\n      <th>iid</th>\n      <th>r_ui</th>\n      <th>est</th>\n      <th>details</th>\n      <th>err</th>\n      <th>Iu</th>\n      <th>Ui</th>\n    </tr>\n  </thead>\n  <tbody>\n    <tr>\n      <th>0</th>\n      <td>A1J5VYG8O0YEMB</td>\n      <td>7245456313</td>\n      <td>5.0</td>\n      <td>4.773593</td>\n      <td>{'was_impossible': False}</td>\n      <td>0.226407</td>\n      <td>5</td>\n      <td>176</td>\n    </tr>\n    <tr>\n      <th>1</th>\n      <td>A1J5VYG8O0YEMB</td>\n      <td>B001RWUZ0U</td>\n      <td>4.0</td>\n      <td>4.608998</td>\n      <td>{'was_impossible': False}</td>\n      <td>0.608998</td>\n      <td>5</td>\n      <td>60</td>\n    </tr>\n    <tr>\n      <th>2</th>\n      <td>A1J5VYG8O0YEMB</td>\n      <td>B004RDP2I6</td>\n      <td>4.0</td>\n      <td>4.476702</td>\n      <td>{'was_impossible': False}</td>\n      <td>0.476702</td>\n      <td>5</td>\n      <td>19</td>\n    </tr>\n    <tr>\n      <th>3</th>\n      <td>A1J5VYG8O0YEMB</td>\n      <td>B00MAJKX9M</td>\n      <td>5.0</td>\n      <td>5.000000</td>\n      <td>{'was_impossible': False}</td>\n      <td>0.000000</td>\n      <td>5</td>\n      <td>62</td>\n    </tr>\n    <tr>\n      <th>4</th>\n      <td>A1J5VYG8O0YEMB</td>\n      <td>B00TOKD51S</td>\n      <td>4.0</td>\n      <td>4.438862</td>\n      <td>{'was_impossible': False}</td>\n      <td>0.438862</td>\n      <td>5</td>\n      <td>32</td>\n    </tr>\n    <tr>\n      <th>...</th>\n      <td>...</td>\n      <td>...</td>\n      <td>...</td>\n      <td>...</td>\n      <td>...</td>\n      <td>...</td>\n      <td>...</td>\n      <td>...</td>\n    </tr>\n    <tr>\n      <th>227504</th>\n      <td>A2N7AV15HVN942</td>\n      <td>B01G81DGH8</td>\n      <td>4.0</td>\n      <td>4.376809</td>\n      <td>{'was_impossible': False}</td>\n      <td>0.376809</td>\n      <td>1</td>\n      <td>8</td>\n    </tr>\n    <tr>\n      <th>227505</th>\n      <td>A2WTSMH8S7BEFZ</td>\n      <td>B01GA3N9MQ</td>\n      <td>4.0</td>\n      <td>4.282289</td>\n      <td>{'was_impossible': False}</td>\n      <td>0.282289</td>\n      <td>1</td>\n      <td>62</td>\n    </tr>\n    <tr>\n      <th>227506</th>\n      <td>A2YV0C9IG1KBMQ</td>\n      <td>B01GPXBOVY</td>\n      <td>5.0</td>\n      <td>5.000000</td>\n      <td>{'was_impossible': False}</td>\n      <td>0.000000</td>\n      <td>1</td>\n      <td>32</td>\n    </tr>\n    <tr>\n      <th>227507</th>\n      <td>A2J8289OOT5DE4</td>\n      <td>B01H8CZ91M</td>\n      <td>4.0</td>\n      <td>4.365305</td>\n      <td>{'was_impossible': False}</td>\n      <td>0.365305</td>\n      <td>1</td>\n      <td>66</td>\n    </tr>\n    <tr>\n      <th>227508</th>\n      <td>A300QB98FO5UBO</td>\n      <td>B01H8CZ91M</td>\n      <td>5.0</td>\n      <td>5.000000</td>\n      <td>{'was_impossible': False}</td>\n      <td>0.000000</td>\n      <td>1</td>\n      <td>66</td>\n    </tr>\n  </tbody>\n</table>\n<p>227509 rows × 8 columns</p>\n</div>"
     },
     "metadata": {},
     "execution_count": 153
    }
   ],
   "source": [
    "df_pred['Iu'] = df_pred.uid.apply(recom.get_Iu)\n",
    "df_pred['Ui'] = df_pred.iid.apply(recom.get_Ui)\n",
    "df_pred"
   ]
  },
  {
   "source": [
    "Utility Matrix"
   ],
   "cell_type": "markdown",
   "metadata": {}
  },
  {
   "cell_type": "code",
   "execution_count": 158,
   "metadata": {},
   "outputs": [
    {
     "output_type": "execute_result",
     "data": {
      "text/plain": "iid                   7245456275  7245456313  B00003G4JR  B00004NKIQ  \\\nuid                                                                    \nA0029274J35Q1MYNKUWO         NaN         NaN         NaN         NaN   \nA0098869QS7I6WOAODWI         NaN         NaN         NaN         NaN   \nA0289048PRWFY7ZXQKCD         NaN         NaN         NaN         NaN   \nA0418008MEWDDIUPHXP7         NaN         NaN         NaN         NaN   \nA0464351OZXPUPKGI6HO         NaN         NaN         NaN         NaN   \n...                          ...         ...         ...         ...   \nAZZ2W9JD10R3H                NaN         NaN         NaN         NaN   \nAZZCSO2MC725N                NaN         NaN         NaN         NaN   \nAZZG39P6RDCHL                NaN         NaN         NaN         NaN   \nAZZKYP9254H32                NaN         NaN         NaN         NaN   \nAZZYI1EW1WY3M                NaN         NaN         NaN         NaN   \n\niid                   B00004SYN6  B00004T11T  B00004TBLW  B00004YTPE  \\\nuid                                                                    \nA0029274J35Q1MYNKUWO         NaN         NaN         NaN         NaN   \nA0098869QS7I6WOAODWI         NaN         NaN         NaN         NaN   \nA0289048PRWFY7ZXQKCD         NaN         NaN         NaN         NaN   \nA0418008MEWDDIUPHXP7         NaN         NaN         NaN         NaN   \nA0464351OZXPUPKGI6HO         NaN         NaN         NaN         NaN   \n...                          ...         ...         ...         ...   \nAZZ2W9JD10R3H                NaN         NaN         NaN         NaN   \nAZZCSO2MC725N                NaN         NaN         NaN         NaN   \nAZZG39P6RDCHL                NaN         NaN         NaN         NaN   \nAZZKYP9254H32                NaN         NaN         NaN         NaN   \nAZZYI1EW1WY3M                NaN         NaN         NaN         NaN   \n\niid                   B000051ZHS  B0000568SY  ...  B01HAGT6G0  B01HBACO4G  \\\nuid                                           ...                           \nA0029274J35Q1MYNKUWO         NaN         NaN  ...         NaN         NaN   \nA0098869QS7I6WOAODWI         NaN         NaN  ...         NaN         NaN   \nA0289048PRWFY7ZXQKCD         NaN         NaN  ...         NaN         NaN   \nA0418008MEWDDIUPHXP7         NaN         NaN  ...         NaN         NaN   \nA0464351OZXPUPKGI6HO         NaN         NaN  ...         NaN         NaN   \n...                          ...         ...  ...         ...         ...   \nAZZ2W9JD10R3H                NaN         NaN  ...         NaN         NaN   \nAZZCSO2MC725N                NaN         NaN  ...         NaN         NaN   \nAZZG39P6RDCHL                NaN         NaN  ...         NaN         NaN   \nAZZKYP9254H32                NaN         NaN  ...         NaN         NaN   \nAZZYI1EW1WY3M                NaN         NaN  ...         NaN         NaN   \n\niid                   B01HBPL78K  B01HCI0I6S  B01HCKR9ZE  B01HCU3NTU  \\\nuid                                                                    \nA0029274J35Q1MYNKUWO         NaN         NaN         NaN         NaN   \nA0098869QS7I6WOAODWI         NaN         NaN         NaN         NaN   \nA0289048PRWFY7ZXQKCD         NaN         NaN         NaN         NaN   \nA0418008MEWDDIUPHXP7         5.0         NaN         NaN         NaN   \nA0464351OZXPUPKGI6HO         NaN         NaN         NaN         NaN   \n...                          ...         ...         ...         ...   \nAZZ2W9JD10R3H                NaN         NaN         NaN         NaN   \nAZZCSO2MC725N                NaN         NaN         NaN         NaN   \nAZZG39P6RDCHL                NaN         NaN         NaN         NaN   \nAZZKYP9254H32                NaN         NaN         NaN         NaN   \nAZZYI1EW1WY3M                NaN         NaN         NaN         NaN   \n\niid                   B01HD17S3A  B01HE0PMFQ  B01HEYYKLO  B01HHB2HK0  \nuid                                                                   \nA0029274J35Q1MYNKUWO         NaN         NaN         NaN         NaN  \nA0098869QS7I6WOAODWI         NaN         NaN         NaN         NaN  \nA0289048PRWFY7ZXQKCD         NaN         NaN         NaN         NaN  \nA0418008MEWDDIUPHXP7         NaN         NaN         NaN         NaN  \nA0464351OZXPUPKGI6HO         NaN         NaN         NaN         NaN  \n...                          ...         ...         ...         ...  \nAZZ2W9JD10R3H                NaN         NaN         NaN         NaN  \nAZZCSO2MC725N                NaN         NaN         NaN         NaN  \nAZZG39P6RDCHL                NaN         NaN         NaN         NaN  \nAZZKYP9254H32                NaN         NaN         NaN         NaN  \nAZZYI1EW1WY3M                NaN         NaN         NaN         NaN  \n\n[29419 rows x 7119 columns]",
      "text/html": "<div>\n<style scoped>\n    .dataframe tbody tr th:only-of-type {\n        vertical-align: middle;\n    }\n\n    .dataframe tbody tr th {\n        vertical-align: top;\n    }\n\n    .dataframe thead th {\n        text-align: right;\n    }\n</style>\n<table border=\"1\" class=\"dataframe\">\n  <thead>\n    <tr style=\"text-align: right;\">\n      <th>iid</th>\n      <th>7245456275</th>\n      <th>7245456313</th>\n      <th>B00003G4JR</th>\n      <th>B00004NKIQ</th>\n      <th>B00004SYN6</th>\n      <th>B00004T11T</th>\n      <th>B00004TBLW</th>\n      <th>B00004YTPE</th>\n      <th>B000051ZHS</th>\n      <th>B0000568SY</th>\n      <th>...</th>\n      <th>B01HAGT6G0</th>\n      <th>B01HBACO4G</th>\n      <th>B01HBPL78K</th>\n      <th>B01HCI0I6S</th>\n      <th>B01HCKR9ZE</th>\n      <th>B01HCU3NTU</th>\n      <th>B01HD17S3A</th>\n      <th>B01HE0PMFQ</th>\n      <th>B01HEYYKLO</th>\n      <th>B01HHB2HK0</th>\n    </tr>\n    <tr>\n      <th>uid</th>\n      <th></th>\n      <th></th>\n      <th></th>\n      <th></th>\n      <th></th>\n      <th></th>\n      <th></th>\n      <th></th>\n      <th></th>\n      <th></th>\n      <th></th>\n      <th></th>\n      <th></th>\n      <th></th>\n      <th></th>\n      <th></th>\n      <th></th>\n      <th></th>\n      <th></th>\n      <th></th>\n      <th></th>\n    </tr>\n  </thead>\n  <tbody>\n    <tr>\n      <th>A0029274J35Q1MYNKUWO</th>\n      <td>NaN</td>\n      <td>NaN</td>\n      <td>NaN</td>\n      <td>NaN</td>\n      <td>NaN</td>\n      <td>NaN</td>\n      <td>NaN</td>\n      <td>NaN</td>\n      <td>NaN</td>\n      <td>NaN</td>\n      <td>...</td>\n      <td>NaN</td>\n      <td>NaN</td>\n      <td>NaN</td>\n      <td>NaN</td>\n      <td>NaN</td>\n      <td>NaN</td>\n      <td>NaN</td>\n      <td>NaN</td>\n      <td>NaN</td>\n      <td>NaN</td>\n    </tr>\n    <tr>\n      <th>A0098869QS7I6WOAODWI</th>\n      <td>NaN</td>\n      <td>NaN</td>\n      <td>NaN</td>\n      <td>NaN</td>\n      <td>NaN</td>\n      <td>NaN</td>\n      <td>NaN</td>\n      <td>NaN</td>\n      <td>NaN</td>\n      <td>NaN</td>\n      <td>...</td>\n      <td>NaN</td>\n      <td>NaN</td>\n      <td>NaN</td>\n      <td>NaN</td>\n      <td>NaN</td>\n      <td>NaN</td>\n      <td>NaN</td>\n      <td>NaN</td>\n      <td>NaN</td>\n      <td>NaN</td>\n    </tr>\n    <tr>\n      <th>A0289048PRWFY7ZXQKCD</th>\n      <td>NaN</td>\n      <td>NaN</td>\n      <td>NaN</td>\n      <td>NaN</td>\n      <td>NaN</td>\n      <td>NaN</td>\n      <td>NaN</td>\n      <td>NaN</td>\n      <td>NaN</td>\n      <td>NaN</td>\n      <td>...</td>\n      <td>NaN</td>\n      <td>NaN</td>\n      <td>NaN</td>\n      <td>NaN</td>\n      <td>NaN</td>\n      <td>NaN</td>\n      <td>NaN</td>\n      <td>NaN</td>\n      <td>NaN</td>\n      <td>NaN</td>\n    </tr>\n    <tr>\n      <th>A0418008MEWDDIUPHXP7</th>\n      <td>NaN</td>\n      <td>NaN</td>\n      <td>NaN</td>\n      <td>NaN</td>\n      <td>NaN</td>\n      <td>NaN</td>\n      <td>NaN</td>\n      <td>NaN</td>\n      <td>NaN</td>\n      <td>NaN</td>\n      <td>...</td>\n      <td>NaN</td>\n      <td>NaN</td>\n      <td>5.0</td>\n      <td>NaN</td>\n      <td>NaN</td>\n      <td>NaN</td>\n      <td>NaN</td>\n      <td>NaN</td>\n      <td>NaN</td>\n      <td>NaN</td>\n    </tr>\n    <tr>\n      <th>A0464351OZXPUPKGI6HO</th>\n      <td>NaN</td>\n      <td>NaN</td>\n      <td>NaN</td>\n      <td>NaN</td>\n      <td>NaN</td>\n      <td>NaN</td>\n      <td>NaN</td>\n      <td>NaN</td>\n      <td>NaN</td>\n      <td>NaN</td>\n      <td>...</td>\n      <td>NaN</td>\n      <td>NaN</td>\n      <td>NaN</td>\n      <td>NaN</td>\n      <td>NaN</td>\n      <td>NaN</td>\n      <td>NaN</td>\n      <td>NaN</td>\n      <td>NaN</td>\n      <td>NaN</td>\n    </tr>\n    <tr>\n      <th>...</th>\n      <td>...</td>\n      <td>...</td>\n      <td>...</td>\n      <td>...</td>\n      <td>...</td>\n      <td>...</td>\n      <td>...</td>\n      <td>...</td>\n      <td>...</td>\n      <td>...</td>\n      <td>...</td>\n      <td>...</td>\n      <td>...</td>\n      <td>...</td>\n      <td>...</td>\n      <td>...</td>\n      <td>...</td>\n      <td>...</td>\n      <td>...</td>\n      <td>...</td>\n      <td>...</td>\n    </tr>\n    <tr>\n      <th>AZZ2W9JD10R3H</th>\n      <td>NaN</td>\n      <td>NaN</td>\n      <td>NaN</td>\n      <td>NaN</td>\n      <td>NaN</td>\n      <td>NaN</td>\n      <td>NaN</td>\n      <td>NaN</td>\n      <td>NaN</td>\n      <td>NaN</td>\n      <td>...</td>\n      <td>NaN</td>\n      <td>NaN</td>\n      <td>NaN</td>\n      <td>NaN</td>\n      <td>NaN</td>\n      <td>NaN</td>\n      <td>NaN</td>\n      <td>NaN</td>\n      <td>NaN</td>\n      <td>NaN</td>\n    </tr>\n    <tr>\n      <th>AZZCSO2MC725N</th>\n      <td>NaN</td>\n      <td>NaN</td>\n      <td>NaN</td>\n      <td>NaN</td>\n      <td>NaN</td>\n      <td>NaN</td>\n      <td>NaN</td>\n      <td>NaN</td>\n      <td>NaN</td>\n      <td>NaN</td>\n      <td>...</td>\n      <td>NaN</td>\n      <td>NaN</td>\n      <td>NaN</td>\n      <td>NaN</td>\n      <td>NaN</td>\n      <td>NaN</td>\n      <td>NaN</td>\n      <td>NaN</td>\n      <td>NaN</td>\n      <td>NaN</td>\n    </tr>\n    <tr>\n      <th>AZZG39P6RDCHL</th>\n      <td>NaN</td>\n      <td>NaN</td>\n      <td>NaN</td>\n      <td>NaN</td>\n      <td>NaN</td>\n      <td>NaN</td>\n      <td>NaN</td>\n      <td>NaN</td>\n      <td>NaN</td>\n      <td>NaN</td>\n      <td>...</td>\n      <td>NaN</td>\n      <td>NaN</td>\n      <td>NaN</td>\n      <td>NaN</td>\n      <td>NaN</td>\n      <td>NaN</td>\n      <td>NaN</td>\n      <td>NaN</td>\n      <td>NaN</td>\n      <td>NaN</td>\n    </tr>\n    <tr>\n      <th>AZZKYP9254H32</th>\n      <td>NaN</td>\n      <td>NaN</td>\n      <td>NaN</td>\n      <td>NaN</td>\n      <td>NaN</td>\n      <td>NaN</td>\n      <td>NaN</td>\n      <td>NaN</td>\n      <td>NaN</td>\n      <td>NaN</td>\n      <td>...</td>\n      <td>NaN</td>\n      <td>NaN</td>\n      <td>NaN</td>\n      <td>NaN</td>\n      <td>NaN</td>\n      <td>NaN</td>\n      <td>NaN</td>\n      <td>NaN</td>\n      <td>NaN</td>\n      <td>NaN</td>\n    </tr>\n    <tr>\n      <th>AZZYI1EW1WY3M</th>\n      <td>NaN</td>\n      <td>NaN</td>\n      <td>NaN</td>\n      <td>NaN</td>\n      <td>NaN</td>\n      <td>NaN</td>\n      <td>NaN</td>\n      <td>NaN</td>\n      <td>NaN</td>\n      <td>NaN</td>\n      <td>...</td>\n      <td>NaN</td>\n      <td>NaN</td>\n      <td>NaN</td>\n      <td>NaN</td>\n      <td>NaN</td>\n      <td>NaN</td>\n      <td>NaN</td>\n      <td>NaN</td>\n      <td>NaN</td>\n      <td>NaN</td>\n    </tr>\n  </tbody>\n</table>\n<p>29419 rows × 7119 columns</p>\n</div>"
     },
     "metadata": {},
     "execution_count": 158
    }
   ],
   "source": [
    "UM = recom.utility_matrix()\n",
    "UM"
   ]
  },
  {
   "source": [
    "Get top n items for a given user"
   ],
   "cell_type": "markdown",
   "metadata": {}
  },
  {
   "cell_type": "code",
   "execution_count": 173,
   "metadata": {
    "tags": []
   },
   "outputs": [
    {
     "output_type": "execute_result",
     "data": {
      "text/plain": "            predicted_rating\niid                         \nB002BDOHNA          5.000000\nB004DPNUAK          5.000000\nB004Z5BY3S          5.000000\nB00B2PNHWK          5.000000\nB00HTN4R6O          5.000000\nB000PD6QJ6          4.969687\nB007IWZO54          4.762632\n7245456275               NaN\n7245456313               NaN\nB00003G4JR               NaN",
      "text/html": "<div>\n<style scoped>\n    .dataframe tbody tr th:only-of-type {\n        vertical-align: middle;\n    }\n\n    .dataframe tbody tr th {\n        vertical-align: top;\n    }\n\n    .dataframe thead th {\n        text-align: right;\n    }\n</style>\n<table border=\"1\" class=\"dataframe\">\n  <thead>\n    <tr style=\"text-align: right;\">\n      <th></th>\n      <th>predicted_rating</th>\n    </tr>\n    <tr>\n      <th>iid</th>\n      <th></th>\n    </tr>\n  </thead>\n  <tbody>\n    <tr>\n      <th>B002BDOHNA</th>\n      <td>5.000000</td>\n    </tr>\n    <tr>\n      <th>B004DPNUAK</th>\n      <td>5.000000</td>\n    </tr>\n    <tr>\n      <th>B004Z5BY3S</th>\n      <td>5.000000</td>\n    </tr>\n    <tr>\n      <th>B00B2PNHWK</th>\n      <td>5.000000</td>\n    </tr>\n    <tr>\n      <th>B00HTN4R6O</th>\n      <td>5.000000</td>\n    </tr>\n    <tr>\n      <th>B000PD6QJ6</th>\n      <td>4.969687</td>\n    </tr>\n    <tr>\n      <th>B007IWZO54</th>\n      <td>4.762632</td>\n    </tr>\n    <tr>\n      <th>7245456275</th>\n      <td>NaN</td>\n    </tr>\n    <tr>\n      <th>7245456313</th>\n      <td>NaN</td>\n    </tr>\n    <tr>\n      <th>B00003G4JR</th>\n      <td>NaN</td>\n    </tr>\n  </tbody>\n</table>\n</div>"
     },
     "metadata": {},
     "execution_count": 173
    }
   ],
   "source": [
    "UI = \"AZZG39P6RDCHL\"\n",
    "recom.get_top_n(UI)"
   ]
  }
 ]
}