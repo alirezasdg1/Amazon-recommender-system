{
 "metadata": {
  "language_info": {
   "codemirror_mode": {
    "name": "ipython",
    "version": 3
   },
   "file_extension": ".py",
   "mimetype": "text/x-python",
   "name": "python",
   "nbconvert_exporter": "python",
   "pygments_lexer": "ipython3",
   "version": "3.7.6-final"
  },
  "orig_nbformat": 2,
  "kernelspec": {
   "name": "python_defaultSpec_1600550334513",
   "display_name": "Python 3.7.6 64-bit ('base': conda)"
  }
 },
 "nbformat": 4,
 "nbformat_minor": 2,
 "cells": [
  {
   "cell_type": "code",
   "execution_count": 67,
   "metadata": {
    "tags": []
   },
   "outputs": [],
   "source": [
    "import boto3\n",
    "import pandas as pd\n",
    "import numpy as np\n",
    "import sys\n",
    "from io import StringIO\n",
    "import surprise\n",
    "from surprise import accuracy\n",
    "from sklearn.model_selection import train_test_split\n",
    "from surprise import SVD, NMF, KNNBaseline"
   ]
  },
  {
   "cell_type": "code",
   "execution_count": 4,
   "metadata": {},
   "outputs": [],
   "source": [
    "sys.path.insert(1, '../src')\n",
    "from Collaborative_recommender import CollaborativeRecommender"
   ]
  },
  {
   "cell_type": "code",
   "execution_count": 5,
   "metadata": {
    "tags": []
   },
   "outputs": [],
   "source": [
    "%load_ext autoreload\n",
    "%autoreload 2"
   ]
  },
  {
   "cell_type": "code",
   "execution_count": 6,
   "metadata": {
    "tags": []
   },
   "outputs": [],
   "source": [
    "%reload_ext autoreload"
   ]
  },
  {
   "cell_type": "code",
   "execution_count": 7,
   "metadata": {},
   "outputs": [],
   "source": [
    "s3 = boto3.client('s3')"
   ]
  },
  {
   "cell_type": "code",
   "execution_count": 8,
   "metadata": {},
   "outputs": [],
   "source": [
    "df_all_15 = pd.read_csv(\"s3://recommender-system-amazon/df_all_15_text.csv\")"
   ]
  },
  {
   "cell_type": "code",
   "execution_count": 9,
   "metadata": {},
   "outputs": [
    {
     "output_type": "execute_result",
     "data": {
      "text/plain": "   Unnamed: 0  fit                                              title  \\\n0           0  NaN  Black Mountain Products Resistance Band Set wi...   \n1           1  NaN  Black Mountain Products Resistance Band Set wi...   \n2           2  NaN  Black Mountain Products Resistance Band Set wi...   \n3           3  NaN  Black Mountain Products Resistance Band Set wi...   \n4           4  NaN  Black Mountain Products Resistance Band Set wi...   \n\n                                            also_buy  \\\n0  ['1612431712', 'B01AVDVHTI', 'B002YQUP7Q', 'B0...   \n1  ['1612431712', 'B01AVDVHTI', 'B002YQUP7Q', 'B0...   \n2  ['1612431712', 'B01AVDVHTI', 'B002YQUP7Q', 'B0...   \n3  ['1612431712', 'B01AVDVHTI', 'B002YQUP7Q', 'B0...   \n4  ['1612431712', 'B01AVDVHTI', 'B002YQUP7Q', 'B0...   \n\n                                             image_x   price        asin  \\\n0  ['https://images-na.ssl-images-amazon.com/imag...  $17.32  7245456313   \n1  ['https://images-na.ssl-images-amazon.com/imag...  $17.32  7245456313   \n2  ['https://images-na.ssl-images-amazon.com/imag...  $17.32  7245456313   \n3  ['https://images-na.ssl-images-amazon.com/imag...  $17.32  7245456313   \n4  ['https://images-na.ssl-images-amazon.com/imag...  $17.32  7245456313   \n\n   overall      reviewerID                                         reviewText  \\\n0      5.0  A1J5VYG8O0YEMB                        work advertis work advertis   \n1      4.0   AYMDRRCOPKTCF             four star product arriv prompt describ   \n2      4.0  A3AX86YSUHLELL  great resist band top qualiti okay resist band...   \n3      5.0  A12MJJT1RL2S7K  perfect transport resist band perfect cross fi...   \n4      5.0  A33BKACRGR3H38  awesom great band crosstrain dont like lift gy...   \n\n        item_text                                          title_nlp  \n0  black mountain  black mountain product resist band set door an...  \n1  black mountain  black mountain product resist band set door an...  \n2  black mountain  black mountain product resist band set door an...  \n3  black mountain  black mountain product resist band set door an...  \n4  black mountain  black mountain product resist band set door an...  ",
      "text/html": "<div>\n<style scoped>\n    .dataframe tbody tr th:only-of-type {\n        vertical-align: middle;\n    }\n\n    .dataframe tbody tr th {\n        vertical-align: top;\n    }\n\n    .dataframe thead th {\n        text-align: right;\n    }\n</style>\n<table border=\"1\" class=\"dataframe\">\n  <thead>\n    <tr style=\"text-align: right;\">\n      <th></th>\n      <th>Unnamed: 0</th>\n      <th>fit</th>\n      <th>title</th>\n      <th>also_buy</th>\n      <th>image_x</th>\n      <th>price</th>\n      <th>asin</th>\n      <th>overall</th>\n      <th>reviewerID</th>\n      <th>reviewText</th>\n      <th>item_text</th>\n      <th>title_nlp</th>\n    </tr>\n  </thead>\n  <tbody>\n    <tr>\n      <th>0</th>\n      <td>0</td>\n      <td>NaN</td>\n      <td>Black Mountain Products Resistance Band Set wi...</td>\n      <td>['1612431712', 'B01AVDVHTI', 'B002YQUP7Q', 'B0...</td>\n      <td>['https://images-na.ssl-images-amazon.com/imag...</td>\n      <td>$17.32</td>\n      <td>7245456313</td>\n      <td>5.0</td>\n      <td>A1J5VYG8O0YEMB</td>\n      <td>work advertis work advertis</td>\n      <td>black mountain</td>\n      <td>black mountain product resist band set door an...</td>\n    </tr>\n    <tr>\n      <th>1</th>\n      <td>1</td>\n      <td>NaN</td>\n      <td>Black Mountain Products Resistance Band Set wi...</td>\n      <td>['1612431712', 'B01AVDVHTI', 'B002YQUP7Q', 'B0...</td>\n      <td>['https://images-na.ssl-images-amazon.com/imag...</td>\n      <td>$17.32</td>\n      <td>7245456313</td>\n      <td>4.0</td>\n      <td>AYMDRRCOPKTCF</td>\n      <td>four star product arriv prompt describ</td>\n      <td>black mountain</td>\n      <td>black mountain product resist band set door an...</td>\n    </tr>\n    <tr>\n      <th>2</th>\n      <td>2</td>\n      <td>NaN</td>\n      <td>Black Mountain Products Resistance Band Set wi...</td>\n      <td>['1612431712', 'B01AVDVHTI', 'B002YQUP7Q', 'B0...</td>\n      <td>['https://images-na.ssl-images-amazon.com/imag...</td>\n      <td>$17.32</td>\n      <td>7245456313</td>\n      <td>4.0</td>\n      <td>A3AX86YSUHLELL</td>\n      <td>great resist band top qualiti okay resist band...</td>\n      <td>black mountain</td>\n      <td>black mountain product resist band set door an...</td>\n    </tr>\n    <tr>\n      <th>3</th>\n      <td>3</td>\n      <td>NaN</td>\n      <td>Black Mountain Products Resistance Band Set wi...</td>\n      <td>['1612431712', 'B01AVDVHTI', 'B002YQUP7Q', 'B0...</td>\n      <td>['https://images-na.ssl-images-amazon.com/imag...</td>\n      <td>$17.32</td>\n      <td>7245456313</td>\n      <td>5.0</td>\n      <td>A12MJJT1RL2S7K</td>\n      <td>perfect transport resist band perfect cross fi...</td>\n      <td>black mountain</td>\n      <td>black mountain product resist band set door an...</td>\n    </tr>\n    <tr>\n      <th>4</th>\n      <td>4</td>\n      <td>NaN</td>\n      <td>Black Mountain Products Resistance Band Set wi...</td>\n      <td>['1612431712', 'B01AVDVHTI', 'B002YQUP7Q', 'B0...</td>\n      <td>['https://images-na.ssl-images-amazon.com/imag...</td>\n      <td>$17.32</td>\n      <td>7245456313</td>\n      <td>5.0</td>\n      <td>A33BKACRGR3H38</td>\n      <td>awesom great band crosstrain dont like lift gy...</td>\n      <td>black mountain</td>\n      <td>black mountain product resist band set door an...</td>\n    </tr>\n  </tbody>\n</table>\n</div>"
     },
     "metadata": {},
     "execution_count": 9
    }
   ],
   "source": [
    "df_all_15.head(5)"
   ]
  },
  {
   "cell_type": "code",
   "execution_count": 10,
   "metadata": {},
   "outputs": [
    {
     "output_type": "execute_result",
     "data": {
      "text/plain": "(227509, 12)"
     },
     "metadata": {},
     "execution_count": 10
    }
   ],
   "source": [
    "df_all_15.shape"
   ]
  },
  {
   "cell_type": "code",
   "execution_count": 11,
   "metadata": {},
   "outputs": [
    {
     "output_type": "execute_result",
     "data": {
      "text/plain": "Index(['Unnamed: 0', 'fit', 'title', 'also_buy', 'image_x', 'price', 'asin',\n       'overall', 'reviewerID', 'reviewText', 'item_text', 'title_nlp'],\n      dtype='object')"
     },
     "metadata": {},
     "execution_count": 11
    }
   ],
   "source": [
    "df_all_15.columns"
   ]
  },
  {
   "cell_type": "code",
   "execution_count": 12,
   "metadata": {},
   "outputs": [],
   "source": [
    "df_collab = df_all_15[['reviewerID',\"asin\",\"overall\"]]"
   ]
  },
  {
   "cell_type": "code",
   "execution_count": 13,
   "metadata": {},
   "outputs": [
    {
     "output_type": "execute_result",
     "data": {
      "text/plain": "       reviewerID        asin  overall\n0  A1J5VYG8O0YEMB  7245456313      5.0\n1   AYMDRRCOPKTCF  7245456313      4.0\n2  A3AX86YSUHLELL  7245456313      4.0\n3  A12MJJT1RL2S7K  7245456313      5.0\n4  A33BKACRGR3H38  7245456313      5.0",
      "text/html": "<div>\n<style scoped>\n    .dataframe tbody tr th:only-of-type {\n        vertical-align: middle;\n    }\n\n    .dataframe tbody tr th {\n        vertical-align: top;\n    }\n\n    .dataframe thead th {\n        text-align: right;\n    }\n</style>\n<table border=\"1\" class=\"dataframe\">\n  <thead>\n    <tr style=\"text-align: right;\">\n      <th></th>\n      <th>reviewerID</th>\n      <th>asin</th>\n      <th>overall</th>\n    </tr>\n  </thead>\n  <tbody>\n    <tr>\n      <th>0</th>\n      <td>A1J5VYG8O0YEMB</td>\n      <td>7245456313</td>\n      <td>5.0</td>\n    </tr>\n    <tr>\n      <th>1</th>\n      <td>AYMDRRCOPKTCF</td>\n      <td>7245456313</td>\n      <td>4.0</td>\n    </tr>\n    <tr>\n      <th>2</th>\n      <td>A3AX86YSUHLELL</td>\n      <td>7245456313</td>\n      <td>4.0</td>\n    </tr>\n    <tr>\n      <th>3</th>\n      <td>A12MJJT1RL2S7K</td>\n      <td>7245456313</td>\n      <td>5.0</td>\n    </tr>\n    <tr>\n      <th>4</th>\n      <td>A33BKACRGR3H38</td>\n      <td>7245456313</td>\n      <td>5.0</td>\n    </tr>\n  </tbody>\n</table>\n</div>"
     },
     "metadata": {},
     "execution_count": 13
    }
   ],
   "source": [
    "df_collab.head()"
   ]
  },
  {
   "cell_type": "code",
   "execution_count": 14,
   "metadata": {},
   "outputs": [
    {
     "output_type": "execute_result",
     "data": {
      "text/plain": "(227509, 3)"
     },
     "metadata": {},
     "execution_count": 14
    }
   ],
   "source": [
    "df_collab.shape"
   ]
  },
  {
   "cell_type": "code",
   "execution_count": 22,
   "metadata": {},
   "outputs": [],
   "source": [
    "UM = pd.pivot_table(df_collab,index='reviewerID', columns='asin', values='overall')"
   ]
  },
  {
   "cell_type": "code",
   "execution_count": null,
   "metadata": {},
   "outputs": [],
   "source": [
    "UM"
   ]
  },
  {
   "cell_type": "code",
   "execution_count": 44,
   "metadata": {},
   "outputs": [],
   "source": [
    "b = (~np.isnan(UM.values)).sum()"
   ]
  },
  {
   "cell_type": "code",
   "execution_count": 47,
   "metadata": {},
   "outputs": [
    {
     "output_type": "execute_result",
     "data": {
      "text/plain": "0.034218338461255854"
     },
     "metadata": {},
     "execution_count": 47
    }
   ],
   "source": [
    "b/(b+a)*100"
   ]
  },
  {
   "cell_type": "code",
   "execution_count": 18,
   "metadata": {},
   "outputs": [
    {
     "output_type": "execute_result",
     "data": {
      "text/plain": "             overall\ncount  227509.000000\nmean        4.474311\nstd         0.955971\nmin         1.000000\n25%         4.000000\n50%         5.000000\n75%         5.000000\nmax         5.000000",
      "text/html": "<div>\n<style scoped>\n    .dataframe tbody tr th:only-of-type {\n        vertical-align: middle;\n    }\n\n    .dataframe tbody tr th {\n        vertical-align: top;\n    }\n\n    .dataframe thead th {\n        text-align: right;\n    }\n</style>\n<table border=\"1\" class=\"dataframe\">\n  <thead>\n    <tr style=\"text-align: right;\">\n      <th></th>\n      <th>overall</th>\n    </tr>\n  </thead>\n  <tbody>\n    <tr>\n      <th>count</th>\n      <td>227509.000000</td>\n    </tr>\n    <tr>\n      <th>mean</th>\n      <td>4.474311</td>\n    </tr>\n    <tr>\n      <th>std</th>\n      <td>0.955971</td>\n    </tr>\n    <tr>\n      <th>min</th>\n      <td>1.000000</td>\n    </tr>\n    <tr>\n      <th>25%</th>\n      <td>4.000000</td>\n    </tr>\n    <tr>\n      <th>50%</th>\n      <td>5.000000</td>\n    </tr>\n    <tr>\n      <th>75%</th>\n      <td>5.000000</td>\n    </tr>\n    <tr>\n      <th>max</th>\n      <td>5.000000</td>\n    </tr>\n  </tbody>\n</table>\n</div>"
     },
     "metadata": {},
     "execution_count": 18
    }
   ],
   "source": [
    "df_collab.describe()"
   ]
  },
  {
   "source": [
    "## Using surprise to develop a collaborative filter (NMF based method)"
   ],
   "cell_type": "markdown",
   "metadata": {}
  },
  {
   "cell_type": "code",
   "execution_count": 73,
   "metadata": {},
   "outputs": [],
   "source": [
    "reader = surprise.Reader(rating_scale=(1,5))\n",
    "recom = CollaborativeRecommender(df_collab,reader,NMF)"
   ]
  },
  {
   "source": [
    "Use grid search to find the best paramaters for the model"
   ],
   "cell_type": "markdown",
   "metadata": {}
  },
  {
   "cell_type": "code",
   "execution_count": 74,
   "metadata": {},
   "outputs": [
    {
     "output_type": "execute_result",
     "data": {
      "text/plain": "<Collaborative_recommender.CollaborativeRecommender at 0x7f9a40b498d0>"
     },
     "metadata": {},
     "execution_count": 74
    }
   ],
   "source": [
    "# param_grid = {'n_factors': [4,8,12,16,20,24,32], 'lr_all': [0.002, 0.005], 'n_epochs': [5, 10]}\n",
    "param_grid = {'n_factors': [8,15,23,30,37,42], 'n_epochs': [5, 10]}\n",
    "recom.grid(param_grid,cv=3)\n",
    "recom.fit()\n"
   ]
  },
  {
   "source": [
    "Accuracy for the best model"
   ],
   "cell_type": "markdown",
   "metadata": {}
  },
  {
   "cell_type": "code",
   "execution_count": 38,
   "metadata": {
    "tags": []
   },
   "outputs": [
    {
     "output_type": "stream",
     "name": "stdout",
     "text": "RMSE: 0.6899\naccuracy of the best model: 0.6899440357584086\n"
    }
   ],
   "source": [
    "pred, acc = recom.pred()\n",
    "\n",
    "print(f'accuracy of the best model: {acc}')"
   ]
  },
  {
   "cell_type": "code",
   "execution_count": 39,
   "metadata": {},
   "outputs": [],
   "source": [
    "df_pred = pd.DataFrame.from_dict(pred)\n",
    "df_pred['Iu'] = df_pred.uid.apply(recom.get_Iu)\n",
    "df_pred['Ui'] = df_pred.iid.apply(recom.get_Ui)\n",
    "df_pred['err'] = abs(df_pred.est - df_pred.r_ui)\n",
    "\n"
   ]
  },
  {
   "cell_type": "code",
   "execution_count": 40,
   "metadata": {},
   "outputs": [
    {
     "output_type": "execute_result",
     "data": {
      "text/plain": "                   uid         iid  r_ui  est                    details  Iu  \\\n199801  A3SJFAYA81NIJB  B0072T3X38   1.0  5.0  {'was_impossible': False}  10   \n220094  A3BLY5DYMNWARB  B013XADM6W   1.0  5.0  {'was_impossible': False}   8   \n87673   A26KNV0HTA4U5D  B0030WK1BS   1.0  5.0  {'was_impossible': False}  50   \n121546  A2XWG40J6EUAM0  B003SHBL00   1.0  5.0  {'was_impossible': False}  10   \n173845  A1CT6MLYNBG3L4  B00Z8X3BL4   1.0  5.0  {'was_impossible': False}  15   \n...                ...         ...   ...  ...                        ...  ..   \n106013  A1WZI4N6V5F0EC  B016APS3CU   5.0  5.0  {'was_impossible': False}  15   \n106011  A1WZI4N6V5F0EC  B00SAY9LLC   5.0  5.0  {'was_impossible': False}  15   \n106009  A1WZI4N6V5F0EC  B00JO2BWFC   5.0  5.0  {'was_impossible': False}  15   \n106008  A1WZI4N6V5F0EC  B00I7Z0FDM   5.0  5.0  {'was_impossible': False}  15   \n227508  A300QB98FO5UBO  B01H8CZ91M   5.0  5.0  {'was_impossible': False}   1   \n\n         Ui  err  \n199801  198  4.0  \n220094   26  4.0  \n87673    72  4.0  \n121546   86  4.0  \n173845   34  4.0  \n...     ...  ...  \n106013   33  0.0  \n106011   18  0.0  \n106009   93  0.0  \n106008    8  0.0  \n227508   66  0.0  \n\n[227509 rows x 8 columns]",
      "text/html": "<div>\n<style scoped>\n    .dataframe tbody tr th:only-of-type {\n        vertical-align: middle;\n    }\n\n    .dataframe tbody tr th {\n        vertical-align: top;\n    }\n\n    .dataframe thead th {\n        text-align: right;\n    }\n</style>\n<table border=\"1\" class=\"dataframe\">\n  <thead>\n    <tr style=\"text-align: right;\">\n      <th></th>\n      <th>uid</th>\n      <th>iid</th>\n      <th>r_ui</th>\n      <th>est</th>\n      <th>details</th>\n      <th>Iu</th>\n      <th>Ui</th>\n      <th>err</th>\n    </tr>\n  </thead>\n  <tbody>\n    <tr>\n      <th>199801</th>\n      <td>A3SJFAYA81NIJB</td>\n      <td>B0072T3X38</td>\n      <td>1.0</td>\n      <td>5.0</td>\n      <td>{'was_impossible': False}</td>\n      <td>10</td>\n      <td>198</td>\n      <td>4.0</td>\n    </tr>\n    <tr>\n      <th>220094</th>\n      <td>A3BLY5DYMNWARB</td>\n      <td>B013XADM6W</td>\n      <td>1.0</td>\n      <td>5.0</td>\n      <td>{'was_impossible': False}</td>\n      <td>8</td>\n      <td>26</td>\n      <td>4.0</td>\n    </tr>\n    <tr>\n      <th>87673</th>\n      <td>A26KNV0HTA4U5D</td>\n      <td>B0030WK1BS</td>\n      <td>1.0</td>\n      <td>5.0</td>\n      <td>{'was_impossible': False}</td>\n      <td>50</td>\n      <td>72</td>\n      <td>4.0</td>\n    </tr>\n    <tr>\n      <th>121546</th>\n      <td>A2XWG40J6EUAM0</td>\n      <td>B003SHBL00</td>\n      <td>1.0</td>\n      <td>5.0</td>\n      <td>{'was_impossible': False}</td>\n      <td>10</td>\n      <td>86</td>\n      <td>4.0</td>\n    </tr>\n    <tr>\n      <th>173845</th>\n      <td>A1CT6MLYNBG3L4</td>\n      <td>B00Z8X3BL4</td>\n      <td>1.0</td>\n      <td>5.0</td>\n      <td>{'was_impossible': False}</td>\n      <td>15</td>\n      <td>34</td>\n      <td>4.0</td>\n    </tr>\n    <tr>\n      <th>...</th>\n      <td>...</td>\n      <td>...</td>\n      <td>...</td>\n      <td>...</td>\n      <td>...</td>\n      <td>...</td>\n      <td>...</td>\n      <td>...</td>\n    </tr>\n    <tr>\n      <th>106013</th>\n      <td>A1WZI4N6V5F0EC</td>\n      <td>B016APS3CU</td>\n      <td>5.0</td>\n      <td>5.0</td>\n      <td>{'was_impossible': False}</td>\n      <td>15</td>\n      <td>33</td>\n      <td>0.0</td>\n    </tr>\n    <tr>\n      <th>106011</th>\n      <td>A1WZI4N6V5F0EC</td>\n      <td>B00SAY9LLC</td>\n      <td>5.0</td>\n      <td>5.0</td>\n      <td>{'was_impossible': False}</td>\n      <td>15</td>\n      <td>18</td>\n      <td>0.0</td>\n    </tr>\n    <tr>\n      <th>106009</th>\n      <td>A1WZI4N6V5F0EC</td>\n      <td>B00JO2BWFC</td>\n      <td>5.0</td>\n      <td>5.0</td>\n      <td>{'was_impossible': False}</td>\n      <td>15</td>\n      <td>93</td>\n      <td>0.0</td>\n    </tr>\n    <tr>\n      <th>106008</th>\n      <td>A1WZI4N6V5F0EC</td>\n      <td>B00I7Z0FDM</td>\n      <td>5.0</td>\n      <td>5.0</td>\n      <td>{'was_impossible': False}</td>\n      <td>15</td>\n      <td>8</td>\n      <td>0.0</td>\n    </tr>\n    <tr>\n      <th>227508</th>\n      <td>A300QB98FO5UBO</td>\n      <td>B01H8CZ91M</td>\n      <td>5.0</td>\n      <td>5.0</td>\n      <td>{'was_impossible': False}</td>\n      <td>1</td>\n      <td>66</td>\n      <td>0.0</td>\n    </tr>\n  </tbody>\n</table>\n<p>227509 rows × 8 columns</p>\n</div>"
     },
     "metadata": {},
     "execution_count": 40
    }
   ],
   "source": [
    "df_pred.sort_values(by='err',ascending=False)"
   ]
  },
  {
   "cell_type": "code",
   "execution_count": 121,
   "metadata": {},
   "outputs": [
    {
     "output_type": "execute_result",
     "data": {
      "text/plain": "                   uid         iid  r_ui       est                    details  \\\n134804  A1B7E7KVYWCEQS  B00FPQQEJ0   1.0  1.046207  {'was_impossible': False}   \n162442  A1AWB9CEPLNBFD  B0013G8OMG   1.0  1.022248  {'was_impossible': False}   \n165923  A1M3F4G45OXRDI  B000ZKSWGY   1.0  1.114857  {'was_impossible': False}   \n165924  A1M3F4G45OXRDI  B00JH02RW8   1.0  1.041763  {'was_impossible': False}   \n165925  A1M3F4G45OXRDI  B00TSLYU5I   1.0  1.102381  {'was_impossible': False}   \n...                ...         ...   ...       ...                        ...   \n59449    AB48ATLRVT1BW  B000MF63M2   1.0  5.000000  {'was_impossible': False}   \n10852    AV0B6NGGOAISO  B0051F8PSI   1.0  5.000000  {'was_impossible': False}   \n101085  A26DG05WFGH2V0  B0078ZTWP4   1.0  5.000000  {'was_impossible': False}   \n11278   A3AR1T1QJWRBYM  B00009V2YO   1.0  5.000000  {'was_impossible': False}   \n10250   A39PL4CXJXKJAF  B00008BFYG   1.0  5.000000  {'was_impossible': False}   \n\n        Iu   Ui       err  rank  \n134804   4    1  0.046207     9  \n162442  50  219  0.022248     9  \n165923   3   62  0.114857     9  \n165924   3   11  0.041763     9  \n165925   3   23  0.102381     9  \n...     ..  ...       ...   ...  \n59449   14  345  4.000000     1  \n10852   81  151  4.000000     1  \n101085  23   35  4.000000     1  \n11278   26   47  4.000000     1  \n10250   14  134  4.000000     1  \n\n[227509 rows x 9 columns]",
      "text/html": "<div>\n<style scoped>\n    .dataframe tbody tr th:only-of-type {\n        vertical-align: middle;\n    }\n\n    .dataframe tbody tr th {\n        vertical-align: top;\n    }\n\n    .dataframe thead th {\n        text-align: right;\n    }\n</style>\n<table border=\"1\" class=\"dataframe\">\n  <thead>\n    <tr style=\"text-align: right;\">\n      <th></th>\n      <th>uid</th>\n      <th>iid</th>\n      <th>r_ui</th>\n      <th>est</th>\n      <th>details</th>\n      <th>Iu</th>\n      <th>Ui</th>\n      <th>err</th>\n      <th>rank</th>\n    </tr>\n  </thead>\n  <tbody>\n    <tr>\n      <th>134804</th>\n      <td>A1B7E7KVYWCEQS</td>\n      <td>B00FPQQEJ0</td>\n      <td>1.0</td>\n      <td>1.046207</td>\n      <td>{'was_impossible': False}</td>\n      <td>4</td>\n      <td>1</td>\n      <td>0.046207</td>\n      <td>9</td>\n    </tr>\n    <tr>\n      <th>162442</th>\n      <td>A1AWB9CEPLNBFD</td>\n      <td>B0013G8OMG</td>\n      <td>1.0</td>\n      <td>1.022248</td>\n      <td>{'was_impossible': False}</td>\n      <td>50</td>\n      <td>219</td>\n      <td>0.022248</td>\n      <td>9</td>\n    </tr>\n    <tr>\n      <th>165923</th>\n      <td>A1M3F4G45OXRDI</td>\n      <td>B000ZKSWGY</td>\n      <td>1.0</td>\n      <td>1.114857</td>\n      <td>{'was_impossible': False}</td>\n      <td>3</td>\n      <td>62</td>\n      <td>0.114857</td>\n      <td>9</td>\n    </tr>\n    <tr>\n      <th>165924</th>\n      <td>A1M3F4G45OXRDI</td>\n      <td>B00JH02RW8</td>\n      <td>1.0</td>\n      <td>1.041763</td>\n      <td>{'was_impossible': False}</td>\n      <td>3</td>\n      <td>11</td>\n      <td>0.041763</td>\n      <td>9</td>\n    </tr>\n    <tr>\n      <th>165925</th>\n      <td>A1M3F4G45OXRDI</td>\n      <td>B00TSLYU5I</td>\n      <td>1.0</td>\n      <td>1.102381</td>\n      <td>{'was_impossible': False}</td>\n      <td>3</td>\n      <td>23</td>\n      <td>0.102381</td>\n      <td>9</td>\n    </tr>\n    <tr>\n      <th>...</th>\n      <td>...</td>\n      <td>...</td>\n      <td>...</td>\n      <td>...</td>\n      <td>...</td>\n      <td>...</td>\n      <td>...</td>\n      <td>...</td>\n      <td>...</td>\n    </tr>\n    <tr>\n      <th>59449</th>\n      <td>AB48ATLRVT1BW</td>\n      <td>B000MF63M2</td>\n      <td>1.0</td>\n      <td>5.000000</td>\n      <td>{'was_impossible': False}</td>\n      <td>14</td>\n      <td>345</td>\n      <td>4.000000</td>\n      <td>1</td>\n    </tr>\n    <tr>\n      <th>10852</th>\n      <td>AV0B6NGGOAISO</td>\n      <td>B0051F8PSI</td>\n      <td>1.0</td>\n      <td>5.000000</td>\n      <td>{'was_impossible': False}</td>\n      <td>81</td>\n      <td>151</td>\n      <td>4.000000</td>\n      <td>1</td>\n    </tr>\n    <tr>\n      <th>101085</th>\n      <td>A26DG05WFGH2V0</td>\n      <td>B0078ZTWP4</td>\n      <td>1.0</td>\n      <td>5.000000</td>\n      <td>{'was_impossible': False}</td>\n      <td>23</td>\n      <td>35</td>\n      <td>4.000000</td>\n      <td>1</td>\n    </tr>\n    <tr>\n      <th>11278</th>\n      <td>A3AR1T1QJWRBYM</td>\n      <td>B00009V2YO</td>\n      <td>1.0</td>\n      <td>5.000000</td>\n      <td>{'was_impossible': False}</td>\n      <td>26</td>\n      <td>47</td>\n      <td>4.000000</td>\n      <td>1</td>\n    </tr>\n    <tr>\n      <th>10250</th>\n      <td>A39PL4CXJXKJAF</td>\n      <td>B00008BFYG</td>\n      <td>1.0</td>\n      <td>5.000000</td>\n      <td>{'was_impossible': False}</td>\n      <td>14</td>\n      <td>134</td>\n      <td>4.000000</td>\n      <td>1</td>\n    </tr>\n  </tbody>\n</table>\n<p>227509 rows × 9 columns</p>\n</div>"
     },
     "metadata": {},
     "execution_count": 121
    }
   ],
   "source": [
    "df_pred['rank'] = (df_pred[\"est\"]+df_pred[\"err\"]).astype(int).rank(method='dense', ascending=False).astype(int)\n",
    "df_pred.sort_values(by = 'rank',ascending=False)"
   ]
  },
  {
   "cell_type": "code",
   "execution_count": 122,
   "metadata": {},
   "outputs": [],
   "source": [
    "cf_model = df_pred.pivot_table(index='uid', \n",
    "                            columns='iid', values='est')"
   ]
  },
  {
   "cell_type": "code",
   "execution_count": 123,
   "metadata": {},
   "outputs": [
    {
     "output_type": "execute_result",
     "data": {
      "text/plain": "iid                   7245456275  7245456313  B00003G4JR  B00004NKIQ  \\\nuid                                                                    \nA0029274J35Q1MYNKUWO         NaN         NaN         NaN         NaN   \nA0098869QS7I6WOAODWI         NaN         NaN         NaN         NaN   \nA0289048PRWFY7ZXQKCD         NaN         NaN         NaN         NaN   \nA0418008MEWDDIUPHXP7         NaN         NaN         NaN         NaN   \nA0464351OZXPUPKGI6HO         NaN         NaN         NaN         NaN   \n...                          ...         ...         ...         ...   \nAZZ2W9JD10R3H                NaN         NaN         NaN         NaN   \nAZZCSO2MC725N                NaN         NaN         NaN         NaN   \nAZZG39P6RDCHL                NaN         NaN         NaN         NaN   \nAZZKYP9254H32                NaN         NaN         NaN         NaN   \nAZZYI1EW1WY3M                NaN         NaN         NaN         NaN   \n\niid                   B00004SYN6  B00004T11T  B00004TBLW  B00004YTPE  \\\nuid                                                                    \nA0029274J35Q1MYNKUWO         NaN         NaN         NaN         NaN   \nA0098869QS7I6WOAODWI         NaN         NaN         NaN         NaN   \nA0289048PRWFY7ZXQKCD         NaN         NaN         NaN         NaN   \nA0418008MEWDDIUPHXP7         NaN         NaN         NaN         NaN   \nA0464351OZXPUPKGI6HO         NaN         NaN         NaN         NaN   \n...                          ...         ...         ...         ...   \nAZZ2W9JD10R3H                NaN         NaN         NaN         NaN   \nAZZCSO2MC725N                NaN         NaN         NaN         NaN   \nAZZG39P6RDCHL                NaN         NaN         NaN         NaN   \nAZZKYP9254H32                NaN         NaN         NaN         NaN   \nAZZYI1EW1WY3M                NaN         NaN         NaN         NaN   \n\niid                   B000051ZHS  B0000568SY  ...  B01HAGT6G0  B01HBACO4G  \\\nuid                                           ...                           \nA0029274J35Q1MYNKUWO         NaN         NaN  ...         NaN         NaN   \nA0098869QS7I6WOAODWI         NaN         NaN  ...         NaN         NaN   \nA0289048PRWFY7ZXQKCD         NaN         NaN  ...         NaN         NaN   \nA0418008MEWDDIUPHXP7         NaN         NaN  ...         NaN         NaN   \nA0464351OZXPUPKGI6HO         NaN         NaN  ...         NaN         NaN   \n...                          ...         ...  ...         ...         ...   \nAZZ2W9JD10R3H                NaN         NaN  ...         NaN         NaN   \nAZZCSO2MC725N                NaN         NaN  ...         NaN         NaN   \nAZZG39P6RDCHL                NaN         NaN  ...         NaN         NaN   \nAZZKYP9254H32                NaN         NaN  ...         NaN         NaN   \nAZZYI1EW1WY3M                NaN         NaN  ...         NaN         NaN   \n\niid                   B01HBPL78K  B01HCI0I6S  B01HCKR9ZE  B01HCU3NTU  \\\nuid                                                                    \nA0029274J35Q1MYNKUWO         NaN         NaN         NaN         NaN   \nA0098869QS7I6WOAODWI         NaN         NaN         NaN         NaN   \nA0289048PRWFY7ZXQKCD         NaN         NaN         NaN         NaN   \nA0418008MEWDDIUPHXP7         5.0         NaN         NaN         NaN   \nA0464351OZXPUPKGI6HO         NaN         NaN         NaN         NaN   \n...                          ...         ...         ...         ...   \nAZZ2W9JD10R3H                NaN         NaN         NaN         NaN   \nAZZCSO2MC725N                NaN         NaN         NaN         NaN   \nAZZG39P6RDCHL                NaN         NaN         NaN         NaN   \nAZZKYP9254H32                NaN         NaN         NaN         NaN   \nAZZYI1EW1WY3M                NaN         NaN         NaN         NaN   \n\niid                   B01HD17S3A  B01HE0PMFQ  B01HEYYKLO  B01HHB2HK0  \nuid                                                                   \nA0029274J35Q1MYNKUWO         NaN         NaN         NaN         NaN  \nA0098869QS7I6WOAODWI         NaN         NaN         NaN         NaN  \nA0289048PRWFY7ZXQKCD         NaN         NaN         NaN         NaN  \nA0418008MEWDDIUPHXP7         NaN         NaN         NaN         NaN  \nA0464351OZXPUPKGI6HO         NaN         NaN         NaN         NaN  \n...                          ...         ...         ...         ...  \nAZZ2W9JD10R3H                NaN         NaN         NaN         NaN  \nAZZCSO2MC725N                NaN         NaN         NaN         NaN  \nAZZG39P6RDCHL                NaN         NaN         NaN         NaN  \nAZZKYP9254H32                NaN         NaN         NaN         NaN  \nAZZYI1EW1WY3M                NaN         NaN         NaN         NaN  \n\n[29419 rows x 7119 columns]",
      "text/html": "<div>\n<style scoped>\n    .dataframe tbody tr th:only-of-type {\n        vertical-align: middle;\n    }\n\n    .dataframe tbody tr th {\n        vertical-align: top;\n    }\n\n    .dataframe thead th {\n        text-align: right;\n    }\n</style>\n<table border=\"1\" class=\"dataframe\">\n  <thead>\n    <tr style=\"text-align: right;\">\n      <th>iid</th>\n      <th>7245456275</th>\n      <th>7245456313</th>\n      <th>B00003G4JR</th>\n      <th>B00004NKIQ</th>\n      <th>B00004SYN6</th>\n      <th>B00004T11T</th>\n      <th>B00004TBLW</th>\n      <th>B00004YTPE</th>\n      <th>B000051ZHS</th>\n      <th>B0000568SY</th>\n      <th>...</th>\n      <th>B01HAGT6G0</th>\n      <th>B01HBACO4G</th>\n      <th>B01HBPL78K</th>\n      <th>B01HCI0I6S</th>\n      <th>B01HCKR9ZE</th>\n      <th>B01HCU3NTU</th>\n      <th>B01HD17S3A</th>\n      <th>B01HE0PMFQ</th>\n      <th>B01HEYYKLO</th>\n      <th>B01HHB2HK0</th>\n    </tr>\n    <tr>\n      <th>uid</th>\n      <th></th>\n      <th></th>\n      <th></th>\n      <th></th>\n      <th></th>\n      <th></th>\n      <th></th>\n      <th></th>\n      <th></th>\n      <th></th>\n      <th></th>\n      <th></th>\n      <th></th>\n      <th></th>\n      <th></th>\n      <th></th>\n      <th></th>\n      <th></th>\n      <th></th>\n      <th></th>\n      <th></th>\n    </tr>\n  </thead>\n  <tbody>\n    <tr>\n      <th>A0029274J35Q1MYNKUWO</th>\n      <td>NaN</td>\n      <td>NaN</td>\n      <td>NaN</td>\n      <td>NaN</td>\n      <td>NaN</td>\n      <td>NaN</td>\n      <td>NaN</td>\n      <td>NaN</td>\n      <td>NaN</td>\n      <td>NaN</td>\n      <td>...</td>\n      <td>NaN</td>\n      <td>NaN</td>\n      <td>NaN</td>\n      <td>NaN</td>\n      <td>NaN</td>\n      <td>NaN</td>\n      <td>NaN</td>\n      <td>NaN</td>\n      <td>NaN</td>\n      <td>NaN</td>\n    </tr>\n    <tr>\n      <th>A0098869QS7I6WOAODWI</th>\n      <td>NaN</td>\n      <td>NaN</td>\n      <td>NaN</td>\n      <td>NaN</td>\n      <td>NaN</td>\n      <td>NaN</td>\n      <td>NaN</td>\n      <td>NaN</td>\n      <td>NaN</td>\n      <td>NaN</td>\n      <td>...</td>\n      <td>NaN</td>\n      <td>NaN</td>\n      <td>NaN</td>\n      <td>NaN</td>\n      <td>NaN</td>\n      <td>NaN</td>\n      <td>NaN</td>\n      <td>NaN</td>\n      <td>NaN</td>\n      <td>NaN</td>\n    </tr>\n    <tr>\n      <th>A0289048PRWFY7ZXQKCD</th>\n      <td>NaN</td>\n      <td>NaN</td>\n      <td>NaN</td>\n      <td>NaN</td>\n      <td>NaN</td>\n      <td>NaN</td>\n      <td>NaN</td>\n      <td>NaN</td>\n      <td>NaN</td>\n      <td>NaN</td>\n      <td>...</td>\n      <td>NaN</td>\n      <td>NaN</td>\n      <td>NaN</td>\n      <td>NaN</td>\n      <td>NaN</td>\n      <td>NaN</td>\n      <td>NaN</td>\n      <td>NaN</td>\n      <td>NaN</td>\n      <td>NaN</td>\n    </tr>\n    <tr>\n      <th>A0418008MEWDDIUPHXP7</th>\n      <td>NaN</td>\n      <td>NaN</td>\n      <td>NaN</td>\n      <td>NaN</td>\n      <td>NaN</td>\n      <td>NaN</td>\n      <td>NaN</td>\n      <td>NaN</td>\n      <td>NaN</td>\n      <td>NaN</td>\n      <td>...</td>\n      <td>NaN</td>\n      <td>NaN</td>\n      <td>5.0</td>\n      <td>NaN</td>\n      <td>NaN</td>\n      <td>NaN</td>\n      <td>NaN</td>\n      <td>NaN</td>\n      <td>NaN</td>\n      <td>NaN</td>\n    </tr>\n    <tr>\n      <th>A0464351OZXPUPKGI6HO</th>\n      <td>NaN</td>\n      <td>NaN</td>\n      <td>NaN</td>\n      <td>NaN</td>\n      <td>NaN</td>\n      <td>NaN</td>\n      <td>NaN</td>\n      <td>NaN</td>\n      <td>NaN</td>\n      <td>NaN</td>\n      <td>...</td>\n      <td>NaN</td>\n      <td>NaN</td>\n      <td>NaN</td>\n      <td>NaN</td>\n      <td>NaN</td>\n      <td>NaN</td>\n      <td>NaN</td>\n      <td>NaN</td>\n      <td>NaN</td>\n      <td>NaN</td>\n    </tr>\n    <tr>\n      <th>...</th>\n      <td>...</td>\n      <td>...</td>\n      <td>...</td>\n      <td>...</td>\n      <td>...</td>\n      <td>...</td>\n      <td>...</td>\n      <td>...</td>\n      <td>...</td>\n      <td>...</td>\n      <td>...</td>\n      <td>...</td>\n      <td>...</td>\n      <td>...</td>\n      <td>...</td>\n      <td>...</td>\n      <td>...</td>\n      <td>...</td>\n      <td>...</td>\n      <td>...</td>\n      <td>...</td>\n    </tr>\n    <tr>\n      <th>AZZ2W9JD10R3H</th>\n      <td>NaN</td>\n      <td>NaN</td>\n      <td>NaN</td>\n      <td>NaN</td>\n      <td>NaN</td>\n      <td>NaN</td>\n      <td>NaN</td>\n      <td>NaN</td>\n      <td>NaN</td>\n      <td>NaN</td>\n      <td>...</td>\n      <td>NaN</td>\n      <td>NaN</td>\n      <td>NaN</td>\n      <td>NaN</td>\n      <td>NaN</td>\n      <td>NaN</td>\n      <td>NaN</td>\n      <td>NaN</td>\n      <td>NaN</td>\n      <td>NaN</td>\n    </tr>\n    <tr>\n      <th>AZZCSO2MC725N</th>\n      <td>NaN</td>\n      <td>NaN</td>\n      <td>NaN</td>\n      <td>NaN</td>\n      <td>NaN</td>\n      <td>NaN</td>\n      <td>NaN</td>\n      <td>NaN</td>\n      <td>NaN</td>\n      <td>NaN</td>\n      <td>...</td>\n      <td>NaN</td>\n      <td>NaN</td>\n      <td>NaN</td>\n      <td>NaN</td>\n      <td>NaN</td>\n      <td>NaN</td>\n      <td>NaN</td>\n      <td>NaN</td>\n      <td>NaN</td>\n      <td>NaN</td>\n    </tr>\n    <tr>\n      <th>AZZG39P6RDCHL</th>\n      <td>NaN</td>\n      <td>NaN</td>\n      <td>NaN</td>\n      <td>NaN</td>\n      <td>NaN</td>\n      <td>NaN</td>\n      <td>NaN</td>\n      <td>NaN</td>\n      <td>NaN</td>\n      <td>NaN</td>\n      <td>...</td>\n      <td>NaN</td>\n      <td>NaN</td>\n      <td>NaN</td>\n      <td>NaN</td>\n      <td>NaN</td>\n      <td>NaN</td>\n      <td>NaN</td>\n      <td>NaN</td>\n      <td>NaN</td>\n      <td>NaN</td>\n    </tr>\n    <tr>\n      <th>AZZKYP9254H32</th>\n      <td>NaN</td>\n      <td>NaN</td>\n      <td>NaN</td>\n      <td>NaN</td>\n      <td>NaN</td>\n      <td>NaN</td>\n      <td>NaN</td>\n      <td>NaN</td>\n      <td>NaN</td>\n      <td>NaN</td>\n      <td>...</td>\n      <td>NaN</td>\n      <td>NaN</td>\n      <td>NaN</td>\n      <td>NaN</td>\n      <td>NaN</td>\n      <td>NaN</td>\n      <td>NaN</td>\n      <td>NaN</td>\n      <td>NaN</td>\n      <td>NaN</td>\n    </tr>\n    <tr>\n      <th>AZZYI1EW1WY3M</th>\n      <td>NaN</td>\n      <td>NaN</td>\n      <td>NaN</td>\n      <td>NaN</td>\n      <td>NaN</td>\n      <td>NaN</td>\n      <td>NaN</td>\n      <td>NaN</td>\n      <td>NaN</td>\n      <td>NaN</td>\n      <td>...</td>\n      <td>NaN</td>\n      <td>NaN</td>\n      <td>NaN</td>\n      <td>NaN</td>\n      <td>NaN</td>\n      <td>NaN</td>\n      <td>NaN</td>\n      <td>NaN</td>\n      <td>NaN</td>\n      <td>NaN</td>\n    </tr>\n  </tbody>\n</table>\n<p>29419 rows × 7119 columns</p>\n</div>"
     },
     "metadata": {},
     "execution_count": 123
    }
   ],
   "source": [
    "cf_model"
   ]
  },
  {
   "cell_type": "code",
   "execution_count": 132,
   "metadata": {},
   "outputs": [],
   "source": [
    "recommended_items = pd.DataFrame(cf_model.loc['A0464351OZXPUPKGI6HO'])\n",
    "recommended_items.columns = [\"predicted_rating\"]"
   ]
  },
  {
   "cell_type": "code",
   "execution_count": 133,
   "metadata": {},
   "outputs": [
    {
     "output_type": "execute_result",
     "data": {
      "text/plain": "            predicted_rating\niid                         \nB000JFKGZU               5.0\nB001PR0MP0               5.0\nB001PR0MS2               5.0\nB00EJRKIMA               5.0\nB00HH6VBWG               5.0\n7245456275               NaN\n7245456313               NaN\nB00003G4JR               NaN\nB00004NKIQ               NaN\nB00004SYN6               NaN",
      "text/html": "<div>\n<style scoped>\n    .dataframe tbody tr th:only-of-type {\n        vertical-align: middle;\n    }\n\n    .dataframe tbody tr th {\n        vertical-align: top;\n    }\n\n    .dataframe thead th {\n        text-align: right;\n    }\n</style>\n<table border=\"1\" class=\"dataframe\">\n  <thead>\n    <tr style=\"text-align: right;\">\n      <th></th>\n      <th>predicted_rating</th>\n    </tr>\n    <tr>\n      <th>iid</th>\n      <th></th>\n    </tr>\n  </thead>\n  <tbody>\n    <tr>\n      <th>B000JFKGZU</th>\n      <td>5.0</td>\n    </tr>\n    <tr>\n      <th>B001PR0MP0</th>\n      <td>5.0</td>\n    </tr>\n    <tr>\n      <th>B001PR0MS2</th>\n      <td>5.0</td>\n    </tr>\n    <tr>\n      <th>B00EJRKIMA</th>\n      <td>5.0</td>\n    </tr>\n    <tr>\n      <th>B00HH6VBWG</th>\n      <td>5.0</td>\n    </tr>\n    <tr>\n      <th>7245456275</th>\n      <td>NaN</td>\n    </tr>\n    <tr>\n      <th>7245456313</th>\n      <td>NaN</td>\n    </tr>\n    <tr>\n      <th>B00003G4JR</th>\n      <td>NaN</td>\n    </tr>\n    <tr>\n      <th>B00004NKIQ</th>\n      <td>NaN</td>\n    </tr>\n    <tr>\n      <th>B00004SYN6</th>\n      <td>NaN</td>\n    </tr>\n  </tbody>\n</table>\n</div>"
     },
     "metadata": {},
     "execution_count": 133
    }
   ],
   "source": [
    "recommended_items.sort_values('predicted_rating', ascending=False).head(10)"
   ]
  },
  {
   "cell_type": "code",
   "execution_count": null,
   "metadata": {},
   "outputs": [],
   "source": []
  },
  {
   "source": [
    "Top n prediction "
   ],
   "cell_type": "markdown",
   "metadata": {}
  },
  {
   "cell_type": "code",
   "execution_count": 57,
   "metadata": {},
   "outputs": [
    {
     "output_type": "execute_result",
     "data": {
      "text/plain": "[('B001U0HJN0', 5),\n ('B0051V68DQ', 5),\n ('B0072T3X38', 5),\n ('B00J01N3O0', 5),\n ('B005CGLUVU', 4.94235579583709),\n ('B01A4ZXWJ6', 4.845179640835079),\n ('B00E221A88', 4.817236828575972),\n ('B006OU4ERA', 4.797538209512706),\n ('B01H71AZ36', 4.739778908724118),\n ('B01DIXWNZ0', 4.297563334551882)]"
     },
     "metadata": {},
     "execution_count": 57
    }
   ],
   "source": [
    "top_n = recom.get_top_n()\n",
    "top_n[\"A3SJFAYA81NIJB\"]"
   ]
  },
  {
   "cell_type": "code",
   "execution_count": null,
   "metadata": {},
   "outputs": [],
   "source": []
  },
  {
   "source": [
    "## Using KNN methods to get the k nearest neighbors of an item  "
   ],
   "cell_type": "markdown",
   "metadata": {}
  },
  {
   "cell_type": "code",
   "execution_count": 110,
   "metadata": {
    "tags": []
   },
   "outputs": [
    {
     "output_type": "stream",
     "name": "stdout",
     "text": "this is correct\nEstimating biases using als...\nComputing the pearson_baseline similarity matrix...\nDone computing similarity matrix.\n"
    }
   ],
   "source": [
    "reader = surprise.Reader(rating_scale=(1,5))\n",
    "sim_options = {'name': 'pearson_baseline', 'user_based': False}\n",
    "recom2 = CollaborativeRecommender(df_collab,reader,KNNBaseline(sim_options=sim_options),simil=True)\n",
    "recom2.fit()"
   ]
  },
  {
   "cell_type": "code",
   "execution_count": 112,
   "metadata": {},
   "outputs": [
    {
     "output_type": "execute_result",
     "data": {
      "text/plain": "['B0016BNDXI',\n 'B000YYYP3K',\n 'B00AK8E6J8',\n 'B0019MM47U',\n '7245456313',\n '7245456275',\n 'B00003G4JR',\n 'B00004NKIQ',\n 'B00004SYN6',\n 'B00004T11T']"
     },
     "metadata": {},
     "execution_count": 112
    }
   ],
   "source": [
    "recom2.K_neighbors_items('B01DIXWNZ0')\n"
   ]
  },
  {
   "cell_type": "code",
   "execution_count": 113,
   "metadata": {
    "tags": []
   },
   "outputs": [
    {
     "output_type": "stream",
     "name": "stdout",
     "text": "RMSE: 0.0485\n"
    }
   ],
   "source": [
    "pred2, acc2 = recom2.pred()"
   ]
  },
  {
   "cell_type": "code",
   "execution_count": null,
   "metadata": {},
   "outputs": [],
   "source": []
  },
  {
   "cell_type": "code",
   "execution_count": null,
   "metadata": {},
   "outputs": [],
   "source": [
    "bucket = 'recommender-system-amazon' \n",
    "csv_buffer = StringIO()\n",
    "df_collab.sm.to_csv(csv_buffer)\n",
    "s3_resource = boto3.resource('s3')\n",
    "s3_resource.Object(bucket, 'df_colab_sm.csv').put(Body=csv_buffer.getvalue())\n"
   ]
  },
  {
   "cell_type": "code",
   "execution_count": 33,
   "metadata": {},
   "outputs": [
    {
     "output_type": "execute_result",
     "data": {
      "text/plain": "array(['0899332757', '0899332757', '0899332757', ..., 'B01HJDGJ1E',\n       'B01HJDGJ1E', 'B01HJGAJ9O'], dtype=object)"
     },
     "metadata": {},
     "execution_count": 33
    }
   ],
   "source": [
    "df_collab['asin'].values"
   ]
  },
  {
   "cell_type": "code",
   "execution_count": 27,
   "metadata": {},
   "outputs": [
    {
     "output_type": "execute_result",
     "data": {
      "text/plain": "Index(['0899332757', '0899333257', '0971100764', '3843518912', '7245456275',\n       '7245456313', '7245456453', '8804850086', '9641766805', 'B00000IURU',\n       ...\n       'B01HJ234E0', 'B01HJ4DN08', 'B01HJ4EYS8', 'B01HJ8YC0Y', 'B01HJA241G',\n       'B01HJA7KWE', 'B01HJDGJ1E', 'B01HJDHNX2', 'B01HJDZ34I', 'B01HJGAJ9O'],\n      dtype='object', name='asin', length=56351)"
     },
     "metadata": {},
     "execution_count": 27
    }
   ],
   "source": [
    "UM.columns"
   ]
  },
  {
   "cell_type": "code",
   "execution_count": null,
   "metadata": {},
   "outputs": [],
   "source": []
  }
 ]
}