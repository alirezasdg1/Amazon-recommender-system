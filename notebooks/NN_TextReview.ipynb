{
  "nbformat": 4,
  "nbformat_minor": 0,
  "metadata": {
    "colab": {
      "name": "NN_TextReview.ipynb",
      "provenance": [],
      "machine_shape": "hm",
      "mount_file_id": "1-UOyM8-kjsZRYxNeWWbEe2yc2_62ySOQ",
      "authorship_tag": "ABX9TyPpDqUsdIgD+rbUjM/kaY0w",
      "include_colab_link": true
    },
    "kernelspec": {
      "name": "python3",
      "display_name": "Python 3"
    },
    "accelerator": "GPU"
  },
  "cells": [
    {
      "cell_type": "markdown",
      "metadata": {
        "id": "view-in-github",
        "colab_type": "text"
      },
      "source": [
        "<a href=\"https://colab.research.google.com/github/alirezasdg1/Amazon-recommender-system/blob/master/notebooks/NN_TextReview.ipynb\" target=\"_parent\"><img src=\"https://colab.research.google.com/assets/colab-badge.svg\" alt=\"Open In Colab\"/></a>"
      ]
    },
    {
      "cell_type": "code",
      "metadata": {
        "id": "JCzoE6TwrAmc",
        "colab_type": "code",
        "colab": {}
      },
      "source": [
        "import tensorflow as tf\n",
        "import tensorflow_hub as hub\n",
        "import pandas as pd\n",
        "import numpy as np"
      ],
      "execution_count": 1,
      "outputs": []
    },
    {
      "cell_type": "code",
      "metadata": {
        "id": "6QllzxW3rEmc",
        "colab_type": "code",
        "colab": {
          "base_uri": "https://localhost:8080/",
          "height": 34
        },
        "outputId": "c0050cfb-6454-4b24-9ad7-a1470a78b2dc"
      },
      "source": [
        "from google.colab import drive\n",
        "drive.mount('/content/drive')"
      ],
      "execution_count": 2,
      "outputs": [
        {
          "output_type": "stream",
          "text": [
            "Drive already mounted at /content/drive; to attempt to forcibly remount, call drive.mount(\"/content/drive\", force_remount=True).\n"
          ],
          "name": "stdout"
        }
      ]
    },
    {
      "cell_type": "code",
      "metadata": {
        "id": "UOyNY3pXsj8P",
        "colab_type": "code",
        "colab": {}
      },
      "source": [
        "df_all_15 = pd.read_csv(\"/content/drive/My Drive/Datasets/df_all_15_text.csv\")"
      ],
      "execution_count": 3,
      "outputs": []
    },
    {
      "cell_type": "code",
      "metadata": {
        "id": "yKgcr5lmvFqx",
        "colab_type": "code",
        "colab": {
          "base_uri": "https://localhost:8080/",
          "height": 204
        },
        "outputId": "d9c7c94f-809f-4316-ef2d-dab9c2e8d82a"
      },
      "source": [
        "!wget https://recommender-system-amazon.s3.amazonaws.com/df_content_recommender.csv"
      ],
      "execution_count": 22,
      "outputs": [
        {
          "output_type": "stream",
          "text": [
            "--2020-09-16 21:06:22--  https://recommender-system-amazon.s3.amazonaws.com/df_content_recommender.csv\n",
            "Resolving recommender-system-amazon.s3.amazonaws.com (recommender-system-amazon.s3.amazonaws.com)... 52.216.109.203\n",
            "Connecting to recommender-system-amazon.s3.amazonaws.com (recommender-system-amazon.s3.amazonaws.com)|52.216.109.203|:443... connected.\n",
            "HTTP request sent, awaiting response... 200 OK\n",
            "Length: 4046747265 (3.8G) [binary/octet-stream]\n",
            "Saving to: ‘df_content_recommender.csv’\n",
            "\n",
            "df_content_recommen 100%[===================>]   3.77G  35.3MB/s    in 1m 51s  \n",
            "\n",
            "2020-09-16 21:08:13 (34.9 MB/s) - ‘df_content_recommender.csv’ saved [4046747265/4046747265]\n",
            "\n"
          ],
          "name": "stdout"
        }
      ]
    },
    {
      "cell_type": "code",
      "metadata": {
        "id": "162uiZHjvOLR",
        "colab_type": "code",
        "colab": {}
      },
      "source": [
        "df_content_recommender = pd.read_csv(\"df_content_recommender.csv\")"
      ],
      "execution_count": 24,
      "outputs": []
    },
    {
      "cell_type": "code",
      "metadata": {
        "id": "uzUf10I8wdGP",
        "colab_type": "code",
        "colab": {
          "base_uri": "https://localhost:8080/",
          "height": 34
        },
        "outputId": "975fb191-8dca-4dbd-9349-8b11a0322129"
      },
      "source": [
        "df_content_recommender.shape"
      ],
      "execution_count": 25,
      "outputs": [
        {
          "output_type": "execute_result",
          "data": {
            "text/plain": [
              "(316350, 3082)"
            ]
          },
          "metadata": {
            "tags": []
          },
          "execution_count": 25
        }
      ]
    },
    {
      "cell_type": "code",
      "metadata": {
        "id": "H776vLh2tLMA",
        "colab_type": "code",
        "colab": {
          "base_uri": "https://localhost:8080/",
          "height": 1000
        },
        "outputId": "6538ecba-1d5c-4784-fecb-bf7904c7a40c"
      },
      "source": [
        "df_all_15"
      ],
      "execution_count": 20,
      "outputs": [
        {
          "output_type": "execute_result",
          "data": {
            "text/html": [
              "<div>\n",
              "<style scoped>\n",
              "    .dataframe tbody tr th:only-of-type {\n",
              "        vertical-align: middle;\n",
              "    }\n",
              "\n",
              "    .dataframe tbody tr th {\n",
              "        vertical-align: top;\n",
              "    }\n",
              "\n",
              "    .dataframe thead th {\n",
              "        text-align: right;\n",
              "    }\n",
              "</style>\n",
              "<table border=\"1\" class=\"dataframe\">\n",
              "  <thead>\n",
              "    <tr style=\"text-align: right;\">\n",
              "      <th></th>\n",
              "      <th>Unnamed: 0</th>\n",
              "      <th>category</th>\n",
              "      <th>description</th>\n",
              "      <th>title</th>\n",
              "      <th>also_buy</th>\n",
              "      <th>image_x</th>\n",
              "      <th>brand</th>\n",
              "      <th>feature</th>\n",
              "      <th>rank</th>\n",
              "      <th>also_view</th>\n",
              "      <th>main_cat</th>\n",
              "      <th>price</th>\n",
              "      <th>asin</th>\n",
              "      <th>overall</th>\n",
              "      <th>verified</th>\n",
              "      <th>reviewText</th>\n",
              "      <th>summary</th>\n",
              "      <th>unixReviewTime</th>\n",
              "      <th>style</th>\n",
              "      <th>item_text</th>\n",
              "      <th>title_nlp</th>\n",
              "    </tr>\n",
              "  </thead>\n",
              "  <tbody>\n",
              "    <tr>\n",
              "      <th>0</th>\n",
              "      <td>0</td>\n",
              "      <td>['Sports &amp; Outdoors', 'Outdoor Recreation', 'C...</td>\n",
              "      <td>['Find your way through New York while hitting...</td>\n",
              "      <td>Delorme New York State Atlas &amp;amp; Gazetteer</td>\n",
              "      <td>['0899334415', '0899334431', '0899333419', '08...</td>\n",
              "      <td>['https://images-na.ssl-images-amazon.com/imag...</td>\n",
              "      <td>Garmin</td>\n",
              "      <td>['Amazingly detailed and beautifully crafted, ...</td>\n",
              "      <td>121,074 in Office Products (</td>\n",
              "      <td>['0528881922', '1569145792', '0899334431', '08...</td>\n",
              "      <td>Office Products</td>\n",
              "      <td>$19.95</td>\n",
              "      <td>0899332757</td>\n",
              "      <td>5.0</td>\n",
              "      <td>False</td>\n",
              "      <td>your interest explor area new york beyond metr...</td>\n",
              "      <td>Great for exploring the rural parts of the state</td>\n",
              "      <td>1470009600</td>\n",
              "      <td>{'Format:': ' Paperback'}</td>\n",
              "      <td>garmingreat explor rural part stateformat pape...</td>\n",
              "      <td>delorm new york state atla amp gazett</td>\n",
              "    </tr>\n",
              "    <tr>\n",
              "      <th>1</th>\n",
              "      <td>1</td>\n",
              "      <td>['Sports &amp; Outdoors', 'Outdoor Recreation', 'C...</td>\n",
              "      <td>['Find your way through New York while hitting...</td>\n",
              "      <td>Delorme New York State Atlas &amp;amp; Gazetteer</td>\n",
              "      <td>['0899334415', '0899334431', '0899333419', '08...</td>\n",
              "      <td>['https://images-na.ssl-images-amazon.com/imag...</td>\n",
              "      <td>Garmin</td>\n",
              "      <td>['Amazingly detailed and beautifully crafted, ...</td>\n",
              "      <td>121,074 in Office Products (</td>\n",
              "      <td>['0528881922', '1569145792', '0899334431', '08...</td>\n",
              "      <td>Office Products</td>\n",
              "      <td>$19.95</td>\n",
              "      <td>0899332757</td>\n",
              "      <td>4.0</td>\n",
              "      <td>True</td>\n",
              "      <td>wonder comprehens atla littl larg</td>\n",
              "      <td>Four Stars</td>\n",
              "      <td>1438646400</td>\n",
              "      <td>{'Format:': ' Paperback'}</td>\n",
              "      <td>garminfour starsformat paperback</td>\n",
              "      <td>delorm new york state atla amp gazett</td>\n",
              "    </tr>\n",
              "    <tr>\n",
              "      <th>2</th>\n",
              "      <td>2</td>\n",
              "      <td>['Sports &amp; Outdoors', 'Outdoor Recreation', 'C...</td>\n",
              "      <td>['Find your way through New York while hitting...</td>\n",
              "      <td>Delorme New York State Atlas &amp;amp; Gazetteer</td>\n",
              "      <td>['0899334415', '0899334431', '0899333419', '08...</td>\n",
              "      <td>['https://images-na.ssl-images-amazon.com/imag...</td>\n",
              "      <td>Garmin</td>\n",
              "      <td>['Amazingly detailed and beautifully crafted, ...</td>\n",
              "      <td>121,074 in Office Products (</td>\n",
              "      <td>['0528881922', '1569145792', '0899334431', '08...</td>\n",
              "      <td>Office Products</td>\n",
              "      <td>$19.95</td>\n",
              "      <td>0899332757</td>\n",
              "      <td>5.0</td>\n",
              "      <td>True</td>\n",
              "      <td>great product fast deliveri need rv travel</td>\n",
              "      <td>Super!</td>\n",
              "      <td>1432771200</td>\n",
              "      <td>{'Format:': ' Paperback'}</td>\n",
              "      <td>garminsuperformat paperback</td>\n",
              "      <td>delorm new york state atla amp gazett</td>\n",
              "    </tr>\n",
              "    <tr>\n",
              "      <th>3</th>\n",
              "      <td>3</td>\n",
              "      <td>['Sports &amp; Outdoors', 'Outdoor Recreation', 'C...</td>\n",
              "      <td>[\"Rely on delorme ATLAS &amp; gazetteer paper maps...</td>\n",
              "      <td>Garmin DeLorme Atlas &amp;amp; Gazetteer Paper Map...</td>\n",
              "      <td>['0899334482', '0899334474', '0899333834', '19...</td>\n",
              "      <td>['https://images-na.ssl-images-amazon.com/imag...</td>\n",
              "      <td>Garmin</td>\n",
              "      <td>['Amazingly detailed and beautifully crafted, ...</td>\n",
              "      <td>['&gt;#84,484 in Office Products (See top 100)', ...</td>\n",
              "      <td>[]</td>\n",
              "      <td>Office Products</td>\n",
              "      <td>$21.96</td>\n",
              "      <td>0899333257</td>\n",
              "      <td>5.0</td>\n",
              "      <td>True</td>\n",
              "      <td>delorm atla us state theyr amaz detail accur e...</td>\n",
              "      <td>Necessary for off grid camping</td>\n",
              "      <td>1505260800</td>\n",
              "      <td>{'Format:': ' Paperback'}</td>\n",
              "      <td>garminnecessari grid campingformat paperback</td>\n",
              "      <td>garmin delorm atla amp gazett paper map arizona</td>\n",
              "    </tr>\n",
              "    <tr>\n",
              "      <th>4</th>\n",
              "      <td>4</td>\n",
              "      <td>['Sports &amp; Outdoors', 'Outdoor Recreation', 'C...</td>\n",
              "      <td>[\"Rely on delorme ATLAS &amp; gazetteer paper maps...</td>\n",
              "      <td>Garmin DeLorme Atlas &amp;amp; Gazetteer Paper Map...</td>\n",
              "      <td>['0899334482', '0899334474', '0899333834', '19...</td>\n",
              "      <td>['https://images-na.ssl-images-amazon.com/imag...</td>\n",
              "      <td>Garmin</td>\n",
              "      <td>['Amazingly detailed and beautifully crafted, ...</td>\n",
              "      <td>['&gt;#84,484 in Office Products (See top 100)', ...</td>\n",
              "      <td>[]</td>\n",
              "      <td>Office Products</td>\n",
              "      <td>$21.96</td>\n",
              "      <td>0899333257</td>\n",
              "      <td>5.0</td>\n",
              "      <td>False</td>\n",
              "      <td>first delorm atla gazett ever purchas year ago...</td>\n",
              "      <td>Don't explore without it</td>\n",
              "      <td>1470614400</td>\n",
              "      <td></td>\n",
              "      <td>garmindont explor without</td>\n",
              "      <td>garmin delorm atla amp gazett paper map arizona</td>\n",
              "    </tr>\n",
              "    <tr>\n",
              "      <th>...</th>\n",
              "      <td>...</td>\n",
              "      <td>...</td>\n",
              "      <td>...</td>\n",
              "      <td>...</td>\n",
              "      <td>...</td>\n",
              "      <td>...</td>\n",
              "      <td>...</td>\n",
              "      <td>...</td>\n",
              "      <td>...</td>\n",
              "      <td>...</td>\n",
              "      <td>...</td>\n",
              "      <td>...</td>\n",
              "      <td>...</td>\n",
              "      <td>...</td>\n",
              "      <td>...</td>\n",
              "      <td>...</td>\n",
              "      <td>...</td>\n",
              "      <td>...</td>\n",
              "      <td>...</td>\n",
              "      <td>...</td>\n",
              "      <td>...</td>\n",
              "    </tr>\n",
              "    <tr>\n",
              "      <th>370247</th>\n",
              "      <td>370255</td>\n",
              "      <td>['Sports &amp; Outdoors', 'Outdoor Recreation', 'C...</td>\n",
              "      <td>['Pusdon Instant Reusable Cooling Towels are d...</td>\n",
              "      <td>Soft Cooling Towel for Instant Relief, 48inch ...</td>\n",
              "      <td>['B07CHSRVDB', 'B07CR8MQRM', 'B00JLRTZRM', 'B0...</td>\n",
              "      <td>['https://images-na.ssl-images-amazon.com/imag...</td>\n",
              "      <td>Pusdon</td>\n",
              "      <td>['GET 1 FREE Silicone Hand Strengthener Grip R...</td>\n",
              "      <td>54,146 in Sports &amp; Outdoors (</td>\n",
              "      <td>['B00NIYOOMA', 'B07L1TYGZW', 'B01K97XFFK', 'B0...</td>\n",
              "      <td>Sports &amp; Outdoors</td>\n",
              "      <td>$10.99</td>\n",
              "      <td>B01HJDGJ1E</td>\n",
              "      <td>5.0</td>\n",
              "      <td>False</td>\n",
              "      <td>choic type cool towel dri rock hard crispi kin...</td>\n",
              "      <td>Excellent length, good colors.</td>\n",
              "      <td>1468972800</td>\n",
              "      <td>{'Color:': ' Bamboo Charcoal: 1Gray+1Blue'}</td>\n",
              "      <td>pusdonexcel length good colorscolor bamboo cha...</td>\n",
              "      <td>soft cool towel instant relief extra long natu...</td>\n",
              "    </tr>\n",
              "    <tr>\n",
              "      <th>370248</th>\n",
              "      <td>370256</td>\n",
              "      <td>['Sports &amp; Outdoors', 'Outdoor Recreation', 'C...</td>\n",
              "      <td>['Pusdon Instant Reusable Cooling Towels are d...</td>\n",
              "      <td>Soft Cooling Towel for Instant Relief, 48inch ...</td>\n",
              "      <td>['B07CHSRVDB', 'B07CR8MQRM', 'B00JLRTZRM', 'B0...</td>\n",
              "      <td>['https://images-na.ssl-images-amazon.com/imag...</td>\n",
              "      <td>Pusdon</td>\n",
              "      <td>['GET 1 FREE Silicone Hand Strengthener Grip R...</td>\n",
              "      <td>54,146 in Sports &amp; Outdoors (</td>\n",
              "      <td>['B00NIYOOMA', 'B07L1TYGZW', 'B01K97XFFK', 'B0...</td>\n",
              "      <td>Sports &amp; Outdoors</td>\n",
              "      <td>$10.99</td>\n",
              "      <td>B01HJDGJ1E</td>\n",
              "      <td>5.0</td>\n",
              "      <td>False</td>\n",
              "      <td>entir skeptic towel open packag differ cool to...</td>\n",
              "      <td>Nicely made, and quite long</td>\n",
              "      <td>1471824000</td>\n",
              "      <td>{'Color:': ' Bamboo Charcoal: 1Gray+1Blue'}</td>\n",
              "      <td>pusdonnic made quit longcolor bamboo charcoal</td>\n",
              "      <td>soft cool towel instant relief extra long natu...</td>\n",
              "    </tr>\n",
              "    <tr>\n",
              "      <th>370249</th>\n",
              "      <td>370257</td>\n",
              "      <td>['Sports &amp; Outdoors', 'Outdoor Recreation', 'C...</td>\n",
              "      <td>['Pusdon Instant Reusable Cooling Towels are d...</td>\n",
              "      <td>Soft Cooling Towel for Instant Relief, 48inch ...</td>\n",
              "      <td>['B07CHSRVDB', 'B07CR8MQRM', 'B00JLRTZRM', 'B0...</td>\n",
              "      <td>['https://images-na.ssl-images-amazon.com/imag...</td>\n",
              "      <td>Pusdon</td>\n",
              "      <td>['GET 1 FREE Silicone Hand Strengthener Grip R...</td>\n",
              "      <td>54,146 in Sports &amp; Outdoors (</td>\n",
              "      <td>['B00NIYOOMA', 'B07L1TYGZW', 'B01K97XFFK', 'B0...</td>\n",
              "      <td>Sports &amp; Outdoors</td>\n",
              "      <td>$10.99</td>\n",
              "      <td>B01HJDGJ1E</td>\n",
              "      <td>5.0</td>\n",
              "      <td>False</td>\n",
              "      <td>nbspwith heatwav go absolut grate possess long...</td>\n",
              "      <td>Truly Cools You Off and Does Not Lose the Cool...</td>\n",
              "      <td>1471132800</td>\n",
              "      <td>{'Color:': ' Bamboo Charcoal: 1Gray+1Blue'}</td>\n",
              "      <td>pusdontruli cool lose coolnesscolor bamboo cha...</td>\n",
              "      <td>soft cool towel instant relief extra long natu...</td>\n",
              "    </tr>\n",
              "    <tr>\n",
              "      <th>370250</th>\n",
              "      <td>370258</td>\n",
              "      <td>['Sports &amp; Outdoors', 'Outdoor Recreation', 'C...</td>\n",
              "      <td>['Pusdon Instant Reusable Cooling Towels are d...</td>\n",
              "      <td>Soft Cooling Towel for Instant Relief, 48inch ...</td>\n",
              "      <td>['B07CHSRVDB', 'B07CR8MQRM', 'B00JLRTZRM', 'B0...</td>\n",
              "      <td>['https://images-na.ssl-images-amazon.com/imag...</td>\n",
              "      <td>Pusdon</td>\n",
              "      <td>['GET 1 FREE Silicone Hand Strengthener Grip R...</td>\n",
              "      <td>54,146 in Sports &amp; Outdoors (</td>\n",
              "      <td>['B00NIYOOMA', 'B07L1TYGZW', 'B01K97XFFK', 'B0...</td>\n",
              "      <td>Sports &amp; Outdoors</td>\n",
              "      <td>$10.99</td>\n",
              "      <td>B01HJDGJ1E</td>\n",
              "      <td>5.0</td>\n",
              "      <td>False</td>\n",
              "      <td>husband live high desert southern california w...</td>\n",
              "      <td>Keeps Me Cool Longer = Less Breaks While Helpi...</td>\n",
              "      <td>1470096000</td>\n",
              "      <td>{'Color:': ' Bamboo Charcoal: 1Gray+1Blue'}</td>\n",
              "      <td>pusdonkeep cool longer less break help husband...</td>\n",
              "      <td>soft cool towel instant relief extra long natu...</td>\n",
              "    </tr>\n",
              "    <tr>\n",
              "      <th>370251</th>\n",
              "      <td>370259</td>\n",
              "      <td>['Sports &amp; Outdoors', 'Sports &amp; Fitness', 'Clo...</td>\n",
              "      <td>['At the gym, on the court, in the field or po...</td>\n",
              "      <td>2XU Men's Core Compression Shorts</td>\n",
              "      <td>['B01BCM95MS', 'B00UA88HCA', 'B01N6Q4O73', 'B0...</td>\n",
              "      <td>['https://images-na.ssl-images-amazon.com/imag...</td>\n",
              "      <td>2XU</td>\n",
              "      <td>['100% Other Fibers', 'Imported', 'BENEFITS: C...</td>\n",
              "      <td>68,476 in Sports &amp; Outdoors (</td>\n",
              "      <td>['B01BCM95MS', 'B01N6Q4O73', 'B01MS6NKNK', 'B0...</td>\n",
              "      <td>Sports &amp; Outdoors</td>\n",
              "      <td>$52.10 - $69.95</td>\n",
              "      <td>B01HJGAJ9O</td>\n",
              "      <td>5.0</td>\n",
              "      <td>True</td>\n",
              "      <td>far like use cycl short im familiar compress s...</td>\n",
              "      <td>Using them for Cycling</td>\n",
              "      <td>1518307200</td>\n",
              "      <td>{'Size:': ' Medium', 'Color:': ' Black/White'}</td>\n",
              "      <td>cyclings medium color blackwhit</td>\n",
              "      <td>men core compress short</td>\n",
              "    </tr>\n",
              "  </tbody>\n",
              "</table>\n",
              "<p>369155 rows × 21 columns</p>\n",
              "</div>"
            ],
            "text/plain": [
              "        Unnamed: 0  ...                                          title_nlp\n",
              "0                0  ...              delorm new york state atla amp gazett\n",
              "1                1  ...              delorm new york state atla amp gazett\n",
              "2                2  ...              delorm new york state atla amp gazett\n",
              "3                3  ...    garmin delorm atla amp gazett paper map arizona\n",
              "4                4  ...    garmin delorm atla amp gazett paper map arizona\n",
              "...            ...  ...                                                ...\n",
              "370247      370255  ...  soft cool towel instant relief extra long natu...\n",
              "370248      370256  ...  soft cool towel instant relief extra long natu...\n",
              "370249      370257  ...  soft cool towel instant relief extra long natu...\n",
              "370250      370258  ...  soft cool towel instant relief extra long natu...\n",
              "370251      370259  ...                            men core compress short\n",
              "\n",
              "[369155 rows x 21 columns]"
            ]
          },
          "metadata": {
            "tags": []
          },
          "execution_count": 20
        }
      ]
    },
    {
      "cell_type": "code",
      "metadata": {
        "id": "aEbIaahotriB",
        "colab_type": "code",
        "colab": {}
      },
      "source": [
        "df_all_15 = df_all_15[~(df_all_15['title_nlp'].isna())]\n",
        "df_all_15 = df_all_15[~(df_all_15['item_text'].isna())]\n",
        "df_all_15 = df_all_15[~(df_all_15['reviewText'].isna())]"
      ],
      "execution_count": 4,
      "outputs": []
    },
    {
      "cell_type": "code",
      "metadata": {
        "id": "iAFOe2brtvIy",
        "colab_type": "code",
        "colab": {}
      },
      "source": [
        "df_items_text = df_all_15.groupby(['asin', 'title','title_nlp','image_x'])['item_text'].apply(lambda x: ' '.join(x)).reset_index()"
      ],
      "execution_count": 5,
      "outputs": []
    },
    {
      "cell_type": "code",
      "metadata": {
        "id": "auMB2aqp3VdZ",
        "colab_type": "code",
        "colab": {}
      },
      "source": [
        "df_review_text = df_all_15.groupby(['asin', 'title','title_nlp','image_x'])['reviewText'].apply(lambda x: ' '.join(x)).reset_index()"
      ],
      "execution_count": 6,
      "outputs": []
    },
    {
      "cell_type": "code",
      "metadata": {
        "id": "hmtL5AUvtxQl",
        "colab_type": "code",
        "colab": {}
      },
      "source": [
        "merged_df = df_items_text.merge(df_review_text, how='inner', on=['asin', 'title','title_nlp','image_x'])"
      ],
      "execution_count": 7,
      "outputs": []
    },
    {
      "cell_type": "code",
      "metadata": {
        "id": "uOq_KmZ8t64X",
        "colab_type": "code",
        "colab": {
          "base_uri": "https://localhost:8080/",
          "height": 241
        },
        "outputId": "b58de6c3-f4a2-4512-efda-8101666bf038"
      },
      "source": [
        "merged_df.head(4)"
      ],
      "execution_count": 8,
      "outputs": [
        {
          "output_type": "execute_result",
          "data": {
            "text/html": [
              "<div>\n",
              "<style scoped>\n",
              "    .dataframe tbody tr th:only-of-type {\n",
              "        vertical-align: middle;\n",
              "    }\n",
              "\n",
              "    .dataframe tbody tr th {\n",
              "        vertical-align: top;\n",
              "    }\n",
              "\n",
              "    .dataframe thead th {\n",
              "        text-align: right;\n",
              "    }\n",
              "</style>\n",
              "<table border=\"1\" class=\"dataframe\">\n",
              "  <thead>\n",
              "    <tr style=\"text-align: right;\">\n",
              "      <th></th>\n",
              "      <th>asin</th>\n",
              "      <th>title</th>\n",
              "      <th>title_nlp</th>\n",
              "      <th>image_x</th>\n",
              "      <th>item_text</th>\n",
              "      <th>reviewText</th>\n",
              "    </tr>\n",
              "  </thead>\n",
              "  <tbody>\n",
              "    <tr>\n",
              "      <th>0</th>\n",
              "      <td>0899332757</td>\n",
              "      <td>Delorme New York State Atlas &amp;amp; Gazetteer</td>\n",
              "      <td>delorm new york state atla amp gazett</td>\n",
              "      <td>['https://images-na.ssl-images-amazon.com/imag...</td>\n",
              "      <td>garmingreat explor rural part stateformat pape...</td>\n",
              "      <td>your interest explor area new york beyond metr...</td>\n",
              "    </tr>\n",
              "    <tr>\n",
              "      <th>1</th>\n",
              "      <td>0899333257</td>\n",
              "      <td>Garmin DeLorme Atlas &amp;amp; Gazetteer Paper Map...</td>\n",
              "      <td>garmin delorm atla amp gazett paper map arizona</td>\n",
              "      <td>['https://images-na.ssl-images-amazon.com/imag...</td>\n",
              "      <td>garminnecessari grid campingformat paperback g...</td>\n",
              "      <td>delorm atla us state theyr amaz detail accur e...</td>\n",
              "    </tr>\n",
              "    <tr>\n",
              "      <th>2</th>\n",
              "      <td>0971100764</td>\n",
              "      <td>BenchMaster Pocket Guide - Fly Fishing - Fishing</td>\n",
              "      <td>benchmast pocket guid fli fish fish</td>\n",
              "      <td>['https://images-na.ssl-images-amazon.com/imag...</td>\n",
              "      <td>pocket guidesbut make great stock stufferforma...</td>\n",
              "      <td>husband know everyth tie knot make great stock...</td>\n",
              "    </tr>\n",
              "    <tr>\n",
              "      <th>3</th>\n",
              "      <td>3843518912</td>\n",
              "      <td>Spooner Boards Freestyle - Green</td>\n",
              "      <td>spooner board freestyl green</td>\n",
              "      <td>['https://images-na.ssl-images-amazon.com/imag...</td>\n",
              "      <td>spooner boardsgreat old spooner boardsa good a...</td>\n",
              "      <td>purchas year old son love play time coldraini ...</td>\n",
              "    </tr>\n",
              "  </tbody>\n",
              "</table>\n",
              "</div>"
            ],
            "text/plain": [
              "         asin  ...                                         reviewText\n",
              "0  0899332757  ...  your interest explor area new york beyond metr...\n",
              "1  0899333257  ...  delorm atla us state theyr amaz detail accur e...\n",
              "2  0971100764  ...  husband know everyth tie knot make great stock...\n",
              "3  3843518912  ...  purchas year old son love play time coldraini ...\n",
              "\n",
              "[4 rows x 6 columns]"
            ]
          },
          "metadata": {
            "tags": []
          },
          "execution_count": 8
        }
      ]
    },
    {
      "cell_type": "code",
      "metadata": {
        "id": "cWBdZN_7BTH8",
        "colab_type": "code",
        "colab": {
          "base_uri": "https://localhost:8080/",
          "height": 102
        },
        "outputId": "f4200a48-9f04-4372-e02d-b2f3dc825990"
      },
      "source": [
        "merged_df[\"reviewText\"].iloc[:4]"
      ],
      "execution_count": 9,
      "outputs": [
        {
          "output_type": "execute_result",
          "data": {
            "text/plain": [
              "0    your interest explor area new york beyond metr...\n",
              "1    delorm atla us state theyr amaz detail accur e...\n",
              "2    husband know everyth tie knot make great stock...\n",
              "3    purchas year old son love play time coldraini ...\n",
              "Name: reviewText, dtype: object"
            ]
          },
          "metadata": {
            "tags": []
          },
          "execution_count": 9
        }
      ]
    },
    {
      "cell_type": "code",
      "metadata": {
        "id": "3StkM_Zj5SmZ",
        "colab_type": "code",
        "colab": {}
      },
      "source": [
        "review_embeddings = hub.text_embedding_column(\"product_reviews\",module_spec=\"https://tfhub.dev/google/universal-sentence-encoder/2\")"
      ],
      "execution_count": 14,
      "outputs": []
    },
    {
      "cell_type": "code",
      "metadata": {
        "id": "4Oyq4XSD7p7I",
        "colab_type": "code",
        "colab": {}
      },
      "source": [
        "import tensorflow_hub as hub\n",
        "embed = hub.load(\"https://tfhub.dev/google/Wiki-words-500-with-normalization/2\")\n",
        "embeddings = embed(merged_df[\"reviewText\"])\n"
      ],
      "execution_count": 10,
      "outputs": []
    },
    {
      "cell_type": "code",
      "metadata": {
        "id": "cU8icbSfAVwY",
        "colab_type": "code",
        "colab": {
          "base_uri": "https://localhost:8080/",
          "height": 34
        },
        "outputId": "ce2fe107-c91d-4e0f-fdd1-eca7909d44b5"
      },
      "source": [
        "embeddings.shape"
      ],
      "execution_count": 11,
      "outputs": [
        {
          "output_type": "execute_result",
          "data": {
            "text/plain": [
              "TensorShape([56351, 500])"
            ]
          },
          "metadata": {
            "tags": []
          },
          "execution_count": 11
        }
      ]
    },
    {
      "cell_type": "code",
      "metadata": {
        "id": "DcR6T7WEAXba",
        "colab_type": "code",
        "colab": {
          "base_uri": "https://localhost:8080/",
          "height": 238
        },
        "outputId": "1cd13eaa-9472-4520-e0de-c4b922b40897"
      },
      "source": [
        "from sklearn.metrics.pairwise import cosine_similarity\n",
        "cosine_similarity(embeddings)"
      ],
      "execution_count": 12,
      "outputs": [
        {
          "output_type": "execute_result",
          "data": {
            "text/plain": [
              "array([[0.99999964, 0.9465526 , 0.7830856 , ..., 0.88230234, 0.8117728 ,\n",
              "        0.7322055 ],\n",
              "       [0.9465526 , 1.        , 0.75413275, ..., 0.83825684, 0.77073133,\n",
              "        0.6778188 ],\n",
              "       [0.7830856 , 0.75413275, 0.9999995 , ..., 0.8520808 , 0.7883779 ,\n",
              "        0.6911081 ],\n",
              "       ...,\n",
              "       [0.88230234, 0.83825684, 0.8520808 , ..., 1.0000002 , 0.8910816 ,\n",
              "        0.723804  ],\n",
              "       [0.8117728 , 0.77073133, 0.7883779 , ..., 0.8910816 , 1.0000004 ,\n",
              "        0.7359053 ],\n",
              "       [0.7322055 , 0.6778188 , 0.6911081 , ..., 0.723804  , 0.7359053 ,\n",
              "        1.0000005 ]], dtype=float32)"
            ]
          },
          "metadata": {
            "tags": []
          },
          "execution_count": 12
        }
      ]
    },
    {
      "cell_type": "code",
      "metadata": {
        "id": "L1rbwU2TAx1O",
        "colab_type": "code",
        "colab": {
          "base_uri": "https://localhost:8080/",
          "height": 343
        },
        "outputId": "19d93586-6b82-47cf-f5f2-9e3902189a85"
      },
      "source": [
        "hub_layer = hub.KerasLayer(\"https://tfhub.dev/google/Wiki-words-500-with-normalization/2\",\n",
        "                           input_shape=[], dtype=tf.string)\n",
        "\n",
        "model = tf.keras.Sequential()\n",
        "model.add(hub_layer)\n",
        "model.add(tf.keras.layers.Dense(16, activation='relu'))\n",
        "model.add(tf.keras.layers.Dense(1, activation='sigmoid'))\n",
        "\n",
        "model.summary()"
      ],
      "execution_count": 15,
      "outputs": [
        {
          "output_type": "stream",
          "text": [
            "WARNING:tensorflow:8 out of the last 8 calls to <function recreate_function.<locals>.restored_function_body at 0x7ef9f5008c80> triggered tf.function retracing. Tracing is expensive and the excessive number of tracings could be due to (1) creating @tf.function repeatedly in a loop, (2) passing tensors with different shapes, (3) passing Python objects instead of tensors. For (1), please define your @tf.function outside of the loop. For (2), @tf.function has experimental_relax_shapes=True option that relaxes argument shapes that can avoid unnecessary retracing. For (3), please refer to https://www.tensorflow.org/tutorials/customization/performance#python_or_tensor_args and https://www.tensorflow.org/api_docs/python/tf/function for  more details.\n"
          ],
          "name": "stdout"
        },
        {
          "output_type": "stream",
          "text": [
            "WARNING:tensorflow:8 out of the last 8 calls to <function recreate_function.<locals>.restored_function_body at 0x7ef9f5008c80> triggered tf.function retracing. Tracing is expensive and the excessive number of tracings could be due to (1) creating @tf.function repeatedly in a loop, (2) passing tensors with different shapes, (3) passing Python objects instead of tensors. For (1), please define your @tf.function outside of the loop. For (2), @tf.function has experimental_relax_shapes=True option that relaxes argument shapes that can avoid unnecessary retracing. For (3), please refer to https://www.tensorflow.org/tutorials/customization/performance#python_or_tensor_args and https://www.tensorflow.org/api_docs/python/tf/function for  more details.\n"
          ],
          "name": "stderr"
        },
        {
          "output_type": "stream",
          "text": [
            "WARNING:tensorflow:9 out of the last 9 calls to <function recreate_function.<locals>.restored_function_body at 0x7ef9f5008d08> triggered tf.function retracing. Tracing is expensive and the excessive number of tracings could be due to (1) creating @tf.function repeatedly in a loop, (2) passing tensors with different shapes, (3) passing Python objects instead of tensors. For (1), please define your @tf.function outside of the loop. For (2), @tf.function has experimental_relax_shapes=True option that relaxes argument shapes that can avoid unnecessary retracing. For (3), please refer to https://www.tensorflow.org/tutorials/customization/performance#python_or_tensor_args and https://www.tensorflow.org/api_docs/python/tf/function for  more details.\n"
          ],
          "name": "stdout"
        },
        {
          "output_type": "stream",
          "text": [
            "WARNING:tensorflow:9 out of the last 9 calls to <function recreate_function.<locals>.restored_function_body at 0x7ef9f5008d08> triggered tf.function retracing. Tracing is expensive and the excessive number of tracings could be due to (1) creating @tf.function repeatedly in a loop, (2) passing tensors with different shapes, (3) passing Python objects instead of tensors. For (1), please define your @tf.function outside of the loop. For (2), @tf.function has experimental_relax_shapes=True option that relaxes argument shapes that can avoid unnecessary retracing. For (3), please refer to https://www.tensorflow.org/tutorials/customization/performance#python_or_tensor_args and https://www.tensorflow.org/api_docs/python/tf/function for  more details.\n"
          ],
          "name": "stderr"
        },
        {
          "output_type": "stream",
          "text": [
            "Model: \"sequential_1\"\n",
            "_________________________________________________________________\n",
            "Layer (type)                 Output Shape              Param #   \n",
            "=================================================================\n",
            "keras_layer_2 (KerasLayer)   (None, 500)               504687500 \n",
            "_________________________________________________________________\n",
            "dense (Dense)                (None, 16)                8016      \n",
            "_________________________________________________________________\n",
            "dense_1 (Dense)              (None, 1)                 17        \n",
            "=================================================================\n",
            "Total params: 504,695,533\n",
            "Trainable params: 8,033\n",
            "Non-trainable params: 504,687,500\n",
            "_________________________________________________________________\n"
          ],
          "name": "stdout"
        }
      ]
    },
    {
      "cell_type": "code",
      "metadata": {
        "id": "TO7vYy7BLxR3",
        "colab_type": "code",
        "colab": {}
      },
      "source": [
        ""
      ],
      "execution_count": null,
      "outputs": []
    }
  ]
}