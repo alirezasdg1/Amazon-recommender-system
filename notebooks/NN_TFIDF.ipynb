{
  "nbformat": 4,
  "nbformat_minor": 0,
  "metadata": {
    "colab": {
      "name": "NN_TFIDF.ipynb",
      "provenance": [],
      "collapsed_sections": [],
      "machine_shape": "hm",
      "mount_file_id": "1wBCYiHklsFaMG4VxW-PQntQsoYfMhdjF",
      "authorship_tag": "ABX9TyPG1zQHZUJyW2JNID95jWrp",
      "include_colab_link": true
    },
    "kernelspec": {
      "name": "python3",
      "display_name": "Python 3"
    },
    "accelerator": "GPU"
  },
  "cells": [
    {
      "cell_type": "markdown",
      "metadata": {
        "id": "view-in-github",
        "colab_type": "text"
      },
      "source": [
        "<a href=\"https://colab.research.google.com/github/alirezasdg1/Amazon-recommender-system/blob/master/notebooks/NN_TFIDF.ipynb\" target=\"_parent\"><img src=\"https://colab.research.google.com/assets/colab-badge.svg\" alt=\"Open In Colab\"/></a>"
      ]
    },
    {
      "cell_type": "code",
      "metadata": {
        "id": "kk1rlrVOPpGY",
        "colab_type": "code",
        "colab": {}
      },
      "source": [
        "import tensorflow as tf\n",
        "import tensorflow_hub as hub\n",
        "import pandas as pd\n",
        "import numpy as np\n",
        "import tensorflow as tf\n",
        "from tensorflow.keras.layers import Conv2D, MaxPooling2D, UpSampling2D, Flatten, Reshape\n",
        "from tensorflow.keras.models import Sequential\n",
        "from sklearn.model_selection import train_test_split\n",
        "from tensorflow.keras import backend as K\n",
        "from theano import function\n",
        "import matplotlib.pyplot as plt\n",
        "import pickle\n",
        "from tensorflow.keras.layers import Input, Dense\n",
        "from tensorflow.keras.models import Model\n",
        "from tensorflow.keras.callbacks import EarlyStopping, TensorBoard\n",
        "from sklearn.model_selection import train_test_split\n"
      ],
      "execution_count": 1,
      "outputs": []
    },
    {
      "cell_type": "code",
      "metadata": {
        "id": "txayA5T7PwDY",
        "colab_type": "code",
        "colab": {
          "base_uri": "https://localhost:8080/",
          "height": 204
        },
        "outputId": "edd0aa54-f0c6-4dfd-892f-9f27105ae24b"
      },
      "source": [
        "!wget https://recommender-system-amazon.s3.amazonaws.com/weighted_vector.csv"
      ],
      "execution_count": 2,
      "outputs": [
        {
          "output_type": "stream",
          "text": [
            "--2020-09-17 16:45:41--  https://recommender-system-amazon.s3.amazonaws.com/weighted_vector.csv\n",
            "Resolving recommender-system-amazon.s3.amazonaws.com (recommender-system-amazon.s3.amazonaws.com)... 52.216.77.108\n",
            "Connecting to recommender-system-amazon.s3.amazonaws.com (recommender-system-amazon.s3.amazonaws.com)|52.216.77.108|:443... connected.\n",
            "HTTP request sent, awaiting response... 200 OK\n",
            "Length: 2061444614 (1.9G) [binary/octet-stream]\n",
            "Saving to: ‘weighted_vector.csv.1’\n",
            "\n",
            "weighted_vector.csv 100%[===================>]   1.92G  35.0MB/s    in 57s     \n",
            "\n",
            "2020-09-17 16:46:39 (34.4 MB/s) - ‘weighted_vector.csv.1’ saved [2061444614/2061444614]\n",
            "\n"
          ],
          "name": "stdout"
        }
      ]
    },
    {
      "cell_type": "code",
      "metadata": {
        "id": "bLBCOmnAQP7n",
        "colab_type": "code",
        "colab": {}
      },
      "source": [
        "df_content_recommender = pd.read_csv(\"df_content_recommender.csv\")"
      ],
      "execution_count": 3,
      "outputs": []
    },
    {
      "cell_type": "code",
      "metadata": {
        "id": "lvXsH4n1diSW",
        "colab_type": "code",
        "colab": {}
      },
      "source": [
        "df_content_recommender.drop([\"Unnamed: 0\"],axis=1,inplace = True)"
      ],
      "execution_count": 4,
      "outputs": []
    },
    {
      "cell_type": "code",
      "metadata": {
        "id": "3xhiyepiZfuK",
        "colab_type": "code",
        "colab": {
          "base_uri": "https://localhost:8080/",
          "height": 160
        },
        "outputId": "b0c00c73-e1e9-4f7e-b03a-e5a4c7b62dc3"
      },
      "source": [
        "df_content_recommender.head(2)"
      ],
      "execution_count": 5,
      "outputs": [
        {
          "output_type": "execute_result",
          "data": {
            "text/html": [
              "<div>\n",
              "<style scoped>\n",
              "    .dataframe tbody tr th:only-of-type {\n",
              "        vertical-align: middle;\n",
              "    }\n",
              "\n",
              "    .dataframe tbody tr th {\n",
              "        vertical-align: top;\n",
              "    }\n",
              "\n",
              "    .dataframe thead th {\n",
              "        text-align: right;\n",
              "    }\n",
              "</style>\n",
              "<table border=\"1\" class=\"dataframe\">\n",
              "  <thead>\n",
              "    <tr style=\"text-align: right;\">\n",
              "      <th></th>\n",
              "      <th>aa</th>\n",
              "      <th>aaa</th>\n",
              "      <th>ab</th>\n",
              "      <th>abdomin</th>\n",
              "      <th>abil</th>\n",
              "      <th>abl</th>\n",
              "      <th>abras</th>\n",
              "      <th>absolut</th>\n",
              "      <th>absorb</th>\n",
              "      <th>absorpt</th>\n",
              "      <th>abu</th>\n",
              "      <th>abus</th>\n",
              "      <th>ac</th>\n",
              "      <th>academi</th>\n",
              "      <th>acceler</th>\n",
              "      <th>accent</th>\n",
              "      <th>accept</th>\n",
              "      <th>access</th>\n",
              "      <th>accessori</th>\n",
              "      <th>accid</th>\n",
              "      <th>accident</th>\n",
              "      <th>accommod</th>\n",
              "      <th>accomod</th>\n",
              "      <th>accompani</th>\n",
              "      <th>accomplish</th>\n",
              "      <th>accord</th>\n",
              "      <th>accordingli</th>\n",
              "      <th>account</th>\n",
              "      <th>accumul</th>\n",
              "      <th>accur</th>\n",
              "      <th>accuraci</th>\n",
              "      <th>accustom</th>\n",
              "      <th>ace</th>\n",
              "      <th>ach</th>\n",
              "      <th>achiev</th>\n",
              "      <th>achil</th>\n",
              "      <th>acid</th>\n",
              "      <th>acknowledg</th>\n",
              "      <th>acp</th>\n",
              "      <th>acquir</th>\n",
              "      <th>...</th>\n",
              "      <th>yeah</th>\n",
              "      <th>year</th>\n",
              "      <th>yearold</th>\n",
              "      <th>yell</th>\n",
              "      <th>yellow</th>\n",
              "      <th>yellowblack</th>\n",
              "      <th>yep</th>\n",
              "      <th>yesterday</th>\n",
              "      <th>yetcolor</th>\n",
              "      <th>yeti</th>\n",
              "      <th>yetsiz</th>\n",
              "      <th>yield</th>\n",
              "      <th>ykk</th>\n",
              "      <th>ymmv</th>\n",
              "      <th>yo</th>\n",
              "      <th>yoga</th>\n",
              "      <th>york</th>\n",
              "      <th>youcolor</th>\n",
              "      <th>youd</th>\n",
              "      <th>youi</th>\n",
              "      <th>youll</th>\n",
              "      <th>young</th>\n",
              "      <th>younger</th>\n",
              "      <th>youngest</th>\n",
              "      <th>youngster</th>\n",
              "      <th>yousiz</th>\n",
              "      <th>youth</th>\n",
              "      <th>youtub</th>\n",
              "      <th>youv</th>\n",
              "      <th>yr</th>\n",
              "      <th>yup</th>\n",
              "      <th>zero</th>\n",
              "      <th>zip</th>\n",
              "      <th>ziploc</th>\n",
              "      <th>ziplock</th>\n",
              "      <th>zipper</th>\n",
              "      <th>zipti</th>\n",
              "      <th>zombi</th>\n",
              "      <th>zone</th>\n",
              "      <th>zoom</th>\n",
              "    </tr>\n",
              "  </thead>\n",
              "  <tbody>\n",
              "    <tr>\n",
              "      <th>0</th>\n",
              "      <td>0.0</td>\n",
              "      <td>0.0</td>\n",
              "      <td>0.0</td>\n",
              "      <td>0.0</td>\n",
              "      <td>0.0</td>\n",
              "      <td>0.063660</td>\n",
              "      <td>0.0</td>\n",
              "      <td>0.0</td>\n",
              "      <td>0.0</td>\n",
              "      <td>0.0</td>\n",
              "      <td>0.0</td>\n",
              "      <td>0.0</td>\n",
              "      <td>0.0</td>\n",
              "      <td>0.0</td>\n",
              "      <td>0.0</td>\n",
              "      <td>0.0</td>\n",
              "      <td>0.0</td>\n",
              "      <td>0.0</td>\n",
              "      <td>0.0</td>\n",
              "      <td>0.0</td>\n",
              "      <td>0.0</td>\n",
              "      <td>0.0</td>\n",
              "      <td>0.0</td>\n",
              "      <td>0.0</td>\n",
              "      <td>0.0</td>\n",
              "      <td>0.0</td>\n",
              "      <td>0.0</td>\n",
              "      <td>0.0</td>\n",
              "      <td>0.0</td>\n",
              "      <td>0.000000</td>\n",
              "      <td>0.0</td>\n",
              "      <td>0.0</td>\n",
              "      <td>0.0</td>\n",
              "      <td>0.0</td>\n",
              "      <td>0.0</td>\n",
              "      <td>0.0</td>\n",
              "      <td>0.0</td>\n",
              "      <td>0.0</td>\n",
              "      <td>0.0</td>\n",
              "      <td>0.0</td>\n",
              "      <td>...</td>\n",
              "      <td>0.0</td>\n",
              "      <td>0.054291</td>\n",
              "      <td>0.0</td>\n",
              "      <td>0.0</td>\n",
              "      <td>0.0</td>\n",
              "      <td>0.0</td>\n",
              "      <td>0.0</td>\n",
              "      <td>0.0</td>\n",
              "      <td>0.0</td>\n",
              "      <td>0.0</td>\n",
              "      <td>0.0</td>\n",
              "      <td>0.0</td>\n",
              "      <td>0.0</td>\n",
              "      <td>0.0</td>\n",
              "      <td>0.0</td>\n",
              "      <td>0.0</td>\n",
              "      <td>0.152405</td>\n",
              "      <td>0.0</td>\n",
              "      <td>0.0</td>\n",
              "      <td>0.0</td>\n",
              "      <td>0.0</td>\n",
              "      <td>0.0</td>\n",
              "      <td>0.0</td>\n",
              "      <td>0.0</td>\n",
              "      <td>0.0</td>\n",
              "      <td>0.0</td>\n",
              "      <td>0.0</td>\n",
              "      <td>0.0</td>\n",
              "      <td>0.0</td>\n",
              "      <td>0.0</td>\n",
              "      <td>0.0</td>\n",
              "      <td>0.0</td>\n",
              "      <td>0.0</td>\n",
              "      <td>0.0</td>\n",
              "      <td>0.0</td>\n",
              "      <td>0.0</td>\n",
              "      <td>0.0</td>\n",
              "      <td>0.0</td>\n",
              "      <td>0.0</td>\n",
              "      <td>0.0</td>\n",
              "    </tr>\n",
              "    <tr>\n",
              "      <th>1</th>\n",
              "      <td>0.0</td>\n",
              "      <td>0.0</td>\n",
              "      <td>0.0</td>\n",
              "      <td>0.0</td>\n",
              "      <td>0.0</td>\n",
              "      <td>0.065836</td>\n",
              "      <td>0.0</td>\n",
              "      <td>0.0</td>\n",
              "      <td>0.0</td>\n",
              "      <td>0.0</td>\n",
              "      <td>0.0</td>\n",
              "      <td>0.0</td>\n",
              "      <td>0.0</td>\n",
              "      <td>0.0</td>\n",
              "      <td>0.0</td>\n",
              "      <td>0.0</td>\n",
              "      <td>0.0</td>\n",
              "      <td>0.0</td>\n",
              "      <td>0.0</td>\n",
              "      <td>0.0</td>\n",
              "      <td>0.0</td>\n",
              "      <td>0.0</td>\n",
              "      <td>0.0</td>\n",
              "      <td>0.0</td>\n",
              "      <td>0.0</td>\n",
              "      <td>0.0</td>\n",
              "      <td>0.0</td>\n",
              "      <td>0.0</td>\n",
              "      <td>0.0</td>\n",
              "      <td>0.031045</td>\n",
              "      <td>0.0</td>\n",
              "      <td>0.0</td>\n",
              "      <td>0.0</td>\n",
              "      <td>0.0</td>\n",
              "      <td>0.0</td>\n",
              "      <td>0.0</td>\n",
              "      <td>0.0</td>\n",
              "      <td>0.0</td>\n",
              "      <td>0.0</td>\n",
              "      <td>0.0</td>\n",
              "      <td>...</td>\n",
              "      <td>0.0</td>\n",
              "      <td>0.056147</td>\n",
              "      <td>0.0</td>\n",
              "      <td>0.0</td>\n",
              "      <td>0.0</td>\n",
              "      <td>0.0</td>\n",
              "      <td>0.0</td>\n",
              "      <td>0.0</td>\n",
              "      <td>0.0</td>\n",
              "      <td>0.0</td>\n",
              "      <td>0.0</td>\n",
              "      <td>0.0</td>\n",
              "      <td>0.0</td>\n",
              "      <td>0.0</td>\n",
              "      <td>0.0</td>\n",
              "      <td>0.0</td>\n",
              "      <td>0.000000</td>\n",
              "      <td>0.0</td>\n",
              "      <td>0.0</td>\n",
              "      <td>0.0</td>\n",
              "      <td>0.0</td>\n",
              "      <td>0.0</td>\n",
              "      <td>0.0</td>\n",
              "      <td>0.0</td>\n",
              "      <td>0.0</td>\n",
              "      <td>0.0</td>\n",
              "      <td>0.0</td>\n",
              "      <td>0.0</td>\n",
              "      <td>0.0</td>\n",
              "      <td>0.0</td>\n",
              "      <td>0.0</td>\n",
              "      <td>0.0</td>\n",
              "      <td>0.0</td>\n",
              "      <td>0.0</td>\n",
              "      <td>0.0</td>\n",
              "      <td>0.0</td>\n",
              "      <td>0.0</td>\n",
              "      <td>0.0</td>\n",
              "      <td>0.0</td>\n",
              "      <td>0.0</td>\n",
              "    </tr>\n",
              "  </tbody>\n",
              "</table>\n",
              "<p>2 rows × 6447 columns</p>\n",
              "</div>"
            ],
            "text/plain": [
              "    aa  aaa   ab  abdomin  abil  ...  zipper  zipti  zombi  zone  zoom\n",
              "0  0.0  0.0  0.0      0.0   0.0  ...     0.0    0.0    0.0   0.0   0.0\n",
              "1  0.0  0.0  0.0      0.0   0.0  ...     0.0    0.0    0.0   0.0   0.0\n",
              "\n",
              "[2 rows x 6447 columns]"
            ]
          },
          "metadata": {
            "tags": []
          },
          "execution_count": 5
        }
      ]
    },
    {
      "cell_type": "code",
      "metadata": {
        "id": "r_JOc4hHPnJ2",
        "colab_type": "code",
        "colab": {}
      },
      "source": [
        "def autoencoder_model(X_text):\n",
        "    '''\n",
        "    '''\n",
        "    # this is our input placeholder\n",
        "    input_text = Input(shape=(X_text.shape[1],))\n",
        "\n",
        "    # first encoding layer\n",
        "    encoded1 = Dense(units = 1500, activation = 'softmax')(input_text)\n",
        "\n",
        "    # second encoding layer\n",
        "    encoded2 = Dense(units = 100, activation='softmax')(encoded1)\n",
        "\n",
        "    # first decoding layer\n",
        "    decoded1 = Dense(units = 1500, activation='softmax')(encoded2)\n",
        "\n",
        "    # second decoding layer \n",
        "    decoded2 = Dense(units = X_text.shape[1], activation='sigmoid')(decoded1)\n",
        "\n",
        "    # this model maps an input to its reconstruction\n",
        "    autoencoder = Model(input_text, decoded2)\n",
        "\n",
        "    # compile model\n",
        "    autoencoder.compile(optimizer = 'adam', loss = 'mean_squared_error', metrics=['mse'])\n",
        "\n",
        "    return autoencoder"
      ],
      "execution_count": 9,
      "outputs": []
    },
    {
      "cell_type": "code",
      "metadata": {
        "id": "E_XZZj6Mb8Vb",
        "colab_type": "code",
        "colab": {
          "base_uri": "https://localhost:8080/",
          "height": 731
        },
        "outputId": "62617277-fa96-4a47-effb-07181047fe54"
      },
      "source": [
        "msk = np.random.rand(len(df_content_recommender)) < 0.8\n",
        "\n",
        "X_train = df_content_recommender[msk]\n",
        "X_test = df_content_recommender[~msk]\n",
        "    \n",
        "model = autoencoder_model(X_train)\n",
        "\n",
        "batch_size = 100\n",
        "\n",
        "\n",
        "\n",
        "# try different number of epochs - 10 gives good performanace \n",
        "history = model.fit(X_train, X_train, epochs=20, batch_size=batch_size, verbose=1,validation_data=(X_test,X_test)) # cross val to estimate test error\n",
        "\n",
        "\n",
        "\n",
        "scores = model.evaluate(X_test, X_test)\n",
        "print('Test mse = {}'.format(scores[0]))\n",
        "\n",
        "X_test_decoded = model.predict(X_test)\n"
      ],
      "execution_count": 10,
      "outputs": [
        {
          "output_type": "stream",
          "text": [
            "Epoch 1/20\n",
            "450/450 [==============================] - 7s 15ms/step - loss: 0.1966 - mse: 0.1966 - val_loss: 0.1500 - val_mse: 0.1500\n",
            "Epoch 2/20\n",
            "450/450 [==============================] - 4s 8ms/step - loss: 0.1166 - mse: 0.1166 - val_loss: 0.0883 - val_mse: 0.0883\n",
            "Epoch 3/20\n",
            "450/450 [==============================] - 4s 8ms/step - loss: 0.0678 - mse: 0.0678 - val_loss: 0.0501 - val_mse: 0.0501\n",
            "Epoch 4/20\n",
            "450/450 [==============================] - 4s 8ms/step - loss: 0.0361 - mse: 0.0361 - val_loss: 0.0229 - val_mse: 0.0229\n",
            "Epoch 5/20\n",
            "450/450 [==============================] - 4s 8ms/step - loss: 0.0139 - mse: 0.0139 - val_loss: 0.0076 - val_mse: 0.0076\n",
            "Epoch 6/20\n",
            "450/450 [==============================] - 4s 8ms/step - loss: 0.0048 - mse: 0.0048 - val_loss: 0.0028 - val_mse: 0.0028\n",
            "Epoch 7/20\n",
            "450/450 [==============================] - 4s 8ms/step - loss: 0.0020 - mse: 0.0020 - val_loss: 0.0014 - val_mse: 0.0014\n",
            "Epoch 8/20\n",
            "450/450 [==============================] - 4s 8ms/step - loss: 0.0011 - mse: 0.0011 - val_loss: 9.2394e-04 - val_mse: 9.2394e-04\n",
            "Epoch 9/20\n",
            "450/450 [==============================] - 4s 8ms/step - loss: 8.0973e-04 - mse: 8.0973e-04 - val_loss: 7.1893e-04 - val_mse: 7.1893e-04\n",
            "Epoch 10/20\n",
            "450/450 [==============================] - 4s 8ms/step - loss: 6.5656e-04 - mse: 6.5656e-04 - val_loss: 6.0497e-04 - val_mse: 6.0497e-04\n",
            "Epoch 11/20\n",
            "450/450 [==============================] - 4s 8ms/step - loss: 5.6610e-04 - mse: 5.6610e-04 - val_loss: 5.3343e-04 - val_mse: 5.3343e-04\n",
            "Epoch 12/20\n",
            "450/450 [==============================] - 4s 8ms/step - loss: 5.0715e-04 - mse: 5.0715e-04 - val_loss: 4.8505e-04 - val_mse: 4.8505e-04\n",
            "Epoch 13/20\n",
            "450/450 [==============================] - 4s 8ms/step - loss: 4.6631e-04 - mse: 4.6631e-04 - val_loss: 4.5069e-04 - val_mse: 4.5069e-04\n",
            "Epoch 14/20\n",
            "450/450 [==============================] - 4s 8ms/step - loss: 4.3679e-04 - mse: 4.3679e-04 - val_loss: 4.2543e-04 - val_mse: 4.2543e-04\n",
            "Epoch 15/20\n",
            "450/450 [==============================] - 4s 8ms/step - loss: 4.1482e-04 - mse: 4.1482e-04 - val_loss: 4.0638e-04 - val_mse: 4.0638e-04\n",
            "Epoch 16/20\n",
            "450/450 [==============================] - 4s 8ms/step - loss: 3.9807e-04 - mse: 3.9807e-04 - val_loss: 3.9170e-04 - val_mse: 3.9170e-04\n",
            "Epoch 17/20\n",
            "450/450 [==============================] - 4s 8ms/step - loss: 3.8506e-04 - mse: 3.8506e-04 - val_loss: 3.8020e-04 - val_mse: 3.8020e-04\n",
            "Epoch 18/20\n",
            "450/450 [==============================] - 4s 8ms/step - loss: 3.7478e-04 - mse: 3.7478e-04 - val_loss: 3.7104e-04 - val_mse: 3.7104e-04\n",
            "Epoch 19/20\n",
            "450/450 [==============================] - 4s 8ms/step - loss: 3.6655e-04 - mse: 3.6655e-04 - val_loss: 3.6365e-04 - val_mse: 3.6365e-04\n",
            "Epoch 20/20\n",
            "450/450 [==============================] - 4s 8ms/step - loss: 3.5986e-04 - mse: 3.5986e-04 - val_loss: 3.5761e-04 - val_mse: 3.5761e-04\n",
            "356/356 [==============================] - 1s 3ms/step - loss: 3.5761e-04 - mse: 3.5761e-04\n",
            "Test mse = 0.0003576083399821073\n"
          ],
          "name": "stdout"
        }
      ]
    },
    {
      "cell_type": "code",
      "metadata": {
        "id": "QiDey3T5m9Nu",
        "colab_type": "code",
        "colab": {
          "base_uri": "https://localhost:8080/",
          "height": 323
        },
        "outputId": "101559ea-a74a-400a-80e9-1aadec49e04a"
      },
      "source": [
        "model.summary()"
      ],
      "execution_count": 11,
      "outputs": [
        {
          "output_type": "stream",
          "text": [
            "Model: \"functional_3\"\n",
            "_________________________________________________________________\n",
            "Layer (type)                 Output Shape              Param #   \n",
            "=================================================================\n",
            "input_2 (InputLayer)         [(None, 6447)]            0         \n",
            "_________________________________________________________________\n",
            "dense_4 (Dense)              (None, 1500)              9672000   \n",
            "_________________________________________________________________\n",
            "dense_5 (Dense)              (None, 100)               150100    \n",
            "_________________________________________________________________\n",
            "dense_6 (Dense)              (None, 1500)              151500    \n",
            "_________________________________________________________________\n",
            "dense_7 (Dense)              (None, 6447)              9676947   \n",
            "=================================================================\n",
            "Total params: 19,650,547\n",
            "Trainable params: 19,650,547\n",
            "Non-trainable params: 0\n",
            "_________________________________________________________________\n"
          ],
          "name": "stdout"
        }
      ]
    },
    {
      "cell_type": "code",
      "metadata": {
        "id": "yDFJNIvKhLJ4",
        "colab_type": "code",
        "colab": {
          "base_uri": "https://localhost:8080/",
          "height": 421
        },
        "outputId": "46f61870-54d5-40b5-b064-261b1c199493"
      },
      "source": [
        "fig,ax = plt.subplots(figsize=(8,6))\n",
        "ax.plot(history.history['loss'])\n",
        "ax.plot(history.history['val_loss'])\n",
        "ax.set_title('Autoencoder Model Loss')\n",
        "ax.set_ylabel('Loss')\n",
        "ax.set_xlabel('Epoch')\n",
        "plt.legend(['Train', 'Test'], loc='upper right')\n"
      ],
      "execution_count": 12,
      "outputs": [
        {
          "output_type": "execute_result",
          "data": {
            "text/plain": [
              "<matplotlib.legend.Legend at 0x7fd46b5fc080>"
            ]
          },
          "metadata": {
            "tags": []
          },
          "execution_count": 12
        },
        {
          "output_type": "display_data",
          "data": {
            "image/png": "[encoded data removed]",
            "text/plain": [
              "<Figure size 576x432 with 1 Axes>"
            ]
          },
          "metadata": {
            "tags": [],
            "needs_background": "light"
          }
        }
      ]
    }
  ]
}