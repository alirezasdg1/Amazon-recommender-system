{
 "cells": [
  {
   "cell_type": "code",
   "execution_count": 1,
   "metadata": {},
   "outputs": [],
   "source": [
    "import boto3\n",
    "import pandas as pd"
   ]
  },
  {
   "cell_type": "code",
   "execution_count": 2,
   "metadata": {},
   "outputs": [],
   "source": [
    "s3 = boto3.client('s3')"
   ]
  },
  {
   "cell_type": "code",
   "execution_count": 3,
   "metadata": {},
   "outputs": [
    {
     "name": "stderr",
     "output_type": "stream",
     "text": [
      "/home/ubuntu/anaconda3/lib/python3.7/site-packages/IPython/core/interactiveshell.py:3063: DtypeWarning: Columns (8) have mixed types.Specify dtype option on import or set low_memory=False.\n",
      "  interactivity=interactivity, compiler=compiler, result=result)\n"
     ]
    }
   ],
   "source": [
    "df_product = pd.read_csv(\"s3://recommender-system-amazon/df_products.csv\")"
   ]
  },
  {
   "cell_type": "code",
   "execution_count": 8,
   "metadata": {},
   "outputs": [
    {
     "data": {
      "text/plain": [
       "(12980837, 13)"
      ]
     },
     "execution_count": 8,
     "metadata": {},
     "output_type": "execute_result"
    }
   ],
   "source": [
    "df_review.shape"
   ]
  },
  {
   "cell_type": "code",
   "execution_count": 15,
   "metadata": {},
   "outputs": [
    {
     "data": {
      "text/html": [
       "<div>\n",
       "<style scoped>\n",
       "    .dataframe tbody tr th:only-of-type {\n",
       "        vertical-align: middle;\n",
       "    }\n",
       "\n",
       "    .dataframe tbody tr th {\n",
       "        vertical-align: top;\n",
       "    }\n",
       "\n",
       "    .dataframe thead th {\n",
       "        text-align: right;\n",
       "    }\n",
       "</style>\n",
       "<table border=\"1\" class=\"dataframe\">\n",
       "  <thead>\n",
       "    <tr style=\"text-align: right;\">\n",
       "      <th></th>\n",
       "      <th>Unnamed: 0</th>\n",
       "      <th>category</th>\n",
       "      <th>tech1</th>\n",
       "      <th>description</th>\n",
       "      <th>fit</th>\n",
       "      <th>title</th>\n",
       "      <th>also_buy</th>\n",
       "      <th>image</th>\n",
       "      <th>tech2</th>\n",
       "      <th>brand</th>\n",
       "      <th>feature</th>\n",
       "      <th>rank</th>\n",
       "      <th>also_view</th>\n",
       "      <th>main_cat</th>\n",
       "      <th>similar_item</th>\n",
       "      <th>date</th>\n",
       "      <th>price</th>\n",
       "      <th>asin</th>\n",
       "      <th>details</th>\n",
       "    </tr>\n",
       "  </thead>\n",
       "  <tbody>\n",
       "    <tr>\n",
       "      <th>0</th>\n",
       "      <td>0</td>\n",
       "      <td>['Sports &amp; Outdoors', 'Sports &amp; Fitness', 'Oth...</td>\n",
       "      <td>NaN</td>\n",
       "      <td>['3 layers of super-soft polyester tulle can b...</td>\n",
       "      <td>NaN</td>\n",
       "      <td>Adult Tutu Assorted Colors (Turquoise)</td>\n",
       "      <td>[]</td>\n",
       "      <td>[]</td>\n",
       "      <td>NaN</td>\n",
       "      <td>BubuBibi</td>\n",
       "      <td>['3 Layers - 100% Polyester Tulle, Hand Wash L...</td>\n",
       "      <td>712,899 in Clothing, Shoes &amp; Jewelry (</td>\n",
       "      <td>['B071LQWQBQ', 'B00M14DG0O', 'B076GTTY9W', 'B0...</td>\n",
       "      <td>&lt;img src=\"https://images-na.ssl-images-amazon....</td>\n",
       "      <td>NaN</td>\n",
       "      <td>&lt;div class=\"a-fixed-left-grid a-spacing-none\"&gt;...</td>\n",
       "      <td>$11.80</td>\n",
       "      <td>0000032042</td>\n",
       "      <td>NaN</td>\n",
       "    </tr>\n",
       "    <tr>\n",
       "      <th>1</th>\n",
       "      <td>1</td>\n",
       "      <td>['Sports &amp; Outdoors', 'Sports &amp; Fitness', 'Oth...</td>\n",
       "      <td>NaN</td>\n",
       "      <td>['3 layers of super-soft polyester tulle can b...</td>\n",
       "      <td>NaN</td>\n",
       "      <td>Bububibi Adult Ballet Tutu Cheetah Pink</td>\n",
       "      <td>[]</td>\n",
       "      <td>[]</td>\n",
       "      <td>NaN</td>\n",
       "      <td>BubuBibi</td>\n",
       "      <td>['3 Layers - 100% Polyester Tulle, Hand Wash L...</td>\n",
       "      <td>712,899 in Clothing, Shoes &amp; Jewelry (</td>\n",
       "      <td>[]</td>\n",
       "      <td>&lt;img src=\"https://images-na.ssl-images-amazon....</td>\n",
       "      <td>NaN</td>\n",
       "      <td>&lt;div class=\"a-fixed-left-grid a-spacing-none\"&gt;...</td>\n",
       "      <td>$11.97</td>\n",
       "      <td>0000032069</td>\n",
       "      <td>NaN</td>\n",
       "    </tr>\n",
       "    <tr>\n",
       "      <th>2</th>\n",
       "      <td>2</td>\n",
       "      <td>['Sports &amp; Outdoors', 'Sports &amp; Fitness', 'Oth...</td>\n",
       "      <td>NaN</td>\n",
       "      <td>['3 layers of super-soft polyester tulle can b...</td>\n",
       "      <td>NaN</td>\n",
       "      <td>Girls Ballet Tutu Neon Orange</td>\n",
       "      <td>['B01MYHD3LV']</td>\n",
       "      <td>[]</td>\n",
       "      <td>NaN</td>\n",
       "      <td>Unknown</td>\n",
       "      <td>['3 Layers - 100% Polyester Tulle, Hand Wash L...</td>\n",
       "      <td>['&gt;#924,198 in Toys &amp; Games (See Top 100 in To...</td>\n",
       "      <td>['B0152HBC52', 'B07C29WWV1', 'B01M0BIP9H', 'B0...</td>\n",
       "      <td>Toys &amp; Games</td>\n",
       "      <td>NaN</td>\n",
       "      <td>NaN</td>\n",
       "      <td>$5.70</td>\n",
       "      <td>0000031860</td>\n",
       "      <td>NaN</td>\n",
       "    </tr>\n",
       "    <tr>\n",
       "      <th>3</th>\n",
       "      <td>3</td>\n",
       "      <td>['Sports &amp; Outdoors', 'Sports &amp; Fitness', 'Oth...</td>\n",
       "      <td>NaN</td>\n",
       "      <td>['TUtu']</td>\n",
       "      <td>NaN</td>\n",
       "      <td>Girls Ballet Tutu Zebra Hot Pink</td>\n",
       "      <td>[]</td>\n",
       "      <td>[]</td>\n",
       "      <td>NaN</td>\n",
       "      <td>Tutu</td>\n",
       "      <td>['Tutu']</td>\n",
       "      <td>1,314,199 in Sports &amp; Outdoors (</td>\n",
       "      <td>['0000013714']</td>\n",
       "      <td>Sports &amp; Outdoors</td>\n",
       "      <td>NaN</td>\n",
       "      <td>NaN</td>\n",
       "      <td>$7.50</td>\n",
       "      <td>0000031852</td>\n",
       "      <td>NaN</td>\n",
       "    </tr>\n",
       "    <tr>\n",
       "      <th>4</th>\n",
       "      <td>4</td>\n",
       "      <td>['Sports &amp; Outdoors', 'Sports &amp; Fitness', 'Oth...</td>\n",
       "      <td>NaN</td>\n",
       "      <td>['Dance tutu for girls ages 2-8 years. Perfect...</td>\n",
       "      <td>NaN</td>\n",
       "      <td>Girls Ballet Tutu Neon Blue</td>\n",
       "      <td>['B009THXHPA', 'B00BEU1ZBI', 'B079PYLZTM', 'B0...</td>\n",
       "      <td>[]</td>\n",
       "      <td>NaN</td>\n",
       "      <td>Bububibi</td>\n",
       "      <td>['3 Layers - 100% Polyester Tulle, Hand Wash L...</td>\n",
       "      <td>['&gt;#393,597 in Toys &amp; Games (See Top 100 in To...</td>\n",
       "      <td>['B009THXHPA', 'B079PYLZTM', 'B079PQPLT3', 'B0...</td>\n",
       "      <td>Toys &amp; Games</td>\n",
       "      <td>NaN</td>\n",
       "      <td>NaN</td>\n",
       "      <td>$6.54</td>\n",
       "      <td>0000031895</td>\n",
       "      <td>NaN</td>\n",
       "    </tr>\n",
       "  </tbody>\n",
       "</table>\n",
       "</div>"
      ],
      "text/plain": [
       "   Unnamed: 0                                           category tech1  \\\n",
       "0           0  ['Sports & Outdoors', 'Sports & Fitness', 'Oth...   NaN   \n",
       "1           1  ['Sports & Outdoors', 'Sports & Fitness', 'Oth...   NaN   \n",
       "2           2  ['Sports & Outdoors', 'Sports & Fitness', 'Oth...   NaN   \n",
       "3           3  ['Sports & Outdoors', 'Sports & Fitness', 'Oth...   NaN   \n",
       "4           4  ['Sports & Outdoors', 'Sports & Fitness', 'Oth...   NaN   \n",
       "\n",
       "                                         description  fit  \\\n",
       "0  ['3 layers of super-soft polyester tulle can b...  NaN   \n",
       "1  ['3 layers of super-soft polyester tulle can b...  NaN   \n",
       "2  ['3 layers of super-soft polyester tulle can b...  NaN   \n",
       "3                                           ['TUtu']  NaN   \n",
       "4  ['Dance tutu for girls ages 2-8 years. Perfect...  NaN   \n",
       "\n",
       "                                     title  \\\n",
       "0   Adult Tutu Assorted Colors (Turquoise)   \n",
       "1  Bububibi Adult Ballet Tutu Cheetah Pink   \n",
       "2            Girls Ballet Tutu Neon Orange   \n",
       "3         Girls Ballet Tutu Zebra Hot Pink   \n",
       "4              Girls Ballet Tutu Neon Blue   \n",
       "\n",
       "                                            also_buy image tech2     brand  \\\n",
       "0                                                 []    []   NaN  BubuBibi   \n",
       "1                                                 []    []   NaN  BubuBibi   \n",
       "2                                     ['B01MYHD3LV']    []   NaN   Unknown   \n",
       "3                                                 []    []   NaN      Tutu   \n",
       "4  ['B009THXHPA', 'B00BEU1ZBI', 'B079PYLZTM', 'B0...    []   NaN  Bububibi   \n",
       "\n",
       "                                             feature  \\\n",
       "0  ['3 Layers - 100% Polyester Tulle, Hand Wash L...   \n",
       "1  ['3 Layers - 100% Polyester Tulle, Hand Wash L...   \n",
       "2  ['3 Layers - 100% Polyester Tulle, Hand Wash L...   \n",
       "3                                           ['Tutu']   \n",
       "4  ['3 Layers - 100% Polyester Tulle, Hand Wash L...   \n",
       "\n",
       "                                                rank  \\\n",
       "0             712,899 in Clothing, Shoes & Jewelry (   \n",
       "1             712,899 in Clothing, Shoes & Jewelry (   \n",
       "2  ['>#924,198 in Toys & Games (See Top 100 in To...   \n",
       "3                   1,314,199 in Sports & Outdoors (   \n",
       "4  ['>#393,597 in Toys & Games (See Top 100 in To...   \n",
       "\n",
       "                                           also_view  \\\n",
       "0  ['B071LQWQBQ', 'B00M14DG0O', 'B076GTTY9W', 'B0...   \n",
       "1                                                 []   \n",
       "2  ['B0152HBC52', 'B07C29WWV1', 'B01M0BIP9H', 'B0...   \n",
       "3                                     ['0000013714']   \n",
       "4  ['B009THXHPA', 'B079PYLZTM', 'B079PQPLT3', 'B0...   \n",
       "\n",
       "                                            main_cat similar_item  \\\n",
       "0  <img src=\"https://images-na.ssl-images-amazon....          NaN   \n",
       "1  <img src=\"https://images-na.ssl-images-amazon....          NaN   \n",
       "2                                       Toys & Games          NaN   \n",
       "3                                  Sports & Outdoors          NaN   \n",
       "4                                       Toys & Games          NaN   \n",
       "\n",
       "                                                date   price        asin  \\\n",
       "0  <div class=\"a-fixed-left-grid a-spacing-none\">...  $11.80  0000032042   \n",
       "1  <div class=\"a-fixed-left-grid a-spacing-none\">...  $11.97  0000032069   \n",
       "2                                                NaN   $5.70  0000031860   \n",
       "3                                                NaN   $7.50  0000031852   \n",
       "4                                                NaN   $6.54  0000031895   \n",
       "\n",
       "  details  \n",
       "0     NaN  \n",
       "1     NaN  \n",
       "2     NaN  \n",
       "3     NaN  \n",
       "4     NaN  "
      ]
     },
     "execution_count": 15,
     "metadata": {},
     "output_type": "execute_result"
    }
   ],
   "source": [
    "df_product.head()"
   ]
  },
  {
   "cell_type": "code",
   "execution_count": 7,
   "metadata": {},
   "outputs": [],
   "source": [
    "df_product_img = df_product[df_product.astype(str)['image'] != '[]'].copy()"
   ]
  },
  {
   "cell_type": "code",
   "execution_count": 8,
   "metadata": {},
   "outputs": [
    {
     "data": {
      "text/plain": [
       "(476483, 19)"
      ]
     },
     "execution_count": 8,
     "metadata": {},
     "output_type": "execute_result"
    }
   ],
   "source": [
    "df_product_img.shape"
   ]
  },
  {
   "cell_type": "code",
   "execution_count": 9,
   "metadata": {},
   "outputs": [],
   "source": [
    "df_all = pd.merge(df_product_img,df_review,on='asin')"
   ]
  },
  {
   "cell_type": "code",
   "execution_count": 10,
   "metadata": {},
   "outputs": [
    {
     "data": {
      "text/html": [
       "<div>\n",
       "<style scoped>\n",
       "    .dataframe tbody tr th:only-of-type {\n",
       "        vertical-align: middle;\n",
       "    }\n",
       "\n",
       "    .dataframe tbody tr th {\n",
       "        vertical-align: top;\n",
       "    }\n",
       "\n",
       "    .dataframe thead th {\n",
       "        text-align: right;\n",
       "    }\n",
       "</style>\n",
       "<table border=\"1\" class=\"dataframe\">\n",
       "  <thead>\n",
       "    <tr style=\"text-align: right;\">\n",
       "      <th></th>\n",
       "      <th>Unnamed: 0_x</th>\n",
       "      <th>category</th>\n",
       "      <th>tech1</th>\n",
       "      <th>description</th>\n",
       "      <th>fit</th>\n",
       "      <th>title</th>\n",
       "      <th>also_buy</th>\n",
       "      <th>image_x</th>\n",
       "      <th>tech2</th>\n",
       "      <th>brand</th>\n",
       "      <th>...</th>\n",
       "      <th>verified</th>\n",
       "      <th>reviewTime</th>\n",
       "      <th>reviewerID</th>\n",
       "      <th>reviewerName</th>\n",
       "      <th>reviewText</th>\n",
       "      <th>summary</th>\n",
       "      <th>unixReviewTime</th>\n",
       "      <th>vote</th>\n",
       "      <th>style</th>\n",
       "      <th>image_y</th>\n",
       "    </tr>\n",
       "  </thead>\n",
       "  <tbody>\n",
       "    <tr>\n",
       "      <th>0</th>\n",
       "      <td>6</td>\n",
       "      <td>['Sports &amp; Outdoors', 'Outdoor Recreation', 'C...</td>\n",
       "      <td>NaN</td>\n",
       "      <td>['Deluxe Duffel Bag with full length zipper de...</td>\n",
       "      <td>NaN</td>\n",
       "      <td>6ft of Acid Free Linen Tape for Bookbinding</td>\n",
       "      <td>[]</td>\n",
       "      <td>['https://images-na.ssl-images-amazon.com/imag...</td>\n",
       "      <td>NaN</td>\n",
       "      <td>Stansport</td>\n",
       "      <td>...</td>\n",
       "      <td>True</td>\n",
       "      <td>09 7, 2017</td>\n",
       "      <td>A1BUNBDDEO1N4B</td>\n",
       "      <td>Tom</td>\n",
       "      <td>not used yet but looks fine</td>\n",
       "      <td>Four Stars</td>\n",
       "      <td>1504742400</td>\n",
       "      <td>NaN</td>\n",
       "      <td>NaN</td>\n",
       "      <td>NaN</td>\n",
       "    </tr>\n",
       "  </tbody>\n",
       "</table>\n",
       "<p>1 rows × 31 columns</p>\n",
       "</div>"
      ],
      "text/plain": [
       "   Unnamed: 0_x                                           category tech1  \\\n",
       "0             6  ['Sports & Outdoors', 'Outdoor Recreation', 'C...   NaN   \n",
       "\n",
       "                                         description  fit  \\\n",
       "0  ['Deluxe Duffel Bag with full length zipper de...  NaN   \n",
       "\n",
       "                                         title also_buy  \\\n",
       "0  6ft of Acid Free Linen Tape for Bookbinding       []   \n",
       "\n",
       "                                             image_x tech2      brand  ...  \\\n",
       "0  ['https://images-na.ssl-images-amazon.com/imag...   NaN  Stansport  ...   \n",
       "\n",
       "  verified  reviewTime      reviewerID reviewerName  \\\n",
       "0     True  09 7, 2017  A1BUNBDDEO1N4B          Tom   \n",
       "\n",
       "                    reviewText     summary unixReviewTime vote style  image_y  \n",
       "0  not used yet but looks fine  Four Stars     1504742400  NaN   NaN      NaN  \n",
       "\n",
       "[1 rows x 31 columns]"
      ]
     },
     "execution_count": 10,
     "metadata": {},
     "output_type": "execute_result"
    }
   ],
   "source": [
    "df_all.head(1)"
   ]
  },
  {
   "cell_type": "code",
   "execution_count": 11,
   "metadata": {},
   "outputs": [
    {
     "data": {
      "text/plain": [
       "Index(['Unnamed: 0_x', 'category', 'tech1', 'description', 'fit', 'title',\n",
       "       'also_buy', 'image_x', 'tech2', 'brand', 'feature', 'rank', 'also_view',\n",
       "       'main_cat', 'similar_item', 'date', 'price', 'asin', 'details',\n",
       "       'Unnamed: 0_y', 'overall', 'verified', 'reviewTime', 'reviewerID',\n",
       "       'reviewerName', 'reviewText', 'summary', 'unixReviewTime', 'vote',\n",
       "       'style', 'image_y'],\n",
       "      dtype='object')"
      ]
     },
     "execution_count": 11,
     "metadata": {},
     "output_type": "execute_result"
    }
   ],
   "source": [
    "df_all.columns"
   ]
  },
  {
   "cell_type": "code",
   "execution_count": null,
   "metadata": {},
   "outputs": [],
   "source": []
  }
 ],
 "metadata": {
  "kernelspec": {
   "display_name": "Python 3",
   "language": "python",
   "name": "python3"
  },
  "language_info": {
   "codemirror_mode": {
    "name": "ipython",
    "version": 3
   },
   "file_extension": ".py",
   "mimetype": "text/x-python",
   "name": "python",
   "nbconvert_exporter": "python",
   "pygments_lexer": "ipython3",
   "version": "3.7.6"
  }
 },
 "nbformat": 4,
 "nbformat_minor": 4
}
