{
 "cells": [
  {
   "cell_type": "markdown",
   "metadata": {},
   "source": [
    "## NLP \n",
    "I use AWS to performe my NLP processing"
   ]
  },
  {
   "cell_type": "code",
   "execution_count": 1,
   "metadata": {},
   "outputs": [],
   "source": [
    "import boto3\n",
    "import pandas as pd\n",
    "import numpy as np\n",
    "import sys\n",
    "from io import StringIO"
   ]
  },
  {
   "cell_type": "code",
   "execution_count": 2,
   "metadata": {},
   "outputs": [],
   "source": [
    "sys.path.insert(1, '../src')\n",
    "from NLP import nlp_process\n",
    "from Content_recommender import ContentRecommender"
   ]
  },
  {
   "cell_type": "code",
   "execution_count": 3,
   "metadata": {
    "tags": []
   },
   "outputs": [],
   "source": [
    "%load_ext autoreload\n",
    "%autoreload 2"
   ]
  },
  {
   "cell_type": "code",
   "execution_count": 4,
   "metadata": {},
   "outputs": [],
   "source": [
    "%reload_ext autoreload"
   ]
  },
  {
   "cell_type": "code",
   "execution_count": 5,
   "metadata": {},
   "outputs": [],
   "source": [
    "s3 = boto3.client('s3')"
   ]
  },
  {
   "cell_type": "markdown",
   "metadata": {},
   "source": [
    "#### Load data from AWS S3"
   ]
  },
  {
   "cell_type": "code",
   "execution_count": 6,
   "metadata": {},
   "outputs": [],
   "source": [
    "df_all_15 = pd.read_csv(\"s3://recommender-system-amazon/df_all_15_text.csv\")"
   ]
  },
  {
   "cell_type": "markdown",
   "metadata": {},
   "source": [
    "#### For local machine"
   ]
  },
  {
   "cell_type": "code",
   "execution_count": 8,
   "metadata": {},
   "outputs": [],
   "source": [
    "df_all_15 = pd.read_csv(\"../../Data_recommender/df_all_15_text.csv\")"
   ]
  },
  {
   "cell_type": "code",
   "execution_count": 9,
   "metadata": {},
   "outputs": [
    {
     "output_type": "execute_result",
     "data": {
      "text/plain": "(227509, 12)"
     },
     "metadata": {},
     "execution_count": 9
    }
   ],
   "source": [
    "df_all_15.shape"
   ]
  },
  {
   "cell_type": "code",
   "execution_count": 10,
   "metadata": {},
   "outputs": [
    {
     "output_type": "execute_result",
     "data": {
      "text/plain": "   Unnamed: 0  fit                                              title  \\\n0           0  NaN  Black Mountain Products Resistance Band Set wi...   \n1           1  NaN  Black Mountain Products Resistance Band Set wi...   \n2           2  NaN  Black Mountain Products Resistance Band Set wi...   \n3           3  NaN  Black Mountain Products Resistance Band Set wi...   \n4           4  NaN  Black Mountain Products Resistance Band Set wi...   \n\n                                            also_buy  \\\n0  ['1612431712', 'B01AVDVHTI', 'B002YQUP7Q', 'B0...   \n1  ['1612431712', 'B01AVDVHTI', 'B002YQUP7Q', 'B0...   \n2  ['1612431712', 'B01AVDVHTI', 'B002YQUP7Q', 'B0...   \n3  ['1612431712', 'B01AVDVHTI', 'B002YQUP7Q', 'B0...   \n4  ['1612431712', 'B01AVDVHTI', 'B002YQUP7Q', 'B0...   \n\n                                             image_x   price        asin  \\\n0  ['https://images-na.ssl-images-amazon.com/imag...  $17.32  7245456313   \n1  ['https://images-na.ssl-images-amazon.com/imag...  $17.32  7245456313   \n2  ['https://images-na.ssl-images-amazon.com/imag...  $17.32  7245456313   \n3  ['https://images-na.ssl-images-amazon.com/imag...  $17.32  7245456313   \n4  ['https://images-na.ssl-images-amazon.com/imag...  $17.32  7245456313   \n\n   overall      reviewerID                                         reviewText  \\\n0      5.0  A1J5VYG8O0YEMB                        work advertis work advertis   \n1      4.0   AYMDRRCOPKTCF             four star product arriv prompt describ   \n2      4.0  A3AX86YSUHLELL  great resist band top qualiti okay resist band...   \n3      5.0  A12MJJT1RL2S7K  perfect transport resist band perfect cross fi...   \n4      5.0  A33BKACRGR3H38  awesom great band crosstrain dont like lift gy...   \n\n        item_text                                          title_nlp  \n0  black mountain  black mountain product resist band set door an...  \n1  black mountain  black mountain product resist band set door an...  \n2  black mountain  black mountain product resist band set door an...  \n3  black mountain  black mountain product resist band set door an...  \n4  black mountain  black mountain product resist band set door an...  ",
      "text/html": "<div>\n<style scoped>\n    .dataframe tbody tr th:only-of-type {\n        vertical-align: middle;\n    }\n\n    .dataframe tbody tr th {\n        vertical-align: top;\n    }\n\n    .dataframe thead th {\n        text-align: right;\n    }\n</style>\n<table border=\"1\" class=\"dataframe\">\n  <thead>\n    <tr style=\"text-align: right;\">\n      <th></th>\n      <th>Unnamed: 0</th>\n      <th>fit</th>\n      <th>title</th>\n      <th>also_buy</th>\n      <th>image_x</th>\n      <th>price</th>\n      <th>asin</th>\n      <th>overall</th>\n      <th>reviewerID</th>\n      <th>reviewText</th>\n      <th>item_text</th>\n      <th>title_nlp</th>\n    </tr>\n  </thead>\n  <tbody>\n    <tr>\n      <th>0</th>\n      <td>0</td>\n      <td>NaN</td>\n      <td>Black Mountain Products Resistance Band Set wi...</td>\n      <td>['1612431712', 'B01AVDVHTI', 'B002YQUP7Q', 'B0...</td>\n      <td>['https://images-na.ssl-images-amazon.com/imag...</td>\n      <td>$17.32</td>\n      <td>7245456313</td>\n      <td>5.0</td>\n      <td>A1J5VYG8O0YEMB</td>\n      <td>work advertis work advertis</td>\n      <td>black mountain</td>\n      <td>black mountain product resist band set door an...</td>\n    </tr>\n    <tr>\n      <th>1</th>\n      <td>1</td>\n      <td>NaN</td>\n      <td>Black Mountain Products Resistance Band Set wi...</td>\n      <td>['1612431712', 'B01AVDVHTI', 'B002YQUP7Q', 'B0...</td>\n      <td>['https://images-na.ssl-images-amazon.com/imag...</td>\n      <td>$17.32</td>\n      <td>7245456313</td>\n      <td>4.0</td>\n      <td>AYMDRRCOPKTCF</td>\n      <td>four star product arriv prompt describ</td>\n      <td>black mountain</td>\n      <td>black mountain product resist band set door an...</td>\n    </tr>\n    <tr>\n      <th>2</th>\n      <td>2</td>\n      <td>NaN</td>\n      <td>Black Mountain Products Resistance Band Set wi...</td>\n      <td>['1612431712', 'B01AVDVHTI', 'B002YQUP7Q', 'B0...</td>\n      <td>['https://images-na.ssl-images-amazon.com/imag...</td>\n      <td>$17.32</td>\n      <td>7245456313</td>\n      <td>4.0</td>\n      <td>A3AX86YSUHLELL</td>\n      <td>great resist band top qualiti okay resist band...</td>\n      <td>black mountain</td>\n      <td>black mountain product resist band set door an...</td>\n    </tr>\n    <tr>\n      <th>3</th>\n      <td>3</td>\n      <td>NaN</td>\n      <td>Black Mountain Products Resistance Band Set wi...</td>\n      <td>['1612431712', 'B01AVDVHTI', 'B002YQUP7Q', 'B0...</td>\n      <td>['https://images-na.ssl-images-amazon.com/imag...</td>\n      <td>$17.32</td>\n      <td>7245456313</td>\n      <td>5.0</td>\n      <td>A12MJJT1RL2S7K</td>\n      <td>perfect transport resist band perfect cross fi...</td>\n      <td>black mountain</td>\n      <td>black mountain product resist band set door an...</td>\n    </tr>\n    <tr>\n      <th>4</th>\n      <td>4</td>\n      <td>NaN</td>\n      <td>Black Mountain Products Resistance Band Set wi...</td>\n      <td>['1612431712', 'B01AVDVHTI', 'B002YQUP7Q', 'B0...</td>\n      <td>['https://images-na.ssl-images-amazon.com/imag...</td>\n      <td>$17.32</td>\n      <td>7245456313</td>\n      <td>5.0</td>\n      <td>A33BKACRGR3H38</td>\n      <td>awesom great band crosstrain dont like lift gy...</td>\n      <td>black mountain</td>\n      <td>black mountain product resist band set door an...</td>\n    </tr>\n  </tbody>\n</table>\n</div>"
     },
     "metadata": {},
     "execution_count": 10
    }
   ],
   "source": [
    "df_all_15.head(5)"
   ]
  },
  {
   "cell_type": "code",
   "execution_count": 11,
   "metadata": {},
   "outputs": [],
   "source": [
    "df_items_text = df_all_15.groupby(['asin', 'title','title_nlp','image_x'])['item_text'].apply(lambda x: ' '.join(x)).reset_index()"
   ]
  },
  {
   "cell_type": "code",
   "execution_count": 12,
   "metadata": {},
   "outputs": [
    {
     "output_type": "execute_result",
     "data": {
      "text/plain": "            asin                                              title  \\\n0     7245456275  Black Mountain Products Single Resistance Band...   \n1     7245456313  Black Mountain Products Resistance Band Set wi...   \n2     B00003G4JR                            Carrom Game Board Large   \n3     B00004NKIQ        Franklin Sports Adjustable Soccer Rebounder   \n4     B00004SYN6  Park &amp; Sun Sports Permanent Outdoor Tether...   \n...          ...                                                ...   \n7114  B01HCU3NTU  CVLIFE Red &amp; Green Dot Sight 4 Reticles Re...   \n7115  B01HD17S3A  Ohuhu 28pcs Universal Hand Gun, Rifle &amp; Sh...   \n7116  B01HE0PMFQ  ProFitness Weightlifting Belt (6-Inch-Wide) &n...   \n7117  B01HEYYKLO  LED Safety Light - Clip On to Stay Safe and Be...   \n7118  B01HHB2HK0  Gas ONE GS-3000 Portable Gas Stove with Carryi...   \n\n                                              title_nlp  \\\n0     black mountain product singl resist band door ...   \n1     black mountain product resist band set door an...   \n2                                carrom game board larg   \n3                  franklin sport adjust soccer rebound   \n4     park amp sun sport perman outdoor tetherbal se...   \n...                                                 ...   \n7114  cvlife red amp green dot sight reticl reflex s...   \n7115  ohuhu univers hand gun rifl amp shot gun clean...   \n7116  profit weightlift belt ndash proper weight lif...   \n7117  led safeti light clip stay safe seen night gre...   \n7118  ga one portabl ga stove carri case btu csa app...   \n\n                                                image_x  \\\n0     ['https://images-na.ssl-images-amazon.com/imag...   \n1     ['https://images-na.ssl-images-amazon.com/imag...   \n2     ['https://images-na.ssl-images-amazon.com/imag...   \n3     ['https://images-na.ssl-images-amazon.com/imag...   \n4     ['https://images-na.ssl-images-amazon.com/imag...   \n...                                                 ...   \n7114  ['https://images-na.ssl-images-amazon.com/imag...   \n7115  ['https://images-na.ssl-images-amazon.com/imag...   \n7116  ['https://images-na.ssl-images-amazon.com/imag...   \n7117  ['https://images-na.ssl-images-amazon.com/imag...   \n7118  ['https://images-na.ssl-images-amazon.com/imag...   \n\n                                              item_text  \n0     black mountain color black black mountain colo...  \n1     black mountain black mountain black mountain b...  \n2             carrom carrom carrom carrom carrom carrom  \n3     franklin sport style name x black franklin spo...  \n4     park sun sport style name pole park sun sport ...  \n...                                                 ...  \n7114  cvlife cvlife cvlife cvlife cvlife cvlife cvli...  \n7115  ohuhu color pc ohuhu color pc ohuhu color pc o...  \n7116  profit size larg waist size pant size color bl...  \n7117  lone wolf activ color gray lone wolf activ col...  \n7118  gason color black gason color black gason colo...  \n\n[7119 rows x 5 columns]",
      "text/html": "<div>\n<style scoped>\n    .dataframe tbody tr th:only-of-type {\n        vertical-align: middle;\n    }\n\n    .dataframe tbody tr th {\n        vertical-align: top;\n    }\n\n    .dataframe thead th {\n        text-align: right;\n    }\n</style>\n<table border=\"1\" class=\"dataframe\">\n  <thead>\n    <tr style=\"text-align: right;\">\n      <th></th>\n      <th>asin</th>\n      <th>title</th>\n      <th>title_nlp</th>\n      <th>image_x</th>\n      <th>item_text</th>\n    </tr>\n  </thead>\n  <tbody>\n    <tr>\n      <th>0</th>\n      <td>7245456275</td>\n      <td>Black Mountain Products Single Resistance Band...</td>\n      <td>black mountain product singl resist band door ...</td>\n      <td>['https://images-na.ssl-images-amazon.com/imag...</td>\n      <td>black mountain color black black mountain colo...</td>\n    </tr>\n    <tr>\n      <th>1</th>\n      <td>7245456313</td>\n      <td>Black Mountain Products Resistance Band Set wi...</td>\n      <td>black mountain product resist band set door an...</td>\n      <td>['https://images-na.ssl-images-amazon.com/imag...</td>\n      <td>black mountain black mountain black mountain b...</td>\n    </tr>\n    <tr>\n      <th>2</th>\n      <td>B00003G4JR</td>\n      <td>Carrom Game Board Large</td>\n      <td>carrom game board larg</td>\n      <td>['https://images-na.ssl-images-amazon.com/imag...</td>\n      <td>carrom carrom carrom carrom carrom carrom</td>\n    </tr>\n    <tr>\n      <th>3</th>\n      <td>B00004NKIQ</td>\n      <td>Franklin Sports Adjustable Soccer Rebounder</td>\n      <td>franklin sport adjust soccer rebound</td>\n      <td>['https://images-na.ssl-images-amazon.com/imag...</td>\n      <td>franklin sport style name x black franklin spo...</td>\n    </tr>\n    <tr>\n      <th>4</th>\n      <td>B00004SYN6</td>\n      <td>Park &amp;amp; Sun Sports Permanent Outdoor Tether...</td>\n      <td>park amp sun sport perman outdoor tetherbal se...</td>\n      <td>['https://images-na.ssl-images-amazon.com/imag...</td>\n      <td>park sun sport style name pole park sun sport ...</td>\n    </tr>\n    <tr>\n      <th>...</th>\n      <td>...</td>\n      <td>...</td>\n      <td>...</td>\n      <td>...</td>\n      <td>...</td>\n    </tr>\n    <tr>\n      <th>7114</th>\n      <td>B01HCU3NTU</td>\n      <td>CVLIFE Red &amp;amp; Green Dot Sight 4 Reticles Re...</td>\n      <td>cvlife red amp green dot sight reticl reflex s...</td>\n      <td>['https://images-na.ssl-images-amazon.com/imag...</td>\n      <td>cvlife cvlife cvlife cvlife cvlife cvlife cvli...</td>\n    </tr>\n    <tr>\n      <th>7115</th>\n      <td>B01HD17S3A</td>\n      <td>Ohuhu 28pcs Universal Hand Gun, Rifle &amp;amp; Sh...</td>\n      <td>ohuhu univers hand gun rifl amp shot gun clean...</td>\n      <td>['https://images-na.ssl-images-amazon.com/imag...</td>\n      <td>ohuhu color pc ohuhu color pc ohuhu color pc o...</td>\n    </tr>\n    <tr>\n      <th>7116</th>\n      <td>B01HE0PMFQ</td>\n      <td>ProFitness Weightlifting Belt (6-Inch-Wide) &amp;n...</td>\n      <td>profit weightlift belt ndash proper weight lif...</td>\n      <td>['https://images-na.ssl-images-amazon.com/imag...</td>\n      <td>profit size larg waist size pant size color bl...</td>\n    </tr>\n    <tr>\n      <th>7117</th>\n      <td>B01HEYYKLO</td>\n      <td>LED Safety Light - Clip On to Stay Safe and Be...</td>\n      <td>led safeti light clip stay safe seen night gre...</td>\n      <td>['https://images-na.ssl-images-amazon.com/imag...</td>\n      <td>lone wolf activ color gray lone wolf activ col...</td>\n    </tr>\n    <tr>\n      <th>7118</th>\n      <td>B01HHB2HK0</td>\n      <td>Gas ONE GS-3000 Portable Gas Stove with Carryi...</td>\n      <td>ga one portabl ga stove carri case btu csa app...</td>\n      <td>['https://images-na.ssl-images-amazon.com/imag...</td>\n      <td>gason color black gason color black gason colo...</td>\n    </tr>\n  </tbody>\n</table>\n<p>7119 rows × 5 columns</p>\n</div>"
     },
     "metadata": {},
     "execution_count": 12
    }
   ],
   "source": [
    "df_items_text"
   ]
  },
  {
   "cell_type": "markdown",
   "metadata": {},
   "source": [
    "## Process text and title_nlp separately"
   ]
  },
  {
   "cell_type": "code",
   "execution_count": 13,
   "metadata": {},
   "outputs": [],
   "source": [
    "vectorizer_item_text, df_items_tfidf = nlp_process(df_items_text['item_text'],max_features = None)"
   ]
  },
  {
   "cell_type": "code",
   "execution_count": 14,
   "metadata": {},
   "outputs": [
    {
     "output_type": "execute_result",
     "data": {
      "text/plain": "      aaa   ab  abco  ablack  absorb  abu  abyss  academi  acai  accent  ...  \\\n0     0.0  0.0   0.0     0.0     0.0  0.0    0.0      0.0   0.0     0.0  ...   \n1     0.0  0.0   0.0     0.0     0.0  0.0    0.0      0.0   0.0     0.0  ...   \n2     0.0  0.0   0.0     0.0     0.0  0.0    0.0      0.0   0.0     0.0  ...   \n3     0.0  0.0   0.0     0.0     0.0  0.0    0.0      0.0   0.0     0.0  ...   \n4     0.0  0.0   0.0     0.0     0.0  0.0    0.0      0.0   0.0     0.0  ...   \n...   ...  ...   ...     ...     ...  ...    ...      ...   ...     ...  ...   \n7114  0.0  0.0   0.0     0.0     0.0  0.0    0.0      0.0   0.0     0.0  ...   \n7115  0.0  0.0   0.0     0.0     0.0  0.0    0.0      0.0   0.0     0.0  ...   \n7116  0.0  0.0   0.0     0.0     0.0  0.0    0.0      0.0   0.0     0.0  ...   \n7117  0.0  0.0   0.0     0.0     0.0  0.0    0.0      0.0   0.0     0.0  ...   \n7118  0.0  0.0   0.0     0.0     0.0  0.0    0.0      0.0   0.0     0.0  ...   \n\n      zionor  zip  zipper  zippo  zoic  zoma  zombi  zone  zookki  zumba  \n0        0.0  0.0     0.0    0.0   0.0   0.0    0.0   0.0     0.0    0.0  \n1        0.0  0.0     0.0    0.0   0.0   0.0    0.0   0.0     0.0    0.0  \n2        0.0  0.0     0.0    0.0   0.0   0.0    0.0   0.0     0.0    0.0  \n3        0.0  0.0     0.0    0.0   0.0   0.0    0.0   0.0     0.0    0.0  \n4        0.0  0.0     0.0    0.0   0.0   0.0    0.0   0.0     0.0    0.0  \n...      ...  ...     ...    ...   ...   ...    ...   ...     ...    ...  \n7114     0.0  0.0     0.0    0.0   0.0   0.0    0.0   0.0     0.0    0.0  \n7115     0.0  0.0     0.0    0.0   0.0   0.0    0.0   0.0     0.0    0.0  \n7116     0.0  0.0     0.0    0.0   0.0   0.0    0.0   0.0     0.0    0.0  \n7117     0.0  0.0     0.0    0.0   0.0   0.0    0.0   0.0     0.0    0.0  \n7118     0.0  0.0     0.0    0.0   0.0   0.0    0.0   0.0     0.0    0.0  \n\n[7119 rows x 3344 columns]",
      "text/html": "<div>\n<style scoped>\n    .dataframe tbody tr th:only-of-type {\n        vertical-align: middle;\n    }\n\n    .dataframe tbody tr th {\n        vertical-align: top;\n    }\n\n    .dataframe thead th {\n        text-align: right;\n    }\n</style>\n<table border=\"1\" class=\"dataframe\">\n  <thead>\n    <tr style=\"text-align: right;\">\n      <th></th>\n      <th>aaa</th>\n      <th>ab</th>\n      <th>abco</th>\n      <th>ablack</th>\n      <th>absorb</th>\n      <th>abu</th>\n      <th>abyss</th>\n      <th>academi</th>\n      <th>acai</th>\n      <th>accent</th>\n      <th>...</th>\n      <th>zionor</th>\n      <th>zip</th>\n      <th>zipper</th>\n      <th>zippo</th>\n      <th>zoic</th>\n      <th>zoma</th>\n      <th>zombi</th>\n      <th>zone</th>\n      <th>zookki</th>\n      <th>zumba</th>\n    </tr>\n  </thead>\n  <tbody>\n    <tr>\n      <th>0</th>\n      <td>0.0</td>\n      <td>0.0</td>\n      <td>0.0</td>\n      <td>0.0</td>\n      <td>0.0</td>\n      <td>0.0</td>\n      <td>0.0</td>\n      <td>0.0</td>\n      <td>0.0</td>\n      <td>0.0</td>\n      <td>...</td>\n      <td>0.0</td>\n      <td>0.0</td>\n      <td>0.0</td>\n      <td>0.0</td>\n      <td>0.0</td>\n      <td>0.0</td>\n      <td>0.0</td>\n      <td>0.0</td>\n      <td>0.0</td>\n      <td>0.0</td>\n    </tr>\n    <tr>\n      <th>1</th>\n      <td>0.0</td>\n      <td>0.0</td>\n      <td>0.0</td>\n      <td>0.0</td>\n      <td>0.0</td>\n      <td>0.0</td>\n      <td>0.0</td>\n      <td>0.0</td>\n      <td>0.0</td>\n      <td>0.0</td>\n      <td>...</td>\n      <td>0.0</td>\n      <td>0.0</td>\n      <td>0.0</td>\n      <td>0.0</td>\n      <td>0.0</td>\n      <td>0.0</td>\n      <td>0.0</td>\n      <td>0.0</td>\n      <td>0.0</td>\n      <td>0.0</td>\n    </tr>\n    <tr>\n      <th>2</th>\n      <td>0.0</td>\n      <td>0.0</td>\n      <td>0.0</td>\n      <td>0.0</td>\n      <td>0.0</td>\n      <td>0.0</td>\n      <td>0.0</td>\n      <td>0.0</td>\n      <td>0.0</td>\n      <td>0.0</td>\n      <td>...</td>\n      <td>0.0</td>\n      <td>0.0</td>\n      <td>0.0</td>\n      <td>0.0</td>\n      <td>0.0</td>\n      <td>0.0</td>\n      <td>0.0</td>\n      <td>0.0</td>\n      <td>0.0</td>\n      <td>0.0</td>\n    </tr>\n    <tr>\n      <th>3</th>\n      <td>0.0</td>\n      <td>0.0</td>\n      <td>0.0</td>\n      <td>0.0</td>\n      <td>0.0</td>\n      <td>0.0</td>\n      <td>0.0</td>\n      <td>0.0</td>\n      <td>0.0</td>\n      <td>0.0</td>\n      <td>...</td>\n      <td>0.0</td>\n      <td>0.0</td>\n      <td>0.0</td>\n      <td>0.0</td>\n      <td>0.0</td>\n      <td>0.0</td>\n      <td>0.0</td>\n      <td>0.0</td>\n      <td>0.0</td>\n      <td>0.0</td>\n    </tr>\n    <tr>\n      <th>4</th>\n      <td>0.0</td>\n      <td>0.0</td>\n      <td>0.0</td>\n      <td>0.0</td>\n      <td>0.0</td>\n      <td>0.0</td>\n      <td>0.0</td>\n      <td>0.0</td>\n      <td>0.0</td>\n      <td>0.0</td>\n      <td>...</td>\n      <td>0.0</td>\n      <td>0.0</td>\n      <td>0.0</td>\n      <td>0.0</td>\n      <td>0.0</td>\n      <td>0.0</td>\n      <td>0.0</td>\n      <td>0.0</td>\n      <td>0.0</td>\n      <td>0.0</td>\n    </tr>\n    <tr>\n      <th>...</th>\n      <td>...</td>\n      <td>...</td>\n      <td>...</td>\n      <td>...</td>\n      <td>...</td>\n      <td>...</td>\n      <td>...</td>\n      <td>...</td>\n      <td>...</td>\n      <td>...</td>\n      <td>...</td>\n      <td>...</td>\n      <td>...</td>\n      <td>...</td>\n      <td>...</td>\n      <td>...</td>\n      <td>...</td>\n      <td>...</td>\n      <td>...</td>\n      <td>...</td>\n      <td>...</td>\n    </tr>\n    <tr>\n      <th>7114</th>\n      <td>0.0</td>\n      <td>0.0</td>\n      <td>0.0</td>\n      <td>0.0</td>\n      <td>0.0</td>\n      <td>0.0</td>\n      <td>0.0</td>\n      <td>0.0</td>\n      <td>0.0</td>\n      <td>0.0</td>\n      <td>...</td>\n      <td>0.0</td>\n      <td>0.0</td>\n      <td>0.0</td>\n      <td>0.0</td>\n      <td>0.0</td>\n      <td>0.0</td>\n      <td>0.0</td>\n      <td>0.0</td>\n      <td>0.0</td>\n      <td>0.0</td>\n    </tr>\n    <tr>\n      <th>7115</th>\n      <td>0.0</td>\n      <td>0.0</td>\n      <td>0.0</td>\n      <td>0.0</td>\n      <td>0.0</td>\n      <td>0.0</td>\n      <td>0.0</td>\n      <td>0.0</td>\n      <td>0.0</td>\n      <td>0.0</td>\n      <td>...</td>\n      <td>0.0</td>\n      <td>0.0</td>\n      <td>0.0</td>\n      <td>0.0</td>\n      <td>0.0</td>\n      <td>0.0</td>\n      <td>0.0</td>\n      <td>0.0</td>\n      <td>0.0</td>\n      <td>0.0</td>\n    </tr>\n    <tr>\n      <th>7116</th>\n      <td>0.0</td>\n      <td>0.0</td>\n      <td>0.0</td>\n      <td>0.0</td>\n      <td>0.0</td>\n      <td>0.0</td>\n      <td>0.0</td>\n      <td>0.0</td>\n      <td>0.0</td>\n      <td>0.0</td>\n      <td>...</td>\n      <td>0.0</td>\n      <td>0.0</td>\n      <td>0.0</td>\n      <td>0.0</td>\n      <td>0.0</td>\n      <td>0.0</td>\n      <td>0.0</td>\n      <td>0.0</td>\n      <td>0.0</td>\n      <td>0.0</td>\n    </tr>\n    <tr>\n      <th>7117</th>\n      <td>0.0</td>\n      <td>0.0</td>\n      <td>0.0</td>\n      <td>0.0</td>\n      <td>0.0</td>\n      <td>0.0</td>\n      <td>0.0</td>\n      <td>0.0</td>\n      <td>0.0</td>\n      <td>0.0</td>\n      <td>...</td>\n      <td>0.0</td>\n      <td>0.0</td>\n      <td>0.0</td>\n      <td>0.0</td>\n      <td>0.0</td>\n      <td>0.0</td>\n      <td>0.0</td>\n      <td>0.0</td>\n      <td>0.0</td>\n      <td>0.0</td>\n    </tr>\n    <tr>\n      <th>7118</th>\n      <td>0.0</td>\n      <td>0.0</td>\n      <td>0.0</td>\n      <td>0.0</td>\n      <td>0.0</td>\n      <td>0.0</td>\n      <td>0.0</td>\n      <td>0.0</td>\n      <td>0.0</td>\n      <td>0.0</td>\n      <td>...</td>\n      <td>0.0</td>\n      <td>0.0</td>\n      <td>0.0</td>\n      <td>0.0</td>\n      <td>0.0</td>\n      <td>0.0</td>\n      <td>0.0</td>\n      <td>0.0</td>\n      <td>0.0</td>\n      <td>0.0</td>\n    </tr>\n  </tbody>\n</table>\n<p>7119 rows × 3344 columns</p>\n</div>"
     },
     "metadata": {},
     "execution_count": 14
    }
   ],
   "source": [
    "df_items_tfidf"
   ]
  },
  {
   "cell_type": "code",
   "execution_count": 15,
   "metadata": {},
   "outputs": [],
   "source": [
    "vectorizer_title, df_title_tfidf = nlp_process(df_items_text['title_nlp'],max_features = None)"
   ]
  },
  {
   "cell_type": "code",
   "execution_count": 16,
   "metadata": {},
   "outputs": [
    {
     "output_type": "execute_result",
     "data": {
      "text/plain": "       aa  aaa  aampr   ab  abco  abdomin  abmat  abras  absorb  abu  ...  \\\n0     0.0  0.0    0.0  0.0   0.0      0.0    0.0    0.0     0.0  0.0  ...   \n1     0.0  0.0    0.0  0.0   0.0      0.0    0.0    0.0     0.0  0.0  ...   \n2     0.0  0.0    0.0  0.0   0.0      0.0    0.0    0.0     0.0  0.0  ...   \n3     0.0  0.0    0.0  0.0   0.0      0.0    0.0    0.0     0.0  0.0  ...   \n4     0.0  0.0    0.0  0.0   0.0      0.0    0.0    0.0     0.0  0.0  ...   \n...   ...  ...    ...  ...   ...      ...    ...    ...     ...  ...  ...   \n7114  0.0  0.0    0.0  0.0   0.0      0.0    0.0    0.0     0.0  0.0  ...   \n7115  0.0  0.0    0.0  0.0   0.0      0.0    0.0    0.0     0.0  0.0  ...   \n7116  0.0  0.0    0.0  0.0   0.0      0.0    0.0    0.0     0.0  0.0  ...   \n7117  0.0  0.0    0.0  0.0   0.0      0.0    0.0    0.0     0.0  0.0  ...   \n7118  0.0  0.0    0.0  0.0   0.0      0.0    0.0    0.0     0.0  0.0  ...   \n\n      zipper  zipperwrist  zippo  zoic  zome  zone  zookki  zoomabl  zoomer  \\\n0        0.0          0.0    0.0   0.0   0.0   0.0     0.0      0.0     0.0   \n1        0.0          0.0    0.0   0.0   0.0   0.0     0.0      0.0     0.0   \n2        0.0          0.0    0.0   0.0   0.0   0.0     0.0      0.0     0.0   \n3        0.0          0.0    0.0   0.0   0.0   0.0     0.0      0.0     0.0   \n4        0.0          0.0    0.0   0.0   0.0   0.0     0.0      0.0     0.0   \n...      ...          ...    ...   ...   ...   ...     ...      ...     ...   \n7114     0.0          0.0    0.0   0.0   0.0   0.0     0.0      0.0     0.0   \n7115     0.0          0.0    0.0   0.0   0.0   0.0     0.0      0.0     0.0   \n7116     0.0          0.0    0.0   0.0   0.0   0.0     0.0      0.0     0.0   \n7117     0.0          0.0    0.0   0.0   0.0   0.0     0.0      0.0     0.0   \n7118     0.0          0.0    0.0   0.0   0.0   0.0     0.0      0.0     0.0   \n\n      zumba  \n0       0.0  \n1       0.0  \n2       0.0  \n3       0.0  \n4       0.0  \n...     ...  \n7114    0.0  \n7115    0.0  \n7116    0.0  \n7117    0.0  \n7118    0.0  \n\n[7119 rows x 4143 columns]",
      "text/html": "<div>\n<style scoped>\n    .dataframe tbody tr th:only-of-type {\n        vertical-align: middle;\n    }\n\n    .dataframe tbody tr th {\n        vertical-align: top;\n    }\n\n    .dataframe thead th {\n        text-align: right;\n    }\n</style>\n<table border=\"1\" class=\"dataframe\">\n  <thead>\n    <tr style=\"text-align: right;\">\n      <th></th>\n      <th>aa</th>\n      <th>aaa</th>\n      <th>aampr</th>\n      <th>ab</th>\n      <th>abco</th>\n      <th>abdomin</th>\n      <th>abmat</th>\n      <th>abras</th>\n      <th>absorb</th>\n      <th>abu</th>\n      <th>...</th>\n      <th>zipper</th>\n      <th>zipperwrist</th>\n      <th>zippo</th>\n      <th>zoic</th>\n      <th>zome</th>\n      <th>zone</th>\n      <th>zookki</th>\n      <th>zoomabl</th>\n      <th>zoomer</th>\n      <th>zumba</th>\n    </tr>\n  </thead>\n  <tbody>\n    <tr>\n      <th>0</th>\n      <td>0.0</td>\n      <td>0.0</td>\n      <td>0.0</td>\n      <td>0.0</td>\n      <td>0.0</td>\n      <td>0.0</td>\n      <td>0.0</td>\n      <td>0.0</td>\n      <td>0.0</td>\n      <td>0.0</td>\n      <td>...</td>\n      <td>0.0</td>\n      <td>0.0</td>\n      <td>0.0</td>\n      <td>0.0</td>\n      <td>0.0</td>\n      <td>0.0</td>\n      <td>0.0</td>\n      <td>0.0</td>\n      <td>0.0</td>\n      <td>0.0</td>\n    </tr>\n    <tr>\n      <th>1</th>\n      <td>0.0</td>\n      <td>0.0</td>\n      <td>0.0</td>\n      <td>0.0</td>\n      <td>0.0</td>\n      <td>0.0</td>\n      <td>0.0</td>\n      <td>0.0</td>\n      <td>0.0</td>\n      <td>0.0</td>\n      <td>...</td>\n      <td>0.0</td>\n      <td>0.0</td>\n      <td>0.0</td>\n      <td>0.0</td>\n      <td>0.0</td>\n      <td>0.0</td>\n      <td>0.0</td>\n      <td>0.0</td>\n      <td>0.0</td>\n      <td>0.0</td>\n    </tr>\n    <tr>\n      <th>2</th>\n      <td>0.0</td>\n      <td>0.0</td>\n      <td>0.0</td>\n      <td>0.0</td>\n      <td>0.0</td>\n      <td>0.0</td>\n      <td>0.0</td>\n      <td>0.0</td>\n      <td>0.0</td>\n      <td>0.0</td>\n      <td>...</td>\n      <td>0.0</td>\n      <td>0.0</td>\n      <td>0.0</td>\n      <td>0.0</td>\n      <td>0.0</td>\n      <td>0.0</td>\n      <td>0.0</td>\n      <td>0.0</td>\n      <td>0.0</td>\n      <td>0.0</td>\n    </tr>\n    <tr>\n      <th>3</th>\n      <td>0.0</td>\n      <td>0.0</td>\n      <td>0.0</td>\n      <td>0.0</td>\n      <td>0.0</td>\n      <td>0.0</td>\n      <td>0.0</td>\n      <td>0.0</td>\n      <td>0.0</td>\n      <td>0.0</td>\n      <td>...</td>\n      <td>0.0</td>\n      <td>0.0</td>\n      <td>0.0</td>\n      <td>0.0</td>\n      <td>0.0</td>\n      <td>0.0</td>\n      <td>0.0</td>\n      <td>0.0</td>\n      <td>0.0</td>\n      <td>0.0</td>\n    </tr>\n    <tr>\n      <th>4</th>\n      <td>0.0</td>\n      <td>0.0</td>\n      <td>0.0</td>\n      <td>0.0</td>\n      <td>0.0</td>\n      <td>0.0</td>\n      <td>0.0</td>\n      <td>0.0</td>\n      <td>0.0</td>\n      <td>0.0</td>\n      <td>...</td>\n      <td>0.0</td>\n      <td>0.0</td>\n      <td>0.0</td>\n      <td>0.0</td>\n      <td>0.0</td>\n      <td>0.0</td>\n      <td>0.0</td>\n      <td>0.0</td>\n      <td>0.0</td>\n      <td>0.0</td>\n    </tr>\n    <tr>\n      <th>...</th>\n      <td>...</td>\n      <td>...</td>\n      <td>...</td>\n      <td>...</td>\n      <td>...</td>\n      <td>...</td>\n      <td>...</td>\n      <td>...</td>\n      <td>...</td>\n      <td>...</td>\n      <td>...</td>\n      <td>...</td>\n      <td>...</td>\n      <td>...</td>\n      <td>...</td>\n      <td>...</td>\n      <td>...</td>\n      <td>...</td>\n      <td>...</td>\n      <td>...</td>\n      <td>...</td>\n    </tr>\n    <tr>\n      <th>7114</th>\n      <td>0.0</td>\n      <td>0.0</td>\n      <td>0.0</td>\n      <td>0.0</td>\n      <td>0.0</td>\n      <td>0.0</td>\n      <td>0.0</td>\n      <td>0.0</td>\n      <td>0.0</td>\n      <td>0.0</td>\n      <td>...</td>\n      <td>0.0</td>\n      <td>0.0</td>\n      <td>0.0</td>\n      <td>0.0</td>\n      <td>0.0</td>\n      <td>0.0</td>\n      <td>0.0</td>\n      <td>0.0</td>\n      <td>0.0</td>\n      <td>0.0</td>\n    </tr>\n    <tr>\n      <th>7115</th>\n      <td>0.0</td>\n      <td>0.0</td>\n      <td>0.0</td>\n      <td>0.0</td>\n      <td>0.0</td>\n      <td>0.0</td>\n      <td>0.0</td>\n      <td>0.0</td>\n      <td>0.0</td>\n      <td>0.0</td>\n      <td>...</td>\n      <td>0.0</td>\n      <td>0.0</td>\n      <td>0.0</td>\n      <td>0.0</td>\n      <td>0.0</td>\n      <td>0.0</td>\n      <td>0.0</td>\n      <td>0.0</td>\n      <td>0.0</td>\n      <td>0.0</td>\n    </tr>\n    <tr>\n      <th>7116</th>\n      <td>0.0</td>\n      <td>0.0</td>\n      <td>0.0</td>\n      <td>0.0</td>\n      <td>0.0</td>\n      <td>0.0</td>\n      <td>0.0</td>\n      <td>0.0</td>\n      <td>0.0</td>\n      <td>0.0</td>\n      <td>...</td>\n      <td>0.0</td>\n      <td>0.0</td>\n      <td>0.0</td>\n      <td>0.0</td>\n      <td>0.0</td>\n      <td>0.0</td>\n      <td>0.0</td>\n      <td>0.0</td>\n      <td>0.0</td>\n      <td>0.0</td>\n    </tr>\n    <tr>\n      <th>7117</th>\n      <td>0.0</td>\n      <td>0.0</td>\n      <td>0.0</td>\n      <td>0.0</td>\n      <td>0.0</td>\n      <td>0.0</td>\n      <td>0.0</td>\n      <td>0.0</td>\n      <td>0.0</td>\n      <td>0.0</td>\n      <td>...</td>\n      <td>0.0</td>\n      <td>0.0</td>\n      <td>0.0</td>\n      <td>0.0</td>\n      <td>0.0</td>\n      <td>0.0</td>\n      <td>0.0</td>\n      <td>0.0</td>\n      <td>0.0</td>\n      <td>0.0</td>\n    </tr>\n    <tr>\n      <th>7118</th>\n      <td>0.0</td>\n      <td>0.0</td>\n      <td>0.0</td>\n      <td>0.0</td>\n      <td>0.0</td>\n      <td>0.0</td>\n      <td>0.0</td>\n      <td>0.0</td>\n      <td>0.0</td>\n      <td>0.0</td>\n      <td>...</td>\n      <td>0.0</td>\n      <td>0.0</td>\n      <td>0.0</td>\n      <td>0.0</td>\n      <td>0.0</td>\n      <td>0.0</td>\n      <td>0.0</td>\n      <td>0.0</td>\n      <td>0.0</td>\n      <td>0.0</td>\n    </tr>\n  </tbody>\n</table>\n<p>7119 rows × 4143 columns</p>\n</div>"
     },
     "metadata": {},
     "execution_count": 16
    }
   ],
   "source": [
    "df_title_tfidf"
   ]
  },
  {
   "cell_type": "code",
   "execution_count": null,
   "metadata": {},
   "outputs": [],
   "source": []
  },
  {
   "cell_type": "code",
   "execution_count": 17,
   "metadata": {},
   "outputs": [
    {
     "output_type": "execute_result",
     "data": {
      "text/plain": "[{'Name': 'recommender-system-amazon',\n  'CreationDate': datetime.datetime(2020, 9, 14, 18, 7, 18, tzinfo=tzlocal())}]"
     },
     "metadata": {},
     "execution_count": 17
    }
   ],
   "source": [
    "s3.list_buckets()['Buckets']"
   ]
  },
  {
   "cell_type": "code",
   "execution_count": 18,
   "metadata": {},
   "outputs": [
    {
     "output_type": "execute_result",
     "data": {
      "text/plain": "{'ResponseMetadata': {'RequestId': 'FA6ED24C860A40D9',\n  'HostId': 'cwyuIUyPG889VO5WnZ3QwWC07nHyMhoWg0kcXrnaUPULUmclrjB+4BzJpMrFmm0iJYtw12M13Qg=',\n  'HTTPStatusCode': 200,\n  'HTTPHeaders': {'x-amz-id-2': 'cwyuIUyPG889VO5WnZ3QwWC07nHyMhoWg0kcXrnaUPULUmclrjB+4BzJpMrFmm0iJYtw12M13Qg=',\n   'x-amz-request-id': 'FA6ED24C860A40D9',\n   'date': 'Sun, 20 Sep 2020 17:01:40 GMT',\n   'etag': '\"ba506c4d1840b01f0ca77cd073272b02\"',\n   'content-length': '0',\n   'server': 'AmazonS3'},\n  'RetryAttempts': 0},\n 'ETag': '\"ba506c4d1840b01f0ca77cd073272b02\"'}"
     },
     "metadata": {},
     "execution_count": 18
    }
   ],
   "source": [
    "bucket = 'recommender-system-amazon' \n",
    "csv_buffer = StringIO()\n",
    "s3_resource = boto3.resource('s3')\n",
    "df_items_tfidf.to_csv(csv_buffer)\n",
    "s3_resource.Object(bucket, 'df_items_tfidf.csv').put(Body=csv_buffer.getvalue())"
   ]
  },
  {
   "cell_type": "code",
   "execution_count": 19,
   "metadata": {},
   "outputs": [
    {
     "output_type": "execute_result",
     "data": {
      "text/plain": "{'ResponseMetadata': {'RequestId': '0461FAEE63782A4F',\n  'HostId': 'zur1CHEQMxS6obKManvyT5ydeH45o02WcRVDawiLVovrrzy8Bk99TpRsN8oRaLEPzm0gIxD0cjE=',\n  'HTTPStatusCode': 200,\n  'HTTPHeaders': {'x-amz-id-2': 'zur1CHEQMxS6obKManvyT5ydeH45o02WcRVDawiLVovrrzy8Bk99TpRsN8oRaLEPzm0gIxD0cjE=',\n   'x-amz-request-id': '0461FAEE63782A4F',\n   'date': 'Sun, 20 Sep 2020 17:02:08 GMT',\n   'etag': '\"95194c368a507abe53e24428ccdbbf1b\"',\n   'content-length': '0',\n   'server': 'AmazonS3'},\n  'RetryAttempts': 0},\n 'ETag': '\"95194c368a507abe53e24428ccdbbf1b\"'}"
     },
     "metadata": {},
     "execution_count": 19
    }
   ],
   "source": [
    "df_title_tfidf.to_csv(csv_buffer)\n",
    "s3_resource.Object(bucket, 'df_title_tfidf.csv').put(Body=csv_buffer.getvalue())"
   ]
  },
  {
   "cell_type": "markdown",
   "metadata": {},
   "source": [
    "### Combine tile and context with a specific weight"
   ]
  },
  {
   "cell_type": "code",
   "execution_count": 20,
   "metadata": {},
   "outputs": [],
   "source": [
    "def weighted_vector(content_matrix, title_matrix, alpha):\n",
    "    content_matrix = content_matrix * alpha\n",
    "    title_matrix = title_matrix * (1-alpha)\n",
    "    return content_matrix.add(title_matrix, fill_value=0)"
   ]
  },
  {
   "cell_type": "code",
   "execution_count": 21,
   "metadata": {},
   "outputs": [],
   "source": [
    "weighted_vector_text = weighted_vector(df_items_tfidf, df_title_tfidf, .8)"
   ]
  },
  {
   "cell_type": "code",
   "execution_count": 27,
   "metadata": {},
   "outputs": [
    {
     "output_type": "execute_result",
     "data": {
      "text/plain": "       aa  aaa  aampr   ab  abco  abdomin  ablack  abmat  abras  absorb  ...  \\\n0     0.0  0.0    0.0  0.0   0.0      0.0     0.0    0.0    0.0     0.0  ...   \n1     0.0  0.0    0.0  0.0   0.0      0.0     0.0    0.0    0.0     0.0  ...   \n2     0.0  0.0    0.0  0.0   0.0      0.0     0.0    0.0    0.0     0.0  ...   \n3     0.0  0.0    0.0  0.0   0.0      0.0     0.0    0.0    0.0     0.0  ...   \n4     0.0  0.0    0.0  0.0   0.0      0.0     0.0    0.0    0.0     0.0  ...   \n...   ...  ...    ...  ...   ...      ...     ...    ...    ...     ...  ...   \n7114  0.0  0.0    0.0  0.0   0.0      0.0     0.0    0.0    0.0     0.0  ...   \n7115  0.0  0.0    0.0  0.0   0.0      0.0     0.0    0.0    0.0     0.0  ...   \n7116  0.0  0.0    0.0  0.0   0.0      0.0     0.0    0.0    0.0     0.0  ...   \n7117  0.0  0.0    0.0  0.0   0.0      0.0     0.0    0.0    0.0     0.0  ...   \n7118  0.0  0.0    0.0  0.0   0.0      0.0     0.0    0.0    0.0     0.0  ...   \n\n      zippo  zoic  zoma  zombi  zome  zone  zookki  zoomabl  zoomer  zumba  \n0       0.0   0.0   0.0    0.0   0.0   0.0     0.0      0.0     0.0    0.0  \n1       0.0   0.0   0.0    0.0   0.0   0.0     0.0      0.0     0.0    0.0  \n2       0.0   0.0   0.0    0.0   0.0   0.0     0.0      0.0     0.0    0.0  \n3       0.0   0.0   0.0    0.0   0.0   0.0     0.0      0.0     0.0    0.0  \n4       0.0   0.0   0.0    0.0   0.0   0.0     0.0      0.0     0.0    0.0  \n...     ...   ...   ...    ...   ...   ...     ...      ...     ...    ...  \n7114    0.0   0.0   0.0    0.0   0.0   0.0     0.0      0.0     0.0    0.0  \n7115    0.0   0.0   0.0    0.0   0.0   0.0     0.0      0.0     0.0    0.0  \n7116    0.0   0.0   0.0    0.0   0.0   0.0     0.0      0.0     0.0    0.0  \n7117    0.0   0.0   0.0    0.0   0.0   0.0     0.0      0.0     0.0    0.0  \n7118    0.0   0.0   0.0    0.0   0.0   0.0     0.0      0.0     0.0    0.0  \n\n[7119 rows x 5366 columns]",
      "text/html": "<div>\n<style scoped>\n    .dataframe tbody tr th:only-of-type {\n        vertical-align: middle;\n    }\n\n    .dataframe tbody tr th {\n        vertical-align: top;\n    }\n\n    .dataframe thead th {\n        text-align: right;\n    }\n</style>\n<table border=\"1\" class=\"dataframe\">\n  <thead>\n    <tr style=\"text-align: right;\">\n      <th></th>\n      <th>aa</th>\n      <th>aaa</th>\n      <th>aampr</th>\n      <th>ab</th>\n      <th>abco</th>\n      <th>abdomin</th>\n      <th>ablack</th>\n      <th>abmat</th>\n      <th>abras</th>\n      <th>absorb</th>\n      <th>...</th>\n      <th>zippo</th>\n      <th>zoic</th>\n      <th>zoma</th>\n      <th>zombi</th>\n      <th>zome</th>\n      <th>zone</th>\n      <th>zookki</th>\n      <th>zoomabl</th>\n      <th>zoomer</th>\n      <th>zumba</th>\n    </tr>\n  </thead>\n  <tbody>\n    <tr>\n      <th>0</th>\n      <td>0.0</td>\n      <td>0.0</td>\n      <td>0.0</td>\n      <td>0.0</td>\n      <td>0.0</td>\n      <td>0.0</td>\n      <td>0.0</td>\n      <td>0.0</td>\n      <td>0.0</td>\n      <td>0.0</td>\n      <td>...</td>\n      <td>0.0</td>\n      <td>0.0</td>\n      <td>0.0</td>\n      <td>0.0</td>\n      <td>0.0</td>\n      <td>0.0</td>\n      <td>0.0</td>\n      <td>0.0</td>\n      <td>0.0</td>\n      <td>0.0</td>\n    </tr>\n    <tr>\n      <th>1</th>\n      <td>0.0</td>\n      <td>0.0</td>\n      <td>0.0</td>\n      <td>0.0</td>\n      <td>0.0</td>\n      <td>0.0</td>\n      <td>0.0</td>\n      <td>0.0</td>\n      <td>0.0</td>\n      <td>0.0</td>\n      <td>...</td>\n      <td>0.0</td>\n      <td>0.0</td>\n      <td>0.0</td>\n      <td>0.0</td>\n      <td>0.0</td>\n      <td>0.0</td>\n      <td>0.0</td>\n      <td>0.0</td>\n      <td>0.0</td>\n      <td>0.0</td>\n    </tr>\n    <tr>\n      <th>2</th>\n      <td>0.0</td>\n      <td>0.0</td>\n      <td>0.0</td>\n      <td>0.0</td>\n      <td>0.0</td>\n      <td>0.0</td>\n      <td>0.0</td>\n      <td>0.0</td>\n      <td>0.0</td>\n      <td>0.0</td>\n      <td>...</td>\n      <td>0.0</td>\n      <td>0.0</td>\n      <td>0.0</td>\n      <td>0.0</td>\n      <td>0.0</td>\n      <td>0.0</td>\n      <td>0.0</td>\n      <td>0.0</td>\n      <td>0.0</td>\n      <td>0.0</td>\n    </tr>\n    <tr>\n      <th>3</th>\n      <td>0.0</td>\n      <td>0.0</td>\n      <td>0.0</td>\n      <td>0.0</td>\n      <td>0.0</td>\n      <td>0.0</td>\n      <td>0.0</td>\n      <td>0.0</td>\n      <td>0.0</td>\n      <td>0.0</td>\n      <td>...</td>\n      <td>0.0</td>\n      <td>0.0</td>\n      <td>0.0</td>\n      <td>0.0</td>\n      <td>0.0</td>\n      <td>0.0</td>\n      <td>0.0</td>\n      <td>0.0</td>\n      <td>0.0</td>\n      <td>0.0</td>\n    </tr>\n    <tr>\n      <th>4</th>\n      <td>0.0</td>\n      <td>0.0</td>\n      <td>0.0</td>\n      <td>0.0</td>\n      <td>0.0</td>\n      <td>0.0</td>\n      <td>0.0</td>\n      <td>0.0</td>\n      <td>0.0</td>\n      <td>0.0</td>\n      <td>...</td>\n      <td>0.0</td>\n      <td>0.0</td>\n      <td>0.0</td>\n      <td>0.0</td>\n      <td>0.0</td>\n      <td>0.0</td>\n      <td>0.0</td>\n      <td>0.0</td>\n      <td>0.0</td>\n      <td>0.0</td>\n    </tr>\n    <tr>\n      <th>...</th>\n      <td>...</td>\n      <td>...</td>\n      <td>...</td>\n      <td>...</td>\n      <td>...</td>\n      <td>...</td>\n      <td>...</td>\n      <td>...</td>\n      <td>...</td>\n      <td>...</td>\n      <td>...</td>\n      <td>...</td>\n      <td>...</td>\n      <td>...</td>\n      <td>...</td>\n      <td>...</td>\n      <td>...</td>\n      <td>...</td>\n      <td>...</td>\n      <td>...</td>\n      <td>...</td>\n    </tr>\n    <tr>\n      <th>7114</th>\n      <td>0.0</td>\n      <td>0.0</td>\n      <td>0.0</td>\n      <td>0.0</td>\n      <td>0.0</td>\n      <td>0.0</td>\n      <td>0.0</td>\n      <td>0.0</td>\n      <td>0.0</td>\n      <td>0.0</td>\n      <td>...</td>\n      <td>0.0</td>\n      <td>0.0</td>\n      <td>0.0</td>\n      <td>0.0</td>\n      <td>0.0</td>\n      <td>0.0</td>\n      <td>0.0</td>\n      <td>0.0</td>\n      <td>0.0</td>\n      <td>0.0</td>\n    </tr>\n    <tr>\n      <th>7115</th>\n      <td>0.0</td>\n      <td>0.0</td>\n      <td>0.0</td>\n      <td>0.0</td>\n      <td>0.0</td>\n      <td>0.0</td>\n      <td>0.0</td>\n      <td>0.0</td>\n      <td>0.0</td>\n      <td>0.0</td>\n      <td>...</td>\n      <td>0.0</td>\n      <td>0.0</td>\n      <td>0.0</td>\n      <td>0.0</td>\n      <td>0.0</td>\n      <td>0.0</td>\n      <td>0.0</td>\n      <td>0.0</td>\n      <td>0.0</td>\n      <td>0.0</td>\n    </tr>\n    <tr>\n      <th>7116</th>\n      <td>0.0</td>\n      <td>0.0</td>\n      <td>0.0</td>\n      <td>0.0</td>\n      <td>0.0</td>\n      <td>0.0</td>\n      <td>0.0</td>\n      <td>0.0</td>\n      <td>0.0</td>\n      <td>0.0</td>\n      <td>...</td>\n      <td>0.0</td>\n      <td>0.0</td>\n      <td>0.0</td>\n      <td>0.0</td>\n      <td>0.0</td>\n      <td>0.0</td>\n      <td>0.0</td>\n      <td>0.0</td>\n      <td>0.0</td>\n      <td>0.0</td>\n    </tr>\n    <tr>\n      <th>7117</th>\n      <td>0.0</td>\n      <td>0.0</td>\n      <td>0.0</td>\n      <td>0.0</td>\n      <td>0.0</td>\n      <td>0.0</td>\n      <td>0.0</td>\n      <td>0.0</td>\n      <td>0.0</td>\n      <td>0.0</td>\n      <td>...</td>\n      <td>0.0</td>\n      <td>0.0</td>\n      <td>0.0</td>\n      <td>0.0</td>\n      <td>0.0</td>\n      <td>0.0</td>\n      <td>0.0</td>\n      <td>0.0</td>\n      <td>0.0</td>\n      <td>0.0</td>\n    </tr>\n    <tr>\n      <th>7118</th>\n      <td>0.0</td>\n      <td>0.0</td>\n      <td>0.0</td>\n      <td>0.0</td>\n      <td>0.0</td>\n      <td>0.0</td>\n      <td>0.0</td>\n      <td>0.0</td>\n      <td>0.0</td>\n      <td>0.0</td>\n      <td>...</td>\n      <td>0.0</td>\n      <td>0.0</td>\n      <td>0.0</td>\n      <td>0.0</td>\n      <td>0.0</td>\n      <td>0.0</td>\n      <td>0.0</td>\n      <td>0.0</td>\n      <td>0.0</td>\n      <td>0.0</td>\n    </tr>\n  </tbody>\n</table>\n<p>7119 rows × 5366 columns</p>\n</div>"
     },
     "metadata": {},
     "execution_count": 27
    }
   ],
   "source": [
    "weighted_vector_text"
   ]
  },
  {
   "cell_type": "code",
   "execution_count": 23,
   "metadata": {},
   "outputs": [
    {
     "output_type": "execute_result",
     "data": {
      "text/plain": "{'ResponseMetadata': {'RequestId': '12C26C30086BE67D',\n  'HostId': 'xLaZo7bowCJMTetoHZJp2K7DpS9RKdyZ33YtZI2xvftSDi5uTewQuCdOOrShHuGqVb7rpb6S3jU=',\n  'HTTPStatusCode': 200,\n  'HTTPHeaders': {'x-amz-id-2': 'xLaZo7bowCJMTetoHZJp2K7DpS9RKdyZ33YtZI2xvftSDi5uTewQuCdOOrShHuGqVb7rpb6S3jU=',\n   'x-amz-request-id': '12C26C30086BE67D',\n   'date': 'Sun, 20 Sep 2020 17:03:40 GMT',\n   'etag': '\"755140ba66e12ac6c66c928d21a5bcf0\"',\n   'content-length': '0',\n   'server': 'AmazonS3'},\n  'RetryAttempts': 0},\n 'ETag': '\"755140ba66e12ac6c66c928d21a5bcf0\"'}"
     },
     "metadata": {},
     "execution_count": 23
    }
   ],
   "source": [
    "bucket = 'recommender-system-amazon' \n",
    "csv_buffer = StringIO()\n",
    "s3_resource = boto3.resource('s3')\n",
    "weighted_vector_text.to_csv(csv_buffer)\n",
    "s3_resource.Object(bucket, 'weighted_vector_text.csv').put(Body=csv_buffer.getvalue())"
   ]
  },
  {
   "source": [
    "### I used a pretrained NN to extract the embedding featurs of the text reviews. Please see the NN_TextReview notebook."
   ],
   "cell_type": "markdown",
   "metadata": {}
  },
  {
   "cell_type": "code",
   "execution_count": 24,
   "metadata": {},
   "outputs": [],
   "source": [
    "df_embeddings = pd.read_csv(\"s3://recommender-system-amazon/df_embeddings.csv\")"
   ]
  },
  {
   "cell_type": "code",
   "execution_count": 28,
   "metadata": {},
   "outputs": [],
   "source": [
    "df_embeddings.drop('Unnamed: 0',axis=1,inplace=True)"
   ]
  },
  {
   "cell_type": "code",
   "execution_count": 29,
   "metadata": {},
   "outputs": [
    {
     "output_type": "execute_result",
     "data": {
      "text/plain": "             0         1         2         3         4         5         6  \\\n0    -0.285130  0.060985  0.414623 -0.531314  0.442173  0.318242 -0.870643   \n1    -0.597203  0.150828  1.199493 -1.166145  1.114523  0.654988 -2.340746   \n2    -0.053539  0.037334  0.164886 -0.095495  0.189895  0.104429 -0.420634   \n3    -0.159412  0.197315  0.582958 -0.513983  0.491400  0.139112 -0.890944   \n4    -0.050116 -0.025903  0.133630 -0.040309  0.063084  0.043597 -0.269806   \n...        ...       ...       ...       ...       ...       ...       ...   \n7114 -0.102019  0.027717  0.284199 -0.218972  0.170389  0.150156 -0.482599   \n7115 -0.190842  0.168293  0.498021 -0.466251  0.318216  0.265024 -0.782296   \n7116 -0.042658 -0.022379  0.269534 -0.238807  0.103034  0.036467 -0.403330   \n7117 -0.051699  0.063204  0.278494 -0.365743  0.276848  0.024800 -0.483362   \n7118  0.028649 -0.041784  0.544267 -0.252783  0.298251  0.191615 -0.993099   \n\n             7         8         9  ...       490       491       492  \\\n0    -0.546788 -0.119287  0.344106  ... -0.405638 -0.525770  0.349060   \n1    -1.453836 -0.491269  0.856079  ... -1.012434 -1.443212  0.998376   \n2    -0.199371 -0.052084  0.094655  ... -0.212059 -0.310462  0.231165   \n3    -0.713702 -0.254520  0.318968  ... -0.268973 -0.554847  0.385598   \n4    -0.269438 -0.075861  0.108396  ... -0.103728 -0.140989  0.097617   \n...        ...       ...       ...  ...       ...       ...       ...   \n7114 -0.376557 -0.223909  0.283780  ... -0.166809 -0.349046  0.244090   \n7115 -0.537506 -0.223155  0.464604  ... -0.271664 -0.511994  0.356131   \n7116 -0.359216 -0.141440  0.192393  ... -0.160238 -0.231339  0.169995   \n7117 -0.402309 -0.137066  0.286098  ... -0.202620 -0.394500  0.180779   \n7118 -0.506360 -0.303408  0.455851  ... -0.095773 -0.727054  0.394616   \n\n           493       494       495       496       497       498       499  \n0    -0.502317  0.141123  0.172526  0.056857  0.198121  1.138062  0.104694  \n1    -1.200342  0.010007  0.474560 -0.046026  0.636429  2.756346  0.194841  \n2    -0.158136 -0.031955  0.080302 -0.006068  0.196109  0.395653  0.060915  \n3    -0.248943  0.005781  0.129741 -0.011721  0.322807  0.908218 -0.175054  \n4    -0.099130 -0.075470  0.122045 -0.015062  0.006836  0.225041  0.021941  \n...        ...       ...       ...       ...       ...       ...       ...  \n7114 -0.209724 -0.080448  0.058905 -0.061709  0.070529  0.434063 -0.012607  \n7115 -0.402972  0.033014  0.105582 -0.049060  0.278642  0.855066 -0.057368  \n7116 -0.143637 -0.027222  0.197019  0.000785  0.082005  0.453127  0.037701  \n7117 -0.315387 -0.058280  0.149369  0.071951  0.102214  0.492521  0.116166  \n7118 -0.298851 -0.080380  0.099562  0.086673  0.157616  0.789677 -0.225129  \n\n[7119 rows x 500 columns]",
      "text/html": "<div>\n<style scoped>\n    .dataframe tbody tr th:only-of-type {\n        vertical-align: middle;\n    }\n\n    .dataframe tbody tr th {\n        vertical-align: top;\n    }\n\n    .dataframe thead th {\n        text-align: right;\n    }\n</style>\n<table border=\"1\" class=\"dataframe\">\n  <thead>\n    <tr style=\"text-align: right;\">\n      <th></th>\n      <th>0</th>\n      <th>1</th>\n      <th>2</th>\n      <th>3</th>\n      <th>4</th>\n      <th>5</th>\n      <th>6</th>\n      <th>7</th>\n      <th>8</th>\n      <th>9</th>\n      <th>...</th>\n      <th>490</th>\n      <th>491</th>\n      <th>492</th>\n      <th>493</th>\n      <th>494</th>\n      <th>495</th>\n      <th>496</th>\n      <th>497</th>\n      <th>498</th>\n      <th>499</th>\n    </tr>\n  </thead>\n  <tbody>\n    <tr>\n      <th>0</th>\n      <td>-0.285130</td>\n      <td>0.060985</td>\n      <td>0.414623</td>\n      <td>-0.531314</td>\n      <td>0.442173</td>\n      <td>0.318242</td>\n      <td>-0.870643</td>\n      <td>-0.546788</td>\n      <td>-0.119287</td>\n      <td>0.344106</td>\n      <td>...</td>\n      <td>-0.405638</td>\n      <td>-0.525770</td>\n      <td>0.349060</td>\n      <td>-0.502317</td>\n      <td>0.141123</td>\n      <td>0.172526</td>\n      <td>0.056857</td>\n      <td>0.198121</td>\n      <td>1.138062</td>\n      <td>0.104694</td>\n    </tr>\n    <tr>\n      <th>1</th>\n      <td>-0.597203</td>\n      <td>0.150828</td>\n      <td>1.199493</td>\n      <td>-1.166145</td>\n      <td>1.114523</td>\n      <td>0.654988</td>\n      <td>-2.340746</td>\n      <td>-1.453836</td>\n      <td>-0.491269</td>\n      <td>0.856079</td>\n      <td>...</td>\n      <td>-1.012434</td>\n      <td>-1.443212</td>\n      <td>0.998376</td>\n      <td>-1.200342</td>\n      <td>0.010007</td>\n      <td>0.474560</td>\n      <td>-0.046026</td>\n      <td>0.636429</td>\n      <td>2.756346</td>\n      <td>0.194841</td>\n    </tr>\n    <tr>\n      <th>2</th>\n      <td>-0.053539</td>\n      <td>0.037334</td>\n      <td>0.164886</td>\n      <td>-0.095495</td>\n      <td>0.189895</td>\n      <td>0.104429</td>\n      <td>-0.420634</td>\n      <td>-0.199371</td>\n      <td>-0.052084</td>\n      <td>0.094655</td>\n      <td>...</td>\n      <td>-0.212059</td>\n      <td>-0.310462</td>\n      <td>0.231165</td>\n      <td>-0.158136</td>\n      <td>-0.031955</td>\n      <td>0.080302</td>\n      <td>-0.006068</td>\n      <td>0.196109</td>\n      <td>0.395653</td>\n      <td>0.060915</td>\n    </tr>\n    <tr>\n      <th>3</th>\n      <td>-0.159412</td>\n      <td>0.197315</td>\n      <td>0.582958</td>\n      <td>-0.513983</td>\n      <td>0.491400</td>\n      <td>0.139112</td>\n      <td>-0.890944</td>\n      <td>-0.713702</td>\n      <td>-0.254520</td>\n      <td>0.318968</td>\n      <td>...</td>\n      <td>-0.268973</td>\n      <td>-0.554847</td>\n      <td>0.385598</td>\n      <td>-0.248943</td>\n      <td>0.005781</td>\n      <td>0.129741</td>\n      <td>-0.011721</td>\n      <td>0.322807</td>\n      <td>0.908218</td>\n      <td>-0.175054</td>\n    </tr>\n    <tr>\n      <th>4</th>\n      <td>-0.050116</td>\n      <td>-0.025903</td>\n      <td>0.133630</td>\n      <td>-0.040309</td>\n      <td>0.063084</td>\n      <td>0.043597</td>\n      <td>-0.269806</td>\n      <td>-0.269438</td>\n      <td>-0.075861</td>\n      <td>0.108396</td>\n      <td>...</td>\n      <td>-0.103728</td>\n      <td>-0.140989</td>\n      <td>0.097617</td>\n      <td>-0.099130</td>\n      <td>-0.075470</td>\n      <td>0.122045</td>\n      <td>-0.015062</td>\n      <td>0.006836</td>\n      <td>0.225041</td>\n      <td>0.021941</td>\n    </tr>\n    <tr>\n      <th>...</th>\n      <td>...</td>\n      <td>...</td>\n      <td>...</td>\n      <td>...</td>\n      <td>...</td>\n      <td>...</td>\n      <td>...</td>\n      <td>...</td>\n      <td>...</td>\n      <td>...</td>\n      <td>...</td>\n      <td>...</td>\n      <td>...</td>\n      <td>...</td>\n      <td>...</td>\n      <td>...</td>\n      <td>...</td>\n      <td>...</td>\n      <td>...</td>\n      <td>...</td>\n      <td>...</td>\n    </tr>\n    <tr>\n      <th>7114</th>\n      <td>-0.102019</td>\n      <td>0.027717</td>\n      <td>0.284199</td>\n      <td>-0.218972</td>\n      <td>0.170389</td>\n      <td>0.150156</td>\n      <td>-0.482599</td>\n      <td>-0.376557</td>\n      <td>-0.223909</td>\n      <td>0.283780</td>\n      <td>...</td>\n      <td>-0.166809</td>\n      <td>-0.349046</td>\n      <td>0.244090</td>\n      <td>-0.209724</td>\n      <td>-0.080448</td>\n      <td>0.058905</td>\n      <td>-0.061709</td>\n      <td>0.070529</td>\n      <td>0.434063</td>\n      <td>-0.012607</td>\n    </tr>\n    <tr>\n      <th>7115</th>\n      <td>-0.190842</td>\n      <td>0.168293</td>\n      <td>0.498021</td>\n      <td>-0.466251</td>\n      <td>0.318216</td>\n      <td>0.265024</td>\n      <td>-0.782296</td>\n      <td>-0.537506</td>\n      <td>-0.223155</td>\n      <td>0.464604</td>\n      <td>...</td>\n      <td>-0.271664</td>\n      <td>-0.511994</td>\n      <td>0.356131</td>\n      <td>-0.402972</td>\n      <td>0.033014</td>\n      <td>0.105582</td>\n      <td>-0.049060</td>\n      <td>0.278642</td>\n      <td>0.855066</td>\n      <td>-0.057368</td>\n    </tr>\n    <tr>\n      <th>7116</th>\n      <td>-0.042658</td>\n      <td>-0.022379</td>\n      <td>0.269534</td>\n      <td>-0.238807</td>\n      <td>0.103034</td>\n      <td>0.036467</td>\n      <td>-0.403330</td>\n      <td>-0.359216</td>\n      <td>-0.141440</td>\n      <td>0.192393</td>\n      <td>...</td>\n      <td>-0.160238</td>\n      <td>-0.231339</td>\n      <td>0.169995</td>\n      <td>-0.143637</td>\n      <td>-0.027222</td>\n      <td>0.197019</td>\n      <td>0.000785</td>\n      <td>0.082005</td>\n      <td>0.453127</td>\n      <td>0.037701</td>\n    </tr>\n    <tr>\n      <th>7117</th>\n      <td>-0.051699</td>\n      <td>0.063204</td>\n      <td>0.278494</td>\n      <td>-0.365743</td>\n      <td>0.276848</td>\n      <td>0.024800</td>\n      <td>-0.483362</td>\n      <td>-0.402309</td>\n      <td>-0.137066</td>\n      <td>0.286098</td>\n      <td>...</td>\n      <td>-0.202620</td>\n      <td>-0.394500</td>\n      <td>0.180779</td>\n      <td>-0.315387</td>\n      <td>-0.058280</td>\n      <td>0.149369</td>\n      <td>0.071951</td>\n      <td>0.102214</td>\n      <td>0.492521</td>\n      <td>0.116166</td>\n    </tr>\n    <tr>\n      <th>7118</th>\n      <td>0.028649</td>\n      <td>-0.041784</td>\n      <td>0.544267</td>\n      <td>-0.252783</td>\n      <td>0.298251</td>\n      <td>0.191615</td>\n      <td>-0.993099</td>\n      <td>-0.506360</td>\n      <td>-0.303408</td>\n      <td>0.455851</td>\n      <td>...</td>\n      <td>-0.095773</td>\n      <td>-0.727054</td>\n      <td>0.394616</td>\n      <td>-0.298851</td>\n      <td>-0.080380</td>\n      <td>0.099562</td>\n      <td>0.086673</td>\n      <td>0.157616</td>\n      <td>0.789677</td>\n      <td>-0.225129</td>\n    </tr>\n  </tbody>\n</table>\n<p>7119 rows × 500 columns</p>\n</div>"
     },
     "metadata": {},
     "execution_count": 29
    }
   ],
   "source": [
    "df_embeddings"
   ]
  },
  {
   "source": [
    "Concat the embedding dataframe with the weighted_vector_text"
   ],
   "cell_type": "markdown",
   "metadata": {}
  },
  {
   "cell_type": "code",
   "execution_count": 30,
   "metadata": {},
   "outputs": [
    {
     "output_type": "execute_result",
     "data": {
      "text/plain": "       aa  aaa  aampr   ab  abco  abdomin  ablack  abmat  abras  absorb  ...  \\\n0     0.0  0.0    0.0  0.0   0.0      0.0     0.0    0.0    0.0     0.0  ...   \n1     0.0  0.0    0.0  0.0   0.0      0.0     0.0    0.0    0.0     0.0  ...   \n2     0.0  0.0    0.0  0.0   0.0      0.0     0.0    0.0    0.0     0.0  ...   \n3     0.0  0.0    0.0  0.0   0.0      0.0     0.0    0.0    0.0     0.0  ...   \n4     0.0  0.0    0.0  0.0   0.0      0.0     0.0    0.0    0.0     0.0  ...   \n...   ...  ...    ...  ...   ...      ...     ...    ...    ...     ...  ...   \n7114  0.0  0.0    0.0  0.0   0.0      0.0     0.0    0.0    0.0     0.0  ...   \n7115  0.0  0.0    0.0  0.0   0.0      0.0     0.0    0.0    0.0     0.0  ...   \n7116  0.0  0.0    0.0  0.0   0.0      0.0     0.0    0.0    0.0     0.0  ...   \n7117  0.0  0.0    0.0  0.0   0.0      0.0     0.0    0.0    0.0     0.0  ...   \n7118  0.0  0.0    0.0  0.0   0.0      0.0     0.0    0.0    0.0     0.0  ...   \n\n           490       491       492       493       494       495       496  \\\n0    -0.405638 -0.525770  0.349060 -0.502317  0.141123  0.172526  0.056857   \n1    -1.012434 -1.443212  0.998376 -1.200342  0.010007  0.474560 -0.046026   \n2    -0.212059 -0.310462  0.231165 -0.158136 -0.031955  0.080302 -0.006068   \n3    -0.268973 -0.554847  0.385598 -0.248943  0.005781  0.129741 -0.011721   \n4    -0.103728 -0.140989  0.097617 -0.099130 -0.075470  0.122045 -0.015062   \n...        ...       ...       ...       ...       ...       ...       ...   \n7114 -0.166809 -0.349046  0.244090 -0.209724 -0.080448  0.058905 -0.061709   \n7115 -0.271664 -0.511994  0.356131 -0.402972  0.033014  0.105582 -0.049060   \n7116 -0.160238 -0.231339  0.169995 -0.143637 -0.027222  0.197019  0.000785   \n7117 -0.202620 -0.394500  0.180779 -0.315387 -0.058280  0.149369  0.071951   \n7118 -0.095773 -0.727054  0.394616 -0.298851 -0.080380  0.099562  0.086673   \n\n           497       498       499  \n0     0.198121  1.138062  0.104694  \n1     0.636429  2.756346  0.194841  \n2     0.196109  0.395653  0.060915  \n3     0.322807  0.908218 -0.175054  \n4     0.006836  0.225041  0.021941  \n...        ...       ...       ...  \n7114  0.070529  0.434063 -0.012607  \n7115  0.278642  0.855066 -0.057368  \n7116  0.082005  0.453127  0.037701  \n7117  0.102214  0.492521  0.116166  \n7118  0.157616  0.789677 -0.225129  \n\n[7119 rows x 5866 columns]",
      "text/html": "<div>\n<style scoped>\n    .dataframe tbody tr th:only-of-type {\n        vertical-align: middle;\n    }\n\n    .dataframe tbody tr th {\n        vertical-align: top;\n    }\n\n    .dataframe thead th {\n        text-align: right;\n    }\n</style>\n<table border=\"1\" class=\"dataframe\">\n  <thead>\n    <tr style=\"text-align: right;\">\n      <th></th>\n      <th>aa</th>\n      <th>aaa</th>\n      <th>aampr</th>\n      <th>ab</th>\n      <th>abco</th>\n      <th>abdomin</th>\n      <th>ablack</th>\n      <th>abmat</th>\n      <th>abras</th>\n      <th>absorb</th>\n      <th>...</th>\n      <th>490</th>\n      <th>491</th>\n      <th>492</th>\n      <th>493</th>\n      <th>494</th>\n      <th>495</th>\n      <th>496</th>\n      <th>497</th>\n      <th>498</th>\n      <th>499</th>\n    </tr>\n  </thead>\n  <tbody>\n    <tr>\n      <th>0</th>\n      <td>0.0</td>\n      <td>0.0</td>\n      <td>0.0</td>\n      <td>0.0</td>\n      <td>0.0</td>\n      <td>0.0</td>\n      <td>0.0</td>\n      <td>0.0</td>\n      <td>0.0</td>\n      <td>0.0</td>\n      <td>...</td>\n      <td>-0.405638</td>\n      <td>-0.525770</td>\n      <td>0.349060</td>\n      <td>-0.502317</td>\n      <td>0.141123</td>\n      <td>0.172526</td>\n      <td>0.056857</td>\n      <td>0.198121</td>\n      <td>1.138062</td>\n      <td>0.104694</td>\n    </tr>\n    <tr>\n      <th>1</th>\n      <td>0.0</td>\n      <td>0.0</td>\n      <td>0.0</td>\n      <td>0.0</td>\n      <td>0.0</td>\n      <td>0.0</td>\n      <td>0.0</td>\n      <td>0.0</td>\n      <td>0.0</td>\n      <td>0.0</td>\n      <td>...</td>\n      <td>-1.012434</td>\n      <td>-1.443212</td>\n      <td>0.998376</td>\n      <td>-1.200342</td>\n      <td>0.010007</td>\n      <td>0.474560</td>\n      <td>-0.046026</td>\n      <td>0.636429</td>\n      <td>2.756346</td>\n      <td>0.194841</td>\n    </tr>\n    <tr>\n      <th>2</th>\n      <td>0.0</td>\n      <td>0.0</td>\n      <td>0.0</td>\n      <td>0.0</td>\n      <td>0.0</td>\n      <td>0.0</td>\n      <td>0.0</td>\n      <td>0.0</td>\n      <td>0.0</td>\n      <td>0.0</td>\n      <td>...</td>\n      <td>-0.212059</td>\n      <td>-0.310462</td>\n      <td>0.231165</td>\n      <td>-0.158136</td>\n      <td>-0.031955</td>\n      <td>0.080302</td>\n      <td>-0.006068</td>\n      <td>0.196109</td>\n      <td>0.395653</td>\n      <td>0.060915</td>\n    </tr>\n    <tr>\n      <th>3</th>\n      <td>0.0</td>\n      <td>0.0</td>\n      <td>0.0</td>\n      <td>0.0</td>\n      <td>0.0</td>\n      <td>0.0</td>\n      <td>0.0</td>\n      <td>0.0</td>\n      <td>0.0</td>\n      <td>0.0</td>\n      <td>...</td>\n      <td>-0.268973</td>\n      <td>-0.554847</td>\n      <td>0.385598</td>\n      <td>-0.248943</td>\n      <td>0.005781</td>\n      <td>0.129741</td>\n      <td>-0.011721</td>\n      <td>0.322807</td>\n      <td>0.908218</td>\n      <td>-0.175054</td>\n    </tr>\n    <tr>\n      <th>4</th>\n      <td>0.0</td>\n      <td>0.0</td>\n      <td>0.0</td>\n      <td>0.0</td>\n      <td>0.0</td>\n      <td>0.0</td>\n      <td>0.0</td>\n      <td>0.0</td>\n      <td>0.0</td>\n      <td>0.0</td>\n      <td>...</td>\n      <td>-0.103728</td>\n      <td>-0.140989</td>\n      <td>0.097617</td>\n      <td>-0.099130</td>\n      <td>-0.075470</td>\n      <td>0.122045</td>\n      <td>-0.015062</td>\n      <td>0.006836</td>\n      <td>0.225041</td>\n      <td>0.021941</td>\n    </tr>\n    <tr>\n      <th>...</th>\n      <td>...</td>\n      <td>...</td>\n      <td>...</td>\n      <td>...</td>\n      <td>...</td>\n      <td>...</td>\n      <td>...</td>\n      <td>...</td>\n      <td>...</td>\n      <td>...</td>\n      <td>...</td>\n      <td>...</td>\n      <td>...</td>\n      <td>...</td>\n      <td>...</td>\n      <td>...</td>\n      <td>...</td>\n      <td>...</td>\n      <td>...</td>\n      <td>...</td>\n      <td>...</td>\n    </tr>\n    <tr>\n      <th>7114</th>\n      <td>0.0</td>\n      <td>0.0</td>\n      <td>0.0</td>\n      <td>0.0</td>\n      <td>0.0</td>\n      <td>0.0</td>\n      <td>0.0</td>\n      <td>0.0</td>\n      <td>0.0</td>\n      <td>0.0</td>\n      <td>...</td>\n      <td>-0.166809</td>\n      <td>-0.349046</td>\n      <td>0.244090</td>\n      <td>-0.209724</td>\n      <td>-0.080448</td>\n      <td>0.058905</td>\n      <td>-0.061709</td>\n      <td>0.070529</td>\n      <td>0.434063</td>\n      <td>-0.012607</td>\n    </tr>\n    <tr>\n      <th>7115</th>\n      <td>0.0</td>\n      <td>0.0</td>\n      <td>0.0</td>\n      <td>0.0</td>\n      <td>0.0</td>\n      <td>0.0</td>\n      <td>0.0</td>\n      <td>0.0</td>\n      <td>0.0</td>\n      <td>0.0</td>\n      <td>...</td>\n      <td>-0.271664</td>\n      <td>-0.511994</td>\n      <td>0.356131</td>\n      <td>-0.402972</td>\n      <td>0.033014</td>\n      <td>0.105582</td>\n      <td>-0.049060</td>\n      <td>0.278642</td>\n      <td>0.855066</td>\n      <td>-0.057368</td>\n    </tr>\n    <tr>\n      <th>7116</th>\n      <td>0.0</td>\n      <td>0.0</td>\n      <td>0.0</td>\n      <td>0.0</td>\n      <td>0.0</td>\n      <td>0.0</td>\n      <td>0.0</td>\n      <td>0.0</td>\n      <td>0.0</td>\n      <td>0.0</td>\n      <td>...</td>\n      <td>-0.160238</td>\n      <td>-0.231339</td>\n      <td>0.169995</td>\n      <td>-0.143637</td>\n      <td>-0.027222</td>\n      <td>0.197019</td>\n      <td>0.000785</td>\n      <td>0.082005</td>\n      <td>0.453127</td>\n      <td>0.037701</td>\n    </tr>\n    <tr>\n      <th>7117</th>\n      <td>0.0</td>\n      <td>0.0</td>\n      <td>0.0</td>\n      <td>0.0</td>\n      <td>0.0</td>\n      <td>0.0</td>\n      <td>0.0</td>\n      <td>0.0</td>\n      <td>0.0</td>\n      <td>0.0</td>\n      <td>...</td>\n      <td>-0.202620</td>\n      <td>-0.394500</td>\n      <td>0.180779</td>\n      <td>-0.315387</td>\n      <td>-0.058280</td>\n      <td>0.149369</td>\n      <td>0.071951</td>\n      <td>0.102214</td>\n      <td>0.492521</td>\n      <td>0.116166</td>\n    </tr>\n    <tr>\n      <th>7118</th>\n      <td>0.0</td>\n      <td>0.0</td>\n      <td>0.0</td>\n      <td>0.0</td>\n      <td>0.0</td>\n      <td>0.0</td>\n      <td>0.0</td>\n      <td>0.0</td>\n      <td>0.0</td>\n      <td>0.0</td>\n      <td>...</td>\n      <td>-0.095773</td>\n      <td>-0.727054</td>\n      <td>0.394616</td>\n      <td>-0.298851</td>\n      <td>-0.080380</td>\n      <td>0.099562</td>\n      <td>0.086673</td>\n      <td>0.157616</td>\n      <td>0.789677</td>\n      <td>-0.225129</td>\n    </tr>\n  </tbody>\n</table>\n<p>7119 rows × 5866 columns</p>\n</div>"
     },
     "metadata": {},
     "execution_count": 30
    }
   ],
   "source": [
    "df_content = pd.concat([weighted_vector_text,df_embeddings.reindex(weighted_vector_text.index)],axis=1)\n",
    "df_content"
   ]
  },
  {
   "cell_type": "code",
   "execution_count": 34,
   "metadata": {},
   "outputs": [
    {
     "data": {
      "text/plain": [
       "'PEET Shoe Dryer Original M97-OL Shoe Dryer (Discontinued by MFG 2009)'"
      ]
     },
     "execution_count": 34,
     "metadata": {},
     "output_type": "execute_result"
    }
   ],
   "source": [
    "df_items['title'][100]"
   ]
  },
  {
   "cell_type": "code",
   "execution_count": 31,
   "metadata": {},
   "outputs": [
    {
     "output_type": "execute_result",
     "data": {
      "text/plain": "                0         1         2         3         4         5     \\\nasin                                                                     \n7245456275  1.000000  0.990707  0.894628  0.944026  0.844255  0.936244   \n7245456313  0.990707  1.000000  0.915256  0.957313  0.861166  0.949174   \nB00003G4JR  0.894628  0.915256  1.000000  0.917477  0.802677  0.914208   \nB00004NKIQ  0.944026  0.957313  0.917477  1.000000  0.829423  0.990296   \nB00004SYN6  0.844255  0.861166  0.802677  0.829423  1.000000  0.811397   \n...              ...       ...       ...       ...       ...       ...   \nB01HCU3NTU  0.922848  0.941079  0.866071  0.922088  0.844565  0.910627   \nB01HD17S3A  0.957394  0.971941  0.897930  0.954732  0.855439  0.946898   \nB01HE0PMFQ  0.919546  0.938011  0.857529  0.899495  0.842161  0.895254   \nB01HEYYKLO  0.938470  0.944346  0.871469  0.929227  0.822696  0.920757   \nB01HHB2HK0  0.919535  0.935539  0.851894  0.918295  0.830773  0.913480   \n\n                6         7         8         9     ...      7109      7110  \\\nasin                                                ...                       \n7245456275  0.954546  0.923256  0.933817  0.886625  ...  0.906149  0.934028   \n7245456313  0.968895  0.935284  0.943843  0.895503  ...  0.910845  0.954299   \nB00003G4JR  0.909479  0.877389  0.889635  0.818643  ...  0.823549  0.878836   \nB00004NKIQ  0.954897  0.926435  0.945042  0.882839  ...  0.856704  0.925150   \nB00004SYN6  0.871603  0.834466  0.830371  0.783508  ...  0.824639  0.845772   \n...              ...       ...       ...       ...  ...       ...       ...   \nB01HCU3NTU  0.953828  0.906163  0.917293  0.874640  ...  0.867532  0.924070   \nB01HD17S3A  0.966520  0.940175  0.950572  0.914886  ...  0.893850  0.959345   \nB01HE0PMFQ  0.929240  0.894705  0.892180  0.868580  ...  0.892869  0.934300   \nB01HEYYKLO  0.956346  0.915411  0.926221  0.890407  ...  0.896786  0.911895   \nB01HHB2HK0  0.934318  0.939170  0.942079  0.891562  ...  0.846460  0.944808   \n\n                7111      7112      7113      7114      7115      7116  \\\nasin                                                                     \n7245456275  0.893142  0.945366  0.898417  0.922848  0.957394  0.919546   \n7245456313  0.904270  0.947116  0.901333  0.941079  0.971941  0.938011   \nB00003G4JR  0.880303  0.845495  0.859261  0.866071  0.897930  0.857529   \nB00004NKIQ  0.935922  0.909784  0.879667  0.922088  0.954732  0.899495   \nB00004SYN6  0.790722  0.839365  0.792656  0.844565  0.855439  0.842161   \n...              ...       ...       ...       ...       ...       ...   \nB01HCU3NTU  0.873521  0.905977  0.844415  1.000000  0.945170  0.901135   \nB01HD17S3A  0.904628  0.925497  0.893558  0.945170  1.000000  0.930577   \nB01HE0PMFQ  0.847040  0.887103  0.864281  0.901135  0.930577  1.000000   \nB01HEYYKLO  0.888138  0.922178  0.888162  0.921807  0.941371  0.891644   \nB01HHB2HK0  0.866438  0.883763  0.844029  0.915810  0.947124  0.905053   \n\n                7117      7118  \nasin                            \n7245456275  0.938470  0.919535  \n7245456313  0.944346  0.935539  \nB00003G4JR  0.871469  0.851894  \nB00004NKIQ  0.929227  0.918295  \nB00004SYN6  0.822696  0.830773  \n...              ...       ...  \nB01HCU3NTU  0.921807  0.915810  \nB01HD17S3A  0.941371  0.947124  \nB01HE0PMFQ  0.891644  0.905053  \nB01HEYYKLO  1.000000  0.909421  \nB01HHB2HK0  0.909421  1.000000  \n\n[7119 rows x 7119 columns]",
      "text/html": "<div>\n<style scoped>\n    .dataframe tbody tr th:only-of-type {\n        vertical-align: middle;\n    }\n\n    .dataframe tbody tr th {\n        vertical-align: top;\n    }\n\n    .dataframe thead th {\n        text-align: right;\n    }\n</style>\n<table border=\"1\" class=\"dataframe\">\n  <thead>\n    <tr style=\"text-align: right;\">\n      <th></th>\n      <th>0</th>\n      <th>1</th>\n      <th>2</th>\n      <th>3</th>\n      <th>4</th>\n      <th>5</th>\n      <th>6</th>\n      <th>7</th>\n      <th>8</th>\n      <th>9</th>\n      <th>...</th>\n      <th>7109</th>\n      <th>7110</th>\n      <th>7111</th>\n      <th>7112</th>\n      <th>7113</th>\n      <th>7114</th>\n      <th>7115</th>\n      <th>7116</th>\n      <th>7117</th>\n      <th>7118</th>\n    </tr>\n    <tr>\n      <th>asin</th>\n      <th></th>\n      <th></th>\n      <th></th>\n      <th></th>\n      <th></th>\n      <th></th>\n      <th></th>\n      <th></th>\n      <th></th>\n      <th></th>\n      <th></th>\n      <th></th>\n      <th></th>\n      <th></th>\n      <th></th>\n      <th></th>\n      <th></th>\n      <th></th>\n      <th></th>\n      <th></th>\n      <th></th>\n    </tr>\n  </thead>\n  <tbody>\n    <tr>\n      <th>7245456275</th>\n      <td>1.000000</td>\n      <td>0.990707</td>\n      <td>0.894628</td>\n      <td>0.944026</td>\n      <td>0.844255</td>\n      <td>0.936244</td>\n      <td>0.954546</td>\n      <td>0.923256</td>\n      <td>0.933817</td>\n      <td>0.886625</td>\n      <td>...</td>\n      <td>0.906149</td>\n      <td>0.934028</td>\n      <td>0.893142</td>\n      <td>0.945366</td>\n      <td>0.898417</td>\n      <td>0.922848</td>\n      <td>0.957394</td>\n      <td>0.919546</td>\n      <td>0.938470</td>\n      <td>0.919535</td>\n    </tr>\n    <tr>\n      <th>7245456313</th>\n      <td>0.990707</td>\n      <td>1.000000</td>\n      <td>0.915256</td>\n      <td>0.957313</td>\n      <td>0.861166</td>\n      <td>0.949174</td>\n      <td>0.968895</td>\n      <td>0.935284</td>\n      <td>0.943843</td>\n      <td>0.895503</td>\n      <td>...</td>\n      <td>0.910845</td>\n      <td>0.954299</td>\n      <td>0.904270</td>\n      <td>0.947116</td>\n      <td>0.901333</td>\n      <td>0.941079</td>\n      <td>0.971941</td>\n      <td>0.938011</td>\n      <td>0.944346</td>\n      <td>0.935539</td>\n    </tr>\n    <tr>\n      <th>B00003G4JR</th>\n      <td>0.894628</td>\n      <td>0.915256</td>\n      <td>1.000000</td>\n      <td>0.917477</td>\n      <td>0.802677</td>\n      <td>0.914208</td>\n      <td>0.909479</td>\n      <td>0.877389</td>\n      <td>0.889635</td>\n      <td>0.818643</td>\n      <td>...</td>\n      <td>0.823549</td>\n      <td>0.878836</td>\n      <td>0.880303</td>\n      <td>0.845495</td>\n      <td>0.859261</td>\n      <td>0.866071</td>\n      <td>0.897930</td>\n      <td>0.857529</td>\n      <td>0.871469</td>\n      <td>0.851894</td>\n    </tr>\n    <tr>\n      <th>B00004NKIQ</th>\n      <td>0.944026</td>\n      <td>0.957313</td>\n      <td>0.917477</td>\n      <td>1.000000</td>\n      <td>0.829423</td>\n      <td>0.990296</td>\n      <td>0.954897</td>\n      <td>0.926435</td>\n      <td>0.945042</td>\n      <td>0.882839</td>\n      <td>...</td>\n      <td>0.856704</td>\n      <td>0.925150</td>\n      <td>0.935922</td>\n      <td>0.909784</td>\n      <td>0.879667</td>\n      <td>0.922088</td>\n      <td>0.954732</td>\n      <td>0.899495</td>\n      <td>0.929227</td>\n      <td>0.918295</td>\n    </tr>\n    <tr>\n      <th>B00004SYN6</th>\n      <td>0.844255</td>\n      <td>0.861166</td>\n      <td>0.802677</td>\n      <td>0.829423</td>\n      <td>1.000000</td>\n      <td>0.811397</td>\n      <td>0.871603</td>\n      <td>0.834466</td>\n      <td>0.830371</td>\n      <td>0.783508</td>\n      <td>...</td>\n      <td>0.824639</td>\n      <td>0.845772</td>\n      <td>0.790722</td>\n      <td>0.839365</td>\n      <td>0.792656</td>\n      <td>0.844565</td>\n      <td>0.855439</td>\n      <td>0.842161</td>\n      <td>0.822696</td>\n      <td>0.830773</td>\n    </tr>\n    <tr>\n      <th>...</th>\n      <td>...</td>\n      <td>...</td>\n      <td>...</td>\n      <td>...</td>\n      <td>...</td>\n      <td>...</td>\n      <td>...</td>\n      <td>...</td>\n      <td>...</td>\n      <td>...</td>\n      <td>...</td>\n      <td>...</td>\n      <td>...</td>\n      <td>...</td>\n      <td>...</td>\n      <td>...</td>\n      <td>...</td>\n      <td>...</td>\n      <td>...</td>\n      <td>...</td>\n      <td>...</td>\n    </tr>\n    <tr>\n      <th>B01HCU3NTU</th>\n      <td>0.922848</td>\n      <td>0.941079</td>\n      <td>0.866071</td>\n      <td>0.922088</td>\n      <td>0.844565</td>\n      <td>0.910627</td>\n      <td>0.953828</td>\n      <td>0.906163</td>\n      <td>0.917293</td>\n      <td>0.874640</td>\n      <td>...</td>\n      <td>0.867532</td>\n      <td>0.924070</td>\n      <td>0.873521</td>\n      <td>0.905977</td>\n      <td>0.844415</td>\n      <td>1.000000</td>\n      <td>0.945170</td>\n      <td>0.901135</td>\n      <td>0.921807</td>\n      <td>0.915810</td>\n    </tr>\n    <tr>\n      <th>B01HD17S3A</th>\n      <td>0.957394</td>\n      <td>0.971941</td>\n      <td>0.897930</td>\n      <td>0.954732</td>\n      <td>0.855439</td>\n      <td>0.946898</td>\n      <td>0.966520</td>\n      <td>0.940175</td>\n      <td>0.950572</td>\n      <td>0.914886</td>\n      <td>...</td>\n      <td>0.893850</td>\n      <td>0.959345</td>\n      <td>0.904628</td>\n      <td>0.925497</td>\n      <td>0.893558</td>\n      <td>0.945170</td>\n      <td>1.000000</td>\n      <td>0.930577</td>\n      <td>0.941371</td>\n      <td>0.947124</td>\n    </tr>\n    <tr>\n      <th>B01HE0PMFQ</th>\n      <td>0.919546</td>\n      <td>0.938011</td>\n      <td>0.857529</td>\n      <td>0.899495</td>\n      <td>0.842161</td>\n      <td>0.895254</td>\n      <td>0.929240</td>\n      <td>0.894705</td>\n      <td>0.892180</td>\n      <td>0.868580</td>\n      <td>...</td>\n      <td>0.892869</td>\n      <td>0.934300</td>\n      <td>0.847040</td>\n      <td>0.887103</td>\n      <td>0.864281</td>\n      <td>0.901135</td>\n      <td>0.930577</td>\n      <td>1.000000</td>\n      <td>0.891644</td>\n      <td>0.905053</td>\n    </tr>\n    <tr>\n      <th>B01HEYYKLO</th>\n      <td>0.938470</td>\n      <td>0.944346</td>\n      <td>0.871469</td>\n      <td>0.929227</td>\n      <td>0.822696</td>\n      <td>0.920757</td>\n      <td>0.956346</td>\n      <td>0.915411</td>\n      <td>0.926221</td>\n      <td>0.890407</td>\n      <td>...</td>\n      <td>0.896786</td>\n      <td>0.911895</td>\n      <td>0.888138</td>\n      <td>0.922178</td>\n      <td>0.888162</td>\n      <td>0.921807</td>\n      <td>0.941371</td>\n      <td>0.891644</td>\n      <td>1.000000</td>\n      <td>0.909421</td>\n    </tr>\n    <tr>\n      <th>B01HHB2HK0</th>\n      <td>0.919535</td>\n      <td>0.935539</td>\n      <td>0.851894</td>\n      <td>0.918295</td>\n      <td>0.830773</td>\n      <td>0.913480</td>\n      <td>0.934318</td>\n      <td>0.939170</td>\n      <td>0.942079</td>\n      <td>0.891562</td>\n      <td>...</td>\n      <td>0.846460</td>\n      <td>0.944808</td>\n      <td>0.866438</td>\n      <td>0.883763</td>\n      <td>0.844029</td>\n      <td>0.915810</td>\n      <td>0.947124</td>\n      <td>0.905053</td>\n      <td>0.909421</td>\n      <td>1.000000</td>\n    </tr>\n  </tbody>\n</table>\n<p>7119 rows × 7119 columns</p>\n</div>"
     },
     "metadata": {},
     "execution_count": 31
    }
   ],
   "source": [
    "recom_content = ContentRecommender()\n",
    "recom_content.fit(df_content.values, titles = df_items_text['asin'])"
   ]
  },
  {
   "cell_type": "code",
   "execution_count": 32,
   "metadata": {},
   "outputs": [
    {
     "output_type": "execute_result",
     "data": {
      "text/plain": "array(['B01BBTS3JI', 'B007UT3OFC', 'B00C2NQ6XS', 'B00PRVLMK4',\n       'B00457SRBI'], dtype=object)"
     },
     "metadata": {},
     "execution_count": 32
    }
   ],
   "source": [
    "recom_content.get_recommendations(item='B01HCU3NTU')"
   ]
  }
 ],
 "metadata": {
  "kernelspec": {
   "display_name": "Python 3",
   "language": "python",
   "name": "python3"
  },
  "language_info": {
   "codemirror_mode": {
    "name": "ipython",
    "version": 3
   },
   "file_extension": ".py",
   "mimetype": "text/x-python",
   "name": "python",
   "nbconvert_exporter": "python",
   "pygments_lexer": "ipython3",
   "version": "3.7.6-final"
  }
 },
 "nbformat": 4,
 "nbformat_minor": 4
}