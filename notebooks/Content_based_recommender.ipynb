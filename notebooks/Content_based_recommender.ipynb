{
 "cells": [
  {
   "cell_type": "markdown",
   "metadata": {},
   "source": [
    "## NLP \n",
    "I use AWS to performe my NLP processing"
   ]
  },
  {
   "cell_type": "code",
   "execution_count": 1,
   "metadata": {},
   "outputs": [],
   "source": [
    "import boto3\n",
    "import pandas as pd\n",
    "import numpy as np\n",
    "import sys\n",
    "from io import StringIO"
   ]
  },
  {
   "cell_type": "code",
   "execution_count": 2,
   "metadata": {},
   "outputs": [],
   "source": [
    "sys.path.insert(1, '../src')\n",
    "from NLP import nlp_process\n",
    "from Content_recommender import ContentRecommender"
   ]
  },
  {
   "cell_type": "code",
   "execution_count": 3,
   "metadata": {},
   "outputs": [],
   "source": [
    "%load_ext autoreload\n",
    "%autoreload 2"
   ]
  },
  {
   "cell_type": "code",
   "execution_count": 4,
   "metadata": {},
   "outputs": [],
   "source": [
    "%reload_ext autoreload"
   ]
  },
  {
   "cell_type": "code",
   "execution_count": 5,
   "metadata": {},
   "outputs": [],
   "source": [
    "s3 = boto3.client('s3')"
   ]
  },
  {
   "cell_type": "code",
   "execution_count": 6,
   "metadata": {},
   "outputs": [],
   "source": [
    "df_all_15 = pd.read_csv(\"s3://recommender-system-amazon/df_all_15_text.csv\")"
   ]
  },
  {
   "cell_type": "code",
   "execution_count": 7,
   "metadata": {},
   "outputs": [
    {
     "output_type": "execute_result",
     "data": {
      "text/plain": "(370252, 21)"
     },
     "metadata": {},
     "execution_count": 7
    }
   ],
   "source": [
    "df_all_15.shape"
   ]
  },
  {
   "cell_type": "code",
   "execution_count": 8,
   "metadata": {},
   "outputs": [
    {
     "output_type": "execute_result",
     "data": {
      "text/plain": "   Unnamed: 0                                           category  \\\n0           0  ['Sports & Outdoors', 'Outdoor Recreation', 'C...   \n1           1  ['Sports & Outdoors', 'Outdoor Recreation', 'C...   \n2           2  ['Sports & Outdoors', 'Outdoor Recreation', 'C...   \n3           3  ['Sports & Outdoors', 'Outdoor Recreation', 'C...   \n4           4  ['Sports & Outdoors', 'Outdoor Recreation', 'C...   \n\n                                         description  \\\n0  ['Find your way through New York while hitting...   \n1  ['Find your way through New York while hitting...   \n2  ['Find your way through New York while hitting...   \n3  [\"Rely on delorme ATLAS & gazetteer paper maps...   \n4  [\"Rely on delorme ATLAS & gazetteer paper maps...   \n\n                                               title  \\\n0       Delorme New York State Atlas &amp; Gazetteer   \n1       Delorme New York State Atlas &amp; Gazetteer   \n2       Delorme New York State Atlas &amp; Gazetteer   \n3  Garmin DeLorme Atlas &amp; Gazetteer Paper Map...   \n4  Garmin DeLorme Atlas &amp; Gazetteer Paper Map...   \n\n                                            also_buy  \\\n0  ['0899334415', '0899334431', '0899333419', '08...   \n1  ['0899334415', '0899334431', '0899333419', '08...   \n2  ['0899334415', '0899334431', '0899333419', '08...   \n3  ['0899334482', '0899334474', '0899333834', '19...   \n4  ['0899334482', '0899334474', '0899333834', '19...   \n\n                                             image_x   brand  \\\n0  ['https://images-na.ssl-images-amazon.com/imag...  Garmin   \n1  ['https://images-na.ssl-images-amazon.com/imag...  Garmin   \n2  ['https://images-na.ssl-images-amazon.com/imag...  Garmin   \n3  ['https://images-na.ssl-images-amazon.com/imag...  Garmin   \n4  ['https://images-na.ssl-images-amazon.com/imag...  Garmin   \n\n                                             feature  \\\n0  ['Amazingly detailed and beautifully crafted, ...   \n1  ['Amazingly detailed and beautifully crafted, ...   \n2  ['Amazingly detailed and beautifully crafted, ...   \n3  ['Amazingly detailed and beautifully crafted, ...   \n4  ['Amazingly detailed and beautifully crafted, ...   \n\n                                                rank  \\\n0                       121,074 in Office Products (   \n1                       121,074 in Office Products (   \n2                       121,074 in Office Products (   \n3  ['>#84,484 in Office Products (See top 100)', ...   \n4  ['>#84,484 in Office Products (See top 100)', ...   \n\n                                           also_view  ...   price        asin  \\\n0  ['0528881922', '1569145792', '0899334431', '08...  ...  $19.95  0899332757   \n1  ['0528881922', '1569145792', '0899334431', '08...  ...  $19.95  0899332757   \n2  ['0528881922', '1569145792', '0899334431', '08...  ...  $19.95  0899332757   \n3                                                 []  ...  $21.96  0899333257   \n4                                                 []  ...  $21.96  0899333257   \n\n  overall  verified                                         reviewText  \\\n0     5.0     False  your interest explor area new york beyond metr...   \n1     4.0      True                  wonder comprehens atla littl larg   \n2     5.0      True         great product fast deliveri need rv travel   \n3     5.0      True  delorm atla us state theyr amaz detail accur e...   \n4     5.0     False  first delorm atla gazett ever purchas year ago...   \n\n                                            summary unixReviewTime  \\\n0  Great for exploring the rural parts of the state     1470009600   \n1                                        Four Stars     1438646400   \n2                                            Super!     1432771200   \n3                    Necessary for off grid camping     1505260800   \n4                          Don't explore without it     1470614400   \n\n                       style  \\\n0  {'Format:': ' Paperback'}   \n1  {'Format:': ' Paperback'}   \n2  {'Format:': ' Paperback'}   \n3  {'Format:': ' Paperback'}   \n4                              \n\n                                           item_text  \\\n0  garmingreat explor rural part stateformat pape...   \n1                   garminfour starsformat paperback   \n2                        garminsuperformat paperback   \n3       garminnecessari grid campingformat paperback   \n4                          garmindont explor without   \n\n                                         title_nlp  \n0            delorm new york state atla amp gazett  \n1            delorm new york state atla amp gazett  \n2            delorm new york state atla amp gazett  \n3  garmin delorm atla amp gazett paper map arizona  \n4  garmin delorm atla amp gazett paper map arizona  \n\n[5 rows x 21 columns]",
      "text/html": "<div>\n<style scoped>\n    .dataframe tbody tr th:only-of-type {\n        vertical-align: middle;\n    }\n\n    .dataframe tbody tr th {\n        vertical-align: top;\n    }\n\n    .dataframe thead th {\n        text-align: right;\n    }\n</style>\n<table border=\"1\" class=\"dataframe\">\n  <thead>\n    <tr style=\"text-align: right;\">\n      <th></th>\n      <th>Unnamed: 0</th>\n      <th>category</th>\n      <th>description</th>\n      <th>title</th>\n      <th>also_buy</th>\n      <th>image_x</th>\n      <th>brand</th>\n      <th>feature</th>\n      <th>rank</th>\n      <th>also_view</th>\n      <th>...</th>\n      <th>price</th>\n      <th>asin</th>\n      <th>overall</th>\n      <th>verified</th>\n      <th>reviewText</th>\n      <th>summary</th>\n      <th>unixReviewTime</th>\n      <th>style</th>\n      <th>item_text</th>\n      <th>title_nlp</th>\n    </tr>\n  </thead>\n  <tbody>\n    <tr>\n      <th>0</th>\n      <td>0</td>\n      <td>['Sports &amp; Outdoors', 'Outdoor Recreation', 'C...</td>\n      <td>['Find your way through New York while hitting...</td>\n      <td>Delorme New York State Atlas &amp;amp; Gazetteer</td>\n      <td>['0899334415', '0899334431', '0899333419', '08...</td>\n      <td>['https://images-na.ssl-images-amazon.com/imag...</td>\n      <td>Garmin</td>\n      <td>['Amazingly detailed and beautifully crafted, ...</td>\n      <td>121,074 in Office Products (</td>\n      <td>['0528881922', '1569145792', '0899334431', '08...</td>\n      <td>...</td>\n      <td>$19.95</td>\n      <td>0899332757</td>\n      <td>5.0</td>\n      <td>False</td>\n      <td>your interest explor area new york beyond metr...</td>\n      <td>Great for exploring the rural parts of the state</td>\n      <td>1470009600</td>\n      <td>{'Format:': ' Paperback'}</td>\n      <td>garmingreat explor rural part stateformat pape...</td>\n      <td>delorm new york state atla amp gazett</td>\n    </tr>\n    <tr>\n      <th>1</th>\n      <td>1</td>\n      <td>['Sports &amp; Outdoors', 'Outdoor Recreation', 'C...</td>\n      <td>['Find your way through New York while hitting...</td>\n      <td>Delorme New York State Atlas &amp;amp; Gazetteer</td>\n      <td>['0899334415', '0899334431', '0899333419', '08...</td>\n      <td>['https://images-na.ssl-images-amazon.com/imag...</td>\n      <td>Garmin</td>\n      <td>['Amazingly detailed and beautifully crafted, ...</td>\n      <td>121,074 in Office Products (</td>\n      <td>['0528881922', '1569145792', '0899334431', '08...</td>\n      <td>...</td>\n      <td>$19.95</td>\n      <td>0899332757</td>\n      <td>4.0</td>\n      <td>True</td>\n      <td>wonder comprehens atla littl larg</td>\n      <td>Four Stars</td>\n      <td>1438646400</td>\n      <td>{'Format:': ' Paperback'}</td>\n      <td>garminfour starsformat paperback</td>\n      <td>delorm new york state atla amp gazett</td>\n    </tr>\n    <tr>\n      <th>2</th>\n      <td>2</td>\n      <td>['Sports &amp; Outdoors', 'Outdoor Recreation', 'C...</td>\n      <td>['Find your way through New York while hitting...</td>\n      <td>Delorme New York State Atlas &amp;amp; Gazetteer</td>\n      <td>['0899334415', '0899334431', '0899333419', '08...</td>\n      <td>['https://images-na.ssl-images-amazon.com/imag...</td>\n      <td>Garmin</td>\n      <td>['Amazingly detailed and beautifully crafted, ...</td>\n      <td>121,074 in Office Products (</td>\n      <td>['0528881922', '1569145792', '0899334431', '08...</td>\n      <td>...</td>\n      <td>$19.95</td>\n      <td>0899332757</td>\n      <td>5.0</td>\n      <td>True</td>\n      <td>great product fast deliveri need rv travel</td>\n      <td>Super!</td>\n      <td>1432771200</td>\n      <td>{'Format:': ' Paperback'}</td>\n      <td>garminsuperformat paperback</td>\n      <td>delorm new york state atla amp gazett</td>\n    </tr>\n    <tr>\n      <th>3</th>\n      <td>3</td>\n      <td>['Sports &amp; Outdoors', 'Outdoor Recreation', 'C...</td>\n      <td>[\"Rely on delorme ATLAS &amp; gazetteer paper maps...</td>\n      <td>Garmin DeLorme Atlas &amp;amp; Gazetteer Paper Map...</td>\n      <td>['0899334482', '0899334474', '0899333834', '19...</td>\n      <td>['https://images-na.ssl-images-amazon.com/imag...</td>\n      <td>Garmin</td>\n      <td>['Amazingly detailed and beautifully crafted, ...</td>\n      <td>['&gt;#84,484 in Office Products (See top 100)', ...</td>\n      <td>[]</td>\n      <td>...</td>\n      <td>$21.96</td>\n      <td>0899333257</td>\n      <td>5.0</td>\n      <td>True</td>\n      <td>delorm atla us state theyr amaz detail accur e...</td>\n      <td>Necessary for off grid camping</td>\n      <td>1505260800</td>\n      <td>{'Format:': ' Paperback'}</td>\n      <td>garminnecessari grid campingformat paperback</td>\n      <td>garmin delorm atla amp gazett paper map arizona</td>\n    </tr>\n    <tr>\n      <th>4</th>\n      <td>4</td>\n      <td>['Sports &amp; Outdoors', 'Outdoor Recreation', 'C...</td>\n      <td>[\"Rely on delorme ATLAS &amp; gazetteer paper maps...</td>\n      <td>Garmin DeLorme Atlas &amp;amp; Gazetteer Paper Map...</td>\n      <td>['0899334482', '0899334474', '0899333834', '19...</td>\n      <td>['https://images-na.ssl-images-amazon.com/imag...</td>\n      <td>Garmin</td>\n      <td>['Amazingly detailed and beautifully crafted, ...</td>\n      <td>['&gt;#84,484 in Office Products (See top 100)', ...</td>\n      <td>[]</td>\n      <td>...</td>\n      <td>$21.96</td>\n      <td>0899333257</td>\n      <td>5.0</td>\n      <td>False</td>\n      <td>first delorm atla gazett ever purchas year ago...</td>\n      <td>Don't explore without it</td>\n      <td>1470614400</td>\n      <td></td>\n      <td>garmindont explor without</td>\n      <td>garmin delorm atla amp gazett paper map arizona</td>\n    </tr>\n  </tbody>\n</table>\n<p>5 rows × 21 columns</p>\n</div>"
     },
     "metadata": {},
     "execution_count": 8
    }
   ],
   "source": [
    "df_all_15.head(5)"
   ]
  },
  {
   "cell_type": "code",
   "execution_count": 9,
   "metadata": {},
   "outputs": [],
   "source": [
    "df_all_15 = df_all_15[~(df_all_15['title_nlp'].isna())]\n",
    "df_all_15 = df_all_15[~(df_all_15['item_text'].isna())]\n",
    "df_all_15 = df_all_15[~(df_all_15['reviewText'].isna())]\n",
    "                         "
   ]
  },
  {
   "cell_type": "code",
   "execution_count": 10,
   "metadata": {},
   "outputs": [
    {
     "output_type": "execute_result",
     "data": {
      "text/plain": "(369155, 21)"
     },
     "metadata": {},
     "execution_count": 10
    }
   ],
   "source": [
    "df_all_15.shape"
   ]
  },
  {
   "cell_type": "code",
   "execution_count": 11,
   "metadata": {},
   "outputs": [],
   "source": [
    "df_items = df_all_15.groupby(['asin', 'title','title_nlp','image_x'])['item_text'].apply(lambda x: ' '.join(x)).reset_index()"
   ]
  },
  {
   "cell_type": "code",
   "execution_count": 22,
   "metadata": {},
   "outputs": [
    {
     "output_type": "execute_result",
     "data": {
      "text/plain": "             asin                                              title  \\\n0      0899332757       Delorme New York State Atlas &amp; Gazetteer   \n1      0899333257  Garmin DeLorme Atlas &amp; Gazetteer Paper Map...   \n2      0971100764   BenchMaster Pocket Guide - Fly Fishing - Fishing   \n3      3843518912                   Spooner Boards Freestyle - Green   \n4      7245456275  Black Mountain Products Single Resistance Band...   \n...           ...                                                ...   \n56346  B01HJA7KWE  MEILAIER UV Fishing Mask Moisture Wicking Head...   \n56347  B01HJDGJ1E  Soft Cooling Towel for Instant Relief, 48inch ...   \n56348  B01HJDHNX2  Cycling Computers- Wireless Bike Speedometer a...   \n56349  B01HJDZ34I                               Columbia Bora booney   \n56350  B01HJGAJ9O                  2XU Men's Core Compression Shorts   \n\n                                               title_nlp  \\\n0                  delorm new york state atla amp gazett   \n1        garmin delorm atla amp gazett paper map arizona   \n2                    benchmast pocket guid fli fish fish   \n3                           spooner board freestyl green   \n4      black mountain product singl resist band door ...   \n...                                                  ...   \n56346  meilaier uv fish mask moistur wick headband se...   \n56347  soft cool towel instant relief extra long natu...   \n56348  cycl comput wireless bike speedomet odometerwa...   \n56349                               columbia bora booney   \n56350                            men core compress short   \n\n                                                 image_x  \\\n0      ['https://images-na.ssl-images-amazon.com/imag...   \n1      ['https://images-na.ssl-images-amazon.com/imag...   \n2      ['https://images-na.ssl-images-amazon.com/imag...   \n3      ['https://images-na.ssl-images-amazon.com/imag...   \n4      ['https://images-na.ssl-images-amazon.com/imag...   \n...                                                  ...   \n56346  ['https://images-na.ssl-images-amazon.com/imag...   \n56347  ['https://images-na.ssl-images-amazon.com/imag...   \n56348  ['https://images-na.ssl-images-amazon.com/imag...   \n56349  ['https://images-na.ssl-images-amazon.com/imag...   \n56350  ['https://images-na.ssl-images-amazon.com/imag...   \n\n                                               item_text  \n0      garmingreat explor rural part stateformat pape...  \n1      garminnecessari grid campingformat paperback g...  \n2      pocket guidesbut make great stock stufferforma...  \n3      spooner boardsgreat old spooner boardsa good a...  \n4      black mountainfour starscolor black black moun...  \n...                                                  ...  \n56346  great headband great pricecolor style greatcol...  \n56347  pusdonexcel length good colorscolor bamboo cha...  \n56348  nice cycl comput great tool peopl realli like ...  \n56349  columbiadec hat work well normal duti needssiz...  \n56350                    cyclings medium color blackwhit  \n\n[56351 rows x 5 columns]",
      "text/html": "<div>\n<style scoped>\n    .dataframe tbody tr th:only-of-type {\n        vertical-align: middle;\n    }\n\n    .dataframe tbody tr th {\n        vertical-align: top;\n    }\n\n    .dataframe thead th {\n        text-align: right;\n    }\n</style>\n<table border=\"1\" class=\"dataframe\">\n  <thead>\n    <tr style=\"text-align: right;\">\n      <th></th>\n      <th>asin</th>\n      <th>title</th>\n      <th>title_nlp</th>\n      <th>image_x</th>\n      <th>item_text</th>\n    </tr>\n  </thead>\n  <tbody>\n    <tr>\n      <th>0</th>\n      <td>0899332757</td>\n      <td>Delorme New York State Atlas &amp;amp; Gazetteer</td>\n      <td>delorm new york state atla amp gazett</td>\n      <td>['https://images-na.ssl-images-amazon.com/imag...</td>\n      <td>garmingreat explor rural part stateformat pape...</td>\n    </tr>\n    <tr>\n      <th>1</th>\n      <td>0899333257</td>\n      <td>Garmin DeLorme Atlas &amp;amp; Gazetteer Paper Map...</td>\n      <td>garmin delorm atla amp gazett paper map arizona</td>\n      <td>['https://images-na.ssl-images-amazon.com/imag...</td>\n      <td>garminnecessari grid campingformat paperback g...</td>\n    </tr>\n    <tr>\n      <th>2</th>\n      <td>0971100764</td>\n      <td>BenchMaster Pocket Guide - Fly Fishing - Fishing</td>\n      <td>benchmast pocket guid fli fish fish</td>\n      <td>['https://images-na.ssl-images-amazon.com/imag...</td>\n      <td>pocket guidesbut make great stock stufferforma...</td>\n    </tr>\n    <tr>\n      <th>3</th>\n      <td>3843518912</td>\n      <td>Spooner Boards Freestyle - Green</td>\n      <td>spooner board freestyl green</td>\n      <td>['https://images-na.ssl-images-amazon.com/imag...</td>\n      <td>spooner boardsgreat old spooner boardsa good a...</td>\n    </tr>\n    <tr>\n      <th>4</th>\n      <td>7245456275</td>\n      <td>Black Mountain Products Single Resistance Band...</td>\n      <td>black mountain product singl resist band door ...</td>\n      <td>['https://images-na.ssl-images-amazon.com/imag...</td>\n      <td>black mountainfour starscolor black black moun...</td>\n    </tr>\n    <tr>\n      <th>...</th>\n      <td>...</td>\n      <td>...</td>\n      <td>...</td>\n      <td>...</td>\n      <td>...</td>\n    </tr>\n    <tr>\n      <th>56346</th>\n      <td>B01HJA7KWE</td>\n      <td>MEILAIER UV Fishing Mask Moisture Wicking Head...</td>\n      <td>meilaier uv fish mask moistur wick headband se...</td>\n      <td>['https://images-na.ssl-images-amazon.com/imag...</td>\n      <td>great headband great pricecolor style greatcol...</td>\n    </tr>\n    <tr>\n      <th>56347</th>\n      <td>B01HJDGJ1E</td>\n      <td>Soft Cooling Towel for Instant Relief, 48inch ...</td>\n      <td>soft cool towel instant relief extra long natu...</td>\n      <td>['https://images-na.ssl-images-amazon.com/imag...</td>\n      <td>pusdonexcel length good colorscolor bamboo cha...</td>\n    </tr>\n    <tr>\n      <th>56348</th>\n      <td>B01HJDHNX2</td>\n      <td>Cycling Computers- Wireless Bike Speedometer a...</td>\n      <td>cycl comput wireless bike speedomet odometerwa...</td>\n      <td>['https://images-na.ssl-images-amazon.com/imag...</td>\n      <td>nice cycl comput great tool peopl realli like ...</td>\n    </tr>\n    <tr>\n      <th>56349</th>\n      <td>B01HJDZ34I</td>\n      <td>Columbia Bora booney</td>\n      <td>columbia bora booney</td>\n      <td>['https://images-na.ssl-images-amazon.com/imag...</td>\n      <td>columbiadec hat work well normal duti needssiz...</td>\n    </tr>\n    <tr>\n      <th>56350</th>\n      <td>B01HJGAJ9O</td>\n      <td>2XU Men's Core Compression Shorts</td>\n      <td>men core compress short</td>\n      <td>['https://images-na.ssl-images-amazon.com/imag...</td>\n      <td>cyclings medium color blackwhit</td>\n    </tr>\n  </tbody>\n</table>\n<p>56351 rows × 5 columns</p>\n</div>"
     },
     "metadata": {},
     "execution_count": 22
    }
   ],
   "source": [
    "df_items"
   ]
  },
  {
   "cell_type": "code",
   "execution_count": 12,
   "metadata": {},
   "outputs": [
    {
     "output_type": "execute_result",
     "data": {
      "text/plain": "[{'Name': 'recommender-system-amazon',\n  'CreationDate': datetime.datetime(2020, 9, 14, 18, 7, 18, tzinfo=tzlocal())}]"
     },
     "metadata": {},
     "execution_count": 12
    }
   ],
   "source": [
    "s3.list_buckets()['Buckets']"
   ]
  },
  {
   "cell_type": "code",
   "execution_count": 13,
   "metadata": {},
   "outputs": [
    {
     "output_type": "execute_result",
     "data": {
      "text/plain": "{'ResponseMetadata': {'RequestId': 'CP1X3T2XFX0H2XCT',\n  'HostId': 'i6psuVPWJXKLjUXR045uzCdhMnfqw55zVs/t3Bzs35L5XjVbnJ/a9LrjXNDk4Qfp+NtshfjCL4I=',\n  'HTTPStatusCode': 200,\n  'HTTPHeaders': {'x-amz-id-2': 'i6psuVPWJXKLjUXR045uzCdhMnfqw55zVs/t3Bzs35L5XjVbnJ/a9LrjXNDk4Qfp+NtshfjCL4I=',\n   'x-amz-request-id': 'CP1X3T2XFX0H2XCT',\n   'date': 'Wed, 16 Sep 2020 17:10:48 GMT',\n   'etag': '\"4872fcad402193e555bf3e2b752bf079\"',\n   'content-length': '0',\n   'server': 'AmazonS3'},\n  'RetryAttempts': 0},\n 'ETag': '\"4872fcad402193e555bf3e2b752bf079\"'}"
     },
     "metadata": {},
     "execution_count": 13
    }
   ],
   "source": [
    "bucket = 'recommender-system-amazon' \n",
    "csv_buffer = StringIO()\n",
    "df_items.to_csv(csv_buffer)\n",
    "s3_resource = boto3.resource('s3')\n",
    "s3_resource.Object(bucket, 'df_items.csv').put(Body=csv_buffer.getvalue())"
   ]
  },
  {
   "cell_type": "markdown",
   "metadata": {},
   "source": [
    "## Process text and title_nlp separately"
   ]
  },
  {
   "cell_type": "code",
   "execution_count": 23,
   "metadata": {},
   "outputs": [],
   "source": [
    "vectorizer_text, df_text = nlp_process(df_items['item_text'],max_features = None)"
   ]
  },
  {
   "cell_type": "code",
   "execution_count": 24,
   "metadata": {},
   "outputs": [
    {
     "output_type": "execute_result",
     "data": {
      "text/plain": "        ab  abl  absolut  absorb  abu  access  accessori  accur  accuraci  \\\n0      0.0  0.0      0.0     0.0  0.0     0.0        0.0    0.0       0.0   \n1      0.0  0.0      0.0     0.0  0.0     0.0        0.0    0.0       0.0   \n2      0.0  0.0      0.0     0.0  0.0     0.0        0.0    0.0       0.0   \n3      0.0  0.0      0.0     0.0  0.0     0.0        0.0    0.0       0.0   \n4      0.0  0.0      0.0     0.0  0.0     0.0        0.0    0.0       0.0   \n...    ...  ...      ...     ...  ...     ...        ...    ...       ...   \n56346  0.0  0.0      0.0     0.0  0.0     0.0        0.0    0.0       0.0   \n56347  0.0  0.0      0.0     0.0  0.0     0.0        0.0    0.0       0.0   \n56348  0.0  0.0      0.0     0.0  0.0     0.0        0.0    0.0       0.0   \n56349  0.0  0.0      0.0     0.0  0.0     0.0        0.0    0.0       0.0   \n56350  0.0  0.0      0.0     0.0  0.0     0.0        0.0    0.0       0.0   \n\n       ace  ...  youll  young  younger  yousiz  youth   yr  zero  zip  zipper  \\\n0      0.0  ...    0.0    0.0      0.0     0.0    0.0  0.0   0.0  0.0     0.0   \n1      0.0  ...    0.0    0.0      0.0     0.0    0.0  0.0   0.0  0.0     0.0   \n2      0.0  ...    0.0    0.0      0.0     0.0    0.0  0.0   0.0  0.0     0.0   \n3      0.0  ...    0.0    0.0      0.0     0.0    0.0  0.0   0.0  0.0     0.0   \n4      0.0  ...    0.0    0.0      0.0     0.0    0.0  0.0   0.0  0.0     0.0   \n...    ...  ...    ...    ...      ...     ...    ...  ...   ...  ...     ...   \n56346  0.0  ...    0.0    0.0      0.0     0.0    0.0  0.0   0.0  0.0     0.0   \n56347  0.0  ...    0.0    0.0      0.0     0.0    0.0  0.0   0.0  0.0     0.0   \n56348  0.0  ...    0.0    0.0      0.0     0.0    0.0  0.0   0.0  0.0     0.0   \n56349  0.0  ...    0.0    0.0      0.0     0.0    0.0  0.0   0.0  0.0     0.0   \n56350  0.0  ...    0.0    0.0      0.0     0.0    0.0  0.0   0.0  0.0     0.0   \n\n       zombi  \n0        0.0  \n1        0.0  \n2        0.0  \n3        0.0  \n4        0.0  \n...      ...  \n56346    0.0  \n56347    0.0  \n56348    0.0  \n56349    0.0  \n56350    0.0  \n\n[56351 rows x 2012 columns]",
      "text/html": "<div>\n<style scoped>\n    .dataframe tbody tr th:only-of-type {\n        vertical-align: middle;\n    }\n\n    .dataframe tbody tr th {\n        vertical-align: top;\n    }\n\n    .dataframe thead th {\n        text-align: right;\n    }\n</style>\n<table border=\"1\" class=\"dataframe\">\n  <thead>\n    <tr style=\"text-align: right;\">\n      <th></th>\n      <th>ab</th>\n      <th>abl</th>\n      <th>absolut</th>\n      <th>absorb</th>\n      <th>abu</th>\n      <th>access</th>\n      <th>accessori</th>\n      <th>accur</th>\n      <th>accuraci</th>\n      <th>ace</th>\n      <th>...</th>\n      <th>youll</th>\n      <th>young</th>\n      <th>younger</th>\n      <th>yousiz</th>\n      <th>youth</th>\n      <th>yr</th>\n      <th>zero</th>\n      <th>zip</th>\n      <th>zipper</th>\n      <th>zombi</th>\n    </tr>\n  </thead>\n  <tbody>\n    <tr>\n      <th>0</th>\n      <td>0.0</td>\n      <td>0.0</td>\n      <td>0.0</td>\n      <td>0.0</td>\n      <td>0.0</td>\n      <td>0.0</td>\n      <td>0.0</td>\n      <td>0.0</td>\n      <td>0.0</td>\n      <td>0.0</td>\n      <td>...</td>\n      <td>0.0</td>\n      <td>0.0</td>\n      <td>0.0</td>\n      <td>0.0</td>\n      <td>0.0</td>\n      <td>0.0</td>\n      <td>0.0</td>\n      <td>0.0</td>\n      <td>0.0</td>\n      <td>0.0</td>\n    </tr>\n    <tr>\n      <th>1</th>\n      <td>0.0</td>\n      <td>0.0</td>\n      <td>0.0</td>\n      <td>0.0</td>\n      <td>0.0</td>\n      <td>0.0</td>\n      <td>0.0</td>\n      <td>0.0</td>\n      <td>0.0</td>\n      <td>0.0</td>\n      <td>...</td>\n      <td>0.0</td>\n      <td>0.0</td>\n      <td>0.0</td>\n      <td>0.0</td>\n      <td>0.0</td>\n      <td>0.0</td>\n      <td>0.0</td>\n      <td>0.0</td>\n      <td>0.0</td>\n      <td>0.0</td>\n    </tr>\n    <tr>\n      <th>2</th>\n      <td>0.0</td>\n      <td>0.0</td>\n      <td>0.0</td>\n      <td>0.0</td>\n      <td>0.0</td>\n      <td>0.0</td>\n      <td>0.0</td>\n      <td>0.0</td>\n      <td>0.0</td>\n      <td>0.0</td>\n      <td>...</td>\n      <td>0.0</td>\n      <td>0.0</td>\n      <td>0.0</td>\n      <td>0.0</td>\n      <td>0.0</td>\n      <td>0.0</td>\n      <td>0.0</td>\n      <td>0.0</td>\n      <td>0.0</td>\n      <td>0.0</td>\n    </tr>\n    <tr>\n      <th>3</th>\n      <td>0.0</td>\n      <td>0.0</td>\n      <td>0.0</td>\n      <td>0.0</td>\n      <td>0.0</td>\n      <td>0.0</td>\n      <td>0.0</td>\n      <td>0.0</td>\n      <td>0.0</td>\n      <td>0.0</td>\n      <td>...</td>\n      <td>0.0</td>\n      <td>0.0</td>\n      <td>0.0</td>\n      <td>0.0</td>\n      <td>0.0</td>\n      <td>0.0</td>\n      <td>0.0</td>\n      <td>0.0</td>\n      <td>0.0</td>\n      <td>0.0</td>\n    </tr>\n    <tr>\n      <th>4</th>\n      <td>0.0</td>\n      <td>0.0</td>\n      <td>0.0</td>\n      <td>0.0</td>\n      <td>0.0</td>\n      <td>0.0</td>\n      <td>0.0</td>\n      <td>0.0</td>\n      <td>0.0</td>\n      <td>0.0</td>\n      <td>...</td>\n      <td>0.0</td>\n      <td>0.0</td>\n      <td>0.0</td>\n      <td>0.0</td>\n      <td>0.0</td>\n      <td>0.0</td>\n      <td>0.0</td>\n      <td>0.0</td>\n      <td>0.0</td>\n      <td>0.0</td>\n    </tr>\n    <tr>\n      <th>...</th>\n      <td>...</td>\n      <td>...</td>\n      <td>...</td>\n      <td>...</td>\n      <td>...</td>\n      <td>...</td>\n      <td>...</td>\n      <td>...</td>\n      <td>...</td>\n      <td>...</td>\n      <td>...</td>\n      <td>...</td>\n      <td>...</td>\n      <td>...</td>\n      <td>...</td>\n      <td>...</td>\n      <td>...</td>\n      <td>...</td>\n      <td>...</td>\n      <td>...</td>\n      <td>...</td>\n    </tr>\n    <tr>\n      <th>56346</th>\n      <td>0.0</td>\n      <td>0.0</td>\n      <td>0.0</td>\n      <td>0.0</td>\n      <td>0.0</td>\n      <td>0.0</td>\n      <td>0.0</td>\n      <td>0.0</td>\n      <td>0.0</td>\n      <td>0.0</td>\n      <td>...</td>\n      <td>0.0</td>\n      <td>0.0</td>\n      <td>0.0</td>\n      <td>0.0</td>\n      <td>0.0</td>\n      <td>0.0</td>\n      <td>0.0</td>\n      <td>0.0</td>\n      <td>0.0</td>\n      <td>0.0</td>\n    </tr>\n    <tr>\n      <th>56347</th>\n      <td>0.0</td>\n      <td>0.0</td>\n      <td>0.0</td>\n      <td>0.0</td>\n      <td>0.0</td>\n      <td>0.0</td>\n      <td>0.0</td>\n      <td>0.0</td>\n      <td>0.0</td>\n      <td>0.0</td>\n      <td>...</td>\n      <td>0.0</td>\n      <td>0.0</td>\n      <td>0.0</td>\n      <td>0.0</td>\n      <td>0.0</td>\n      <td>0.0</td>\n      <td>0.0</td>\n      <td>0.0</td>\n      <td>0.0</td>\n      <td>0.0</td>\n    </tr>\n    <tr>\n      <th>56348</th>\n      <td>0.0</td>\n      <td>0.0</td>\n      <td>0.0</td>\n      <td>0.0</td>\n      <td>0.0</td>\n      <td>0.0</td>\n      <td>0.0</td>\n      <td>0.0</td>\n      <td>0.0</td>\n      <td>0.0</td>\n      <td>...</td>\n      <td>0.0</td>\n      <td>0.0</td>\n      <td>0.0</td>\n      <td>0.0</td>\n      <td>0.0</td>\n      <td>0.0</td>\n      <td>0.0</td>\n      <td>0.0</td>\n      <td>0.0</td>\n      <td>0.0</td>\n    </tr>\n    <tr>\n      <th>56349</th>\n      <td>0.0</td>\n      <td>0.0</td>\n      <td>0.0</td>\n      <td>0.0</td>\n      <td>0.0</td>\n      <td>0.0</td>\n      <td>0.0</td>\n      <td>0.0</td>\n      <td>0.0</td>\n      <td>0.0</td>\n      <td>...</td>\n      <td>0.0</td>\n      <td>0.0</td>\n      <td>0.0</td>\n      <td>0.0</td>\n      <td>0.0</td>\n      <td>0.0</td>\n      <td>0.0</td>\n      <td>0.0</td>\n      <td>0.0</td>\n      <td>0.0</td>\n    </tr>\n    <tr>\n      <th>56350</th>\n      <td>0.0</td>\n      <td>0.0</td>\n      <td>0.0</td>\n      <td>0.0</td>\n      <td>0.0</td>\n      <td>0.0</td>\n      <td>0.0</td>\n      <td>0.0</td>\n      <td>0.0</td>\n      <td>0.0</td>\n      <td>...</td>\n      <td>0.0</td>\n      <td>0.0</td>\n      <td>0.0</td>\n      <td>0.0</td>\n      <td>0.0</td>\n      <td>0.0</td>\n      <td>0.0</td>\n      <td>0.0</td>\n      <td>0.0</td>\n      <td>0.0</td>\n    </tr>\n  </tbody>\n</table>\n<p>56351 rows × 2012 columns</p>\n</div>"
     },
     "metadata": {},
     "execution_count": 24
    }
   ],
   "source": [
    "df_text"
   ]
  },
  {
   "cell_type": "code",
   "execution_count": 25,
   "metadata": {},
   "outputs": [],
   "source": [
    "vectorizer_title, df_title = nlp_process(df_items['title_nlp'],max_features = None)"
   ]
  },
  {
   "cell_type": "code",
   "execution_count": 26,
   "metadata": {},
   "outputs": [
    {
     "output_type": "execute_result",
     "data": {
      "text/plain": "        ab  abdomin  absorb  abu  accessori  ace  action  activ  adapt  \\\n0      0.0      0.0     0.0  0.0        0.0  0.0     0.0    0.0    0.0   \n1      0.0      0.0     0.0  0.0        0.0  0.0     0.0    0.0    0.0   \n2      0.0      0.0     0.0  0.0        0.0  0.0     0.0    0.0    0.0   \n3      0.0      0.0     0.0  0.0        0.0  0.0     0.0    0.0    0.0   \n4      0.0      0.0     0.0  0.0        0.0  0.0     0.0    0.0    0.0   \n...    ...      ...     ...  ...        ...  ...     ...    ...    ...   \n56346  0.0      0.0     0.0  0.0        0.0  0.0     0.0    0.0    0.0   \n56347  0.0      0.0     0.0  0.0        0.0  0.0     0.0    0.0    0.0   \n56348  0.0      0.0     0.0  0.0        0.0  0.0     0.0    0.0    0.0   \n56349  0.0      0.0     0.0  0.0        0.0  0.0     0.0    0.0    0.0   \n56350  0.0      0.0     0.0  0.0        0.0  0.0     0.0    0.0    0.0   \n\n       adaptor  ...  xtreme  yard  year  yellow      yoga  youth  zero  zip  \\\n0          0.0  ...     0.0   0.0   0.0     0.0  0.000000    0.0   0.0  0.0   \n1          0.0  ...     0.0   0.0   0.0     0.0  0.000000    0.0   0.0  0.0   \n2          0.0  ...     0.0   0.0   0.0     0.0  0.000000    0.0   0.0  0.0   \n3          0.0  ...     0.0   0.0   0.0     0.0  0.000000    0.0   0.0  0.0   \n4          0.0  ...     0.0   0.0   0.0     0.0  0.000000    0.0   0.0  0.0   \n...        ...  ...     ...   ...   ...     ...       ...    ...   ...  ...   \n56346      0.0  ...     0.0   0.0   0.0     0.0  0.000000    0.0   0.0  0.0   \n56347      0.0  ...     0.0   0.0   0.0     0.0  0.153724    0.0   0.0  0.0   \n56348      0.0  ...     0.0   0.0   0.0     0.0  0.000000    0.0   0.0  0.0   \n56349      0.0  ...     0.0   0.0   0.0     0.0  0.000000    0.0   0.0  0.0   \n56350      0.0  ...     0.0   0.0   0.0     0.0  0.000000    0.0   0.0  0.0   \n\n       zipper  zone  \n0         0.0   0.0  \n1         0.0   0.0  \n2         0.0   0.0  \n3         0.0   0.0  \n4         0.0   0.0  \n...       ...   ...  \n56346     0.0   0.0  \n56347     0.0   0.0  \n56348     0.0   0.0  \n56349     0.0   0.0  \n56350     0.0   0.0  \n\n[56351 rows x 1401 columns]",
      "text/html": "<div>\n<style scoped>\n    .dataframe tbody tr th:only-of-type {\n        vertical-align: middle;\n    }\n\n    .dataframe tbody tr th {\n        vertical-align: top;\n    }\n\n    .dataframe thead th {\n        text-align: right;\n    }\n</style>\n<table border=\"1\" class=\"dataframe\">\n  <thead>\n    <tr style=\"text-align: right;\">\n      <th></th>\n      <th>ab</th>\n      <th>abdomin</th>\n      <th>absorb</th>\n      <th>abu</th>\n      <th>accessori</th>\n      <th>ace</th>\n      <th>action</th>\n      <th>activ</th>\n      <th>adapt</th>\n      <th>adaptor</th>\n      <th>...</th>\n      <th>xtreme</th>\n      <th>yard</th>\n      <th>year</th>\n      <th>yellow</th>\n      <th>yoga</th>\n      <th>youth</th>\n      <th>zero</th>\n      <th>zip</th>\n      <th>zipper</th>\n      <th>zone</th>\n    </tr>\n  </thead>\n  <tbody>\n    <tr>\n      <th>0</th>\n      <td>0.0</td>\n      <td>0.0</td>\n      <td>0.0</td>\n      <td>0.0</td>\n      <td>0.0</td>\n      <td>0.0</td>\n      <td>0.0</td>\n      <td>0.0</td>\n      <td>0.0</td>\n      <td>0.0</td>\n      <td>...</td>\n      <td>0.0</td>\n      <td>0.0</td>\n      <td>0.0</td>\n      <td>0.0</td>\n      <td>0.000000</td>\n      <td>0.0</td>\n      <td>0.0</td>\n      <td>0.0</td>\n      <td>0.0</td>\n      <td>0.0</td>\n    </tr>\n    <tr>\n      <th>1</th>\n      <td>0.0</td>\n      <td>0.0</td>\n      <td>0.0</td>\n      <td>0.0</td>\n      <td>0.0</td>\n      <td>0.0</td>\n      <td>0.0</td>\n      <td>0.0</td>\n      <td>0.0</td>\n      <td>0.0</td>\n      <td>...</td>\n      <td>0.0</td>\n      <td>0.0</td>\n      <td>0.0</td>\n      <td>0.0</td>\n      <td>0.000000</td>\n      <td>0.0</td>\n      <td>0.0</td>\n      <td>0.0</td>\n      <td>0.0</td>\n      <td>0.0</td>\n    </tr>\n    <tr>\n      <th>2</th>\n      <td>0.0</td>\n      <td>0.0</td>\n      <td>0.0</td>\n      <td>0.0</td>\n      <td>0.0</td>\n      <td>0.0</td>\n      <td>0.0</td>\n      <td>0.0</td>\n      <td>0.0</td>\n      <td>0.0</td>\n      <td>...</td>\n      <td>0.0</td>\n      <td>0.0</td>\n      <td>0.0</td>\n      <td>0.0</td>\n      <td>0.000000</td>\n      <td>0.0</td>\n      <td>0.0</td>\n      <td>0.0</td>\n      <td>0.0</td>\n      <td>0.0</td>\n    </tr>\n    <tr>\n      <th>3</th>\n      <td>0.0</td>\n      <td>0.0</td>\n      <td>0.0</td>\n      <td>0.0</td>\n      <td>0.0</td>\n      <td>0.0</td>\n      <td>0.0</td>\n      <td>0.0</td>\n      <td>0.0</td>\n      <td>0.0</td>\n      <td>...</td>\n      <td>0.0</td>\n      <td>0.0</td>\n      <td>0.0</td>\n      <td>0.0</td>\n      <td>0.000000</td>\n      <td>0.0</td>\n      <td>0.0</td>\n      <td>0.0</td>\n      <td>0.0</td>\n      <td>0.0</td>\n    </tr>\n    <tr>\n      <th>4</th>\n      <td>0.0</td>\n      <td>0.0</td>\n      <td>0.0</td>\n      <td>0.0</td>\n      <td>0.0</td>\n      <td>0.0</td>\n      <td>0.0</td>\n      <td>0.0</td>\n      <td>0.0</td>\n      <td>0.0</td>\n      <td>...</td>\n      <td>0.0</td>\n      <td>0.0</td>\n      <td>0.0</td>\n      <td>0.0</td>\n      <td>0.000000</td>\n      <td>0.0</td>\n      <td>0.0</td>\n      <td>0.0</td>\n      <td>0.0</td>\n      <td>0.0</td>\n    </tr>\n    <tr>\n      <th>...</th>\n      <td>...</td>\n      <td>...</td>\n      <td>...</td>\n      <td>...</td>\n      <td>...</td>\n      <td>...</td>\n      <td>...</td>\n      <td>...</td>\n      <td>...</td>\n      <td>...</td>\n      <td>...</td>\n      <td>...</td>\n      <td>...</td>\n      <td>...</td>\n      <td>...</td>\n      <td>...</td>\n      <td>...</td>\n      <td>...</td>\n      <td>...</td>\n      <td>...</td>\n      <td>...</td>\n    </tr>\n    <tr>\n      <th>56346</th>\n      <td>0.0</td>\n      <td>0.0</td>\n      <td>0.0</td>\n      <td>0.0</td>\n      <td>0.0</td>\n      <td>0.0</td>\n      <td>0.0</td>\n      <td>0.0</td>\n      <td>0.0</td>\n      <td>0.0</td>\n      <td>...</td>\n      <td>0.0</td>\n      <td>0.0</td>\n      <td>0.0</td>\n      <td>0.0</td>\n      <td>0.000000</td>\n      <td>0.0</td>\n      <td>0.0</td>\n      <td>0.0</td>\n      <td>0.0</td>\n      <td>0.0</td>\n    </tr>\n    <tr>\n      <th>56347</th>\n      <td>0.0</td>\n      <td>0.0</td>\n      <td>0.0</td>\n      <td>0.0</td>\n      <td>0.0</td>\n      <td>0.0</td>\n      <td>0.0</td>\n      <td>0.0</td>\n      <td>0.0</td>\n      <td>0.0</td>\n      <td>...</td>\n      <td>0.0</td>\n      <td>0.0</td>\n      <td>0.0</td>\n      <td>0.0</td>\n      <td>0.153724</td>\n      <td>0.0</td>\n      <td>0.0</td>\n      <td>0.0</td>\n      <td>0.0</td>\n      <td>0.0</td>\n    </tr>\n    <tr>\n      <th>56348</th>\n      <td>0.0</td>\n      <td>0.0</td>\n      <td>0.0</td>\n      <td>0.0</td>\n      <td>0.0</td>\n      <td>0.0</td>\n      <td>0.0</td>\n      <td>0.0</td>\n      <td>0.0</td>\n      <td>0.0</td>\n      <td>...</td>\n      <td>0.0</td>\n      <td>0.0</td>\n      <td>0.0</td>\n      <td>0.0</td>\n      <td>0.000000</td>\n      <td>0.0</td>\n      <td>0.0</td>\n      <td>0.0</td>\n      <td>0.0</td>\n      <td>0.0</td>\n    </tr>\n    <tr>\n      <th>56349</th>\n      <td>0.0</td>\n      <td>0.0</td>\n      <td>0.0</td>\n      <td>0.0</td>\n      <td>0.0</td>\n      <td>0.0</td>\n      <td>0.0</td>\n      <td>0.0</td>\n      <td>0.0</td>\n      <td>0.0</td>\n      <td>...</td>\n      <td>0.0</td>\n      <td>0.0</td>\n      <td>0.0</td>\n      <td>0.0</td>\n      <td>0.000000</td>\n      <td>0.0</td>\n      <td>0.0</td>\n      <td>0.0</td>\n      <td>0.0</td>\n      <td>0.0</td>\n    </tr>\n    <tr>\n      <th>56350</th>\n      <td>0.0</td>\n      <td>0.0</td>\n      <td>0.0</td>\n      <td>0.0</td>\n      <td>0.0</td>\n      <td>0.0</td>\n      <td>0.0</td>\n      <td>0.0</td>\n      <td>0.0</td>\n      <td>0.0</td>\n      <td>...</td>\n      <td>0.0</td>\n      <td>0.0</td>\n      <td>0.0</td>\n      <td>0.0</td>\n      <td>0.000000</td>\n      <td>0.0</td>\n      <td>0.0</td>\n      <td>0.0</td>\n      <td>0.0</td>\n      <td>0.0</td>\n    </tr>\n  </tbody>\n</table>\n<p>56351 rows × 1401 columns</p>\n</div>"
     },
     "metadata": {},
     "execution_count": 26
    }
   ],
   "source": [
    "df_title"
   ]
  },
  {
   "cell_type": "code",
   "execution_count": 43,
   "metadata": {},
   "outputs": [
    {
     "data": {
      "text/plain": [
       "{'ResponseMetadata': {'RequestId': '5AC3EF2111EFC682',\n",
       "  'HostId': 'Etxo8aEwhTbv3RtEoAdmgHuvkGoicyD0sauY9JB1+Qplz43W1uPYmmPrHfZv886kyqS8BGGNiIA=',\n",
       "  'HTTPStatusCode': 200,\n",
       "  'HTTPHeaders': {'x-amz-id-2': 'Etxo8aEwhTbv3RtEoAdmgHuvkGoicyD0sauY9JB1+Qplz43W1uPYmmPrHfZv886kyqS8BGGNiIA=',\n",
       "   'x-amz-request-id': '5AC3EF2111EFC682',\n",
       "   'date': 'Tue, 15 Sep 2020 22:23:02 GMT',\n",
       "   'etag': '\"543ed8010cef492b570033d276c42157\"',\n",
       "   'content-length': '0',\n",
       "   'server': 'AmazonS3'},\n",
       "  'RetryAttempts': 0},\n",
       " 'ETag': '\"543ed8010cef492b570033d276c42157\"'}"
      ]
     },
     "execution_count": 43,
     "metadata": {},
     "output_type": "execute_result"
    }
   ],
   "source": [
    "df_text.to_csv(csv_buffer)\n",
    "s3_resource.Object(bucket, 'df_text.csv').put(Body=csv_buffer.getvalue())"
   ]
  },
  {
   "cell_type": "code",
   "execution_count": 44,
   "metadata": {},
   "outputs": [
    {
     "data": {
      "text/plain": [
       "{'ResponseMetadata': {'RequestId': '603B2578A56B7906',\n",
       "  'HostId': 'M8ivFyAOgn4CGKj96f/Yd0FArJO+2xZzmjqOF/8NHgNrWqLlFYdzqfBBi027vY98dM/lEyvq658=',\n",
       "  'HTTPStatusCode': 200,\n",
       "  'HTTPHeaders': {'x-amz-id-2': 'M8ivFyAOgn4CGKj96f/Yd0FArJO+2xZzmjqOF/8NHgNrWqLlFYdzqfBBi027vY98dM/lEyvq658=',\n",
       "   'x-amz-request-id': '603B2578A56B7906',\n",
       "   'date': 'Tue, 15 Sep 2020 22:23:32 GMT',\n",
       "   'etag': '\"a21e770cfc2d06614b0058846c8f82f6\"',\n",
       "   'content-length': '0',\n",
       "   'server': 'AmazonS3'},\n",
       "  'RetryAttempts': 0},\n",
       " 'ETag': '\"a21e770cfc2d06614b0058846c8f82f6\"'}"
      ]
     },
     "execution_count": 44,
     "metadata": {},
     "output_type": "execute_result"
    }
   ],
   "source": [
    "df_title.to_csv(csv_buffer)\n",
    "s3_resource.Object(bucket, 'df_title.csv').put(Body=csv_buffer.getvalue())"
   ]
  },
  {
   "source": [
    "### Combine tile and context with a specific weight"
   ],
   "cell_type": "markdown",
   "metadata": {}
  },
  {
   "cell_type": "code",
   "execution_count": 27,
   "metadata": {},
   "outputs": [],
   "source": [
    "def weighted_vector(content_matrix, title_matrix, alpha):\n",
    "    content_matrix = content_matrix * alpha\n",
    "    title_matrix = title_matrix * (1-alpha)\n",
    "    return content_matrix.add(title_matrix, fill_value=0)"
   ]
  },
  {
   "cell_type": "code",
   "execution_count": 28,
   "metadata": {},
   "outputs": [],
   "source": [
    "weighted_vector = weighted_vector(df_text, df_title, .9)\n"
   ]
  },
  {
   "cell_type": "code",
   "execution_count": 29,
   "metadata": {},
   "outputs": [
    {
     "output_type": "execute_result",
     "data": {
      "text/plain": "(56351, 2516)"
     },
     "metadata": {},
     "execution_count": 29
    }
   ],
   "source": [
    "weighted_vector.shape"
   ]
  },
  {
   "cell_type": "code",
   "execution_count": 34,
   "metadata": {},
   "outputs": [
    {
     "output_type": "execute_result",
     "data": {
      "text/plain": "'PEET Shoe Dryer Original M97-OL Shoe Dryer (Discontinued by MFG 2009)'"
     },
     "metadata": {},
     "execution_count": 34
    }
   ],
   "source": [
    "df_items['title'][100]"
   ]
  },
  {
   "source": [
    "news_recommender = ContentRecommender()\n",
    "news_recommender.fit(weighted_vector.values, titles = df_items['title'])"
   ],
   "cell_type": "code",
   "metadata": {},
   "execution_count": 31,
   "outputs": [
    {
     "output_type": "execute_result",
     "data": {
      "text/plain": "                                                       0         1      \\\ntitle                                                                    \nDelorme New York State Atlas &amp; Gazetteer        1.000000  0.027495   \nGarmin DeLorme Atlas &amp; Gazetteer Paper Maps...  0.027495  1.000000   \nBenchMaster Pocket Guide - Fly Fishing - Fishing    0.000000  0.000000   \nSpooner Boards Freestyle - Green                    0.000000  0.000000   \nBlack Mountain Products Single Resistance Band ...  0.000000  0.000000   \n...                                                      ...       ...   \nMEILAIER UV Fishing Mask Moisture Wicking Headb...  0.000000  0.000000   \nSoft Cooling Towel for Instant Relief, 48inch E...  0.007543  0.000600   \nCycling Computers- Wireless Bike Speedometer an...  0.000000  0.000000   \nColumbia Bora booney                                0.000000  0.000000   \n2XU Men's Core Compression Shorts                   0.000000  0.000000   \n\n                                                       2         3      \\\ntitle                                                                    \nDelorme New York State Atlas &amp; Gazetteer        0.000000  0.000000   \nGarmin DeLorme Atlas &amp; Gazetteer Paper Maps...  0.000000  0.000000   \nBenchMaster Pocket Guide - Fly Fishing - Fishing    1.000000  0.000000   \nSpooner Boards Freestyle - Green                    0.000000  1.000000   \nBlack Mountain Products Single Resistance Band ...  0.019962  0.025442   \n...                                                      ...       ...   \nMEILAIER UV Fishing Mask Moisture Wicking Headb...  0.066368  0.000000   \nSoft Cooling Towel for Instant Relief, 48inch E...  0.000000  0.016131   \nCycling Computers- Wireless Bike Speedometer an...  0.025820  0.027239   \nColumbia Bora booney                                0.000000  0.000000   \n2XU Men's Core Compression Shorts                   0.000000  0.000000   \n\n                                                       4         5      \\\ntitle                                                                    \nDelorme New York State Atlas &amp; Gazetteer        0.000000  0.000000   \nGarmin DeLorme Atlas &amp; Gazetteer Paper Maps...  0.000000  0.000000   \nBenchMaster Pocket Guide - Fly Fishing - Fishing    0.019962  0.006680   \nSpooner Boards Freestyle - Green                    0.025442  0.011276   \nBlack Mountain Products Single Resistance Band ...  1.000000  0.684941   \n...                                                      ...       ...   \nMEILAIER UV Fishing Mask Moisture Wicking Headb...  0.051753  0.012481   \nSoft Cooling Towel for Instant Relief, 48inch E...  0.009856  0.013985   \nCycling Computers- Wireless Bike Speedometer an...  0.055259  0.035672   \nColumbia Bora booney                                0.116562  0.162465   \n2XU Men's Core Compression Shorts                   0.020251  0.000695   \n\n                                                       6         7      \\\ntitle                                                                    \nDelorme New York State Atlas &amp; Gazetteer        0.021078  0.000000   \nGarmin DeLorme Atlas &amp; Gazetteer Paper Maps...  0.000000  0.000000   \nBenchMaster Pocket Guide - Fly Fishing - Fishing    0.000000  0.000000   \nSpooner Boards Freestyle - Green                    0.000000  0.000000   \nBlack Mountain Products Single Resistance Band ...  0.149299  0.000000   \n...                                                      ...       ...   \nMEILAIER UV Fishing Mask Moisture Wicking Headb...  0.000000  0.000000   \nSoft Cooling Towel for Instant Relief, 48inch E...  0.000000  0.002626   \nCycling Computers- Wireless Bike Speedometer an...  0.000000  0.000000   \nColumbia Bora booney                                0.000000  0.005941   \n2XU Men's Core Compression Shorts                   0.000000  0.011688   \n\n                                                       8         9      ...  \\\ntitle                                                                   ...   \nDelorme New York State Atlas &amp; Gazetteer        0.000000  0.000000  ...   \nGarmin DeLorme Atlas &amp; Gazetteer Paper Maps...  0.000000  0.000000  ...   \nBenchMaster Pocket Guide - Fly Fishing - Fishing    0.000000  0.000000  ...   \nSpooner Boards Freestyle - Green                    0.000000  0.293637  ...   \nBlack Mountain Products Single Resistance Band ...  0.157911  0.000000  ...   \n...                                                      ...       ...  ...   \nMEILAIER UV Fishing Mask Moisture Wicking Headb...  0.000000  0.000000  ...   \nSoft Cooling Towel for Instant Relief, 48inch E...  0.000000  0.002363  ...   \nCycling Computers- Wireless Bike Speedometer an...  0.000000  0.000000  ...   \nColumbia Bora booney                                0.000000  0.005345  ...   \n2XU Men's Core Compression Shorts                   0.000000  0.010517  ...   \n\n                                                       56341     56342  56343  \\\ntitle                                                                           \nDelorme New York State Atlas &amp; Gazetteer        0.008367  0.000000    0.0   \nGarmin DeLorme Atlas &amp; Gazetteer Paper Maps...  0.000666  0.000000    0.0   \nBenchMaster Pocket Guide - Fly Fishing - Fishing    0.000000  0.000000    0.0   \nSpooner Boards Freestyle - Green                    0.000000  0.000000    0.0   \nBlack Mountain Products Single Resistance Band ...  0.000000  0.067953    0.0   \n...                                                      ...       ...    ...   \nMEILAIER UV Fishing Mask Moisture Wicking Headb...  0.000000  0.000000    0.0   \nSoft Cooling Towel for Instant Relief, 48inch E...  0.019673  0.014231    0.0   \nCycling Computers- Wireless Bike Speedometer an...  0.000000  0.013680    0.0   \nColumbia Bora booney                                0.043051  0.051156    0.0   \n2XU Men's Core Compression Shorts                   0.084705  0.063332    0.0   \n\n                                                       56344     56345  \\\ntitle                                                                    \nDelorme New York State Atlas &amp; Gazetteer        0.000000  0.005441   \nGarmin DeLorme Atlas &amp; Gazetteer Paper Maps...  0.000000  0.000433   \nBenchMaster Pocket Guide - Fly Fishing - Fishing    0.000000  0.000000   \nSpooner Boards Freestyle - Green                    0.000000  0.011681   \nBlack Mountain Products Single Resistance Band ...  0.000000  0.025163   \n...                                                      ...       ...   \nMEILAIER UV Fishing Mask Moisture Wicking Headb...  0.000000  0.000000   \nSoft Cooling Towel for Instant Relief, 48inch E...  0.000630  0.007395   \nCycling Computers- Wireless Bike Speedometer an...  0.000594  0.082826   \nColumbia Bora booney                                0.000000  0.000000   \n2XU Men's Core Compression Shorts                   0.000000  0.000000   \n\n                                                       56346     56347  \\\ntitle                                                                    \nDelorme New York State Atlas &amp; Gazetteer        0.000000  0.007543   \nGarmin DeLorme Atlas &amp; Gazetteer Paper Maps...  0.000000  0.000600   \nBenchMaster Pocket Guide - Fly Fishing - Fishing    0.066368  0.000000   \nSpooner Boards Freestyle - Green                    0.000000  0.016131   \nBlack Mountain Products Single Resistance Band ...  0.051753  0.009856   \n...                                                      ...       ...   \nMEILAIER UV Fishing Mask Moisture Wicking Headb...  1.000000  0.000335   \nSoft Cooling Towel for Instant Relief, 48inch E...  0.000335  1.000000   \nCycling Computers- Wireless Bike Speedometer an...  0.054683  0.012739   \nColumbia Bora booney                                0.000000  0.009764   \n2XU Men's Core Compression Shorts                   0.000000  0.019212   \n\n                                                       56348     56349  \\\ntitle                                                                    \nDelorme New York State Atlas &amp; Gazetteer        0.000000  0.000000   \nGarmin DeLorme Atlas &amp; Gazetteer Paper Maps...  0.000000  0.000000   \nBenchMaster Pocket Guide - Fly Fishing - Fishing    0.025820  0.000000   \nSpooner Boards Freestyle - Green                    0.027239  0.000000   \nBlack Mountain Products Single Resistance Band ...  0.055259  0.116562   \n...                                                      ...       ...   \nMEILAIER UV Fishing Mask Moisture Wicking Headb...  0.054683  0.000000   \nSoft Cooling Towel for Instant Relief, 48inch E...  0.012739  0.009764   \nCycling Computers- Wireless Bike Speedometer an...  1.000000  0.002678   \nColumbia Bora booney                                0.002678  1.000000   \n2XU Men's Core Compression Shorts                   0.000000  0.043454   \n\n                                                       56350  \ntitle                                                         \nDelorme New York State Atlas &amp; Gazetteer        0.000000  \nGarmin DeLorme Atlas &amp; Gazetteer Paper Maps...  0.000000  \nBenchMaster Pocket Guide - Fly Fishing - Fishing    0.000000  \nSpooner Boards Freestyle - Green                    0.000000  \nBlack Mountain Products Single Resistance Band ...  0.020251  \n...                                                      ...  \nMEILAIER UV Fishing Mask Moisture Wicking Headb...  0.000000  \nSoft Cooling Towel for Instant Relief, 48inch E...  0.019212  \nCycling Computers- Wireless Bike Speedometer an...  0.000000  \nColumbia Bora booney                                0.043454  \n2XU Men's Core Compression Shorts                   1.000000  \n\n[56351 rows x 56351 columns]",
      "text/html": "<div>\n<style scoped>\n    .dataframe tbody tr th:only-of-type {\n        vertical-align: middle;\n    }\n\n    .dataframe tbody tr th {\n        vertical-align: top;\n    }\n\n    .dataframe thead th {\n        text-align: right;\n    }\n</style>\n<table border=\"1\" class=\"dataframe\">\n  <thead>\n    <tr style=\"text-align: right;\">\n      <th></th>\n      <th>0</th>\n      <th>1</th>\n      <th>2</th>\n      <th>3</th>\n      <th>4</th>\n      <th>5</th>\n      <th>6</th>\n      <th>7</th>\n      <th>8</th>\n      <th>9</th>\n      <th>...</th>\n      <th>56341</th>\n      <th>56342</th>\n      <th>56343</th>\n      <th>56344</th>\n      <th>56345</th>\n      <th>56346</th>\n      <th>56347</th>\n      <th>56348</th>\n      <th>56349</th>\n      <th>56350</th>\n    </tr>\n    <tr>\n      <th>title</th>\n      <th></th>\n      <th></th>\n      <th></th>\n      <th></th>\n      <th></th>\n      <th></th>\n      <th></th>\n      <th></th>\n      <th></th>\n      <th></th>\n      <th></th>\n      <th></th>\n      <th></th>\n      <th></th>\n      <th></th>\n      <th></th>\n      <th></th>\n      <th></th>\n      <th></th>\n      <th></th>\n      <th></th>\n    </tr>\n  </thead>\n  <tbody>\n    <tr>\n      <th>Delorme New York State Atlas &amp;amp; Gazetteer</th>\n      <td>1.000000</td>\n      <td>0.027495</td>\n      <td>0.000000</td>\n      <td>0.000000</td>\n      <td>0.000000</td>\n      <td>0.000000</td>\n      <td>0.021078</td>\n      <td>0.000000</td>\n      <td>0.000000</td>\n      <td>0.000000</td>\n      <td>...</td>\n      <td>0.008367</td>\n      <td>0.000000</td>\n      <td>0.0</td>\n      <td>0.000000</td>\n      <td>0.005441</td>\n      <td>0.000000</td>\n      <td>0.007543</td>\n      <td>0.000000</td>\n      <td>0.000000</td>\n      <td>0.000000</td>\n    </tr>\n    <tr>\n      <th>Garmin DeLorme Atlas &amp;amp; Gazetteer Paper Maps- Arizona, AA-000005-000</th>\n      <td>0.027495</td>\n      <td>1.000000</td>\n      <td>0.000000</td>\n      <td>0.000000</td>\n      <td>0.000000</td>\n      <td>0.000000</td>\n      <td>0.000000</td>\n      <td>0.000000</td>\n      <td>0.000000</td>\n      <td>0.000000</td>\n      <td>...</td>\n      <td>0.000666</td>\n      <td>0.000000</td>\n      <td>0.0</td>\n      <td>0.000000</td>\n      <td>0.000433</td>\n      <td>0.000000</td>\n      <td>0.000600</td>\n      <td>0.000000</td>\n      <td>0.000000</td>\n      <td>0.000000</td>\n    </tr>\n    <tr>\n      <th>BenchMaster Pocket Guide - Fly Fishing - Fishing</th>\n      <td>0.000000</td>\n      <td>0.000000</td>\n      <td>1.000000</td>\n      <td>0.000000</td>\n      <td>0.019962</td>\n      <td>0.006680</td>\n      <td>0.000000</td>\n      <td>0.000000</td>\n      <td>0.000000</td>\n      <td>0.000000</td>\n      <td>...</td>\n      <td>0.000000</td>\n      <td>0.000000</td>\n      <td>0.0</td>\n      <td>0.000000</td>\n      <td>0.000000</td>\n      <td>0.066368</td>\n      <td>0.000000</td>\n      <td>0.025820</td>\n      <td>0.000000</td>\n      <td>0.000000</td>\n    </tr>\n    <tr>\n      <th>Spooner Boards Freestyle - Green</th>\n      <td>0.000000</td>\n      <td>0.000000</td>\n      <td>0.000000</td>\n      <td>1.000000</td>\n      <td>0.025442</td>\n      <td>0.011276</td>\n      <td>0.000000</td>\n      <td>0.000000</td>\n      <td>0.000000</td>\n      <td>0.293637</td>\n      <td>...</td>\n      <td>0.000000</td>\n      <td>0.000000</td>\n      <td>0.0</td>\n      <td>0.000000</td>\n      <td>0.011681</td>\n      <td>0.000000</td>\n      <td>0.016131</td>\n      <td>0.027239</td>\n      <td>0.000000</td>\n      <td>0.000000</td>\n    </tr>\n    <tr>\n      <th>Black Mountain Products Single Resistance Band - Door Anchor and Starter Guide Included</th>\n      <td>0.000000</td>\n      <td>0.000000</td>\n      <td>0.019962</td>\n      <td>0.025442</td>\n      <td>1.000000</td>\n      <td>0.684941</td>\n      <td>0.149299</td>\n      <td>0.000000</td>\n      <td>0.157911</td>\n      <td>0.000000</td>\n      <td>...</td>\n      <td>0.000000</td>\n      <td>0.067953</td>\n      <td>0.0</td>\n      <td>0.000000</td>\n      <td>0.025163</td>\n      <td>0.051753</td>\n      <td>0.009856</td>\n      <td>0.055259</td>\n      <td>0.116562</td>\n      <td>0.020251</td>\n    </tr>\n    <tr>\n      <th>...</th>\n      <td>...</td>\n      <td>...</td>\n      <td>...</td>\n      <td>...</td>\n      <td>...</td>\n      <td>...</td>\n      <td>...</td>\n      <td>...</td>\n      <td>...</td>\n      <td>...</td>\n      <td>...</td>\n      <td>...</td>\n      <td>...</td>\n      <td>...</td>\n      <td>...</td>\n      <td>...</td>\n      <td>...</td>\n      <td>...</td>\n      <td>...</td>\n      <td>...</td>\n      <td>...</td>\n    </tr>\n    <tr>\n      <th>MEILAIER UV Fishing Mask Moisture Wicking Headband Seamless Bandana COOLMAX Microfiber for Cycling Running Hunting Motorcycle Head Wear</th>\n      <td>0.000000</td>\n      <td>0.000000</td>\n      <td>0.066368</td>\n      <td>0.000000</td>\n      <td>0.051753</td>\n      <td>0.012481</td>\n      <td>0.000000</td>\n      <td>0.000000</td>\n      <td>0.000000</td>\n      <td>0.000000</td>\n      <td>...</td>\n      <td>0.000000</td>\n      <td>0.000000</td>\n      <td>0.0</td>\n      <td>0.000000</td>\n      <td>0.000000</td>\n      <td>1.000000</td>\n      <td>0.000335</td>\n      <td>0.054683</td>\n      <td>0.000000</td>\n      <td>0.000000</td>\n    </tr>\n    <tr>\n      <th>Soft Cooling Towel for Instant Relief, 48inch Extra Long Natural Cool Cloth Scarf, Cold Neck Wrap Chilly Towels for Sports, Workout, Fitness, Gym, Yoga, Pilates, Travel, Camping Outdoor Running &amp;amp; More</th>\n      <td>0.007543</td>\n      <td>0.000600</td>\n      <td>0.000000</td>\n      <td>0.016131</td>\n      <td>0.009856</td>\n      <td>0.013985</td>\n      <td>0.000000</td>\n      <td>0.002626</td>\n      <td>0.000000</td>\n      <td>0.002363</td>\n      <td>...</td>\n      <td>0.019673</td>\n      <td>0.014231</td>\n      <td>0.0</td>\n      <td>0.000630</td>\n      <td>0.007395</td>\n      <td>0.000335</td>\n      <td>1.000000</td>\n      <td>0.012739</td>\n      <td>0.009764</td>\n      <td>0.019212</td>\n    </tr>\n    <tr>\n      <th>Cycling Computers- Wireless Bike Speedometer and Odometer-Waterproof Digital Bike Computer -Large HD LCD Screen Display Bicycle Speedometer - High Accuracy for Powerful Magnet -Black</th>\n      <td>0.000000</td>\n      <td>0.000000</td>\n      <td>0.025820</td>\n      <td>0.027239</td>\n      <td>0.055259</td>\n      <td>0.035672</td>\n      <td>0.000000</td>\n      <td>0.000000</td>\n      <td>0.000000</td>\n      <td>0.000000</td>\n      <td>...</td>\n      <td>0.000000</td>\n      <td>0.013680</td>\n      <td>0.0</td>\n      <td>0.000594</td>\n      <td>0.082826</td>\n      <td>0.054683</td>\n      <td>0.012739</td>\n      <td>1.000000</td>\n      <td>0.002678</td>\n      <td>0.000000</td>\n    </tr>\n    <tr>\n      <th>Columbia Bora booney</th>\n      <td>0.000000</td>\n      <td>0.000000</td>\n      <td>0.000000</td>\n      <td>0.000000</td>\n      <td>0.116562</td>\n      <td>0.162465</td>\n      <td>0.000000</td>\n      <td>0.005941</td>\n      <td>0.000000</td>\n      <td>0.005345</td>\n      <td>...</td>\n      <td>0.043051</td>\n      <td>0.051156</td>\n      <td>0.0</td>\n      <td>0.000000</td>\n      <td>0.000000</td>\n      <td>0.000000</td>\n      <td>0.009764</td>\n      <td>0.002678</td>\n      <td>1.000000</td>\n      <td>0.043454</td>\n    </tr>\n    <tr>\n      <th>2XU Men's Core Compression Shorts</th>\n      <td>0.000000</td>\n      <td>0.000000</td>\n      <td>0.000000</td>\n      <td>0.000000</td>\n      <td>0.020251</td>\n      <td>0.000695</td>\n      <td>0.000000</td>\n      <td>0.011688</td>\n      <td>0.000000</td>\n      <td>0.010517</td>\n      <td>...</td>\n      <td>0.084705</td>\n      <td>0.063332</td>\n      <td>0.0</td>\n      <td>0.000000</td>\n      <td>0.000000</td>\n      <td>0.000000</td>\n      <td>0.019212</td>\n      <td>0.000000</td>\n      <td>0.043454</td>\n      <td>1.000000</td>\n    </tr>\n  </tbody>\n</table>\n<p>56351 rows × 56351 columns</p>\n</div>"
     },
     "metadata": {},
     "execution_count": 31
    }
   ]
  },
  {
   "cell_type": "code",
   "execution_count": 36,
   "metadata": {},
   "outputs": [
    {
     "output_type": "execute_result",
     "data": {
      "text/plain": "array([\"Invicta Men's 5513 Subaqua Collection Chronograph Watch\",\n       'Gaiam Restore Total Body Foam Roller with DVD, 36-Inch',\n       'PUBLIC Bikes Trieste Coffee Cup Holder, Silver',\n       'Taylor Made Products Boat Seat Cover (Back to Back Lounge Seat)',\n       '150 lb Black Metal Hunting Crossbow Archery Bow + 4x20 Scope +12 Bolts 180 80 50'],\n      dtype=object)"
     },
     "metadata": {},
     "execution_count": 36
    }
   ],
   "source": [
    "news_recommender.get_recommendations(item='PEET Shoe Dryer Original M97-OL Shoe Dryer (Discontinued by MFG 2009)')"
   ]
  },
  {
   "cell_type": "code",
   "execution_count": 77,
   "metadata": {
    "tags": []
   },
   "outputs": [
    {
     "output_type": "stream",
     "name": "stdout",
     "text": "/bin/sh: 1: source: not found\n"
    }
   ],
   "source": [
    "!source activate tensorflow_p36"
   ]
  }
 ],
 "metadata": {
  "kernelspec": {
   "display_name": "Python 3",
   "language": "python",
   "name": "python3"
  },
  "language_info": {
   "codemirror_mode": {
    "name": "ipython",
    "version": 3
   },
   "file_extension": ".py",
   "mimetype": "text/x-python",
   "name": "python",
   "nbconvert_exporter": "python",
   "pygments_lexer": "ipython3",
   "version": "3.7.6-final"
  }
 },
 "nbformat": 4,
 "nbformat_minor": 4
}