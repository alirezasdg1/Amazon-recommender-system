{
  "nbformat": 4,
  "nbformat_minor": 0,
  "metadata": {
    "colab": {
      "name": "NLP.ipynb",
      "provenance": [],
      "collapsed_sections": [],
      "toc_visible": true,
      "machine_shape": "hm",
      "authorship_tag": "ABX9TyP9G3iazz3gO7CbbaX5FPp5",
      "include_colab_link": true
    },
    "kernelspec": {
      "name": "python3",
      "display_name": "Python 3"
    },
    "accelerator": "TPU"
  },
  "cells": [
    {
      "cell_type": "markdown",
      "metadata": {
        "id": "view-in-github",
        "colab_type": "text"
      },
      "source": [
        "<a href=\"https://colab.research.google.com/github/alirezasdg1/Amazon-recommender-system/blob/master/notebooks/NLP.ipynb\" target=\"_parent\"><img src=\"https://colab.research.google.com/assets/colab-badge.svg\" alt=\"Open In Colab\"/></a>"
      ]
    },
    {
      "cell_type": "markdown",
      "metadata": {
        "id": "YZPff3c1xqEM",
        "colab_type": "text"
      },
      "source": [
        "## process text data"
      ]
    },
    {
      "cell_type": "code",
      "metadata": {
        "id": "FXI2wteAxb7j",
        "colab_type": "code",
        "colab": {}
      },
      "source": [
        "import os\n",
        "import json\n",
        "import gzip\n",
        "import pandas as pd\n",
        "from urllib.request import urlopen\n",
        "from google.colab import files\n",
        "import numpy as np\n",
        "\n",
        "import re\n",
        "import urllib\n",
        "import string\n",
        "import nltk\n",
        "from nltk.corpus import stopwords\n",
        "from nltk.stem.snowball import SnowballStemmer\n",
        "from nltk.stem import PorterStemmer\n",
        "from nltk.stem import WordNetLemmatizer\n",
        "from sklearn.feature_extraction.text import TfidfVectorizer"
      ],
      "execution_count": 1,
      "outputs": []
    },
    {
      "cell_type": "code",
      "metadata": {
        "id": "RKInYTa8L0P_",
        "colab_type": "code",
        "colab": {
          "base_uri": "https://localhost:8080/",
          "height": 187
        },
        "outputId": "51b15cae-fbed-418b-8bbf-d60d65861c4c"
      },
      "source": [
        "nltk.download('stopwords')\n",
        "nltk.download('wordnet')\n",
        "nltk.download('punkt')\n",
        "nltk.download('averaged_perceptron_tagger') "
      ],
      "execution_count": 2,
      "outputs": [
        {
          "output_type": "stream",
          "text": [
            "[nltk_data] Downloading package stopwords to /root/nltk_data...\n",
            "[nltk_data]   Unzipping corpora/stopwords.zip.\n",
            "[nltk_data] Downloading package wordnet to /root/nltk_data...\n",
            "[nltk_data]   Unzipping corpora/wordnet.zip.\n",
            "[nltk_data] Downloading package punkt to /root/nltk_data...\n",
            "[nltk_data]   Unzipping tokenizers/punkt.zip.\n",
            "[nltk_data] Downloading package averaged_perceptron_tagger to\n",
            "[nltk_data]     /root/nltk_data...\n",
            "[nltk_data]   Unzipping taggers/averaged_perceptron_tagger.zip.\n"
          ],
          "name": "stdout"
        },
        {
          "output_type": "execute_result",
          "data": {
            "text/plain": [
              "True"
            ]
          },
          "metadata": {
            "tags": []
          },
          "execution_count": 2
        }
      ]
    },
    {
      "cell_type": "code",
      "metadata": {
        "id": "B_NP1FEvyH2t",
        "colab_type": "code",
        "colab": {
          "base_uri": "https://localhost:8080/",
          "height": 34
        },
        "outputId": "14397b7c-27ee-4bac-aee3-13a8adef260e"
      },
      "source": [
        "from google.colab import drive\n",
        "drive.mount('/content/drive')"
      ],
      "execution_count": 4,
      "outputs": [
        {
          "output_type": "stream",
          "text": [
            "Mounted at /content/drive\n"
          ],
          "name": "stdout"
        }
      ]
    },
    {
      "cell_type": "code",
      "metadata": {
        "id": "Rdt-RJF5zHmm",
        "colab_type": "code",
        "colab": {
          "base_uri": "https://localhost:8080/",
          "height": 71
        },
        "outputId": "c69394c3-74b7-4aa2-e3e6-baeedefb2166"
      },
      "source": [
        "df_all_15 = pd.read_csv(\"/content/drive/My Drive/Datasets/df_all_15.csv\")"
      ],
      "execution_count": 5,
      "outputs": [
        {
          "output_type": "stream",
          "text": [
            "/usr/local/lib/python3.6/dist-packages/IPython/core/interactiveshell.py:2718: DtypeWarning: Columns (9,29) have mixed types.Specify dtype option on import or set low_memory=False.\n",
            "  interactivity=interactivity, compiler=compiler, result=result)\n"
          ],
          "name": "stderr"
        }
      ]
    },
    {
      "cell_type": "code",
      "metadata": {
        "id": "ZgxzWeqaza2b",
        "colab_type": "code",
        "colab": {}
      },
      "source": [
        "df_all_15.drop(['Unnamed: 0','tech1', 'tech2','Unnamed: 0_x','fit','similar_item','date','details','Unnamed: 0_y','reviewTime','reviewerID','reviewerName','vote','image_y','Total_review_C','Total_review_P'], axis=1,inplace=True)"
      ],
      "execution_count": 6,
      "outputs": []
    },
    {
      "cell_type": "code",
      "metadata": {
        "id": "Oxa27bnMzsbK",
        "colab_type": "code",
        "colab": {
          "base_uri": "https://localhost:8080/",
          "height": 301
        },
        "outputId": "5b801f7d-780b-463a-8167-e2b8b01eae3b"
      },
      "source": [
        "df_all_15.head(2)"
      ],
      "execution_count": 9,
      "outputs": [
        {
          "output_type": "execute_result",
          "data": {
            "text/html": [
              "<div>\n",
              "<style scoped>\n",
              "    .dataframe tbody tr th:only-of-type {\n",
              "        vertical-align: middle;\n",
              "    }\n",
              "\n",
              "    .dataframe tbody tr th {\n",
              "        vertical-align: top;\n",
              "    }\n",
              "\n",
              "    .dataframe thead th {\n",
              "        text-align: right;\n",
              "    }\n",
              "</style>\n",
              "<table border=\"1\" class=\"dataframe\">\n",
              "  <thead>\n",
              "    <tr style=\"text-align: right;\">\n",
              "      <th></th>\n",
              "      <th>category</th>\n",
              "      <th>description</th>\n",
              "      <th>title</th>\n",
              "      <th>also_buy</th>\n",
              "      <th>image_x</th>\n",
              "      <th>brand</th>\n",
              "      <th>feature</th>\n",
              "      <th>rank</th>\n",
              "      <th>also_view</th>\n",
              "      <th>main_cat</th>\n",
              "      <th>price</th>\n",
              "      <th>asin</th>\n",
              "      <th>overall</th>\n",
              "      <th>verified</th>\n",
              "      <th>reviewText</th>\n",
              "      <th>summary</th>\n",
              "      <th>unixReviewTime</th>\n",
              "      <th>style</th>\n",
              "    </tr>\n",
              "  </thead>\n",
              "  <tbody>\n",
              "    <tr>\n",
              "      <th>0</th>\n",
              "      <td>['Sports &amp; Outdoors', 'Outdoor Recreation', 'C...</td>\n",
              "      <td>['Find your way through New York while hitting...</td>\n",
              "      <td>Delorme New York State Atlas &amp;amp; Gazetteer</td>\n",
              "      <td>['0899334415', '0899334431', '0899333419', '08...</td>\n",
              "      <td>['https://images-na.ssl-images-amazon.com/imag...</td>\n",
              "      <td>Garmin</td>\n",
              "      <td>['Amazingly detailed and beautifully crafted, ...</td>\n",
              "      <td>121,074 in Office Products (</td>\n",
              "      <td>['0528881922', '1569145792', '0899334431', '08...</td>\n",
              "      <td>Office Products</td>\n",
              "      <td>$19.95</td>\n",
              "      <td>0899332757</td>\n",
              "      <td>5.0</td>\n",
              "      <td>False</td>\n",
              "      <td>If you're interested in exploring any area of ...</td>\n",
              "      <td>Great for exploring the rural parts of the state</td>\n",
              "      <td>1470009600</td>\n",
              "      <td>{'Format:': ' Paperback'}</td>\n",
              "    </tr>\n",
              "    <tr>\n",
              "      <th>1</th>\n",
              "      <td>['Sports &amp; Outdoors', 'Outdoor Recreation', 'C...</td>\n",
              "      <td>['Find your way through New York while hitting...</td>\n",
              "      <td>Delorme New York State Atlas &amp;amp; Gazetteer</td>\n",
              "      <td>['0899334415', '0899334431', '0899333419', '08...</td>\n",
              "      <td>['https://images-na.ssl-images-amazon.com/imag...</td>\n",
              "      <td>Garmin</td>\n",
              "      <td>['Amazingly detailed and beautifully crafted, ...</td>\n",
              "      <td>121,074 in Office Products (</td>\n",
              "      <td>['0528881922', '1569145792', '0899334431', '08...</td>\n",
              "      <td>Office Products</td>\n",
              "      <td>$19.95</td>\n",
              "      <td>0899332757</td>\n",
              "      <td>4.0</td>\n",
              "      <td>True</td>\n",
              "      <td>Wonderful, comprehensive atlas.  It's a little...</td>\n",
              "      <td>Four Stars</td>\n",
              "      <td>1438646400</td>\n",
              "      <td>{'Format:': ' Paperback'}</td>\n",
              "    </tr>\n",
              "  </tbody>\n",
              "</table>\n",
              "</div>"
            ],
            "text/plain": [
              "                                            category  ...                      style\n",
              "0  ['Sports & Outdoors', 'Outdoor Recreation', 'C...  ...  {'Format:': ' Paperback'}\n",
              "1  ['Sports & Outdoors', 'Outdoor Recreation', 'C...  ...  {'Format:': ' Paperback'}\n",
              "\n",
              "[2 rows x 18 columns]"
            ]
          },
          "metadata": {
            "tags": []
          },
          "execution_count": 9
        }
      ]
    },
    {
      "cell_type": "code",
      "metadata": {
        "id": "7FdAeTlLWNM0",
        "colab_type": "code",
        "colab": {
          "base_uri": "https://localhost:8080/",
          "height": 442
        },
        "outputId": "0a834647-a700-4f06-9e73-112d9e6fa6f4"
      },
      "source": [
        "df_all_15.info()"
      ],
      "execution_count": 10,
      "outputs": [
        {
          "output_type": "stream",
          "text": [
            "<class 'pandas.core.frame.DataFrame'>\n",
            "RangeIndex: 370260 entries, 0 to 370259\n",
            "Data columns (total 18 columns):\n",
            " #   Column          Non-Null Count   Dtype  \n",
            "---  ------          --------------   -----  \n",
            " 0   category        370260 non-null  object \n",
            " 1   description     370260 non-null  object \n",
            " 2   title           370252 non-null  object \n",
            " 3   also_buy        370260 non-null  object \n",
            " 4   image_x         370260 non-null  object \n",
            " 5   brand           359110 non-null  object \n",
            " 6   feature         370260 non-null  object \n",
            " 7   rank            370260 non-null  object \n",
            " 8   also_view       370260 non-null  object \n",
            " 9   main_cat        369863 non-null  object \n",
            " 10  price           305197 non-null  object \n",
            " 11  asin            370260 non-null  object \n",
            " 12  overall         370260 non-null  float64\n",
            " 13  verified        370260 non-null  bool   \n",
            " 14  reviewText      370160 non-null  object \n",
            " 15  summary         370177 non-null  object \n",
            " 16  unixReviewTime  370260 non-null  int64  \n",
            " 17  style           229301 non-null  object \n",
            "dtypes: bool(1), float64(1), int64(1), object(15)\n",
            "memory usage: 48.4+ MB\n"
          ],
          "name": "stdout"
        }
      ]
    },
    {
      "cell_type": "code",
      "metadata": {
        "id": "Rq_byOtkWwmM",
        "colab_type": "code",
        "colab": {}
      },
      "source": [
        "df_all_15 = df_all_15[df_all_15['title'].notnull()]"
      ],
      "execution_count": 16,
      "outputs": []
    },
    {
      "cell_type": "code",
      "metadata": {
        "id": "M02gY0fkXaeH",
        "colab_type": "code",
        "colab": {}
      },
      "source": [
        "df_all_15[\"text\"] = df_all_15[\"description\"]+df_all_15[\"brand\"]+df_all_15[\"feature\"]+df_all_15[\"reviewText\"]+df_all_15[\"summary\"]+df_all_15['style']"
      ],
      "execution_count": 18,
      "outputs": []
    },
    {
      "cell_type": "code",
      "metadata": {
        "id": "aGdlunuPYYoJ",
        "colab_type": "code",
        "colab": {
          "base_uri": "https://localhost:8080/",
          "height": 369
        },
        "outputId": "3304b023-9e55-4a58-bd8b-f69f37e0f70e"
      },
      "source": [
        "df_all_15.head(2)"
      ],
      "execution_count": 22,
      "outputs": [
        {
          "output_type": "execute_result",
          "data": {
            "text/html": [
              "<div>\n",
              "<style scoped>\n",
              "    .dataframe tbody tr th:only-of-type {\n",
              "        vertical-align: middle;\n",
              "    }\n",
              "\n",
              "    .dataframe tbody tr th {\n",
              "        vertical-align: top;\n",
              "    }\n",
              "\n",
              "    .dataframe thead th {\n",
              "        text-align: right;\n",
              "    }\n",
              "</style>\n",
              "<table border=\"1\" class=\"dataframe\">\n",
              "  <thead>\n",
              "    <tr style=\"text-align: right;\">\n",
              "      <th></th>\n",
              "      <th>category</th>\n",
              "      <th>description</th>\n",
              "      <th>title</th>\n",
              "      <th>also_buy</th>\n",
              "      <th>image_x</th>\n",
              "      <th>brand</th>\n",
              "      <th>feature</th>\n",
              "      <th>rank</th>\n",
              "      <th>also_view</th>\n",
              "      <th>main_cat</th>\n",
              "      <th>price</th>\n",
              "      <th>asin</th>\n",
              "      <th>overall</th>\n",
              "      <th>verified</th>\n",
              "      <th>reviewText</th>\n",
              "      <th>summary</th>\n",
              "      <th>unixReviewTime</th>\n",
              "      <th>style</th>\n",
              "      <th>text</th>\n",
              "    </tr>\n",
              "  </thead>\n",
              "  <tbody>\n",
              "    <tr>\n",
              "      <th>0</th>\n",
              "      <td>['Sports &amp; Outdoors', 'Outdoor Recreation', 'C...</td>\n",
              "      <td>['Find your way through New York while hitting...</td>\n",
              "      <td>Delorme New York State Atlas &amp;amp; Gazetteer</td>\n",
              "      <td>['0899334415', '0899334431', '0899333419', '08...</td>\n",
              "      <td>['https://images-na.ssl-images-amazon.com/imag...</td>\n",
              "      <td>Garmin</td>\n",
              "      <td>['Amazingly detailed and beautifully crafted, ...</td>\n",
              "      <td>121,074 in Office Products (</td>\n",
              "      <td>['0528881922', '1569145792', '0899334431', '08...</td>\n",
              "      <td>Office Products</td>\n",
              "      <td>$19.95</td>\n",
              "      <td>0899332757</td>\n",
              "      <td>5.0</td>\n",
              "      <td>False</td>\n",
              "      <td>If you're interested in exploring any area of ...</td>\n",
              "      <td>Great for exploring the rural parts of the state</td>\n",
              "      <td>1470009600</td>\n",
              "      <td>{'Format:': ' Paperback'}</td>\n",
              "      <td>['Find your way through New York while hitting...</td>\n",
              "    </tr>\n",
              "    <tr>\n",
              "      <th>1</th>\n",
              "      <td>['Sports &amp; Outdoors', 'Outdoor Recreation', 'C...</td>\n",
              "      <td>['Find your way through New York while hitting...</td>\n",
              "      <td>Delorme New York State Atlas &amp;amp; Gazetteer</td>\n",
              "      <td>['0899334415', '0899334431', '0899333419', '08...</td>\n",
              "      <td>['https://images-na.ssl-images-amazon.com/imag...</td>\n",
              "      <td>Garmin</td>\n",
              "      <td>['Amazingly detailed and beautifully crafted, ...</td>\n",
              "      <td>121,074 in Office Products (</td>\n",
              "      <td>['0528881922', '1569145792', '0899334431', '08...</td>\n",
              "      <td>Office Products</td>\n",
              "      <td>$19.95</td>\n",
              "      <td>0899332757</td>\n",
              "      <td>4.0</td>\n",
              "      <td>True</td>\n",
              "      <td>Wonderful, comprehensive atlas.  It's a little...</td>\n",
              "      <td>Four Stars</td>\n",
              "      <td>1438646400</td>\n",
              "      <td>{'Format:': ' Paperback'}</td>\n",
              "      <td>['Find your way through New York while hitting...</td>\n",
              "    </tr>\n",
              "  </tbody>\n",
              "</table>\n",
              "</div>"
            ],
            "text/plain": [
              "                                            category  ...                                               text\n",
              "0  ['Sports & Outdoors', 'Outdoor Recreation', 'C...  ...  ['Find your way through New York while hitting...\n",
              "1  ['Sports & Outdoors', 'Outdoor Recreation', 'C...  ...  ['Find your way through New York while hitting...\n",
              "\n",
              "[2 rows x 19 columns]"
            ]
          },
          "metadata": {
            "tags": []
          },
          "execution_count": 22
        }
      ]
    },
    {
      "cell_type": "code",
      "metadata": {
        "id": "ucpgjrSraGqi",
        "colab_type": "code",
        "colab": {}
      },
      "source": [
        "df_all_15['description'] = df_all_15['description'].replace(np.nan, ' ', regex=True)\n",
        "df_all_15['brand'] = df_all_15['brand'].replace(np.nan, ' ', regex=True)\n",
        "df_all_15['feature'] = df_all_15['feature'].replace(np.nan, ' ', regex=True)\n",
        "df_all_15['reviewText'] = df_all_15['reviewText'].replace(np.nan, ' ', regex=True)\n",
        "df_all_15['summary'] = df_all_15['summary'].replace(np.nan, ' ', regex=True)\n",
        "df_all_15['style'] = df_all_15['style'].replace(np.nan, ' ', regex=True)"
      ],
      "execution_count": 38,
      "outputs": []
    },
    {
      "cell_type": "code",
      "metadata": {
        "id": "1jhZGyDNY2rJ",
        "colab_type": "code",
        "colab": {}
      },
      "source": [
        "df_all_15[\"text\"] = df_all_15[\"description\"]+df_all_15[\"brand\"]+df_all_15[\"feature\"]+df_all_15[\"reviewText\"]+df_all_15[\"summary\"]+df_all_15['style']"
      ],
      "execution_count": 39,
      "outputs": []
    },
    {
      "cell_type": "code",
      "metadata": {
        "id": "ztRXfUp-7Qq3",
        "colab_type": "code",
        "colab": {
          "base_uri": "https://localhost:8080/",
          "height": 69
        },
        "outputId": "51bde0f8-d648-40d1-b1c8-fbc3523be674"
      },
      "source": [
        "df_all_15[\"image_x\"].iloc[100]\n"
      ],
      "execution_count": null,
      "outputs": [
        {
          "output_type": "execute_result",
          "data": {
            "application/vnd.google.colaboratory.intrinsic+json": {
              "type": "string"
            },
            "text/plain": [
              "\"['https://images-na.ssl-images-amazon.com/images/I/510IoiKdv-L._SS40_.jpg', 'https://images-na.ssl-images-amazon.com/images/I/31wNURrrBSL._SS40_.jpg', 'https://images-na.ssl-images-amazon.com/images/I/41kb57MKTsL._SS40_.jpg', 'https://images-na.ssl-images-amazon.com/images/I/4152ysfRboL._SS40_.jpg', 'https://images-na.ssl-images-amazon.com/images/I/41A8vr5krnL._SS40_.jpg']\""
            ]
          },
          "metadata": {
            "tags": []
          },
          "execution_count": 28
        }
      ]
    },
    {
      "cell_type": "code",
      "metadata": {
        "id": "IdEsZYEA7ADO",
        "colab_type": "code",
        "colab": {
          "base_uri": "https://localhost:8080/",
          "height": 35
        },
        "outputId": "430685e0-59da-4b17-d593-87505ca2320e"
      },
      "source": [
        "df_all_15[\"image_x\"].iloc[1].split(',')[0][2:-1]\n"
      ],
      "execution_count": null,
      "outputs": [
        {
          "output_type": "execute_result",
          "data": {
            "application/vnd.google.colaboratory.intrinsic+json": {
              "type": "string"
            },
            "text/plain": [
              "'https://images-na.ssl-images-amazon.com/images/I/51eXt4FThxL._SS40_.jpg'"
            ]
          },
          "metadata": {
            "tags": []
          },
          "execution_count": 38
        }
      ]
    },
    {
      "cell_type": "code",
      "metadata": {
        "id": "2aKmpaC17UkP",
        "colab_type": "code",
        "colab": {
          "base_uri": "https://localhost:8080/",
          "height": 35
        },
        "outputId": "9e3f6d6b-e4fc-415f-cc4f-bf8eeb1800e9"
      },
      "source": [
        "df_all_15[\"image_x\"].iloc[25678].split(',')[0][2:-1]\n"
      ],
      "execution_count": null,
      "outputs": [
        {
          "output_type": "execute_result",
          "data": {
            "application/vnd.google.colaboratory.intrinsic+json": {
              "type": "string"
            },
            "text/plain": [
              "'https://images-na.ssl-images-amazon.com/images/I/712AbM5F8oL._SS40_.jpg'"
            ]
          },
          "metadata": {
            "tags": []
          },
          "execution_count": 37
        }
      ]
    },
    {
      "cell_type": "code",
      "metadata": {
        "id": "kFSpmzAz7YIE",
        "colab_type": "code",
        "colab": {
          "base_uri": "https://localhost:8080/",
          "height": 35
        },
        "outputId": "6f2c427d-0816-4b60-c55f-6ff874fc5dd8"
      },
      "source": [
        "df_all_15[\"image_x\"].iloc[1].split(',')[0][2:-1]"
      ],
      "execution_count": null,
      "outputs": [
        {
          "output_type": "execute_result",
          "data": {
            "application/vnd.google.colaboratory.intrinsic+json": {
              "type": "string"
            },
            "text/plain": [
              "'https://images-na.ssl-images-amazon.com/images/I/51eXt4FThxL._SS40_.jpg'"
            ]
          },
          "metadata": {
            "tags": []
          },
          "execution_count": 39
        }
      ]
    },
    {
      "cell_type": "code",
      "metadata": {
        "colab_type": "code",
        "id": "iBXeKeat3wdz",
        "colab": {
          "base_uri": "https://localhost:8080/",
          "height": 52
        },
        "outputId": "3b6d2c66-2c60-40a1-84db-bc606af62759"
      },
      "source": [
        "df_all_15[\"image_x\"].iloc[0]"
      ],
      "execution_count": null,
      "outputs": [
        {
          "output_type": "execute_result",
          "data": {
            "application/vnd.google.colaboratory.intrinsic+json": {
              "type": "string"
            },
            "text/plain": [
              "\"['https://images-na.ssl-images-amazon.com/images/I/51eXt4FThxL._SS40_.jpg', 'https://images-na.ssl-images-amazon.com/images/I/31bqMEqwU3L._SS40_.jpg']\""
            ]
          },
          "metadata": {
            "tags": []
          },
          "execution_count": 7
        }
      ]
    },
    {
      "cell_type": "markdown",
      "metadata": {
        "id": "8gwsl-QRKPiP",
        "colab_type": "text"
      },
      "source": [
        "## preprosses text data"
      ]
    },
    {
      "cell_type": "code",
      "metadata": {
        "id": "2jIKBT00xoN5",
        "colab_type": "code",
        "colab": {}
      },
      "source": [
        "def text_process(text):\n",
        "        \n",
        "        text = re.sub(r'<[^>]*>', ' ', text).strip()\n",
        "        text = text.lower()\n",
        "        text = re.sub('\\[.*?\\]', '', text)\n",
        "        text = re.sub('[%s]' % re.escape(string.punctuation), '', text)\n",
        "        text = re.sub('\\w*\\d\\w*', '', text)\n",
        "        text = re.sub('[‘’“”…]', '', text)\n",
        "        text = re.sub('\\n', '', text)\n",
        "        nopunc = [char for char in text if char not in string.punctuation]\n",
        "\n",
        "        nopunc = ''.join(nopunc)\n",
        "        list_words = [word for word in nopunc.split() if word.lower() not in stopwords.words('english')]\n",
        "     \n",
        "        stemmer_snowball = PorterStemmer()\n",
        " \n",
        "        tokens_stemsnowball = [stemmer_snowball.stem(sent) for sent in list_words]\n",
        "\n",
        "        return ' '.join(tokens_stemsnowball)\n"
      ],
      "execution_count": 45,
      "outputs": []
    },
    {
      "cell_type": "code",
      "metadata": {
        "id": "yxqLLvBtbP3v",
        "colab_type": "code",
        "colab": {}
      },
      "source": [
        "df_all_15['text'] = df_all_15['text'].apply(text_process)"
      ],
      "execution_count": 46,
      "outputs": []
    },
    {
      "cell_type": "code",
      "metadata": {
        "id": "P_5oy4-6k0sH",
        "colab_type": "code",
        "colab": {
          "base_uri": "https://localhost:8080/",
          "height": 683
        },
        "outputId": "05686626-e5e7-4ce4-dbd8-5e722b9ba7f2"
      },
      "source": [
        "df_all_15.head()"
      ],
      "execution_count": 47,
      "outputs": [
        {
          "output_type": "execute_result",
          "data": {
            "text/html": [
              "<div>\n",
              "<style scoped>\n",
              "    .dataframe tbody tr th:only-of-type {\n",
              "        vertical-align: middle;\n",
              "    }\n",
              "\n",
              "    .dataframe tbody tr th {\n",
              "        vertical-align: top;\n",
              "    }\n",
              "\n",
              "    .dataframe thead th {\n",
              "        text-align: right;\n",
              "    }\n",
              "</style>\n",
              "<table border=\"1\" class=\"dataframe\">\n",
              "  <thead>\n",
              "    <tr style=\"text-align: right;\">\n",
              "      <th></th>\n",
              "      <th>category</th>\n",
              "      <th>description</th>\n",
              "      <th>title</th>\n",
              "      <th>also_buy</th>\n",
              "      <th>image_x</th>\n",
              "      <th>brand</th>\n",
              "      <th>feature</th>\n",
              "      <th>rank</th>\n",
              "      <th>also_view</th>\n",
              "      <th>main_cat</th>\n",
              "      <th>price</th>\n",
              "      <th>asin</th>\n",
              "      <th>overall</th>\n",
              "      <th>verified</th>\n",
              "      <th>reviewText</th>\n",
              "      <th>summary</th>\n",
              "      <th>unixReviewTime</th>\n",
              "      <th>style</th>\n",
              "      <th>text</th>\n",
              "    </tr>\n",
              "  </thead>\n",
              "  <tbody>\n",
              "    <tr>\n",
              "      <th>0</th>\n",
              "      <td>['Sports &amp; Outdoors', 'Outdoor Recreation', 'C...</td>\n",
              "      <td>['Find your way through New York while hitting...</td>\n",
              "      <td>Delorme New York State Atlas &amp;amp; Gazetteer</td>\n",
              "      <td>['0899334415', '0899334431', '0899333419', '08...</td>\n",
              "      <td>['https://images-na.ssl-images-amazon.com/imag...</td>\n",
              "      <td>Garmin</td>\n",
              "      <td>['Amazingly detailed and beautifully crafted, ...</td>\n",
              "      <td>121,074 in Office Products (</td>\n",
              "      <td>['0528881922', '1569145792', '0899334431', '08...</td>\n",
              "      <td>Office Products</td>\n",
              "      <td>$19.95</td>\n",
              "      <td>0899332757</td>\n",
              "      <td>5.0</td>\n",
              "      <td>False</td>\n",
              "      <td>If you're interested in exploring any area of ...</td>\n",
              "      <td>Great for exploring the rural parts of the state</td>\n",
              "      <td>1470009600</td>\n",
              "      <td>{'Format:': ' Paperback'}</td>\n",
              "      <td>garminif your interest explor area new york be...</td>\n",
              "    </tr>\n",
              "    <tr>\n",
              "      <th>1</th>\n",
              "      <td>['Sports &amp; Outdoors', 'Outdoor Recreation', 'C...</td>\n",
              "      <td>['Find your way through New York while hitting...</td>\n",
              "      <td>Delorme New York State Atlas &amp;amp; Gazetteer</td>\n",
              "      <td>['0899334415', '0899334431', '0899333419', '08...</td>\n",
              "      <td>['https://images-na.ssl-images-amazon.com/imag...</td>\n",
              "      <td>Garmin</td>\n",
              "      <td>['Amazingly detailed and beautifully crafted, ...</td>\n",
              "      <td>121,074 in Office Products (</td>\n",
              "      <td>['0528881922', '1569145792', '0899334431', '08...</td>\n",
              "      <td>Office Products</td>\n",
              "      <td>$19.95</td>\n",
              "      <td>0899332757</td>\n",
              "      <td>4.0</td>\n",
              "      <td>True</td>\n",
              "      <td>Wonderful, comprehensive atlas.  It's a little...</td>\n",
              "      <td>Four Stars</td>\n",
              "      <td>1438646400</td>\n",
              "      <td>{'Format:': ' Paperback'}</td>\n",
              "      <td>garminwond comprehens atla littl largefour sta...</td>\n",
              "    </tr>\n",
              "    <tr>\n",
              "      <th>2</th>\n",
              "      <td>['Sports &amp; Outdoors', 'Outdoor Recreation', 'C...</td>\n",
              "      <td>['Find your way through New York while hitting...</td>\n",
              "      <td>Delorme New York State Atlas &amp;amp; Gazetteer</td>\n",
              "      <td>['0899334415', '0899334431', '0899333419', '08...</td>\n",
              "      <td>['https://images-na.ssl-images-amazon.com/imag...</td>\n",
              "      <td>Garmin</td>\n",
              "      <td>['Amazingly detailed and beautifully crafted, ...</td>\n",
              "      <td>121,074 in Office Products (</td>\n",
              "      <td>['0528881922', '1569145792', '0899334431', '08...</td>\n",
              "      <td>Office Products</td>\n",
              "      <td>$19.95</td>\n",
              "      <td>0899332757</td>\n",
              "      <td>5.0</td>\n",
              "      <td>True</td>\n",
              "      <td>Great product, FAST delivery! Just what we nee...</td>\n",
              "      <td>Super!</td>\n",
              "      <td>1432771200</td>\n",
              "      <td>{'Format:': ' Paperback'}</td>\n",
              "      <td>garmingreat product fast deliveri need rv trav...</td>\n",
              "    </tr>\n",
              "    <tr>\n",
              "      <th>3</th>\n",
              "      <td>['Sports &amp; Outdoors', 'Outdoor Recreation', 'C...</td>\n",
              "      <td>[\"Rely on delorme ATLAS &amp; gazetteer paper maps...</td>\n",
              "      <td>Garmin DeLorme Atlas &amp;amp; Gazetteer Paper Map...</td>\n",
              "      <td>['0899334482', '0899334474', '0899333834', '19...</td>\n",
              "      <td>['https://images-na.ssl-images-amazon.com/imag...</td>\n",
              "      <td>Garmin</td>\n",
              "      <td>['Amazingly detailed and beautifully crafted, ...</td>\n",
              "      <td>['&gt;#84,484 in Office Products (See top 100)', ...</td>\n",
              "      <td>[]</td>\n",
              "      <td>Office Products</td>\n",
              "      <td>$21.96</td>\n",
              "      <td>0899333257</td>\n",
              "      <td>5.0</td>\n",
              "      <td>True</td>\n",
              "      <td>I have a Delorme atlas for 11 US states. They'...</td>\n",
              "      <td>Necessary for off grid camping</td>\n",
              "      <td>1505260800</td>\n",
              "      <td>{'Format:': ' Paperback'}</td>\n",
              "      <td>garmini delorm atla us state theyr amaz detail...</td>\n",
              "    </tr>\n",
              "    <tr>\n",
              "      <th>4</th>\n",
              "      <td>['Sports &amp; Outdoors', 'Outdoor Recreation', 'C...</td>\n",
              "      <td>[\"Rely on delorme ATLAS &amp; gazetteer paper maps...</td>\n",
              "      <td>Garmin DeLorme Atlas &amp;amp; Gazetteer Paper Map...</td>\n",
              "      <td>['0899334482', '0899334474', '0899333834', '19...</td>\n",
              "      <td>['https://images-na.ssl-images-amazon.com/imag...</td>\n",
              "      <td>Garmin</td>\n",
              "      <td>['Amazingly detailed and beautifully crafted, ...</td>\n",
              "      <td>['&gt;#84,484 in Office Products (See top 100)', ...</td>\n",
              "      <td>[]</td>\n",
              "      <td>Office Products</td>\n",
              "      <td>$21.96</td>\n",
              "      <td>0899333257</td>\n",
              "      <td>5.0</td>\n",
              "      <td>False</td>\n",
              "      <td>The first Delorme atlas and gazetteer I ever p...</td>\n",
              "      <td>Don't explore without it</td>\n",
              "      <td>1470614400</td>\n",
              "      <td></td>\n",
              "      <td>garminth first delorm atla gazett ever purchas...</td>\n",
              "    </tr>\n",
              "  </tbody>\n",
              "</table>\n",
              "</div>"
            ],
            "text/plain": [
              "                                            category  ...                                               text\n",
              "0  ['Sports & Outdoors', 'Outdoor Recreation', 'C...  ...  garminif your interest explor area new york be...\n",
              "1  ['Sports & Outdoors', 'Outdoor Recreation', 'C...  ...  garminwond comprehens atla littl largefour sta...\n",
              "2  ['Sports & Outdoors', 'Outdoor Recreation', 'C...  ...  garmingreat product fast deliveri need rv trav...\n",
              "3  ['Sports & Outdoors', 'Outdoor Recreation', 'C...  ...  garmini delorm atla us state theyr amaz detail...\n",
              "4  ['Sports & Outdoors', 'Outdoor Recreation', 'C...  ...  garminth first delorm atla gazett ever purchas...\n",
              "\n",
              "[5 rows x 19 columns]"
            ]
          },
          "metadata": {
            "tags": []
          },
          "execution_count": 47
        }
      ]
    },
    {
      "cell_type": "code",
      "metadata": {
        "id": "1lUrPRhjs_eL",
        "colab_type": "code",
        "colab": {}
      },
      "source": [
        "df_all_15.drop(['description','brand','feature','reviewText','summary',\"style\"], axis=1,inplace=True)"
      ],
      "execution_count": 49,
      "outputs": []
    },
    {
      "cell_type": "code",
      "metadata": {
        "id": "5MzO1RqLthD6",
        "colab_type": "code",
        "colab": {
          "base_uri": "https://localhost:8080/",
          "height": 683
        },
        "outputId": "0f557bfb-a4b0-4aea-a4a2-d10c07db653b"
      },
      "source": [
        "df_all_15.head()"
      ],
      "execution_count": 50,
      "outputs": [
        {
          "output_type": "execute_result",
          "data": {
            "text/html": [
              "<div>\n",
              "<style scoped>\n",
              "    .dataframe tbody tr th:only-of-type {\n",
              "        vertical-align: middle;\n",
              "    }\n",
              "\n",
              "    .dataframe tbody tr th {\n",
              "        vertical-align: top;\n",
              "    }\n",
              "\n",
              "    .dataframe thead th {\n",
              "        text-align: right;\n",
              "    }\n",
              "</style>\n",
              "<table border=\"1\" class=\"dataframe\">\n",
              "  <thead>\n",
              "    <tr style=\"text-align: right;\">\n",
              "      <th></th>\n",
              "      <th>category</th>\n",
              "      <th>title</th>\n",
              "      <th>also_buy</th>\n",
              "      <th>image_x</th>\n",
              "      <th>rank</th>\n",
              "      <th>also_view</th>\n",
              "      <th>main_cat</th>\n",
              "      <th>price</th>\n",
              "      <th>asin</th>\n",
              "      <th>overall</th>\n",
              "      <th>verified</th>\n",
              "      <th>unixReviewTime</th>\n",
              "      <th>text</th>\n",
              "    </tr>\n",
              "  </thead>\n",
              "  <tbody>\n",
              "    <tr>\n",
              "      <th>0</th>\n",
              "      <td>['Sports &amp; Outdoors', 'Outdoor Recreation', 'C...</td>\n",
              "      <td>Delorme New York State Atlas &amp;amp; Gazetteer</td>\n",
              "      <td>['0899334415', '0899334431', '0899333419', '08...</td>\n",
              "      <td>['https://images-na.ssl-images-amazon.com/imag...</td>\n",
              "      <td>121,074 in Office Products (</td>\n",
              "      <td>['0528881922', '1569145792', '0899334431', '08...</td>\n",
              "      <td>Office Products</td>\n",
              "      <td>$19.95</td>\n",
              "      <td>0899332757</td>\n",
              "      <td>5.0</td>\n",
              "      <td>False</td>\n",
              "      <td>1470009600</td>\n",
              "      <td>garminif your interest explor area new york be...</td>\n",
              "    </tr>\n",
              "    <tr>\n",
              "      <th>1</th>\n",
              "      <td>['Sports &amp; Outdoors', 'Outdoor Recreation', 'C...</td>\n",
              "      <td>Delorme New York State Atlas &amp;amp; Gazetteer</td>\n",
              "      <td>['0899334415', '0899334431', '0899333419', '08...</td>\n",
              "      <td>['https://images-na.ssl-images-amazon.com/imag...</td>\n",
              "      <td>121,074 in Office Products (</td>\n",
              "      <td>['0528881922', '1569145792', '0899334431', '08...</td>\n",
              "      <td>Office Products</td>\n",
              "      <td>$19.95</td>\n",
              "      <td>0899332757</td>\n",
              "      <td>4.0</td>\n",
              "      <td>True</td>\n",
              "      <td>1438646400</td>\n",
              "      <td>garminwond comprehens atla littl largefour sta...</td>\n",
              "    </tr>\n",
              "    <tr>\n",
              "      <th>2</th>\n",
              "      <td>['Sports &amp; Outdoors', 'Outdoor Recreation', 'C...</td>\n",
              "      <td>Delorme New York State Atlas &amp;amp; Gazetteer</td>\n",
              "      <td>['0899334415', '0899334431', '0899333419', '08...</td>\n",
              "      <td>['https://images-na.ssl-images-amazon.com/imag...</td>\n",
              "      <td>121,074 in Office Products (</td>\n",
              "      <td>['0528881922', '1569145792', '0899334431', '08...</td>\n",
              "      <td>Office Products</td>\n",
              "      <td>$19.95</td>\n",
              "      <td>0899332757</td>\n",
              "      <td>5.0</td>\n",
              "      <td>True</td>\n",
              "      <td>1432771200</td>\n",
              "      <td>garmingreat product fast deliveri need rv trav...</td>\n",
              "    </tr>\n",
              "    <tr>\n",
              "      <th>3</th>\n",
              "      <td>['Sports &amp; Outdoors', 'Outdoor Recreation', 'C...</td>\n",
              "      <td>Garmin DeLorme Atlas &amp;amp; Gazetteer Paper Map...</td>\n",
              "      <td>['0899334482', '0899334474', '0899333834', '19...</td>\n",
              "      <td>['https://images-na.ssl-images-amazon.com/imag...</td>\n",
              "      <td>['&gt;#84,484 in Office Products (See top 100)', ...</td>\n",
              "      <td>[]</td>\n",
              "      <td>Office Products</td>\n",
              "      <td>$21.96</td>\n",
              "      <td>0899333257</td>\n",
              "      <td>5.0</td>\n",
              "      <td>True</td>\n",
              "      <td>1505260800</td>\n",
              "      <td>garmini delorm atla us state theyr amaz detail...</td>\n",
              "    </tr>\n",
              "    <tr>\n",
              "      <th>4</th>\n",
              "      <td>['Sports &amp; Outdoors', 'Outdoor Recreation', 'C...</td>\n",
              "      <td>Garmin DeLorme Atlas &amp;amp; Gazetteer Paper Map...</td>\n",
              "      <td>['0899334482', '0899334474', '0899333834', '19...</td>\n",
              "      <td>['https://images-na.ssl-images-amazon.com/imag...</td>\n",
              "      <td>['&gt;#84,484 in Office Products (See top 100)', ...</td>\n",
              "      <td>[]</td>\n",
              "      <td>Office Products</td>\n",
              "      <td>$21.96</td>\n",
              "      <td>0899333257</td>\n",
              "      <td>5.0</td>\n",
              "      <td>False</td>\n",
              "      <td>1470614400</td>\n",
              "      <td>garminth first delorm atla gazett ever purchas...</td>\n",
              "    </tr>\n",
              "  </tbody>\n",
              "</table>\n",
              "</div>"
            ],
            "text/plain": [
              "                                            category  ...                                               text\n",
              "0  ['Sports & Outdoors', 'Outdoor Recreation', 'C...  ...  garminif your interest explor area new york be...\n",
              "1  ['Sports & Outdoors', 'Outdoor Recreation', 'C...  ...  garminwond comprehens atla littl largefour sta...\n",
              "2  ['Sports & Outdoors', 'Outdoor Recreation', 'C...  ...  garmingreat product fast deliveri need rv trav...\n",
              "3  ['Sports & Outdoors', 'Outdoor Recreation', 'C...  ...  garmini delorm atla us state theyr amaz detail...\n",
              "4  ['Sports & Outdoors', 'Outdoor Recreation', 'C...  ...  garminth first delorm atla gazett ever purchas...\n",
              "\n",
              "[5 rows x 13 columns]"
            ]
          },
          "metadata": {
            "tags": []
          },
          "execution_count": 50
        }
      ]
    },
    {
      "cell_type": "code",
      "metadata": {
        "id": "wjnMCchotQIR",
        "colab_type": "code",
        "colab": {}
      },
      "source": [
        "df_all_15[\"text\"] = df_all_15[\"brand\"]+df_all_15[\"feature\"]+df_all_15[\"reviewText\"]+df_all_15[\"summary\"]+df_all_15['style']"
      ],
      "execution_count": null,
      "outputs": []
    },
    {
      "cell_type": "code",
      "metadata": {
        "id": "0QhjTKVAvW1z",
        "colab_type": "code",
        "colab": {}
      },
      "source": [
        "df_all_15.drop(['unixReviewTime','main_cat'],axis=1,inplace=True)"
      ],
      "execution_count": 54,
      "outputs": []
    },
    {
      "cell_type": "code",
      "metadata": {
        "id": "DRFPhKXFx0i_",
        "colab_type": "code",
        "colab": {}
      },
      "source": [
        "def nlp_process(df):\n",
        "\n",
        "    df[\"text\"] = df[\"description\"]+df[\"brand\"]+df[\"feature\"]+df[\"reviewText\"]+df[\"summary\"]+df['style']\n",
        "        \n",
        "    df.replace(np.nan, ' ', regex=True)\n",
        "    df['text'] = df['text'].apply(text_process)\n",
        "\n",
        "    # vectorizer = TfidfVectorizer(min_df = 3,max_df = 0.8, max_features = 1200)\n",
        "    # m_nlp = vectorizer.fit_transform(df[\"text\"]).toarray()\n",
        "    # df_nlp = pd.DataFrame(m_nlp, columns=vectorizer.get_feature_names())\n",
        "    \n",
        "    return df"
      ],
      "execution_count": 21,
      "outputs": []
    }
  ]
}