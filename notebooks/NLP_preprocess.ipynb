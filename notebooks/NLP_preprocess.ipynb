{
  "nbformat": 4,
  "nbformat_minor": 0,
  "metadata": {
    "colab": {
      "name": "NLP_preprocess.ipynb",
      "provenance": [],
      "collapsed_sections": [],
      "toc_visible": true,
      "machine_shape": "hm",
      "authorship_tag": "ABX9TyNbmWDEW5QABJC31fVWK0Yx",
      "include_colab_link": true
    },
    "kernelspec": {
      "name": "python3",
      "display_name": "Python 3"
    },
    "accelerator": "TPU"
  },
  "cells": [
    {
      "cell_type": "markdown",
      "metadata": {
        "id": "view-in-github",
        "colab_type": "text"
      },
      "source": [
        "<a href=\"https://colab.research.google.com/github/alirezasdg1/Amazon-recommender-system/blob/master/notebooks/NLP_preprocess.ipynb\" target=\"_parent\"><img src=\"https://colab.research.google.com/assets/colab-badge.svg\" alt=\"Open In Colab\"/></a>"
      ]
    },
    {
      "cell_type": "markdown",
      "metadata": {
        "id": "YZPff3c1xqEM",
        "colab_type": "text"
      },
      "source": [
        "## process text data"
      ]
    },
    {
      "cell_type": "code",
      "metadata": {
        "id": "FXI2wteAxb7j",
        "colab_type": "code",
        "colab": {}
      },
      "source": [
        "import os\n",
        "import json\n",
        "import gzip\n",
        "import pandas as pd\n",
        "from urllib.request import urlopen\n",
        "from google.colab import files\n",
        "import numpy as np\n",
        "\n",
        "import re\n",
        "import urllib\n",
        "import string\n",
        "import nltk\n",
        "from nltk.corpus import stopwords\n",
        "from nltk.stem.snowball import SnowballStemmer\n",
        "from nltk.stem import PorterStemmer\n",
        "from nltk.stem import WordNetLemmatizer\n",
        "from sklearn.feature_extraction.text import TfidfVectorizer"
      ],
      "execution_count": 61,
      "outputs": []
    },
    {
      "cell_type": "code",
      "metadata": {
        "id": "RKInYTa8L0P_",
        "colab_type": "code",
        "colab": {
          "base_uri": "https://localhost:8080/",
          "height": 204
        },
        "outputId": "41249a0f-487e-43be-e8c9-99ff3df65584"
      },
      "source": [
        "nltk.download('stopwords')\n",
        "nltk.download('wordnet')\n",
        "nltk.download('punkt')\n",
        "nltk.download('averaged_perceptron_tagger') "
      ],
      "execution_count": 62,
      "outputs": [
        {
          "output_type": "stream",
          "text": [
            "[nltk_data] Downloading package stopwords to /root/nltk_data...\n",
            "[nltk_data]   Package stopwords is already up-to-date!\n",
            "[nltk_data] Downloading package wordnet to /root/nltk_data...\n",
            "[nltk_data]   Package wordnet is already up-to-date!\n",
            "[nltk_data] Downloading package punkt to /root/nltk_data...\n",
            "[nltk_data]   Package punkt is already up-to-date!\n",
            "[nltk_data] Downloading package averaged_perceptron_tagger to\n",
            "[nltk_data]     /root/nltk_data...\n",
            "[nltk_data]   Package averaged_perceptron_tagger is already up-to-\n",
            "[nltk_data]       date!\n"
          ],
          "name": "stdout"
        },
        {
          "output_type": "execute_result",
          "data": {
            "text/plain": [
              "True"
            ]
          },
          "metadata": {
            "tags": []
          },
          "execution_count": 62
        }
      ]
    },
    {
      "cell_type": "code",
      "metadata": {
        "id": "B_NP1FEvyH2t",
        "colab_type": "code",
        "colab": {
          "base_uri": "https://localhost:8080/",
          "height": 34
        },
        "outputId": "14397b7c-27ee-4bac-aee3-13a8adef260e"
      },
      "source": [
        "from google.colab import drive\n",
        "drive.mount('/content/drive')"
      ],
      "execution_count": 4,
      "outputs": [
        {
          "output_type": "stream",
          "text": [
            "Mounted at /content/drive\n"
          ],
          "name": "stdout"
        }
      ]
    },
    {
      "cell_type": "code",
      "metadata": {
        "id": "Rdt-RJF5zHmm",
        "colab_type": "code",
        "colab": {
          "base_uri": "https://localhost:8080/",
          "height": 71
        },
        "outputId": "7d6d22ec-9109-4b4b-f16b-e0b887c643e3"
      },
      "source": [
        "df_all_15 = pd.read_csv(\"/content/drive/My Drive/Datasets/df_all_15.csv\")"
      ],
      "execution_count": 63,
      "outputs": [
        {
          "output_type": "stream",
          "text": [
            "/usr/local/lib/python3.6/dist-packages/IPython/core/interactiveshell.py:2718: DtypeWarning: Columns (9,29) have mixed types.Specify dtype option on import or set low_memory=False.\n",
            "  interactivity=interactivity, compiler=compiler, result=result)\n"
          ],
          "name": "stderr"
        }
      ]
    },
    {
      "cell_type": "code",
      "metadata": {
        "id": "ZgxzWeqaza2b",
        "colab_type": "code",
        "colab": {}
      },
      "source": [
        "df_all_15.drop(['Unnamed: 0','tech1', 'tech2','Unnamed: 0_x','fit','similar_item','date','details','Unnamed: 0_y','reviewTime','reviewerID','reviewerName','vote','image_y','Total_review_C','Total_review_P'], axis=1,inplace=True)"
      ],
      "execution_count": 64,
      "outputs": []
    },
    {
      "cell_type": "code",
      "metadata": {
        "id": "Oxa27bnMzsbK",
        "colab_type": "code",
        "colab": {
          "base_uri": "https://localhost:8080/",
          "height": 301
        },
        "outputId": "285463e5-e324-490d-fc8c-452c830b8157"
      },
      "source": [
        "df_all_15.head(2)"
      ],
      "execution_count": 65,
      "outputs": [
        {
          "output_type": "execute_result",
          "data": {
            "text/html": [
              "<div>\n",
              "<style scoped>\n",
              "    .dataframe tbody tr th:only-of-type {\n",
              "        vertical-align: middle;\n",
              "    }\n",
              "\n",
              "    .dataframe tbody tr th {\n",
              "        vertical-align: top;\n",
              "    }\n",
              "\n",
              "    .dataframe thead th {\n",
              "        text-align: right;\n",
              "    }\n",
              "</style>\n",
              "<table border=\"1\" class=\"dataframe\">\n",
              "  <thead>\n",
              "    <tr style=\"text-align: right;\">\n",
              "      <th></th>\n",
              "      <th>category</th>\n",
              "      <th>description</th>\n",
              "      <th>title</th>\n",
              "      <th>also_buy</th>\n",
              "      <th>image_x</th>\n",
              "      <th>brand</th>\n",
              "      <th>feature</th>\n",
              "      <th>rank</th>\n",
              "      <th>also_view</th>\n",
              "      <th>main_cat</th>\n",
              "      <th>price</th>\n",
              "      <th>asin</th>\n",
              "      <th>overall</th>\n",
              "      <th>verified</th>\n",
              "      <th>reviewText</th>\n",
              "      <th>summary</th>\n",
              "      <th>unixReviewTime</th>\n",
              "      <th>style</th>\n",
              "    </tr>\n",
              "  </thead>\n",
              "  <tbody>\n",
              "    <tr>\n",
              "      <th>0</th>\n",
              "      <td>['Sports &amp; Outdoors', 'Outdoor Recreation', 'C...</td>\n",
              "      <td>['Find your way through New York while hitting...</td>\n",
              "      <td>Delorme New York State Atlas &amp;amp; Gazetteer</td>\n",
              "      <td>['0899334415', '0899334431', '0899333419', '08...</td>\n",
              "      <td>['https://images-na.ssl-images-amazon.com/imag...</td>\n",
              "      <td>Garmin</td>\n",
              "      <td>['Amazingly detailed and beautifully crafted, ...</td>\n",
              "      <td>121,074 in Office Products (</td>\n",
              "      <td>['0528881922', '1569145792', '0899334431', '08...</td>\n",
              "      <td>Office Products</td>\n",
              "      <td>$19.95</td>\n",
              "      <td>0899332757</td>\n",
              "      <td>5.0</td>\n",
              "      <td>False</td>\n",
              "      <td>If you're interested in exploring any area of ...</td>\n",
              "      <td>Great for exploring the rural parts of the state</td>\n",
              "      <td>1470009600</td>\n",
              "      <td>{'Format:': ' Paperback'}</td>\n",
              "    </tr>\n",
              "    <tr>\n",
              "      <th>1</th>\n",
              "      <td>['Sports &amp; Outdoors', 'Outdoor Recreation', 'C...</td>\n",
              "      <td>['Find your way through New York while hitting...</td>\n",
              "      <td>Delorme New York State Atlas &amp;amp; Gazetteer</td>\n",
              "      <td>['0899334415', '0899334431', '0899333419', '08...</td>\n",
              "      <td>['https://images-na.ssl-images-amazon.com/imag...</td>\n",
              "      <td>Garmin</td>\n",
              "      <td>['Amazingly detailed and beautifully crafted, ...</td>\n",
              "      <td>121,074 in Office Products (</td>\n",
              "      <td>['0528881922', '1569145792', '0899334431', '08...</td>\n",
              "      <td>Office Products</td>\n",
              "      <td>$19.95</td>\n",
              "      <td>0899332757</td>\n",
              "      <td>4.0</td>\n",
              "      <td>True</td>\n",
              "      <td>Wonderful, comprehensive atlas.  It's a little...</td>\n",
              "      <td>Four Stars</td>\n",
              "      <td>1438646400</td>\n",
              "      <td>{'Format:': ' Paperback'}</td>\n",
              "    </tr>\n",
              "  </tbody>\n",
              "</table>\n",
              "</div>"
            ],
            "text/plain": [
              "                                            category  ...                      style\n",
              "0  ['Sports & Outdoors', 'Outdoor Recreation', 'C...  ...  {'Format:': ' Paperback'}\n",
              "1  ['Sports & Outdoors', 'Outdoor Recreation', 'C...  ...  {'Format:': ' Paperback'}\n",
              "\n",
              "[2 rows x 18 columns]"
            ]
          },
          "metadata": {
            "tags": []
          },
          "execution_count": 65
        }
      ]
    },
    {
      "cell_type": "code",
      "metadata": {
        "id": "7FdAeTlLWNM0",
        "colab_type": "code",
        "colab": {
          "base_uri": "https://localhost:8080/",
          "height": 442
        },
        "outputId": "6da9fd70-7d54-46bf-fac6-01e9b7d13b2d"
      },
      "source": [
        "df_all_15.info()"
      ],
      "execution_count": 66,
      "outputs": [
        {
          "output_type": "stream",
          "text": [
            "<class 'pandas.core.frame.DataFrame'>\n",
            "RangeIndex: 370260 entries, 0 to 370259\n",
            "Data columns (total 18 columns):\n",
            " #   Column          Non-Null Count   Dtype  \n",
            "---  ------          --------------   -----  \n",
            " 0   category        370260 non-null  object \n",
            " 1   description     370260 non-null  object \n",
            " 2   title           370252 non-null  object \n",
            " 3   also_buy        370260 non-null  object \n",
            " 4   image_x         370260 non-null  object \n",
            " 5   brand           359110 non-null  object \n",
            " 6   feature         370260 non-null  object \n",
            " 7   rank            370260 non-null  object \n",
            " 8   also_view       370260 non-null  object \n",
            " 9   main_cat        369863 non-null  object \n",
            " 10  price           305197 non-null  object \n",
            " 11  asin            370260 non-null  object \n",
            " 12  overall         370260 non-null  float64\n",
            " 13  verified        370260 non-null  bool   \n",
            " 14  reviewText      370160 non-null  object \n",
            " 15  summary         370177 non-null  object \n",
            " 16  unixReviewTime  370260 non-null  int64  \n",
            " 17  style           229301 non-null  object \n",
            "dtypes: bool(1), float64(1), int64(1), object(15)\n",
            "memory usage: 48.4+ MB\n"
          ],
          "name": "stdout"
        }
      ]
    },
    {
      "cell_type": "code",
      "metadata": {
        "id": "Rq_byOtkWwmM",
        "colab_type": "code",
        "colab": {}
      },
      "source": [
        "df_all_15 = df_all_15[df_all_15['title'].notnull()]"
      ],
      "execution_count": 67,
      "outputs": []
    },
    {
      "cell_type": "code",
      "metadata": {
        "id": "ucpgjrSraGqi",
        "colab_type": "code",
        "colab": {}
      },
      "source": [
        "df_all_15['description'] = df_all_15['description'].replace(np.nan, ' ', regex=True)\n",
        "df_all_15['brand'] = df_all_15['brand'].replace(np.nan, ' ', regex=True)\n",
        "df_all_15['feature'] = df_all_15['feature'].replace(np.nan, ' ', regex=True)\n",
        "df_all_15['reviewText'] = df_all_15['reviewText'].replace(np.nan, ' ', regex=True)\n",
        "df_all_15['summary'] = df_all_15['summary'].replace(np.nan, ' ', regex=True)\n",
        "df_all_15['style'] = df_all_15['style'].replace(np.nan, ' ', regex=True)"
      ],
      "execution_count": 70,
      "outputs": []
    },
    {
      "cell_type": "code",
      "metadata": {
        "id": "1jhZGyDNY2rJ",
        "colab_type": "code",
        "colab": {}
      },
      "source": [
        "df_all_15[\"item_text\"] = df_all_15[\"description\"]+df_all_15[\"brand\"]+df_all_15[\"feature\"]+df_all_15[\"summary\"]+df_all_15['style']"
      ],
      "execution_count": 72,
      "outputs": []
    },
    {
      "cell_type": "code",
      "metadata": {
        "id": "ztRXfUp-7Qq3",
        "colab_type": "code",
        "colab": {
          "base_uri": "https://localhost:8080/",
          "height": 69
        },
        "outputId": "51bde0f8-d648-40d1-b1c8-fbc3523be674"
      },
      "source": [
        "df_all_15[\"image_x\"].iloc[100]\n"
      ],
      "execution_count": null,
      "outputs": [
        {
          "output_type": "execute_result",
          "data": {
            "application/vnd.google.colaboratory.intrinsic+json": {
              "type": "string"
            },
            "text/plain": [
              "\"['https://images-na.ssl-images-amazon.com/images/I/510IoiKdv-L._SS40_.jpg', 'https://images-na.ssl-images-amazon.com/images/I/31wNURrrBSL._SS40_.jpg', 'https://images-na.ssl-images-amazon.com/images/I/41kb57MKTsL._SS40_.jpg', 'https://images-na.ssl-images-amazon.com/images/I/4152ysfRboL._SS40_.jpg', 'https://images-na.ssl-images-amazon.com/images/I/41A8vr5krnL._SS40_.jpg']\""
            ]
          },
          "metadata": {
            "tags": []
          },
          "execution_count": 28
        }
      ]
    },
    {
      "cell_type": "code",
      "metadata": {
        "id": "IdEsZYEA7ADO",
        "colab_type": "code",
        "colab": {
          "base_uri": "https://localhost:8080/",
          "height": 35
        },
        "outputId": "430685e0-59da-4b17-d593-87505ca2320e"
      },
      "source": [
        "df_all_15[\"image_x\"].iloc[1].split(',')[0][2:-1]\n"
      ],
      "execution_count": null,
      "outputs": [
        {
          "output_type": "execute_result",
          "data": {
            "application/vnd.google.colaboratory.intrinsic+json": {
              "type": "string"
            },
            "text/plain": [
              "'https://images-na.ssl-images-amazon.com/images/I/51eXt4FThxL._SS40_.jpg'"
            ]
          },
          "metadata": {
            "tags": []
          },
          "execution_count": 38
        }
      ]
    },
    {
      "cell_type": "code",
      "metadata": {
        "id": "2aKmpaC17UkP",
        "colab_type": "code",
        "colab": {
          "base_uri": "https://localhost:8080/",
          "height": 35
        },
        "outputId": "9e3f6d6b-e4fc-415f-cc4f-bf8eeb1800e9"
      },
      "source": [
        "df_all_15[\"image_x\"].iloc[25678].split(',')[0][2:-1]\n"
      ],
      "execution_count": null,
      "outputs": [
        {
          "output_type": "execute_result",
          "data": {
            "application/vnd.google.colaboratory.intrinsic+json": {
              "type": "string"
            },
            "text/plain": [
              "'https://images-na.ssl-images-amazon.com/images/I/712AbM5F8oL._SS40_.jpg'"
            ]
          },
          "metadata": {
            "tags": []
          },
          "execution_count": 37
        }
      ]
    },
    {
      "cell_type": "code",
      "metadata": {
        "id": "kFSpmzAz7YIE",
        "colab_type": "code",
        "colab": {
          "base_uri": "https://localhost:8080/",
          "height": 35
        },
        "outputId": "6f2c427d-0816-4b60-c55f-6ff874fc5dd8"
      },
      "source": [
        "df_all_15[\"image_x\"].iloc[1].split(',')[0][2:-1]"
      ],
      "execution_count": null,
      "outputs": [
        {
          "output_type": "execute_result",
          "data": {
            "application/vnd.google.colaboratory.intrinsic+json": {
              "type": "string"
            },
            "text/plain": [
              "'https://images-na.ssl-images-amazon.com/images/I/51eXt4FThxL._SS40_.jpg'"
            ]
          },
          "metadata": {
            "tags": []
          },
          "execution_count": 39
        }
      ]
    },
    {
      "cell_type": "code",
      "metadata": {
        "colab_type": "code",
        "id": "iBXeKeat3wdz",
        "colab": {
          "base_uri": "https://localhost:8080/",
          "height": 52
        },
        "outputId": "3b6d2c66-2c60-40a1-84db-bc606af62759"
      },
      "source": [
        "df_all_15[\"image_x\"].iloc[0]"
      ],
      "execution_count": null,
      "outputs": [
        {
          "output_type": "execute_result",
          "data": {
            "application/vnd.google.colaboratory.intrinsic+json": {
              "type": "string"
            },
            "text/plain": [
              "\"['https://images-na.ssl-images-amazon.com/images/I/51eXt4FThxL._SS40_.jpg', 'https://images-na.ssl-images-amazon.com/images/I/31bqMEqwU3L._SS40_.jpg']\""
            ]
          },
          "metadata": {
            "tags": []
          },
          "execution_count": 7
        }
      ]
    },
    {
      "cell_type": "markdown",
      "metadata": {
        "id": "8gwsl-QRKPiP",
        "colab_type": "text"
      },
      "source": [
        "## preprosses text data"
      ]
    },
    {
      "cell_type": "code",
      "metadata": {
        "id": "2jIKBT00xoN5",
        "colab_type": "code",
        "colab": {}
      },
      "source": [
        "def text_process(text):\n",
        "        \n",
        "        text = re.sub(r'<[^>]*>', ' ', text).strip()\n",
        "        text = text.lower()\n",
        "        text = re.sub('\\[.*?\\]', '', text)\n",
        "        text = re.sub('[%s]' % re.escape(string.punctuation), '', text)\n",
        "        text = re.sub('\\w*\\d\\w*', '', text)\n",
        "        text = re.sub('[‘’“”…]', '', text)\n",
        "        text = re.sub('\\n', '', text)\n",
        "        nopunc = [char for char in text if char not in string.punctuation]\n",
        "\n",
        "        nopunc = ''.join(nopunc)\n",
        "        list_words = [word for word in nopunc.split() if word.lower() not in stopwords.words('english')]\n",
        "     \n",
        "        stemmer_snowball = PorterStemmer()\n",
        " \n",
        "        tokens_stemsnowball = [stemmer_snowball.stem(sent) for sent in list_words]\n",
        "\n",
        "        return ' '.join(tokens_stemsnowball)\n"
      ],
      "execution_count": 73,
      "outputs": []
    },
    {
      "cell_type": "code",
      "metadata": {
        "id": "yxqLLvBtbP3v",
        "colab_type": "code",
        "colab": {}
      },
      "source": [
        "df_all_15['item_text'] = df_all_15['item_text'].apply(text_process)"
      ],
      "execution_count": 74,
      "outputs": []
    },
    {
      "cell_type": "code",
      "metadata": {
        "id": "rVXeWHIlEEkp",
        "colab_type": "code",
        "colab": {}
      },
      "source": [
        "df_all_15['reviewText'] = df_all_15['reviewText'].apply(text_process)"
      ],
      "execution_count": 75,
      "outputs": []
    },
    {
      "cell_type": "code",
      "metadata": {
        "id": "zQKlt_v80JOL",
        "colab_type": "code",
        "colab": {}
      },
      "source": [
        "df_all_15['title_nlp'] = df_all_15['title'].apply(text_process)"
      ],
      "execution_count": 76,
      "outputs": []
    },
    {
      "cell_type": "code",
      "metadata": {
        "id": "P_5oy4-6k0sH",
        "colab_type": "code",
        "colab": {
          "base_uri": "https://localhost:8080/",
          "height": 185
        },
        "outputId": "94a7fee3-6302-4c6c-9f60-e5d1ef8e5779"
      },
      "source": [
        "df_all_15.head(1)"
      ],
      "execution_count": 78,
      "outputs": [
        {
          "output_type": "execute_result",
          "data": {
            "text/html": [
              "<div>\n",
              "<style scoped>\n",
              "    .dataframe tbody tr th:only-of-type {\n",
              "        vertical-align: middle;\n",
              "    }\n",
              "\n",
              "    .dataframe tbody tr th {\n",
              "        vertical-align: top;\n",
              "    }\n",
              "\n",
              "    .dataframe thead th {\n",
              "        text-align: right;\n",
              "    }\n",
              "</style>\n",
              "<table border=\"1\" class=\"dataframe\">\n",
              "  <thead>\n",
              "    <tr style=\"text-align: right;\">\n",
              "      <th></th>\n",
              "      <th>category</th>\n",
              "      <th>description</th>\n",
              "      <th>title</th>\n",
              "      <th>also_buy</th>\n",
              "      <th>image_x</th>\n",
              "      <th>brand</th>\n",
              "      <th>feature</th>\n",
              "      <th>rank</th>\n",
              "      <th>also_view</th>\n",
              "      <th>main_cat</th>\n",
              "      <th>price</th>\n",
              "      <th>asin</th>\n",
              "      <th>overall</th>\n",
              "      <th>verified</th>\n",
              "      <th>reviewText</th>\n",
              "      <th>summary</th>\n",
              "      <th>unixReviewTime</th>\n",
              "      <th>style</th>\n",
              "      <th>item_text</th>\n",
              "      <th>title_nlp</th>\n",
              "    </tr>\n",
              "  </thead>\n",
              "  <tbody>\n",
              "    <tr>\n",
              "      <th>0</th>\n",
              "      <td>['Sports &amp; Outdoors', 'Outdoor Recreation', 'C...</td>\n",
              "      <td>['Find your way through New York while hitting...</td>\n",
              "      <td>Delorme New York State Atlas &amp;amp; Gazetteer</td>\n",
              "      <td>['0899334415', '0899334431', '0899333419', '08...</td>\n",
              "      <td>['https://images-na.ssl-images-amazon.com/imag...</td>\n",
              "      <td>Garmin</td>\n",
              "      <td>['Amazingly detailed and beautifully crafted, ...</td>\n",
              "      <td>121,074 in Office Products (</td>\n",
              "      <td>['0528881922', '1569145792', '0899334431', '08...</td>\n",
              "      <td>Office Products</td>\n",
              "      <td>$19.95</td>\n",
              "      <td>0899332757</td>\n",
              "      <td>5.0</td>\n",
              "      <td>False</td>\n",
              "      <td>your interest explor area new york beyond metr...</td>\n",
              "      <td>Great for exploring the rural parts of the state</td>\n",
              "      <td>1470009600</td>\n",
              "      <td>{'Format:': ' Paperback'}</td>\n",
              "      <td>garmingreat explor rural part stateformat pape...</td>\n",
              "      <td>delorm new york state atla amp gazett</td>\n",
              "    </tr>\n",
              "  </tbody>\n",
              "</table>\n",
              "</div>"
            ],
            "text/plain": [
              "                                            category  ...                              title_nlp\n",
              "0  ['Sports & Outdoors', 'Outdoor Recreation', 'C...  ...  delorm new york state atla amp gazett\n",
              "\n",
              "[1 rows x 20 columns]"
            ]
          },
          "metadata": {
            "tags": []
          },
          "execution_count": 78
        }
      ]
    },
    {
      "cell_type": "code",
      "metadata": {
        "id": "1lUrPRhjs_eL",
        "colab_type": "code",
        "colab": {}
      },
      "source": [
        "df_all_15.drop(['description','brand','feature','reviewText','summary',\"style\"], axis=1,inplace=True)"
      ],
      "execution_count": 79,
      "outputs": []
    },
    {
      "cell_type": "code",
      "metadata": {
        "id": "5MzO1RqLthD6",
        "colab_type": "code",
        "colab": {
          "base_uri": "https://localhost:8080/",
          "height": 683
        },
        "outputId": "e86b90d8-eed0-44a2-bc92-c58cc4dfd1d5"
      },
      "source": [
        "df_all_15.head()"
      ],
      "execution_count": 80,
      "outputs": [
        {
          "output_type": "execute_result",
          "data": {
            "text/html": [
              "<div>\n",
              "<style scoped>\n",
              "    .dataframe tbody tr th:only-of-type {\n",
              "        vertical-align: middle;\n",
              "    }\n",
              "\n",
              "    .dataframe tbody tr th {\n",
              "        vertical-align: top;\n",
              "    }\n",
              "\n",
              "    .dataframe thead th {\n",
              "        text-align: right;\n",
              "    }\n",
              "</style>\n",
              "<table border=\"1\" class=\"dataframe\">\n",
              "  <thead>\n",
              "    <tr style=\"text-align: right;\">\n",
              "      <th></th>\n",
              "      <th>category</th>\n",
              "      <th>title</th>\n",
              "      <th>also_buy</th>\n",
              "      <th>image_x</th>\n",
              "      <th>rank</th>\n",
              "      <th>also_view</th>\n",
              "      <th>main_cat</th>\n",
              "      <th>price</th>\n",
              "      <th>asin</th>\n",
              "      <th>overall</th>\n",
              "      <th>verified</th>\n",
              "      <th>unixReviewTime</th>\n",
              "      <th>item_text</th>\n",
              "      <th>title_nlp</th>\n",
              "    </tr>\n",
              "  </thead>\n",
              "  <tbody>\n",
              "    <tr>\n",
              "      <th>0</th>\n",
              "      <td>['Sports &amp; Outdoors', 'Outdoor Recreation', 'C...</td>\n",
              "      <td>Delorme New York State Atlas &amp;amp; Gazetteer</td>\n",
              "      <td>['0899334415', '0899334431', '0899333419', '08...</td>\n",
              "      <td>['https://images-na.ssl-images-amazon.com/imag...</td>\n",
              "      <td>121,074 in Office Products (</td>\n",
              "      <td>['0528881922', '1569145792', '0899334431', '08...</td>\n",
              "      <td>Office Products</td>\n",
              "      <td>$19.95</td>\n",
              "      <td>0899332757</td>\n",
              "      <td>5.0</td>\n",
              "      <td>False</td>\n",
              "      <td>1470009600</td>\n",
              "      <td>garmingreat explor rural part stateformat pape...</td>\n",
              "      <td>delorm new york state atla amp gazett</td>\n",
              "    </tr>\n",
              "    <tr>\n",
              "      <th>1</th>\n",
              "      <td>['Sports &amp; Outdoors', 'Outdoor Recreation', 'C...</td>\n",
              "      <td>Delorme New York State Atlas &amp;amp; Gazetteer</td>\n",
              "      <td>['0899334415', '0899334431', '0899333419', '08...</td>\n",
              "      <td>['https://images-na.ssl-images-amazon.com/imag...</td>\n",
              "      <td>121,074 in Office Products (</td>\n",
              "      <td>['0528881922', '1569145792', '0899334431', '08...</td>\n",
              "      <td>Office Products</td>\n",
              "      <td>$19.95</td>\n",
              "      <td>0899332757</td>\n",
              "      <td>4.0</td>\n",
              "      <td>True</td>\n",
              "      <td>1438646400</td>\n",
              "      <td>garminfour starsformat paperback</td>\n",
              "      <td>delorm new york state atla amp gazett</td>\n",
              "    </tr>\n",
              "    <tr>\n",
              "      <th>2</th>\n",
              "      <td>['Sports &amp; Outdoors', 'Outdoor Recreation', 'C...</td>\n",
              "      <td>Delorme New York State Atlas &amp;amp; Gazetteer</td>\n",
              "      <td>['0899334415', '0899334431', '0899333419', '08...</td>\n",
              "      <td>['https://images-na.ssl-images-amazon.com/imag...</td>\n",
              "      <td>121,074 in Office Products (</td>\n",
              "      <td>['0528881922', '1569145792', '0899334431', '08...</td>\n",
              "      <td>Office Products</td>\n",
              "      <td>$19.95</td>\n",
              "      <td>0899332757</td>\n",
              "      <td>5.0</td>\n",
              "      <td>True</td>\n",
              "      <td>1432771200</td>\n",
              "      <td>garminsuperformat paperback</td>\n",
              "      <td>delorm new york state atla amp gazett</td>\n",
              "    </tr>\n",
              "    <tr>\n",
              "      <th>3</th>\n",
              "      <td>['Sports &amp; Outdoors', 'Outdoor Recreation', 'C...</td>\n",
              "      <td>Garmin DeLorme Atlas &amp;amp; Gazetteer Paper Map...</td>\n",
              "      <td>['0899334482', '0899334474', '0899333834', '19...</td>\n",
              "      <td>['https://images-na.ssl-images-amazon.com/imag...</td>\n",
              "      <td>['&gt;#84,484 in Office Products (See top 100)', ...</td>\n",
              "      <td>[]</td>\n",
              "      <td>Office Products</td>\n",
              "      <td>$21.96</td>\n",
              "      <td>0899333257</td>\n",
              "      <td>5.0</td>\n",
              "      <td>True</td>\n",
              "      <td>1505260800</td>\n",
              "      <td>garminnecessari grid campingformat paperback</td>\n",
              "      <td>garmin delorm atla amp gazett paper map arizona</td>\n",
              "    </tr>\n",
              "    <tr>\n",
              "      <th>4</th>\n",
              "      <td>['Sports &amp; Outdoors', 'Outdoor Recreation', 'C...</td>\n",
              "      <td>Garmin DeLorme Atlas &amp;amp; Gazetteer Paper Map...</td>\n",
              "      <td>['0899334482', '0899334474', '0899333834', '19...</td>\n",
              "      <td>['https://images-na.ssl-images-amazon.com/imag...</td>\n",
              "      <td>['&gt;#84,484 in Office Products (See top 100)', ...</td>\n",
              "      <td>[]</td>\n",
              "      <td>Office Products</td>\n",
              "      <td>$21.96</td>\n",
              "      <td>0899333257</td>\n",
              "      <td>5.0</td>\n",
              "      <td>False</td>\n",
              "      <td>1470614400</td>\n",
              "      <td>garmindont explor without</td>\n",
              "      <td>garmin delorm atla amp gazett paper map arizona</td>\n",
              "    </tr>\n",
              "  </tbody>\n",
              "</table>\n",
              "</div>"
            ],
            "text/plain": [
              "                                            category  ...                                        title_nlp\n",
              "0  ['Sports & Outdoors', 'Outdoor Recreation', 'C...  ...            delorm new york state atla amp gazett\n",
              "1  ['Sports & Outdoors', 'Outdoor Recreation', 'C...  ...            delorm new york state atla amp gazett\n",
              "2  ['Sports & Outdoors', 'Outdoor Recreation', 'C...  ...            delorm new york state atla amp gazett\n",
              "3  ['Sports & Outdoors', 'Outdoor Recreation', 'C...  ...  garmin delorm atla amp gazett paper map arizona\n",
              "4  ['Sports & Outdoors', 'Outdoor Recreation', 'C...  ...  garmin delorm atla amp gazett paper map arizona\n",
              "\n",
              "[5 rows x 14 columns]"
            ]
          },
          "metadata": {
            "tags": []
          },
          "execution_count": 80
        }
      ]
    },
    {
      "cell_type": "code",
      "metadata": {
        "id": "0QhjTKVAvW1z",
        "colab_type": "code",
        "colab": {}
      },
      "source": [
        "df_all_15.drop(['unixReviewTime','main_cat'],axis=1,inplace=True)"
      ],
      "execution_count": 81,
      "outputs": []
    },
    {
      "cell_type": "code",
      "metadata": {
        "id": "n1XXGWCrx1DH",
        "colab_type": "code",
        "colab": {}
      },
      "source": [
        "df_all_15.to_csv('/content/drive/My Drive/Datasets/df_all_15_text.csv')"
      ],
      "execution_count": 82,
      "outputs": []
    },
    {
      "cell_type": "code",
      "metadata": {
        "id": "8ZHv1gHHUyA4",
        "colab_type": "code",
        "colab": {
          "base_uri": "https://localhost:8080/",
          "height": 564
        },
        "outputId": "2d446ac5-1cfd-44b9-c5a8-3d2f1bb96968"
      },
      "source": [
        "pip install awscli"
      ],
      "execution_count": 83,
      "outputs": [
        {
          "output_type": "stream",
          "text": [
            "Collecting awscli\n",
            "\u001b[?25l  Downloading https://files.pythonhosted.org/packages/db/1d/861d33dc26b2a6cb5457d6a7e05378e132a0df3de6341c0eee96e0207518/awscli-1.18.139-py2.py3-none-any.whl (3.3MB)\n",
            "\u001b[K     |████████████████████████████████| 3.3MB 3.5MB/s \n",
            "\u001b[?25hCollecting colorama<0.4.4,>=0.2.5; python_version != \"3.4\"\n",
            "  Downloading https://files.pythonhosted.org/packages/c9/dc/45cdef1b4d119eb96316b3117e6d5708a08029992b2fee2c143c7a0a5cc5/colorama-0.4.3-py2.py3-none-any.whl\n",
            "Requirement already satisfied: PyYAML<5.4,>=3.10; python_version != \"3.4\" in /usr/local/lib/python3.6/dist-packages (from awscli) (3.13)\n",
            "Requirement already satisfied: s3transfer<0.4.0,>=0.3.0 in /usr/local/lib/python3.6/dist-packages (from awscli) (0.3.3)\n",
            "Requirement already satisfied: docutils<0.16,>=0.10 in /usr/local/lib/python3.6/dist-packages (from awscli) (0.15.2)\n",
            "Collecting rsa<=4.5.0,>=3.1.2; python_version != \"3.4\"\n",
            "  Downloading https://files.pythonhosted.org/packages/26/f8/8127fdda0294f044121d20aac7785feb810e159098447967a6103dedfb96/rsa-4.5-py2.py3-none-any.whl\n",
            "Collecting botocore==1.17.62\n",
            "\u001b[?25l  Downloading https://files.pythonhosted.org/packages/1f/df/38d177a527ce7882a4c3d6bb3b22ddb6dec304faec691f5c13c530cbccf2/botocore-1.17.62-py2.py3-none-any.whl (6.6MB)\n",
            "\u001b[K     |████████████████████████████████| 6.6MB 30.1MB/s \n",
            "\u001b[?25hRequirement already satisfied: pyasn1>=0.1.3 in /usr/local/lib/python3.6/dist-packages (from rsa<=4.5.0,>=3.1.2; python_version != \"3.4\"->awscli) (0.4.8)\n",
            "Requirement already satisfied: urllib3<1.26,>=1.20; python_version != \"3.4\" in /usr/local/lib/python3.6/dist-packages (from botocore==1.17.62->awscli) (1.24.3)\n",
            "Requirement already satisfied: python-dateutil<3.0.0,>=2.1 in /usr/local/lib/python3.6/dist-packages (from botocore==1.17.62->awscli) (2.8.1)\n",
            "Requirement already satisfied: jmespath<1.0.0,>=0.7.1 in /usr/local/lib/python3.6/dist-packages (from botocore==1.17.62->awscli) (0.10.0)\n",
            "Requirement already satisfied: six>=1.5 in /usr/local/lib/python3.6/dist-packages (from python-dateutil<3.0.0,>=2.1->botocore==1.17.62->awscli) (1.15.0)\n",
            "Installing collected packages: colorama, rsa, botocore, awscli\n",
            "  Found existing installation: rsa 4.6\n",
            "    Uninstalling rsa-4.6:\n",
            "      Successfully uninstalled rsa-4.6\n",
            "  Found existing installation: botocore 1.17.59\n",
            "    Uninstalling botocore-1.17.59:\n",
            "      Successfully uninstalled botocore-1.17.59\n",
            "Successfully installed awscli-1.18.139 botocore-1.17.62 colorama-0.4.3 rsa-4.5\n"
          ],
          "name": "stdout"
        },
        {
          "output_type": "display_data",
          "data": {
            "application/vnd.colab-display-data+json": {
              "pip_warning": {
                "packages": [
                  "rsa"
                ]
              }
            }
          },
          "metadata": {
            "tags": []
          }
        }
      ]
    },
    {
      "cell_type": "code",
      "metadata": {
        "id": "Eg4lE3CzVA60",
        "colab_type": "code",
        "colab": {}
      },
      "source": [
        "import boto3"
      ],
      "execution_count": 84,
      "outputs": []
    },
    {
      "cell_type": "code",
      "metadata": {
        "id": "LqIQ138mVPsk",
        "colab_type": "code",
        "colab": {}
      },
      "source": [
        "s3 = boto3.client('s3')"
      ],
      "execution_count": 85,
      "outputs": []
    },
    {
      "cell_type": "code",
      "metadata": {
        "id": "drCWDTXhVSXl",
        "colab_type": "code",
        "colab": {
          "base_uri": "https://localhost:8080/",
          "height": 129
        },
        "outputId": "dcd49b61-3cd1-4987-8222-702e1df7b4f9"
      },
      "source": [
        "aws configure"
      ],
      "execution_count": 87,
      "outputs": [
        {
          "output_type": "error",
          "ename": "SyntaxError",
          "evalue": "ignored",
          "traceback": [
            "\u001b[0;36m  File \u001b[0;32m\"<ipython-input-87-328bd8bf4bf5>\"\u001b[0;36m, line \u001b[0;32m1\u001b[0m\n\u001b[0;31m    aws configure\u001b[0m\n\u001b[0m                ^\u001b[0m\n\u001b[0;31mSyntaxError\u001b[0m\u001b[0;31m:\u001b[0m invalid syntax\n"
          ]
        }
      ]
    },
    {
      "cell_type": "code",
      "metadata": {
        "id": "HCefz1-CVfuW",
        "colab_type": "code",
        "colab": {}
      },
      "source": [
        ""
      ],
      "execution_count": null,
      "outputs": []
    }
  ]
}