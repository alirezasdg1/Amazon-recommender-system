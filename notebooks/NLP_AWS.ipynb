{
 "cells": [
  {
   "cell_type": "markdown",
   "metadata": {},
   "source": [
    "## NLP \n",
    "I use AWS to performe my NLP processing"
   ]
  },
  {
   "cell_type": "code",
   "execution_count": 1,
   "metadata": {},
   "outputs": [],
   "source": [
    "import boto3\n",
    "import pandas as pd\n",
    "import numpy as np\n",
    "import sys\n",
    "from io import StringIO"
   ]
  },
  {
   "cell_type": "code",
   "execution_count": 3,
   "metadata": {},
   "outputs": [],
   "source": [
    "sys.path.insert(1, '../src')\n",
    "from NLP import nlp_process\n",
    "from Content_recommender import ContentRecommender"
   ]
  },
  {
   "cell_type": "code",
   "execution_count": 2,
   "metadata": {},
   "outputs": [],
   "source": [
    "%load_ext autoreload\n",
    "%autoreload 2"
   ]
  },
  {
   "cell_type": "code",
   "execution_count": 4,
   "metadata": {},
   "outputs": [],
   "source": [
    "%reload_ext autoreload"
   ]
  },
  {
   "cell_type": "code",
   "execution_count": 5,
   "metadata": {},
   "outputs": [],
   "source": [
    "s3 = boto3.client('s3')"
   ]
  },
  {
   "cell_type": "code",
   "execution_count": 6,
   "metadata": {},
   "outputs": [],
   "source": [
    "df_all_15 = pd.read_csv(\"s3://recommender-system-amazon/df_all_15_text.csv\")"
   ]
  },
  {
   "cell_type": "code",
   "execution_count": 7,
   "metadata": {},
   "outputs": [
    {
     "output_type": "execute_result",
     "data": {
      "text/plain": "(370252, 13)"
     },
     "metadata": {},
     "execution_count": 7
    }
   ],
   "source": [
    "df_all_15.shape"
   ]
  },
  {
   "cell_type": "code",
   "execution_count": 8,
   "metadata": {},
   "outputs": [
    {
     "output_type": "execute_result",
     "data": {
      "text/plain": "   Unnamed: 0                                           category  \\\n0           0  ['Sports & Outdoors', 'Outdoor Recreation', 'C...   \n1           1  ['Sports & Outdoors', 'Outdoor Recreation', 'C...   \n2           2  ['Sports & Outdoors', 'Outdoor Recreation', 'C...   \n3           3  ['Sports & Outdoors', 'Outdoor Recreation', 'C...   \n4           4  ['Sports & Outdoors', 'Outdoor Recreation', 'C...   \n\n                                               title  \\\n0       Delorme New York State Atlas &amp; Gazetteer   \n1       Delorme New York State Atlas &amp; Gazetteer   \n2       Delorme New York State Atlas &amp; Gazetteer   \n3  Garmin DeLorme Atlas &amp; Gazetteer Paper Map...   \n4  Garmin DeLorme Atlas &amp; Gazetteer Paper Map...   \n\n                                            also_buy  \\\n0  ['0899334415', '0899334431', '0899333419', '08...   \n1  ['0899334415', '0899334431', '0899333419', '08...   \n2  ['0899334415', '0899334431', '0899333419', '08...   \n3  ['0899334482', '0899334474', '0899333834', '19...   \n4  ['0899334482', '0899334474', '0899333834', '19...   \n\n                                             image_x  \\\n0  ['https://images-na.ssl-images-amazon.com/imag...   \n1  ['https://images-na.ssl-images-amazon.com/imag...   \n2  ['https://images-na.ssl-images-amazon.com/imag...   \n3  ['https://images-na.ssl-images-amazon.com/imag...   \n4  ['https://images-na.ssl-images-amazon.com/imag...   \n\n                                                rank  \\\n0                       121,074 in Office Products (   \n1                       121,074 in Office Products (   \n2                       121,074 in Office Products (   \n3  ['>#84,484 in Office Products (See top 100)', ...   \n4  ['>#84,484 in Office Products (See top 100)', ...   \n\n                                           also_view   price        asin  \\\n0  ['0528881922', '1569145792', '0899334431', '08...  $19.95  0899332757   \n1  ['0528881922', '1569145792', '0899334431', '08...  $19.95  0899332757   \n2  ['0528881922', '1569145792', '0899334431', '08...  $19.95  0899332757   \n3                                                 []  $21.96  0899333257   \n4                                                 []  $21.96  0899333257   \n\n   overall  verified                                               text  \\\n0      5.0     False  garminif your interest explor area new york be...   \n1      4.0      True  garminwond comprehens atla littl largefour sta...   \n2      5.0      True  garmingreat product fast deliveri need rv trav...   \n3      5.0      True  garmini delorm atla us state theyr amaz detail...   \n4      5.0     False  garminth first delorm atla gazett ever purchas...   \n\n                                         title_nlp  \n0            delorm new york state atla amp gazett  \n1            delorm new york state atla amp gazett  \n2            delorm new york state atla amp gazett  \n3  garmin delorm atla amp gazett paper map arizona  \n4  garmin delorm atla amp gazett paper map arizona  ",
      "text/html": "<div>\n<style scoped>\n    .dataframe tbody tr th:only-of-type {\n        vertical-align: middle;\n    }\n\n    .dataframe tbody tr th {\n        vertical-align: top;\n    }\n\n    .dataframe thead th {\n        text-align: right;\n    }\n</style>\n<table border=\"1\" class=\"dataframe\">\n  <thead>\n    <tr style=\"text-align: right;\">\n      <th></th>\n      <th>Unnamed: 0</th>\n      <th>category</th>\n      <th>title</th>\n      <th>also_buy</th>\n      <th>image_x</th>\n      <th>rank</th>\n      <th>also_view</th>\n      <th>price</th>\n      <th>asin</th>\n      <th>overall</th>\n      <th>verified</th>\n      <th>text</th>\n      <th>title_nlp</th>\n    </tr>\n  </thead>\n  <tbody>\n    <tr>\n      <th>0</th>\n      <td>0</td>\n      <td>['Sports &amp; Outdoors', 'Outdoor Recreation', 'C...</td>\n      <td>Delorme New York State Atlas &amp;amp; Gazetteer</td>\n      <td>['0899334415', '0899334431', '0899333419', '08...</td>\n      <td>['https://images-na.ssl-images-amazon.com/imag...</td>\n      <td>121,074 in Office Products (</td>\n      <td>['0528881922', '1569145792', '0899334431', '08...</td>\n      <td>$19.95</td>\n      <td>0899332757</td>\n      <td>5.0</td>\n      <td>False</td>\n      <td>garminif your interest explor area new york be...</td>\n      <td>delorm new york state atla amp gazett</td>\n    </tr>\n    <tr>\n      <th>1</th>\n      <td>1</td>\n      <td>['Sports &amp; Outdoors', 'Outdoor Recreation', 'C...</td>\n      <td>Delorme New York State Atlas &amp;amp; Gazetteer</td>\n      <td>['0899334415', '0899334431', '0899333419', '08...</td>\n      <td>['https://images-na.ssl-images-amazon.com/imag...</td>\n      <td>121,074 in Office Products (</td>\n      <td>['0528881922', '1569145792', '0899334431', '08...</td>\n      <td>$19.95</td>\n      <td>0899332757</td>\n      <td>4.0</td>\n      <td>True</td>\n      <td>garminwond comprehens atla littl largefour sta...</td>\n      <td>delorm new york state atla amp gazett</td>\n    </tr>\n    <tr>\n      <th>2</th>\n      <td>2</td>\n      <td>['Sports &amp; Outdoors', 'Outdoor Recreation', 'C...</td>\n      <td>Delorme New York State Atlas &amp;amp; Gazetteer</td>\n      <td>['0899334415', '0899334431', '0899333419', '08...</td>\n      <td>['https://images-na.ssl-images-amazon.com/imag...</td>\n      <td>121,074 in Office Products (</td>\n      <td>['0528881922', '1569145792', '0899334431', '08...</td>\n      <td>$19.95</td>\n      <td>0899332757</td>\n      <td>5.0</td>\n      <td>True</td>\n      <td>garmingreat product fast deliveri need rv trav...</td>\n      <td>delorm new york state atla amp gazett</td>\n    </tr>\n    <tr>\n      <th>3</th>\n      <td>3</td>\n      <td>['Sports &amp; Outdoors', 'Outdoor Recreation', 'C...</td>\n      <td>Garmin DeLorme Atlas &amp;amp; Gazetteer Paper Map...</td>\n      <td>['0899334482', '0899334474', '0899333834', '19...</td>\n      <td>['https://images-na.ssl-images-amazon.com/imag...</td>\n      <td>['&gt;#84,484 in Office Products (See top 100)', ...</td>\n      <td>[]</td>\n      <td>$21.96</td>\n      <td>0899333257</td>\n      <td>5.0</td>\n      <td>True</td>\n      <td>garmini delorm atla us state theyr amaz detail...</td>\n      <td>garmin delorm atla amp gazett paper map arizona</td>\n    </tr>\n    <tr>\n      <th>4</th>\n      <td>4</td>\n      <td>['Sports &amp; Outdoors', 'Outdoor Recreation', 'C...</td>\n      <td>Garmin DeLorme Atlas &amp;amp; Gazetteer Paper Map...</td>\n      <td>['0899334482', '0899334474', '0899333834', '19...</td>\n      <td>['https://images-na.ssl-images-amazon.com/imag...</td>\n      <td>['&gt;#84,484 in Office Products (See top 100)', ...</td>\n      <td>[]</td>\n      <td>$21.96</td>\n      <td>0899333257</td>\n      <td>5.0</td>\n      <td>False</td>\n      <td>garminth first delorm atla gazett ever purchas...</td>\n      <td>garmin delorm atla amp gazett paper map arizona</td>\n    </tr>\n  </tbody>\n</table>\n</div>"
     },
     "metadata": {},
     "execution_count": 8
    }
   ],
   "source": [
    "df_all_15.head(5)"
   ]
  },
  {
   "cell_type": "code",
   "execution_count": 9,
   "metadata": {},
   "outputs": [],
   "source": [
    "df_all_15 = df_all_15[~(df_all_15['title_nlp'].isna())]\n",
    "df_all_15 = df_all_15[~(df_all_15['text'].isna())]\n",
    "                         "
   ]
  },
  {
   "cell_type": "code",
   "execution_count": 10,
   "metadata": {},
   "outputs": [
    {
     "output_type": "execute_result",
     "data": {
      "text/plain": "(370236, 13)"
     },
     "metadata": {},
     "execution_count": 10
    }
   ],
   "source": [
    "df_all_15.shape"
   ]
  },
  {
   "cell_type": "code",
   "execution_count": 11,
   "metadata": {},
   "outputs": [],
   "source": [
    "df_items = df_all_15.groupby(['asin', 'title','title_nlp','image_x'])['text'].apply(lambda x: ' '.join(x)).reset_index()"
   ]
  },
  {
   "cell_type": "code",
   "execution_count": 13,
   "metadata": {},
   "outputs": [
    {
     "output_type": "execute_result",
     "data": {
      "text/plain": "             asin                                              title  \\\n0      0899332757       Delorme New York State Atlas &amp; Gazetteer   \n1      0899333257  Garmin DeLorme Atlas &amp; Gazetteer Paper Map...   \n2      0971100764   BenchMaster Pocket Guide - Fly Fishing - Fishing   \n3      3843518912                   Spooner Boards Freestyle - Green   \n4      7245456275  Black Mountain Products Single Resistance Band...   \n...           ...                                                ...   \n56393  B01HJA7KWE  MEILAIER UV Fishing Mask Moisture Wicking Head...   \n56394  B01HJDGJ1E  Soft Cooling Towel for Instant Relief, 48inch ...   \n56395  B01HJDHNX2  Cycling Computers- Wireless Bike Speedometer a...   \n56396  B01HJDZ34I                               Columbia Bora booney   \n56397  B01HJGAJ9O                  2XU Men's Core Compression Shorts   \n\n                                               title_nlp  \\\n0                  delorm new york state atla amp gazett   \n1        garmin delorm atla amp gazett paper map arizona   \n2                    benchmast pocket guid fli fish fish   \n3                           spooner board freestyl green   \n4      black mountain product singl resist band door ...   \n...                                                  ...   \n56393  meilaier uv fish mask moistur wick headband se...   \n56394  soft cool towel instant relief extra long natu...   \n56395  cycl comput wireless bike speedomet odometerwa...   \n56396                               columbia bora booney   \n56397                            men core compress short   \n\n                                                 image_x  \\\n0      ['https://images-na.ssl-images-amazon.com/imag...   \n1      ['https://images-na.ssl-images-amazon.com/imag...   \n2      ['https://images-na.ssl-images-amazon.com/imag...   \n3      ['https://images-na.ssl-images-amazon.com/imag...   \n4      ['https://images-na.ssl-images-amazon.com/imag...   \n...                                                  ...   \n56393  ['https://images-na.ssl-images-amazon.com/imag...   \n56394  ['https://images-na.ssl-images-amazon.com/imag...   \n56395  ['https://images-na.ssl-images-amazon.com/imag...   \n56396  ['https://images-na.ssl-images-amazon.com/imag...   \n56397  ['https://images-na.ssl-images-amazon.com/imag...   \n\n                                                    text  \n0      garminif your interest explor area new york be...  \n1      garmini delorm atla us state theyr amaz detail...  \n2      pocket guidesmi husband know everyth tie knot ...  \n3      spooner boardsw purchas year old son love play...  \n4      black mountaingreat band price door attach wor...  \n...                                                  ...  \n56393  note unit suppli reviewmeilai suppli headband ...  \n56394  pusdonif choic type cool towel dri rock hard c...  \n56395  perfect speedomet anyon look larg display inex...  \n56396  columbiadec hat work well normal duti need sti...  \n56397  far like use cycl short im familiar compress s...  \n\n[56398 rows x 5 columns]",
      "text/html": "<div>\n<style scoped>\n    .dataframe tbody tr th:only-of-type {\n        vertical-align: middle;\n    }\n\n    .dataframe tbody tr th {\n        vertical-align: top;\n    }\n\n    .dataframe thead th {\n        text-align: right;\n    }\n</style>\n<table border=\"1\" class=\"dataframe\">\n  <thead>\n    <tr style=\"text-align: right;\">\n      <th></th>\n      <th>asin</th>\n      <th>title</th>\n      <th>title_nlp</th>\n      <th>image_x</th>\n      <th>text</th>\n    </tr>\n  </thead>\n  <tbody>\n    <tr>\n      <th>0</th>\n      <td>0899332757</td>\n      <td>Delorme New York State Atlas &amp;amp; Gazetteer</td>\n      <td>delorm new york state atla amp gazett</td>\n      <td>['https://images-na.ssl-images-amazon.com/imag...</td>\n      <td>garminif your interest explor area new york be...</td>\n    </tr>\n    <tr>\n      <th>1</th>\n      <td>0899333257</td>\n      <td>Garmin DeLorme Atlas &amp;amp; Gazetteer Paper Map...</td>\n      <td>garmin delorm atla amp gazett paper map arizona</td>\n      <td>['https://images-na.ssl-images-amazon.com/imag...</td>\n      <td>garmini delorm atla us state theyr amaz detail...</td>\n    </tr>\n    <tr>\n      <th>2</th>\n      <td>0971100764</td>\n      <td>BenchMaster Pocket Guide - Fly Fishing - Fishing</td>\n      <td>benchmast pocket guid fli fish fish</td>\n      <td>['https://images-na.ssl-images-amazon.com/imag...</td>\n      <td>pocket guidesmi husband know everyth tie knot ...</td>\n    </tr>\n    <tr>\n      <th>3</th>\n      <td>3843518912</td>\n      <td>Spooner Boards Freestyle - Green</td>\n      <td>spooner board freestyl green</td>\n      <td>['https://images-na.ssl-images-amazon.com/imag...</td>\n      <td>spooner boardsw purchas year old son love play...</td>\n    </tr>\n    <tr>\n      <th>4</th>\n      <td>7245456275</td>\n      <td>Black Mountain Products Single Resistance Band...</td>\n      <td>black mountain product singl resist band door ...</td>\n      <td>['https://images-na.ssl-images-amazon.com/imag...</td>\n      <td>black mountaingreat band price door attach wor...</td>\n    </tr>\n    <tr>\n      <th>...</th>\n      <td>...</td>\n      <td>...</td>\n      <td>...</td>\n      <td>...</td>\n      <td>...</td>\n    </tr>\n    <tr>\n      <th>56393</th>\n      <td>B01HJA7KWE</td>\n      <td>MEILAIER UV Fishing Mask Moisture Wicking Head...</td>\n      <td>meilaier uv fish mask moistur wick headband se...</td>\n      <td>['https://images-na.ssl-images-amazon.com/imag...</td>\n      <td>note unit suppli reviewmeilai suppli headband ...</td>\n    </tr>\n    <tr>\n      <th>56394</th>\n      <td>B01HJDGJ1E</td>\n      <td>Soft Cooling Towel for Instant Relief, 48inch ...</td>\n      <td>soft cool towel instant relief extra long natu...</td>\n      <td>['https://images-na.ssl-images-amazon.com/imag...</td>\n      <td>pusdonif choic type cool towel dri rock hard c...</td>\n    </tr>\n    <tr>\n      <th>56395</th>\n      <td>B01HJDHNX2</td>\n      <td>Cycling Computers- Wireless Bike Speedometer a...</td>\n      <td>cycl comput wireless bike speedomet odometerwa...</td>\n      <td>['https://images-na.ssl-images-amazon.com/imag...</td>\n      <td>perfect speedomet anyon look larg display inex...</td>\n    </tr>\n    <tr>\n      <th>56396</th>\n      <td>B01HJDZ34I</td>\n      <td>Columbia Bora booney</td>\n      <td>columbia bora booney</td>\n      <td>['https://images-na.ssl-images-amazon.com/imag...</td>\n      <td>columbiadec hat work well normal duti need sti...</td>\n    </tr>\n    <tr>\n      <th>56397</th>\n      <td>B01HJGAJ9O</td>\n      <td>2XU Men's Core Compression Shorts</td>\n      <td>men core compress short</td>\n      <td>['https://images-na.ssl-images-amazon.com/imag...</td>\n      <td>far like use cycl short im familiar compress s...</td>\n    </tr>\n  </tbody>\n</table>\n<p>56398 rows × 5 columns</p>\n</div>"
     },
     "metadata": {},
     "execution_count": 13
    }
   ],
   "source": [
    "df_items"
   ]
  },
  {
   "cell_type": "code",
   "execution_count": 37,
   "metadata": {},
   "outputs": [
    {
     "data": {
      "text/plain": [
       "[{'Name': 'recommender-system-amazon',\n",
       "  'CreationDate': datetime.datetime(2020, 9, 14, 18, 7, 18, tzinfo=tzlocal())}]"
      ]
     },
     "execution_count": 37,
     "metadata": {},
     "output_type": "execute_result"
    }
   ],
   "source": [
    "s3.list_buckets()['Buckets']"
   ]
  },
  {
   "cell_type": "code",
   "execution_count": 38,
   "metadata": {},
   "outputs": [
    {
     "data": {
      "text/plain": [
       "{'ResponseMetadata': {'RequestId': '0C83083E76EF49D8',\n",
       "  'HostId': 'x/j+aGQNfICqUYwPGShpAKdZvLpIfAFCUg5FCE/5NIja1rsIlUptr2aUS8AivbRftC8yloAo05o=',\n",
       "  'HTTPStatusCode': 200,\n",
       "  'HTTPHeaders': {'x-amz-id-2': 'x/j+aGQNfICqUYwPGShpAKdZvLpIfAFCUg5FCE/5NIja1rsIlUptr2aUS8AivbRftC8yloAo05o=',\n",
       "   'x-amz-request-id': '0C83083E76EF49D8',\n",
       "   'date': 'Tue, 15 Sep 2020 22:18:35 GMT',\n",
       "   'etag': '\"e55615f1ef880c528957b4fb8bf75c1f\"',\n",
       "   'content-length': '0',\n",
       "   'server': 'AmazonS3'},\n",
       "  'RetryAttempts': 0},\n",
       " 'ETag': '\"e55615f1ef880c528957b4fb8bf75c1f\"'}"
      ]
     },
     "execution_count": 38,
     "metadata": {},
     "output_type": "execute_result"
    }
   ],
   "source": [
    "bucket = 'recommender-system-amazon' \n",
    "csv_buffer = StringIO()\n",
    "df_items.to_csv(csv_buffer)\n",
    "s3_resource = boto3.resource('s3')\n",
    "s3_resource.Object(bucket, 'df_items.csv').put(Body=csv_buffer.getvalue())"
   ]
  },
  {
   "cell_type": "markdown",
   "metadata": {},
   "source": [
    "## Process text and title_nlp separately"
   ]
  },
  {
   "cell_type": "code",
   "execution_count": 14,
   "metadata": {},
   "outputs": [],
   "source": [
    "vectorizer_text, df_text = nlp_process(df_items['text'],max_features = None)"
   ]
  },
  {
   "cell_type": "code",
   "execution_count": 15,
   "metadata": {},
   "outputs": [
    {
     "output_type": "execute_result",
     "data": {
      "text/plain": "        aa  aaa   ab  abil       abl   absolut  absorb  abus  accept  access  \\\n0      0.0  0.0  0.0   0.0  0.090639  0.000000     0.0   0.0     0.0     0.0   \n1      0.0  0.0  0.0   0.0  0.094692  0.000000     0.0   0.0     0.0     0.0   \n2      0.0  0.0  0.0   0.0  0.000000  0.000000     0.0   0.0     0.0     0.0   \n3      0.0  0.0  0.0   0.0  0.000000  0.000000     0.0   0.0     0.0     0.0   \n4      0.0  0.0  0.0   0.0  0.013326  0.000000     0.0   0.0     0.0     0.0   \n...    ...  ...  ...   ...       ...       ...     ...   ...     ...     ...   \n56393  0.0  0.0  0.0   0.0  0.000000  0.000000     0.0   0.0     0.0     0.0   \n56394  0.0  0.0  0.0   0.0  0.043837  0.027770     0.0   0.0     0.0     0.0   \n56395  0.0  0.0  0.0   0.0  0.069576  0.044076     0.0   0.0     0.0     0.0   \n56396  0.0  0.0  0.0   0.0  0.000000  0.000000     0.0   0.0     0.0     0.0   \n56397  0.0  0.0  0.0   0.0  0.000000  0.000000     0.0   0.0     0.0     0.0   \n\n       ...     young   younger  youth    youtub  youv   yr  zero       zip  \\\n0      ...  0.000000  0.000000    0.0  0.000000   0.0  0.0   0.0  0.000000   \n1      ...  0.000000  0.000000    0.0  0.000000   0.0  0.0   0.0  0.000000   \n2      ...  0.000000  0.000000    0.0  0.000000   0.0  0.0   0.0  0.000000   \n3      ...  0.113687  0.000000    0.0  0.108667   0.0  0.0   0.0  0.000000   \n4      ...  0.000000  0.000000    0.0  0.000000   0.0  0.0   0.0  0.000000   \n...    ...       ...       ...    ...       ...   ...  ...   ...       ...   \n56393  ...  0.000000  0.000000    0.0  0.000000   0.0  0.0   0.0  0.000000   \n56394  ...  0.000000  0.040593    0.0  0.000000   0.0  0.0   0.0  0.000000   \n56395  ...  0.000000  0.000000    0.0  0.000000   0.0  0.0   0.0  0.052592   \n56396  ...  0.000000  0.000000    0.0  0.000000   0.0  0.0   0.0  0.000000   \n56397  ...  0.000000  0.000000    0.0  0.000000   0.0  0.0   0.0  0.000000   \n\n       zipper  zone  \n0         0.0   0.0  \n1         0.0   0.0  \n2         0.0   0.0  \n3         0.0   0.0  \n4         0.0   0.0  \n...       ...   ...  \n56393     0.0   0.0  \n56394     0.0   0.0  \n56395     0.0   0.0  \n56396     0.0   0.0  \n56397     0.0   0.0  \n\n[56398 rows x 2629 columns]",
      "text/html": "<div>\n<style scoped>\n    .dataframe tbody tr th:only-of-type {\n        vertical-align: middle;\n    }\n\n    .dataframe tbody tr th {\n        vertical-align: top;\n    }\n\n    .dataframe thead th {\n        text-align: right;\n    }\n</style>\n<table border=\"1\" class=\"dataframe\">\n  <thead>\n    <tr style=\"text-align: right;\">\n      <th></th>\n      <th>aa</th>\n      <th>aaa</th>\n      <th>ab</th>\n      <th>abil</th>\n      <th>abl</th>\n      <th>absolut</th>\n      <th>absorb</th>\n      <th>abus</th>\n      <th>accept</th>\n      <th>access</th>\n      <th>...</th>\n      <th>young</th>\n      <th>younger</th>\n      <th>youth</th>\n      <th>youtub</th>\n      <th>youv</th>\n      <th>yr</th>\n      <th>zero</th>\n      <th>zip</th>\n      <th>zipper</th>\n      <th>zone</th>\n    </tr>\n  </thead>\n  <tbody>\n    <tr>\n      <th>0</th>\n      <td>0.0</td>\n      <td>0.0</td>\n      <td>0.0</td>\n      <td>0.0</td>\n      <td>0.090639</td>\n      <td>0.000000</td>\n      <td>0.0</td>\n      <td>0.0</td>\n      <td>0.0</td>\n      <td>0.0</td>\n      <td>...</td>\n      <td>0.000000</td>\n      <td>0.000000</td>\n      <td>0.0</td>\n      <td>0.000000</td>\n      <td>0.0</td>\n      <td>0.0</td>\n      <td>0.0</td>\n      <td>0.000000</td>\n      <td>0.0</td>\n      <td>0.0</td>\n    </tr>\n    <tr>\n      <th>1</th>\n      <td>0.0</td>\n      <td>0.0</td>\n      <td>0.0</td>\n      <td>0.0</td>\n      <td>0.094692</td>\n      <td>0.000000</td>\n      <td>0.0</td>\n      <td>0.0</td>\n      <td>0.0</td>\n      <td>0.0</td>\n      <td>...</td>\n      <td>0.000000</td>\n      <td>0.000000</td>\n      <td>0.0</td>\n      <td>0.000000</td>\n      <td>0.0</td>\n      <td>0.0</td>\n      <td>0.0</td>\n      <td>0.000000</td>\n      <td>0.0</td>\n      <td>0.0</td>\n    </tr>\n    <tr>\n      <th>2</th>\n      <td>0.0</td>\n      <td>0.0</td>\n      <td>0.0</td>\n      <td>0.0</td>\n      <td>0.000000</td>\n      <td>0.000000</td>\n      <td>0.0</td>\n      <td>0.0</td>\n      <td>0.0</td>\n      <td>0.0</td>\n      <td>...</td>\n      <td>0.000000</td>\n      <td>0.000000</td>\n      <td>0.0</td>\n      <td>0.000000</td>\n      <td>0.0</td>\n      <td>0.0</td>\n      <td>0.0</td>\n      <td>0.000000</td>\n      <td>0.0</td>\n      <td>0.0</td>\n    </tr>\n    <tr>\n      <th>3</th>\n      <td>0.0</td>\n      <td>0.0</td>\n      <td>0.0</td>\n      <td>0.0</td>\n      <td>0.000000</td>\n      <td>0.000000</td>\n      <td>0.0</td>\n      <td>0.0</td>\n      <td>0.0</td>\n      <td>0.0</td>\n      <td>...</td>\n      <td>0.113687</td>\n      <td>0.000000</td>\n      <td>0.0</td>\n      <td>0.108667</td>\n      <td>0.0</td>\n      <td>0.0</td>\n      <td>0.0</td>\n      <td>0.000000</td>\n      <td>0.0</td>\n      <td>0.0</td>\n    </tr>\n    <tr>\n      <th>4</th>\n      <td>0.0</td>\n      <td>0.0</td>\n      <td>0.0</td>\n      <td>0.0</td>\n      <td>0.013326</td>\n      <td>0.000000</td>\n      <td>0.0</td>\n      <td>0.0</td>\n      <td>0.0</td>\n      <td>0.0</td>\n      <td>...</td>\n      <td>0.000000</td>\n      <td>0.000000</td>\n      <td>0.0</td>\n      <td>0.000000</td>\n      <td>0.0</td>\n      <td>0.0</td>\n      <td>0.0</td>\n      <td>0.000000</td>\n      <td>0.0</td>\n      <td>0.0</td>\n    </tr>\n    <tr>\n      <th>...</th>\n      <td>...</td>\n      <td>...</td>\n      <td>...</td>\n      <td>...</td>\n      <td>...</td>\n      <td>...</td>\n      <td>...</td>\n      <td>...</td>\n      <td>...</td>\n      <td>...</td>\n      <td>...</td>\n      <td>...</td>\n      <td>...</td>\n      <td>...</td>\n      <td>...</td>\n      <td>...</td>\n      <td>...</td>\n      <td>...</td>\n      <td>...</td>\n      <td>...</td>\n      <td>...</td>\n    </tr>\n    <tr>\n      <th>56393</th>\n      <td>0.0</td>\n      <td>0.0</td>\n      <td>0.0</td>\n      <td>0.0</td>\n      <td>0.000000</td>\n      <td>0.000000</td>\n      <td>0.0</td>\n      <td>0.0</td>\n      <td>0.0</td>\n      <td>0.0</td>\n      <td>...</td>\n      <td>0.000000</td>\n      <td>0.000000</td>\n      <td>0.0</td>\n      <td>0.000000</td>\n      <td>0.0</td>\n      <td>0.0</td>\n      <td>0.0</td>\n      <td>0.000000</td>\n      <td>0.0</td>\n      <td>0.0</td>\n    </tr>\n    <tr>\n      <th>56394</th>\n      <td>0.0</td>\n      <td>0.0</td>\n      <td>0.0</td>\n      <td>0.0</td>\n      <td>0.043837</td>\n      <td>0.027770</td>\n      <td>0.0</td>\n      <td>0.0</td>\n      <td>0.0</td>\n      <td>0.0</td>\n      <td>...</td>\n      <td>0.000000</td>\n      <td>0.040593</td>\n      <td>0.0</td>\n      <td>0.000000</td>\n      <td>0.0</td>\n      <td>0.0</td>\n      <td>0.0</td>\n      <td>0.000000</td>\n      <td>0.0</td>\n      <td>0.0</td>\n    </tr>\n    <tr>\n      <th>56395</th>\n      <td>0.0</td>\n      <td>0.0</td>\n      <td>0.0</td>\n      <td>0.0</td>\n      <td>0.069576</td>\n      <td>0.044076</td>\n      <td>0.0</td>\n      <td>0.0</td>\n      <td>0.0</td>\n      <td>0.0</td>\n      <td>...</td>\n      <td>0.000000</td>\n      <td>0.000000</td>\n      <td>0.0</td>\n      <td>0.000000</td>\n      <td>0.0</td>\n      <td>0.0</td>\n      <td>0.0</td>\n      <td>0.052592</td>\n      <td>0.0</td>\n      <td>0.0</td>\n    </tr>\n    <tr>\n      <th>56396</th>\n      <td>0.0</td>\n      <td>0.0</td>\n      <td>0.0</td>\n      <td>0.0</td>\n      <td>0.000000</td>\n      <td>0.000000</td>\n      <td>0.0</td>\n      <td>0.0</td>\n      <td>0.0</td>\n      <td>0.0</td>\n      <td>...</td>\n      <td>0.000000</td>\n      <td>0.000000</td>\n      <td>0.0</td>\n      <td>0.000000</td>\n      <td>0.0</td>\n      <td>0.0</td>\n      <td>0.0</td>\n      <td>0.000000</td>\n      <td>0.0</td>\n      <td>0.0</td>\n    </tr>\n    <tr>\n      <th>56397</th>\n      <td>0.0</td>\n      <td>0.0</td>\n      <td>0.0</td>\n      <td>0.0</td>\n      <td>0.000000</td>\n      <td>0.000000</td>\n      <td>0.0</td>\n      <td>0.0</td>\n      <td>0.0</td>\n      <td>0.0</td>\n      <td>...</td>\n      <td>0.000000</td>\n      <td>0.000000</td>\n      <td>0.0</td>\n      <td>0.000000</td>\n      <td>0.0</td>\n      <td>0.0</td>\n      <td>0.0</td>\n      <td>0.000000</td>\n      <td>0.0</td>\n      <td>0.0</td>\n    </tr>\n  </tbody>\n</table>\n<p>56398 rows × 2629 columns</p>\n</div>"
     },
     "metadata": {},
     "execution_count": 15
    }
   ],
   "source": [
    "df_text"
   ]
  },
  {
   "cell_type": "code",
   "execution_count": 16,
   "metadata": {},
   "outputs": [],
   "source": [
    "vectorizer_title, df_title = nlp_process(df_items['title_nlp'],max_features = None)"
   ]
  },
  {
   "cell_type": "code",
   "execution_count": 17,
   "metadata": {},
   "outputs": [
    {
     "output_type": "execute_result",
     "data": {
      "text/plain": "       accessori  activ  adida  adjust  adult  air  airsoft  aluminum  \\\n0            0.0    0.0    0.0     0.0    0.0  0.0      0.0       0.0   \n1            0.0    0.0    0.0     0.0    0.0  0.0      0.0       0.0   \n2            0.0    0.0    0.0     0.0    0.0  0.0      0.0       0.0   \n3            0.0    0.0    0.0     0.0    0.0  0.0      0.0       0.0   \n4            0.0    0.0    0.0     0.0    0.0  0.0      0.0       0.0   \n...          ...    ...    ...     ...    ...  ...      ...       ...   \n56393        0.0    0.0    0.0     0.0    0.0  0.0      0.0       0.0   \n56394        0.0    0.0    0.0     0.0    0.0  0.0      0.0       0.0   \n56395        0.0    0.0    0.0     0.0    0.0  0.0      0.0       0.0   \n56396        0.0    0.0    0.0     0.0    0.0  0.0      0.0       0.0   \n56397        0.0    0.0    0.0     0.0    0.0  0.0      0.0       0.0   \n\n            amp  arm  ...  wide  winter  women  wood   workout      wrap  \\\n0      0.588029  0.0  ...   0.0     0.0    0.0   0.0  0.000000  0.000000   \n1      1.000000  0.0  ...   0.0     0.0    0.0   0.0  0.000000  0.000000   \n2      0.000000  0.0  ...   0.0     0.0    0.0   0.0  0.000000  0.000000   \n3      0.000000  0.0  ...   0.0     0.0    0.0   0.0  0.000000  0.000000   \n4      0.000000  0.0  ...   0.0     0.0    0.0   0.0  0.000000  0.000000   \n...         ...  ...  ...   ...     ...    ...   ...       ...       ...   \n56393  0.000000  0.0  ...   0.0     0.0    0.0   0.0  0.000000  0.000000   \n56394  0.143763  0.0  ...   0.0     0.0    0.0   0.0  0.195138  0.230085   \n56395  0.000000  0.0  ...   0.0     0.0    0.0   0.0  0.000000  0.000000   \n56396  0.000000  0.0  ...   0.0     0.0    0.0   0.0  0.000000  0.000000   \n56397  0.000000  0.0  ...   0.0     0.0    0.0   0.0  0.000000  0.000000   \n\n       wrist  wristband     yoga  youth  \n0        0.0        0.0  0.00000    0.0  \n1        0.0        0.0  0.00000    0.0  \n2        0.0        0.0  0.00000    0.0  \n3        0.0        0.0  0.00000    0.0  \n4        0.0        0.0  0.00000    0.0  \n...      ...        ...      ...    ...  \n56393    0.0        0.0  0.00000    0.0  \n56394    0.0        0.0  0.18775    0.0  \n56395    0.0        0.0  0.00000    0.0  \n56396    0.0        0.0  0.00000    0.0  \n56397    0.0        0.0  0.00000    0.0  \n\n[56398 rows x 330 columns]",
      "text/html": "<div>\n<style scoped>\n    .dataframe tbody tr th:only-of-type {\n        vertical-align: middle;\n    }\n\n    .dataframe tbody tr th {\n        vertical-align: top;\n    }\n\n    .dataframe thead th {\n        text-align: right;\n    }\n</style>\n<table border=\"1\" class=\"dataframe\">\n  <thead>\n    <tr style=\"text-align: right;\">\n      <th></th>\n      <th>accessori</th>\n      <th>activ</th>\n      <th>adida</th>\n      <th>adjust</th>\n      <th>adult</th>\n      <th>air</th>\n      <th>airsoft</th>\n      <th>aluminum</th>\n      <th>amp</th>\n      <th>arm</th>\n      <th>...</th>\n      <th>wide</th>\n      <th>winter</th>\n      <th>women</th>\n      <th>wood</th>\n      <th>workout</th>\n      <th>wrap</th>\n      <th>wrist</th>\n      <th>wristband</th>\n      <th>yoga</th>\n      <th>youth</th>\n    </tr>\n  </thead>\n  <tbody>\n    <tr>\n      <th>0</th>\n      <td>0.0</td>\n      <td>0.0</td>\n      <td>0.0</td>\n      <td>0.0</td>\n      <td>0.0</td>\n      <td>0.0</td>\n      <td>0.0</td>\n      <td>0.0</td>\n      <td>0.588029</td>\n      <td>0.0</td>\n      <td>...</td>\n      <td>0.0</td>\n      <td>0.0</td>\n      <td>0.0</td>\n      <td>0.0</td>\n      <td>0.000000</td>\n      <td>0.000000</td>\n      <td>0.0</td>\n      <td>0.0</td>\n      <td>0.00000</td>\n      <td>0.0</td>\n    </tr>\n    <tr>\n      <th>1</th>\n      <td>0.0</td>\n      <td>0.0</td>\n      <td>0.0</td>\n      <td>0.0</td>\n      <td>0.0</td>\n      <td>0.0</td>\n      <td>0.0</td>\n      <td>0.0</td>\n      <td>1.000000</td>\n      <td>0.0</td>\n      <td>...</td>\n      <td>0.0</td>\n      <td>0.0</td>\n      <td>0.0</td>\n      <td>0.0</td>\n      <td>0.000000</td>\n      <td>0.000000</td>\n      <td>0.0</td>\n      <td>0.0</td>\n      <td>0.00000</td>\n      <td>0.0</td>\n    </tr>\n    <tr>\n      <th>2</th>\n      <td>0.0</td>\n      <td>0.0</td>\n      <td>0.0</td>\n      <td>0.0</td>\n      <td>0.0</td>\n      <td>0.0</td>\n      <td>0.0</td>\n      <td>0.0</td>\n      <td>0.000000</td>\n      <td>0.0</td>\n      <td>...</td>\n      <td>0.0</td>\n      <td>0.0</td>\n      <td>0.0</td>\n      <td>0.0</td>\n      <td>0.000000</td>\n      <td>0.000000</td>\n      <td>0.0</td>\n      <td>0.0</td>\n      <td>0.00000</td>\n      <td>0.0</td>\n    </tr>\n    <tr>\n      <th>3</th>\n      <td>0.0</td>\n      <td>0.0</td>\n      <td>0.0</td>\n      <td>0.0</td>\n      <td>0.0</td>\n      <td>0.0</td>\n      <td>0.0</td>\n      <td>0.0</td>\n      <td>0.000000</td>\n      <td>0.0</td>\n      <td>...</td>\n      <td>0.0</td>\n      <td>0.0</td>\n      <td>0.0</td>\n      <td>0.0</td>\n      <td>0.000000</td>\n      <td>0.000000</td>\n      <td>0.0</td>\n      <td>0.0</td>\n      <td>0.00000</td>\n      <td>0.0</td>\n    </tr>\n    <tr>\n      <th>4</th>\n      <td>0.0</td>\n      <td>0.0</td>\n      <td>0.0</td>\n      <td>0.0</td>\n      <td>0.0</td>\n      <td>0.0</td>\n      <td>0.0</td>\n      <td>0.0</td>\n      <td>0.000000</td>\n      <td>0.0</td>\n      <td>...</td>\n      <td>0.0</td>\n      <td>0.0</td>\n      <td>0.0</td>\n      <td>0.0</td>\n      <td>0.000000</td>\n      <td>0.000000</td>\n      <td>0.0</td>\n      <td>0.0</td>\n      <td>0.00000</td>\n      <td>0.0</td>\n    </tr>\n    <tr>\n      <th>...</th>\n      <td>...</td>\n      <td>...</td>\n      <td>...</td>\n      <td>...</td>\n      <td>...</td>\n      <td>...</td>\n      <td>...</td>\n      <td>...</td>\n      <td>...</td>\n      <td>...</td>\n      <td>...</td>\n      <td>...</td>\n      <td>...</td>\n      <td>...</td>\n      <td>...</td>\n      <td>...</td>\n      <td>...</td>\n      <td>...</td>\n      <td>...</td>\n      <td>...</td>\n      <td>...</td>\n    </tr>\n    <tr>\n      <th>56393</th>\n      <td>0.0</td>\n      <td>0.0</td>\n      <td>0.0</td>\n      <td>0.0</td>\n      <td>0.0</td>\n      <td>0.0</td>\n      <td>0.0</td>\n      <td>0.0</td>\n      <td>0.000000</td>\n      <td>0.0</td>\n      <td>...</td>\n      <td>0.0</td>\n      <td>0.0</td>\n      <td>0.0</td>\n      <td>0.0</td>\n      <td>0.000000</td>\n      <td>0.000000</td>\n      <td>0.0</td>\n      <td>0.0</td>\n      <td>0.00000</td>\n      <td>0.0</td>\n    </tr>\n    <tr>\n      <th>56394</th>\n      <td>0.0</td>\n      <td>0.0</td>\n      <td>0.0</td>\n      <td>0.0</td>\n      <td>0.0</td>\n      <td>0.0</td>\n      <td>0.0</td>\n      <td>0.0</td>\n      <td>0.143763</td>\n      <td>0.0</td>\n      <td>...</td>\n      <td>0.0</td>\n      <td>0.0</td>\n      <td>0.0</td>\n      <td>0.0</td>\n      <td>0.195138</td>\n      <td>0.230085</td>\n      <td>0.0</td>\n      <td>0.0</td>\n      <td>0.18775</td>\n      <td>0.0</td>\n    </tr>\n    <tr>\n      <th>56395</th>\n      <td>0.0</td>\n      <td>0.0</td>\n      <td>0.0</td>\n      <td>0.0</td>\n      <td>0.0</td>\n      <td>0.0</td>\n      <td>0.0</td>\n      <td>0.0</td>\n      <td>0.000000</td>\n      <td>0.0</td>\n      <td>...</td>\n      <td>0.0</td>\n      <td>0.0</td>\n      <td>0.0</td>\n      <td>0.0</td>\n      <td>0.000000</td>\n      <td>0.000000</td>\n      <td>0.0</td>\n      <td>0.0</td>\n      <td>0.00000</td>\n      <td>0.0</td>\n    </tr>\n    <tr>\n      <th>56396</th>\n      <td>0.0</td>\n      <td>0.0</td>\n      <td>0.0</td>\n      <td>0.0</td>\n      <td>0.0</td>\n      <td>0.0</td>\n      <td>0.0</td>\n      <td>0.0</td>\n      <td>0.000000</td>\n      <td>0.0</td>\n      <td>...</td>\n      <td>0.0</td>\n      <td>0.0</td>\n      <td>0.0</td>\n      <td>0.0</td>\n      <td>0.000000</td>\n      <td>0.000000</td>\n      <td>0.0</td>\n      <td>0.0</td>\n      <td>0.00000</td>\n      <td>0.0</td>\n    </tr>\n    <tr>\n      <th>56397</th>\n      <td>0.0</td>\n      <td>0.0</td>\n      <td>0.0</td>\n      <td>0.0</td>\n      <td>0.0</td>\n      <td>0.0</td>\n      <td>0.0</td>\n      <td>0.0</td>\n      <td>0.000000</td>\n      <td>0.0</td>\n      <td>...</td>\n      <td>0.0</td>\n      <td>0.0</td>\n      <td>0.0</td>\n      <td>0.0</td>\n      <td>0.000000</td>\n      <td>0.000000</td>\n      <td>0.0</td>\n      <td>0.0</td>\n      <td>0.00000</td>\n      <td>0.0</td>\n    </tr>\n  </tbody>\n</table>\n<p>56398 rows × 330 columns</p>\n</div>"
     },
     "metadata": {},
     "execution_count": 17
    }
   ],
   "source": [
    "df_title"
   ]
  },
  {
   "cell_type": "code",
   "execution_count": 43,
   "metadata": {},
   "outputs": [
    {
     "data": {
      "text/plain": [
       "{'ResponseMetadata': {'RequestId': '5AC3EF2111EFC682',\n",
       "  'HostId': 'Etxo8aEwhTbv3RtEoAdmgHuvkGoicyD0sauY9JB1+Qplz43W1uPYmmPrHfZv886kyqS8BGGNiIA=',\n",
       "  'HTTPStatusCode': 200,\n",
       "  'HTTPHeaders': {'x-amz-id-2': 'Etxo8aEwhTbv3RtEoAdmgHuvkGoicyD0sauY9JB1+Qplz43W1uPYmmPrHfZv886kyqS8BGGNiIA=',\n",
       "   'x-amz-request-id': '5AC3EF2111EFC682',\n",
       "   'date': 'Tue, 15 Sep 2020 22:23:02 GMT',\n",
       "   'etag': '\"543ed8010cef492b570033d276c42157\"',\n",
       "   'content-length': '0',\n",
       "   'server': 'AmazonS3'},\n",
       "  'RetryAttempts': 0},\n",
       " 'ETag': '\"543ed8010cef492b570033d276c42157\"'}"
      ]
     },
     "execution_count": 43,
     "metadata": {},
     "output_type": "execute_result"
    }
   ],
   "source": [
    "df_text.to_csv(csv_buffer)\n",
    "s3_resource.Object(bucket, 'df_text.csv').put(Body=csv_buffer.getvalue())"
   ]
  },
  {
   "cell_type": "code",
   "execution_count": 44,
   "metadata": {},
   "outputs": [
    {
     "data": {
      "text/plain": [
       "{'ResponseMetadata': {'RequestId': '603B2578A56B7906',\n",
       "  'HostId': 'M8ivFyAOgn4CGKj96f/Yd0FArJO+2xZzmjqOF/8NHgNrWqLlFYdzqfBBi027vY98dM/lEyvq658=',\n",
       "  'HTTPStatusCode': 200,\n",
       "  'HTTPHeaders': {'x-amz-id-2': 'M8ivFyAOgn4CGKj96f/Yd0FArJO+2xZzmjqOF/8NHgNrWqLlFYdzqfBBi027vY98dM/lEyvq658=',\n",
       "   'x-amz-request-id': '603B2578A56B7906',\n",
       "   'date': 'Tue, 15 Sep 2020 22:23:32 GMT',\n",
       "   'etag': '\"a21e770cfc2d06614b0058846c8f82f6\"',\n",
       "   'content-length': '0',\n",
       "   'server': 'AmazonS3'},\n",
       "  'RetryAttempts': 0},\n",
       " 'ETag': '\"a21e770cfc2d06614b0058846c8f82f6\"'}"
      ]
     },
     "execution_count": 44,
     "metadata": {},
     "output_type": "execute_result"
    }
   ],
   "source": [
    "df_title.to_csv(csv_buffer)\n",
    "s3_resource.Object(bucket, 'df_title.csv').put(Body=csv_buffer.getvalue())"
   ]
  },
  {
   "cell_type": "code",
   "execution_count": 18,
   "metadata": {},
   "outputs": [
    {
     "output_type": "execute_result",
     "data": {
      "text/plain": "'Delorme New York State Atlas &amp; Gazetteer'"
     },
     "metadata": {},
     "execution_count": 18
    }
   ],
   "source": [
    "df_items['title'][0]"
   ]
  },
  {
   "cell_type": "code",
   "execution_count": 20,
   "metadata": {},
   "outputs": [
    {
     "output_type": "execute_result",
     "data": {
      "text/plain": "                                                       0         1      \\\ntitle                                                                    \nDelorme New York State Atlas &amp; Gazetteer        1.000000  0.588029   \nGarmin DeLorme Atlas &amp; Gazetteer Paper Maps...  0.588029  1.000000   \nBenchMaster Pocket Guide - Fly Fishing - Fishing    0.000000  0.000000   \nSpooner Boards Freestyle - Green                    0.000000  0.000000   \nBlack Mountain Products Single Resistance Band ...  0.000000  0.000000   \n...                                                      ...       ...   \nMEILAIER UV Fishing Mask Moisture Wicking Headb...  0.000000  0.000000   \nSoft Cooling Towel for Instant Relief, 48inch E...  0.084537  0.143763   \nCycling Computers- Wireless Bike Speedometer an...  0.000000  0.000000   \nColumbia Bora booney                                0.000000  0.000000   \n2XU Men's Core Compression Shorts                   0.000000  0.000000   \n\n                                                       2      3         4      \\\ntitle                                                                           \nDelorme New York State Atlas &amp; Gazetteer        0.000000    0.0  0.000000   \nGarmin DeLorme Atlas &amp; Gazetteer Paper Maps...  0.000000    0.0  0.000000   \nBenchMaster Pocket Guide - Fly Fishing - Fishing    1.000000    0.0  0.000000   \nSpooner Boards Freestyle - Green                    0.000000    1.0  0.000000   \nBlack Mountain Products Single Resistance Band ...  0.000000    0.0  1.000000   \n...                                                      ...    ...       ...   \nMEILAIER UV Fishing Mask Moisture Wicking Headb...  0.243523    0.0  0.000000   \nSoft Cooling Towel for Instant Relief, 48inch E...  0.000000    0.0  0.000000   \nCycling Computers- Wireless Bike Speedometer an...  0.000000    0.0  0.066418   \nColumbia Bora booney                                0.000000    0.0  0.000000   \n2XU Men's Core Compression Shorts                   0.000000    0.0  0.000000   \n\n                                                       5         6      7      \\\ntitle                                                                           \nDelorme New York State Atlas &amp; Gazetteer        0.000000  0.222123    0.0   \nGarmin DeLorme Atlas &amp; Gazetteer Paper Maps...  0.000000  0.000000    0.0   \nBenchMaster Pocket Guide - Fly Fishing - Fishing    0.000000  0.000000    0.0   \nSpooner Boards Freestyle - Green                    0.000000  0.000000    0.0   \nBlack Mountain Products Single Resistance Band ...  0.601756  0.299845    0.0   \n...                                                      ...       ...    ...   \nMEILAIER UV Fishing Mask Moisture Wicking Headb...  0.000000  0.000000    0.0   \nSoft Cooling Towel for Instant Relief, 48inch E...  0.000000  0.000000    0.0   \nCycling Computers- Wireless Bike Speedometer an...  0.059188  0.000000    0.0   \nColumbia Bora booney                                0.000000  0.000000    0.0   \n2XU Men's Core Compression Shorts                   0.000000  0.000000    0.0   \n\n                                                       8      9      ...  \\\ntitle                                                                ...   \nDelorme New York State Atlas &amp; Gazetteer        0.000000    0.0  ...   \nGarmin DeLorme Atlas &amp; Gazetteer Paper Maps...  0.000000    0.0  ...   \nBenchMaster Pocket Guide - Fly Fishing - Fishing    0.000000    0.0  ...   \nSpooner Boards Freestyle - Green                    0.000000    0.0  ...   \nBlack Mountain Products Single Resistance Band ...  0.196249    0.0  ...   \n...                                                      ...    ...  ...   \nMEILAIER UV Fishing Mask Moisture Wicking Headb...  0.000000    0.0  ...   \nSoft Cooling Towel for Instant Relief, 48inch E...  0.000000    0.0  ...   \nCycling Computers- Wireless Bike Speedometer an...  0.000000    0.0  ...   \nColumbia Bora booney                                0.000000    0.0  ...   \n2XU Men's Core Compression Shorts                   0.000000    0.0  ...   \n\n                                                       56388  56389  56390  \\\ntitle                                                                        \nDelorme New York State Atlas &amp; Gazetteer        0.083671    0.0    0.0   \nGarmin DeLorme Atlas &amp; Gazetteer Paper Maps...  0.142290    0.0    0.0   \nBenchMaster Pocket Guide - Fly Fishing - Fishing    0.000000    0.0    0.0   \nSpooner Boards Freestyle - Green                    0.000000    0.0    0.0   \nBlack Mountain Products Single Resistance Band ...  0.000000    0.0    0.0   \n...                                                      ...    ...    ...   \nMEILAIER UV Fishing Mask Moisture Wicking Headb...  0.000000    0.0    0.0   \nSoft Cooling Towel for Instant Relief, 48inch E...  0.071577    0.0    0.0   \nCycling Computers- Wireless Bike Speedometer an...  0.000000    0.0    0.0   \nColumbia Bora booney                                0.000000    0.0    0.0   \n2XU Men's Core Compression Shorts                   0.000000    0.0    0.0   \n\n                                                       56391     56392  \\\ntitle                                                                    \nDelorme New York State Atlas &amp; Gazetteer        0.000000  0.132243   \nGarmin DeLorme Atlas &amp; Gazetteer Paper Maps...  0.000000  0.224892   \nBenchMaster Pocket Guide - Fly Fishing - Fishing    0.000000  0.000000   \nSpooner Boards Freestyle - Green                    0.000000  0.000000   \nBlack Mountain Products Single Resistance Band ...  0.000000  0.000000   \n...                                                      ...       ...   \nMEILAIER UV Fishing Mask Moisture Wicking Headb...  0.000000  0.000000   \nSoft Cooling Towel for Instant Relief, 48inch E...  0.107688  0.032331   \nCycling Computers- Wireless Bike Speedometer an...  0.149383  0.000000   \nColumbia Bora booney                                0.000000  0.000000   \n2XU Men's Core Compression Shorts                   0.000000  0.000000   \n\n                                                       56393     56394  \\\ntitle                                                                    \nDelorme New York State Atlas &amp; Gazetteer        0.000000  0.084537   \nGarmin DeLorme Atlas &amp; Gazetteer Paper Maps...  0.000000  0.143763   \nBenchMaster Pocket Guide - Fly Fishing - Fishing    0.243523  0.000000   \nSpooner Boards Freestyle - Green                    0.000000  0.000000   \nBlack Mountain Products Single Resistance Band ...  0.000000  0.000000   \n...                                                      ...       ...   \nMEILAIER UV Fishing Mask Moisture Wicking Headb...  1.000000  0.060275   \nSoft Cooling Towel for Instant Relief, 48inch E...  0.060275  1.000000   \nCycling Computers- Wireless Bike Speedometer an...  0.094552  0.000000   \nColumbia Bora booney                                0.000000  0.000000   \n2XU Men's Core Compression Shorts                   0.000000  0.000000   \n\n                                                       56395  56396  56397  \ntitle                                                                       \nDelorme New York State Atlas &amp; Gazetteer        0.000000    0.0    0.0  \nGarmin DeLorme Atlas &amp; Gazetteer Paper Maps...  0.000000    0.0    0.0  \nBenchMaster Pocket Guide - Fly Fishing - Fishing    0.000000    0.0    0.0  \nSpooner Boards Freestyle - Green                    0.000000    0.0    0.0  \nBlack Mountain Products Single Resistance Band ...  0.066418    0.0    0.0  \n...                                                      ...    ...    ...  \nMEILAIER UV Fishing Mask Moisture Wicking Headb...  0.094552    0.0    0.0  \nSoft Cooling Towel for Instant Relief, 48inch E...  0.000000    0.0    0.0  \nCycling Computers- Wireless Bike Speedometer an...  1.000000    0.0    0.0  \nColumbia Bora booney                                0.000000    1.0    0.0  \n2XU Men's Core Compression Shorts                   0.000000    0.0    1.0  \n\n[56398 rows x 56398 columns]",
      "text/html": "<div>\n<style scoped>\n    .dataframe tbody tr th:only-of-type {\n        vertical-align: middle;\n    }\n\n    .dataframe tbody tr th {\n        vertical-align: top;\n    }\n\n    .dataframe thead th {\n        text-align: right;\n    }\n</style>\n<table border=\"1\" class=\"dataframe\">\n  <thead>\n    <tr style=\"text-align: right;\">\n      <th></th>\n      <th>0</th>\n      <th>1</th>\n      <th>2</th>\n      <th>3</th>\n      <th>4</th>\n      <th>5</th>\n      <th>6</th>\n      <th>7</th>\n      <th>8</th>\n      <th>9</th>\n      <th>...</th>\n      <th>56388</th>\n      <th>56389</th>\n      <th>56390</th>\n      <th>56391</th>\n      <th>56392</th>\n      <th>56393</th>\n      <th>56394</th>\n      <th>56395</th>\n      <th>56396</th>\n      <th>56397</th>\n    </tr>\n    <tr>\n      <th>title</th>\n      <th></th>\n      <th></th>\n      <th></th>\n      <th></th>\n      <th></th>\n      <th></th>\n      <th></th>\n      <th></th>\n      <th></th>\n      <th></th>\n      <th></th>\n      <th></th>\n      <th></th>\n      <th></th>\n      <th></th>\n      <th></th>\n      <th></th>\n      <th></th>\n      <th></th>\n      <th></th>\n      <th></th>\n    </tr>\n  </thead>\n  <tbody>\n    <tr>\n      <th>Delorme New York State Atlas &amp;amp; Gazetteer</th>\n      <td>1.000000</td>\n      <td>0.588029</td>\n      <td>0.000000</td>\n      <td>0.0</td>\n      <td>0.000000</td>\n      <td>0.000000</td>\n      <td>0.222123</td>\n      <td>0.0</td>\n      <td>0.000000</td>\n      <td>0.0</td>\n      <td>...</td>\n      <td>0.083671</td>\n      <td>0.0</td>\n      <td>0.0</td>\n      <td>0.000000</td>\n      <td>0.132243</td>\n      <td>0.000000</td>\n      <td>0.084537</td>\n      <td>0.000000</td>\n      <td>0.0</td>\n      <td>0.0</td>\n    </tr>\n    <tr>\n      <th>Garmin DeLorme Atlas &amp;amp; Gazetteer Paper Maps- Arizona, AA-000005-000</th>\n      <td>0.588029</td>\n      <td>1.000000</td>\n      <td>0.000000</td>\n      <td>0.0</td>\n      <td>0.000000</td>\n      <td>0.000000</td>\n      <td>0.000000</td>\n      <td>0.0</td>\n      <td>0.000000</td>\n      <td>0.0</td>\n      <td>...</td>\n      <td>0.142290</td>\n      <td>0.0</td>\n      <td>0.0</td>\n      <td>0.000000</td>\n      <td>0.224892</td>\n      <td>0.000000</td>\n      <td>0.143763</td>\n      <td>0.000000</td>\n      <td>0.0</td>\n      <td>0.0</td>\n    </tr>\n    <tr>\n      <th>BenchMaster Pocket Guide - Fly Fishing - Fishing</th>\n      <td>0.000000</td>\n      <td>0.000000</td>\n      <td>1.000000</td>\n      <td>0.0</td>\n      <td>0.000000</td>\n      <td>0.000000</td>\n      <td>0.000000</td>\n      <td>0.0</td>\n      <td>0.000000</td>\n      <td>0.0</td>\n      <td>...</td>\n      <td>0.000000</td>\n      <td>0.0</td>\n      <td>0.0</td>\n      <td>0.000000</td>\n      <td>0.000000</td>\n      <td>0.243523</td>\n      <td>0.000000</td>\n      <td>0.000000</td>\n      <td>0.0</td>\n      <td>0.0</td>\n    </tr>\n    <tr>\n      <th>Spooner Boards Freestyle - Green</th>\n      <td>0.000000</td>\n      <td>0.000000</td>\n      <td>0.000000</td>\n      <td>1.0</td>\n      <td>0.000000</td>\n      <td>0.000000</td>\n      <td>0.000000</td>\n      <td>0.0</td>\n      <td>0.000000</td>\n      <td>0.0</td>\n      <td>...</td>\n      <td>0.000000</td>\n      <td>0.0</td>\n      <td>0.0</td>\n      <td>0.000000</td>\n      <td>0.000000</td>\n      <td>0.000000</td>\n      <td>0.000000</td>\n      <td>0.000000</td>\n      <td>0.0</td>\n      <td>0.0</td>\n    </tr>\n    <tr>\n      <th>Black Mountain Products Single Resistance Band - Door Anchor and Starter Guide Included</th>\n      <td>0.000000</td>\n      <td>0.000000</td>\n      <td>0.000000</td>\n      <td>0.0</td>\n      <td>1.000000</td>\n      <td>0.601756</td>\n      <td>0.299845</td>\n      <td>0.0</td>\n      <td>0.196249</td>\n      <td>0.0</td>\n      <td>...</td>\n      <td>0.000000</td>\n      <td>0.0</td>\n      <td>0.0</td>\n      <td>0.000000</td>\n      <td>0.000000</td>\n      <td>0.000000</td>\n      <td>0.000000</td>\n      <td>0.066418</td>\n      <td>0.0</td>\n      <td>0.0</td>\n    </tr>\n    <tr>\n      <th>...</th>\n      <td>...</td>\n      <td>...</td>\n      <td>...</td>\n      <td>...</td>\n      <td>...</td>\n      <td>...</td>\n      <td>...</td>\n      <td>...</td>\n      <td>...</td>\n      <td>...</td>\n      <td>...</td>\n      <td>...</td>\n      <td>...</td>\n      <td>...</td>\n      <td>...</td>\n      <td>...</td>\n      <td>...</td>\n      <td>...</td>\n      <td>...</td>\n      <td>...</td>\n      <td>...</td>\n    </tr>\n    <tr>\n      <th>MEILAIER UV Fishing Mask Moisture Wicking Headband Seamless Bandana COOLMAX Microfiber for Cycling Running Hunting Motorcycle Head Wear</th>\n      <td>0.000000</td>\n      <td>0.000000</td>\n      <td>0.243523</td>\n      <td>0.0</td>\n      <td>0.000000</td>\n      <td>0.000000</td>\n      <td>0.000000</td>\n      <td>0.0</td>\n      <td>0.000000</td>\n      <td>0.0</td>\n      <td>...</td>\n      <td>0.000000</td>\n      <td>0.0</td>\n      <td>0.0</td>\n      <td>0.000000</td>\n      <td>0.000000</td>\n      <td>1.000000</td>\n      <td>0.060275</td>\n      <td>0.094552</td>\n      <td>0.0</td>\n      <td>0.0</td>\n    </tr>\n    <tr>\n      <th>Soft Cooling Towel for Instant Relief, 48inch Extra Long Natural Cool Cloth Scarf, Cold Neck Wrap Chilly Towels for Sports, Workout, Fitness, Gym, Yoga, Pilates, Travel, Camping Outdoor Running &amp;amp; More</th>\n      <td>0.084537</td>\n      <td>0.143763</td>\n      <td>0.000000</td>\n      <td>0.0</td>\n      <td>0.000000</td>\n      <td>0.000000</td>\n      <td>0.000000</td>\n      <td>0.0</td>\n      <td>0.000000</td>\n      <td>0.0</td>\n      <td>...</td>\n      <td>0.071577</td>\n      <td>0.0</td>\n      <td>0.0</td>\n      <td>0.107688</td>\n      <td>0.032331</td>\n      <td>0.060275</td>\n      <td>1.000000</td>\n      <td>0.000000</td>\n      <td>0.0</td>\n      <td>0.0</td>\n    </tr>\n    <tr>\n      <th>Cycling Computers- Wireless Bike Speedometer and Odometer-Waterproof Digital Bike Computer -Large HD LCD Screen Display Bicycle Speedometer - High Accuracy for Powerful Magnet -Black</th>\n      <td>0.000000</td>\n      <td>0.000000</td>\n      <td>0.000000</td>\n      <td>0.0</td>\n      <td>0.066418</td>\n      <td>0.059188</td>\n      <td>0.000000</td>\n      <td>0.0</td>\n      <td>0.000000</td>\n      <td>0.0</td>\n      <td>...</td>\n      <td>0.000000</td>\n      <td>0.0</td>\n      <td>0.0</td>\n      <td>0.149383</td>\n      <td>0.000000</td>\n      <td>0.094552</td>\n      <td>0.000000</td>\n      <td>1.000000</td>\n      <td>0.0</td>\n      <td>0.0</td>\n    </tr>\n    <tr>\n      <th>Columbia Bora booney</th>\n      <td>0.000000</td>\n      <td>0.000000</td>\n      <td>0.000000</td>\n      <td>0.0</td>\n      <td>0.000000</td>\n      <td>0.000000</td>\n      <td>0.000000</td>\n      <td>0.0</td>\n      <td>0.000000</td>\n      <td>0.0</td>\n      <td>...</td>\n      <td>0.000000</td>\n      <td>0.0</td>\n      <td>0.0</td>\n      <td>0.000000</td>\n      <td>0.000000</td>\n      <td>0.000000</td>\n      <td>0.000000</td>\n      <td>0.000000</td>\n      <td>1.0</td>\n      <td>0.0</td>\n    </tr>\n    <tr>\n      <th>2XU Men's Core Compression Shorts</th>\n      <td>0.000000</td>\n      <td>0.000000</td>\n      <td>0.000000</td>\n      <td>0.0</td>\n      <td>0.000000</td>\n      <td>0.000000</td>\n      <td>0.000000</td>\n      <td>0.0</td>\n      <td>0.000000</td>\n      <td>0.0</td>\n      <td>...</td>\n      <td>0.000000</td>\n      <td>0.0</td>\n      <td>0.0</td>\n      <td>0.000000</td>\n      <td>0.000000</td>\n      <td>0.000000</td>\n      <td>0.000000</td>\n      <td>0.000000</td>\n      <td>0.0</td>\n      <td>1.0</td>\n    </tr>\n  </tbody>\n</table>\n<p>56398 rows × 56398 columns</p>\n</div>"
     },
     "metadata": {},
     "execution_count": 20
    }
   ],
   "source": [
    "news_recommender = ContentRecommender()\n",
    "news_recommender.fit(df_title.values, titles = df_items['title'])"
   ]
  },
  {
   "cell_type": "code",
   "execution_count": 21,
   "metadata": {},
   "outputs": [
    {
     "output_type": "execute_result",
     "data": {
      "text/plain": "array([' Alien Warrior Fantasy Battle Axe w/ Dagger &amp; Plaque New ',\n       'Caltric STARTER Fits BRIGGS &amp; STRATTON 7HP 8HP 11HP 12HP 12.5HP 16HP All Vertical NEW',\n       'New Cruiser Drop-through 42&quot;*9.8&quot; Longboard Maple',\n       'TOAKS Titanium 550ml Pot (New Version)',\n       'New Era NBA Biggest Fan Redux Knit Beanie with Pom'], dtype=object)"
     },
     "metadata": {},
     "execution_count": 21
    }
   ],
   "source": [
    "news_recommender.get_recommendations(item='Delorme New York State Atlas &amp; Gazetteer')"
   ]
  },
  {
   "cell_type": "code",
   "execution_count": null,
   "metadata": {},
   "outputs": [],
   "source": []
  }
 ],
 "metadata": {
  "kernelspec": {
   "display_name": "Python 3",
   "language": "python",
   "name": "python3"
  },
  "language_info": {
   "codemirror_mode": {
    "name": "ipython",
    "version": 3
   },
   "file_extension": ".py",
   "mimetype": "text/x-python",
   "name": "python",
   "nbconvert_exporter": "python",
   "pygments_lexer": "ipython3",
   "version": "3.6.10-final"
  }
 },
 "nbformat": 4,
 "nbformat_minor": 4
}