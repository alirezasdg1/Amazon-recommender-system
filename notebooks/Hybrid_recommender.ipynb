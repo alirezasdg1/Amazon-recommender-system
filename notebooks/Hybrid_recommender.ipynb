{
 "metadata": {
  "language_info": {
   "codemirror_mode": {
    "name": "ipython",
    "version": 3
   },
   "file_extension": ".py",
   "mimetype": "text/x-python",
   "name": "python",
   "nbconvert_exporter": "python",
   "pygments_lexer": "ipython3",
   "version": "3.7.6-final"
  },
  "orig_nbformat": 2,
  "kernelspec": {
   "name": "python_defaultSpec_1600631210615",
   "display_name": "Python 3.7.6 64-bit ('base': conda)"
  }
 },
 "nbformat": 4,
 "nbformat_minor": 2,
 "cells": [
  {
   "cell_type": "code",
   "execution_count": 1,
   "metadata": {},
   "outputs": [],
   "source": [
    "import boto3\n",
    "import pandas as pd\n",
    "import numpy as np\n",
    "import sys\n",
    "from io import StringIO\n",
    "import surprise\n",
    "from surprise import accuracy\n",
    "from sklearn.model_selection import train_test_split\n",
    "from surprise import SVD, NMF, KNNBaseline\n"
   ]
  },
  {
   "cell_type": "code",
   "execution_count": 2,
   "metadata": {},
   "outputs": [],
   "source": [
    "sys.path.insert(1, '../src')\n",
    "from Collaborative_recommender import CollaborativeRecommender\n",
    "from Content_recommender import ContentRecommender\n",
    "from NLP import nlp_process"
   ]
  },
  {
   "cell_type": "code",
   "execution_count": 3,
   "metadata": {},
   "outputs": [],
   "source": [
    "%load_ext autoreload\n",
    "%autoreload 2"
   ]
  },
  {
   "cell_type": "code",
   "execution_count": 4,
   "metadata": {},
   "outputs": [],
   "source": [
    "%reload_ext autoreload"
   ]
  },
  {
   "cell_type": "code",
   "execution_count": 5,
   "metadata": {},
   "outputs": [],
   "source": [
    "s3 = boto3.client('s3')"
   ]
  },
  {
   "cell_type": "code",
   "execution_count": 6,
   "metadata": {},
   "outputs": [],
   "source": [
    "df_all_15 = pd.read_csv(\"s3://recommender-system-amazon/df_all_15_text.csv\")"
   ]
  },
  {
   "source": [
    "### Prepare required dataframe for the hybrid recommender "
   ],
   "cell_type": "markdown",
   "metadata": {}
  },
  {
   "cell_type": "code",
   "execution_count": 7,
   "metadata": {},
   "outputs": [],
   "source": [
    "df_items_text = df_all_15.groupby(['asin', 'title','title_nlp','image_x'])['item_text'].apply(lambda x: ' '.join(x)).reset_index()"
   ]
  },
  {
   "cell_type": "code",
   "execution_count": 8,
   "metadata": {},
   "outputs": [],
   "source": [
    "df_collab = df_all_15[['reviewerID',\"asin\",\"overall\"]]"
   ]
  },
  {
   "cell_type": "code",
   "execution_count": 9,
   "metadata": {},
   "outputs": [],
   "source": [
    "weighted_vector_text = pd.read_csv(\"s3://recommender-system-amazon/weighted_vector_text.csv\")"
   ]
  },
  {
   "cell_type": "code",
   "execution_count": 12,
   "metadata": {},
   "outputs": [],
   "source": [
    "weighted_vector_text.drop('Unnamed: 0',axis=1, inplace = True)"
   ]
  },
  {
   "cell_type": "code",
   "execution_count": 14,
   "metadata": {},
   "outputs": [],
   "source": [
    "weighted_vector_text.rename(index=df_items_text.asin,inplace=True)"
   ]
  },
  {
   "source": [
    "### Collaborative filter"
   ],
   "cell_type": "markdown",
   "metadata": {}
  },
  {
   "cell_type": "code",
   "execution_count": 17,
   "metadata": {},
   "outputs": [],
   "source": [
    "reader = surprise.Reader(rating_scale=(1,5))\n",
    "recom_colab = CollaborativeRecommender(df_collab,reader,NMF)\n",
    "param_grid = {'n_factors': [8,15,23,30,37,42], 'n_epochs': [5, 10]}\n",
    "recom_colab.grid(param_grid,cv=3)\n",
    "recom_colab.fit()"
   ]
  },
  {
   "cell_type": "code",
   "execution_count": 21,
   "metadata": {
    "tags": []
   },
   "outputs": [
    {
     "output_type": "stream",
     "name": "stdout",
     "text": "RMSE: 0.6924\n"
    }
   ],
   "source": [
    "df_pred, acc = recom_colab.pred()\n",
    "UM = recom_colab.utility_matrix()"
   ]
  },
  {
   "cell_type": "code",
   "execution_count": 22,
   "metadata": {},
   "outputs": [
    {
     "output_type": "execute_result",
     "data": {
      "text/plain": "            predicted_rating\niid                         \nB001ASUH4A          5.000000\nB004TBMUMM          5.000000\nB00AT6HZGM          5.000000\nB00I77PNUA          5.000000\nB00QBLAQCE          5.000000\nB00GU3K5AQ          4.729353\nB000P3WQ86          4.391842\nB01D8WEH14          4.303853\n7245456275               NaN\n7245456313               NaN",
      "text/html": "<div>\n<style scoped>\n    .dataframe tbody tr th:only-of-type {\n        vertical-align: middle;\n    }\n\n    .dataframe tbody tr th {\n        vertical-align: top;\n    }\n\n    .dataframe thead th {\n        text-align: right;\n    }\n</style>\n<table border=\"1\" class=\"dataframe\">\n  <thead>\n    <tr style=\"text-align: right;\">\n      <th></th>\n      <th>predicted_rating</th>\n    </tr>\n    <tr>\n      <th>iid</th>\n      <th></th>\n    </tr>\n  </thead>\n  <tbody>\n    <tr>\n      <th>B001ASUH4A</th>\n      <td>5.000000</td>\n    </tr>\n    <tr>\n      <th>B004TBMUMM</th>\n      <td>5.000000</td>\n    </tr>\n    <tr>\n      <th>B00AT6HZGM</th>\n      <td>5.000000</td>\n    </tr>\n    <tr>\n      <th>B00I77PNUA</th>\n      <td>5.000000</td>\n    </tr>\n    <tr>\n      <th>B00QBLAQCE</th>\n      <td>5.000000</td>\n    </tr>\n    <tr>\n      <th>B00GU3K5AQ</th>\n      <td>4.729353</td>\n    </tr>\n    <tr>\n      <th>B000P3WQ86</th>\n      <td>4.391842</td>\n    </tr>\n    <tr>\n      <th>B01D8WEH14</th>\n      <td>4.303853</td>\n    </tr>\n    <tr>\n      <th>7245456275</th>\n      <td>NaN</td>\n    </tr>\n    <tr>\n      <th>7245456313</th>\n      <td>NaN</td>\n    </tr>\n  </tbody>\n</table>\n</div>"
     },
     "metadata": {},
     "execution_count": 22
    }
   ],
   "source": [
    "UI = \"AZZG39P6RDCHL\"\n",
    "recom_colab.get_top_n(UI)"
   ]
  },
  {
   "cell_type": "code",
   "execution_count": null,
   "metadata": {},
   "outputs": [],
   "source": []
  }
 ]
}