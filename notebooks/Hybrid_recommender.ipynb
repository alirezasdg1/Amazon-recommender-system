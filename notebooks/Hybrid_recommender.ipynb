{
 "metadata": {
  "language_info": {
   "codemirror_mode": {
    "name": "ipython",
    "version": 3
   },
   "file_extension": ".py",
   "mimetype": "text/x-python",
   "name": "python",
   "nbconvert_exporter": "python",
   "pygments_lexer": "ipython3",
   "version": "3.7.6-final"
  },
  "orig_nbformat": 2,
  "kernelspec": {
   "name": "python_defaultSpec_1600631210615",
   "display_name": "Python 3.7.6 64-bit ('base': conda)"
  }
 },
 "nbformat": 4,
 "nbformat_minor": 2,
 "cells": [
  {
   "cell_type": "code",
   "execution_count": 29,
   "metadata": {},
   "outputs": [],
   "source": [
    "import boto3\n",
    "import pandas as pd\n",
    "import numpy as np\n",
    "import sys\n",
    "from io import StringIO\n",
    "import surprise\n",
    "from surprise import accuracy\n",
    "from sklearn.model_selection import train_test_split\n",
    "from surprise import SVD, NMF, KNNBaseline\n",
    "import pickle\n"
   ]
  },
  {
   "cell_type": "code",
   "execution_count": 30,
   "metadata": {},
   "outputs": [],
   "source": [
    "sys.path.insert(1, '../src')\n",
    "from Collaborative_recommender import CollaborativeRecommender\n",
    "from Content_recommender import ContentRecommender\n",
    "from Img_srcap import link\n",
    "from NLP import nlp_process"
   ]
  },
  {
   "cell_type": "code",
   "execution_count": 31,
   "metadata": {
    "tags": []
   },
   "outputs": [
    {
     "output_type": "stream",
     "name": "stdout",
     "text": "The autoreload extension is already loaded. To reload it, use:\n  %reload_ext autoreload\n"
    }
   ],
   "source": [
    "%load_ext autoreload\n",
    "%autoreload 2"
   ]
  },
  {
   "cell_type": "code",
   "execution_count": 32,
   "metadata": {},
   "outputs": [],
   "source": [
    "%reload_ext autoreload"
   ]
  },
  {
   "source": [
    "### Prepare lookup dataframes for the hybrid recommender "
   ],
   "cell_type": "markdown",
   "metadata": {}
  },
  {
   "cell_type": "code",
   "execution_count": 33,
   "metadata": {},
   "outputs": [],
   "source": [
    "s3 = boto3.client('s3')"
   ]
  },
  {
   "cell_type": "code",
   "execution_count": 13,
   "metadata": {},
   "outputs": [],
   "source": [
    "df_all_15 = pd.read_csv(\"s3://recommender-system-amazon/df_all_15_text.csv\", index_col=[0])"
   ]
  },
  {
   "cell_type": "code",
   "execution_count": 15,
   "metadata": {},
   "outputs": [],
   "source": [
    "df_items = df_all_15.groupby(['asin', 'title','title_nlp','image_x'])['item_text'].apply(lambda x: ' '.join(x)).reset_index()"
   ]
  },
  {
   "cell_type": "code",
   "execution_count": 17,
   "metadata": {},
   "outputs": [],
   "source": [
    "df_items = df_items[[\"asin\",\"title\",\"image_x\"]]"
   ]
  },
  {
   "cell_type": "code",
   "execution_count": 20,
   "metadata": {},
   "outputs": [],
   "source": [
    "df_items['links'] = df_items.apply(lambda x: link(x.image_x), axis=1)"
   ]
  },
  {
   "cell_type": "code",
   "execution_count": 26,
   "metadata": {},
   "outputs": [],
   "source": [
    "df_items.drop('image_x',axis = 1, inplace = True)"
   ]
  },
  {
   "cell_type": "code",
   "execution_count": 69,
   "metadata": {},
   "outputs": [],
   "source": [
    "df_items.set_index('asin', inplace = True)"
   ]
  },
  {
   "cell_type": "code",
   "execution_count": 64,
   "metadata": {},
   "outputs": [
    {
     "output_type": "execute_result",
     "data": {
      "text/plain": "                                                        title  \\\nasin                                                            \n7245456275  Black Mountain Products Single Resistance Band...   \n7245456313  Black Mountain Products Resistance Band Set wi...   \nB00003G4JR                            Carrom Game Board Large   \nB00004NKIQ        Franklin Sports Adjustable Soccer Rebounder   \nB00004SYN6  Park &amp; Sun Sports Permanent Outdoor Tether...   \n...                                                       ...   \nB01HCU3NTU  CVLIFE Red &amp; Green Dot Sight 4 Reticles Re...   \nB01HD17S3A  Ohuhu 28pcs Universal Hand Gun, Rifle &amp; Sh...   \nB01HE0PMFQ  ProFitness Weightlifting Belt (6-Inch-Wide) &n...   \nB01HEYYKLO  LED Safety Light - Clip On to Stay Safe and Be...   \nB01HHB2HK0  Gas ONE GS-3000 Portable Gas Stove with Carryi...   \n\n                                                        links  \nasin                                                           \n7245456275  [https://images-na.ssl-images-amazon.com/image...  \n7245456313  [https://images-na.ssl-images-amazon.com/image...  \nB00003G4JR  [https://images-na.ssl-images-amazon.com/image...  \nB00004NKIQ  [https://images-na.ssl-images-amazon.com/image...  \nB00004SYN6  [https://images-na.ssl-images-amazon.com/image...  \n...                                                       ...  \nB01HCU3NTU  [https://images-na.ssl-images-amazon.com/image...  \nB01HD17S3A  [https://images-na.ssl-images-amazon.com/image...  \nB01HE0PMFQ  [https://images-na.ssl-images-amazon.com/image...  \nB01HEYYKLO  [https://images-na.ssl-images-amazon.com/image...  \nB01HHB2HK0  [https://images-na.ssl-images-amazon.com/image...  \n\n[7119 rows x 2 columns]",
      "text/html": "<div>\n<style scoped>\n    .dataframe tbody tr th:only-of-type {\n        vertical-align: middle;\n    }\n\n    .dataframe tbody tr th {\n        vertical-align: top;\n    }\n\n    .dataframe thead th {\n        text-align: right;\n    }\n</style>\n<table border=\"1\" class=\"dataframe\">\n  <thead>\n    <tr style=\"text-align: right;\">\n      <th></th>\n      <th>title</th>\n      <th>links</th>\n    </tr>\n    <tr>\n      <th>asin</th>\n      <th></th>\n      <th></th>\n    </tr>\n  </thead>\n  <tbody>\n    <tr>\n      <th>7245456275</th>\n      <td>Black Mountain Products Single Resistance Band...</td>\n      <td>[https://images-na.ssl-images-amazon.com/image...</td>\n    </tr>\n    <tr>\n      <th>7245456313</th>\n      <td>Black Mountain Products Resistance Band Set wi...</td>\n      <td>[https://images-na.ssl-images-amazon.com/image...</td>\n    </tr>\n    <tr>\n      <th>B00003G4JR</th>\n      <td>Carrom Game Board Large</td>\n      <td>[https://images-na.ssl-images-amazon.com/image...</td>\n    </tr>\n    <tr>\n      <th>B00004NKIQ</th>\n      <td>Franklin Sports Adjustable Soccer Rebounder</td>\n      <td>[https://images-na.ssl-images-amazon.com/image...</td>\n    </tr>\n    <tr>\n      <th>B00004SYN6</th>\n      <td>Park &amp;amp; Sun Sports Permanent Outdoor Tether...</td>\n      <td>[https://images-na.ssl-images-amazon.com/image...</td>\n    </tr>\n    <tr>\n      <th>...</th>\n      <td>...</td>\n      <td>...</td>\n    </tr>\n    <tr>\n      <th>B01HCU3NTU</th>\n      <td>CVLIFE Red &amp;amp; Green Dot Sight 4 Reticles Re...</td>\n      <td>[https://images-na.ssl-images-amazon.com/image...</td>\n    </tr>\n    <tr>\n      <th>B01HD17S3A</th>\n      <td>Ohuhu 28pcs Universal Hand Gun, Rifle &amp;amp; Sh...</td>\n      <td>[https://images-na.ssl-images-amazon.com/image...</td>\n    </tr>\n    <tr>\n      <th>B01HE0PMFQ</th>\n      <td>ProFitness Weightlifting Belt (6-Inch-Wide) &amp;n...</td>\n      <td>[https://images-na.ssl-images-amazon.com/image...</td>\n    </tr>\n    <tr>\n      <th>B01HEYYKLO</th>\n      <td>LED Safety Light - Clip On to Stay Safe and Be...</td>\n      <td>[https://images-na.ssl-images-amazon.com/image...</td>\n    </tr>\n    <tr>\n      <th>B01HHB2HK0</th>\n      <td>Gas ONE GS-3000 Portable Gas Stove with Carryi...</td>\n      <td>[https://images-na.ssl-images-amazon.com/image...</td>\n    </tr>\n  </tbody>\n</table>\n<p>7119 rows × 2 columns</p>\n</div>"
     },
     "metadata": {},
     "execution_count": 64
    }
   ],
   "source": [
    "df_items"
   ]
  },
  {
   "cell_type": "code",
   "execution_count": 41,
   "metadata": {},
   "outputs": [],
   "source": [
    "df_reviewer = df_all_15[['reviewerID',\"asin\"]]"
   ]
  },
  {
   "cell_type": "code",
   "execution_count": 43,
   "metadata": {},
   "outputs": [
    {
     "output_type": "execute_result",
     "data": {
      "text/plain": "            reviewerID        asin\n0       A1J5VYG8O0YEMB  7245456313\n1        AYMDRRCOPKTCF  7245456313\n2       A3AX86YSUHLELL  7245456313\n3       A12MJJT1RL2S7K  7245456313\n4       A33BKACRGR3H38  7245456313\n...                ...         ...\n228653  A1RL3SGTCTKOVA  B01HHB2HK0\n228654  A1AZ1NXGGP6LDX  B01HHB2HK0\n228655  A1S08PNPO3HXA5  B01HHB2HK0\n228656  A2WVF9ZQ068DN0  B01HHB2HK0\n228657  A3OXHLG6DIBRW8  B01HHB2HK0\n\n[227509 rows x 2 columns]",
      "text/html": "<div>\n<style scoped>\n    .dataframe tbody tr th:only-of-type {\n        vertical-align: middle;\n    }\n\n    .dataframe tbody tr th {\n        vertical-align: top;\n    }\n\n    .dataframe thead th {\n        text-align: right;\n    }\n</style>\n<table border=\"1\" class=\"dataframe\">\n  <thead>\n    <tr style=\"text-align: right;\">\n      <th></th>\n      <th>reviewerID</th>\n      <th>asin</th>\n    </tr>\n  </thead>\n  <tbody>\n    <tr>\n      <th>0</th>\n      <td>A1J5VYG8O0YEMB</td>\n      <td>7245456313</td>\n    </tr>\n    <tr>\n      <th>1</th>\n      <td>AYMDRRCOPKTCF</td>\n      <td>7245456313</td>\n    </tr>\n    <tr>\n      <th>2</th>\n      <td>A3AX86YSUHLELL</td>\n      <td>7245456313</td>\n    </tr>\n    <tr>\n      <th>3</th>\n      <td>A12MJJT1RL2S7K</td>\n      <td>7245456313</td>\n    </tr>\n    <tr>\n      <th>4</th>\n      <td>A33BKACRGR3H38</td>\n      <td>7245456313</td>\n    </tr>\n    <tr>\n      <th>...</th>\n      <td>...</td>\n      <td>...</td>\n    </tr>\n    <tr>\n      <th>228653</th>\n      <td>A1RL3SGTCTKOVA</td>\n      <td>B01HHB2HK0</td>\n    </tr>\n    <tr>\n      <th>228654</th>\n      <td>A1AZ1NXGGP6LDX</td>\n      <td>B01HHB2HK0</td>\n    </tr>\n    <tr>\n      <th>228655</th>\n      <td>A1S08PNPO3HXA5</td>\n      <td>B01HHB2HK0</td>\n    </tr>\n    <tr>\n      <th>228656</th>\n      <td>A2WVF9ZQ068DN0</td>\n      <td>B01HHB2HK0</td>\n    </tr>\n    <tr>\n      <th>228657</th>\n      <td>A3OXHLG6DIBRW8</td>\n      <td>B01HHB2HK0</td>\n    </tr>\n  </tbody>\n</table>\n<p>227509 rows × 2 columns</p>\n</div>"
     },
     "metadata": {},
     "execution_count": 43
    }
   ],
   "source": [
    "df_reviewer"
   ]
  },
  {
   "source": [
    "Pickle dataframe for the flask app"
   ],
   "cell_type": "markdown",
   "metadata": {}
  },
  {
   "cell_type": "code",
   "execution_count": 65,
   "metadata": {},
   "outputs": [],
   "source": [
    "with open('../../data/df_items.pkl', 'wb') as f:\n",
    "    pickle.dump(df_items, f)"
   ]
  },
  {
   "cell_type": "code",
   "execution_count": 66,
   "metadata": {},
   "outputs": [],
   "source": [
    "remote_file_name = 'df_items.pkl'\n",
    "local_file_name = '../../data/df_items.pkl'\n",
    "bucket_name = 'recommender-system-amazon'\n",
    "\n",
    "s3.upload_file(Filename=local_file_name, \n",
    "               Bucket=bucket_name, \n",
    "               Key=remote_file_name)"
   ]
  },
  {
   "cell_type": "code",
   "execution_count": 44,
   "metadata": {},
   "outputs": [],
   "source": [
    "with open('../../data/df_reviewer.pkl', 'wb') as f:\n",
    "    pickle.dump(df_reviewer, f)"
   ]
  },
  {
   "cell_type": "code",
   "execution_count": 45,
   "metadata": {},
   "outputs": [],
   "source": [
    "remote_file_name = 'df_reviewer.pkl'\n",
    "local_file_name = '../../data/df_reviewer.pkl'\n",
    "bucket_name = 'recommender-system-amazon'\n",
    "\n",
    "s3.upload_file(Filename=local_file_name, \n",
    "               Bucket=bucket_name, \n",
    "               Key=remote_file_name)"
   ]
  },
  {
   "source": [
    "## Loading the collaborative and content-based recommenders"
   ],
   "cell_type": "markdown",
   "metadata": {}
  },
  {
   "source": [
    "Collaborative filter"
   ],
   "cell_type": "markdown",
   "metadata": {}
  },
  {
   "cell_type": "code",
   "execution_count": 48,
   "metadata": {},
   "outputs": [],
   "source": [
    "with open('../../data/recom_colab.pkl', 'rb') as f:\n",
    "    recom_colab = pickle.load(f)"
   ]
  },
  {
   "source": [
    "Content based filter"
   ],
   "cell_type": "markdown",
   "metadata": {}
  },
  {
   "cell_type": "code",
   "execution_count": 50,
   "metadata": {},
   "outputs": [],
   "source": [
    "with open('../../data/recom_content.pkl', 'rb') as f:\n",
    "    recom_content = pickle.load(f)"
   ]
  },
  {
   "source": [
    "Combining two recommenders"
   ],
   "cell_type": "markdown",
   "metadata": {}
  },
  {
   "cell_type": "code",
   "execution_count": 52,
   "metadata": {},
   "outputs": [],
   "source": [
    "UI = \"AZZG39P6RDCHL\"\n",
    "user_preference = recom_colab.get_top_n(UI,n=5)"
   ]
  },
  {
   "cell_type": "code",
   "execution_count": 53,
   "metadata": {},
   "outputs": [
    {
     "output_type": "execute_result",
     "data": {
      "text/plain": "            predicted_rating\niid                         \nB000P3WQ86               5.0\nB001ASUH4A               5.0\nB004TBMUMM               5.0\nB00AT6HZGM               5.0\nB00GU3K5AQ               5.0",
      "text/html": "<div>\n<style scoped>\n    .dataframe tbody tr th:only-of-type {\n        vertical-align: middle;\n    }\n\n    .dataframe tbody tr th {\n        vertical-align: top;\n    }\n\n    .dataframe thead th {\n        text-align: right;\n    }\n</style>\n<table border=\"1\" class=\"dataframe\">\n  <thead>\n    <tr style=\"text-align: right;\">\n      <th></th>\n      <th>predicted_rating</th>\n    </tr>\n    <tr>\n      <th>iid</th>\n      <th></th>\n    </tr>\n  </thead>\n  <tbody>\n    <tr>\n      <th>B000P3WQ86</th>\n      <td>5.0</td>\n    </tr>\n    <tr>\n      <th>B001ASUH4A</th>\n      <td>5.0</td>\n    </tr>\n    <tr>\n      <th>B004TBMUMM</th>\n      <td>5.0</td>\n    </tr>\n    <tr>\n      <th>B00AT6HZGM</th>\n      <td>5.0</td>\n    </tr>\n    <tr>\n      <th>B00GU3K5AQ</th>\n      <td>5.0</td>\n    </tr>\n  </tbody>\n</table>\n</div>"
     },
     "metadata": {},
     "execution_count": 53
    }
   ],
   "source": [
    "user_preference"
   ]
  },
  {
   "cell_type": "code",
   "execution_count": 57,
   "metadata": {},
   "outputs": [],
   "source": [
    "item = user_preference.index[0]"
   ]
  },
  {
   "cell_type": "code",
   "execution_count": 76,
   "metadata": {},
   "outputs": [],
   "source": [
    "recommended_items = recom_content.get_recommendations(item)"
   ]
  },
  {
   "cell_type": "code",
   "execution_count": 77,
   "metadata": {},
   "outputs": [
    {
     "output_type": "execute_result",
     "data": {
      "text/plain": "                                                        title  \\\nasin                                                            \nB000P431BG  Plano Single Scoped or Double Non-Scoped Rifle...   \nB0029KH9FS         Plano 10470 Gun Guard SE Single Rifle Case   \nB00C3MFDKK   Flambeau Outdoors 6500AR Tactical AR Case, Large   \nB001A76V2S                  Bulldog Cases Pit Bull Rifle Case   \nB000P3WPHI                 Plano Protector Single Pistol Case   \n\n                                                        links  \nasin                                                           \nB000P431BG  [https://images-na.ssl-images-amazon.com/image...  \nB0029KH9FS  [https://images-na.ssl-images-amazon.com/image...  \nB00C3MFDKK  [https://images-na.ssl-images-amazon.com/image...  \nB001A76V2S  [https://images-na.ssl-images-amazon.com/image...  \nB000P3WPHI  [https://images-na.ssl-images-amazon.com/image...  ",
      "text/html": "<div>\n<style scoped>\n    .dataframe tbody tr th:only-of-type {\n        vertical-align: middle;\n    }\n\n    .dataframe tbody tr th {\n        vertical-align: top;\n    }\n\n    .dataframe thead th {\n        text-align: right;\n    }\n</style>\n<table border=\"1\" class=\"dataframe\">\n  <thead>\n    <tr style=\"text-align: right;\">\n      <th></th>\n      <th>title</th>\n      <th>links</th>\n    </tr>\n    <tr>\n      <th>asin</th>\n      <th></th>\n      <th></th>\n    </tr>\n  </thead>\n  <tbody>\n    <tr>\n      <th>B000P431BG</th>\n      <td>Plano Single Scoped or Double Non-Scoped Rifle...</td>\n      <td>[https://images-na.ssl-images-amazon.com/image...</td>\n    </tr>\n    <tr>\n      <th>B0029KH9FS</th>\n      <td>Plano 10470 Gun Guard SE Single Rifle Case</td>\n      <td>[https://images-na.ssl-images-amazon.com/image...</td>\n    </tr>\n    <tr>\n      <th>B00C3MFDKK</th>\n      <td>Flambeau Outdoors 6500AR Tactical AR Case, Large</td>\n      <td>[https://images-na.ssl-images-amazon.com/image...</td>\n    </tr>\n    <tr>\n      <th>B001A76V2S</th>\n      <td>Bulldog Cases Pit Bull Rifle Case</td>\n      <td>[https://images-na.ssl-images-amazon.com/image...</td>\n    </tr>\n    <tr>\n      <th>B000P3WPHI</th>\n      <td>Plano Protector Single Pistol Case</td>\n      <td>[https://images-na.ssl-images-amazon.com/image...</td>\n    </tr>\n  </tbody>\n</table>\n</div>"
     },
     "metadata": {},
     "execution_count": 77
    }
   ],
   "source": [
    "df_items.loc[recommended_items]"
   ]
  },
  {
   "cell_type": "code",
   "execution_count": null,
   "metadata": {},
   "outputs": [],
   "source": []
  }
 ]
}