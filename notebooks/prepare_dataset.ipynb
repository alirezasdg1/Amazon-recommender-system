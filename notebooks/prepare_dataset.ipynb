{
  "nbformat": 4,
  "nbformat_minor": 0,
  "metadata": {
    "colab": {
      "name": "prepare_dataset.ipynb",
      "provenance": [],
      "collapsed_sections": [],
      "machine_shape": "hm",
      "include_colab_link": true
    },
    "kernelspec": {
      "name": "python3",
      "display_name": "Python 3"
    },
    "accelerator": "TPU"
  },
  "cells": [
    {
      "cell_type": "markdown",
      "metadata": {
        "id": "view-in-github",
        "colab_type": "text"
      },
      "source": [
        "<a href=\"https://colab.research.google.com/github/alirezasdg1/Amazon-recommender-system/blob/master/notebooks/prepare_dataset.ipynb\" target=\"_parent\"><img src=\"https://colab.research.google.com/assets/colab-badge.svg\" alt=\"Open In Colab\"/></a>"
      ]
    },
    {
      "cell_type": "markdown",
      "metadata": {
        "id": "EJucYMN8hnse",
        "colab_type": "text"
      },
      "source": [
        "## Preprocess the datasets\n",
        "\n",
        "First I downlaod the dataset and prepare them for furthure analyses.\n"
      ]
    },
    {
      "cell_type": "code",
      "metadata": {
        "id": "f5NDXrN2CtH7",
        "colab_type": "code",
        "colab": {}
      },
      "source": [
        "import os\n",
        "import json\n",
        "import gzip\n",
        "import pandas as pd\n",
        "from urllib.request import urlopen\n",
        "from google.colab import files"
      ],
      "execution_count": 12,
      "outputs": []
    },
    {
      "cell_type": "markdown",
      "metadata": {
        "id": "0PR7v9wriHdU",
        "colab_type": "text"
      },
      "source": [
        "Dataset for the products"
      ]
    },
    {
      "cell_type": "code",
      "metadata": {
        "id": "feWoOrmt4Tja",
        "colab_type": "code",
        "colab": {
          "base_uri": "https://localhost:8080/",
          "height": 204
        },
        "outputId": "bc5307ee-cb23-454e-8665-6f6b2a15672a"
      },
      "source": [
        "!wget http://deepyeti.ucsd.edu/jianmo/amazon/metaFiles/meta_Sports_and_Outdoors.json.gz"
      ],
      "execution_count": 3,
      "outputs": [
        {
          "output_type": "stream",
          "text": [
            "--2020-09-14 17:10:05--  http://deepyeti.ucsd.edu/jianmo/amazon/metaFiles/meta_Sports_and_Outdoors.json.gz\n",
            "Resolving deepyeti.ucsd.edu (deepyeti.ucsd.edu)... 169.228.63.50\n",
            "Connecting to deepyeti.ucsd.edu (deepyeti.ucsd.edu)|169.228.63.50|:80... connected.\n",
            "HTTP request sent, awaiting response... 200 OK\n",
            "Length: 512767929 (489M) [application/octet-stream]\n",
            "Saving to: ‘meta_Sports_and_Outdoors.json.gz’\n",
            "\n",
            "meta_Sports_and_Out 100%[===================>] 489.01M  55.4MB/s    in 9.1s    \n",
            "\n",
            "2020-09-14 17:10:14 (53.7 MB/s) - ‘meta_Sports_and_Outdoors.json.gz’ saved [512767929/512767929]\n",
            "\n"
          ],
          "name": "stdout"
        }
      ]
    },
    {
      "cell_type": "code",
      "metadata": {
        "id": "7igYuRaV4bF7",
        "colab_type": "code",
        "colab": {
          "base_uri": "https://localhost:8080/",
          "height": 71
        },
        "outputId": "0247291f-5d82-4b27-8949-c927ea064f87"
      },
      "source": [
        "### load the meta data\n",
        "\n",
        "data = []\n",
        "with gzip.open(\"meta_Sports_and_Outdoors.json.gz\") as f:\n",
        "    for l in f:\n",
        "        data.append(json.loads(l.strip()))\n",
        "    \n",
        "# total length of list, this number equals total number of products\n",
        "print(len(data))\n",
        "\n",
        "# first row of the list\n",
        "print(data[0])"
      ],
      "execution_count": 4,
      "outputs": [
        {
          "output_type": "stream",
          "text": [
            "962300\n",
            "{'category': ['Sports & Outdoors', 'Sports & Fitness', 'Other Sports', 'Dance', 'Clothing'], 'tech1': '', 'description': ['3 layers of super-soft polyester tulle can be cut to length. Satin covered stretch elastic waist gives a one size fits all most.'], 'fit': '', 'title': 'Adult Tutu Assorted Colors (Turquoise)', 'also_buy': [], 'image': [], 'tech2': '', 'brand': 'BubuBibi', 'feature': ['3 Layers - 100% Polyester Tulle, Hand Wash Lay FLat to Dry', '100% Polyester', 'FIT: most Kids. Teens . Adults *Please Check Measurements for Proper Fit', 'WAIST: Satin Covered Elastic 18\" relaxed to 36\" fully stretched', 'LENGTH: 16\" to 17\" *can easily be cut to desired length without worry of fraying or unraveling', 'You can return this item for any reason and get a full refund: no shipping charges. The item must be returned in new and unused condition.', '<a id=\"creturns-policy-url-text-pc\" class=\"a-link-normal\" href=\"/b/ref=frt_dp_sm?ie=UTF8&node=8622296011\">\\n                        Read the full returns policy\\n                    </a>', 'Go to Your Orders to start the return', 'Print the return shipping label', 'Ship it!', '<span class=\"a-text-bold\">Product Dimensions:\\n                    </span>\\n                    <span>11 x 8.1 x 1.6 inches</span>', '<span class=\"a-text-bold\">Shipping Weight:\\n                    </span>\\n                    <span>6.4 ounces (<a href=\\'https://www.amazon.com/gp/help/seller/shipping.html/ref=dp_pd_shipping?_encoding=UTF8&amp;seller=ATVPDKIKX0DER&amp;asin=0000032042\\'>View shipping rates and policies</a>)</span>', '<span class=\"a-text-bold\">ASIN:\\n                    </span>\\n                    <span>0000032042</span>', '', '<span class=\"a-text-bold\">Date first listed on Amazon:\\n                    </span>\\n                    <span>May 25, 2013</span>', '<span class=\"a-text-bold\">\\n                    Average Customer Review:\\n                </span>\\n                \\n\\n\\n\\n\\n<style type=\"text/css\">\\n    /* \\n    * Fix for UDP-1061. Average customer reviews has a small extra line on hover \\n    * https://omni-grok.amazon.com/xref/src/appgroup/websiteTemplates/retail/SoftlinesDetailPageAssets/udp-intl-lock/src/legacy.css?indexName=WebsiteTemplates#40\\n    */\\n    .noUnderline a:hover { \\n        text-decoration: none; \\n    }\\n</style>\\n\\n\\n\\n    \\n    \\n    \\n    \\n        \\n\\n        \\n\\n        \\n        \\n        \\n        \\n\\t\\t\\n\\t\\t\\n\\t\\t\\n\\t\\t\\n\\t\\t        \\n\\t\\t\\n\\t\\t\\n\\t\\t\\n\\t\\t\\n\\t\\t\\n\\t\\t\\n\\t\\t\\n\\t\\t        \\n        \\n\\n        <div id=\"detailBullets_averageCustomerReviews\" class=\"a-spacing-none\" data-asin=\"0000032042\" data-ref=\"dpx_acr_pop_\" >\\n            \\n            \\n            \\n                \\n                \\n                    \\n\\n\\n\\n\\n\\n\\n\\n\\n\\n\\n        <span class=\"a-declarative\" data-action=\"acrStarsLink-click-metrics\" data-acrStarsLink-click-metrics=\"{}\">\\n            \\n\\n\\n\\n\\n\\n    <span id=\"acrPopover\" class=\"reviewCountTextLinkedHistogram noUnderline\" title=\"3.4 out of 5 stars\">\\n        <span class=\"a-declarative\" data-action=\"a-popover\" data-a-popover=\"{&quot;max-width&quot;:&quot;700&quot;,&quot;closeButton&quot;:&quot;false&quot;,&quot;position&quot;:&quot;triggerBottom&quot;,&quot;url&quot;:&quot;/gp/customer-reviews/widgets/average-customer-review/popover/ref=dpx_acr_pop_?contextId=dpx&amp;asin=0000032042&quot;}\">\\n            <a href=\"javascript:void(0)\" class=\"a-popover-trigger a-declarative\">\\n                \\n\\n<i class=\"a-icon a-icon-star a-star-3-5\"><span class=\"a-icon-alt\">3.4 out of 5 stars</span></i>\\n                \\n            <i class=\"a-icon a-icon-popover\"></i></a>\\n        </span>\\n        <span class=\"a-letter-space\"></span>\\n    </span>\\n\\n\\n        </span>\\n        <span class=\"a-letter-space\"></span>\\n        \\n        \\n\\n        \\n\\n        \\n\\n        \\n        \\n        \\n        \\n        \\n        \\n        \\n            \\n            \\n                <span class=\"a-declarative\" data-action=\"acrLink-click-metrics\" data-acrLink-click-metrics=\"{}\">\\n                    <a id=\"acrCustomerReviewLink\" class=\"a-link-normal\" href=\"#customerReviews\">\\n                        <span id=\"acrCustomerReviewText\" class=\"a-size-base\">8 customer reviews</span>\\n                    </a>\\n                </span>\\n            \\n                <script type=\"text/javascript\">\\n                    P.when(\\'A\\', \\'ready\\').execute(function(A) {\\n                        A.declarative(\\'acrLink-click-metrics\\', \\'click\\', { \"allowLinkDefault\" : true }, function(event){\\n                            if(window.ue) {\\n                                ue.count(\"acrLinkClickCount\", (ue.count(\"acrLinkClickCount\") || 0) + 1);\\n                            }\\n                        });\\n                    });\\n                </script>\\n            \\n            \\n            \\n            \\n        \\n        \\n        <script type=\"text/javascript\">\\n            P.when(\\'A\\', \\'cf\\').execute(function(A) {\\n                A.declarative(\\'acrStarsLink-click-metrics\\', \\'click\\', { \"allowLinkDefault\" : true },  function(event){\\n                    if(window.ue) {\\n                        ue.count(\"acrStarsLinkWithPopoverClickCount\", (ue.count(\"acrStarsLinkWithPopoverClickCount\") || 0) + 1);\\n                    }\\n                });\\n            });\\n        </script>\\n\\n\\n                \\n            \\n        </div>'], 'rank': '712,899 in Clothing, Shoes & Jewelry (', 'also_view': ['B071LQWQBQ', 'B00M14DG0O', 'B076GTTY9W', 'B07BSZ4GYZ', 'B07CJWWMQW', 'B074DQJMYT', 'B002BZX8Z6', 'B07CPV7P5B', 'B01M0BIP9H', 'B07C9T6L8D', 'B07FQ3QG5G', 'B0717BCCGP', 'B01M0N9TCF', 'B01B8L258E', 'B06XBG5JZP', 'B0764FVL5D', 'B06XSMMGCR', 'B00VXJHFRS', 'B07C29WWV1', 'B00YAA2OIM', 'B01N9FPI8L', 'B07C59B19B', 'B01MAXSJRI', 'B075LDMYQX', 'B00HWF7KL8', 'B010CO0TKE', 'B07BS6BB44', 'B0787MGP57', 'B01KBX2SP0', 'B00BEU1PB8', 'B01N1TUL0J', 'B017IIKQSW', 'B071HB7YR6', 'B0774B3TPN', 'B005C4Y4F6', 'B071DZB539', 'B01LZ469DF', 'B009THXHPA', 'B078WPG8V6', 'B00TGDCFJQ', 'B07BVDXLS3', 'B06Y637BFS', 'B07GXKD7DZ', 'B002DMK3NC', 'B07BJ9GF9Q', 'B01B8L18IW', 'B07DWNBRXP', 'B01N9569M8', 'B078NTTW5C', 'B075WR53KQ', 'B07BVN9Q2X', 'B00BEU1HFM', 'B07FSL41RK', 'B07G5RFWV2', 'B01D4LH2L6', 'B07DFPBZBW', 'B00WTGV0O8', 'B00KOGJDSA', 'B01CO5M30I'], 'main_cat': '<img src=\"https://images-na.ssl-images-amazon.com/images/G/01/nav2/images/gui/amazon-fashion-store-new._CB520838675_.png\" class=\"nav-categ-image\" alt=\"AMAZON FASHION\"/>', 'similar_item': '', 'date': '<div class=\"a-fixed-left-grid a-spacing-none\"><div class=\"a-fixed-left-grid-inner\" style=\"padding-left:280px\"><div class=\"a-fixed-left-grid-col a-col-left\" style=\"width:280px;margin-left:-280px;float:left;\"><span class=\"a-declarative\" data-action=\"reviews:filter-action:push-state\" data-reviews:filter-action:push-state=\"{&quot;scrollToSelector&quot;:&quot;#reviews-filter-info&quot;,&quot;allowLinkDefault&quot;:&quot;1&quot;}\"><table id=\"histogramTable\" class=\"a-normal a-align-middle a-spacing-base\" role=\"presentation\"><tr data-reftag=\"cm_cr_dp_d_hist_5\" data-reviews-state-param=\"{&quot;filterByStar&quot;:&quot;five_star&quot;,&quot;pageNumber&quot;:&quot;1&quot;}\" class=\"a-histogram-row\"><td class=\"aok-nowrap\"><a aria-label=\"5 star (63%)\" class=\"a-size-base a-link-normal 5star\" title=\"5 star\" href=\"/Adult-Tutu-Assorted-Colors-Turquoise/product-reviews/0000032042/ref=cm_cr_dp_d_hist_5?ie=UTF8&amp;filterByStar=five_star&amp;reviewerType=all_reviews#reviews-filter-bar\">5 star</a><span class=\"a-letter-space\"></span>', 'price': '$11.80', 'asin': '0000032042'}\n"
          ],
          "name": "stdout"
        }
      ]
    },
    {
      "cell_type": "code",
      "metadata": {
        "id": "knpHP22w4scK",
        "colab_type": "code",
        "colab": {
          "base_uri": "https://localhost:8080/",
          "height": 34
        },
        "outputId": "9bd24c1f-e2dc-4d44-ec15-99f70c29ee7c"
      },
      "source": [
        "# convert list into pandas dataframe\n",
        "\n",
        "df_products = pd.DataFrame.from_dict(data)\n",
        "\n",
        "print(len(df_products))"
      ],
      "execution_count": 5,
      "outputs": [
        {
          "output_type": "stream",
          "text": [
            "962300\n"
          ],
          "name": "stdout"
        }
      ]
    },
    {
      "cell_type": "markdown",
      "metadata": {
        "id": "vqJOXLjlJg4b",
        "colab_type": "text"
      },
      "source": [
        "# Product dataframe"
      ]
    },
    {
      "cell_type": "code",
      "metadata": {
        "id": "vVB-gwBkHpWX",
        "colab_type": "code",
        "colab": {
          "base_uri": "https://localhost:8080/",
          "height": 85
        },
        "outputId": "189e3850-c202-4453-cdda-3a02b293c79c"
      },
      "source": [
        "df_products.columns"
      ],
      "execution_count": 6,
      "outputs": [
        {
          "output_type": "execute_result",
          "data": {
            "text/plain": [
              "Index(['category', 'tech1', 'description', 'fit', 'title', 'also_buy', 'image',\n",
              "       'tech2', 'brand', 'feature', 'rank', 'also_view', 'main_cat',\n",
              "       'similar_item', 'date', 'price', 'asin', 'details'],\n",
              "      dtype='object')"
            ]
          },
          "metadata": {
            "tags": []
          },
          "execution_count": 6
        }
      ]
    },
    {
      "cell_type": "code",
      "metadata": {
        "id": "L4rEQmVRDAlc",
        "colab_type": "code",
        "colab": {
          "base_uri": "https://localhost:8080/",
          "height": 700
        },
        "outputId": "b5d4fbab-9e64-4e52-b1ed-874da2c4be7a"
      },
      "source": [
        "df_products.head()"
      ],
      "execution_count": 7,
      "outputs": [
        {
          "output_type": "execute_result",
          "data": {
            "text/html": [
              "<div>\n",
              "<style scoped>\n",
              "    .dataframe tbody tr th:only-of-type {\n",
              "        vertical-align: middle;\n",
              "    }\n",
              "\n",
              "    .dataframe tbody tr th {\n",
              "        vertical-align: top;\n",
              "    }\n",
              "\n",
              "    .dataframe thead th {\n",
              "        text-align: right;\n",
              "    }\n",
              "</style>\n",
              "<table border=\"1\" class=\"dataframe\">\n",
              "  <thead>\n",
              "    <tr style=\"text-align: right;\">\n",
              "      <th></th>\n",
              "      <th>category</th>\n",
              "      <th>tech1</th>\n",
              "      <th>description</th>\n",
              "      <th>fit</th>\n",
              "      <th>title</th>\n",
              "      <th>also_buy</th>\n",
              "      <th>image</th>\n",
              "      <th>tech2</th>\n",
              "      <th>brand</th>\n",
              "      <th>feature</th>\n",
              "      <th>rank</th>\n",
              "      <th>also_view</th>\n",
              "      <th>main_cat</th>\n",
              "      <th>similar_item</th>\n",
              "      <th>date</th>\n",
              "      <th>price</th>\n",
              "      <th>asin</th>\n",
              "      <th>details</th>\n",
              "    </tr>\n",
              "  </thead>\n",
              "  <tbody>\n",
              "    <tr>\n",
              "      <th>0</th>\n",
              "      <td>[Sports &amp; Outdoors, Sports &amp; Fitness, Other Sp...</td>\n",
              "      <td></td>\n",
              "      <td>[3 layers of super-soft polyester tulle can be...</td>\n",
              "      <td></td>\n",
              "      <td>Adult Tutu Assorted Colors (Turquoise)</td>\n",
              "      <td>[]</td>\n",
              "      <td>[]</td>\n",
              "      <td></td>\n",
              "      <td>BubuBibi</td>\n",
              "      <td>[3 Layers - 100% Polyester Tulle, Hand Wash La...</td>\n",
              "      <td>712,899 in Clothing, Shoes &amp; Jewelry (</td>\n",
              "      <td>[B071LQWQBQ, B00M14DG0O, B076GTTY9W, B07BSZ4GY...</td>\n",
              "      <td>&lt;img src=\"https://images-na.ssl-images-amazon....</td>\n",
              "      <td></td>\n",
              "      <td>&lt;div class=\"a-fixed-left-grid a-spacing-none\"&gt;...</td>\n",
              "      <td>$11.80</td>\n",
              "      <td>0000032042</td>\n",
              "      <td>NaN</td>\n",
              "    </tr>\n",
              "    <tr>\n",
              "      <th>1</th>\n",
              "      <td>[Sports &amp; Outdoors, Sports &amp; Fitness, Other Sp...</td>\n",
              "      <td></td>\n",
              "      <td>[3 layers of super-soft polyester tulle can be...</td>\n",
              "      <td></td>\n",
              "      <td>Bububibi Adult Ballet Tutu Cheetah Pink</td>\n",
              "      <td>[]</td>\n",
              "      <td>[]</td>\n",
              "      <td></td>\n",
              "      <td>BubuBibi</td>\n",
              "      <td>[3 Layers - 100% Polyester Tulle, Hand Wash La...</td>\n",
              "      <td>712,899 in Clothing, Shoes &amp; Jewelry (</td>\n",
              "      <td>[]</td>\n",
              "      <td>&lt;img src=\"https://images-na.ssl-images-amazon....</td>\n",
              "      <td></td>\n",
              "      <td>&lt;div class=\"a-fixed-left-grid a-spacing-none\"&gt;...</td>\n",
              "      <td>$11.97</td>\n",
              "      <td>0000032069</td>\n",
              "      <td>NaN</td>\n",
              "    </tr>\n",
              "    <tr>\n",
              "      <th>2</th>\n",
              "      <td>[Sports &amp; Outdoors, Sports &amp; Fitness, Other Sp...</td>\n",
              "      <td></td>\n",
              "      <td>[3 layers of super-soft polyester tulle can be...</td>\n",
              "      <td></td>\n",
              "      <td>Girls Ballet Tutu Neon Orange</td>\n",
              "      <td>[B01MYHD3LV]</td>\n",
              "      <td>[]</td>\n",
              "      <td></td>\n",
              "      <td>Unknown</td>\n",
              "      <td>[3 Layers - 100% Polyester Tulle, Hand Wash La...</td>\n",
              "      <td>[&gt;#924,198 in Toys &amp; Games (See Top 100 in Toy...</td>\n",
              "      <td>[B0152HBC52, B07C29WWV1, B01M0BIP9H, B00VXJHFR...</td>\n",
              "      <td>Toys &amp; Games</td>\n",
              "      <td></td>\n",
              "      <td></td>\n",
              "      <td>$5.70</td>\n",
              "      <td>0000031860</td>\n",
              "      <td>NaN</td>\n",
              "    </tr>\n",
              "    <tr>\n",
              "      <th>3</th>\n",
              "      <td>[Sports &amp; Outdoors, Sports &amp; Fitness, Other Sp...</td>\n",
              "      <td></td>\n",
              "      <td>[TUtu]</td>\n",
              "      <td></td>\n",
              "      <td>Girls Ballet Tutu Zebra Hot Pink</td>\n",
              "      <td>[]</td>\n",
              "      <td>[]</td>\n",
              "      <td></td>\n",
              "      <td>Tutu</td>\n",
              "      <td>[Tutu]</td>\n",
              "      <td>1,314,199 in Sports &amp; Outdoors (</td>\n",
              "      <td>[0000013714]</td>\n",
              "      <td>Sports &amp; Outdoors</td>\n",
              "      <td></td>\n",
              "      <td></td>\n",
              "      <td>$7.50</td>\n",
              "      <td>0000031852</td>\n",
              "      <td>NaN</td>\n",
              "    </tr>\n",
              "    <tr>\n",
              "      <th>4</th>\n",
              "      <td>[Sports &amp; Outdoors, Sports &amp; Fitness, Other Sp...</td>\n",
              "      <td></td>\n",
              "      <td>[Dance tutu for girls ages 2-8 years. Perfect ...</td>\n",
              "      <td></td>\n",
              "      <td>Girls Ballet Tutu Neon Blue</td>\n",
              "      <td>[B009THXHPA, B00BEU1ZBI, B079PYLZTM, B00BEU1ZR...</td>\n",
              "      <td>[]</td>\n",
              "      <td></td>\n",
              "      <td>Bububibi</td>\n",
              "      <td>[3 Layers - 100% Polyester Tulle, Hand Wash La...</td>\n",
              "      <td>[&gt;#393,597 in Toys &amp; Games (See Top 100 in Toy...</td>\n",
              "      <td>[B009THXHPA, B079PYLZTM, B079PQPLT3, B00UP6A3R...</td>\n",
              "      <td>Toys &amp; Games</td>\n",
              "      <td></td>\n",
              "      <td></td>\n",
              "      <td>$6.54</td>\n",
              "      <td>0000031895</td>\n",
              "      <td>NaN</td>\n",
              "    </tr>\n",
              "  </tbody>\n",
              "</table>\n",
              "</div>"
            ],
            "text/plain": [
              "                                            category tech1  ...        asin details\n",
              "0  [Sports & Outdoors, Sports & Fitness, Other Sp...        ...  0000032042     NaN\n",
              "1  [Sports & Outdoors, Sports & Fitness, Other Sp...        ...  0000032069     NaN\n",
              "2  [Sports & Outdoors, Sports & Fitness, Other Sp...        ...  0000031860     NaN\n",
              "3  [Sports & Outdoors, Sports & Fitness, Other Sp...        ...  0000031852     NaN\n",
              "4  [Sports & Outdoors, Sports & Fitness, Other Sp...        ...  0000031895     NaN\n",
              "\n",
              "[5 rows x 18 columns]"
            ]
          },
          "metadata": {
            "tags": []
          },
          "execution_count": 7
        }
      ]
    },
    {
      "cell_type": "code",
      "metadata": {
        "id": "aE6LSWnfpzux",
        "colab_type": "code",
        "colab": {}
      },
      "source": [
        "df_products.to_csv('df_products.csv')"
      ],
      "execution_count": 13,
      "outputs": []
    },
    {
      "cell_type": "code",
      "metadata": {
        "id": "Fr1AV6DopmJ5",
        "colab_type": "code",
        "colab": {
          "base_uri": "https://localhost:8080/",
          "height": 17
        },
        "outputId": "df89b2ba-b6cb-4637-a20f-4d886b025f24"
      },
      "source": [
        "files.download(\"df_products.csv\")"
      ],
      "execution_count": 15,
      "outputs": [
        {
          "output_type": "display_data",
          "data": {
            "application/javascript": [
              "\n",
              "    async function download(id, filename, size) {\n",
              "      if (!google.colab.kernel.accessAllowed) {\n",
              "        return;\n",
              "      }\n",
              "      const div = document.createElement('div');\n",
              "      const label = document.createElement('label');\n",
              "      label.textContent = `Downloading \"${filename}\": `;\n",
              "      div.appendChild(label);\n",
              "      const progress = document.createElement('progress');\n",
              "      progress.max = size;\n",
              "      div.appendChild(progress);\n",
              "      document.body.appendChild(div);\n",
              "\n",
              "      const buffers = [];\n",
              "      let downloaded = 0;\n",
              "\n",
              "      const channel = await google.colab.kernel.comms.open(id);\n",
              "      // Send a message to notify the kernel that we're ready.\n",
              "      channel.send({})\n",
              "\n",
              "      for await (const message of channel.messages) {\n",
              "        // Send a message to notify the kernel that we're ready.\n",
              "        channel.send({})\n",
              "        if (message.buffers) {\n",
              "          for (const buffer of message.buffers) {\n",
              "            buffers.push(buffer);\n",
              "            downloaded += buffer.byteLength;\n",
              "            progress.value = downloaded;\n",
              "          }\n",
              "        }\n",
              "      }\n",
              "      const blob = new Blob(buffers, {type: 'application/binary'});\n",
              "      const a = document.createElement('a');\n",
              "      a.href = window.URL.createObjectURL(blob);\n",
              "      a.download = filename;\n",
              "      div.appendChild(a);\n",
              "      a.click();\n",
              "      div.remove();\n",
              "    }\n",
              "  "
            ],
            "text/plain": [
              "<IPython.core.display.Javascript object>"
            ]
          },
          "metadata": {
            "tags": []
          }
        },
        {
          "output_type": "display_data",
          "data": {
            "application/javascript": [
              "download(\"download_770c95d6-538d-416b-8b0f-9aa702581f2d\", \"df_products.csv\", 2776789110)"
            ],
            "text/plain": [
              "<IPython.core.display.Javascript object>"
            ]
          },
          "metadata": {
            "tags": []
          }
        }
      ]
    },
    {
      "cell_type": "code",
      "metadata": {
        "id": "0kZ2N4j6IPHZ",
        "colab_type": "code",
        "colab": {
          "base_uri": "https://localhost:8080/",
          "height": 34
        },
        "outputId": "0a9dccef-44a8-479e-9cee-1d5e498f380f"
      },
      "source": [
        "df_products[df_products.astype(str)['image'] != '[]'].shape"
      ],
      "execution_count": 11,
      "outputs": [
        {
          "output_type": "execute_result",
          "data": {
            "text/plain": [
              "(476483, 18)"
            ]
          },
          "metadata": {
            "tags": []
          },
          "execution_count": 11
        }
      ]
    },
    {
      "cell_type": "markdown",
      "metadata": {
        "id": "LY3FBk6Nuszj",
        "colab_type": "text"
      },
      "source": [
        "## Review data"
      ]
    },
    {
      "cell_type": "code",
      "metadata": {
        "id": "6LBLzsFU5LJ_",
        "colab_type": "code",
        "colab": {
          "base_uri": "https://localhost:8080/",
          "height": 204
        },
        "outputId": "517eca47-e817-4948-88c8-5b2b38645919"
      },
      "source": [
        "!wget http://deepyeti.ucsd.edu/jianmo/amazon/categoryFiles/Sports_and_Outdoors.json.gz"
      ],
      "execution_count": 17,
      "outputs": [
        {
          "output_type": "stream",
          "text": [
            "--2020-09-14 17:54:01--  http://deepyeti.ucsd.edu/jianmo/amazon/categoryFiles/Sports_and_Outdoors.json.gz\n",
            "Resolving deepyeti.ucsd.edu (deepyeti.ucsd.edu)... 169.228.63.50\n",
            "Connecting to deepyeti.ucsd.edu (deepyeti.ucsd.edu)|169.228.63.50|:80... connected.\n",
            "HTTP request sent, awaiting response... 200 OK\n",
            "Length: 1690448337 (1.6G) [application/octet-stream]\n",
            "Saving to: ‘Sports_and_Outdoors.json.gz’\n",
            "\n",
            "Sports_and_Outdoors 100%[===================>]   1.57G  49.7MB/s    in 33s     \n",
            "\n",
            "2020-09-14 17:54:35 (48.9 MB/s) - ‘Sports_and_Outdoors.json.gz’ saved [1690448337/1690448337]\n",
            "\n"
          ],
          "name": "stdout"
        }
      ]
    },
    {
      "cell_type": "code",
      "metadata": {
        "id": "WqZcdGp-5cui",
        "colab_type": "code",
        "colab": {
          "base_uri": "https://localhost:8080/",
          "height": 71
        },
        "outputId": "ffe338e7-e339-4fb8-a0ca-49d4c8853368"
      },
      "source": [
        "data = []\n",
        "with gzip.open('Sports_and_Outdoors.json.gz') as f:\n",
        "    for l in f:\n",
        "        data.append(json.loads(l.strip()))\n",
        "    \n",
        "# total length of list, this number equals total number of products\n",
        "print(len(data))\n",
        "\n",
        "# first row of the list\n",
        "print(data[0])"
      ],
      "execution_count": 18,
      "outputs": [
        {
          "output_type": "stream",
          "text": [
            "12980837\n",
            "{'overall': 5.0, 'verified': False, 'reviewTime': '02 1, 2014', 'reviewerID': 'A23K73OVXJ04EG', 'asin': '0000031895', 'reviewerName': 'Lamb612000', 'reviewText': 'It was as described and fit my 6 year old grand daughter perfectly. She loves to play dress-up and this is a good addition to her wardrobe. I received the item quickly and the packaging was great.', 'summary': 'Neon Blue Tutu', 'unixReviewTime': 1391212800}\n"
          ],
          "name": "stdout"
        }
      ]
    },
    {
      "cell_type": "code",
      "metadata": {
        "id": "LCu4Zan_KBl7",
        "colab_type": "code",
        "colab": {
          "base_uri": "https://localhost:8080/",
          "height": 34
        },
        "outputId": "ac755953-3cba-400c-ccb4-1ab28424e920"
      },
      "source": [
        "df_review = pd.DataFrame.from_dict(data)\n",
        "\n",
        "print(len(df_review))"
      ],
      "execution_count": 19,
      "outputs": [
        {
          "output_type": "stream",
          "text": [
            "12980837\n"
          ],
          "name": "stdout"
        }
      ]
    },
    {
      "cell_type": "code",
      "metadata": {
        "id": "VBYRfDgkJVlw",
        "colab_type": "code",
        "colab": {}
      },
      "source": [
        "del data"
      ],
      "execution_count": 20,
      "outputs": []
    },
    {
      "cell_type": "code",
      "metadata": {
        "id": "PeJ2aEP-Kblp",
        "colab_type": "code",
        "colab": {
          "base_uri": "https://localhost:8080/",
          "height": 272
        },
        "outputId": "97826e8c-d794-4f80-9915-28186a8896a4"
      },
      "source": [
        "df_review.head()"
      ],
      "execution_count": 22,
      "outputs": [
        {
          "output_type": "execute_result",
          "data": {
            "text/html": [
              "<div>\n",
              "<style scoped>\n",
              "    .dataframe tbody tr th:only-of-type {\n",
              "        vertical-align: middle;\n",
              "    }\n",
              "\n",
              "    .dataframe tbody tr th {\n",
              "        vertical-align: top;\n",
              "    }\n",
              "\n",
              "    .dataframe thead th {\n",
              "        text-align: right;\n",
              "    }\n",
              "</style>\n",
              "<table border=\"1\" class=\"dataframe\">\n",
              "  <thead>\n",
              "    <tr style=\"text-align: right;\">\n",
              "      <th></th>\n",
              "      <th>overall</th>\n",
              "      <th>verified</th>\n",
              "      <th>reviewTime</th>\n",
              "      <th>reviewerID</th>\n",
              "      <th>asin</th>\n",
              "      <th>reviewerName</th>\n",
              "      <th>reviewText</th>\n",
              "      <th>summary</th>\n",
              "      <th>unixReviewTime</th>\n",
              "      <th>vote</th>\n",
              "      <th>style</th>\n",
              "      <th>image</th>\n",
              "    </tr>\n",
              "  </thead>\n",
              "  <tbody>\n",
              "    <tr>\n",
              "      <th>0</th>\n",
              "      <td>5.0</td>\n",
              "      <td>False</td>\n",
              "      <td>02 1, 2014</td>\n",
              "      <td>A23K73OVXJ04EG</td>\n",
              "      <td>0000031895</td>\n",
              "      <td>Lamb612000</td>\n",
              "      <td>It was as described and fit my 6 year old gran...</td>\n",
              "      <td>Neon Blue Tutu</td>\n",
              "      <td>1391212800</td>\n",
              "      <td>NaN</td>\n",
              "      <td>NaN</td>\n",
              "      <td>NaN</td>\n",
              "    </tr>\n",
              "    <tr>\n",
              "      <th>1</th>\n",
              "      <td>4.0</td>\n",
              "      <td>True</td>\n",
              "      <td>11 20, 2013</td>\n",
              "      <td>A2681T699HV6H1</td>\n",
              "      <td>0000031895</td>\n",
              "      <td>Courtney R</td>\n",
              "      <td>very cute and went great with my Halloween cos...</td>\n",
              "      <td>loved it!</td>\n",
              "      <td>1384905600</td>\n",
              "      <td>NaN</td>\n",
              "      <td>NaN</td>\n",
              "      <td>NaN</td>\n",
              "    </tr>\n",
              "    <tr>\n",
              "      <th>2</th>\n",
              "      <td>1.0</td>\n",
              "      <td>True</td>\n",
              "      <td>10 21, 2016</td>\n",
              "      <td>A374PA18DCGS5Y</td>\n",
              "      <td>0000031895</td>\n",
              "      <td>Julie Ortiz</td>\n",
              "      <td>This item is very cheaply made and not full li...</td>\n",
              "      <td>One Star</td>\n",
              "      <td>1477008000</td>\n",
              "      <td>NaN</td>\n",
              "      <td>NaN</td>\n",
              "      <td>NaN</td>\n",
              "    </tr>\n",
              "    <tr>\n",
              "      <th>3</th>\n",
              "      <td>5.0</td>\n",
              "      <td>True</td>\n",
              "      <td>10 18, 2016</td>\n",
              "      <td>A14PVW2N5YBWSA</td>\n",
              "      <td>0000031895</td>\n",
              "      <td>Denise M.</td>\n",
              "      <td>cute</td>\n",
              "      <td>Five Stars</td>\n",
              "      <td>1476748800</td>\n",
              "      <td>NaN</td>\n",
              "      <td>NaN</td>\n",
              "      <td>NaN</td>\n",
              "    </tr>\n",
              "    <tr>\n",
              "      <th>4</th>\n",
              "      <td>1.0</td>\n",
              "      <td>True</td>\n",
              "      <td>10 17, 2016</td>\n",
              "      <td>A2KWBC44QI2567</td>\n",
              "      <td>0000031895</td>\n",
              "      <td>Danielle Zollar</td>\n",
              "      <td>Not as full as the picture suggests and it sme...</td>\n",
              "      <td>Smelly !</td>\n",
              "      <td>1476662400</td>\n",
              "      <td>NaN</td>\n",
              "      <td>NaN</td>\n",
              "      <td>NaN</td>\n",
              "    </tr>\n",
              "  </tbody>\n",
              "</table>\n",
              "</div>"
            ],
            "text/plain": [
              "   overall  verified   reviewTime  ... vote style image\n",
              "0      5.0     False   02 1, 2014  ...  NaN   NaN   NaN\n",
              "1      4.0      True  11 20, 2013  ...  NaN   NaN   NaN\n",
              "2      1.0      True  10 21, 2016  ...  NaN   NaN   NaN\n",
              "3      5.0      True  10 18, 2016  ...  NaN   NaN   NaN\n",
              "4      1.0      True  10 17, 2016  ...  NaN   NaN   NaN\n",
              "\n",
              "[5 rows x 12 columns]"
            ]
          },
          "metadata": {
            "tags": []
          },
          "execution_count": 22
        }
      ]
    },
    {
      "cell_type": "code",
      "metadata": {
        "id": "0YUhk3qILUP8",
        "colab_type": "code",
        "colab": {}
      },
      "source": [
        "df_review.to_csv('df_review.csv')"
      ],
      "execution_count": 23,
      "outputs": []
    },
    {
      "cell_type": "code",
      "metadata": {
        "id": "cihT5Pmx5LKS",
        "colab_type": "code",
        "colab": {
          "base_uri": "https://localhost:8080/",
          "height": 34
        },
        "outputId": "86c23bd3-b51d-4c23-e9aa-afcb50bb6433"
      },
      "source": [
        "files.download(\"df_review.csv\")"
      ],
      "execution_count": 24,
      "outputs": [
        {
          "output_type": "display_data",
          "data": {
            "application/javascript": [
              "\n",
              "    async function download(id, filename, size) {\n",
              "      if (!google.colab.kernel.accessAllowed) {\n",
              "        return;\n",
              "      }\n",
              "      const div = document.createElement('div');\n",
              "      const label = document.createElement('label');\n",
              "      label.textContent = `Downloading \"${filename}\": `;\n",
              "      div.appendChild(label);\n",
              "      const progress = document.createElement('progress');\n",
              "      progress.max = size;\n",
              "      div.appendChild(progress);\n",
              "      document.body.appendChild(div);\n",
              "\n",
              "      const buffers = [];\n",
              "      let downloaded = 0;\n",
              "\n",
              "      const channel = await google.colab.kernel.comms.open(id);\n",
              "      // Send a message to notify the kernel that we're ready.\n",
              "      channel.send({})\n",
              "\n",
              "      for await (const message of channel.messages) {\n",
              "        // Send a message to notify the kernel that we're ready.\n",
              "        channel.send({})\n",
              "        if (message.buffers) {\n",
              "          for (const buffer of message.buffers) {\n",
              "            buffers.push(buffer);\n",
              "            downloaded += buffer.byteLength;\n",
              "            progress.value = downloaded;\n",
              "          }\n",
              "        }\n",
              "      }\n",
              "      const blob = new Blob(buffers, {type: 'application/binary'});\n",
              "      const a = document.createElement('a');\n",
              "      a.href = window.URL.createObjectURL(blob);\n",
              "      a.download = filename;\n",
              "      div.appendChild(a);\n",
              "      a.click();\n",
              "      div.remove();\n",
              "    }\n",
              "  "
            ],
            "text/plain": [
              "<IPython.core.display.Javascript object>"
            ]
          },
          "metadata": {
            "tags": []
          }
        },
        {
          "output_type": "display_data",
          "data": {
            "application/javascript": [
              "download(\"download_4595d18a-4710-4a8b-aef9-5c23e86fb562\", \"df_review.csv\", 4430240906)"
            ],
            "text/plain": [
              "<IPython.core.display.Javascript object>"
            ]
          },
          "metadata": {
            "tags": []
          }
        }
      ]
    }
  ]
}