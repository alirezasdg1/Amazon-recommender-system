{
  "nbformat": 4,
  "nbformat_minor": 0,
  "metadata": {
    "colab": {
      "name": "prepare_dataset.ipynb",
      "provenance": [],
      "collapsed_sections": [],
      "toc_visible": true,
      "machine_shape": "hm",
      "include_colab_link": true
    },
    "kernelspec": {
      "name": "python3",
      "display_name": "Python 3"
    },
    "accelerator": "TPU"
  },
  "cells": [
    {
      "cell_type": "markdown",
      "metadata": {
        "id": "view-in-github",
        "colab_type": "text"
      },
      "source": [
        "<a href=\"https://colab.research.google.com/github/alirezasdg1/Amazon-recommender-system/blob/master/notebooks/prepare_dataset.ipynb\" target=\"_parent\"><img src=\"https://colab.research.google.com/assets/colab-badge.svg\" alt=\"Open In Colab\"/></a>"
      ]
    },
    {
      "cell_type": "markdown",
      "metadata": {
        "id": "EJucYMN8hnse",
        "colab_type": "text"
      },
      "source": [
        "## Preprocess the datasets\n",
        "\n",
        "First I downlaod the dataset and prepare them for furthure analyses.\n"
      ]
    },
    {
      "cell_type": "code",
      "metadata": {
        "id": "f5NDXrN2CtH7",
        "colab_type": "code",
        "colab": {}
      },
      "source": [
        "import os\n",
        "import json\n",
        "import gzip\n",
        "import pandas as pd\n",
        "from urllib.request import urlopen\n",
        "from google.colab import files\n",
        "import numpy as np"
      ],
      "execution_count": 1,
      "outputs": []
    },
    {
      "cell_type": "markdown",
      "metadata": {
        "id": "0PR7v9wriHdU",
        "colab_type": "text"
      },
      "source": [
        "Dataset for the products"
      ]
    },
    {
      "cell_type": "code",
      "metadata": {
        "id": "feWoOrmt4Tja",
        "colab_type": "code",
        "colab": {
          "base_uri": "https://localhost:8080/",
          "height": 204
        },
        "outputId": "7c120398-00c2-42a5-a399-a4aa401675fa"
      },
      "source": [
        "!wget http://deepyeti.ucsd.edu/jianmo/amazon/metaFiles/meta_Sports_and_Outdoors.json.gz"
      ],
      "execution_count": null,
      "outputs": [
        {
          "output_type": "stream",
          "text": [
            "--2020-09-15 03:08:02--  http://deepyeti.ucsd.edu/jianmo/amazon/metaFiles/meta_Sports_and_Outdoors.json.gz\n",
            "Resolving deepyeti.ucsd.edu (deepyeti.ucsd.edu)... 169.228.63.50\n",
            "Connecting to deepyeti.ucsd.edu (deepyeti.ucsd.edu)|169.228.63.50|:80... connected.\n",
            "HTTP request sent, awaiting response... 200 OK\n",
            "Length: 512767929 (489M) [application/octet-stream]\n",
            "Saving to: ‘meta_Sports_and_Outdoors.json.gz’\n",
            "\n",
            "meta_Sports_and_Out 100%[===================>] 489.01M  49.8MB/s    in 10s     \n",
            "\n",
            "2020-09-15 03:08:12 (47.8 MB/s) - ‘meta_Sports_and_Outdoors.json.gz’ saved [512767929/512767929]\n",
            "\n"
          ],
          "name": "stdout"
        }
      ]
    },
    {
      "cell_type": "code",
      "metadata": {
        "id": "7igYuRaV4bF7",
        "colab_type": "code",
        "colab": {
          "base_uri": "https://localhost:8080/",
          "height": 71
        },
        "outputId": "adfa2c4e-ad81-4005-b9e5-5f4df969a6af"
      },
      "source": [
        "### load the meta data\n",
        "\n",
        "data = []\n",
        "with gzip.open(\"meta_Sports_and_Outdoors.json.gz\") as f:\n",
        "    for l in f:\n",
        "        data.append(json.loads(l.strip()))\n",
        "    \n",
        "# total length of list, this number equals total number of products\n",
        "print(len(data))\n",
        "\n",
        "# first row of the list\n",
        "print(data[0])"
      ],
      "execution_count": null,
      "outputs": [
        {
          "output_type": "stream",
          "text": [
            "962300\n",
            "{'category': ['Sports & Outdoors', 'Sports & Fitness', 'Other Sports', 'Dance', 'Clothing'], 'tech1': '', 'description': ['3 layers of super-soft polyester tulle can be cut to length. Satin covered stretch elastic waist gives a one size fits all most.'], 'fit': '', 'title': 'Adult Tutu Assorted Colors (Turquoise)', 'also_buy': [], 'image': [], 'tech2': '', 'brand': 'BubuBibi', 'feature': ['3 Layers - 100% Polyester Tulle, Hand Wash Lay FLat to Dry', '100% Polyester', 'FIT: most Kids. Teens . Adults *Please Check Measurements for Proper Fit', 'WAIST: Satin Covered Elastic 18\" relaxed to 36\" fully stretched', 'LENGTH: 16\" to 17\" *can easily be cut to desired length without worry of fraying or unraveling', 'You can return this item for any reason and get a full refund: no shipping charges. The item must be returned in new and unused condition.', '<a id=\"creturns-policy-url-text-pc\" class=\"a-link-normal\" href=\"/b/ref=frt_dp_sm?ie=UTF8&node=8622296011\">\\n                        Read the full returns policy\\n                    </a>', 'Go to Your Orders to start the return', 'Print the return shipping label', 'Ship it!', '<span class=\"a-text-bold\">Product Dimensions:\\n                    </span>\\n                    <span>11 x 8.1 x 1.6 inches</span>', '<span class=\"a-text-bold\">Shipping Weight:\\n                    </span>\\n                    <span>6.4 ounces (<a href=\\'https://www.amazon.com/gp/help/seller/shipping.html/ref=dp_pd_shipping?_encoding=UTF8&amp;seller=ATVPDKIKX0DER&amp;asin=0000032042\\'>View shipping rates and policies</a>)</span>', '<span class=\"a-text-bold\">ASIN:\\n                    </span>\\n                    <span>0000032042</span>', '', '<span class=\"a-text-bold\">Date first listed on Amazon:\\n                    </span>\\n                    <span>May 25, 2013</span>', '<span class=\"a-text-bold\">\\n                    Average Customer Review:\\n                </span>\\n                \\n\\n\\n\\n\\n<style type=\"text/css\">\\n    /* \\n    * Fix for UDP-1061. Average customer reviews has a small extra line on hover \\n    * https://omni-grok.amazon.com/xref/src/appgroup/websiteTemplates/retail/SoftlinesDetailPageAssets/udp-intl-lock/src/legacy.css?indexName=WebsiteTemplates#40\\n    */\\n    .noUnderline a:hover { \\n        text-decoration: none; \\n    }\\n</style>\\n\\n\\n\\n    \\n    \\n    \\n    \\n        \\n\\n        \\n\\n        \\n        \\n        \\n        \\n\\t\\t\\n\\t\\t\\n\\t\\t\\n\\t\\t\\n\\t\\t        \\n\\t\\t\\n\\t\\t\\n\\t\\t\\n\\t\\t\\n\\t\\t\\n\\t\\t\\n\\t\\t\\n\\t\\t        \\n        \\n\\n        <div id=\"detailBullets_averageCustomerReviews\" class=\"a-spacing-none\" data-asin=\"0000032042\" data-ref=\"dpx_acr_pop_\" >\\n            \\n            \\n            \\n                \\n                \\n                    \\n\\n\\n\\n\\n\\n\\n\\n\\n\\n\\n        <span class=\"a-declarative\" data-action=\"acrStarsLink-click-metrics\" data-acrStarsLink-click-metrics=\"{}\">\\n            \\n\\n\\n\\n\\n\\n    <span id=\"acrPopover\" class=\"reviewCountTextLinkedHistogram noUnderline\" title=\"3.4 out of 5 stars\">\\n        <span class=\"a-declarative\" data-action=\"a-popover\" data-a-popover=\"{&quot;max-width&quot;:&quot;700&quot;,&quot;closeButton&quot;:&quot;false&quot;,&quot;position&quot;:&quot;triggerBottom&quot;,&quot;url&quot;:&quot;/gp/customer-reviews/widgets/average-customer-review/popover/ref=dpx_acr_pop_?contextId=dpx&amp;asin=0000032042&quot;}\">\\n            <a href=\"javascript:void(0)\" class=\"a-popover-trigger a-declarative\">\\n                \\n\\n<i class=\"a-icon a-icon-star a-star-3-5\"><span class=\"a-icon-alt\">3.4 out of 5 stars</span></i>\\n                \\n            <i class=\"a-icon a-icon-popover\"></i></a>\\n        </span>\\n        <span class=\"a-letter-space\"></span>\\n    </span>\\n\\n\\n        </span>\\n        <span class=\"a-letter-space\"></span>\\n        \\n        \\n\\n        \\n\\n        \\n\\n        \\n        \\n        \\n        \\n        \\n        \\n        \\n            \\n            \\n                <span class=\"a-declarative\" data-action=\"acrLink-click-metrics\" data-acrLink-click-metrics=\"{}\">\\n                    <a id=\"acrCustomerReviewLink\" class=\"a-link-normal\" href=\"#customerReviews\">\\n                        <span id=\"acrCustomerReviewText\" class=\"a-size-base\">8 customer reviews</span>\\n                    </a>\\n                </span>\\n            \\n                <script type=\"text/javascript\">\\n                    P.when(\\'A\\', \\'ready\\').execute(function(A) {\\n                        A.declarative(\\'acrLink-click-metrics\\', \\'click\\', { \"allowLinkDefault\" : true }, function(event){\\n                            if(window.ue) {\\n                                ue.count(\"acrLinkClickCount\", (ue.count(\"acrLinkClickCount\") || 0) + 1);\\n                            }\\n                        });\\n                    });\\n                </script>\\n            \\n            \\n            \\n            \\n        \\n        \\n        <script type=\"text/javascript\">\\n            P.when(\\'A\\', \\'cf\\').execute(function(A) {\\n                A.declarative(\\'acrStarsLink-click-metrics\\', \\'click\\', { \"allowLinkDefault\" : true },  function(event){\\n                    if(window.ue) {\\n                        ue.count(\"acrStarsLinkWithPopoverClickCount\", (ue.count(\"acrStarsLinkWithPopoverClickCount\") || 0) + 1);\\n                    }\\n                });\\n            });\\n        </script>\\n\\n\\n                \\n            \\n        </div>'], 'rank': '712,899 in Clothing, Shoes & Jewelry (', 'also_view': ['B071LQWQBQ', 'B00M14DG0O', 'B076GTTY9W', 'B07BSZ4GYZ', 'B07CJWWMQW', 'B074DQJMYT', 'B002BZX8Z6', 'B07CPV7P5B', 'B01M0BIP9H', 'B07C9T6L8D', 'B07FQ3QG5G', 'B0717BCCGP', 'B01M0N9TCF', 'B01B8L258E', 'B06XBG5JZP', 'B0764FVL5D', 'B06XSMMGCR', 'B00VXJHFRS', 'B07C29WWV1', 'B00YAA2OIM', 'B01N9FPI8L', 'B07C59B19B', 'B01MAXSJRI', 'B075LDMYQX', 'B00HWF7KL8', 'B010CO0TKE', 'B07BS6BB44', 'B0787MGP57', 'B01KBX2SP0', 'B00BEU1PB8', 'B01N1TUL0J', 'B017IIKQSW', 'B071HB7YR6', 'B0774B3TPN', 'B005C4Y4F6', 'B071DZB539', 'B01LZ469DF', 'B009THXHPA', 'B078WPG8V6', 'B00TGDCFJQ', 'B07BVDXLS3', 'B06Y637BFS', 'B07GXKD7DZ', 'B002DMK3NC', 'B07BJ9GF9Q', 'B01B8L18IW', 'B07DWNBRXP', 'B01N9569M8', 'B078NTTW5C', 'B075WR53KQ', 'B07BVN9Q2X', 'B00BEU1HFM', 'B07FSL41RK', 'B07G5RFWV2', 'B01D4LH2L6', 'B07DFPBZBW', 'B00WTGV0O8', 'B00KOGJDSA', 'B01CO5M30I'], 'main_cat': '<img src=\"https://images-na.ssl-images-amazon.com/images/G/01/nav2/images/gui/amazon-fashion-store-new._CB520838675_.png\" class=\"nav-categ-image\" alt=\"AMAZON FASHION\"/>', 'similar_item': '', 'date': '<div class=\"a-fixed-left-grid a-spacing-none\"><div class=\"a-fixed-left-grid-inner\" style=\"padding-left:280px\"><div class=\"a-fixed-left-grid-col a-col-left\" style=\"width:280px;margin-left:-280px;float:left;\"><span class=\"a-declarative\" data-action=\"reviews:filter-action:push-state\" data-reviews:filter-action:push-state=\"{&quot;scrollToSelector&quot;:&quot;#reviews-filter-info&quot;,&quot;allowLinkDefault&quot;:&quot;1&quot;}\"><table id=\"histogramTable\" class=\"a-normal a-align-middle a-spacing-base\" role=\"presentation\"><tr data-reftag=\"cm_cr_dp_d_hist_5\" data-reviews-state-param=\"{&quot;filterByStar&quot;:&quot;five_star&quot;,&quot;pageNumber&quot;:&quot;1&quot;}\" class=\"a-histogram-row\"><td class=\"aok-nowrap\"><a aria-label=\"5 star (63%)\" class=\"a-size-base a-link-normal 5star\" title=\"5 star\" href=\"/Adult-Tutu-Assorted-Colors-Turquoise/product-reviews/0000032042/ref=cm_cr_dp_d_hist_5?ie=UTF8&amp;filterByStar=five_star&amp;reviewerType=all_reviews#reviews-filter-bar\">5 star</a><span class=\"a-letter-space\"></span>', 'price': '$11.80', 'asin': '0000032042'}\n"
          ],
          "name": "stdout"
        }
      ]
    },
    {
      "cell_type": "code",
      "metadata": {
        "id": "knpHP22w4scK",
        "colab_type": "code",
        "colab": {}
      },
      "source": [
        "# convert list into pandas dataframe\n",
        "\n",
        "df_products = pd.DataFrame.from_dict(data)\n",
        "\n",
        "print(len(df_products))"
      ],
      "execution_count": null,
      "outputs": []
    },
    {
      "cell_type": "markdown",
      "metadata": {
        "id": "vqJOXLjlJg4b",
        "colab_type": "text"
      },
      "source": [
        "# Product dataframe"
      ]
    },
    {
      "cell_type": "code",
      "metadata": {
        "id": "vVB-gwBkHpWX",
        "colab_type": "code",
        "colab": {}
      },
      "source": [
        "df_products.columns"
      ],
      "execution_count": null,
      "outputs": []
    },
    {
      "cell_type": "code",
      "metadata": {
        "id": "L4rEQmVRDAlc",
        "colab_type": "code",
        "colab": {}
      },
      "source": [
        "df_products.head()"
      ],
      "execution_count": null,
      "outputs": []
    },
    {
      "cell_type": "markdown",
      "metadata": {
        "id": "-L2lgUWehcyg",
        "colab_type": "text"
      },
      "source": [
        "Save to google drive"
      ]
    },
    {
      "cell_type": "code",
      "metadata": {
        "id": "aE6LSWnfpzux",
        "colab_type": "code",
        "colab": {}
      },
      "source": [
        "df_products.to_csv('df_products.csv')"
      ],
      "execution_count": null,
      "outputs": []
    },
    {
      "cell_type": "code",
      "metadata": {
        "id": "Fr1AV6DopmJ5",
        "colab_type": "code",
        "colab": {}
      },
      "source": [
        "files.download(\"df_products.csv\")"
      ],
      "execution_count": null,
      "outputs": []
    },
    {
      "cell_type": "code",
      "metadata": {
        "id": "0kZ2N4j6IPHZ",
        "colab_type": "code",
        "colab": {}
      },
      "source": [
        "df_products[df_products.astype(str)['image'] != '[]']"
      ],
      "execution_count": null,
      "outputs": []
    },
    {
      "cell_type": "markdown",
      "metadata": {
        "id": "LY3FBk6Nuszj",
        "colab_type": "text"
      },
      "source": [
        "## Review data"
      ]
    },
    {
      "cell_type": "code",
      "metadata": {
        "id": "6LBLzsFU5LJ_",
        "colab_type": "code",
        "colab": {}
      },
      "source": [
        "!wget http://deepyeti.ucsd.edu/jianmo/amazon/categoryFiles/Sports_and_Outdoors.json.gz"
      ],
      "execution_count": null,
      "outputs": []
    },
    {
      "cell_type": "code",
      "metadata": {
        "id": "WqZcdGp-5cui",
        "colab_type": "code",
        "colab": {}
      },
      "source": [
        "data = []\n",
        "with gzip.open('Sports_and_Outdoors.json.gz') as f:\n",
        "    for l in f:\n",
        "        data.append(json.loads(l.strip()))\n",
        "    \n",
        "# total length of list, this number equals total number of products\n",
        "print(len(data))\n",
        "\n",
        "# first row of the list\n",
        "print(data[0])"
      ],
      "execution_count": null,
      "outputs": []
    },
    {
      "cell_type": "code",
      "metadata": {
        "id": "LCu4Zan_KBl7",
        "colab_type": "code",
        "colab": {}
      },
      "source": [
        "df_review = pd.DataFrame.from_dict(data)\n",
        "\n",
        "print(len(df_review))"
      ],
      "execution_count": null,
      "outputs": []
    },
    {
      "cell_type": "code",
      "metadata": {
        "id": "VBYRfDgkJVlw",
        "colab_type": "code",
        "colab": {}
      },
      "source": [
        "del data"
      ],
      "execution_count": null,
      "outputs": []
    },
    {
      "cell_type": "code",
      "metadata": {
        "id": "PeJ2aEP-Kblp",
        "colab_type": "code",
        "colab": {}
      },
      "source": [
        "df_review.head()"
      ],
      "execution_count": null,
      "outputs": []
    },
    {
      "cell_type": "markdown",
      "metadata": {
        "id": "1qGNg1bWhks8",
        "colab_type": "text"
      },
      "source": [
        "Save to google drive"
      ]
    },
    {
      "cell_type": "code",
      "metadata": {
        "id": "0YUhk3qILUP8",
        "colab_type": "code",
        "colab": {}
      },
      "source": [
        "df_review.to_csv('df_review.csv')"
      ],
      "execution_count": null,
      "outputs": []
    },
    {
      "cell_type": "code",
      "metadata": {
        "id": "cihT5Pmx5LKS",
        "colab_type": "code",
        "colab": {}
      },
      "source": [
        "files.download(\"df_review.csv\")"
      ],
      "execution_count": null,
      "outputs": []
    },
    {
      "cell_type": "markdown",
      "metadata": {
        "id": "sCKU9JXWJm9H",
        "colab_type": "text"
      },
      "source": [
        "## Reload dataframe from google drive "
      ]
    },
    {
      "cell_type": "code",
      "metadata": {
        "id": "ZgMgivVpJUnH",
        "colab_type": "code",
        "colab": {
          "base_uri": "https://localhost:8080/",
          "height": 34
        },
        "outputId": "16173360-feb5-410c-a82e-c244fce69c0e"
      },
      "source": [
        "from google.colab import drive\n",
        "drive.mount('/content/drive')"
      ],
      "execution_count": 2,
      "outputs": [
        {
          "output_type": "stream",
          "text": [
            "Mounted at /content/drive\n"
          ],
          "name": "stdout"
        }
      ]
    },
    {
      "cell_type": "code",
      "metadata": {
        "id": "NriYcfDbI6St",
        "colab_type": "code",
        "colab": {
          "base_uri": "https://localhost:8080/",
          "height": 71
        },
        "outputId": "25f95fa3-764b-4fd7-f79b-42949cf39042"
      },
      "source": [
        "df_product = pd.read_csv(\"/content/drive/My Drive/Datasets/df_products.csv\")"
      ],
      "execution_count": 2,
      "outputs": [
        {
          "output_type": "stream",
          "text": [
            "/usr/local/lib/python3.6/dist-packages/IPython/core/interactiveshell.py:2718: DtypeWarning: Columns (8) have mixed types.Specify dtype option on import or set low_memory=False.\n",
            "  interactivity=interactivity, compiler=compiler, result=result)\n"
          ],
          "name": "stderr"
        }
      ]
    },
    {
      "cell_type": "code",
      "metadata": {
        "id": "2qa4MVFzJelQ",
        "colab_type": "code",
        "colab": {
          "base_uri": "https://localhost:8080/",
          "height": 34
        },
        "outputId": "36201cd2-9a44-4460-ab94-4056793189c3"
      },
      "source": [
        "df_product.shape"
      ],
      "execution_count": 5,
      "outputs": [
        {
          "output_type": "execute_result",
          "data": {
            "text/plain": [
              "(962300, 19)"
            ]
          },
          "metadata": {
            "tags": []
          },
          "execution_count": 5
        }
      ]
    },
    {
      "cell_type": "code",
      "metadata": {
        "id": "_m58OXcdJCWb",
        "colab_type": "code",
        "colab": {
          "base_uri": "https://localhost:8080/",
          "height": 71
        },
        "outputId": "cbbfbd4a-61c3-4e4a-b10c-b201eb0529fa"
      },
      "source": [
        "df_review = pd.read_csv(\"/content/drive/My Drive/Datasets/df_review.csv\")"
      ],
      "execution_count": 3,
      "outputs": [
        {
          "output_type": "stream",
          "text": [
            "/usr/local/lib/python3.6/dist-packages/IPython/core/interactiveshell.py:2718: DtypeWarning: Columns (10) have mixed types.Specify dtype option on import or set low_memory=False.\n",
            "  interactivity=interactivity, compiler=compiler, result=result)\n"
          ],
          "name": "stderr"
        }
      ]
    },
    {
      "cell_type": "code",
      "metadata": {
        "id": "mzSmBwa3KGZD",
        "colab_type": "code",
        "colab": {
          "base_uri": "https://localhost:8080/",
          "height": 34
        },
        "outputId": "3a84a9ea-e67e-4517-8696-0ce64794b132"
      },
      "source": [
        "df_review.shape"
      ],
      "execution_count": 7,
      "outputs": [
        {
          "output_type": "execute_result",
          "data": {
            "text/plain": [
              "(12980837, 13)"
            ]
          },
          "metadata": {
            "tags": []
          },
          "execution_count": 7
        }
      ]
    },
    {
      "cell_type": "code",
      "metadata": {
        "id": "C1EGo1w3W0wJ",
        "colab_type": "code",
        "colab": {
          "base_uri": "https://localhost:8080/",
          "height": 352
        },
        "outputId": "1dcf9589-88ea-4943-e314-86abb293e353"
      },
      "source": [
        "df_product.head(2)"
      ],
      "execution_count": 8,
      "outputs": [
        {
          "output_type": "execute_result",
          "data": {
            "text/html": [
              "<div>\n",
              "<style scoped>\n",
              "    .dataframe tbody tr th:only-of-type {\n",
              "        vertical-align: middle;\n",
              "    }\n",
              "\n",
              "    .dataframe tbody tr th {\n",
              "        vertical-align: top;\n",
              "    }\n",
              "\n",
              "    .dataframe thead th {\n",
              "        text-align: right;\n",
              "    }\n",
              "</style>\n",
              "<table border=\"1\" class=\"dataframe\">\n",
              "  <thead>\n",
              "    <tr style=\"text-align: right;\">\n",
              "      <th></th>\n",
              "      <th>Unnamed: 0</th>\n",
              "      <th>category</th>\n",
              "      <th>tech1</th>\n",
              "      <th>description</th>\n",
              "      <th>fit</th>\n",
              "      <th>title</th>\n",
              "      <th>also_buy</th>\n",
              "      <th>image</th>\n",
              "      <th>tech2</th>\n",
              "      <th>brand</th>\n",
              "      <th>feature</th>\n",
              "      <th>rank</th>\n",
              "      <th>also_view</th>\n",
              "      <th>main_cat</th>\n",
              "      <th>similar_item</th>\n",
              "      <th>date</th>\n",
              "      <th>price</th>\n",
              "      <th>asin</th>\n",
              "      <th>details</th>\n",
              "    </tr>\n",
              "  </thead>\n",
              "  <tbody>\n",
              "    <tr>\n",
              "      <th>0</th>\n",
              "      <td>0</td>\n",
              "      <td>['Sports &amp; Outdoors', 'Sports &amp; Fitness', 'Oth...</td>\n",
              "      <td>NaN</td>\n",
              "      <td>['3 layers of super-soft polyester tulle can b...</td>\n",
              "      <td>NaN</td>\n",
              "      <td>Adult Tutu Assorted Colors (Turquoise)</td>\n",
              "      <td>[]</td>\n",
              "      <td>[]</td>\n",
              "      <td>NaN</td>\n",
              "      <td>BubuBibi</td>\n",
              "      <td>['3 Layers - 100% Polyester Tulle, Hand Wash L...</td>\n",
              "      <td>712,899 in Clothing, Shoes &amp; Jewelry (</td>\n",
              "      <td>['B071LQWQBQ', 'B00M14DG0O', 'B076GTTY9W', 'B0...</td>\n",
              "      <td>&lt;img src=\"https://images-na.ssl-images-amazon....</td>\n",
              "      <td>NaN</td>\n",
              "      <td>&lt;div class=\"a-fixed-left-grid a-spacing-none\"&gt;...</td>\n",
              "      <td>$11.80</td>\n",
              "      <td>0000032042</td>\n",
              "      <td>NaN</td>\n",
              "    </tr>\n",
              "    <tr>\n",
              "      <th>1</th>\n",
              "      <td>1</td>\n",
              "      <td>['Sports &amp; Outdoors', 'Sports &amp; Fitness', 'Oth...</td>\n",
              "      <td>NaN</td>\n",
              "      <td>['3 layers of super-soft polyester tulle can b...</td>\n",
              "      <td>NaN</td>\n",
              "      <td>Bububibi Adult Ballet Tutu Cheetah Pink</td>\n",
              "      <td>[]</td>\n",
              "      <td>[]</td>\n",
              "      <td>NaN</td>\n",
              "      <td>BubuBibi</td>\n",
              "      <td>['3 Layers - 100% Polyester Tulle, Hand Wash L...</td>\n",
              "      <td>712,899 in Clothing, Shoes &amp; Jewelry (</td>\n",
              "      <td>[]</td>\n",
              "      <td>&lt;img src=\"https://images-na.ssl-images-amazon....</td>\n",
              "      <td>NaN</td>\n",
              "      <td>&lt;div class=\"a-fixed-left-grid a-spacing-none\"&gt;...</td>\n",
              "      <td>$11.97</td>\n",
              "      <td>0000032069</td>\n",
              "      <td>NaN</td>\n",
              "    </tr>\n",
              "  </tbody>\n",
              "</table>\n",
              "</div>"
            ],
            "text/plain": [
              "   Unnamed: 0  ... details\n",
              "0           0  ...     NaN\n",
              "1           1  ...     NaN\n",
              "\n",
              "[2 rows x 19 columns]"
            ]
          },
          "metadata": {
            "tags": []
          },
          "execution_count": 8
        }
      ]
    },
    {
      "cell_type": "code",
      "metadata": {
        "id": "bSB91fqAgHL7",
        "colab_type": "code",
        "colab": {
          "base_uri": "https://localhost:8080/",
          "height": 162
        },
        "outputId": "c420e83a-84e8-4430-970f-75e40071d0e6"
      },
      "source": [
        "df_review.head(2)"
      ],
      "execution_count": 9,
      "outputs": [
        {
          "output_type": "execute_result",
          "data": {
            "text/html": [
              "<div>\n",
              "<style scoped>\n",
              "    .dataframe tbody tr th:only-of-type {\n",
              "        vertical-align: middle;\n",
              "    }\n",
              "\n",
              "    .dataframe tbody tr th {\n",
              "        vertical-align: top;\n",
              "    }\n",
              "\n",
              "    .dataframe thead th {\n",
              "        text-align: right;\n",
              "    }\n",
              "</style>\n",
              "<table border=\"1\" class=\"dataframe\">\n",
              "  <thead>\n",
              "    <tr style=\"text-align: right;\">\n",
              "      <th></th>\n",
              "      <th>Unnamed: 0</th>\n",
              "      <th>overall</th>\n",
              "      <th>verified</th>\n",
              "      <th>reviewTime</th>\n",
              "      <th>reviewerID</th>\n",
              "      <th>asin</th>\n",
              "      <th>reviewerName</th>\n",
              "      <th>reviewText</th>\n",
              "      <th>summary</th>\n",
              "      <th>unixReviewTime</th>\n",
              "      <th>vote</th>\n",
              "      <th>style</th>\n",
              "      <th>image</th>\n",
              "    </tr>\n",
              "  </thead>\n",
              "  <tbody>\n",
              "    <tr>\n",
              "      <th>0</th>\n",
              "      <td>0</td>\n",
              "      <td>5.0</td>\n",
              "      <td>False</td>\n",
              "      <td>02 1, 2014</td>\n",
              "      <td>A23K73OVXJ04EG</td>\n",
              "      <td>0000031895</td>\n",
              "      <td>Lamb612000</td>\n",
              "      <td>It was as described and fit my 6 year old gran...</td>\n",
              "      <td>Neon Blue Tutu</td>\n",
              "      <td>1391212800</td>\n",
              "      <td>NaN</td>\n",
              "      <td>NaN</td>\n",
              "      <td>NaN</td>\n",
              "    </tr>\n",
              "    <tr>\n",
              "      <th>1</th>\n",
              "      <td>1</td>\n",
              "      <td>4.0</td>\n",
              "      <td>True</td>\n",
              "      <td>11 20, 2013</td>\n",
              "      <td>A2681T699HV6H1</td>\n",
              "      <td>0000031895</td>\n",
              "      <td>Courtney R</td>\n",
              "      <td>very cute and went great with my Halloween cos...</td>\n",
              "      <td>loved it!</td>\n",
              "      <td>1384905600</td>\n",
              "      <td>NaN</td>\n",
              "      <td>NaN</td>\n",
              "      <td>NaN</td>\n",
              "    </tr>\n",
              "  </tbody>\n",
              "</table>\n",
              "</div>"
            ],
            "text/plain": [
              "   Unnamed: 0  overall  verified   reviewTime  ... unixReviewTime vote style image\n",
              "0           0      5.0     False   02 1, 2014  ...     1391212800  NaN   NaN   NaN\n",
              "1           1      4.0      True  11 20, 2013  ...     1384905600  NaN   NaN   NaN\n",
              "\n",
              "[2 rows x 13 columns]"
            ]
          },
          "metadata": {
            "tags": []
          },
          "execution_count": 9
        }
      ]
    },
    {
      "cell_type": "markdown",
      "metadata": {
        "id": "WnU4EMrjhkP1",
        "colab_type": "text"
      },
      "source": [
        "## Remove products without images and duplicates"
      ]
    },
    {
      "cell_type": "code",
      "metadata": {
        "id": "__EEABL4hjf0",
        "colab_type": "code",
        "colab": {}
      },
      "source": [
        "df_product_img = df_product[df_product.astype(str)['image'] != '[]'].copy()"
      ],
      "execution_count": 4,
      "outputs": []
    },
    {
      "cell_type": "code",
      "metadata": {
        "id": "Oduk1Ydeh8IT",
        "colab_type": "code",
        "colab": {
          "base_uri": "https://localhost:8080/",
          "height": 34
        },
        "outputId": "c8300fa3-f822-4f73-d537-0363fbc209ec"
      },
      "source": [
        "df_product_img.shape"
      ],
      "execution_count": 5,
      "outputs": [
        {
          "output_type": "execute_result",
          "data": {
            "text/plain": [
              "(476483, 19)"
            ]
          },
          "metadata": {
            "tags": []
          },
          "execution_count": 5
        }
      ]
    },
    {
      "cell_type": "code",
      "metadata": {
        "id": "MsdPMLGbC5pl",
        "colab_type": "code",
        "colab": {}
      },
      "source": [
        "df_product_img.drop_duplicates(subset=['asin'],inplace=True)"
      ],
      "execution_count": 6,
      "outputs": []
    },
    {
      "cell_type": "code",
      "metadata": {
        "id": "WFyQZQt7DJYS",
        "colab_type": "code",
        "colab": {
          "base_uri": "https://localhost:8080/",
          "height": 34
        },
        "outputId": "e9fc124f-74cf-4e14-aca9-83e5c67ef54c"
      },
      "source": [
        "df_product_img.shape"
      ],
      "execution_count": 7,
      "outputs": [
        {
          "output_type": "execute_result",
          "data": {
            "text/plain": [
              "(474978, 19)"
            ]
          },
          "metadata": {
            "tags": []
          },
          "execution_count": 7
        }
      ]
    },
    {
      "cell_type": "code",
      "metadata": {
        "id": "QiwXfacUiAo8",
        "colab_type": "code",
        "colab": {
          "base_uri": "https://localhost:8080/",
          "height": 284
        },
        "outputId": "0fb62efb-5a13-4a3e-b05c-182597c59891"
      },
      "source": [
        "df_product_img.head(2)"
      ],
      "execution_count": 8,
      "outputs": [
        {
          "output_type": "execute_result",
          "data": {
            "text/html": [
              "<div>\n",
              "<style scoped>\n",
              "    .dataframe tbody tr th:only-of-type {\n",
              "        vertical-align: middle;\n",
              "    }\n",
              "\n",
              "    .dataframe tbody tr th {\n",
              "        vertical-align: top;\n",
              "    }\n",
              "\n",
              "    .dataframe thead th {\n",
              "        text-align: right;\n",
              "    }\n",
              "</style>\n",
              "<table border=\"1\" class=\"dataframe\">\n",
              "  <thead>\n",
              "    <tr style=\"text-align: right;\">\n",
              "      <th></th>\n",
              "      <th>Unnamed: 0</th>\n",
              "      <th>category</th>\n",
              "      <th>tech1</th>\n",
              "      <th>description</th>\n",
              "      <th>fit</th>\n",
              "      <th>title</th>\n",
              "      <th>also_buy</th>\n",
              "      <th>image</th>\n",
              "      <th>tech2</th>\n",
              "      <th>brand</th>\n",
              "      <th>feature</th>\n",
              "      <th>rank</th>\n",
              "      <th>also_view</th>\n",
              "      <th>main_cat</th>\n",
              "      <th>similar_item</th>\n",
              "      <th>date</th>\n",
              "      <th>price</th>\n",
              "      <th>asin</th>\n",
              "      <th>details</th>\n",
              "    </tr>\n",
              "  </thead>\n",
              "  <tbody>\n",
              "    <tr>\n",
              "      <th>6</th>\n",
              "      <td>6</td>\n",
              "      <td>['Sports &amp; Outdoors', 'Outdoor Recreation', 'C...</td>\n",
              "      <td>NaN</td>\n",
              "      <td>['Deluxe Duffel Bag with full length zipper de...</td>\n",
              "      <td>NaN</td>\n",
              "      <td>6ft of Acid Free Linen Tape for Bookbinding</td>\n",
              "      <td>[]</td>\n",
              "      <td>['https://images-na.ssl-images-amazon.com/imag...</td>\n",
              "      <td>NaN</td>\n",
              "      <td>Stansport</td>\n",
              "      <td>['Cotton Canvas', 'Acid Free']</td>\n",
              "      <td>2,077,567 in Sports &amp; Outdoors (</td>\n",
              "      <td>['B003W5YN9Y', 'B077FXJTTS']</td>\n",
              "      <td>Sports &amp; Outdoors</td>\n",
              "      <td>NaN</td>\n",
              "      <td>NaN</td>\n",
              "      <td>$4.00</td>\n",
              "      <td>0000012300</td>\n",
              "      <td>NaN</td>\n",
              "    </tr>\n",
              "    <tr>\n",
              "      <th>11</th>\n",
              "      <td>11</td>\n",
              "      <td>['Sports &amp; Outdoors', 'Sports &amp; Fitness', 'Gol...</td>\n",
              "      <td>NaN</td>\n",
              "      <td>['Create an instant indoors putting green by p...</td>\n",
              "      <td>NaN</td>\n",
              "      <td>Putting Set in Case</td>\n",
              "      <td>[]</td>\n",
              "      <td>['https://images-na.ssl-images-amazon.com/imag...</td>\n",
              "      <td>NaN</td>\n",
              "      <td>Allegra</td>\n",
              "      <td>[]</td>\n",
              "      <td>5,302,408 in Sports &amp; Outdoors (</td>\n",
              "      <td>[]</td>\n",
              "      <td>Sports &amp; Outdoors</td>\n",
              "      <td>NaN</td>\n",
              "      <td>NaN</td>\n",
              "      <td>NaN</td>\n",
              "      <td>0500615594</td>\n",
              "      <td>NaN</td>\n",
              "    </tr>\n",
              "  </tbody>\n",
              "</table>\n",
              "</div>"
            ],
            "text/plain": [
              "    Unnamed: 0  ... details\n",
              "6            6  ...     NaN\n",
              "11          11  ...     NaN\n",
              "\n",
              "[2 rows x 19 columns]"
            ]
          },
          "metadata": {
            "tags": []
          },
          "execution_count": 8
        }
      ]
    },
    {
      "cell_type": "code",
      "metadata": {
        "id": "gpQU4ieMg8J_",
        "colab_type": "code",
        "colab": {}
      },
      "source": [
        "df_all = pd.merge(df_product_img,df_review,on='asin')"
      ],
      "execution_count": 9,
      "outputs": []
    },
    {
      "cell_type": "code",
      "metadata": {
        "id": "rkSetrP9D1Dy",
        "colab_type": "code",
        "colab": {
          "base_uri": "https://localhost:8080/",
          "height": 34
        },
        "outputId": "3e9219b8-6bde-4f0f-e1e2-6efdfaf61f32"
      },
      "source": [
        "df_all.shape"
      ],
      "execution_count": 10,
      "outputs": [
        {
          "output_type": "execute_result",
          "data": {
            "text/plain": [
              "(9678890, 31)"
            ]
          },
          "metadata": {
            "tags": []
          },
          "execution_count": 10
        }
      ]
    },
    {
      "cell_type": "code",
      "metadata": {
        "id": "9C9ZeZsqD3Jk",
        "colab_type": "code",
        "colab": {}
      },
      "source": [
        "df_all.drop_duplicates(inplace=True)"
      ],
      "execution_count": 11,
      "outputs": []
    },
    {
      "cell_type": "code",
      "metadata": {
        "id": "oiXNJ8ibjDJR",
        "colab_type": "code",
        "colab": {}
      },
      "source": [
        "df_all['date'] = pd.to_datetime(df_all['unixReviewTime'],unit='s')"
      ],
      "execution_count": 12,
      "outputs": []
    },
    {
      "cell_type": "code",
      "metadata": {
        "id": "mTn0mh_1cMSJ",
        "colab_type": "code",
        "colab": {
          "base_uri": "https://localhost:8080/",
          "height": 284
        },
        "outputId": "7b225b27-1bed-434f-bd8d-6a2822c8c9cf"
      },
      "source": [
        "df_all.head(2)"
      ],
      "execution_count": 13,
      "outputs": [
        {
          "output_type": "execute_result",
          "data": {
            "text/html": [
              "<div>\n",
              "<style scoped>\n",
              "    .dataframe tbody tr th:only-of-type {\n",
              "        vertical-align: middle;\n",
              "    }\n",
              "\n",
              "    .dataframe tbody tr th {\n",
              "        vertical-align: top;\n",
              "    }\n",
              "\n",
              "    .dataframe thead th {\n",
              "        text-align: right;\n",
              "    }\n",
              "</style>\n",
              "<table border=\"1\" class=\"dataframe\">\n",
              "  <thead>\n",
              "    <tr style=\"text-align: right;\">\n",
              "      <th></th>\n",
              "      <th>Unnamed: 0_x</th>\n",
              "      <th>category</th>\n",
              "      <th>tech1</th>\n",
              "      <th>description</th>\n",
              "      <th>fit</th>\n",
              "      <th>title</th>\n",
              "      <th>also_buy</th>\n",
              "      <th>image_x</th>\n",
              "      <th>tech2</th>\n",
              "      <th>brand</th>\n",
              "      <th>feature</th>\n",
              "      <th>rank</th>\n",
              "      <th>also_view</th>\n",
              "      <th>main_cat</th>\n",
              "      <th>similar_item</th>\n",
              "      <th>date</th>\n",
              "      <th>price</th>\n",
              "      <th>asin</th>\n",
              "      <th>details</th>\n",
              "      <th>Unnamed: 0_y</th>\n",
              "      <th>overall</th>\n",
              "      <th>verified</th>\n",
              "      <th>reviewTime</th>\n",
              "      <th>reviewerID</th>\n",
              "      <th>reviewerName</th>\n",
              "      <th>reviewText</th>\n",
              "      <th>summary</th>\n",
              "      <th>unixReviewTime</th>\n",
              "      <th>vote</th>\n",
              "      <th>style</th>\n",
              "      <th>image_y</th>\n",
              "    </tr>\n",
              "  </thead>\n",
              "  <tbody>\n",
              "    <tr>\n",
              "      <th>0</th>\n",
              "      <td>6</td>\n",
              "      <td>['Sports &amp; Outdoors', 'Outdoor Recreation', 'C...</td>\n",
              "      <td>NaN</td>\n",
              "      <td>['Deluxe Duffel Bag with full length zipper de...</td>\n",
              "      <td>NaN</td>\n",
              "      <td>6ft of Acid Free Linen Tape for Bookbinding</td>\n",
              "      <td>[]</td>\n",
              "      <td>['https://images-na.ssl-images-amazon.com/imag...</td>\n",
              "      <td>NaN</td>\n",
              "      <td>Stansport</td>\n",
              "      <td>['Cotton Canvas', 'Acid Free']</td>\n",
              "      <td>2,077,567 in Sports &amp; Outdoors (</td>\n",
              "      <td>['B003W5YN9Y', 'B077FXJTTS']</td>\n",
              "      <td>Sports &amp; Outdoors</td>\n",
              "      <td>NaN</td>\n",
              "      <td>2017-09-07</td>\n",
              "      <td>$4.00</td>\n",
              "      <td>0000012300</td>\n",
              "      <td>NaN</td>\n",
              "      <td>9411978</td>\n",
              "      <td>4.0</td>\n",
              "      <td>True</td>\n",
              "      <td>09 7, 2017</td>\n",
              "      <td>A1BUNBDDEO1N4B</td>\n",
              "      <td>Tom</td>\n",
              "      <td>not used yet but looks fine</td>\n",
              "      <td>Four Stars</td>\n",
              "      <td>1504742400</td>\n",
              "      <td>NaN</td>\n",
              "      <td>NaN</td>\n",
              "      <td>NaN</td>\n",
              "    </tr>\n",
              "    <tr>\n",
              "      <th>1</th>\n",
              "      <td>11</td>\n",
              "      <td>['Sports &amp; Outdoors', 'Sports &amp; Fitness', 'Gol...</td>\n",
              "      <td>NaN</td>\n",
              "      <td>['Create an instant indoors putting green by p...</td>\n",
              "      <td>NaN</td>\n",
              "      <td>Putting Set in Case</td>\n",
              "      <td>[]</td>\n",
              "      <td>['https://images-na.ssl-images-amazon.com/imag...</td>\n",
              "      <td>NaN</td>\n",
              "      <td>Allegra</td>\n",
              "      <td>[]</td>\n",
              "      <td>5,302,408 in Sports &amp; Outdoors (</td>\n",
              "      <td>[]</td>\n",
              "      <td>Sports &amp; Outdoors</td>\n",
              "      <td>NaN</td>\n",
              "      <td>2015-06-28</td>\n",
              "      <td>NaN</td>\n",
              "      <td>0500615594</td>\n",
              "      <td>NaN</td>\n",
              "      <td>9411717</td>\n",
              "      <td>2.0</td>\n",
              "      <td>True</td>\n",
              "      <td>06 28, 2015</td>\n",
              "      <td>A1L1J5K412ZGE3</td>\n",
              "      <td>B</td>\n",
              "      <td>Bent golf stick</td>\n",
              "      <td>DR. BINO</td>\n",
              "      <td>1435449600</td>\n",
              "      <td>NaN</td>\n",
              "      <td>NaN</td>\n",
              "      <td>NaN</td>\n",
              "    </tr>\n",
              "  </tbody>\n",
              "</table>\n",
              "</div>"
            ],
            "text/plain": [
              "   Unnamed: 0_x  ... image_y\n",
              "0             6  ...     NaN\n",
              "1            11  ...     NaN\n",
              "\n",
              "[2 rows x 31 columns]"
            ]
          },
          "metadata": {
            "tags": []
          },
          "execution_count": 13
        }
      ]
    },
    {
      "cell_type": "code",
      "metadata": {
        "id": "U08UCWrDXQRk",
        "colab_type": "code",
        "colab": {}
      },
      "source": [
        "#test = df_all[df_all.reviewText.apply(lambda x: len(str(x))>10)]"
      ],
      "execution_count": null,
      "outputs": []
    },
    {
      "cell_type": "markdown",
      "metadata": {
        "id": "F0wjYPgLgu7Q",
        "colab_type": "text"
      },
      "source": [
        "## Due to RAM issues, I had to reduce size of my Dataset"
      ]
    },
    {
      "cell_type": "code",
      "metadata": {
        "id": "U7jDPnXJJ75p",
        "colab_type": "code",
        "colab": {}
      },
      "source": [
        "df_review_15 = df_all.groupby('reviewerID').agg(Total_review_C=('overall', 'count')).reset_index()"
      ],
      "execution_count": 14,
      "outputs": []
    },
    {
      "cell_type": "code",
      "metadata": {
        "id": "WuUTpw4mSCuS",
        "colab_type": "code",
        "colab": {
          "base_uri": "https://localhost:8080/",
          "height": 419
        },
        "outputId": "3ed002e1-c14a-4736-9c50-0b27371a3e95"
      },
      "source": [
        "df_review_15[df_review_15.Total_review_C>5]"
      ],
      "execution_count": 15,
      "outputs": [
        {
          "output_type": "execute_result",
          "data": {
            "text/html": [
              "<div>\n",
              "<style scoped>\n",
              "    .dataframe tbody tr th:only-of-type {\n",
              "        vertical-align: middle;\n",
              "    }\n",
              "\n",
              "    .dataframe tbody tr th {\n",
              "        vertical-align: top;\n",
              "    }\n",
              "\n",
              "    .dataframe thead th {\n",
              "        text-align: right;\n",
              "    }\n",
              "</style>\n",
              "<table border=\"1\" class=\"dataframe\">\n",
              "  <thead>\n",
              "    <tr style=\"text-align: right;\">\n",
              "      <th></th>\n",
              "      <th>reviewerID</th>\n",
              "      <th>Total_review_C</th>\n",
              "    </tr>\n",
              "  </thead>\n",
              "  <tbody>\n",
              "    <tr>\n",
              "      <th>10</th>\n",
              "      <td>A0001528BGUBOEVR6T5U</td>\n",
              "      <td>11</td>\n",
              "    </tr>\n",
              "    <tr>\n",
              "      <th>30</th>\n",
              "      <td>A001170867ZBE9FORRQL</td>\n",
              "      <td>10</td>\n",
              "    </tr>\n",
              "    <tr>\n",
              "      <th>58</th>\n",
              "      <td>A0024836TBQJ1WBE4VDY</td>\n",
              "      <td>7</td>\n",
              "    </tr>\n",
              "    <tr>\n",
              "      <th>66</th>\n",
              "      <td>A0029274J35Q1MYNKUWO</td>\n",
              "      <td>13</td>\n",
              "    </tr>\n",
              "    <tr>\n",
              "      <th>80</th>\n",
              "      <td>A0036244LFNO78OM4135</td>\n",
              "      <td>7</td>\n",
              "    </tr>\n",
              "    <tr>\n",
              "      <th>...</th>\n",
              "      <td>...</td>\n",
              "      <td>...</td>\n",
              "    </tr>\n",
              "    <tr>\n",
              "      <th>5553954</th>\n",
              "      <td>AZZXAAHODW5MC</td>\n",
              "      <td>6</td>\n",
              "    </tr>\n",
              "    <tr>\n",
              "      <th>5553992</th>\n",
              "      <td>AZZYI1EW1WY3M</td>\n",
              "      <td>14</td>\n",
              "    </tr>\n",
              "    <tr>\n",
              "      <th>5554004</th>\n",
              "      <td>AZZYW4YOE1B6E</td>\n",
              "      <td>7</td>\n",
              "    </tr>\n",
              "    <tr>\n",
              "      <th>5554026</th>\n",
              "      <td>AZZZPDCSVJ9X2</td>\n",
              "      <td>7</td>\n",
              "    </tr>\n",
              "    <tr>\n",
              "      <th>5554033</th>\n",
              "      <td>AZZZVAXZQB7JJ</td>\n",
              "      <td>7</td>\n",
              "    </tr>\n",
              "  </tbody>\n",
              "</table>\n",
              "<p>189552 rows × 2 columns</p>\n",
              "</div>"
            ],
            "text/plain": [
              "                   reviewerID  Total_review_C\n",
              "10       A0001528BGUBOEVR6T5U              11\n",
              "30       A001170867ZBE9FORRQL              10\n",
              "58       A0024836TBQJ1WBE4VDY               7\n",
              "66       A0029274J35Q1MYNKUWO              13\n",
              "80       A0036244LFNO78OM4135               7\n",
              "...                       ...             ...\n",
              "5553954         AZZXAAHODW5MC               6\n",
              "5553992         AZZYI1EW1WY3M              14\n",
              "5554004         AZZYW4YOE1B6E               7\n",
              "5554026         AZZZPDCSVJ9X2               7\n",
              "5554033         AZZZVAXZQB7JJ               7\n",
              "\n",
              "[189552 rows x 2 columns]"
            ]
          },
          "metadata": {
            "tags": []
          },
          "execution_count": 15
        }
      ]
    },
    {
      "cell_type": "code",
      "metadata": {
        "id": "T9kXH1VtRv5R",
        "colab_type": "code",
        "colab": {
          "base_uri": "https://localhost:8080/",
          "height": 34
        },
        "outputId": "e7eba841-a856-4aa7-e728-69e950097fd7"
      },
      "source": [
        "df_all.shape"
      ],
      "execution_count": 16,
      "outputs": [
        {
          "output_type": "execute_result",
          "data": {
            "text/plain": [
              "(9678890, 31)"
            ]
          },
          "metadata": {
            "tags": []
          },
          "execution_count": 16
        }
      ]
    },
    {
      "cell_type": "code",
      "metadata": {
        "id": "vFgL6OiaMFbx",
        "colab_type": "code",
        "colab": {
          "base_uri": "https://localhost:8080/",
          "height": 34
        },
        "outputId": "6d456fe8-b205-4b9f-c167-5d09fc490dde"
      },
      "source": [
        "df_review_15.shape"
      ],
      "execution_count": 17,
      "outputs": [
        {
          "output_type": "execute_result",
          "data": {
            "text/plain": [
              "(5554037, 2)"
            ]
          },
          "metadata": {
            "tags": []
          },
          "execution_count": 17
        }
      ]
    },
    {
      "cell_type": "code",
      "metadata": {
        "id": "swP5A4oYYvG_",
        "colab_type": "code",
        "colab": {}
      },
      "source": [
        "df_product_15 = df_all.groupby('asin').agg(Total_review_P=('overall', 'count')).reset_index()"
      ],
      "execution_count": 18,
      "outputs": []
    },
    {
      "cell_type": "code",
      "metadata": {
        "id": "R97-ttCm8zkn",
        "colab_type": "code",
        "colab": {
          "base_uri": "https://localhost:8080/",
          "height": 34
        },
        "outputId": "065c72b9-6897-4326-b3fe-823e1dd11c3b"
      },
      "source": [
        "df_product_15.shape"
      ],
      "execution_count": 19,
      "outputs": [
        {
          "output_type": "execute_result",
          "data": {
            "text/plain": [
              "(474970, 2)"
            ]
          },
          "metadata": {
            "tags": []
          },
          "execution_count": 19
        }
      ]
    },
    {
      "cell_type": "code",
      "metadata": {
        "id": "eMxSYaAsV0Yc",
        "colab_type": "code",
        "colab": {}
      },
      "source": [
        "df_all_15 = pd.merge(df_all,df_review_15,on='reviewerID', how='left')"
      ],
      "execution_count": 20,
      "outputs": []
    },
    {
      "cell_type": "code",
      "metadata": {
        "id": "XRfB30LC_Lor",
        "colab_type": "code",
        "colab": {
          "base_uri": "https://localhost:8080/",
          "height": 284
        },
        "outputId": "37ad43dc-f654-48a9-ee42-75df7bf4606c"
      },
      "source": [
        "df_all_15.head(2)"
      ],
      "execution_count": 21,
      "outputs": [
        {
          "output_type": "execute_result",
          "data": {
            "text/html": [
              "<div>\n",
              "<style scoped>\n",
              "    .dataframe tbody tr th:only-of-type {\n",
              "        vertical-align: middle;\n",
              "    }\n",
              "\n",
              "    .dataframe tbody tr th {\n",
              "        vertical-align: top;\n",
              "    }\n",
              "\n",
              "    .dataframe thead th {\n",
              "        text-align: right;\n",
              "    }\n",
              "</style>\n",
              "<table border=\"1\" class=\"dataframe\">\n",
              "  <thead>\n",
              "    <tr style=\"text-align: right;\">\n",
              "      <th></th>\n",
              "      <th>Unnamed: 0_x</th>\n",
              "      <th>category</th>\n",
              "      <th>tech1</th>\n",
              "      <th>description</th>\n",
              "      <th>fit</th>\n",
              "      <th>title</th>\n",
              "      <th>also_buy</th>\n",
              "      <th>image_x</th>\n",
              "      <th>tech2</th>\n",
              "      <th>brand</th>\n",
              "      <th>feature</th>\n",
              "      <th>rank</th>\n",
              "      <th>also_view</th>\n",
              "      <th>main_cat</th>\n",
              "      <th>similar_item</th>\n",
              "      <th>date</th>\n",
              "      <th>price</th>\n",
              "      <th>asin</th>\n",
              "      <th>details</th>\n",
              "      <th>Unnamed: 0_y</th>\n",
              "      <th>overall</th>\n",
              "      <th>verified</th>\n",
              "      <th>reviewTime</th>\n",
              "      <th>reviewerID</th>\n",
              "      <th>reviewerName</th>\n",
              "      <th>reviewText</th>\n",
              "      <th>summary</th>\n",
              "      <th>unixReviewTime</th>\n",
              "      <th>vote</th>\n",
              "      <th>style</th>\n",
              "      <th>image_y</th>\n",
              "      <th>Total_review_C</th>\n",
              "    </tr>\n",
              "  </thead>\n",
              "  <tbody>\n",
              "    <tr>\n",
              "      <th>0</th>\n",
              "      <td>6</td>\n",
              "      <td>['Sports &amp; Outdoors', 'Outdoor Recreation', 'C...</td>\n",
              "      <td>NaN</td>\n",
              "      <td>['Deluxe Duffel Bag with full length zipper de...</td>\n",
              "      <td>NaN</td>\n",
              "      <td>6ft of Acid Free Linen Tape for Bookbinding</td>\n",
              "      <td>[]</td>\n",
              "      <td>['https://images-na.ssl-images-amazon.com/imag...</td>\n",
              "      <td>NaN</td>\n",
              "      <td>Stansport</td>\n",
              "      <td>['Cotton Canvas', 'Acid Free']</td>\n",
              "      <td>2,077,567 in Sports &amp; Outdoors (</td>\n",
              "      <td>['B003W5YN9Y', 'B077FXJTTS']</td>\n",
              "      <td>Sports &amp; Outdoors</td>\n",
              "      <td>NaN</td>\n",
              "      <td>2017-09-07</td>\n",
              "      <td>$4.00</td>\n",
              "      <td>0000012300</td>\n",
              "      <td>NaN</td>\n",
              "      <td>9411978</td>\n",
              "      <td>4.0</td>\n",
              "      <td>True</td>\n",
              "      <td>09 7, 2017</td>\n",
              "      <td>A1BUNBDDEO1N4B</td>\n",
              "      <td>Tom</td>\n",
              "      <td>not used yet but looks fine</td>\n",
              "      <td>Four Stars</td>\n",
              "      <td>1504742400</td>\n",
              "      <td>NaN</td>\n",
              "      <td>NaN</td>\n",
              "      <td>NaN</td>\n",
              "      <td>1</td>\n",
              "    </tr>\n",
              "    <tr>\n",
              "      <th>1</th>\n",
              "      <td>11</td>\n",
              "      <td>['Sports &amp; Outdoors', 'Sports &amp; Fitness', 'Gol...</td>\n",
              "      <td>NaN</td>\n",
              "      <td>['Create an instant indoors putting green by p...</td>\n",
              "      <td>NaN</td>\n",
              "      <td>Putting Set in Case</td>\n",
              "      <td>[]</td>\n",
              "      <td>['https://images-na.ssl-images-amazon.com/imag...</td>\n",
              "      <td>NaN</td>\n",
              "      <td>Allegra</td>\n",
              "      <td>[]</td>\n",
              "      <td>5,302,408 in Sports &amp; Outdoors (</td>\n",
              "      <td>[]</td>\n",
              "      <td>Sports &amp; Outdoors</td>\n",
              "      <td>NaN</td>\n",
              "      <td>2015-06-28</td>\n",
              "      <td>NaN</td>\n",
              "      <td>0500615594</td>\n",
              "      <td>NaN</td>\n",
              "      <td>9411717</td>\n",
              "      <td>2.0</td>\n",
              "      <td>True</td>\n",
              "      <td>06 28, 2015</td>\n",
              "      <td>A1L1J5K412ZGE3</td>\n",
              "      <td>B</td>\n",
              "      <td>Bent golf stick</td>\n",
              "      <td>DR. BINO</td>\n",
              "      <td>1435449600</td>\n",
              "      <td>NaN</td>\n",
              "      <td>NaN</td>\n",
              "      <td>NaN</td>\n",
              "      <td>2</td>\n",
              "    </tr>\n",
              "  </tbody>\n",
              "</table>\n",
              "</div>"
            ],
            "text/plain": [
              "   Unnamed: 0_x  ... Total_review_C\n",
              "0             6  ...              1\n",
              "1            11  ...              2\n",
              "\n",
              "[2 rows x 32 columns]"
            ]
          },
          "metadata": {
            "tags": []
          },
          "execution_count": 21
        }
      ]
    },
    {
      "cell_type": "code",
      "metadata": {
        "id": "Ep2HnsARfn3n",
        "colab_type": "code",
        "colab": {}
      },
      "source": [
        "df_all_15 = pd.merge(df_all_15,df_product_15,on='asin', how='left')"
      ],
      "execution_count": 22,
      "outputs": []
    },
    {
      "cell_type": "code",
      "metadata": {
        "id": "Mju8OocTAFJz",
        "colab_type": "code",
        "colab": {}
      },
      "source": [
        "df_all_15 = df_all_15[(df_all_15['main_cat']=='Sports & Outdoors')]"
      ],
      "execution_count": 24,
      "outputs": []
    },
    {
      "cell_type": "code",
      "metadata": {
        "id": "wYbqKDPbIXQZ",
        "colab_type": "code",
        "colab": {
          "base_uri": "https://localhost:8080/",
          "height": 615
        },
        "outputId": "4dc51fbc-5ee2-4660-9918-731dbf7ac831"
      },
      "source": [
        "df_all_15.head()"
      ],
      "execution_count": 25,
      "outputs": [
        {
          "output_type": "execute_result",
          "data": {
            "text/html": [
              "<div>\n",
              "<style scoped>\n",
              "    .dataframe tbody tr th:only-of-type {\n",
              "        vertical-align: middle;\n",
              "    }\n",
              "\n",
              "    .dataframe tbody tr th {\n",
              "        vertical-align: top;\n",
              "    }\n",
              "\n",
              "    .dataframe thead th {\n",
              "        text-align: right;\n",
              "    }\n",
              "</style>\n",
              "<table border=\"1\" class=\"dataframe\">\n",
              "  <thead>\n",
              "    <tr style=\"text-align: right;\">\n",
              "      <th></th>\n",
              "      <th>Unnamed: 0_x</th>\n",
              "      <th>category</th>\n",
              "      <th>tech1</th>\n",
              "      <th>description</th>\n",
              "      <th>fit</th>\n",
              "      <th>title</th>\n",
              "      <th>also_buy</th>\n",
              "      <th>image_x</th>\n",
              "      <th>tech2</th>\n",
              "      <th>brand</th>\n",
              "      <th>feature</th>\n",
              "      <th>rank</th>\n",
              "      <th>also_view</th>\n",
              "      <th>main_cat</th>\n",
              "      <th>similar_item</th>\n",
              "      <th>date</th>\n",
              "      <th>price</th>\n",
              "      <th>asin</th>\n",
              "      <th>details</th>\n",
              "      <th>Unnamed: 0_y</th>\n",
              "      <th>overall</th>\n",
              "      <th>verified</th>\n",
              "      <th>reviewTime</th>\n",
              "      <th>reviewerID</th>\n",
              "      <th>reviewerName</th>\n",
              "      <th>reviewText</th>\n",
              "      <th>summary</th>\n",
              "      <th>unixReviewTime</th>\n",
              "      <th>vote</th>\n",
              "      <th>style</th>\n",
              "      <th>image_y</th>\n",
              "      <th>Total_review_C</th>\n",
              "      <th>Total_review_P</th>\n",
              "    </tr>\n",
              "  </thead>\n",
              "  <tbody>\n",
              "    <tr>\n",
              "      <th>0</th>\n",
              "      <td>6</td>\n",
              "      <td>['Sports &amp; Outdoors', 'Outdoor Recreation', 'C...</td>\n",
              "      <td>NaN</td>\n",
              "      <td>['Deluxe Duffel Bag with full length zipper de...</td>\n",
              "      <td>NaN</td>\n",
              "      <td>6ft of Acid Free Linen Tape for Bookbinding</td>\n",
              "      <td>[]</td>\n",
              "      <td>['https://images-na.ssl-images-amazon.com/imag...</td>\n",
              "      <td>NaN</td>\n",
              "      <td>Stansport</td>\n",
              "      <td>['Cotton Canvas', 'Acid Free']</td>\n",
              "      <td>2,077,567 in Sports &amp; Outdoors (</td>\n",
              "      <td>['B003W5YN9Y', 'B077FXJTTS']</td>\n",
              "      <td>Sports &amp; Outdoors</td>\n",
              "      <td>NaN</td>\n",
              "      <td>2017-09-07</td>\n",
              "      <td>$4.00</td>\n",
              "      <td>0000012300</td>\n",
              "      <td>NaN</td>\n",
              "      <td>9411978</td>\n",
              "      <td>4.0</td>\n",
              "      <td>True</td>\n",
              "      <td>09 7, 2017</td>\n",
              "      <td>A1BUNBDDEO1N4B</td>\n",
              "      <td>Tom</td>\n",
              "      <td>not used yet but looks fine</td>\n",
              "      <td>Four Stars</td>\n",
              "      <td>1504742400</td>\n",
              "      <td>NaN</td>\n",
              "      <td>NaN</td>\n",
              "      <td>NaN</td>\n",
              "      <td>1</td>\n",
              "      <td>1</td>\n",
              "    </tr>\n",
              "    <tr>\n",
              "      <th>1</th>\n",
              "      <td>11</td>\n",
              "      <td>['Sports &amp; Outdoors', 'Sports &amp; Fitness', 'Gol...</td>\n",
              "      <td>NaN</td>\n",
              "      <td>['Create an instant indoors putting green by p...</td>\n",
              "      <td>NaN</td>\n",
              "      <td>Putting Set in Case</td>\n",
              "      <td>[]</td>\n",
              "      <td>['https://images-na.ssl-images-amazon.com/imag...</td>\n",
              "      <td>NaN</td>\n",
              "      <td>Allegra</td>\n",
              "      <td>[]</td>\n",
              "      <td>5,302,408 in Sports &amp; Outdoors (</td>\n",
              "      <td>[]</td>\n",
              "      <td>Sports &amp; Outdoors</td>\n",
              "      <td>NaN</td>\n",
              "      <td>2015-06-28</td>\n",
              "      <td>NaN</td>\n",
              "      <td>0500615594</td>\n",
              "      <td>NaN</td>\n",
              "      <td>9411717</td>\n",
              "      <td>2.0</td>\n",
              "      <td>True</td>\n",
              "      <td>06 28, 2015</td>\n",
              "      <td>A1L1J5K412ZGE3</td>\n",
              "      <td>B</td>\n",
              "      <td>Bent golf stick</td>\n",
              "      <td>DR. BINO</td>\n",
              "      <td>1435449600</td>\n",
              "      <td>NaN</td>\n",
              "      <td>NaN</td>\n",
              "      <td>NaN</td>\n",
              "      <td>2</td>\n",
              "      <td>1</td>\n",
              "    </tr>\n",
              "    <tr>\n",
              "      <th>2</th>\n",
              "      <td>13</td>\n",
              "      <td>['Sports &amp; Outdoors', 'Sports &amp; Fitness', 'Exe...</td>\n",
              "      <td>NaN</td>\n",
              "      <td>[\"Apollo Challenge is the most effective and s...</td>\n",
              "      <td>NaN</td>\n",
              "      <td>Apollo Challenge : The 28-Day System To Look A...</td>\n",
              "      <td>['B0713Z5DGM', 'B01KUDOLN8', 'B01DJBCN3I', 'B0...</td>\n",
              "      <td>['https://images-na.ssl-images-amazon.com/imag...</td>\n",
              "      <td>NaN</td>\n",
              "      <td>Apollo Challenge</td>\n",
              "      <td>['Reduce Belly Fat, Increase Muscle Definition...</td>\n",
              "      <td>288,369 in Sports &amp; Outdoors (</td>\n",
              "      <td>[]</td>\n",
              "      <td>Sports &amp; Outdoors</td>\n",
              "      <td>NaN</td>\n",
              "      <td>2016-10-28</td>\n",
              "      <td>$9.97</td>\n",
              "      <td>0692747222</td>\n",
              "      <td>NaN</td>\n",
              "      <td>38</td>\n",
              "      <td>5.0</td>\n",
              "      <td>False</td>\n",
              "      <td>10 28, 2016</td>\n",
              "      <td>A2LM4ZH4P1OP4O</td>\n",
              "      <td>J Leman</td>\n",
              "      <td>Simple and Powerful! So much non-sense out the...</td>\n",
              "      <td>Simple and easy to follow - it gives actual re...</td>\n",
              "      <td>1477612800</td>\n",
              "      <td>NaN</td>\n",
              "      <td>{'Format:': ' Perfect Paperback'}</td>\n",
              "      <td>NaN</td>\n",
              "      <td>1</td>\n",
              "      <td>14</td>\n",
              "    </tr>\n",
              "    <tr>\n",
              "      <th>3</th>\n",
              "      <td>13</td>\n",
              "      <td>['Sports &amp; Outdoors', 'Sports &amp; Fitness', 'Exe...</td>\n",
              "      <td>NaN</td>\n",
              "      <td>[\"Apollo Challenge is the most effective and s...</td>\n",
              "      <td>NaN</td>\n",
              "      <td>Apollo Challenge : The 28-Day System To Look A...</td>\n",
              "      <td>['B0713Z5DGM', 'B01KUDOLN8', 'B01DJBCN3I', 'B0...</td>\n",
              "      <td>['https://images-na.ssl-images-amazon.com/imag...</td>\n",
              "      <td>NaN</td>\n",
              "      <td>Apollo Challenge</td>\n",
              "      <td>['Reduce Belly Fat, Increase Muscle Definition...</td>\n",
              "      <td>288,369 in Sports &amp; Outdoors (</td>\n",
              "      <td>[]</td>\n",
              "      <td>Sports &amp; Outdoors</td>\n",
              "      <td>NaN</td>\n",
              "      <td>2016-10-27</td>\n",
              "      <td>$9.97</td>\n",
              "      <td>0692747222</td>\n",
              "      <td>NaN</td>\n",
              "      <td>39</td>\n",
              "      <td>5.0</td>\n",
              "      <td>False</td>\n",
              "      <td>10 27, 2016</td>\n",
              "      <td>A134SACW6ZE6VP</td>\n",
              "      <td>Amazon Customer</td>\n",
              "      <td>This program is incredible.  I did this with m...</td>\n",
              "      <td>A Plan that actually work!.... If you actually...</td>\n",
              "      <td>1477526400</td>\n",
              "      <td>3</td>\n",
              "      <td>{'Format:': ' Perfect Paperback'}</td>\n",
              "      <td>NaN</td>\n",
              "      <td>1</td>\n",
              "      <td>14</td>\n",
              "    </tr>\n",
              "    <tr>\n",
              "      <th>4</th>\n",
              "      <td>13</td>\n",
              "      <td>['Sports &amp; Outdoors', 'Sports &amp; Fitness', 'Exe...</td>\n",
              "      <td>NaN</td>\n",
              "      <td>[\"Apollo Challenge is the most effective and s...</td>\n",
              "      <td>NaN</td>\n",
              "      <td>Apollo Challenge : The 28-Day System To Look A...</td>\n",
              "      <td>['B0713Z5DGM', 'B01KUDOLN8', 'B01DJBCN3I', 'B0...</td>\n",
              "      <td>['https://images-na.ssl-images-amazon.com/imag...</td>\n",
              "      <td>NaN</td>\n",
              "      <td>Apollo Challenge</td>\n",
              "      <td>['Reduce Belly Fat, Increase Muscle Definition...</td>\n",
              "      <td>288,369 in Sports &amp; Outdoors (</td>\n",
              "      <td>[]</td>\n",
              "      <td>Sports &amp; Outdoors</td>\n",
              "      <td>NaN</td>\n",
              "      <td>2016-10-27</td>\n",
              "      <td>$9.97</td>\n",
              "      <td>0692747222</td>\n",
              "      <td>NaN</td>\n",
              "      <td>40</td>\n",
              "      <td>5.0</td>\n",
              "      <td>False</td>\n",
              "      <td>10 27, 2016</td>\n",
              "      <td>A39748BK5G8W5S</td>\n",
              "      <td>Brett</td>\n",
              "      <td>The Apollo Challange is what you've been looki...</td>\n",
              "      <td>The Apollo Challenge just plain works...</td>\n",
              "      <td>1477526400</td>\n",
              "      <td>2</td>\n",
              "      <td>{'Format:': ' Perfect Paperback'}</td>\n",
              "      <td>NaN</td>\n",
              "      <td>1</td>\n",
              "      <td>14</td>\n",
              "    </tr>\n",
              "  </tbody>\n",
              "</table>\n",
              "</div>"
            ],
            "text/plain": [
              "   Unnamed: 0_x  ... Total_review_P\n",
              "0             6  ...              1\n",
              "1            11  ...              1\n",
              "2            13  ...             14\n",
              "3            13  ...             14\n",
              "4            13  ...             14\n",
              "\n",
              "[5 rows x 33 columns]"
            ]
          },
          "metadata": {
            "tags": []
          },
          "execution_count": 25
        }
      ]
    },
    {
      "cell_type": "code",
      "metadata": {
        "id": "p7Ft-ANzqfZN",
        "colab_type": "code",
        "colab": {}
      },
      "source": [
        "df_all_date = df_all_15[(df_all_15['date']> '2010-1-1')]"
      ],
      "execution_count": 26,
      "outputs": []
    },
    {
      "cell_type": "code",
      "metadata": {
        "id": "b73rbbO_GQ70",
        "colab_type": "code",
        "colab": {
          "base_uri": "https://localhost:8080/",
          "height": 34
        },
        "outputId": "b1747d0e-0edb-4c9a-960f-bb45ba0dfdbd"
      },
      "source": [
        "df_all_date.shape"
      ],
      "execution_count": 27,
      "outputs": [
        {
          "output_type": "execute_result",
          "data": {
            "text/plain": [
              "(7958054, 33)"
            ]
          },
          "metadata": {
            "tags": []
          },
          "execution_count": 27
        }
      ]
    },
    {
      "cell_type": "code",
      "metadata": {
        "id": "3f-JYhcaaFby",
        "colab_type": "code",
        "colab": {
          "base_uri": "https://localhost:8080/",
          "height": 293
        },
        "outputId": "e34f1cba-2d2b-4a34-d33d-1b92e27df66d"
      },
      "source": [
        "df_all_date.Total_review_C.hist(bins=15)"
      ],
      "execution_count": 30,
      "outputs": [
        {
          "output_type": "execute_result",
          "data": {
            "text/plain": [
              "<matplotlib.axes._subplots.AxesSubplot at 0x7f8be608c5f8>"
            ]
          },
          "metadata": {
            "tags": []
          },
          "execution_count": 30
        },
        {
          "output_type": "display_data",
          "data": {
            "image/png": "[encoded data removed]",
            "text/plain": [
              "<Figure size 432x288 with 1 Axes>"
            ]
          },
          "metadata": {
            "tags": [],
            "needs_background": "light"
          }
        }
      ]
    },
    {
      "cell_type": "code",
      "metadata": {
        "id": "_hFA0tM9LAgw",
        "colab_type": "code",
        "colab": {
          "base_uri": "https://localhost:8080/",
          "height": 293
        },
        "outputId": "1b66ba54-573d-4fcf-c790-54cdb479fd62"
      },
      "source": [
        "df_all_date.Total_review_P.hist()"
      ],
      "execution_count": 31,
      "outputs": [
        {
          "output_type": "execute_result",
          "data": {
            "text/plain": [
              "<matplotlib.axes._subplots.AxesSubplot at 0x7f8be608cf60>"
            ]
          },
          "metadata": {
            "tags": []
          },
          "execution_count": 31
        },
        {
          "output_type": "display_data",
          "data": {
            "image/png": "[encoded data removed]",
            "text/plain": [
              "<Figure size 432x288 with 1 Axes>"
            ]
          },
          "metadata": {
            "tags": [],
            "needs_background": "light"
          }
        }
      ]
    },
    {
      "cell_type": "code",
      "metadata": {
        "id": "7UMIxUnBZUH4",
        "colab_type": "code",
        "colab": {
          "base_uri": "https://localhost:8080/",
          "height": 85
        },
        "outputId": "9b286d0b-4075-4f3e-c3d8-7e6db08b3c5d"
      },
      "source": [
        "print(\"25% of total number of products\")\n",
        "print(df_all_date.Total_review_P.quantile(q=.75))\n",
        "\n",
        "print(\"25% of total number of customers\")\n",
        "print(df_all_date.Total_review_C.quantile(q=.75))"
      ],
      "execution_count": 32,
      "outputs": [
        {
          "output_type": "stream",
          "text": [
            "25% of total number of products\n",
            "628.0\n",
            "25% of total number of customers\n",
            "4.0\n"
          ],
          "name": "stdout"
        }
      ]
    },
    {
      "cell_type": "code",
      "metadata": {
        "id": "P-0vdwV1eCcV",
        "colab_type": "code",
        "colab": {}
      },
      "source": [
        "df_all_re1 = df_all_date[(df_all_date['Total_review_P']>200)]"
      ],
      "execution_count": 33,
      "outputs": []
    },
    {
      "cell_type": "code",
      "metadata": {
        "id": "WDc9Os0keDtO",
        "colab_type": "code",
        "colab": {
          "base_uri": "https://localhost:8080/",
          "height": 34
        },
        "outputId": "b11b872a-b63e-43f0-f012-6edbb54d6f54"
      },
      "source": [
        "df_all_re1.shape"
      ],
      "execution_count": 34,
      "outputs": [
        {
          "output_type": "execute_result",
          "data": {
            "text/plain": [
              "(3837656, 33)"
            ]
          },
          "metadata": {
            "tags": []
          },
          "execution_count": 34
        }
      ]
    },
    {
      "cell_type": "code",
      "metadata": {
        "id": "glNHbD4sWxsI",
        "colab_type": "code",
        "colab": {}
      },
      "source": [
        "df_all_re2 = df_all_re1[(df_all_re1['Total_review_C']>12)]"
      ],
      "execution_count": 35,
      "outputs": []
    },
    {
      "cell_type": "code",
      "metadata": {
        "id": "Maxc8yRkW4mv",
        "colab_type": "code",
        "colab": {
          "base_uri": "https://localhost:8080/",
          "height": 34
        },
        "outputId": "dceab402-d9c4-4ee7-a036-85fde85f188a"
      },
      "source": [
        "df_all_re2.shape"
      ],
      "execution_count": 36,
      "outputs": [
        {
          "output_type": "execute_result",
          "data": {
            "text/plain": [
              "(228658, 33)"
            ]
          },
          "metadata": {
            "tags": []
          },
          "execution_count": 36
        }
      ]
    },
    {
      "cell_type": "code",
      "metadata": {
        "id": "3S-xaxqHhvPJ",
        "colab_type": "code",
        "colab": {
          "base_uri": "https://localhost:8080/",
          "height": 202
        },
        "outputId": "f15fb1ab-24f0-4344-a764-42da71a5f1fb"
      },
      "source": [
        "df_all_re2.head(1)"
      ],
      "execution_count": 37,
      "outputs": [
        {
          "output_type": "execute_result",
          "data": {
            "text/html": [
              "<div>\n",
              "<style scoped>\n",
              "    .dataframe tbody tr th:only-of-type {\n",
              "        vertical-align: middle;\n",
              "    }\n",
              "\n",
              "    .dataframe tbody tr th {\n",
              "        vertical-align: top;\n",
              "    }\n",
              "\n",
              "    .dataframe thead th {\n",
              "        text-align: right;\n",
              "    }\n",
              "</style>\n",
              "<table border=\"1\" class=\"dataframe\">\n",
              "  <thead>\n",
              "    <tr style=\"text-align: right;\">\n",
              "      <th></th>\n",
              "      <th>Unnamed: 0_x</th>\n",
              "      <th>category</th>\n",
              "      <th>tech1</th>\n",
              "      <th>description</th>\n",
              "      <th>fit</th>\n",
              "      <th>title</th>\n",
              "      <th>also_buy</th>\n",
              "      <th>image_x</th>\n",
              "      <th>tech2</th>\n",
              "      <th>brand</th>\n",
              "      <th>feature</th>\n",
              "      <th>rank</th>\n",
              "      <th>also_view</th>\n",
              "      <th>main_cat</th>\n",
              "      <th>similar_item</th>\n",
              "      <th>date</th>\n",
              "      <th>price</th>\n",
              "      <th>asin</th>\n",
              "      <th>details</th>\n",
              "      <th>Unnamed: 0_y</th>\n",
              "      <th>overall</th>\n",
              "      <th>verified</th>\n",
              "      <th>reviewTime</th>\n",
              "      <th>reviewerID</th>\n",
              "      <th>reviewerName</th>\n",
              "      <th>reviewText</th>\n",
              "      <th>summary</th>\n",
              "      <th>unixReviewTime</th>\n",
              "      <th>vote</th>\n",
              "      <th>style</th>\n",
              "      <th>image_y</th>\n",
              "      <th>Total_review_C</th>\n",
              "      <th>Total_review_P</th>\n",
              "    </tr>\n",
              "  </thead>\n",
              "  <tbody>\n",
              "    <tr>\n",
              "      <th>772</th>\n",
              "      <td>146</td>\n",
              "      <td>['Sports &amp; Outdoors', 'Sports &amp; Fitness', 'Exe...</td>\n",
              "      <td>NaN</td>\n",
              "      <td>[\"Black Mountain Products (B.M.P.) resistance ...</td>\n",
              "      <td>NaN</td>\n",
              "      <td>Black Mountain Products Resistance Band Set wi...</td>\n",
              "      <td>['1612431712', 'B01AVDVHTI', 'B002YQUP7Q', 'B0...</td>\n",
              "      <td>['https://images-na.ssl-images-amazon.com/imag...</td>\n",
              "      <td>NaN</td>\n",
              "      <td>Black Mountain</td>\n",
              "      <td>['Bands included: Yellow (2-4 lbs.), blue (4-6...</td>\n",
              "      <td>303 in Sports &amp; Outdoors (</td>\n",
              "      <td>[]</td>\n",
              "      <td>Sports &amp; Outdoors</td>\n",
              "      <td>class=\"a-bordered a-horizontal-stripes  a-spa...</td>\n",
              "      <td>2018-03-18</td>\n",
              "      <td>$17.32</td>\n",
              "      <td>7245456313</td>\n",
              "      <td>{}</td>\n",
              "      <td>1405</td>\n",
              "      <td>5.0</td>\n",
              "      <td>True</td>\n",
              "      <td>03 18, 2018</td>\n",
              "      <td>A1J5VYG8O0YEMB</td>\n",
              "      <td>KellyV_Ark</td>\n",
              "      <td>Works as Advertised!</td>\n",
              "      <td>Works as Advertised!</td>\n",
              "      <td>1521331200</td>\n",
              "      <td>NaN</td>\n",
              "      <td>NaN</td>\n",
              "      <td>NaN</td>\n",
              "      <td>14</td>\n",
              "      <td>6695</td>\n",
              "    </tr>\n",
              "  </tbody>\n",
              "</table>\n",
              "</div>"
            ],
            "text/plain": [
              "     Unnamed: 0_x  ... Total_review_P\n",
              "772           146  ...           6695\n",
              "\n",
              "[1 rows x 33 columns]"
            ]
          },
          "metadata": {
            "tags": []
          },
          "execution_count": 37
        }
      ]
    },
    {
      "cell_type": "code",
      "metadata": {
        "id": "-e3g-kn1h29o",
        "colab_type": "code",
        "colab": {
          "base_uri": "https://localhost:8080/",
          "height": 102
        },
        "outputId": "e4975534-8015-44c6-c585-37c8e8413f72"
      },
      "source": [
        "df_all_re2.drop(['Unnamed: 0_x','category','tech1','tech2','rank','also_view','main_cat','similar_item',\"date\",\"Unnamed: 0_y\",\"reviewerName\",\"unixReviewTime\"],axis = 1,inplace=True)"
      ],
      "execution_count": 40,
      "outputs": [
        {
          "output_type": "stream",
          "text": [
            "/usr/local/lib/python3.6/dist-packages/pandas/core/frame.py:3997: SettingWithCopyWarning: \n",
            "A value is trying to be set on a copy of a slice from a DataFrame\n",
            "\n",
            "See the caveats in the documentation: https://pandas.pydata.org/pandas-docs/stable/user_guide/indexing.html#returning-a-view-versus-a-copy\n",
            "  errors=errors,\n"
          ],
          "name": "stderr"
        }
      ]
    },
    {
      "cell_type": "code",
      "metadata": {
        "id": "SO0WWc8Gl5eg",
        "colab_type": "code",
        "colab": {
          "base_uri": "https://localhost:8080/",
          "height": 1000
        },
        "outputId": "1a45c809-a125-46d8-e3d1-e0158217a264"
      },
      "source": [
        "df_all_re2"
      ],
      "execution_count": 41,
      "outputs": [
        {
          "output_type": "execute_result",
          "data": {
            "text/html": [
              "<div>\n",
              "<style scoped>\n",
              "    .dataframe tbody tr th:only-of-type {\n",
              "        vertical-align: middle;\n",
              "    }\n",
              "\n",
              "    .dataframe tbody tr th {\n",
              "        vertical-align: top;\n",
              "    }\n",
              "\n",
              "    .dataframe thead th {\n",
              "        text-align: right;\n",
              "    }\n",
              "</style>\n",
              "<table border=\"1\" class=\"dataframe\">\n",
              "  <thead>\n",
              "    <tr style=\"text-align: right;\">\n",
              "      <th></th>\n",
              "      <th>description</th>\n",
              "      <th>fit</th>\n",
              "      <th>title</th>\n",
              "      <th>also_buy</th>\n",
              "      <th>image_x</th>\n",
              "      <th>brand</th>\n",
              "      <th>feature</th>\n",
              "      <th>price</th>\n",
              "      <th>asin</th>\n",
              "      <th>details</th>\n",
              "      <th>overall</th>\n",
              "      <th>verified</th>\n",
              "      <th>reviewTime</th>\n",
              "      <th>reviewerID</th>\n",
              "      <th>reviewText</th>\n",
              "      <th>summary</th>\n",
              "      <th>vote</th>\n",
              "      <th>style</th>\n",
              "      <th>image_y</th>\n",
              "      <th>Total_review_C</th>\n",
              "      <th>Total_review_P</th>\n",
              "    </tr>\n",
              "  </thead>\n",
              "  <tbody>\n",
              "    <tr>\n",
              "      <th>772</th>\n",
              "      <td>[\"Black Mountain Products (B.M.P.) resistance ...</td>\n",
              "      <td>NaN</td>\n",
              "      <td>Black Mountain Products Resistance Band Set wi...</td>\n",
              "      <td>['1612431712', 'B01AVDVHTI', 'B002YQUP7Q', 'B0...</td>\n",
              "      <td>['https://images-na.ssl-images-amazon.com/imag...</td>\n",
              "      <td>Black Mountain</td>\n",
              "      <td>['Bands included: Yellow (2-4 lbs.), blue (4-6...</td>\n",
              "      <td>$17.32</td>\n",
              "      <td>7245456313</td>\n",
              "      <td>{}</td>\n",
              "      <td>5.0</td>\n",
              "      <td>True</td>\n",
              "      <td>03 18, 2018</td>\n",
              "      <td>A1J5VYG8O0YEMB</td>\n",
              "      <td>Works as Advertised!</td>\n",
              "      <td>Works as Advertised!</td>\n",
              "      <td>NaN</td>\n",
              "      <td>NaN</td>\n",
              "      <td>NaN</td>\n",
              "      <td>14</td>\n",
              "      <td>6695</td>\n",
              "    </tr>\n",
              "    <tr>\n",
              "      <th>825</th>\n",
              "      <td>[\"Black Mountain Products (B.M.P.) resistance ...</td>\n",
              "      <td>NaN</td>\n",
              "      <td>Black Mountain Products Resistance Band Set wi...</td>\n",
              "      <td>['1612431712', 'B01AVDVHTI', 'B002YQUP7Q', 'B0...</td>\n",
              "      <td>['https://images-na.ssl-images-amazon.com/imag...</td>\n",
              "      <td>Black Mountain</td>\n",
              "      <td>['Bands included: Yellow (2-4 lbs.), blue (4-6...</td>\n",
              "      <td>$17.32</td>\n",
              "      <td>7245456313</td>\n",
              "      <td>{}</td>\n",
              "      <td>4.0</td>\n",
              "      <td>True</td>\n",
              "      <td>02 19, 2018</td>\n",
              "      <td>AYMDRRCOPKTCF</td>\n",
              "      <td>product arrived prompt and as described</td>\n",
              "      <td>Four Stars</td>\n",
              "      <td>NaN</td>\n",
              "      <td>NaN</td>\n",
              "      <td>NaN</td>\n",
              "      <td>22</td>\n",
              "      <td>6695</td>\n",
              "    </tr>\n",
              "    <tr>\n",
              "      <th>836</th>\n",
              "      <td>[\"Black Mountain Products (B.M.P.) resistance ...</td>\n",
              "      <td>NaN</td>\n",
              "      <td>Black Mountain Products Resistance Band Set wi...</td>\n",
              "      <td>['1612431712', 'B01AVDVHTI', 'B002YQUP7Q', 'B0...</td>\n",
              "      <td>['https://images-na.ssl-images-amazon.com/imag...</td>\n",
              "      <td>Black Mountain</td>\n",
              "      <td>['Bands included: Yellow (2-4 lbs.), blue (4-6...</td>\n",
              "      <td>$17.32</td>\n",
              "      <td>7245456313</td>\n",
              "      <td>{}</td>\n",
              "      <td>4.0</td>\n",
              "      <td>True</td>\n",
              "      <td>02 16, 2018</td>\n",
              "      <td>A3AX86YSUHLELL</td>\n",
              "      <td>Okay.  So I have had these resistance bands fo...</td>\n",
              "      <td>Great resistance bands and top quality.</td>\n",
              "      <td>NaN</td>\n",
              "      <td>NaN</td>\n",
              "      <td>NaN</td>\n",
              "      <td>14</td>\n",
              "      <td>6695</td>\n",
              "    </tr>\n",
              "    <tr>\n",
              "      <th>916</th>\n",
              "      <td>[\"Black Mountain Products (B.M.P.) resistance ...</td>\n",
              "      <td>NaN</td>\n",
              "      <td>Black Mountain Products Resistance Band Set wi...</td>\n",
              "      <td>['1612431712', 'B01AVDVHTI', 'B002YQUP7Q', 'B0...</td>\n",
              "      <td>['https://images-na.ssl-images-amazon.com/imag...</td>\n",
              "      <td>Black Mountain</td>\n",
              "      <td>['Bands included: Yellow (2-4 lbs.), blue (4-6...</td>\n",
              "      <td>$17.32</td>\n",
              "      <td>7245456313</td>\n",
              "      <td>{}</td>\n",
              "      <td>5.0</td>\n",
              "      <td>False</td>\n",
              "      <td>01 12, 2018</td>\n",
              "      <td>A12MJJT1RL2S7K</td>\n",
              "      <td>These bands have been perfect for my Cross fit...</td>\n",
              "      <td>Perfect transportable resistance</td>\n",
              "      <td>NaN</td>\n",
              "      <td>NaN</td>\n",
              "      <td>NaN</td>\n",
              "      <td>13</td>\n",
              "      <td>6695</td>\n",
              "    </tr>\n",
              "    <tr>\n",
              "      <th>990</th>\n",
              "      <td>[\"Black Mountain Products (B.M.P.) resistance ...</td>\n",
              "      <td>NaN</td>\n",
              "      <td>Black Mountain Products Resistance Band Set wi...</td>\n",
              "      <td>['1612431712', 'B01AVDVHTI', 'B002YQUP7Q', 'B0...</td>\n",
              "      <td>['https://images-na.ssl-images-amazon.com/imag...</td>\n",
              "      <td>Black Mountain</td>\n",
              "      <td>['Bands included: Yellow (2-4 lbs.), blue (4-6...</td>\n",
              "      <td>$17.32</td>\n",
              "      <td>7245456313</td>\n",
              "      <td>{}</td>\n",
              "      <td>5.0</td>\n",
              "      <td>True</td>\n",
              "      <td>11 14, 2017</td>\n",
              "      <td>A33BKACRGR3H38</td>\n",
              "      <td>Great bands for my cross-training. I don't lik...</td>\n",
              "      <td>Awesome</td>\n",
              "      <td>NaN</td>\n",
              "      <td>NaN</td>\n",
              "      <td>NaN</td>\n",
              "      <td>19</td>\n",
              "      <td>6695</td>\n",
              "    </tr>\n",
              "    <tr>\n",
              "      <th>...</th>\n",
              "      <td>...</td>\n",
              "      <td>...</td>\n",
              "      <td>...</td>\n",
              "      <td>...</td>\n",
              "      <td>...</td>\n",
              "      <td>...</td>\n",
              "      <td>...</td>\n",
              "      <td>...</td>\n",
              "      <td>...</td>\n",
              "      <td>...</td>\n",
              "      <td>...</td>\n",
              "      <td>...</td>\n",
              "      <td>...</td>\n",
              "      <td>...</td>\n",
              "      <td>...</td>\n",
              "      <td>...</td>\n",
              "      <td>...</td>\n",
              "      <td>...</td>\n",
              "      <td>...</td>\n",
              "      <td>...</td>\n",
              "      <td>...</td>\n",
              "    </tr>\n",
              "    <tr>\n",
              "      <th>9673839</th>\n",
              "      <td>[]</td>\n",
              "      <td>NaN</td>\n",
              "      <td>Gas ONE GS-3000 Portable Gas Stove with Carryi...</td>\n",
              "      <td>['B000JORB2M', 'B001D7FYCI', 'B00JT8ZYCS', 'B0...</td>\n",
              "      <td>['https://images-na.ssl-images-amazon.com/imag...</td>\n",
              "      <td>GasOne</td>\n",
              "      <td>['Comes with Gas One fold-able 10 plate Windsc...</td>\n",
              "      <td>$5.12</td>\n",
              "      <td>B01HHB2HK0</td>\n",
              "      <td>{'\\n    Product Dimensions: \\n    ': '13.5 x 1...</td>\n",
              "      <td>5.0</td>\n",
              "      <td>True</td>\n",
              "      <td>04 1, 2013</td>\n",
              "      <td>A1RL3SGTCTKOVA</td>\n",
              "      <td>I got mine because the price was only $7 at th...</td>\n",
              "      <td>Great stove</td>\n",
              "      <td>NaN</td>\n",
              "      <td>NaN</td>\n",
              "      <td>NaN</td>\n",
              "      <td>13</td>\n",
              "      <td>442</td>\n",
              "    </tr>\n",
              "    <tr>\n",
              "      <th>9673850</th>\n",
              "      <td>[]</td>\n",
              "      <td>NaN</td>\n",
              "      <td>Gas ONE GS-3000 Portable Gas Stove with Carryi...</td>\n",
              "      <td>['B000JORB2M', 'B001D7FYCI', 'B00JT8ZYCS', 'B0...</td>\n",
              "      <td>['https://images-na.ssl-images-amazon.com/imag...</td>\n",
              "      <td>GasOne</td>\n",
              "      <td>['Comes with Gas One fold-able 10 plate Windsc...</td>\n",
              "      <td>$5.12</td>\n",
              "      <td>B01HHB2HK0</td>\n",
              "      <td>{'\\n    Product Dimensions: \\n    ': '13.5 x 1...</td>\n",
              "      <td>5.0</td>\n",
              "      <td>True</td>\n",
              "      <td>12 26, 2012</td>\n",
              "      <td>A1AZ1NXGGP6LDX</td>\n",
              "      <td>Sturdy. Use this as an extra burner for partie...</td>\n",
              "      <td>Great for emergencies</td>\n",
              "      <td>NaN</td>\n",
              "      <td>NaN</td>\n",
              "      <td>NaN</td>\n",
              "      <td>20</td>\n",
              "      <td>442</td>\n",
              "    </tr>\n",
              "    <tr>\n",
              "      <th>9673852</th>\n",
              "      <td>[]</td>\n",
              "      <td>NaN</td>\n",
              "      <td>Gas ONE GS-3000 Portable Gas Stove with Carryi...</td>\n",
              "      <td>['B000JORB2M', 'B001D7FYCI', 'B00JT8ZYCS', 'B0...</td>\n",
              "      <td>['https://images-na.ssl-images-amazon.com/imag...</td>\n",
              "      <td>GasOne</td>\n",
              "      <td>['Comes with Gas One fold-able 10 plate Windsc...</td>\n",
              "      <td>$5.12</td>\n",
              "      <td>B01HHB2HK0</td>\n",
              "      <td>{'\\n    Product Dimensions: \\n    ': '13.5 x 1...</td>\n",
              "      <td>5.0</td>\n",
              "      <td>True</td>\n",
              "      <td>10 31, 2012</td>\n",
              "      <td>A1S08PNPO3HXA5</td>\n",
              "      <td>This stove actually works much better than I e...</td>\n",
              "      <td>Good solid heat with cheap fuel, for a very go...</td>\n",
              "      <td>6</td>\n",
              "      <td>NaN</td>\n",
              "      <td>NaN</td>\n",
              "      <td>23</td>\n",
              "      <td>442</td>\n",
              "    </tr>\n",
              "    <tr>\n",
              "      <th>9673880</th>\n",
              "      <td>[]</td>\n",
              "      <td>NaN</td>\n",
              "      <td>Gas ONE GS-3000 Portable Gas Stove with Carryi...</td>\n",
              "      <td>['B000JORB2M', 'B001D7FYCI', 'B00JT8ZYCS', 'B0...</td>\n",
              "      <td>['https://images-na.ssl-images-amazon.com/imag...</td>\n",
              "      <td>GasOne</td>\n",
              "      <td>['Comes with Gas One fold-able 10 plate Windsc...</td>\n",
              "      <td>$5.12</td>\n",
              "      <td>B01HHB2HK0</td>\n",
              "      <td>{'\\n    Product Dimensions: \\n    ': '13.5 x 1...</td>\n",
              "      <td>5.0</td>\n",
              "      <td>True</td>\n",
              "      <td>06 16, 2011</td>\n",
              "      <td>A2WVF9ZQ068DN0</td>\n",
              "      <td>Of all the portable cookstoves I have owned ov...</td>\n",
              "      <td>Outstanding and convenient</td>\n",
              "      <td>28</td>\n",
              "      <td>NaN</td>\n",
              "      <td>NaN</td>\n",
              "      <td>25</td>\n",
              "      <td>442</td>\n",
              "    </tr>\n",
              "    <tr>\n",
              "      <th>9673889</th>\n",
              "      <td>[]</td>\n",
              "      <td>NaN</td>\n",
              "      <td>Gas ONE GS-3000 Portable Gas Stove with Carryi...</td>\n",
              "      <td>['B000JORB2M', 'B001D7FYCI', 'B00JT8ZYCS', 'B0...</td>\n",
              "      <td>['https://images-na.ssl-images-amazon.com/imag...</td>\n",
              "      <td>GasOne</td>\n",
              "      <td>['Comes with Gas One fold-able 10 plate Windsc...</td>\n",
              "      <td>$5.12</td>\n",
              "      <td>B01HHB2HK0</td>\n",
              "      <td>{'\\n    Product Dimensions: \\n    ': '13.5 x 1...</td>\n",
              "      <td>5.0</td>\n",
              "      <td>True</td>\n",
              "      <td>02 5, 2011</td>\n",
              "      <td>A3OXHLG6DIBRW8</td>\n",
              "      <td>This GasOne \"Portable Gas Stove\" works far bet...</td>\n",
              "      <td>Great Portable Stove - Highly Recommended!</td>\n",
              "      <td>106</td>\n",
              "      <td>NaN</td>\n",
              "      <td>['https://images-na.ssl-images-amazon.com/imag...</td>\n",
              "      <td>231</td>\n",
              "      <td>442</td>\n",
              "    </tr>\n",
              "  </tbody>\n",
              "</table>\n",
              "<p>228658 rows × 21 columns</p>\n",
              "</div>"
            ],
            "text/plain": [
              "                                               description  ... Total_review_P\n",
              "772      [\"Black Mountain Products (B.M.P.) resistance ...  ...           6695\n",
              "825      [\"Black Mountain Products (B.M.P.) resistance ...  ...           6695\n",
              "836      [\"Black Mountain Products (B.M.P.) resistance ...  ...           6695\n",
              "916      [\"Black Mountain Products (B.M.P.) resistance ...  ...           6695\n",
              "990      [\"Black Mountain Products (B.M.P.) resistance ...  ...           6695\n",
              "...                                                    ...  ...            ...\n",
              "9673839                                                 []  ...            442\n",
              "9673850                                                 []  ...            442\n",
              "9673852                                                 []  ...            442\n",
              "9673880                                                 []  ...            442\n",
              "9673889                                                 []  ...            442\n",
              "\n",
              "[228658 rows x 21 columns]"
            ]
          },
          "metadata": {
            "tags": []
          },
          "execution_count": 41
        }
      ]
    },
    {
      "cell_type": "code",
      "metadata": {
        "id": "y9PIR2MleDkn",
        "colab_type": "code",
        "colab": {}
      },
      "source": [
        "df_item_100 = df_all_re2.groupby('asin').agg(Total_review_P=('overall', 'count')).reset_index()"
      ],
      "execution_count": 42,
      "outputs": []
    },
    {
      "cell_type": "code",
      "metadata": {
        "id": "2IdYsBuJgHVd",
        "colab_type": "code",
        "colab": {
          "base_uri": "https://localhost:8080/",
          "height": 34
        },
        "outputId": "76d46f2e-0e6f-433a-8ea3-c61656cbbb72"
      },
      "source": [
        "print(f'number of products: {df_item_100.shape[0]}')"
      ],
      "execution_count": 43,
      "outputs": [
        {
          "output_type": "stream",
          "text": [
            "number of products: 7154\n"
          ],
          "name": "stdout"
        }
      ]
    },
    {
      "cell_type": "code",
      "metadata": {
        "id": "D6ODbL8KeDSG",
        "colab_type": "code",
        "colab": {}
      },
      "source": [
        "df_review_100 = df_all_re2.groupby('reviewerID').agg(Total_review_C=('overall', 'count')).reset_index()"
      ],
      "execution_count": 44,
      "outputs": []
    },
    {
      "cell_type": "code",
      "metadata": {
        "id": "1_mfZV80eC-Y",
        "colab_type": "code",
        "colab": {
          "base_uri": "https://localhost:8080/",
          "height": 34
        },
        "outputId": "36b16ea1-36bf-4c43-dda4-f98a30a42818"
      },
      "source": [
        "print(f'number of unique reviewers: {df_review_100.shape[0]}')"
      ],
      "execution_count": 45,
      "outputs": [
        {
          "output_type": "stream",
          "text": [
            "number of unique reviewers: 29426\n"
          ],
          "name": "stdout"
        }
      ]
    },
    {
      "cell_type": "code",
      "metadata": {
        "id": "Mz4bamz0eCfc",
        "colab_type": "code",
        "colab": {}
      },
      "source": [
        "print(f'Density: {df_all_re2.shape[0]/(df_item_100.shape[0]*df_review_100.shape[0]) * 100}')"
      ],
      "execution_count": null,
      "outputs": []
    },
    {
      "cell_type": "code",
      "metadata": {
        "id": "NlhBtY0ujN8T",
        "colab_type": "code",
        "colab": {}
      },
      "source": [
        "df_all.to_csv('/content/drive/My Drive/Datasets/df_all.csv')"
      ],
      "execution_count": null,
      "outputs": []
    },
    {
      "cell_type": "code",
      "metadata": {
        "id": "-Way9H9ZiwDt",
        "colab_type": "code",
        "colab": {}
      },
      "source": [
        "df_all_re2.to_csv('/content/drive/My Drive/Datasets/df_all_15.csv')"
      ],
      "execution_count": 47,
      "outputs": []
    },
    {
      "cell_type": "markdown",
      "metadata": {
        "id": "nO4aovH0p63u",
        "colab_type": "text"
      },
      "source": [
        "## Reload dataset to erase the RAM"
      ]
    },
    {
      "cell_type": "code",
      "metadata": {
        "id": "Ri680FKup5zt",
        "colab_type": "code",
        "colab": {
          "base_uri": "https://localhost:8080/",
          "height": 71
        },
        "outputId": "1649181d-4537-46ab-f721-17d9c92201ba"
      },
      "source": [
        "df_all_15 = pd.read_csv(\"/content/drive/My Drive/Datasets/df_all_15.csv\")"
      ],
      "execution_count": null,
      "outputs": [
        {
          "output_type": "stream",
          "text": [
            "/usr/local/lib/python3.6/dist-packages/IPython/core/interactiveshell.py:2718: DtypeWarning: Columns (9,29) have mixed types.Specify dtype option on import or set low_memory=False.\n",
            "  interactivity=interactivity, compiler=compiler, result=result)\n"
          ],
          "name": "stderr"
        }
      ]
    },
    {
      "cell_type": "code",
      "metadata": {
        "id": "tsZKvoQ7sLTQ",
        "colab_type": "code",
        "colab": {}
      },
      "source": [
        "df_all_15.drop(['Unnamed: 0','tech1', 'tech2','Unnamed: 0_x','fit','similar_item','date','details','Unnamed: 0_y','reviewTime','vote','image_y'], axis=1,inplace=True)"
      ],
      "execution_count": null,
      "outputs": []
    },
    {
      "cell_type": "code",
      "metadata": {
        "id": "WmrPmL2VwhqR",
        "colab_type": "code",
        "colab": {
          "base_uri": "https://localhost:8080/",
          "height": 301
        },
        "outputId": "4241b4a6-ebaa-4b15-b390-765b84bf0fb9"
      },
      "source": [
        "df_all_15.head(2)"
      ],
      "execution_count": null,
      "outputs": [
        {
          "output_type": "execute_result",
          "data": {
            "text/html": [
              "<div>\n",
              "<style scoped>\n",
              "    .dataframe tbody tr th:only-of-type {\n",
              "        vertical-align: middle;\n",
              "    }\n",
              "\n",
              "    .dataframe tbody tr th {\n",
              "        vertical-align: top;\n",
              "    }\n",
              "\n",
              "    .dataframe thead th {\n",
              "        text-align: right;\n",
              "    }\n",
              "</style>\n",
              "<table border=\"1\" class=\"dataframe\">\n",
              "  <thead>\n",
              "    <tr style=\"text-align: right;\">\n",
              "      <th></th>\n",
              "      <th>category</th>\n",
              "      <th>description</th>\n",
              "      <th>title</th>\n",
              "      <th>also_buy</th>\n",
              "      <th>image_x</th>\n",
              "      <th>brand</th>\n",
              "      <th>feature</th>\n",
              "      <th>rank</th>\n",
              "      <th>also_view</th>\n",
              "      <th>main_cat</th>\n",
              "      <th>price</th>\n",
              "      <th>asin</th>\n",
              "      <th>overall</th>\n",
              "      <th>verified</th>\n",
              "      <th>reviewerID</th>\n",
              "      <th>reviewerName</th>\n",
              "      <th>reviewText</th>\n",
              "      <th>summary</th>\n",
              "      <th>unixReviewTime</th>\n",
              "      <th>style</th>\n",
              "      <th>Total_review_C</th>\n",
              "      <th>Total_review_P</th>\n",
              "    </tr>\n",
              "  </thead>\n",
              "  <tbody>\n",
              "    <tr>\n",
              "      <th>0</th>\n",
              "      <td>['Sports &amp; Outdoors', 'Outdoor Recreation', 'C...</td>\n",
              "      <td>['Find your way through New York while hitting...</td>\n",
              "      <td>Delorme New York State Atlas &amp;amp; Gazetteer</td>\n",
              "      <td>['0899334415', '0899334431', '0899333419', '08...</td>\n",
              "      <td>['https://images-na.ssl-images-amazon.com/imag...</td>\n",
              "      <td>Garmin</td>\n",
              "      <td>['Amazingly detailed and beautifully crafted, ...</td>\n",
              "      <td>121,074 in Office Products (</td>\n",
              "      <td>['0528881922', '1569145792', '0899334431', '08...</td>\n",
              "      <td>Office Products</td>\n",
              "      <td>$19.95</td>\n",
              "      <td>0899332757</td>\n",
              "      <td>5.0</td>\n",
              "      <td>False</td>\n",
              "      <td>A1LACH6MLQWZ</td>\n",
              "      <td>Doug Erlandson</td>\n",
              "      <td>If you're interested in exploring any area of ...</td>\n",
              "      <td>Great for exploring the rural parts of the state</td>\n",
              "      <td>1470009600</td>\n",
              "      <td>{'Format:': ' Paperback'}</td>\n",
              "      <td>23</td>\n",
              "      <td>94</td>\n",
              "    </tr>\n",
              "    <tr>\n",
              "      <th>1</th>\n",
              "      <td>['Sports &amp; Outdoors', 'Outdoor Recreation', 'C...</td>\n",
              "      <td>['Find your way through New York while hitting...</td>\n",
              "      <td>Delorme New York State Atlas &amp;amp; Gazetteer</td>\n",
              "      <td>['0899334415', '0899334431', '0899333419', '08...</td>\n",
              "      <td>['https://images-na.ssl-images-amazon.com/imag...</td>\n",
              "      <td>Garmin</td>\n",
              "      <td>['Amazingly detailed and beautifully crafted, ...</td>\n",
              "      <td>121,074 in Office Products (</td>\n",
              "      <td>['0528881922', '1569145792', '0899334431', '08...</td>\n",
              "      <td>Office Products</td>\n",
              "      <td>$19.95</td>\n",
              "      <td>0899332757</td>\n",
              "      <td>4.0</td>\n",
              "      <td>True</td>\n",
              "      <td>A2LBF5LI09BS8Z</td>\n",
              "      <td>JOHN DE BELLAS</td>\n",
              "      <td>Wonderful, comprehensive atlas.  It's a little...</td>\n",
              "      <td>Four Stars</td>\n",
              "      <td>1438646400</td>\n",
              "      <td>{'Format:': ' Paperback'}</td>\n",
              "      <td>18</td>\n",
              "      <td>94</td>\n",
              "    </tr>\n",
              "  </tbody>\n",
              "</table>\n",
              "</div>"
            ],
            "text/plain": [
              "                                            category  ... Total_review_P\n",
              "0  ['Sports & Outdoors', 'Outdoor Recreation', 'C...  ...             94\n",
              "1  ['Sports & Outdoors', 'Outdoor Recreation', 'C...  ...             94\n",
              "\n",
              "[2 rows x 22 columns]"
            ]
          },
          "metadata": {
            "tags": []
          },
          "execution_count": 9
        }
      ]
    }
  ]
}