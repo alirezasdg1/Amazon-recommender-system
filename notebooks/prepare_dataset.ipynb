{
  "nbformat": 4,
  "nbformat_minor": 0,
  "metadata": {
    "colab": {
      "name": "prepare_dataset.ipynb",
      "provenance": [],
      "collapsed_sections": [],
      "toc_visible": true,
      "machine_shape": "hm",
      "include_colab_link": true
    },
    "kernelspec": {
      "name": "python3",
      "display_name": "Python 3"
    },
    "accelerator": "TPU"
  },
  "cells": [
    {
      "cell_type": "markdown",
      "metadata": {
        "id": "view-in-github",
        "colab_type": "text"
      },
      "source": [
        "<a href=\"https://colab.research.google.com/github/alirezasdg1/Amazon-recommender-system/blob/master/notebooks/prepare_dataset.ipynb\" target=\"_parent\"><img src=\"https://colab.research.google.com/assets/colab-badge.svg\" alt=\"Open In Colab\"/></a>"
      ]
    },
    {
      "cell_type": "markdown",
      "metadata": {
        "id": "EJucYMN8hnse",
        "colab_type": "text"
      },
      "source": [
        "## Preprocess the datasets\n",
        "\n",
        "First I downlaod the dataset and prepare them for furthure analyses.\n"
      ]
    },
    {
      "cell_type": "code",
      "metadata": {
        "id": "f5NDXrN2CtH7",
        "colab_type": "code",
        "colab": {}
      },
      "source": [
        "import os\n",
        "import json\n",
        "import gzip\n",
        "import pandas as pd\n",
        "from urllib.request import urlopen\n",
        "from google.colab import files\n",
        "import numpy as np"
      ],
      "execution_count": 2,
      "outputs": []
    },
    {
      "cell_type": "markdown",
      "metadata": {
        "id": "0PR7v9wriHdU",
        "colab_type": "text"
      },
      "source": [
        "Dataset for the products"
      ]
    },
    {
      "cell_type": "code",
      "metadata": {
        "id": "feWoOrmt4Tja",
        "colab_type": "code",
        "colab": {
          "base_uri": "https://localhost:8080/",
          "height": 204
        },
        "outputId": "7c120398-00c2-42a5-a399-a4aa401675fa"
      },
      "source": [
        "!wget http://deepyeti.ucsd.edu/jianmo/amazon/metaFiles/meta_Sports_and_Outdoors.json.gz"
      ],
      "execution_count": null,
      "outputs": [
        {
          "output_type": "stream",
          "text": [
            "--2020-09-15 03:08:02--  http://deepyeti.ucsd.edu/jianmo/amazon/metaFiles/meta_Sports_and_Outdoors.json.gz\n",
            "Resolving deepyeti.ucsd.edu (deepyeti.ucsd.edu)... 169.228.63.50\n",
            "Connecting to deepyeti.ucsd.edu (deepyeti.ucsd.edu)|169.228.63.50|:80... connected.\n",
            "HTTP request sent, awaiting response... 200 OK\n",
            "Length: 512767929 (489M) [application/octet-stream]\n",
            "Saving to: ‘meta_Sports_and_Outdoors.json.gz’\n",
            "\n",
            "meta_Sports_and_Out 100%[===================>] 489.01M  49.8MB/s    in 10s     \n",
            "\n",
            "2020-09-15 03:08:12 (47.8 MB/s) - ‘meta_Sports_and_Outdoors.json.gz’ saved [512767929/512767929]\n",
            "\n"
          ],
          "name": "stdout"
        }
      ]
    },
    {
      "cell_type": "code",
      "metadata": {
        "id": "7igYuRaV4bF7",
        "colab_type": "code",
        "colab": {
          "base_uri": "https://localhost:8080/",
          "height": 71
        },
        "outputId": "adfa2c4e-ad81-4005-b9e5-5f4df969a6af"
      },
      "source": [
        "### load the meta data\n",
        "\n",
        "data = []\n",
        "with gzip.open(\"meta_Sports_and_Outdoors.json.gz\") as f:\n",
        "    for l in f:\n",
        "        data.append(json.loads(l.strip()))\n",
        "    \n",
        "# total length of list, this number equals total number of products\n",
        "print(len(data))\n",
        "\n",
        "# first row of the list\n",
        "print(data[0])"
      ],
      "execution_count": null,
      "outputs": [
        {
          "output_type": "stream",
          "text": [
            "962300\n",
            "{'category': ['Sports & Outdoors', 'Sports & Fitness', 'Other Sports', 'Dance', 'Clothing'], 'tech1': '', 'description': ['3 layers of super-soft polyester tulle can be cut to length. Satin covered stretch elastic waist gives a one size fits all most.'], 'fit': '', 'title': 'Adult Tutu Assorted Colors (Turquoise)', 'also_buy': [], 'image': [], 'tech2': '', 'brand': 'BubuBibi', 'feature': ['3 Layers - 100% Polyester Tulle, Hand Wash Lay FLat to Dry', '100% Polyester', 'FIT: most Kids. Teens . Adults *Please Check Measurements for Proper Fit', 'WAIST: Satin Covered Elastic 18\" relaxed to 36\" fully stretched', 'LENGTH: 16\" to 17\" *can easily be cut to desired length without worry of fraying or unraveling', 'You can return this item for any reason and get a full refund: no shipping charges. The item must be returned in new and unused condition.', '<a id=\"creturns-policy-url-text-pc\" class=\"a-link-normal\" href=\"/b/ref=frt_dp_sm?ie=UTF8&node=8622296011\">\\n                        Read the full returns policy\\n                    </a>', 'Go to Your Orders to start the return', 'Print the return shipping label', 'Ship it!', '<span class=\"a-text-bold\">Product Dimensions:\\n                    </span>\\n                    <span>11 x 8.1 x 1.6 inches</span>', '<span class=\"a-text-bold\">Shipping Weight:\\n                    </span>\\n                    <span>6.4 ounces (<a href=\\'https://www.amazon.com/gp/help/seller/shipping.html/ref=dp_pd_shipping?_encoding=UTF8&amp;seller=ATVPDKIKX0DER&amp;asin=0000032042\\'>View shipping rates and policies</a>)</span>', '<span class=\"a-text-bold\">ASIN:\\n                    </span>\\n                    <span>0000032042</span>', '', '<span class=\"a-text-bold\">Date first listed on Amazon:\\n                    </span>\\n                    <span>May 25, 2013</span>', '<span class=\"a-text-bold\">\\n                    Average Customer Review:\\n                </span>\\n                \\n\\n\\n\\n\\n<style type=\"text/css\">\\n    /* \\n    * Fix for UDP-1061. Average customer reviews has a small extra line on hover \\n    * https://omni-grok.amazon.com/xref/src/appgroup/websiteTemplates/retail/SoftlinesDetailPageAssets/udp-intl-lock/src/legacy.css?indexName=WebsiteTemplates#40\\n    */\\n    .noUnderline a:hover { \\n        text-decoration: none; \\n    }\\n</style>\\n\\n\\n\\n    \\n    \\n    \\n    \\n        \\n\\n        \\n\\n        \\n        \\n        \\n        \\n\\t\\t\\n\\t\\t\\n\\t\\t\\n\\t\\t\\n\\t\\t        \\n\\t\\t\\n\\t\\t\\n\\t\\t\\n\\t\\t\\n\\t\\t\\n\\t\\t\\n\\t\\t\\n\\t\\t        \\n        \\n\\n        <div id=\"detailBullets_averageCustomerReviews\" class=\"a-spacing-none\" data-asin=\"0000032042\" data-ref=\"dpx_acr_pop_\" >\\n            \\n            \\n            \\n                \\n                \\n                    \\n\\n\\n\\n\\n\\n\\n\\n\\n\\n\\n        <span class=\"a-declarative\" data-action=\"acrStarsLink-click-metrics\" data-acrStarsLink-click-metrics=\"{}\">\\n            \\n\\n\\n\\n\\n\\n    <span id=\"acrPopover\" class=\"reviewCountTextLinkedHistogram noUnderline\" title=\"3.4 out of 5 stars\">\\n        <span class=\"a-declarative\" data-action=\"a-popover\" data-a-popover=\"{&quot;max-width&quot;:&quot;700&quot;,&quot;closeButton&quot;:&quot;false&quot;,&quot;position&quot;:&quot;triggerBottom&quot;,&quot;url&quot;:&quot;/gp/customer-reviews/widgets/average-customer-review/popover/ref=dpx_acr_pop_?contextId=dpx&amp;asin=0000032042&quot;}\">\\n            <a href=\"javascript:void(0)\" class=\"a-popover-trigger a-declarative\">\\n                \\n\\n<i class=\"a-icon a-icon-star a-star-3-5\"><span class=\"a-icon-alt\">3.4 out of 5 stars</span></i>\\n                \\n            <i class=\"a-icon a-icon-popover\"></i></a>\\n        </span>\\n        <span class=\"a-letter-space\"></span>\\n    </span>\\n\\n\\n        </span>\\n        <span class=\"a-letter-space\"></span>\\n        \\n        \\n\\n        \\n\\n        \\n\\n        \\n        \\n        \\n        \\n        \\n        \\n        \\n            \\n            \\n                <span class=\"a-declarative\" data-action=\"acrLink-click-metrics\" data-acrLink-click-metrics=\"{}\">\\n                    <a id=\"acrCustomerReviewLink\" class=\"a-link-normal\" href=\"#customerReviews\">\\n                        <span id=\"acrCustomerReviewText\" class=\"a-size-base\">8 customer reviews</span>\\n                    </a>\\n                </span>\\n            \\n                <script type=\"text/javascript\">\\n                    P.when(\\'A\\', \\'ready\\').execute(function(A) {\\n                        A.declarative(\\'acrLink-click-metrics\\', \\'click\\', { \"allowLinkDefault\" : true }, function(event){\\n                            if(window.ue) {\\n                                ue.count(\"acrLinkClickCount\", (ue.count(\"acrLinkClickCount\") || 0) + 1);\\n                            }\\n                        });\\n                    });\\n                </script>\\n            \\n            \\n            \\n            \\n        \\n        \\n        <script type=\"text/javascript\">\\n            P.when(\\'A\\', \\'cf\\').execute(function(A) {\\n                A.declarative(\\'acrStarsLink-click-metrics\\', \\'click\\', { \"allowLinkDefault\" : true },  function(event){\\n                    if(window.ue) {\\n                        ue.count(\"acrStarsLinkWithPopoverClickCount\", (ue.count(\"acrStarsLinkWithPopoverClickCount\") || 0) + 1);\\n                    }\\n                });\\n            });\\n        </script>\\n\\n\\n                \\n            \\n        </div>'], 'rank': '712,899 in Clothing, Shoes & Jewelry (', 'also_view': ['B071LQWQBQ', 'B00M14DG0O', 'B076GTTY9W', 'B07BSZ4GYZ', 'B07CJWWMQW', 'B074DQJMYT', 'B002BZX8Z6', 'B07CPV7P5B', 'B01M0BIP9H', 'B07C9T6L8D', 'B07FQ3QG5G', 'B0717BCCGP', 'B01M0N9TCF', 'B01B8L258E', 'B06XBG5JZP', 'B0764FVL5D', 'B06XSMMGCR', 'B00VXJHFRS', 'B07C29WWV1', 'B00YAA2OIM', 'B01N9FPI8L', 'B07C59B19B', 'B01MAXSJRI', 'B075LDMYQX', 'B00HWF7KL8', 'B010CO0TKE', 'B07BS6BB44', 'B0787MGP57', 'B01KBX2SP0', 'B00BEU1PB8', 'B01N1TUL0J', 'B017IIKQSW', 'B071HB7YR6', 'B0774B3TPN', 'B005C4Y4F6', 'B071DZB539', 'B01LZ469DF', 'B009THXHPA', 'B078WPG8V6', 'B00TGDCFJQ', 'B07BVDXLS3', 'B06Y637BFS', 'B07GXKD7DZ', 'B002DMK3NC', 'B07BJ9GF9Q', 'B01B8L18IW', 'B07DWNBRXP', 'B01N9569M8', 'B078NTTW5C', 'B075WR53KQ', 'B07BVN9Q2X', 'B00BEU1HFM', 'B07FSL41RK', 'B07G5RFWV2', 'B01D4LH2L6', 'B07DFPBZBW', 'B00WTGV0O8', 'B00KOGJDSA', 'B01CO5M30I'], 'main_cat': '<img src=\"https://images-na.ssl-images-amazon.com/images/G/01/nav2/images/gui/amazon-fashion-store-new._CB520838675_.png\" class=\"nav-categ-image\" alt=\"AMAZON FASHION\"/>', 'similar_item': '', 'date': '<div class=\"a-fixed-left-grid a-spacing-none\"><div class=\"a-fixed-left-grid-inner\" style=\"padding-left:280px\"><div class=\"a-fixed-left-grid-col a-col-left\" style=\"width:280px;margin-left:-280px;float:left;\"><span class=\"a-declarative\" data-action=\"reviews:filter-action:push-state\" data-reviews:filter-action:push-state=\"{&quot;scrollToSelector&quot;:&quot;#reviews-filter-info&quot;,&quot;allowLinkDefault&quot;:&quot;1&quot;}\"><table id=\"histogramTable\" class=\"a-normal a-align-middle a-spacing-base\" role=\"presentation\"><tr data-reftag=\"cm_cr_dp_d_hist_5\" data-reviews-state-param=\"{&quot;filterByStar&quot;:&quot;five_star&quot;,&quot;pageNumber&quot;:&quot;1&quot;}\" class=\"a-histogram-row\"><td class=\"aok-nowrap\"><a aria-label=\"5 star (63%)\" class=\"a-size-base a-link-normal 5star\" title=\"5 star\" href=\"/Adult-Tutu-Assorted-Colors-Turquoise/product-reviews/0000032042/ref=cm_cr_dp_d_hist_5?ie=UTF8&amp;filterByStar=five_star&amp;reviewerType=all_reviews#reviews-filter-bar\">5 star</a><span class=\"a-letter-space\"></span>', 'price': '$11.80', 'asin': '0000032042'}\n"
          ],
          "name": "stdout"
        }
      ]
    },
    {
      "cell_type": "code",
      "metadata": {
        "id": "knpHP22w4scK",
        "colab_type": "code",
        "colab": {}
      },
      "source": [
        "# convert list into pandas dataframe\n",
        "\n",
        "df_products = pd.DataFrame.from_dict(data)\n",
        "\n",
        "print(len(df_products))"
      ],
      "execution_count": null,
      "outputs": []
    },
    {
      "cell_type": "markdown",
      "metadata": {
        "id": "vqJOXLjlJg4b",
        "colab_type": "text"
      },
      "source": [
        "# Product dataframe"
      ]
    },
    {
      "cell_type": "code",
      "metadata": {
        "id": "vVB-gwBkHpWX",
        "colab_type": "code",
        "colab": {}
      },
      "source": [
        "df_products.columns"
      ],
      "execution_count": null,
      "outputs": []
    },
    {
      "cell_type": "code",
      "metadata": {
        "id": "L4rEQmVRDAlc",
        "colab_type": "code",
        "colab": {}
      },
      "source": [
        "df_products.head()"
      ],
      "execution_count": null,
      "outputs": []
    },
    {
      "cell_type": "code",
      "metadata": {
        "id": "aE6LSWnfpzux",
        "colab_type": "code",
        "colab": {}
      },
      "source": [
        "df_products.to_csv('df_products.csv')"
      ],
      "execution_count": null,
      "outputs": []
    },
    {
      "cell_type": "code",
      "metadata": {
        "id": "Fr1AV6DopmJ5",
        "colab_type": "code",
        "colab": {}
      },
      "source": [
        "files.download(\"df_products.csv\")"
      ],
      "execution_count": null,
      "outputs": []
    },
    {
      "cell_type": "code",
      "metadata": {
        "id": "0kZ2N4j6IPHZ",
        "colab_type": "code",
        "colab": {}
      },
      "source": [
        "df_products[df_products.astype(str)['image'] != '[]']"
      ],
      "execution_count": null,
      "outputs": []
    },
    {
      "cell_type": "markdown",
      "metadata": {
        "id": "LY3FBk6Nuszj",
        "colab_type": "text"
      },
      "source": [
        "## Review data"
      ]
    },
    {
      "cell_type": "code",
      "metadata": {
        "id": "6LBLzsFU5LJ_",
        "colab_type": "code",
        "colab": {}
      },
      "source": [
        "!wget http://deepyeti.ucsd.edu/jianmo/amazon/categoryFiles/Sports_and_Outdoors.json.gz"
      ],
      "execution_count": null,
      "outputs": []
    },
    {
      "cell_type": "code",
      "metadata": {
        "id": "WqZcdGp-5cui",
        "colab_type": "code",
        "colab": {}
      },
      "source": [
        "data = []\n",
        "with gzip.open('Sports_and_Outdoors.json.gz') as f:\n",
        "    for l in f:\n",
        "        data.append(json.loads(l.strip()))\n",
        "    \n",
        "# total length of list, this number equals total number of products\n",
        "print(len(data))\n",
        "\n",
        "# first row of the list\n",
        "print(data[0])"
      ],
      "execution_count": null,
      "outputs": []
    },
    {
      "cell_type": "code",
      "metadata": {
        "id": "LCu4Zan_KBl7",
        "colab_type": "code",
        "colab": {}
      },
      "source": [
        "df_review = pd.DataFrame.from_dict(data)\n",
        "\n",
        "print(len(df_review))"
      ],
      "execution_count": null,
      "outputs": []
    },
    {
      "cell_type": "code",
      "metadata": {
        "id": "VBYRfDgkJVlw",
        "colab_type": "code",
        "colab": {}
      },
      "source": [
        "del data"
      ],
      "execution_count": null,
      "outputs": []
    },
    {
      "cell_type": "code",
      "metadata": {
        "id": "PeJ2aEP-Kblp",
        "colab_type": "code",
        "colab": {}
      },
      "source": [
        "df_review.head()"
      ],
      "execution_count": null,
      "outputs": []
    },
    {
      "cell_type": "code",
      "metadata": {
        "id": "0YUhk3qILUP8",
        "colab_type": "code",
        "colab": {}
      },
      "source": [
        "df_review.to_csv('df_review.csv')"
      ],
      "execution_count": null,
      "outputs": []
    },
    {
      "cell_type": "code",
      "metadata": {
        "id": "cihT5Pmx5LKS",
        "colab_type": "code",
        "colab": {}
      },
      "source": [
        "files.download(\"df_review.csv\")"
      ],
      "execution_count": null,
      "outputs": []
    },
    {
      "cell_type": "markdown",
      "metadata": {
        "id": "sCKU9JXWJm9H",
        "colab_type": "text"
      },
      "source": [
        "## Save dataframe to google drive "
      ]
    },
    {
      "cell_type": "code",
      "metadata": {
        "id": "ZgMgivVpJUnH",
        "colab_type": "code",
        "colab": {
          "base_uri": "https://localhost:8080/",
          "height": 34
        },
        "outputId": "1a6cea73-5861-4e8f-ef06-d77655f5df7b"
      },
      "source": [
        "from google.colab import drive\n",
        "drive.mount('/content/drive')"
      ],
      "execution_count": 2,
      "outputs": [
        {
          "output_type": "stream",
          "text": [
            "Mounted at /content/drive\n"
          ],
          "name": "stdout"
        }
      ]
    },
    {
      "cell_type": "code",
      "metadata": {
        "id": "NriYcfDbI6St",
        "colab_type": "code",
        "colab": {
          "base_uri": "https://localhost:8080/",
          "height": 71
        },
        "outputId": "c006e163-4234-494d-cfef-a17a7746f9ef"
      },
      "source": [
        "df_product = pd.read_csv(\"/content/drive/My Drive/Datasets/df_products.csv\")"
      ],
      "execution_count": 3,
      "outputs": [
        {
          "output_type": "stream",
          "text": [
            "/usr/local/lib/python3.6/dist-packages/IPython/core/interactiveshell.py:2718: DtypeWarning: Columns (8) have mixed types.Specify dtype option on import or set low_memory=False.\n",
            "  interactivity=interactivity, compiler=compiler, result=result)\n"
          ],
          "name": "stderr"
        }
      ]
    },
    {
      "cell_type": "code",
      "metadata": {
        "id": "2qa4MVFzJelQ",
        "colab_type": "code",
        "colab": {
          "base_uri": "https://localhost:8080/",
          "height": 34
        },
        "outputId": "4c9143bd-fd31-4716-f3c2-b03d92535349"
      },
      "source": [
        "df_product.shape"
      ],
      "execution_count": 4,
      "outputs": [
        {
          "output_type": "execute_result",
          "data": {
            "text/plain": [
              "(962300, 19)"
            ]
          },
          "metadata": {
            "tags": []
          },
          "execution_count": 4
        }
      ]
    },
    {
      "cell_type": "code",
      "metadata": {
        "id": "_m58OXcdJCWb",
        "colab_type": "code",
        "colab": {
          "base_uri": "https://localhost:8080/",
          "height": 71
        },
        "outputId": "a4406d5a-7e75-4d61-d31f-1f2122faf306"
      },
      "source": [
        "df_review = pd.read_csv(\"/content/drive/My Drive/Datasets/df_review.csv\")"
      ],
      "execution_count": 5,
      "outputs": [
        {
          "output_type": "stream",
          "text": [
            "/usr/local/lib/python3.6/dist-packages/IPython/core/interactiveshell.py:2718: DtypeWarning: Columns (10) have mixed types.Specify dtype option on import or set low_memory=False.\n",
            "  interactivity=interactivity, compiler=compiler, result=result)\n"
          ],
          "name": "stderr"
        }
      ]
    },
    {
      "cell_type": "code",
      "metadata": {
        "id": "mzSmBwa3KGZD",
        "colab_type": "code",
        "colab": {
          "base_uri": "https://localhost:8080/",
          "height": 34
        },
        "outputId": "9516d525-a4fb-4415-b982-d756577128c6"
      },
      "source": [
        "df_review.shape"
      ],
      "execution_count": 7,
      "outputs": [
        {
          "output_type": "execute_result",
          "data": {
            "text/plain": [
              "(12980837, 13)"
            ]
          },
          "metadata": {
            "tags": []
          },
          "execution_count": 7
        }
      ]
    },
    {
      "cell_type": "code",
      "metadata": {
        "id": "C1EGo1w3W0wJ",
        "colab_type": "code",
        "colab": {
          "base_uri": "https://localhost:8080/",
          "height": 352
        },
        "outputId": "2c8c5816-fa05-43c5-a4bb-52a233bdcf1b"
      },
      "source": [
        "df_product.head(2)"
      ],
      "execution_count": 6,
      "outputs": [
        {
          "output_type": "execute_result",
          "data": {
            "text/html": [
              "<div>\n",
              "<style scoped>\n",
              "    .dataframe tbody tr th:only-of-type {\n",
              "        vertical-align: middle;\n",
              "    }\n",
              "\n",
              "    .dataframe tbody tr th {\n",
              "        vertical-align: top;\n",
              "    }\n",
              "\n",
              "    .dataframe thead th {\n",
              "        text-align: right;\n",
              "    }\n",
              "</style>\n",
              "<table border=\"1\" class=\"dataframe\">\n",
              "  <thead>\n",
              "    <tr style=\"text-align: right;\">\n",
              "      <th></th>\n",
              "      <th>Unnamed: 0</th>\n",
              "      <th>category</th>\n",
              "      <th>tech1</th>\n",
              "      <th>description</th>\n",
              "      <th>fit</th>\n",
              "      <th>title</th>\n",
              "      <th>also_buy</th>\n",
              "      <th>image</th>\n",
              "      <th>tech2</th>\n",
              "      <th>brand</th>\n",
              "      <th>feature</th>\n",
              "      <th>rank</th>\n",
              "      <th>also_view</th>\n",
              "      <th>main_cat</th>\n",
              "      <th>similar_item</th>\n",
              "      <th>date</th>\n",
              "      <th>price</th>\n",
              "      <th>asin</th>\n",
              "      <th>details</th>\n",
              "    </tr>\n",
              "  </thead>\n",
              "  <tbody>\n",
              "    <tr>\n",
              "      <th>0</th>\n",
              "      <td>0</td>\n",
              "      <td>['Sports &amp; Outdoors', 'Sports &amp; Fitness', 'Oth...</td>\n",
              "      <td>NaN</td>\n",
              "      <td>['3 layers of super-soft polyester tulle can b...</td>\n",
              "      <td>NaN</td>\n",
              "      <td>Adult Tutu Assorted Colors (Turquoise)</td>\n",
              "      <td>[]</td>\n",
              "      <td>[]</td>\n",
              "      <td>NaN</td>\n",
              "      <td>BubuBibi</td>\n",
              "      <td>['3 Layers - 100% Polyester Tulle, Hand Wash L...</td>\n",
              "      <td>712,899 in Clothing, Shoes &amp; Jewelry (</td>\n",
              "      <td>['B071LQWQBQ', 'B00M14DG0O', 'B076GTTY9W', 'B0...</td>\n",
              "      <td>&lt;img src=\"https://images-na.ssl-images-amazon....</td>\n",
              "      <td>NaN</td>\n",
              "      <td>&lt;div class=\"a-fixed-left-grid a-spacing-none\"&gt;...</td>\n",
              "      <td>$11.80</td>\n",
              "      <td>0000032042</td>\n",
              "      <td>NaN</td>\n",
              "    </tr>\n",
              "    <tr>\n",
              "      <th>1</th>\n",
              "      <td>1</td>\n",
              "      <td>['Sports &amp; Outdoors', 'Sports &amp; Fitness', 'Oth...</td>\n",
              "      <td>NaN</td>\n",
              "      <td>['3 layers of super-soft polyester tulle can b...</td>\n",
              "      <td>NaN</td>\n",
              "      <td>Bububibi Adult Ballet Tutu Cheetah Pink</td>\n",
              "      <td>[]</td>\n",
              "      <td>[]</td>\n",
              "      <td>NaN</td>\n",
              "      <td>BubuBibi</td>\n",
              "      <td>['3 Layers - 100% Polyester Tulle, Hand Wash L...</td>\n",
              "      <td>712,899 in Clothing, Shoes &amp; Jewelry (</td>\n",
              "      <td>[]</td>\n",
              "      <td>&lt;img src=\"https://images-na.ssl-images-amazon....</td>\n",
              "      <td>NaN</td>\n",
              "      <td>&lt;div class=\"a-fixed-left-grid a-spacing-none\"&gt;...</td>\n",
              "      <td>$11.97</td>\n",
              "      <td>0000032069</td>\n",
              "      <td>NaN</td>\n",
              "    </tr>\n",
              "  </tbody>\n",
              "</table>\n",
              "</div>"
            ],
            "text/plain": [
              "   Unnamed: 0  ... details\n",
              "0           0  ...     NaN\n",
              "1           1  ...     NaN\n",
              "\n",
              "[2 rows x 19 columns]"
            ]
          },
          "metadata": {
            "tags": []
          },
          "execution_count": 6
        }
      ]
    },
    {
      "cell_type": "code",
      "metadata": {
        "id": "bSB91fqAgHL7",
        "colab_type": "code",
        "colab": {
          "base_uri": "https://localhost:8080/",
          "height": 162
        },
        "outputId": "249b8b5d-d3fb-4935-ff8b-f233320a0a11"
      },
      "source": [
        "df_review.head(2)"
      ],
      "execution_count": 8,
      "outputs": [
        {
          "output_type": "execute_result",
          "data": {
            "text/html": [
              "<div>\n",
              "<style scoped>\n",
              "    .dataframe tbody tr th:only-of-type {\n",
              "        vertical-align: middle;\n",
              "    }\n",
              "\n",
              "    .dataframe tbody tr th {\n",
              "        vertical-align: top;\n",
              "    }\n",
              "\n",
              "    .dataframe thead th {\n",
              "        text-align: right;\n",
              "    }\n",
              "</style>\n",
              "<table border=\"1\" class=\"dataframe\">\n",
              "  <thead>\n",
              "    <tr style=\"text-align: right;\">\n",
              "      <th></th>\n",
              "      <th>Unnamed: 0</th>\n",
              "      <th>overall</th>\n",
              "      <th>verified</th>\n",
              "      <th>reviewTime</th>\n",
              "      <th>reviewerID</th>\n",
              "      <th>asin</th>\n",
              "      <th>reviewerName</th>\n",
              "      <th>reviewText</th>\n",
              "      <th>summary</th>\n",
              "      <th>unixReviewTime</th>\n",
              "      <th>vote</th>\n",
              "      <th>style</th>\n",
              "      <th>image</th>\n",
              "    </tr>\n",
              "  </thead>\n",
              "  <tbody>\n",
              "    <tr>\n",
              "      <th>0</th>\n",
              "      <td>0</td>\n",
              "      <td>5.0</td>\n",
              "      <td>False</td>\n",
              "      <td>02 1, 2014</td>\n",
              "      <td>A23K73OVXJ04EG</td>\n",
              "      <td>0000031895</td>\n",
              "      <td>Lamb612000</td>\n",
              "      <td>It was as described and fit my 6 year old gran...</td>\n",
              "      <td>Neon Blue Tutu</td>\n",
              "      <td>1391212800</td>\n",
              "      <td>NaN</td>\n",
              "      <td>NaN</td>\n",
              "      <td>NaN</td>\n",
              "    </tr>\n",
              "    <tr>\n",
              "      <th>1</th>\n",
              "      <td>1</td>\n",
              "      <td>4.0</td>\n",
              "      <td>True</td>\n",
              "      <td>11 20, 2013</td>\n",
              "      <td>A2681T699HV6H1</td>\n",
              "      <td>0000031895</td>\n",
              "      <td>Courtney R</td>\n",
              "      <td>very cute and went great with my Halloween cos...</td>\n",
              "      <td>loved it!</td>\n",
              "      <td>1384905600</td>\n",
              "      <td>NaN</td>\n",
              "      <td>NaN</td>\n",
              "      <td>NaN</td>\n",
              "    </tr>\n",
              "  </tbody>\n",
              "</table>\n",
              "</div>"
            ],
            "text/plain": [
              "   Unnamed: 0  overall  verified   reviewTime  ... unixReviewTime vote style image\n",
              "0           0      5.0     False   02 1, 2014  ...     1391212800  NaN   NaN   NaN\n",
              "1           1      4.0      True  11 20, 2013  ...     1384905600  NaN   NaN   NaN\n",
              "\n",
              "[2 rows x 13 columns]"
            ]
          },
          "metadata": {
            "tags": []
          },
          "execution_count": 8
        }
      ]
    },
    {
      "cell_type": "markdown",
      "metadata": {
        "id": "WnU4EMrjhkP1",
        "colab_type": "text"
      },
      "source": [
        "## Remove products without images"
      ]
    },
    {
      "cell_type": "code",
      "metadata": {
        "id": "__EEABL4hjf0",
        "colab_type": "code",
        "colab": {}
      },
      "source": [
        "df_product_img = df_product[df_product.astype(str)['image'] != '[]'].copy()"
      ],
      "execution_count": 9,
      "outputs": []
    },
    {
      "cell_type": "code",
      "metadata": {
        "id": "Oduk1Ydeh8IT",
        "colab_type": "code",
        "colab": {
          "base_uri": "https://localhost:8080/",
          "height": 34
        },
        "outputId": "e8cb9d59-583c-4562-894d-e911926fc6a0"
      },
      "source": [
        "df_product_img.shape"
      ],
      "execution_count": 10,
      "outputs": [
        {
          "output_type": "execute_result",
          "data": {
            "text/plain": [
              "(476483, 19)"
            ]
          },
          "metadata": {
            "tags": []
          },
          "execution_count": 10
        }
      ]
    },
    {
      "cell_type": "code",
      "metadata": {
        "id": "QiwXfacUiAo8",
        "colab_type": "code",
        "colab": {
          "base_uri": "https://localhost:8080/",
          "height": 284
        },
        "outputId": "256f5fad-7ae5-47b9-bbbd-dc431b7438da"
      },
      "source": [
        "df_product_img.head(2)"
      ],
      "execution_count": 11,
      "outputs": [
        {
          "output_type": "execute_result",
          "data": {
            "text/html": [
              "<div>\n",
              "<style scoped>\n",
              "    .dataframe tbody tr th:only-of-type {\n",
              "        vertical-align: middle;\n",
              "    }\n",
              "\n",
              "    .dataframe tbody tr th {\n",
              "        vertical-align: top;\n",
              "    }\n",
              "\n",
              "    .dataframe thead th {\n",
              "        text-align: right;\n",
              "    }\n",
              "</style>\n",
              "<table border=\"1\" class=\"dataframe\">\n",
              "  <thead>\n",
              "    <tr style=\"text-align: right;\">\n",
              "      <th></th>\n",
              "      <th>Unnamed: 0</th>\n",
              "      <th>category</th>\n",
              "      <th>tech1</th>\n",
              "      <th>description</th>\n",
              "      <th>fit</th>\n",
              "      <th>title</th>\n",
              "      <th>also_buy</th>\n",
              "      <th>image</th>\n",
              "      <th>tech2</th>\n",
              "      <th>brand</th>\n",
              "      <th>feature</th>\n",
              "      <th>rank</th>\n",
              "      <th>also_view</th>\n",
              "      <th>main_cat</th>\n",
              "      <th>similar_item</th>\n",
              "      <th>date</th>\n",
              "      <th>price</th>\n",
              "      <th>asin</th>\n",
              "      <th>details</th>\n",
              "    </tr>\n",
              "  </thead>\n",
              "  <tbody>\n",
              "    <tr>\n",
              "      <th>6</th>\n",
              "      <td>6</td>\n",
              "      <td>['Sports &amp; Outdoors', 'Outdoor Recreation', 'C...</td>\n",
              "      <td>NaN</td>\n",
              "      <td>['Deluxe Duffel Bag with full length zipper de...</td>\n",
              "      <td>NaN</td>\n",
              "      <td>6ft of Acid Free Linen Tape for Bookbinding</td>\n",
              "      <td>[]</td>\n",
              "      <td>['https://images-na.ssl-images-amazon.com/imag...</td>\n",
              "      <td>NaN</td>\n",
              "      <td>Stansport</td>\n",
              "      <td>['Cotton Canvas', 'Acid Free']</td>\n",
              "      <td>2,077,567 in Sports &amp; Outdoors (</td>\n",
              "      <td>['B003W5YN9Y', 'B077FXJTTS']</td>\n",
              "      <td>Sports &amp; Outdoors</td>\n",
              "      <td>NaN</td>\n",
              "      <td>NaN</td>\n",
              "      <td>$4.00</td>\n",
              "      <td>0000012300</td>\n",
              "      <td>NaN</td>\n",
              "    </tr>\n",
              "    <tr>\n",
              "      <th>11</th>\n",
              "      <td>11</td>\n",
              "      <td>['Sports &amp; Outdoors', 'Sports &amp; Fitness', 'Gol...</td>\n",
              "      <td>NaN</td>\n",
              "      <td>['Create an instant indoors putting green by p...</td>\n",
              "      <td>NaN</td>\n",
              "      <td>Putting Set in Case</td>\n",
              "      <td>[]</td>\n",
              "      <td>['https://images-na.ssl-images-amazon.com/imag...</td>\n",
              "      <td>NaN</td>\n",
              "      <td>Allegra</td>\n",
              "      <td>[]</td>\n",
              "      <td>5,302,408 in Sports &amp; Outdoors (</td>\n",
              "      <td>[]</td>\n",
              "      <td>Sports &amp; Outdoors</td>\n",
              "      <td>NaN</td>\n",
              "      <td>NaN</td>\n",
              "      <td>NaN</td>\n",
              "      <td>0500615594</td>\n",
              "      <td>NaN</td>\n",
              "    </tr>\n",
              "  </tbody>\n",
              "</table>\n",
              "</div>"
            ],
            "text/plain": [
              "    Unnamed: 0  ... details\n",
              "6            6  ...     NaN\n",
              "11          11  ...     NaN\n",
              "\n",
              "[2 rows x 19 columns]"
            ]
          },
          "metadata": {
            "tags": []
          },
          "execution_count": 11
        }
      ]
    },
    {
      "cell_type": "code",
      "metadata": {
        "id": "gpQU4ieMg8J_",
        "colab_type": "code",
        "colab": {}
      },
      "source": [
        "df_all = pd.merge(df_product_img,df_review,on='asin')"
      ],
      "execution_count": 12,
      "outputs": []
    },
    {
      "cell_type": "code",
      "metadata": {
        "id": "I6762beE7sAb",
        "colab_type": "code",
        "colab": {
          "base_uri": "https://localhost:8080/",
          "height": 34
        },
        "outputId": "90480eec-7f80-4a1f-aff9-ec8160408e73"
      },
      "source": [
        "df_all.shape"
      ],
      "execution_count": 14,
      "outputs": [
        {
          "output_type": "execute_result",
          "data": {
            "text/plain": [
              "(9794158, 31)"
            ]
          },
          "metadata": {
            "tags": []
          },
          "execution_count": 14
        }
      ]
    },
    {
      "cell_type": "code",
      "metadata": {
        "id": "U08UCWrDXQRk",
        "colab_type": "code",
        "colab": {}
      },
      "source": [
        "#test = df_all[df_all.reviewText.apply(lambda x: len(str(x))>10)]"
      ],
      "execution_count": 104,
      "outputs": []
    },
    {
      "cell_type": "markdown",
      "metadata": {
        "id": "F0wjYPgLgu7Q",
        "colab_type": "text"
      },
      "source": [
        "## Due to RAM issues, I had to reduce size of my Dataset"
      ]
    },
    {
      "cell_type": "code",
      "metadata": {
        "id": "U7jDPnXJJ75p",
        "colab_type": "code",
        "colab": {}
      },
      "source": [
        "df_review_15 = df_all.groupby('reviewerID').agg(Total_review_C=('asin', 'count')).reset_index()"
      ],
      "execution_count": 16,
      "outputs": []
    },
    {
      "cell_type": "code",
      "metadata": {
        "id": "vFgL6OiaMFbx",
        "colab_type": "code",
        "colab": {
          "base_uri": "https://localhost:8080/",
          "height": 34
        },
        "outputId": "a613f45c-5652-4b85-f4ef-579818d7bf15"
      },
      "source": [
        "df_review_15.shape"
      ],
      "execution_count": 17,
      "outputs": [
        {
          "output_type": "execute_result",
          "data": {
            "text/plain": [
              "(5554037, 2)"
            ]
          },
          "metadata": {
            "tags": []
          },
          "execution_count": 17
        }
      ]
    },
    {
      "cell_type": "code",
      "metadata": {
        "id": "xAVdDDALWSFq",
        "colab_type": "code",
        "colab": {}
      },
      "source": [
        "df_text_review_15 = df_all.groupby('reviewerID').agg(Total_review_C=('reviewText', 'count')).reset_index()"
      ],
      "execution_count": 87,
      "outputs": []
    },
    {
      "cell_type": "code",
      "metadata": {
        "id": "bOsEbuAwWdvq",
        "colab_type": "code",
        "colab": {
          "base_uri": "https://localhost:8080/",
          "height": 34
        },
        "outputId": "fb2cf86f-e13a-4882-92a7-8bb6e127463e"
      },
      "source": [
        "df_text_review_15.shape"
      ],
      "execution_count": 88,
      "outputs": [
        {
          "output_type": "execute_result",
          "data": {
            "text/plain": [
              "(5554037, 2)"
            ]
          },
          "metadata": {
            "tags": []
          },
          "execution_count": 88
        }
      ]
    },
    {
      "cell_type": "code",
      "metadata": {
        "id": "swP5A4oYYvG_",
        "colab_type": "code",
        "colab": {}
      },
      "source": [
        "df_product_15 = df_all.groupby('asin').agg(Total_review_P=('reviewerID', 'count')).reset_index()"
      ],
      "execution_count": 18,
      "outputs": []
    },
    {
      "cell_type": "code",
      "metadata": {
        "id": "afK_V0oxWN2D",
        "colab_type": "code",
        "colab": {}
      },
      "source": [
        ""
      ],
      "execution_count": null,
      "outputs": []
    },
    {
      "cell_type": "code",
      "metadata": {
        "id": "R97-ttCm8zkn",
        "colab_type": "code",
        "colab": {
          "base_uri": "https://localhost:8080/",
          "height": 34
        },
        "outputId": "af1383a4-70f4-48f6-974e-945473e180a1"
      },
      "source": [
        "df_product_15.shape"
      ],
      "execution_count": 19,
      "outputs": [
        {
          "output_type": "execute_result",
          "data": {
            "text/plain": [
              "(474970, 2)"
            ]
          },
          "metadata": {
            "tags": []
          },
          "execution_count": 19
        }
      ]
    },
    {
      "cell_type": "code",
      "metadata": {
        "id": "eMxSYaAsV0Yc",
        "colab_type": "code",
        "colab": {}
      },
      "source": [
        "df_all_15 = pd.merge(df_all,df_review_15,on='reviewerID', how='left')"
      ],
      "execution_count": 20,
      "outputs": []
    },
    {
      "cell_type": "code",
      "metadata": {
        "id": "XRfB30LC_Lor",
        "colab_type": "code",
        "colab": {
          "base_uri": "https://localhost:8080/",
          "height": 615
        },
        "outputId": "0501d654-7a3b-48dc-b775-b5578ae9a666"
      },
      "source": [
        "df_all_15.head()"
      ],
      "execution_count": 21,
      "outputs": [
        {
          "output_type": "execute_result",
          "data": {
            "text/html": [
              "<div>\n",
              "<style scoped>\n",
              "    .dataframe tbody tr th:only-of-type {\n",
              "        vertical-align: middle;\n",
              "    }\n",
              "\n",
              "    .dataframe tbody tr th {\n",
              "        vertical-align: top;\n",
              "    }\n",
              "\n",
              "    .dataframe thead th {\n",
              "        text-align: right;\n",
              "    }\n",
              "</style>\n",
              "<table border=\"1\" class=\"dataframe\">\n",
              "  <thead>\n",
              "    <tr style=\"text-align: right;\">\n",
              "      <th></th>\n",
              "      <th>Unnamed: 0_x</th>\n",
              "      <th>category</th>\n",
              "      <th>tech1</th>\n",
              "      <th>description</th>\n",
              "      <th>fit</th>\n",
              "      <th>title</th>\n",
              "      <th>also_buy</th>\n",
              "      <th>image_x</th>\n",
              "      <th>tech2</th>\n",
              "      <th>brand</th>\n",
              "      <th>feature</th>\n",
              "      <th>rank</th>\n",
              "      <th>also_view</th>\n",
              "      <th>main_cat</th>\n",
              "      <th>similar_item</th>\n",
              "      <th>date</th>\n",
              "      <th>price</th>\n",
              "      <th>asin</th>\n",
              "      <th>details</th>\n",
              "      <th>Unnamed: 0_y</th>\n",
              "      <th>overall</th>\n",
              "      <th>verified</th>\n",
              "      <th>reviewTime</th>\n",
              "      <th>reviewerID</th>\n",
              "      <th>reviewerName</th>\n",
              "      <th>reviewText</th>\n",
              "      <th>summary</th>\n",
              "      <th>unixReviewTime</th>\n",
              "      <th>vote</th>\n",
              "      <th>style</th>\n",
              "      <th>image_y</th>\n",
              "      <th>Total_review_C</th>\n",
              "    </tr>\n",
              "  </thead>\n",
              "  <tbody>\n",
              "    <tr>\n",
              "      <th>0</th>\n",
              "      <td>6</td>\n",
              "      <td>['Sports &amp; Outdoors', 'Outdoor Recreation', 'C...</td>\n",
              "      <td>NaN</td>\n",
              "      <td>['Deluxe Duffel Bag with full length zipper de...</td>\n",
              "      <td>NaN</td>\n",
              "      <td>6ft of Acid Free Linen Tape for Bookbinding</td>\n",
              "      <td>[]</td>\n",
              "      <td>['https://images-na.ssl-images-amazon.com/imag...</td>\n",
              "      <td>NaN</td>\n",
              "      <td>Stansport</td>\n",
              "      <td>['Cotton Canvas', 'Acid Free']</td>\n",
              "      <td>2,077,567 in Sports &amp; Outdoors (</td>\n",
              "      <td>['B003W5YN9Y', 'B077FXJTTS']</td>\n",
              "      <td>Sports &amp; Outdoors</td>\n",
              "      <td>NaN</td>\n",
              "      <td>NaN</td>\n",
              "      <td>$4.00</td>\n",
              "      <td>0000012300</td>\n",
              "      <td>NaN</td>\n",
              "      <td>9411978</td>\n",
              "      <td>4.0</td>\n",
              "      <td>True</td>\n",
              "      <td>09 7, 2017</td>\n",
              "      <td>A1BUNBDDEO1N4B</td>\n",
              "      <td>Tom</td>\n",
              "      <td>not used yet but looks fine</td>\n",
              "      <td>Four Stars</td>\n",
              "      <td>1504742400</td>\n",
              "      <td>NaN</td>\n",
              "      <td>NaN</td>\n",
              "      <td>NaN</td>\n",
              "      <td>1</td>\n",
              "    </tr>\n",
              "    <tr>\n",
              "      <th>1</th>\n",
              "      <td>11</td>\n",
              "      <td>['Sports &amp; Outdoors', 'Sports &amp; Fitness', 'Gol...</td>\n",
              "      <td>NaN</td>\n",
              "      <td>['Create an instant indoors putting green by p...</td>\n",
              "      <td>NaN</td>\n",
              "      <td>Putting Set in Case</td>\n",
              "      <td>[]</td>\n",
              "      <td>['https://images-na.ssl-images-amazon.com/imag...</td>\n",
              "      <td>NaN</td>\n",
              "      <td>Allegra</td>\n",
              "      <td>[]</td>\n",
              "      <td>5,302,408 in Sports &amp; Outdoors (</td>\n",
              "      <td>[]</td>\n",
              "      <td>Sports &amp; Outdoors</td>\n",
              "      <td>NaN</td>\n",
              "      <td>NaN</td>\n",
              "      <td>NaN</td>\n",
              "      <td>0500615594</td>\n",
              "      <td>NaN</td>\n",
              "      <td>9411717</td>\n",
              "      <td>2.0</td>\n",
              "      <td>True</td>\n",
              "      <td>06 28, 2015</td>\n",
              "      <td>A1L1J5K412ZGE3</td>\n",
              "      <td>B</td>\n",
              "      <td>Bent golf stick</td>\n",
              "      <td>DR. BINO</td>\n",
              "      <td>1435449600</td>\n",
              "      <td>NaN</td>\n",
              "      <td>NaN</td>\n",
              "      <td>NaN</td>\n",
              "      <td>2</td>\n",
              "    </tr>\n",
              "    <tr>\n",
              "      <th>2</th>\n",
              "      <td>13</td>\n",
              "      <td>['Sports &amp; Outdoors', 'Sports &amp; Fitness', 'Exe...</td>\n",
              "      <td>NaN</td>\n",
              "      <td>[\"Apollo Challenge is the most effective and s...</td>\n",
              "      <td>NaN</td>\n",
              "      <td>Apollo Challenge : The 28-Day System To Look A...</td>\n",
              "      <td>['B0713Z5DGM', 'B01KUDOLN8', 'B01DJBCN3I', 'B0...</td>\n",
              "      <td>['https://images-na.ssl-images-amazon.com/imag...</td>\n",
              "      <td>NaN</td>\n",
              "      <td>Apollo Challenge</td>\n",
              "      <td>['Reduce Belly Fat, Increase Muscle Definition...</td>\n",
              "      <td>288,369 in Sports &amp; Outdoors (</td>\n",
              "      <td>[]</td>\n",
              "      <td>Sports &amp; Outdoors</td>\n",
              "      <td>NaN</td>\n",
              "      <td>NaN</td>\n",
              "      <td>$9.97</td>\n",
              "      <td>0692747222</td>\n",
              "      <td>NaN</td>\n",
              "      <td>38</td>\n",
              "      <td>5.0</td>\n",
              "      <td>False</td>\n",
              "      <td>10 28, 2016</td>\n",
              "      <td>A2LM4ZH4P1OP4O</td>\n",
              "      <td>J Leman</td>\n",
              "      <td>Simple and Powerful! So much non-sense out the...</td>\n",
              "      <td>Simple and easy to follow - it gives actual re...</td>\n",
              "      <td>1477612800</td>\n",
              "      <td>NaN</td>\n",
              "      <td>{'Format:': ' Perfect Paperback'}</td>\n",
              "      <td>NaN</td>\n",
              "      <td>1</td>\n",
              "    </tr>\n",
              "    <tr>\n",
              "      <th>3</th>\n",
              "      <td>13</td>\n",
              "      <td>['Sports &amp; Outdoors', 'Sports &amp; Fitness', 'Exe...</td>\n",
              "      <td>NaN</td>\n",
              "      <td>[\"Apollo Challenge is the most effective and s...</td>\n",
              "      <td>NaN</td>\n",
              "      <td>Apollo Challenge : The 28-Day System To Look A...</td>\n",
              "      <td>['B0713Z5DGM', 'B01KUDOLN8', 'B01DJBCN3I', 'B0...</td>\n",
              "      <td>['https://images-na.ssl-images-amazon.com/imag...</td>\n",
              "      <td>NaN</td>\n",
              "      <td>Apollo Challenge</td>\n",
              "      <td>['Reduce Belly Fat, Increase Muscle Definition...</td>\n",
              "      <td>288,369 in Sports &amp; Outdoors (</td>\n",
              "      <td>[]</td>\n",
              "      <td>Sports &amp; Outdoors</td>\n",
              "      <td>NaN</td>\n",
              "      <td>NaN</td>\n",
              "      <td>$9.97</td>\n",
              "      <td>0692747222</td>\n",
              "      <td>NaN</td>\n",
              "      <td>39</td>\n",
              "      <td>5.0</td>\n",
              "      <td>False</td>\n",
              "      <td>10 27, 2016</td>\n",
              "      <td>A134SACW6ZE6VP</td>\n",
              "      <td>Amazon Customer</td>\n",
              "      <td>This program is incredible.  I did this with m...</td>\n",
              "      <td>A Plan that actually work!.... If you actually...</td>\n",
              "      <td>1477526400</td>\n",
              "      <td>3</td>\n",
              "      <td>{'Format:': ' Perfect Paperback'}</td>\n",
              "      <td>NaN</td>\n",
              "      <td>1</td>\n",
              "    </tr>\n",
              "    <tr>\n",
              "      <th>4</th>\n",
              "      <td>13</td>\n",
              "      <td>['Sports &amp; Outdoors', 'Sports &amp; Fitness', 'Exe...</td>\n",
              "      <td>NaN</td>\n",
              "      <td>[\"Apollo Challenge is the most effective and s...</td>\n",
              "      <td>NaN</td>\n",
              "      <td>Apollo Challenge : The 28-Day System To Look A...</td>\n",
              "      <td>['B0713Z5DGM', 'B01KUDOLN8', 'B01DJBCN3I', 'B0...</td>\n",
              "      <td>['https://images-na.ssl-images-amazon.com/imag...</td>\n",
              "      <td>NaN</td>\n",
              "      <td>Apollo Challenge</td>\n",
              "      <td>['Reduce Belly Fat, Increase Muscle Definition...</td>\n",
              "      <td>288,369 in Sports &amp; Outdoors (</td>\n",
              "      <td>[]</td>\n",
              "      <td>Sports &amp; Outdoors</td>\n",
              "      <td>NaN</td>\n",
              "      <td>NaN</td>\n",
              "      <td>$9.97</td>\n",
              "      <td>0692747222</td>\n",
              "      <td>NaN</td>\n",
              "      <td>40</td>\n",
              "      <td>5.0</td>\n",
              "      <td>False</td>\n",
              "      <td>10 27, 2016</td>\n",
              "      <td>A39748BK5G8W5S</td>\n",
              "      <td>Brett</td>\n",
              "      <td>The Apollo Challange is what you've been looki...</td>\n",
              "      <td>The Apollo Challenge just plain works...</td>\n",
              "      <td>1477526400</td>\n",
              "      <td>2</td>\n",
              "      <td>{'Format:': ' Perfect Paperback'}</td>\n",
              "      <td>NaN</td>\n",
              "      <td>1</td>\n",
              "    </tr>\n",
              "  </tbody>\n",
              "</table>\n",
              "</div>"
            ],
            "text/plain": [
              "   Unnamed: 0_x  ... Total_review_C\n",
              "0             6  ...              1\n",
              "1            11  ...              2\n",
              "2            13  ...              1\n",
              "3            13  ...              1\n",
              "4            13  ...              1\n",
              "\n",
              "[5 rows x 32 columns]"
            ]
          },
          "metadata": {
            "tags": []
          },
          "execution_count": 21
        }
      ]
    },
    {
      "cell_type": "code",
      "metadata": {
        "id": "Ep2HnsARfn3n",
        "colab_type": "code",
        "colab": {}
      },
      "source": [
        "df_all_15 = pd.merge(df_all_15,df_product_15,on='asin', how='left')"
      ],
      "execution_count": 22,
      "outputs": []
    },
    {
      "cell_type": "code",
      "metadata": {
        "id": "Mju8OocTAFJz",
        "colab_type": "code",
        "colab": {
          "base_uri": "https://localhost:8080/",
          "height": 615
        },
        "outputId": "e3f05b30-95b0-41f5-874f-dbfe123f65cd"
      },
      "source": [
        "df_all_15.head()"
      ],
      "execution_count": 23,
      "outputs": [
        {
          "output_type": "execute_result",
          "data": {
            "text/html": [
              "<div>\n",
              "<style scoped>\n",
              "    .dataframe tbody tr th:only-of-type {\n",
              "        vertical-align: middle;\n",
              "    }\n",
              "\n",
              "    .dataframe tbody tr th {\n",
              "        vertical-align: top;\n",
              "    }\n",
              "\n",
              "    .dataframe thead th {\n",
              "        text-align: right;\n",
              "    }\n",
              "</style>\n",
              "<table border=\"1\" class=\"dataframe\">\n",
              "  <thead>\n",
              "    <tr style=\"text-align: right;\">\n",
              "      <th></th>\n",
              "      <th>Unnamed: 0_x</th>\n",
              "      <th>category</th>\n",
              "      <th>tech1</th>\n",
              "      <th>description</th>\n",
              "      <th>fit</th>\n",
              "      <th>title</th>\n",
              "      <th>also_buy</th>\n",
              "      <th>image_x</th>\n",
              "      <th>tech2</th>\n",
              "      <th>brand</th>\n",
              "      <th>feature</th>\n",
              "      <th>rank</th>\n",
              "      <th>also_view</th>\n",
              "      <th>main_cat</th>\n",
              "      <th>similar_item</th>\n",
              "      <th>date</th>\n",
              "      <th>price</th>\n",
              "      <th>asin</th>\n",
              "      <th>details</th>\n",
              "      <th>Unnamed: 0_y</th>\n",
              "      <th>overall</th>\n",
              "      <th>verified</th>\n",
              "      <th>reviewTime</th>\n",
              "      <th>reviewerID</th>\n",
              "      <th>reviewerName</th>\n",
              "      <th>reviewText</th>\n",
              "      <th>summary</th>\n",
              "      <th>unixReviewTime</th>\n",
              "      <th>vote</th>\n",
              "      <th>style</th>\n",
              "      <th>image_y</th>\n",
              "      <th>Total_review_C</th>\n",
              "      <th>Total_review_P</th>\n",
              "    </tr>\n",
              "  </thead>\n",
              "  <tbody>\n",
              "    <tr>\n",
              "      <th>0</th>\n",
              "      <td>6</td>\n",
              "      <td>['Sports &amp; Outdoors', 'Outdoor Recreation', 'C...</td>\n",
              "      <td>NaN</td>\n",
              "      <td>['Deluxe Duffel Bag with full length zipper de...</td>\n",
              "      <td>NaN</td>\n",
              "      <td>6ft of Acid Free Linen Tape for Bookbinding</td>\n",
              "      <td>[]</td>\n",
              "      <td>['https://images-na.ssl-images-amazon.com/imag...</td>\n",
              "      <td>NaN</td>\n",
              "      <td>Stansport</td>\n",
              "      <td>['Cotton Canvas', 'Acid Free']</td>\n",
              "      <td>2,077,567 in Sports &amp; Outdoors (</td>\n",
              "      <td>['B003W5YN9Y', 'B077FXJTTS']</td>\n",
              "      <td>Sports &amp; Outdoors</td>\n",
              "      <td>NaN</td>\n",
              "      <td>NaN</td>\n",
              "      <td>$4.00</td>\n",
              "      <td>0000012300</td>\n",
              "      <td>NaN</td>\n",
              "      <td>9411978</td>\n",
              "      <td>4.0</td>\n",
              "      <td>True</td>\n",
              "      <td>09 7, 2017</td>\n",
              "      <td>A1BUNBDDEO1N4B</td>\n",
              "      <td>Tom</td>\n",
              "      <td>not used yet but looks fine</td>\n",
              "      <td>Four Stars</td>\n",
              "      <td>1504742400</td>\n",
              "      <td>NaN</td>\n",
              "      <td>NaN</td>\n",
              "      <td>NaN</td>\n",
              "      <td>1</td>\n",
              "      <td>1</td>\n",
              "    </tr>\n",
              "    <tr>\n",
              "      <th>1</th>\n",
              "      <td>11</td>\n",
              "      <td>['Sports &amp; Outdoors', 'Sports &amp; Fitness', 'Gol...</td>\n",
              "      <td>NaN</td>\n",
              "      <td>['Create an instant indoors putting green by p...</td>\n",
              "      <td>NaN</td>\n",
              "      <td>Putting Set in Case</td>\n",
              "      <td>[]</td>\n",
              "      <td>['https://images-na.ssl-images-amazon.com/imag...</td>\n",
              "      <td>NaN</td>\n",
              "      <td>Allegra</td>\n",
              "      <td>[]</td>\n",
              "      <td>5,302,408 in Sports &amp; Outdoors (</td>\n",
              "      <td>[]</td>\n",
              "      <td>Sports &amp; Outdoors</td>\n",
              "      <td>NaN</td>\n",
              "      <td>NaN</td>\n",
              "      <td>NaN</td>\n",
              "      <td>0500615594</td>\n",
              "      <td>NaN</td>\n",
              "      <td>9411717</td>\n",
              "      <td>2.0</td>\n",
              "      <td>True</td>\n",
              "      <td>06 28, 2015</td>\n",
              "      <td>A1L1J5K412ZGE3</td>\n",
              "      <td>B</td>\n",
              "      <td>Bent golf stick</td>\n",
              "      <td>DR. BINO</td>\n",
              "      <td>1435449600</td>\n",
              "      <td>NaN</td>\n",
              "      <td>NaN</td>\n",
              "      <td>NaN</td>\n",
              "      <td>2</td>\n",
              "      <td>1</td>\n",
              "    </tr>\n",
              "    <tr>\n",
              "      <th>2</th>\n",
              "      <td>13</td>\n",
              "      <td>['Sports &amp; Outdoors', 'Sports &amp; Fitness', 'Exe...</td>\n",
              "      <td>NaN</td>\n",
              "      <td>[\"Apollo Challenge is the most effective and s...</td>\n",
              "      <td>NaN</td>\n",
              "      <td>Apollo Challenge : The 28-Day System To Look A...</td>\n",
              "      <td>['B0713Z5DGM', 'B01KUDOLN8', 'B01DJBCN3I', 'B0...</td>\n",
              "      <td>['https://images-na.ssl-images-amazon.com/imag...</td>\n",
              "      <td>NaN</td>\n",
              "      <td>Apollo Challenge</td>\n",
              "      <td>['Reduce Belly Fat, Increase Muscle Definition...</td>\n",
              "      <td>288,369 in Sports &amp; Outdoors (</td>\n",
              "      <td>[]</td>\n",
              "      <td>Sports &amp; Outdoors</td>\n",
              "      <td>NaN</td>\n",
              "      <td>NaN</td>\n",
              "      <td>$9.97</td>\n",
              "      <td>0692747222</td>\n",
              "      <td>NaN</td>\n",
              "      <td>38</td>\n",
              "      <td>5.0</td>\n",
              "      <td>False</td>\n",
              "      <td>10 28, 2016</td>\n",
              "      <td>A2LM4ZH4P1OP4O</td>\n",
              "      <td>J Leman</td>\n",
              "      <td>Simple and Powerful! So much non-sense out the...</td>\n",
              "      <td>Simple and easy to follow - it gives actual re...</td>\n",
              "      <td>1477612800</td>\n",
              "      <td>NaN</td>\n",
              "      <td>{'Format:': ' Perfect Paperback'}</td>\n",
              "      <td>NaN</td>\n",
              "      <td>1</td>\n",
              "      <td>14</td>\n",
              "    </tr>\n",
              "    <tr>\n",
              "      <th>3</th>\n",
              "      <td>13</td>\n",
              "      <td>['Sports &amp; Outdoors', 'Sports &amp; Fitness', 'Exe...</td>\n",
              "      <td>NaN</td>\n",
              "      <td>[\"Apollo Challenge is the most effective and s...</td>\n",
              "      <td>NaN</td>\n",
              "      <td>Apollo Challenge : The 28-Day System To Look A...</td>\n",
              "      <td>['B0713Z5DGM', 'B01KUDOLN8', 'B01DJBCN3I', 'B0...</td>\n",
              "      <td>['https://images-na.ssl-images-amazon.com/imag...</td>\n",
              "      <td>NaN</td>\n",
              "      <td>Apollo Challenge</td>\n",
              "      <td>['Reduce Belly Fat, Increase Muscle Definition...</td>\n",
              "      <td>288,369 in Sports &amp; Outdoors (</td>\n",
              "      <td>[]</td>\n",
              "      <td>Sports &amp; Outdoors</td>\n",
              "      <td>NaN</td>\n",
              "      <td>NaN</td>\n",
              "      <td>$9.97</td>\n",
              "      <td>0692747222</td>\n",
              "      <td>NaN</td>\n",
              "      <td>39</td>\n",
              "      <td>5.0</td>\n",
              "      <td>False</td>\n",
              "      <td>10 27, 2016</td>\n",
              "      <td>A134SACW6ZE6VP</td>\n",
              "      <td>Amazon Customer</td>\n",
              "      <td>This program is incredible.  I did this with m...</td>\n",
              "      <td>A Plan that actually work!.... If you actually...</td>\n",
              "      <td>1477526400</td>\n",
              "      <td>3</td>\n",
              "      <td>{'Format:': ' Perfect Paperback'}</td>\n",
              "      <td>NaN</td>\n",
              "      <td>1</td>\n",
              "      <td>14</td>\n",
              "    </tr>\n",
              "    <tr>\n",
              "      <th>4</th>\n",
              "      <td>13</td>\n",
              "      <td>['Sports &amp; Outdoors', 'Sports &amp; Fitness', 'Exe...</td>\n",
              "      <td>NaN</td>\n",
              "      <td>[\"Apollo Challenge is the most effective and s...</td>\n",
              "      <td>NaN</td>\n",
              "      <td>Apollo Challenge : The 28-Day System To Look A...</td>\n",
              "      <td>['B0713Z5DGM', 'B01KUDOLN8', 'B01DJBCN3I', 'B0...</td>\n",
              "      <td>['https://images-na.ssl-images-amazon.com/imag...</td>\n",
              "      <td>NaN</td>\n",
              "      <td>Apollo Challenge</td>\n",
              "      <td>['Reduce Belly Fat, Increase Muscle Definition...</td>\n",
              "      <td>288,369 in Sports &amp; Outdoors (</td>\n",
              "      <td>[]</td>\n",
              "      <td>Sports &amp; Outdoors</td>\n",
              "      <td>NaN</td>\n",
              "      <td>NaN</td>\n",
              "      <td>$9.97</td>\n",
              "      <td>0692747222</td>\n",
              "      <td>NaN</td>\n",
              "      <td>40</td>\n",
              "      <td>5.0</td>\n",
              "      <td>False</td>\n",
              "      <td>10 27, 2016</td>\n",
              "      <td>A39748BK5G8W5S</td>\n",
              "      <td>Brett</td>\n",
              "      <td>The Apollo Challange is what you've been looki...</td>\n",
              "      <td>The Apollo Challenge just plain works...</td>\n",
              "      <td>1477526400</td>\n",
              "      <td>2</td>\n",
              "      <td>{'Format:': ' Perfect Paperback'}</td>\n",
              "      <td>NaN</td>\n",
              "      <td>1</td>\n",
              "      <td>14</td>\n",
              "    </tr>\n",
              "  </tbody>\n",
              "</table>\n",
              "</div>"
            ],
            "text/plain": [
              "   Unnamed: 0_x  ... Total_review_P\n",
              "0             6  ...              1\n",
              "1            11  ...              1\n",
              "2            13  ...             14\n",
              "3            13  ...             14\n",
              "4            13  ...             14\n",
              "\n",
              "[5 rows x 33 columns]"
            ]
          },
          "metadata": {
            "tags": []
          },
          "execution_count": 23
        }
      ]
    },
    {
      "cell_type": "code",
      "metadata": {
        "id": "3f-JYhcaaFby",
        "colab_type": "code",
        "colab": {
          "base_uri": "https://localhost:8080/",
          "height": 293
        },
        "outputId": "a680493f-240a-4e46-8461-f2e044b415ab"
      },
      "source": [
        "df_all_15.Total_review_C.hist()"
      ],
      "execution_count": 24,
      "outputs": [
        {
          "output_type": "execute_result",
          "data": {
            "text/plain": [
              "<matplotlib.axes._subplots.AxesSubplot at 0x7f56df509400>"
            ]
          },
          "metadata": {
            "tags": []
          },
          "execution_count": 24
        },
        {
          "output_type": "display_data",
          "data": {
            "image/png": "[encoded data removed]",
            "text/plain": [
              "<Figure size 432x288 with 1 Axes>"
            ]
          },
          "metadata": {
            "tags": [],
            "needs_background": "light"
          }
        }
      ]
    },
    {
      "cell_type": "code",
      "metadata": {
        "id": "_hFA0tM9LAgw",
        "colab_type": "code",
        "colab": {
          "base_uri": "https://localhost:8080/",
          "height": 293
        },
        "outputId": "539394f7-e7d5-4877-9d5f-feb54e795643"
      },
      "source": [
        "df_all_15.Total_review_P.hist()"
      ],
      "execution_count": 26,
      "outputs": [
        {
          "output_type": "execute_result",
          "data": {
            "text/plain": [
              "<matplotlib.axes._subplots.AxesSubplot at 0x7f56e23a3908>"
            ]
          },
          "metadata": {
            "tags": []
          },
          "execution_count": 26
        },
        {
          "output_type": "display_data",
          "data": {
            "image/png": "[encoded data removed]",
            "text/plain": [
              "<Figure size 432x288 with 1 Axes>"
            ]
          },
          "metadata": {
            "tags": [],
            "needs_background": "light"
          }
        }
      ]
    },
    {
      "cell_type": "code",
      "metadata": {
        "id": "7UMIxUnBZUH4",
        "colab_type": "code",
        "colab": {
          "base_uri": "https://localhost:8080/",
          "height": 85
        },
        "outputId": "342c6274-8f06-4a86-fca0-b6b8a2523dcd"
      },
      "source": [
        "print(\"25% of total number of products\")\n",
        "print(df_all_15.Total_review_P.quantile(q=.97))\n",
        "\n",
        "print(\"25% of total number of customers\")\n",
        "print(df_all_15.Total_review_C.quantile(q=.99))"
      ],
      "execution_count": 126,
      "outputs": [
        {
          "output_type": "stream",
          "text": [
            "25% of total number of products\n",
            "4058.0\n",
            "25% of total number of customers\n",
            "34.0\n"
          ],
          "name": "stdout"
        }
      ]
    },
    {
      "cell_type": "code",
      "metadata": {
        "id": "Bd4dpvQfaAOf",
        "colab_type": "code",
        "colab": {}
      },
      "source": [
        "df_all_re = df_all_15[(df_all_15['Total_review_P']>4000) | (df_all_15['Total_review_C']>35)]"
      ],
      "execution_count": 127,
      "outputs": []
    },
    {
      "cell_type": "code",
      "metadata": {
        "id": "WrGkghTAOgp0",
        "colab_type": "code",
        "colab": {
          "base_uri": "https://localhost:8080/",
          "height": 34
        },
        "outputId": "1b61215c-76bc-4135-af35-c0588761090d"
      },
      "source": [
        "df_all_re.shape"
      ],
      "execution_count": 128,
      "outputs": [
        {
          "output_type": "execute_result",
          "data": {
            "text/plain": [
              "(398916, 33)"
            ]
          },
          "metadata": {
            "tags": []
          },
          "execution_count": 128
        }
      ]
    },
    {
      "cell_type": "code",
      "metadata": {
        "id": "VIrRUtW8NeDk",
        "colab_type": "code",
        "colab": {}
      },
      "source": [
        "df_item_100 = df_all_re.groupby('asin').agg(Total_review_P=('reviewerID', 'count')).reset_index()"
      ],
      "execution_count": 129,
      "outputs": []
    },
    {
      "cell_type": "code",
      "metadata": {
        "id": "03dF-Z9HNv2Z",
        "colab_type": "code",
        "colab": {
          "base_uri": "https://localhost:8080/",
          "height": 34
        },
        "outputId": "110e0c25-f96d-42dc-ffa4-8f708e59bab4"
      },
      "source": [
        "df_item_100.shape"
      ],
      "execution_count": 130,
      "outputs": [
        {
          "output_type": "execute_result",
          "data": {
            "text/plain": [
              "(39678, 2)"
            ]
          },
          "metadata": {
            "tags": []
          },
          "execution_count": 130
        }
      ]
    },
    {
      "cell_type": "code",
      "metadata": {
        "id": "mKfNItvOPRGX",
        "colab_type": "code",
        "colab": {}
      },
      "source": [
        "df_review_100 = df_all_re.groupby('reviewerID').agg(Total_review_P=('asin', 'count')).reset_index()"
      ],
      "execution_count": 131,
      "outputs": []
    },
    {
      "cell_type": "code",
      "metadata": {
        "id": "wWpE-PTtgEr4",
        "colab_type": "code",
        "colab": {
          "base_uri": "https://localhost:8080/",
          "height": 34
        },
        "outputId": "ad38ebcf-0d26-4ea7-fc7e-12312e91f871"
      },
      "source": [
        "df_review_100.shape"
      ],
      "execution_count": 132,
      "outputs": [
        {
          "output_type": "execute_result",
          "data": {
            "text/plain": [
              "(247054, 2)"
            ]
          },
          "metadata": {
            "tags": []
          },
          "execution_count": 132
        }
      ]
    },
    {
      "cell_type": "code",
      "metadata": {
        "id": "NlhBtY0ujN8T",
        "colab_type": "code",
        "colab": {}
      },
      "source": [
        "df_all.to_csv('/content/drive/My Drive/Datasets/df_all.csv')"
      ],
      "execution_count": 135,
      "outputs": []
    },
    {
      "cell_type": "code",
      "metadata": {
        "id": "-Way9H9ZiwDt",
        "colab_type": "code",
        "colab": {}
      },
      "source": [
        "df_all_re.to_csv('/content/drive/My Drive/Datasets/df_all_15.csv')"
      ],
      "execution_count": 134,
      "outputs": []
    },
    {
      "cell_type": "markdown",
      "metadata": {
        "id": "nO4aovH0p63u",
        "colab_type": "text"
      },
      "source": [
        "## Reload dataset to erase the RAM"
      ]
    },
    {
      "cell_type": "code",
      "metadata": {
        "id": "Ri680FKup5zt",
        "colab_type": "code",
        "colab": {
          "base_uri": "https://localhost:8080/",
          "height": 71
        },
        "outputId": "1649181d-4537-46ab-f721-17d9c92201ba"
      },
      "source": [
        "df_all_15 = pd.read_csv(\"/content/drive/My Drive/Datasets/df_all_15.csv\")"
      ],
      "execution_count": null,
      "outputs": [
        {
          "output_type": "stream",
          "text": [
            "/usr/local/lib/python3.6/dist-packages/IPython/core/interactiveshell.py:2718: DtypeWarning: Columns (9,29) have mixed types.Specify dtype option on import or set low_memory=False.\n",
            "  interactivity=interactivity, compiler=compiler, result=result)\n"
          ],
          "name": "stderr"
        }
      ]
    },
    {
      "cell_type": "code",
      "metadata": {
        "id": "tsZKvoQ7sLTQ",
        "colab_type": "code",
        "colab": {}
      },
      "source": [
        "df_all_15.drop(['Unnamed: 0','tech1', 'tech2','Unnamed: 0_x','fit','similar_item','date','details','Unnamed: 0_y','reviewTime','vote','image_y'], axis=1,inplace=True)"
      ],
      "execution_count": null,
      "outputs": []
    },
    {
      "cell_type": "code",
      "metadata": {
        "id": "WmrPmL2VwhqR",
        "colab_type": "code",
        "colab": {
          "base_uri": "https://localhost:8080/",
          "height": 301
        },
        "outputId": "4241b4a6-ebaa-4b15-b390-765b84bf0fb9"
      },
      "source": [
        "df_all_15.head(2)"
      ],
      "execution_count": null,
      "outputs": [
        {
          "output_type": "execute_result",
          "data": {
            "text/html": [
              "<div>\n",
              "<style scoped>\n",
              "    .dataframe tbody tr th:only-of-type {\n",
              "        vertical-align: middle;\n",
              "    }\n",
              "\n",
              "    .dataframe tbody tr th {\n",
              "        vertical-align: top;\n",
              "    }\n",
              "\n",
              "    .dataframe thead th {\n",
              "        text-align: right;\n",
              "    }\n",
              "</style>\n",
              "<table border=\"1\" class=\"dataframe\">\n",
              "  <thead>\n",
              "    <tr style=\"text-align: right;\">\n",
              "      <th></th>\n",
              "      <th>category</th>\n",
              "      <th>description</th>\n",
              "      <th>title</th>\n",
              "      <th>also_buy</th>\n",
              "      <th>image_x</th>\n",
              "      <th>brand</th>\n",
              "      <th>feature</th>\n",
              "      <th>rank</th>\n",
              "      <th>also_view</th>\n",
              "      <th>main_cat</th>\n",
              "      <th>price</th>\n",
              "      <th>asin</th>\n",
              "      <th>overall</th>\n",
              "      <th>verified</th>\n",
              "      <th>reviewerID</th>\n",
              "      <th>reviewerName</th>\n",
              "      <th>reviewText</th>\n",
              "      <th>summary</th>\n",
              "      <th>unixReviewTime</th>\n",
              "      <th>style</th>\n",
              "      <th>Total_review_C</th>\n",
              "      <th>Total_review_P</th>\n",
              "    </tr>\n",
              "  </thead>\n",
              "  <tbody>\n",
              "    <tr>\n",
              "      <th>0</th>\n",
              "      <td>['Sports &amp; Outdoors', 'Outdoor Recreation', 'C...</td>\n",
              "      <td>['Find your way through New York while hitting...</td>\n",
              "      <td>Delorme New York State Atlas &amp;amp; Gazetteer</td>\n",
              "      <td>['0899334415', '0899334431', '0899333419', '08...</td>\n",
              "      <td>['https://images-na.ssl-images-amazon.com/imag...</td>\n",
              "      <td>Garmin</td>\n",
              "      <td>['Amazingly detailed and beautifully crafted, ...</td>\n",
              "      <td>121,074 in Office Products (</td>\n",
              "      <td>['0528881922', '1569145792', '0899334431', '08...</td>\n",
              "      <td>Office Products</td>\n",
              "      <td>$19.95</td>\n",
              "      <td>0899332757</td>\n",
              "      <td>5.0</td>\n",
              "      <td>False</td>\n",
              "      <td>A1LACH6MLQWZ</td>\n",
              "      <td>Doug Erlandson</td>\n",
              "      <td>If you're interested in exploring any area of ...</td>\n",
              "      <td>Great for exploring the rural parts of the state</td>\n",
              "      <td>1470009600</td>\n",
              "      <td>{'Format:': ' Paperback'}</td>\n",
              "      <td>23</td>\n",
              "      <td>94</td>\n",
              "    </tr>\n",
              "    <tr>\n",
              "      <th>1</th>\n",
              "      <td>['Sports &amp; Outdoors', 'Outdoor Recreation', 'C...</td>\n",
              "      <td>['Find your way through New York while hitting...</td>\n",
              "      <td>Delorme New York State Atlas &amp;amp; Gazetteer</td>\n",
              "      <td>['0899334415', '0899334431', '0899333419', '08...</td>\n",
              "      <td>['https://images-na.ssl-images-amazon.com/imag...</td>\n",
              "      <td>Garmin</td>\n",
              "      <td>['Amazingly detailed and beautifully crafted, ...</td>\n",
              "      <td>121,074 in Office Products (</td>\n",
              "      <td>['0528881922', '1569145792', '0899334431', '08...</td>\n",
              "      <td>Office Products</td>\n",
              "      <td>$19.95</td>\n",
              "      <td>0899332757</td>\n",
              "      <td>4.0</td>\n",
              "      <td>True</td>\n",
              "      <td>A2LBF5LI09BS8Z</td>\n",
              "      <td>JOHN DE BELLAS</td>\n",
              "      <td>Wonderful, comprehensive atlas.  It's a little...</td>\n",
              "      <td>Four Stars</td>\n",
              "      <td>1438646400</td>\n",
              "      <td>{'Format:': ' Paperback'}</td>\n",
              "      <td>18</td>\n",
              "      <td>94</td>\n",
              "    </tr>\n",
              "  </tbody>\n",
              "</table>\n",
              "</div>"
            ],
            "text/plain": [
              "                                            category  ... Total_review_P\n",
              "0  ['Sports & Outdoors', 'Outdoor Recreation', 'C...  ...             94\n",
              "1  ['Sports & Outdoors', 'Outdoor Recreation', 'C...  ...             94\n",
              "\n",
              "[2 rows x 22 columns]"
            ]
          },
          "metadata": {
            "tags": []
          },
          "execution_count": 9
        }
      ]
    }
  ]
}