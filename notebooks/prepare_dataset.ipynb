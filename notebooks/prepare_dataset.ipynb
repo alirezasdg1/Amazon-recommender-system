{
  "nbformat": 4,
  "nbformat_minor": 0,
  "metadata": {
    "colab": {
      "name": "prepare_dataset.ipynb",
      "provenance": [],
      "collapsed_sections": [],
      "machine_shape": "hm",
      "include_colab_link": true
    },
    "kernelspec": {
      "name": "python3",
      "display_name": "Python 3"
    },
    "accelerator": "TPU"
  },
  "cells": [
    {
      "cell_type": "markdown",
      "metadata": {
        "id": "view-in-github",
        "colab_type": "text"
      },
      "source": [
        "<a href=\"https://colab.research.google.com/github/alirezasdg1/Amazon-recommender-system/blob/master/notebooks/prepare_dataset.ipynb\" target=\"_parent\"><img src=\"https://colab.research.google.com/assets/colab-badge.svg\" alt=\"Open In Colab\"/></a>"
      ]
    },
    {
      "cell_type": "markdown",
      "metadata": {
        "id": "EJucYMN8hnse",
        "colab_type": "text"
      },
      "source": [
        "## Preprocess the datasets\n",
        "\n",
        "First I downlaod the dataset and prepare them for furthure analyses.\n"
      ]
    },
    {
      "cell_type": "code",
      "metadata": {
        "id": "f5NDXrN2CtH7",
        "colab_type": "code",
        "colab": {}
      },
      "source": [
        "import os\n",
        "import json\n",
        "import gzip\n",
        "import pandas as pd\n",
        "from urllib.request import urlopen\n",
        "from google.colab import files\n",
        "import numpy as np"
      ],
      "execution_count": 14,
      "outputs": []
    },
    {
      "cell_type": "markdown",
      "metadata": {
        "id": "0PR7v9wriHdU",
        "colab_type": "text"
      },
      "source": [
        "Dataset for the products"
      ]
    },
    {
      "cell_type": "code",
      "metadata": {
        "id": "feWoOrmt4Tja",
        "colab_type": "code",
        "colab": {
          "base_uri": "https://localhost:8080/",
          "height": 204
        },
        "outputId": "bc5307ee-cb23-454e-8665-6f6b2a15672a"
      },
      "source": [
        "!wget http://deepyeti.ucsd.edu/jianmo/amazon/metaFiles/meta_Sports_and_Outdoors.json.gz"
      ],
      "execution_count": 3,
      "outputs": [
        {
          "output_type": "stream",
          "text": [
            "--2020-09-14 17:10:05--  http://deepyeti.ucsd.edu/jianmo/amazon/metaFiles/meta_Sports_and_Outdoors.json.gz\n",
            "Resolving deepyeti.ucsd.edu (deepyeti.ucsd.edu)... 169.228.63.50\n",
            "Connecting to deepyeti.ucsd.edu (deepyeti.ucsd.edu)|169.228.63.50|:80... connected.\n",
            "HTTP request sent, awaiting response... 200 OK\n",
            "Length: 512767929 (489M) [application/octet-stream]\n",
            "Saving to: ‘meta_Sports_and_Outdoors.json.gz’\n",
            "\n",
            "meta_Sports_and_Out 100%[===================>] 489.01M  55.4MB/s    in 9.1s    \n",
            "\n",
            "2020-09-14 17:10:14 (53.7 MB/s) - ‘meta_Sports_and_Outdoors.json.gz’ saved [512767929/512767929]\n",
            "\n"
          ],
          "name": "stdout"
        }
      ]
    },
    {
      "cell_type": "code",
      "metadata": {
        "id": "7igYuRaV4bF7",
        "colab_type": "code",
        "colab": {
          "base_uri": "https://localhost:8080/",
          "height": 71
        },
        "outputId": "0247291f-5d82-4b27-8949-c927ea064f87"
      },
      "source": [
        "### load the meta data\n",
        "\n",
        "data = []\n",
        "with gzip.open(\"meta_Sports_and_Outdoors.json.gz\") as f:\n",
        "    for l in f:\n",
        "        data.append(json.loads(l.strip()))\n",
        "    \n",
        "# total length of list, this number equals total number of products\n",
        "print(len(data))\n",
        "\n",
        "# first row of the list\n",
        "print(data[0])"
      ],
      "execution_count": 4,
      "outputs": [
        {
          "output_type": "stream",
          "text": [
            "962300\n",
            "{'category': ['Sports & Outdoors', 'Sports & Fitness', 'Other Sports', 'Dance', 'Clothing'], 'tech1': '', 'description': ['3 layers of super-soft polyester tulle can be cut to length. Satin covered stretch elastic waist gives a one size fits all most.'], 'fit': '', 'title': 'Adult Tutu Assorted Colors (Turquoise)', 'also_buy': [], 'image': [], 'tech2': '', 'brand': 'BubuBibi', 'feature': ['3 Layers - 100% Polyester Tulle, Hand Wash Lay FLat to Dry', '100% Polyester', 'FIT: most Kids. Teens . Adults *Please Check Measurements for Proper Fit', 'WAIST: Satin Covered Elastic 18\" relaxed to 36\" fully stretched', 'LENGTH: 16\" to 17\" *can easily be cut to desired length without worry of fraying or unraveling', 'You can return this item for any reason and get a full refund: no shipping charges. The item must be returned in new and unused condition.', '<a id=\"creturns-policy-url-text-pc\" class=\"a-link-normal\" href=\"/b/ref=frt_dp_sm?ie=UTF8&node=8622296011\">\\n                        Read the full returns policy\\n                    </a>', 'Go to Your Orders to start the return', 'Print the return shipping label', 'Ship it!', '<span class=\"a-text-bold\">Product Dimensions:\\n                    </span>\\n                    <span>11 x 8.1 x 1.6 inches</span>', '<span class=\"a-text-bold\">Shipping Weight:\\n                    </span>\\n                    <span>6.4 ounces (<a href=\\'https://www.amazon.com/gp/help/seller/shipping.html/ref=dp_pd_shipping?_encoding=UTF8&amp;seller=ATVPDKIKX0DER&amp;asin=0000032042\\'>View shipping rates and policies</a>)</span>', '<span class=\"a-text-bold\">ASIN:\\n                    </span>\\n                    <span>0000032042</span>', '', '<span class=\"a-text-bold\">Date first listed on Amazon:\\n                    </span>\\n                    <span>May 25, 2013</span>', '<span class=\"a-text-bold\">\\n                    Average Customer Review:\\n                </span>\\n                \\n\\n\\n\\n\\n<style type=\"text/css\">\\n    /* \\n    * Fix for UDP-1061. Average customer reviews has a small extra line on hover \\n    * https://omni-grok.amazon.com/xref/src/appgroup/websiteTemplates/retail/SoftlinesDetailPageAssets/udp-intl-lock/src/legacy.css?indexName=WebsiteTemplates#40\\n    */\\n    .noUnderline a:hover { \\n        text-decoration: none; \\n    }\\n</style>\\n\\n\\n\\n    \\n    \\n    \\n    \\n        \\n\\n        \\n\\n        \\n        \\n        \\n        \\n\\t\\t\\n\\t\\t\\n\\t\\t\\n\\t\\t\\n\\t\\t        \\n\\t\\t\\n\\t\\t\\n\\t\\t\\n\\t\\t\\n\\t\\t\\n\\t\\t\\n\\t\\t\\n\\t\\t        \\n        \\n\\n        <div id=\"detailBullets_averageCustomerReviews\" class=\"a-spacing-none\" data-asin=\"0000032042\" data-ref=\"dpx_acr_pop_\" >\\n            \\n            \\n            \\n                \\n                \\n                    \\n\\n\\n\\n\\n\\n\\n\\n\\n\\n\\n        <span class=\"a-declarative\" data-action=\"acrStarsLink-click-metrics\" data-acrStarsLink-click-metrics=\"{}\">\\n            \\n\\n\\n\\n\\n\\n    <span id=\"acrPopover\" class=\"reviewCountTextLinkedHistogram noUnderline\" title=\"3.4 out of 5 stars\">\\n        <span class=\"a-declarative\" data-action=\"a-popover\" data-a-popover=\"{&quot;max-width&quot;:&quot;700&quot;,&quot;closeButton&quot;:&quot;false&quot;,&quot;position&quot;:&quot;triggerBottom&quot;,&quot;url&quot;:&quot;/gp/customer-reviews/widgets/average-customer-review/popover/ref=dpx_acr_pop_?contextId=dpx&amp;asin=0000032042&quot;}\">\\n            <a href=\"javascript:void(0)\" class=\"a-popover-trigger a-declarative\">\\n                \\n\\n<i class=\"a-icon a-icon-star a-star-3-5\"><span class=\"a-icon-alt\">3.4 out of 5 stars</span></i>\\n                \\n            <i class=\"a-icon a-icon-popover\"></i></a>\\n        </span>\\n        <span class=\"a-letter-space\"></span>\\n    </span>\\n\\n\\n        </span>\\n        <span class=\"a-letter-space\"></span>\\n        \\n        \\n\\n        \\n\\n        \\n\\n        \\n        \\n        \\n        \\n        \\n        \\n        \\n            \\n            \\n                <span class=\"a-declarative\" data-action=\"acrLink-click-metrics\" data-acrLink-click-metrics=\"{}\">\\n                    <a id=\"acrCustomerReviewLink\" class=\"a-link-normal\" href=\"#customerReviews\">\\n                        <span id=\"acrCustomerReviewText\" class=\"a-size-base\">8 customer reviews</span>\\n                    </a>\\n                </span>\\n            \\n                <script type=\"text/javascript\">\\n                    P.when(\\'A\\', \\'ready\\').execute(function(A) {\\n                        A.declarative(\\'acrLink-click-metrics\\', \\'click\\', { \"allowLinkDefault\" : true }, function(event){\\n                            if(window.ue) {\\n                                ue.count(\"acrLinkClickCount\", (ue.count(\"acrLinkClickCount\") || 0) + 1);\\n                            }\\n                        });\\n                    });\\n                </script>\\n            \\n            \\n            \\n            \\n        \\n        \\n        <script type=\"text/javascript\">\\n            P.when(\\'A\\', \\'cf\\').execute(function(A) {\\n                A.declarative(\\'acrStarsLink-click-metrics\\', \\'click\\', { \"allowLinkDefault\" : true },  function(event){\\n                    if(window.ue) {\\n                        ue.count(\"acrStarsLinkWithPopoverClickCount\", (ue.count(\"acrStarsLinkWithPopoverClickCount\") || 0) + 1);\\n                    }\\n                });\\n            });\\n        </script>\\n\\n\\n                \\n            \\n        </div>'], 'rank': '712,899 in Clothing, Shoes & Jewelry (', 'also_view': ['B071LQWQBQ', 'B00M14DG0O', 'B076GTTY9W', 'B07BSZ4GYZ', 'B07CJWWMQW', 'B074DQJMYT', 'B002BZX8Z6', 'B07CPV7P5B', 'B01M0BIP9H', 'B07C9T6L8D', 'B07FQ3QG5G', 'B0717BCCGP', 'B01M0N9TCF', 'B01B8L258E', 'B06XBG5JZP', 'B0764FVL5D', 'B06XSMMGCR', 'B00VXJHFRS', 'B07C29WWV1', 'B00YAA2OIM', 'B01N9FPI8L', 'B07C59B19B', 'B01MAXSJRI', 'B075LDMYQX', 'B00HWF7KL8', 'B010CO0TKE', 'B07BS6BB44', 'B0787MGP57', 'B01KBX2SP0', 'B00BEU1PB8', 'B01N1TUL0J', 'B017IIKQSW', 'B071HB7YR6', 'B0774B3TPN', 'B005C4Y4F6', 'B071DZB539', 'B01LZ469DF', 'B009THXHPA', 'B078WPG8V6', 'B00TGDCFJQ', 'B07BVDXLS3', 'B06Y637BFS', 'B07GXKD7DZ', 'B002DMK3NC', 'B07BJ9GF9Q', 'B01B8L18IW', 'B07DWNBRXP', 'B01N9569M8', 'B078NTTW5C', 'B075WR53KQ', 'B07BVN9Q2X', 'B00BEU1HFM', 'B07FSL41RK', 'B07G5RFWV2', 'B01D4LH2L6', 'B07DFPBZBW', 'B00WTGV0O8', 'B00KOGJDSA', 'B01CO5M30I'], 'main_cat': '<img src=\"https://images-na.ssl-images-amazon.com/images/G/01/nav2/images/gui/amazon-fashion-store-new._CB520838675_.png\" class=\"nav-categ-image\" alt=\"AMAZON FASHION\"/>', 'similar_item': '', 'date': '<div class=\"a-fixed-left-grid a-spacing-none\"><div class=\"a-fixed-left-grid-inner\" style=\"padding-left:280px\"><div class=\"a-fixed-left-grid-col a-col-left\" style=\"width:280px;margin-left:-280px;float:left;\"><span class=\"a-declarative\" data-action=\"reviews:filter-action:push-state\" data-reviews:filter-action:push-state=\"{&quot;scrollToSelector&quot;:&quot;#reviews-filter-info&quot;,&quot;allowLinkDefault&quot;:&quot;1&quot;}\"><table id=\"histogramTable\" class=\"a-normal a-align-middle a-spacing-base\" role=\"presentation\"><tr data-reftag=\"cm_cr_dp_d_hist_5\" data-reviews-state-param=\"{&quot;filterByStar&quot;:&quot;five_star&quot;,&quot;pageNumber&quot;:&quot;1&quot;}\" class=\"a-histogram-row\"><td class=\"aok-nowrap\"><a aria-label=\"5 star (63%)\" class=\"a-size-base a-link-normal 5star\" title=\"5 star\" href=\"/Adult-Tutu-Assorted-Colors-Turquoise/product-reviews/0000032042/ref=cm_cr_dp_d_hist_5?ie=UTF8&amp;filterByStar=five_star&amp;reviewerType=all_reviews#reviews-filter-bar\">5 star</a><span class=\"a-letter-space\"></span>', 'price': '$11.80', 'asin': '0000032042'}\n"
          ],
          "name": "stdout"
        }
      ]
    },
    {
      "cell_type": "code",
      "metadata": {
        "id": "knpHP22w4scK",
        "colab_type": "code",
        "colab": {
          "base_uri": "https://localhost:8080/",
          "height": 34
        },
        "outputId": "9bd24c1f-e2dc-4d44-ec15-99f70c29ee7c"
      },
      "source": [
        "# convert list into pandas dataframe\n",
        "\n",
        "df_products = pd.DataFrame.from_dict(data)\n",
        "\n",
        "print(len(df_products))"
      ],
      "execution_count": 5,
      "outputs": [
        {
          "output_type": "stream",
          "text": [
            "962300\n"
          ],
          "name": "stdout"
        }
      ]
    },
    {
      "cell_type": "markdown",
      "metadata": {
        "id": "vqJOXLjlJg4b",
        "colab_type": "text"
      },
      "source": [
        "# Product dataframe"
      ]
    },
    {
      "cell_type": "code",
      "metadata": {
        "id": "vVB-gwBkHpWX",
        "colab_type": "code",
        "colab": {
          "base_uri": "https://localhost:8080/",
          "height": 85
        },
        "outputId": "189e3850-c202-4453-cdda-3a02b293c79c"
      },
      "source": [
        "df_products.columns"
      ],
      "execution_count": 6,
      "outputs": [
        {
          "output_type": "execute_result",
          "data": {
            "text/plain": [
              "Index(['category', 'tech1', 'description', 'fit', 'title', 'also_buy', 'image',\n",
              "       'tech2', 'brand', 'feature', 'rank', 'also_view', 'main_cat',\n",
              "       'similar_item', 'date', 'price', 'asin', 'details'],\n",
              "      dtype='object')"
            ]
          },
          "metadata": {
            "tags": []
          },
          "execution_count": 6
        }
      ]
    },
    {
      "cell_type": "code",
      "metadata": {
        "id": "L4rEQmVRDAlc",
        "colab_type": "code",
        "colab": {
          "base_uri": "https://localhost:8080/",
          "height": 700
        },
        "outputId": "b5d4fbab-9e64-4e52-b1ed-874da2c4be7a"
      },
      "source": [
        "df_products.head()"
      ],
      "execution_count": 7,
      "outputs": [
        {
          "output_type": "execute_result",
          "data": {
            "text/html": [
              "<div>\n",
              "<style scoped>\n",
              "    .dataframe tbody tr th:only-of-type {\n",
              "        vertical-align: middle;\n",
              "    }\n",
              "\n",
              "    .dataframe tbody tr th {\n",
              "        vertical-align: top;\n",
              "    }\n",
              "\n",
              "    .dataframe thead th {\n",
              "        text-align: right;\n",
              "    }\n",
              "</style>\n",
              "<table border=\"1\" class=\"dataframe\">\n",
              "  <thead>\n",
              "    <tr style=\"text-align: right;\">\n",
              "      <th></th>\n",
              "      <th>category</th>\n",
              "      <th>tech1</th>\n",
              "      <th>description</th>\n",
              "      <th>fit</th>\n",
              "      <th>title</th>\n",
              "      <th>also_buy</th>\n",
              "      <th>image</th>\n",
              "      <th>tech2</th>\n",
              "      <th>brand</th>\n",
              "      <th>feature</th>\n",
              "      <th>rank</th>\n",
              "      <th>also_view</th>\n",
              "      <th>main_cat</th>\n",
              "      <th>similar_item</th>\n",
              "      <th>date</th>\n",
              "      <th>price</th>\n",
              "      <th>asin</th>\n",
              "      <th>details</th>\n",
              "    </tr>\n",
              "  </thead>\n",
              "  <tbody>\n",
              "    <tr>\n",
              "      <th>0</th>\n",
              "      <td>[Sports &amp; Outdoors, Sports &amp; Fitness, Other Sp...</td>\n",
              "      <td></td>\n",
              "      <td>[3 layers of super-soft polyester tulle can be...</td>\n",
              "      <td></td>\n",
              "      <td>Adult Tutu Assorted Colors (Turquoise)</td>\n",
              "      <td>[]</td>\n",
              "      <td>[]</td>\n",
              "      <td></td>\n",
              "      <td>BubuBibi</td>\n",
              "      <td>[3 Layers - 100% Polyester Tulle, Hand Wash La...</td>\n",
              "      <td>712,899 in Clothing, Shoes &amp; Jewelry (</td>\n",
              "      <td>[B071LQWQBQ, B00M14DG0O, B076GTTY9W, B07BSZ4GY...</td>\n",
              "      <td>&lt;img src=\"https://images-na.ssl-images-amazon....</td>\n",
              "      <td></td>\n",
              "      <td>&lt;div class=\"a-fixed-left-grid a-spacing-none\"&gt;...</td>\n",
              "      <td>$11.80</td>\n",
              "      <td>0000032042</td>\n",
              "      <td>NaN</td>\n",
              "    </tr>\n",
              "    <tr>\n",
              "      <th>1</th>\n",
              "      <td>[Sports &amp; Outdoors, Sports &amp; Fitness, Other Sp...</td>\n",
              "      <td></td>\n",
              "      <td>[3 layers of super-soft polyester tulle can be...</td>\n",
              "      <td></td>\n",
              "      <td>Bububibi Adult Ballet Tutu Cheetah Pink</td>\n",
              "      <td>[]</td>\n",
              "      <td>[]</td>\n",
              "      <td></td>\n",
              "      <td>BubuBibi</td>\n",
              "      <td>[3 Layers - 100% Polyester Tulle, Hand Wash La...</td>\n",
              "      <td>712,899 in Clothing, Shoes &amp; Jewelry (</td>\n",
              "      <td>[]</td>\n",
              "      <td>&lt;img src=\"https://images-na.ssl-images-amazon....</td>\n",
              "      <td></td>\n",
              "      <td>&lt;div class=\"a-fixed-left-grid a-spacing-none\"&gt;...</td>\n",
              "      <td>$11.97</td>\n",
              "      <td>0000032069</td>\n",
              "      <td>NaN</td>\n",
              "    </tr>\n",
              "    <tr>\n",
              "      <th>2</th>\n",
              "      <td>[Sports &amp; Outdoors, Sports &amp; Fitness, Other Sp...</td>\n",
              "      <td></td>\n",
              "      <td>[3 layers of super-soft polyester tulle can be...</td>\n",
              "      <td></td>\n",
              "      <td>Girls Ballet Tutu Neon Orange</td>\n",
              "      <td>[B01MYHD3LV]</td>\n",
              "      <td>[]</td>\n",
              "      <td></td>\n",
              "      <td>Unknown</td>\n",
              "      <td>[3 Layers - 100% Polyester Tulle, Hand Wash La...</td>\n",
              "      <td>[&gt;#924,198 in Toys &amp; Games (See Top 100 in Toy...</td>\n",
              "      <td>[B0152HBC52, B07C29WWV1, B01M0BIP9H, B00VXJHFR...</td>\n",
              "      <td>Toys &amp; Games</td>\n",
              "      <td></td>\n",
              "      <td></td>\n",
              "      <td>$5.70</td>\n",
              "      <td>0000031860</td>\n",
              "      <td>NaN</td>\n",
              "    </tr>\n",
              "    <tr>\n",
              "      <th>3</th>\n",
              "      <td>[Sports &amp; Outdoors, Sports &amp; Fitness, Other Sp...</td>\n",
              "      <td></td>\n",
              "      <td>[TUtu]</td>\n",
              "      <td></td>\n",
              "      <td>Girls Ballet Tutu Zebra Hot Pink</td>\n",
              "      <td>[]</td>\n",
              "      <td>[]</td>\n",
              "      <td></td>\n",
              "      <td>Tutu</td>\n",
              "      <td>[Tutu]</td>\n",
              "      <td>1,314,199 in Sports &amp; Outdoors (</td>\n",
              "      <td>[0000013714]</td>\n",
              "      <td>Sports &amp; Outdoors</td>\n",
              "      <td></td>\n",
              "      <td></td>\n",
              "      <td>$7.50</td>\n",
              "      <td>0000031852</td>\n",
              "      <td>NaN</td>\n",
              "    </tr>\n",
              "    <tr>\n",
              "      <th>4</th>\n",
              "      <td>[Sports &amp; Outdoors, Sports &amp; Fitness, Other Sp...</td>\n",
              "      <td></td>\n",
              "      <td>[Dance tutu for girls ages 2-8 years. Perfect ...</td>\n",
              "      <td></td>\n",
              "      <td>Girls Ballet Tutu Neon Blue</td>\n",
              "      <td>[B009THXHPA, B00BEU1ZBI, B079PYLZTM, B00BEU1ZR...</td>\n",
              "      <td>[]</td>\n",
              "      <td></td>\n",
              "      <td>Bububibi</td>\n",
              "      <td>[3 Layers - 100% Polyester Tulle, Hand Wash La...</td>\n",
              "      <td>[&gt;#393,597 in Toys &amp; Games (See Top 100 in Toy...</td>\n",
              "      <td>[B009THXHPA, B079PYLZTM, B079PQPLT3, B00UP6A3R...</td>\n",
              "      <td>Toys &amp; Games</td>\n",
              "      <td></td>\n",
              "      <td></td>\n",
              "      <td>$6.54</td>\n",
              "      <td>0000031895</td>\n",
              "      <td>NaN</td>\n",
              "    </tr>\n",
              "  </tbody>\n",
              "</table>\n",
              "</div>"
            ],
            "text/plain": [
              "                                            category tech1  ...        asin details\n",
              "0  [Sports & Outdoors, Sports & Fitness, Other Sp...        ...  0000032042     NaN\n",
              "1  [Sports & Outdoors, Sports & Fitness, Other Sp...        ...  0000032069     NaN\n",
              "2  [Sports & Outdoors, Sports & Fitness, Other Sp...        ...  0000031860     NaN\n",
              "3  [Sports & Outdoors, Sports & Fitness, Other Sp...        ...  0000031852     NaN\n",
              "4  [Sports & Outdoors, Sports & Fitness, Other Sp...        ...  0000031895     NaN\n",
              "\n",
              "[5 rows x 18 columns]"
            ]
          },
          "metadata": {
            "tags": []
          },
          "execution_count": 7
        }
      ]
    },
    {
      "cell_type": "code",
      "metadata": {
        "id": "aE6LSWnfpzux",
        "colab_type": "code",
        "colab": {}
      },
      "source": [
        "df_products.to_csv('df_products.csv')"
      ],
      "execution_count": 13,
      "outputs": []
    },
    {
      "cell_type": "code",
      "metadata": {
        "id": "Fr1AV6DopmJ5",
        "colab_type": "code",
        "colab": {
          "base_uri": "https://localhost:8080/",
          "height": 17
        },
        "outputId": "df89b2ba-b6cb-4637-a20f-4d886b025f24"
      },
      "source": [
        "files.download(\"df_products.csv\")"
      ],
      "execution_count": 15,
      "outputs": [
        {
          "output_type": "display_data",
          "data": {
            "application/javascript": [
              "\n",
              "    async function download(id, filename, size) {\n",
              "      if (!google.colab.kernel.accessAllowed) {\n",
              "        return;\n",
              "      }\n",
              "      const div = document.createElement('div');\n",
              "      const label = document.createElement('label');\n",
              "      label.textContent = `Downloading \"${filename}\": `;\n",
              "      div.appendChild(label);\n",
              "      const progress = document.createElement('progress');\n",
              "      progress.max = size;\n",
              "      div.appendChild(progress);\n",
              "      document.body.appendChild(div);\n",
              "\n",
              "      const buffers = [];\n",
              "      let downloaded = 0;\n",
              "\n",
              "      const channel = await google.colab.kernel.comms.open(id);\n",
              "      // Send a message to notify the kernel that we're ready.\n",
              "      channel.send({})\n",
              "\n",
              "      for await (const message of channel.messages) {\n",
              "        // Send a message to notify the kernel that we're ready.\n",
              "        channel.send({})\n",
              "        if (message.buffers) {\n",
              "          for (const buffer of message.buffers) {\n",
              "            buffers.push(buffer);\n",
              "            downloaded += buffer.byteLength;\n",
              "            progress.value = downloaded;\n",
              "          }\n",
              "        }\n",
              "      }\n",
              "      const blob = new Blob(buffers, {type: 'application/binary'});\n",
              "      const a = document.createElement('a');\n",
              "      a.href = window.URL.createObjectURL(blob);\n",
              "      a.download = filename;\n",
              "      div.appendChild(a);\n",
              "      a.click();\n",
              "      div.remove();\n",
              "    }\n",
              "  "
            ],
            "text/plain": [
              "<IPython.core.display.Javascript object>"
            ]
          },
          "metadata": {
            "tags": []
          }
        },
        {
          "output_type": "display_data",
          "data": {
            "application/javascript": [
              "download(\"download_770c95d6-538d-416b-8b0f-9aa702581f2d\", \"df_products.csv\", 2776789110)"
            ],
            "text/plain": [
              "<IPython.core.display.Javascript object>"
            ]
          },
          "metadata": {
            "tags": []
          }
        }
      ]
    },
    {
      "cell_type": "code",
      "metadata": {
        "id": "0kZ2N4j6IPHZ",
        "colab_type": "code",
        "colab": {
          "base_uri": "https://localhost:8080/",
          "height": 34
        },
        "outputId": "0a9dccef-44a8-479e-9cee-1d5e498f380f"
      },
      "source": [
        "df_products[df_products.astype(str)['image'] != '[]']"
      ],
      "execution_count": 11,
      "outputs": [
        {
          "output_type": "execute_result",
          "data": {
            "text/plain": [
              "(476483, 18)"
            ]
          },
          "metadata": {
            "tags": []
          },
          "execution_count": 11
        }
      ]
    },
    {
      "cell_type": "markdown",
      "metadata": {
        "id": "LY3FBk6Nuszj",
        "colab_type": "text"
      },
      "source": [
        "## Review data"
      ]
    },
    {
      "cell_type": "code",
      "metadata": {
        "id": "6LBLzsFU5LJ_",
        "colab_type": "code",
        "colab": {
          "base_uri": "https://localhost:8080/",
          "height": 204
        },
        "outputId": "517eca47-e817-4948-88c8-5b2b38645919"
      },
      "source": [
        "!wget http://deepyeti.ucsd.edu/jianmo/amazon/categoryFiles/Sports_and_Outdoors.json.gz"
      ],
      "execution_count": 17,
      "outputs": [
        {
          "output_type": "stream",
          "text": [
            "--2020-09-14 17:54:01--  http://deepyeti.ucsd.edu/jianmo/amazon/categoryFiles/Sports_and_Outdoors.json.gz\n",
            "Resolving deepyeti.ucsd.edu (deepyeti.ucsd.edu)... 169.228.63.50\n",
            "Connecting to deepyeti.ucsd.edu (deepyeti.ucsd.edu)|169.228.63.50|:80... connected.\n",
            "HTTP request sent, awaiting response... 200 OK\n",
            "Length: 1690448337 (1.6G) [application/octet-stream]\n",
            "Saving to: ‘Sports_and_Outdoors.json.gz’\n",
            "\n",
            "Sports_and_Outdoors 100%[===================>]   1.57G  49.7MB/s    in 33s     \n",
            "\n",
            "2020-09-14 17:54:35 (48.9 MB/s) - ‘Sports_and_Outdoors.json.gz’ saved [1690448337/1690448337]\n",
            "\n"
          ],
          "name": "stdout"
        }
      ]
    },
    {
      "cell_type": "code",
      "metadata": {
        "id": "WqZcdGp-5cui",
        "colab_type": "code",
        "colab": {
          "base_uri": "https://localhost:8080/",
          "height": 71
        },
        "outputId": "ffe338e7-e339-4fb8-a0ca-49d4c8853368"
      },
      "source": [
        "data = []\n",
        "with gzip.open('Sports_and_Outdoors.json.gz') as f:\n",
        "    for l in f:\n",
        "        data.append(json.loads(l.strip()))\n",
        "    \n",
        "# total length of list, this number equals total number of products\n",
        "print(len(data))\n",
        "\n",
        "# first row of the list\n",
        "print(data[0])"
      ],
      "execution_count": 18,
      "outputs": [
        {
          "output_type": "stream",
          "text": [
            "12980837\n",
            "{'overall': 5.0, 'verified': False, 'reviewTime': '02 1, 2014', 'reviewerID': 'A23K73OVXJ04EG', 'asin': '0000031895', 'reviewerName': 'Lamb612000', 'reviewText': 'It was as described and fit my 6 year old grand daughter perfectly. She loves to play dress-up and this is a good addition to her wardrobe. I received the item quickly and the packaging was great.', 'summary': 'Neon Blue Tutu', 'unixReviewTime': 1391212800}\n"
          ],
          "name": "stdout"
        }
      ]
    },
    {
      "cell_type": "code",
      "metadata": {
        "id": "LCu4Zan_KBl7",
        "colab_type": "code",
        "colab": {
          "base_uri": "https://localhost:8080/",
          "height": 34
        },
        "outputId": "ac755953-3cba-400c-ccb4-1ab28424e920"
      },
      "source": [
        "df_review = pd.DataFrame.from_dict(data)\n",
        "\n",
        "print(len(df_review))"
      ],
      "execution_count": 19,
      "outputs": [
        {
          "output_type": "stream",
          "text": [
            "12980837\n"
          ],
          "name": "stdout"
        }
      ]
    },
    {
      "cell_type": "code",
      "metadata": {
        "id": "VBYRfDgkJVlw",
        "colab_type": "code",
        "colab": {}
      },
      "source": [
        "del data"
      ],
      "execution_count": 20,
      "outputs": []
    },
    {
      "cell_type": "code",
      "metadata": {
        "id": "PeJ2aEP-Kblp",
        "colab_type": "code",
        "colab": {}
      },
      "source": [
        "df_review.head()"
      ],
      "execution_count": null,
      "outputs": []
    },
    {
      "cell_type": "code",
      "metadata": {
        "id": "0YUhk3qILUP8",
        "colab_type": "code",
        "colab": {}
      },
      "source": [
        "df_review.to_csv('df_review.csv')"
      ],
      "execution_count": 23,
      "outputs": []
    },
    {
      "cell_type": "code",
      "metadata": {
        "id": "cihT5Pmx5LKS",
        "colab_type": "code",
        "colab": {
          "base_uri": "https://localhost:8080/",
          "height": 34
        },
        "outputId": "86c23bd3-b51d-4c23-e9aa-afcb50bb6433"
      },
      "source": [
        "files.download(\"df_review.csv\")"
      ],
      "execution_count": 24,
      "outputs": [
        {
          "output_type": "display_data",
          "data": {
            "application/javascript": [
              "\n",
              "    async function download(id, filename, size) {\n",
              "      if (!google.colab.kernel.accessAllowed) {\n",
              "        return;\n",
              "      }\n",
              "      const div = document.createElement('div');\n",
              "      const label = document.createElement('label');\n",
              "      label.textContent = `Downloading \"${filename}\": `;\n",
              "      div.appendChild(label);\n",
              "      const progress = document.createElement('progress');\n",
              "      progress.max = size;\n",
              "      div.appendChild(progress);\n",
              "      document.body.appendChild(div);\n",
              "\n",
              "      const buffers = [];\n",
              "      let downloaded = 0;\n",
              "\n",
              "      const channel = await google.colab.kernel.comms.open(id);\n",
              "      // Send a message to notify the kernel that we're ready.\n",
              "      channel.send({})\n",
              "\n",
              "      for await (const message of channel.messages) {\n",
              "        // Send a message to notify the kernel that we're ready.\n",
              "        channel.send({})\n",
              "        if (message.buffers) {\n",
              "          for (const buffer of message.buffers) {\n",
              "            buffers.push(buffer);\n",
              "            downloaded += buffer.byteLength;\n",
              "            progress.value = downloaded;\n",
              "          }\n",
              "        }\n",
              "      }\n",
              "      const blob = new Blob(buffers, {type: 'application/binary'});\n",
              "      const a = document.createElement('a');\n",
              "      a.href = window.URL.createObjectURL(blob);\n",
              "      a.download = filename;\n",
              "      div.appendChild(a);\n",
              "      a.click();\n",
              "      div.remove();\n",
              "    }\n",
              "  "
            ],
            "text/plain": [
              "<IPython.core.display.Javascript object>"
            ]
          },
          "metadata": {
            "tags": []
          }
        },
        {
          "output_type": "display_data",
          "data": {
            "application/javascript": [
              "download(\"download_4595d18a-4710-4a8b-aef9-5c23e86fb562\", \"df_review.csv\", 4430240906)"
            ],
            "text/plain": [
              "<IPython.core.display.Javascript object>"
            ]
          },
          "metadata": {
            "tags": []
          }
        }
      ]
    },
    {
      "cell_type": "markdown",
      "metadata": {
        "id": "sCKU9JXWJm9H",
        "colab_type": "text"
      },
      "source": [
        "## Save dataframe to google drive "
      ]
    },
    {
      "cell_type": "code",
      "metadata": {
        "id": "ZgMgivVpJUnH",
        "colab_type": "code",
        "colab": {
          "base_uri": "https://localhost:8080/",
          "height": 34
        },
        "outputId": "7ec8189a-4c7c-4f3d-b31c-f7f81cb65293"
      },
      "source": [
        "from google.colab import drive\n",
        "drive.mount('/content/drive')"
      ],
      "execution_count": 3,
      "outputs": [
        {
          "output_type": "stream",
          "text": [
            "Drive already mounted at /content/drive; to attempt to forcibly remount, call drive.mount(\"/content/drive\", force_remount=True).\n"
          ],
          "name": "stdout"
        }
      ]
    },
    {
      "cell_type": "code",
      "metadata": {
        "id": "NriYcfDbI6St",
        "colab_type": "code",
        "colab": {
          "base_uri": "https://localhost:8080/",
          "height": 71
        },
        "outputId": "4e51b5f1-20b0-4d92-f3c1-c00d808c048f"
      },
      "source": [
        "df_product = pd.read_csv(\"/content/drive/My Drive/Datasets/df_products.csv\")"
      ],
      "execution_count": 4,
      "outputs": [
        {
          "output_type": "stream",
          "text": [
            "/usr/local/lib/python3.6/dist-packages/IPython/core/interactiveshell.py:2718: DtypeWarning: Columns (8) have mixed types.Specify dtype option on import or set low_memory=False.\n",
            "  interactivity=interactivity, compiler=compiler, result=result)\n"
          ],
          "name": "stderr"
        }
      ]
    },
    {
      "cell_type": "code",
      "metadata": {
        "id": "2qa4MVFzJelQ",
        "colab_type": "code",
        "colab": {
          "base_uri": "https://localhost:8080/",
          "height": 34
        },
        "outputId": "1a7775be-3b1a-4c6e-95d4-8ee3ca441e2f"
      },
      "source": [
        "df_product.shape"
      ],
      "execution_count": 5,
      "outputs": [
        {
          "output_type": "execute_result",
          "data": {
            "text/plain": [
              "(962300, 19)"
            ]
          },
          "metadata": {
            "tags": []
          },
          "execution_count": 5
        }
      ]
    },
    {
      "cell_type": "code",
      "metadata": {
        "id": "_m58OXcdJCWb",
        "colab_type": "code",
        "colab": {
          "base_uri": "https://localhost:8080/",
          "height": 71
        },
        "outputId": "52d4b082-a51b-4b86-fa4b-a2e575014ad0"
      },
      "source": [
        "df_review = pd.read_csv(\"/content/drive/My Drive/Datasets/df_review.csv\")"
      ],
      "execution_count": 6,
      "outputs": [
        {
          "output_type": "stream",
          "text": [
            "/usr/local/lib/python3.6/dist-packages/IPython/core/interactiveshell.py:2718: DtypeWarning: Columns (10) have mixed types.Specify dtype option on import or set low_memory=False.\n",
            "  interactivity=interactivity, compiler=compiler, result=result)\n"
          ],
          "name": "stderr"
        }
      ]
    },
    {
      "cell_type": "code",
      "metadata": {
        "id": "mzSmBwa3KGZD",
        "colab_type": "code",
        "colab": {
          "base_uri": "https://localhost:8080/",
          "height": 34
        },
        "outputId": "2d6ee835-82b3-49ae-d850-14178ec6eece"
      },
      "source": [
        "df_review.shape"
      ],
      "execution_count": 7,
      "outputs": [
        {
          "output_type": "execute_result",
          "data": {
            "text/plain": [
              "(12980837, 13)"
            ]
          },
          "metadata": {
            "tags": []
          },
          "execution_count": 7
        }
      ]
    },
    {
      "cell_type": "code",
      "metadata": {
        "id": "FHPFgWXZOLHD",
        "colab_type": "code",
        "colab": {
          "base_uri": "https://localhost:8080/",
          "height": 34
        },
        "outputId": "b524389f-739e-4518-a413-06efcbfb0bca"
      },
      "source": [
        "!cp /content/df_products.csv \"/content/My Drive/Datasets\""
      ],
      "execution_count": 21,
      "outputs": [
        {
          "output_type": "stream",
          "text": [
            "cp: cannot stat '/content/df_products.csv': No such file or directory\n"
          ],
          "name": "stdout"
        }
      ]
    },
    {
      "cell_type": "code",
      "metadata": {
        "id": "rp5r1JAiP1dw",
        "colab_type": "code",
        "colab": {
          "base_uri": "https://localhost:8080/",
          "height": 34
        },
        "outputId": "e46b1398-22fe-47ab-ed5b-3bc5b48ca4e1"
      },
      "source": [
        "!cp /content/df_review.csv \"/content/My Drive/Datasets\""
      ],
      "execution_count": 22,
      "outputs": [
        {
          "output_type": "stream",
          "text": [
            "cp: cannot stat '/content/df_review.csv': No such file or directory\n"
          ],
          "name": "stdout"
        }
      ]
    },
    {
      "cell_type": "code",
      "metadata": {
        "id": "C1EGo1w3W0wJ",
        "colab_type": "code",
        "colab": {
          "base_uri": "https://localhost:8080/",
          "height": 352
        },
        "outputId": "5bce188e-a602-4b90-9d17-6bfc087eec73"
      },
      "source": [
        "df_product.head(2)"
      ],
      "execution_count": 7,
      "outputs": [
        {
          "output_type": "execute_result",
          "data": {
            "text/html": [
              "<div>\n",
              "<style scoped>\n",
              "    .dataframe tbody tr th:only-of-type {\n",
              "        vertical-align: middle;\n",
              "    }\n",
              "\n",
              "    .dataframe tbody tr th {\n",
              "        vertical-align: top;\n",
              "    }\n",
              "\n",
              "    .dataframe thead th {\n",
              "        text-align: right;\n",
              "    }\n",
              "</style>\n",
              "<table border=\"1\" class=\"dataframe\">\n",
              "  <thead>\n",
              "    <tr style=\"text-align: right;\">\n",
              "      <th></th>\n",
              "      <th>Unnamed: 0</th>\n",
              "      <th>category</th>\n",
              "      <th>tech1</th>\n",
              "      <th>description</th>\n",
              "      <th>fit</th>\n",
              "      <th>title</th>\n",
              "      <th>also_buy</th>\n",
              "      <th>image</th>\n",
              "      <th>tech2</th>\n",
              "      <th>brand</th>\n",
              "      <th>feature</th>\n",
              "      <th>rank</th>\n",
              "      <th>also_view</th>\n",
              "      <th>main_cat</th>\n",
              "      <th>similar_item</th>\n",
              "      <th>date</th>\n",
              "      <th>price</th>\n",
              "      <th>asin</th>\n",
              "      <th>details</th>\n",
              "    </tr>\n",
              "  </thead>\n",
              "  <tbody>\n",
              "    <tr>\n",
              "      <th>0</th>\n",
              "      <td>0</td>\n",
              "      <td>['Sports &amp; Outdoors', 'Sports &amp; Fitness', 'Oth...</td>\n",
              "      <td>NaN</td>\n",
              "      <td>['3 layers of super-soft polyester tulle can b...</td>\n",
              "      <td>NaN</td>\n",
              "      <td>Adult Tutu Assorted Colors (Turquoise)</td>\n",
              "      <td>[]</td>\n",
              "      <td>[]</td>\n",
              "      <td>NaN</td>\n",
              "      <td>BubuBibi</td>\n",
              "      <td>['3 Layers - 100% Polyester Tulle, Hand Wash L...</td>\n",
              "      <td>712,899 in Clothing, Shoes &amp; Jewelry (</td>\n",
              "      <td>['B071LQWQBQ', 'B00M14DG0O', 'B076GTTY9W', 'B0...</td>\n",
              "      <td>&lt;img src=\"https://images-na.ssl-images-amazon....</td>\n",
              "      <td>NaN</td>\n",
              "      <td>&lt;div class=\"a-fixed-left-grid a-spacing-none\"&gt;...</td>\n",
              "      <td>$11.80</td>\n",
              "      <td>0000032042</td>\n",
              "      <td>NaN</td>\n",
              "    </tr>\n",
              "    <tr>\n",
              "      <th>1</th>\n",
              "      <td>1</td>\n",
              "      <td>['Sports &amp; Outdoors', 'Sports &amp; Fitness', 'Oth...</td>\n",
              "      <td>NaN</td>\n",
              "      <td>['3 layers of super-soft polyester tulle can b...</td>\n",
              "      <td>NaN</td>\n",
              "      <td>Bububibi Adult Ballet Tutu Cheetah Pink</td>\n",
              "      <td>[]</td>\n",
              "      <td>[]</td>\n",
              "      <td>NaN</td>\n",
              "      <td>BubuBibi</td>\n",
              "      <td>['3 Layers - 100% Polyester Tulle, Hand Wash L...</td>\n",
              "      <td>712,899 in Clothing, Shoes &amp; Jewelry (</td>\n",
              "      <td>[]</td>\n",
              "      <td>&lt;img src=\"https://images-na.ssl-images-amazon....</td>\n",
              "      <td>NaN</td>\n",
              "      <td>&lt;div class=\"a-fixed-left-grid a-spacing-none\"&gt;...</td>\n",
              "      <td>$11.97</td>\n",
              "      <td>0000032069</td>\n",
              "      <td>NaN</td>\n",
              "    </tr>\n",
              "  </tbody>\n",
              "</table>\n",
              "</div>"
            ],
            "text/plain": [
              "   Unnamed: 0  ... details\n",
              "0           0  ...     NaN\n",
              "1           1  ...     NaN\n",
              "\n",
              "[2 rows x 19 columns]"
            ]
          },
          "metadata": {
            "tags": []
          },
          "execution_count": 7
        }
      ]
    },
    {
      "cell_type": "code",
      "metadata": {
        "id": "bSB91fqAgHL7",
        "colab_type": "code",
        "colab": {
          "base_uri": "https://localhost:8080/",
          "height": 162
        },
        "outputId": "08525c99-208e-4e64-b9da-8c268f15cb7e"
      },
      "source": [
        "df_review.head(2)"
      ],
      "execution_count": 8,
      "outputs": [
        {
          "output_type": "execute_result",
          "data": {
            "text/html": [
              "<div>\n",
              "<style scoped>\n",
              "    .dataframe tbody tr th:only-of-type {\n",
              "        vertical-align: middle;\n",
              "    }\n",
              "\n",
              "    .dataframe tbody tr th {\n",
              "        vertical-align: top;\n",
              "    }\n",
              "\n",
              "    .dataframe thead th {\n",
              "        text-align: right;\n",
              "    }\n",
              "</style>\n",
              "<table border=\"1\" class=\"dataframe\">\n",
              "  <thead>\n",
              "    <tr style=\"text-align: right;\">\n",
              "      <th></th>\n",
              "      <th>Unnamed: 0</th>\n",
              "      <th>overall</th>\n",
              "      <th>verified</th>\n",
              "      <th>reviewTime</th>\n",
              "      <th>reviewerID</th>\n",
              "      <th>asin</th>\n",
              "      <th>reviewerName</th>\n",
              "      <th>reviewText</th>\n",
              "      <th>summary</th>\n",
              "      <th>unixReviewTime</th>\n",
              "      <th>vote</th>\n",
              "      <th>style</th>\n",
              "      <th>image</th>\n",
              "    </tr>\n",
              "  </thead>\n",
              "  <tbody>\n",
              "    <tr>\n",
              "      <th>0</th>\n",
              "      <td>0</td>\n",
              "      <td>5.0</td>\n",
              "      <td>False</td>\n",
              "      <td>02 1, 2014</td>\n",
              "      <td>A23K73OVXJ04EG</td>\n",
              "      <td>0000031895</td>\n",
              "      <td>Lamb612000</td>\n",
              "      <td>It was as described and fit my 6 year old gran...</td>\n",
              "      <td>Neon Blue Tutu</td>\n",
              "      <td>1391212800</td>\n",
              "      <td>NaN</td>\n",
              "      <td>NaN</td>\n",
              "      <td>NaN</td>\n",
              "    </tr>\n",
              "    <tr>\n",
              "      <th>1</th>\n",
              "      <td>1</td>\n",
              "      <td>4.0</td>\n",
              "      <td>True</td>\n",
              "      <td>11 20, 2013</td>\n",
              "      <td>A2681T699HV6H1</td>\n",
              "      <td>0000031895</td>\n",
              "      <td>Courtney R</td>\n",
              "      <td>very cute and went great with my Halloween cos...</td>\n",
              "      <td>loved it!</td>\n",
              "      <td>1384905600</td>\n",
              "      <td>NaN</td>\n",
              "      <td>NaN</td>\n",
              "      <td>NaN</td>\n",
              "    </tr>\n",
              "  </tbody>\n",
              "</table>\n",
              "</div>"
            ],
            "text/plain": [
              "   Unnamed: 0  overall  verified   reviewTime  ... unixReviewTime vote style image\n",
              "0           0      5.0     False   02 1, 2014  ...     1391212800  NaN   NaN   NaN\n",
              "1           1      4.0      True  11 20, 2013  ...     1384905600  NaN   NaN   NaN\n",
              "\n",
              "[2 rows x 13 columns]"
            ]
          },
          "metadata": {
            "tags": []
          },
          "execution_count": 8
        }
      ]
    },
    {
      "cell_type": "markdown",
      "metadata": {
        "id": "WnU4EMrjhkP1",
        "colab_type": "text"
      },
      "source": [
        "## Remove products without images"
      ]
    },
    {
      "cell_type": "code",
      "metadata": {
        "id": "__EEABL4hjf0",
        "colab_type": "code",
        "colab": {}
      },
      "source": [
        "df_product_img = df_product[df_product.astype(str)['image'] != '[]'].copy()"
      ],
      "execution_count": 9,
      "outputs": []
    },
    {
      "cell_type": "code",
      "metadata": {
        "id": "Oduk1Ydeh8IT",
        "colab_type": "code",
        "colab": {
          "base_uri": "https://localhost:8080/",
          "height": 34
        },
        "outputId": "49b59b89-f68b-48d0-eb93-556403504281"
      },
      "source": [
        "df_product_img.shape"
      ],
      "execution_count": 10,
      "outputs": [
        {
          "output_type": "execute_result",
          "data": {
            "text/plain": [
              "(476483, 19)"
            ]
          },
          "metadata": {
            "tags": []
          },
          "execution_count": 10
        }
      ]
    },
    {
      "cell_type": "code",
      "metadata": {
        "id": "QiwXfacUiAo8",
        "colab_type": "code",
        "colab": {
          "base_uri": "https://localhost:8080/",
          "height": 284
        },
        "outputId": "c70daf04-829e-4956-a8e1-774123909e13"
      },
      "source": [
        "df_product_img.head(2)"
      ],
      "execution_count": 11,
      "outputs": [
        {
          "output_type": "execute_result",
          "data": {
            "text/html": [
              "<div>\n",
              "<style scoped>\n",
              "    .dataframe tbody tr th:only-of-type {\n",
              "        vertical-align: middle;\n",
              "    }\n",
              "\n",
              "    .dataframe tbody tr th {\n",
              "        vertical-align: top;\n",
              "    }\n",
              "\n",
              "    .dataframe thead th {\n",
              "        text-align: right;\n",
              "    }\n",
              "</style>\n",
              "<table border=\"1\" class=\"dataframe\">\n",
              "  <thead>\n",
              "    <tr style=\"text-align: right;\">\n",
              "      <th></th>\n",
              "      <th>Unnamed: 0</th>\n",
              "      <th>category</th>\n",
              "      <th>tech1</th>\n",
              "      <th>description</th>\n",
              "      <th>fit</th>\n",
              "      <th>title</th>\n",
              "      <th>also_buy</th>\n",
              "      <th>image</th>\n",
              "      <th>tech2</th>\n",
              "      <th>brand</th>\n",
              "      <th>feature</th>\n",
              "      <th>rank</th>\n",
              "      <th>also_view</th>\n",
              "      <th>main_cat</th>\n",
              "      <th>similar_item</th>\n",
              "      <th>date</th>\n",
              "      <th>price</th>\n",
              "      <th>asin</th>\n",
              "      <th>details</th>\n",
              "    </tr>\n",
              "  </thead>\n",
              "  <tbody>\n",
              "    <tr>\n",
              "      <th>6</th>\n",
              "      <td>6</td>\n",
              "      <td>['Sports &amp; Outdoors', 'Outdoor Recreation', 'C...</td>\n",
              "      <td>NaN</td>\n",
              "      <td>['Deluxe Duffel Bag with full length zipper de...</td>\n",
              "      <td>NaN</td>\n",
              "      <td>6ft of Acid Free Linen Tape for Bookbinding</td>\n",
              "      <td>[]</td>\n",
              "      <td>['https://images-na.ssl-images-amazon.com/imag...</td>\n",
              "      <td>NaN</td>\n",
              "      <td>Stansport</td>\n",
              "      <td>['Cotton Canvas', 'Acid Free']</td>\n",
              "      <td>2,077,567 in Sports &amp; Outdoors (</td>\n",
              "      <td>['B003W5YN9Y', 'B077FXJTTS']</td>\n",
              "      <td>Sports &amp; Outdoors</td>\n",
              "      <td>NaN</td>\n",
              "      <td>NaN</td>\n",
              "      <td>$4.00</td>\n",
              "      <td>0000012300</td>\n",
              "      <td>NaN</td>\n",
              "    </tr>\n",
              "    <tr>\n",
              "      <th>11</th>\n",
              "      <td>11</td>\n",
              "      <td>['Sports &amp; Outdoors', 'Sports &amp; Fitness', 'Gol...</td>\n",
              "      <td>NaN</td>\n",
              "      <td>['Create an instant indoors putting green by p...</td>\n",
              "      <td>NaN</td>\n",
              "      <td>Putting Set in Case</td>\n",
              "      <td>[]</td>\n",
              "      <td>['https://images-na.ssl-images-amazon.com/imag...</td>\n",
              "      <td>NaN</td>\n",
              "      <td>Allegra</td>\n",
              "      <td>[]</td>\n",
              "      <td>5,302,408 in Sports &amp; Outdoors (</td>\n",
              "      <td>[]</td>\n",
              "      <td>Sports &amp; Outdoors</td>\n",
              "      <td>NaN</td>\n",
              "      <td>NaN</td>\n",
              "      <td>NaN</td>\n",
              "      <td>0500615594</td>\n",
              "      <td>NaN</td>\n",
              "    </tr>\n",
              "  </tbody>\n",
              "</table>\n",
              "</div>"
            ],
            "text/plain": [
              "    Unnamed: 0  ... details\n",
              "6            6  ...     NaN\n",
              "11          11  ...     NaN\n",
              "\n",
              "[2 rows x 19 columns]"
            ]
          },
          "metadata": {
            "tags": []
          },
          "execution_count": 11
        }
      ]
    },
    {
      "cell_type": "code",
      "metadata": {
        "id": "gpQU4ieMg8J_",
        "colab_type": "code",
        "colab": {}
      },
      "source": [
        "df_all = pd.merge(df_product_img,df_review,on='asin')"
      ],
      "execution_count": 12,
      "outputs": []
    },
    {
      "cell_type": "code",
      "metadata": {
        "id": "9Nqz6kNkhUvf",
        "colab_type": "code",
        "colab": {
          "base_uri": "https://localhost:8080/",
          "height": 185
        },
        "outputId": "6726caa1-aee8-46da-f452-7ca4270ad5ba"
      },
      "source": [
        "df_all.head(1)"
      ],
      "execution_count": 53,
      "outputs": [
        {
          "output_type": "execute_result",
          "data": {
            "text/html": [
              "<div>\n",
              "<style scoped>\n",
              "    .dataframe tbody tr th:only-of-type {\n",
              "        vertical-align: middle;\n",
              "    }\n",
              "\n",
              "    .dataframe tbody tr th {\n",
              "        vertical-align: top;\n",
              "    }\n",
              "\n",
              "    .dataframe thead th {\n",
              "        text-align: right;\n",
              "    }\n",
              "</style>\n",
              "<table border=\"1\" class=\"dataframe\">\n",
              "  <thead>\n",
              "    <tr style=\"text-align: right;\">\n",
              "      <th></th>\n",
              "      <th>Unnamed: 0_x</th>\n",
              "      <th>category</th>\n",
              "      <th>tech1</th>\n",
              "      <th>description</th>\n",
              "      <th>fit</th>\n",
              "      <th>title</th>\n",
              "      <th>also_buy</th>\n",
              "      <th>image_x</th>\n",
              "      <th>tech2</th>\n",
              "      <th>brand</th>\n",
              "      <th>feature</th>\n",
              "      <th>rank</th>\n",
              "      <th>also_view</th>\n",
              "      <th>main_cat</th>\n",
              "      <th>similar_item</th>\n",
              "      <th>date</th>\n",
              "      <th>price</th>\n",
              "      <th>asin</th>\n",
              "      <th>details</th>\n",
              "      <th>Unnamed: 0_y</th>\n",
              "      <th>overall</th>\n",
              "      <th>verified</th>\n",
              "      <th>reviewTime</th>\n",
              "      <th>reviewerID</th>\n",
              "      <th>reviewerName</th>\n",
              "      <th>reviewText</th>\n",
              "      <th>summary</th>\n",
              "      <th>unixReviewTime</th>\n",
              "      <th>vote</th>\n",
              "      <th>style</th>\n",
              "      <th>image_y</th>\n",
              "    </tr>\n",
              "  </thead>\n",
              "  <tbody>\n",
              "    <tr>\n",
              "      <th>0</th>\n",
              "      <td>6</td>\n",
              "      <td>['Sports &amp; Outdoors', 'Outdoor Recreation', 'C...</td>\n",
              "      <td>NaN</td>\n",
              "      <td>['Deluxe Duffel Bag with full length zipper de...</td>\n",
              "      <td>NaN</td>\n",
              "      <td>6ft of Acid Free Linen Tape for Bookbinding</td>\n",
              "      <td>[]</td>\n",
              "      <td>['https://images-na.ssl-images-amazon.com/imag...</td>\n",
              "      <td>NaN</td>\n",
              "      <td>Stansport</td>\n",
              "      <td>['Cotton Canvas', 'Acid Free']</td>\n",
              "      <td>2,077,567 in Sports &amp; Outdoors (</td>\n",
              "      <td>['B003W5YN9Y', 'B077FXJTTS']</td>\n",
              "      <td>Sports &amp; Outdoors</td>\n",
              "      <td>NaN</td>\n",
              "      <td>NaN</td>\n",
              "      <td>$4.00</td>\n",
              "      <td>0000012300</td>\n",
              "      <td>NaN</td>\n",
              "      <td>9411978</td>\n",
              "      <td>4.0</td>\n",
              "      <td>True</td>\n",
              "      <td>09 7, 2017</td>\n",
              "      <td>A1BUNBDDEO1N4B</td>\n",
              "      <td>Tom</td>\n",
              "      <td>not used yet but looks fine</td>\n",
              "      <td>Four Stars</td>\n",
              "      <td>1504742400</td>\n",
              "      <td>NaN</td>\n",
              "      <td>NaN</td>\n",
              "      <td>NaN</td>\n",
              "    </tr>\n",
              "  </tbody>\n",
              "</table>\n",
              "</div>"
            ],
            "text/plain": [
              "   Unnamed: 0_x  ... image_y\n",
              "0             6  ...     NaN\n",
              "\n",
              "[1 rows x 31 columns]"
            ]
          },
          "metadata": {
            "tags": []
          },
          "execution_count": 53
        }
      ]
    },
    {
      "cell_type": "code",
      "metadata": {
        "id": "9q0h18PliS1v",
        "colab_type": "code",
        "colab": {
          "base_uri": "https://localhost:8080/",
          "height": 136
        },
        "outputId": "004bf5e0-96c7-41f8-baba-9a4c53bad7d9"
      },
      "source": [
        "df_all.columns"
      ],
      "execution_count": 13,
      "outputs": [
        {
          "output_type": "execute_result",
          "data": {
            "text/plain": [
              "Index(['Unnamed: 0_x', 'category', 'tech1', 'description', 'fit', 'title',\n",
              "       'also_buy', 'image_x', 'tech2', 'brand', 'feature', 'rank', 'also_view',\n",
              "       'main_cat', 'similar_item', 'date', 'price', 'asin', 'details',\n",
              "       'Unnamed: 0_y', 'overall', 'verified', 'reviewTime', 'reviewerID',\n",
              "       'reviewerName', 'reviewText', 'summary', 'unixReviewTime', 'vote',\n",
              "       'style', 'image_y'],\n",
              "      dtype='object')"
            ]
          },
          "metadata": {
            "tags": []
          },
          "execution_count": 13
        }
      ]
    },
    {
      "cell_type": "code",
      "metadata": {
        "id": "lUQ6gPBaIf5g",
        "colab_type": "code",
        "colab": {}
      },
      "source": [
        ""
      ],
      "execution_count": 18,
      "outputs": []
    },
    {
      "cell_type": "code",
      "metadata": {
        "id": "U7jDPnXJJ75p",
        "colab_type": "code",
        "colab": {}
      },
      "source": [
        "df_test = df_all.groupby('reviewerID').agg(Total_review_C=('asin', 'count')).reset_index()"
      ],
      "execution_count": 70,
      "outputs": []
    },
    {
      "cell_type": "code",
      "metadata": {
        "id": "swP5A4oYYvG_",
        "colab_type": "code",
        "colab": {}
      },
      "source": [
        "df_test2 = df_all.groupby('asin').agg(Total_review_P=('reviewerID', 'count')).reset_index()"
      ],
      "execution_count": 72,
      "outputs": []
    },
    {
      "cell_type": "code",
      "metadata": {
        "id": "DFMh016YR97v",
        "colab_type": "code",
        "colab": {
          "base_uri": "https://localhost:8080/",
          "height": 419
        },
        "outputId": "0248705c-6128-4d76-fd96-99f1e54ef921"
      },
      "source": [
        "df_test"
      ],
      "execution_count": 73,
      "outputs": [
        {
          "output_type": "execute_result",
          "data": {
            "text/html": [
              "<div>\n",
              "<style scoped>\n",
              "    .dataframe tbody tr th:only-of-type {\n",
              "        vertical-align: middle;\n",
              "    }\n",
              "\n",
              "    .dataframe tbody tr th {\n",
              "        vertical-align: top;\n",
              "    }\n",
              "\n",
              "    .dataframe thead th {\n",
              "        text-align: right;\n",
              "    }\n",
              "</style>\n",
              "<table border=\"1\" class=\"dataframe\">\n",
              "  <thead>\n",
              "    <tr style=\"text-align: right;\">\n",
              "      <th></th>\n",
              "      <th>reviewerID</th>\n",
              "      <th>Total_review_C</th>\n",
              "    </tr>\n",
              "  </thead>\n",
              "  <tbody>\n",
              "    <tr>\n",
              "      <th>0</th>\n",
              "      <td>A0000040I1OM9N4SGBD8</td>\n",
              "      <td>1</td>\n",
              "    </tr>\n",
              "    <tr>\n",
              "      <th>1</th>\n",
              "      <td>A0000074RA15UCBH3ON5</td>\n",
              "      <td>1</td>\n",
              "    </tr>\n",
              "    <tr>\n",
              "      <th>2</th>\n",
              "      <td>A000013090ZI3HIT9N5V</td>\n",
              "      <td>3</td>\n",
              "    </tr>\n",
              "    <tr>\n",
              "      <th>3</th>\n",
              "      <td>A0000196KBA0ICH151EG</td>\n",
              "      <td>1</td>\n",
              "    </tr>\n",
              "    <tr>\n",
              "      <th>4</th>\n",
              "      <td>A00008882A0PUVHCTDUP</td>\n",
              "      <td>2</td>\n",
              "    </tr>\n",
              "    <tr>\n",
              "      <th>...</th>\n",
              "      <td>...</td>\n",
              "      <td>...</td>\n",
              "    </tr>\n",
              "    <tr>\n",
              "      <th>5554032</th>\n",
              "      <td>AZZZV0D9D5V05</td>\n",
              "      <td>1</td>\n",
              "    </tr>\n",
              "    <tr>\n",
              "      <th>5554033</th>\n",
              "      <td>AZZZVAXZQB7JJ</td>\n",
              "      <td>7</td>\n",
              "    </tr>\n",
              "    <tr>\n",
              "      <th>5554034</th>\n",
              "      <td>AZZZWV7EIR8PG</td>\n",
              "      <td>1</td>\n",
              "    </tr>\n",
              "    <tr>\n",
              "      <th>5554035</th>\n",
              "      <td>AZZZY1W55XHZR</td>\n",
              "      <td>3</td>\n",
              "    </tr>\n",
              "    <tr>\n",
              "      <th>5554036</th>\n",
              "      <td>AZZZYAYJQSDOJ</td>\n",
              "      <td>4</td>\n",
              "    </tr>\n",
              "  </tbody>\n",
              "</table>\n",
              "<p>5554037 rows × 2 columns</p>\n",
              "</div>"
            ],
            "text/plain": [
              "                   reviewerID  Total_review_C\n",
              "0        A0000040I1OM9N4SGBD8               1\n",
              "1        A0000074RA15UCBH3ON5               1\n",
              "2        A000013090ZI3HIT9N5V               3\n",
              "3        A0000196KBA0ICH151EG               1\n",
              "4        A00008882A0PUVHCTDUP               2\n",
              "...                       ...             ...\n",
              "5554032         AZZZV0D9D5V05               1\n",
              "5554033         AZZZVAXZQB7JJ               7\n",
              "5554034         AZZZWV7EIR8PG               1\n",
              "5554035         AZZZY1W55XHZR               3\n",
              "5554036         AZZZYAYJQSDOJ               4\n",
              "\n",
              "[5554037 rows x 2 columns]"
            ]
          },
          "metadata": {
            "tags": []
          },
          "execution_count": 73
        }
      ]
    },
    {
      "cell_type": "code",
      "metadata": {
        "id": "SdMAyUawaQB2",
        "colab_type": "code",
        "colab": {
          "base_uri": "https://localhost:8080/",
          "height": 419
        },
        "outputId": "25f63613-6065-4eb5-e622-50d928473820"
      },
      "source": [
        "df_test2"
      ],
      "execution_count": 79,
      "outputs": [
        {
          "output_type": "execute_result",
          "data": {
            "text/html": [
              "<div>\n",
              "<style scoped>\n",
              "    .dataframe tbody tr th:only-of-type {\n",
              "        vertical-align: middle;\n",
              "    }\n",
              "\n",
              "    .dataframe tbody tr th {\n",
              "        vertical-align: top;\n",
              "    }\n",
              "\n",
              "    .dataframe thead th {\n",
              "        text-align: right;\n",
              "    }\n",
              "</style>\n",
              "<table border=\"1\" class=\"dataframe\">\n",
              "  <thead>\n",
              "    <tr style=\"text-align: right;\">\n",
              "      <th></th>\n",
              "      <th>asin</th>\n",
              "      <th>Total_review_P</th>\n",
              "    </tr>\n",
              "  </thead>\n",
              "  <tbody>\n",
              "    <tr>\n",
              "      <th>0</th>\n",
              "      <td>0000012300</td>\n",
              "      <td>1</td>\n",
              "    </tr>\n",
              "    <tr>\n",
              "      <th>1</th>\n",
              "      <td>0500615594</td>\n",
              "      <td>1</td>\n",
              "    </tr>\n",
              "    <tr>\n",
              "      <th>2</th>\n",
              "      <td>0692747222</td>\n",
              "      <td>14</td>\n",
              "    </tr>\n",
              "    <tr>\n",
              "      <th>3</th>\n",
              "      <td>0899332757</td>\n",
              "      <td>94</td>\n",
              "    </tr>\n",
              "    <tr>\n",
              "      <th>4</th>\n",
              "      <td>0899333257</td>\n",
              "      <td>160</td>\n",
              "    </tr>\n",
              "    <tr>\n",
              "      <th>...</th>\n",
              "      <td>...</td>\n",
              "      <td>...</td>\n",
              "    </tr>\n",
              "    <tr>\n",
              "      <th>474965</th>\n",
              "      <td>B01HJGDIBK</td>\n",
              "      <td>4</td>\n",
              "    </tr>\n",
              "    <tr>\n",
              "      <th>474966</th>\n",
              "      <td>B01HJGDVEE</td>\n",
              "      <td>1</td>\n",
              "    </tr>\n",
              "    <tr>\n",
              "      <th>474967</th>\n",
              "      <td>B01HJGIZ2W</td>\n",
              "      <td>11</td>\n",
              "    </tr>\n",
              "    <tr>\n",
              "      <th>474968</th>\n",
              "      <td>B01HJGNPLI</td>\n",
              "      <td>1</td>\n",
              "    </tr>\n",
              "    <tr>\n",
              "      <th>474969</th>\n",
              "      <td>B01HJH3742</td>\n",
              "      <td>9</td>\n",
              "    </tr>\n",
              "  </tbody>\n",
              "</table>\n",
              "<p>474970 rows × 2 columns</p>\n",
              "</div>"
            ],
            "text/plain": [
              "              asin  Total_review_P\n",
              "0       0000012300               1\n",
              "1       0500615594               1\n",
              "2       0692747222              14\n",
              "3       0899332757              94\n",
              "4       0899333257             160\n",
              "...            ...             ...\n",
              "474965  B01HJGDIBK               4\n",
              "474966  B01HJGDVEE               1\n",
              "474967  B01HJGIZ2W              11\n",
              "474968  B01HJGNPLI               1\n",
              "474969  B01HJH3742               9\n",
              "\n",
              "[474970 rows x 2 columns]"
            ]
          },
          "metadata": {
            "tags": []
          },
          "execution_count": 79
        }
      ]
    },
    {
      "cell_type": "code",
      "metadata": {
        "id": "eMxSYaAsV0Yc",
        "colab_type": "code",
        "colab": {}
      },
      "source": [
        "df_new = pd.merge(df_all,df_test,on='reviewerID', how='left')"
      ],
      "execution_count": 76,
      "outputs": []
    },
    {
      "cell_type": "code",
      "metadata": {
        "id": "3f-JYhcaaFby",
        "colab_type": "code",
        "colab": {
          "base_uri": "https://localhost:8080/",
          "height": 185
        },
        "outputId": "d4db68c8-344e-405d-cb69-471371bdddcc"
      },
      "source": [
        "df_new.head(1)"
      ],
      "execution_count": 81,
      "outputs": [
        {
          "output_type": "execute_result",
          "data": {
            "text/html": [
              "<div>\n",
              "<style scoped>\n",
              "    .dataframe tbody tr th:only-of-type {\n",
              "        vertical-align: middle;\n",
              "    }\n",
              "\n",
              "    .dataframe tbody tr th {\n",
              "        vertical-align: top;\n",
              "    }\n",
              "\n",
              "    .dataframe thead th {\n",
              "        text-align: right;\n",
              "    }\n",
              "</style>\n",
              "<table border=\"1\" class=\"dataframe\">\n",
              "  <thead>\n",
              "    <tr style=\"text-align: right;\">\n",
              "      <th></th>\n",
              "      <th>Unnamed: 0_x</th>\n",
              "      <th>category</th>\n",
              "      <th>tech1</th>\n",
              "      <th>description</th>\n",
              "      <th>fit</th>\n",
              "      <th>title</th>\n",
              "      <th>also_buy</th>\n",
              "      <th>image_x</th>\n",
              "      <th>tech2</th>\n",
              "      <th>brand</th>\n",
              "      <th>feature</th>\n",
              "      <th>rank</th>\n",
              "      <th>also_view</th>\n",
              "      <th>main_cat</th>\n",
              "      <th>similar_item</th>\n",
              "      <th>date</th>\n",
              "      <th>price</th>\n",
              "      <th>asin</th>\n",
              "      <th>details</th>\n",
              "      <th>Unnamed: 0_y</th>\n",
              "      <th>overall</th>\n",
              "      <th>verified</th>\n",
              "      <th>reviewTime</th>\n",
              "      <th>reviewerID</th>\n",
              "      <th>reviewerName</th>\n",
              "      <th>reviewText</th>\n",
              "      <th>summary</th>\n",
              "      <th>unixReviewTime</th>\n",
              "      <th>vote</th>\n",
              "      <th>style</th>\n",
              "      <th>image_y</th>\n",
              "      <th>product_count</th>\n",
              "      <th>Total_review_C</th>\n",
              "      <th>Total_review_P</th>\n",
              "    </tr>\n",
              "  </thead>\n",
              "  <tbody>\n",
              "    <tr>\n",
              "      <th>0</th>\n",
              "      <td>6</td>\n",
              "      <td>['Sports &amp; Outdoors', 'Outdoor Recreation', 'C...</td>\n",
              "      <td>NaN</td>\n",
              "      <td>['Deluxe Duffel Bag with full length zipper de...</td>\n",
              "      <td>NaN</td>\n",
              "      <td>6ft of Acid Free Linen Tape for Bookbinding</td>\n",
              "      <td>[]</td>\n",
              "      <td>['https://images-na.ssl-images-amazon.com/imag...</td>\n",
              "      <td>NaN</td>\n",
              "      <td>Stansport</td>\n",
              "      <td>['Cotton Canvas', 'Acid Free']</td>\n",
              "      <td>2,077,567 in Sports &amp; Outdoors (</td>\n",
              "      <td>['B003W5YN9Y', 'B077FXJTTS']</td>\n",
              "      <td>Sports &amp; Outdoors</td>\n",
              "      <td>NaN</td>\n",
              "      <td>NaN</td>\n",
              "      <td>$4.00</td>\n",
              "      <td>0000012300</td>\n",
              "      <td>NaN</td>\n",
              "      <td>9411978</td>\n",
              "      <td>4.0</td>\n",
              "      <td>True</td>\n",
              "      <td>09 7, 2017</td>\n",
              "      <td>A1BUNBDDEO1N4B</td>\n",
              "      <td>Tom</td>\n",
              "      <td>not used yet but looks fine</td>\n",
              "      <td>Four Stars</td>\n",
              "      <td>1504742400</td>\n",
              "      <td>NaN</td>\n",
              "      <td>NaN</td>\n",
              "      <td>NaN</td>\n",
              "      <td>NaN</td>\n",
              "      <td>1</td>\n",
              "      <td>1</td>\n",
              "    </tr>\n",
              "  </tbody>\n",
              "</table>\n",
              "</div>"
            ],
            "text/plain": [
              "   Unnamed: 0_x  ... Total_review_P\n",
              "0             6  ...              1\n",
              "\n",
              "[1 rows x 34 columns]"
            ]
          },
          "metadata": {
            "tags": []
          },
          "execution_count": 81
        }
      ]
    },
    {
      "cell_type": "code",
      "metadata": {
        "id": "Bd4dpvQfaAOf",
        "colab_type": "code",
        "colab": {
          "base_uri": "https://localhost:8080/",
          "height": 34
        },
        "outputId": "7a7a7951-5c22-4a96-894d-ae43e78ce2e9"
      },
      "source": [
        "df_new[(df_new['Total_review_P']>15) & (df_new['Total_review_C']>15)].shape"
      ],
      "execution_count": 89,
      "outputs": [
        {
          "output_type": "execute_result",
          "data": {
            "text/plain": [
              "(370260, 34)"
            ]
          },
          "metadata": {
            "tags": []
          },
          "execution_count": 89
        }
      ]
    },
    {
      "cell_type": "code",
      "metadata": {
        "id": "KgISOdi9YN6v",
        "colab_type": "code",
        "colab": {
          "base_uri": "https://localhost:8080/",
          "height": 34
        },
        "outputId": "20f660be-66ce-45b3-8498-258d72b264c5"
      },
      "source": [
        "df_new[df_new[\"Total_review\"] >= 10].shape"
      ],
      "execution_count": 66,
      "outputs": [
        {
          "output_type": "execute_result",
          "data": {
            "text/plain": [
              "(917559, 33)"
            ]
          },
          "metadata": {
            "tags": []
          },
          "execution_count": 66
        }
      ]
    },
    {
      "cell_type": "code",
      "metadata": {
        "id": "MHL8OgJdZMLO",
        "colab_type": "code",
        "colab": {
          "base_uri": "https://localhost:8080/",
          "height": 34
        },
        "outputId": "f8ac7eec-d21d-4c56-a6f3-ecff1b83bcc9"
      },
      "source": [
        "df_new2[df_new2[\"Total_review\"] >= 10].shape"
      ],
      "execution_count": 69,
      "outputs": [
        {
          "output_type": "execute_result",
          "data": {
            "text/plain": [
              "(8832112, 33)"
            ]
          },
          "metadata": {
            "tags": []
          },
          "execution_count": 69
        }
      ]
    },
    {
      "cell_type": "code",
      "metadata": {
        "id": "sfW2sBIvSSxW",
        "colab_type": "code",
        "colab": {
          "base_uri": "https://localhost:8080/",
          "height": 578
        },
        "outputId": "4043e2de-6c38-46ac-eb8e-09da19e09bfa"
      },
      "source": [
        "df_all[df_all[\"product_count\"] >= 10].sum()"
      ],
      "execution_count": 59,
      "outputs": [
        {
          "output_type": "execute_result",
          "data": {
            "text/plain": [
              "Unnamed: 0_x      0.0\n",
              "category          0.0\n",
              "tech1             0.0\n",
              "description       0.0\n",
              "fit               0.0\n",
              "title             0.0\n",
              "also_buy          0.0\n",
              "image_x           0.0\n",
              "tech2             0.0\n",
              "brand             0.0\n",
              "feature           0.0\n",
              "rank              0.0\n",
              "also_view         0.0\n",
              "main_cat          0.0\n",
              "similar_item      0.0\n",
              "date              0.0\n",
              "price             0.0\n",
              "asin              0.0\n",
              "details           0.0\n",
              "Unnamed: 0_y      0.0\n",
              "overall           0.0\n",
              "verified          0.0\n",
              "reviewTime        0.0\n",
              "reviewerID        0.0\n",
              "reviewerName      0.0\n",
              "reviewText        0.0\n",
              "summary           0.0\n",
              "unixReviewTime    0.0\n",
              "vote              0.0\n",
              "style             0.0\n",
              "image_y           0.0\n",
              "product_count     0.0\n",
              "dtype: float64"
            ]
          },
          "metadata": {
            "tags": []
          },
          "execution_count": 59
        }
      ]
    },
    {
      "cell_type": "code",
      "metadata": {
        "id": "z7htzWajLrOp",
        "colab_type": "code",
        "colab": {
          "base_uri": "https://localhost:8080/",
          "height": 34
        },
        "outputId": "b62f8e91-4ba7-4fff-c9d5-64edefef1200"
      },
      "source": [
        "df_test[(df_test.Total_review > 10)].shape"
      ],
      "execution_count": 29,
      "outputs": [
        {
          "output_type": "execute_result",
          "data": {
            "text/plain": [
              "(103294, 2)"
            ]
          },
          "metadata": {
            "tags": []
          },
          "execution_count": 29
        }
      ]
    },
    {
      "cell_type": "code",
      "metadata": {
        "id": "P1BfsBZIQZdG",
        "colab_type": "code",
        "colab": {}
      },
      "source": [
        "df_all[df_test.asin]"
      ],
      "execution_count": null,
      "outputs": []
    },
    {
      "cell_type": "code",
      "metadata": {
        "id": "hjRf8NzdDwiG",
        "colab_type": "code",
        "colab": {
          "base_uri": "https://localhost:8080/",
          "height": 197
        },
        "outputId": "059176a7-c653-42f0-8b28-cc246b998752"
      },
      "source": [
        "byasin = df_all.groupby('asin').aggregate('count')\n",
        "tags = byasin[byasin.reviewerID >= 10].index\n",
        "data[data['asin'].isin(tags)].shape"
      ],
      "execution_count": 21,
      "outputs": [
        {
          "output_type": "error",
          "ename": "NameError",
          "evalue": "ignored",
          "traceback": [
            "\u001b[0;31m---------------------------------------------------------------------------\u001b[0m",
            "\u001b[0;31mNameError\u001b[0m                                 Traceback (most recent call last)",
            "\u001b[0;32m<ipython-input-21-1ad086132149>\u001b[0m in \u001b[0;36m<module>\u001b[0;34m()\u001b[0m\n\u001b[1;32m      1\u001b[0m \u001b[0mbyasin\u001b[0m \u001b[0;34m=\u001b[0m \u001b[0mdf_all\u001b[0m\u001b[0;34m.\u001b[0m\u001b[0mgroupby\u001b[0m\u001b[0;34m(\u001b[0m\u001b[0;34m'asin'\u001b[0m\u001b[0;34m)\u001b[0m\u001b[0;34m.\u001b[0m\u001b[0maggregate\u001b[0m\u001b[0;34m(\u001b[0m\u001b[0;34m'count'\u001b[0m\u001b[0;34m)\u001b[0m\u001b[0;34m\u001b[0m\u001b[0;34m\u001b[0m\u001b[0m\n\u001b[1;32m      2\u001b[0m \u001b[0mtags\u001b[0m \u001b[0;34m=\u001b[0m \u001b[0mbyasin\u001b[0m\u001b[0;34m[\u001b[0m\u001b[0mbyasin\u001b[0m\u001b[0;34m.\u001b[0m\u001b[0mreviewerID\u001b[0m \u001b[0;34m>=\u001b[0m \u001b[0;36m10\u001b[0m\u001b[0;34m]\u001b[0m\u001b[0;34m.\u001b[0m\u001b[0mindex\u001b[0m\u001b[0;34m\u001b[0m\u001b[0;34m\u001b[0m\u001b[0m\n\u001b[0;32m----> 3\u001b[0;31m \u001b[0mdata\u001b[0m\u001b[0;34m[\u001b[0m\u001b[0mdata\u001b[0m\u001b[0;34m[\u001b[0m\u001b[0;34m'asin'\u001b[0m\u001b[0;34m]\u001b[0m\u001b[0;34m.\u001b[0m\u001b[0misin\u001b[0m\u001b[0;34m(\u001b[0m\u001b[0mtags\u001b[0m\u001b[0;34m)\u001b[0m\u001b[0;34m]\u001b[0m\u001b[0;34m.\u001b[0m\u001b[0mshape\u001b[0m\u001b[0;34m\u001b[0m\u001b[0;34m\u001b[0m\u001b[0m\n\u001b[0m",
            "\u001b[0;31mNameError\u001b[0m: name 'data' is not defined"
          ]
        }
      ]
    },
    {
      "cell_type": "code",
      "metadata": {
        "id": "tsZKvoQ7sLTQ",
        "colab_type": "code",
        "colab": {}
      },
      "source": [
        "df_all.drop(['tech1', 'tech2','Unnamed: 0_x','fit','similar_item','date','details','Unnamed: 0_y','reviewTime','reviewerID','reviewerName','vote','image_y'], axis=1,inplace=True)"
      ],
      "execution_count": 15,
      "outputs": []
    },
    {
      "cell_type": "code",
      "metadata": {
        "id": "WmrPmL2VwhqR",
        "colab_type": "code",
        "colab": {
          "base_uri": "https://localhost:8080/",
          "height": 598
        },
        "outputId": "c07230f2-0fde-4ce8-d327-4a2c5ba12057"
      },
      "source": [
        "df_all.head()"
      ],
      "execution_count": 16,
      "outputs": [
        {
          "output_type": "execute_result",
          "data": {
            "text/html": [
              "<div>\n",
              "<style scoped>\n",
              "    .dataframe tbody tr th:only-of-type {\n",
              "        vertical-align: middle;\n",
              "    }\n",
              "\n",
              "    .dataframe tbody tr th {\n",
              "        vertical-align: top;\n",
              "    }\n",
              "\n",
              "    .dataframe thead th {\n",
              "        text-align: right;\n",
              "    }\n",
              "</style>\n",
              "<table border=\"1\" class=\"dataframe\">\n",
              "  <thead>\n",
              "    <tr style=\"text-align: right;\">\n",
              "      <th></th>\n",
              "      <th>category</th>\n",
              "      <th>description</th>\n",
              "      <th>title</th>\n",
              "      <th>also_buy</th>\n",
              "      <th>image_x</th>\n",
              "      <th>brand</th>\n",
              "      <th>feature</th>\n",
              "      <th>rank</th>\n",
              "      <th>also_view</th>\n",
              "      <th>main_cat</th>\n",
              "      <th>price</th>\n",
              "      <th>asin</th>\n",
              "      <th>overall</th>\n",
              "      <th>verified</th>\n",
              "      <th>reviewText</th>\n",
              "      <th>summary</th>\n",
              "      <th>unixReviewTime</th>\n",
              "      <th>style</th>\n",
              "    </tr>\n",
              "  </thead>\n",
              "  <tbody>\n",
              "    <tr>\n",
              "      <th>0</th>\n",
              "      <td>['Sports &amp; Outdoors', 'Outdoor Recreation', 'C...</td>\n",
              "      <td>['Deluxe Duffel Bag with full length zipper de...</td>\n",
              "      <td>6ft of Acid Free Linen Tape for Bookbinding</td>\n",
              "      <td>[]</td>\n",
              "      <td>['https://images-na.ssl-images-amazon.com/imag...</td>\n",
              "      <td>Stansport</td>\n",
              "      <td>['Cotton Canvas', 'Acid Free']</td>\n",
              "      <td>2,077,567 in Sports &amp; Outdoors (</td>\n",
              "      <td>['B003W5YN9Y', 'B077FXJTTS']</td>\n",
              "      <td>Sports &amp; Outdoors</td>\n",
              "      <td>$4.00</td>\n",
              "      <td>0000012300</td>\n",
              "      <td>4.0</td>\n",
              "      <td>True</td>\n",
              "      <td>not used yet but looks fine</td>\n",
              "      <td>Four Stars</td>\n",
              "      <td>1504742400</td>\n",
              "      <td>NaN</td>\n",
              "    </tr>\n",
              "    <tr>\n",
              "      <th>1</th>\n",
              "      <td>['Sports &amp; Outdoors', 'Sports &amp; Fitness', 'Gol...</td>\n",
              "      <td>['Create an instant indoors putting green by p...</td>\n",
              "      <td>Putting Set in Case</td>\n",
              "      <td>[]</td>\n",
              "      <td>['https://images-na.ssl-images-amazon.com/imag...</td>\n",
              "      <td>Allegra</td>\n",
              "      <td>[]</td>\n",
              "      <td>5,302,408 in Sports &amp; Outdoors (</td>\n",
              "      <td>[]</td>\n",
              "      <td>Sports &amp; Outdoors</td>\n",
              "      <td>NaN</td>\n",
              "      <td>0500615594</td>\n",
              "      <td>2.0</td>\n",
              "      <td>True</td>\n",
              "      <td>Bent golf stick</td>\n",
              "      <td>DR. BINO</td>\n",
              "      <td>1435449600</td>\n",
              "      <td>NaN</td>\n",
              "    </tr>\n",
              "    <tr>\n",
              "      <th>2</th>\n",
              "      <td>['Sports &amp; Outdoors', 'Sports &amp; Fitness', 'Exe...</td>\n",
              "      <td>[\"Apollo Challenge is the most effective and s...</td>\n",
              "      <td>Apollo Challenge : The 28-Day System To Look A...</td>\n",
              "      <td>['B0713Z5DGM', 'B01KUDOLN8', 'B01DJBCN3I', 'B0...</td>\n",
              "      <td>['https://images-na.ssl-images-amazon.com/imag...</td>\n",
              "      <td>Apollo Challenge</td>\n",
              "      <td>['Reduce Belly Fat, Increase Muscle Definition...</td>\n",
              "      <td>288,369 in Sports &amp; Outdoors (</td>\n",
              "      <td>[]</td>\n",
              "      <td>Sports &amp; Outdoors</td>\n",
              "      <td>$9.97</td>\n",
              "      <td>0692747222</td>\n",
              "      <td>5.0</td>\n",
              "      <td>False</td>\n",
              "      <td>Simple and Powerful! So much non-sense out the...</td>\n",
              "      <td>Simple and easy to follow - it gives actual re...</td>\n",
              "      <td>1477612800</td>\n",
              "      <td>{'Format:': ' Perfect Paperback'}</td>\n",
              "    </tr>\n",
              "    <tr>\n",
              "      <th>3</th>\n",
              "      <td>['Sports &amp; Outdoors', 'Sports &amp; Fitness', 'Exe...</td>\n",
              "      <td>[\"Apollo Challenge is the most effective and s...</td>\n",
              "      <td>Apollo Challenge : The 28-Day System To Look A...</td>\n",
              "      <td>['B0713Z5DGM', 'B01KUDOLN8', 'B01DJBCN3I', 'B0...</td>\n",
              "      <td>['https://images-na.ssl-images-amazon.com/imag...</td>\n",
              "      <td>Apollo Challenge</td>\n",
              "      <td>['Reduce Belly Fat, Increase Muscle Definition...</td>\n",
              "      <td>288,369 in Sports &amp; Outdoors (</td>\n",
              "      <td>[]</td>\n",
              "      <td>Sports &amp; Outdoors</td>\n",
              "      <td>$9.97</td>\n",
              "      <td>0692747222</td>\n",
              "      <td>5.0</td>\n",
              "      <td>False</td>\n",
              "      <td>This program is incredible.  I did this with m...</td>\n",
              "      <td>A Plan that actually work!.... If you actually...</td>\n",
              "      <td>1477526400</td>\n",
              "      <td>{'Format:': ' Perfect Paperback'}</td>\n",
              "    </tr>\n",
              "    <tr>\n",
              "      <th>4</th>\n",
              "      <td>['Sports &amp; Outdoors', 'Sports &amp; Fitness', 'Exe...</td>\n",
              "      <td>[\"Apollo Challenge is the most effective and s...</td>\n",
              "      <td>Apollo Challenge : The 28-Day System To Look A...</td>\n",
              "      <td>['B0713Z5DGM', 'B01KUDOLN8', 'B01DJBCN3I', 'B0...</td>\n",
              "      <td>['https://images-na.ssl-images-amazon.com/imag...</td>\n",
              "      <td>Apollo Challenge</td>\n",
              "      <td>['Reduce Belly Fat, Increase Muscle Definition...</td>\n",
              "      <td>288,369 in Sports &amp; Outdoors (</td>\n",
              "      <td>[]</td>\n",
              "      <td>Sports &amp; Outdoors</td>\n",
              "      <td>$9.97</td>\n",
              "      <td>0692747222</td>\n",
              "      <td>5.0</td>\n",
              "      <td>False</td>\n",
              "      <td>The Apollo Challange is what you've been looki...</td>\n",
              "      <td>The Apollo Challenge just plain works...</td>\n",
              "      <td>1477526400</td>\n",
              "      <td>{'Format:': ' Perfect Paperback'}</td>\n",
              "    </tr>\n",
              "  </tbody>\n",
              "</table>\n",
              "</div>"
            ],
            "text/plain": [
              "                                            category  ...                              style\n",
              "0  ['Sports & Outdoors', 'Outdoor Recreation', 'C...  ...                                NaN\n",
              "1  ['Sports & Outdoors', 'Sports & Fitness', 'Gol...  ...                                NaN\n",
              "2  ['Sports & Outdoors', 'Sports & Fitness', 'Exe...  ...  {'Format:': ' Perfect Paperback'}\n",
              "3  ['Sports & Outdoors', 'Sports & Fitness', 'Exe...  ...  {'Format:': ' Perfect Paperback'}\n",
              "4  ['Sports & Outdoors', 'Sports & Fitness', 'Exe...  ...  {'Format:': ' Perfect Paperback'}\n",
              "\n",
              "[5 rows x 18 columns]"
            ]
          },
          "metadata": {
            "tags": []
          },
          "execution_count": 16
        }
      ]
    },
    {
      "cell_type": "code",
      "metadata": {
        "id": "IPFSHus0BrJK",
        "colab_type": "code",
        "colab": {}
      },
      "source": [
        "del df_product_img, df_review"
      ],
      "execution_count": 17,
      "outputs": []
    },
    {
      "cell_type": "code",
      "metadata": {
        "id": "ZrfpODYAB1sx",
        "colab_type": "code",
        "colab": {}
      },
      "source": [
        ""
      ],
      "execution_count": null,
      "outputs": []
    },
    {
      "cell_type": "markdown",
      "metadata": {
        "id": "luz_cjsHoMbM",
        "colab_type": "text"
      },
      "source": [
        "## NLP text"
      ]
    },
    {
      "cell_type": "code",
      "metadata": {
        "id": "TawvekI-oLaj",
        "colab_type": "code",
        "colab": {}
      },
      "source": [
        "import re\n",
        "import urllib\n",
        "import string\n",
        "import nltk\n",
        "from nltk.corpus import stopwords\n",
        "from nltk.stem.snowball import SnowballStemmer\n",
        "from nltk.stem import PorterStemmer\n",
        "from nltk.stem import WordNetLemmatizer\n",
        "from sklearn.feature_extraction.text import TfidfVectorizer"
      ],
      "execution_count": 42,
      "outputs": []
    },
    {
      "cell_type": "code",
      "metadata": {
        "id": "2hYDqnWZoH1y",
        "colab_type": "code",
        "colab": {}
      },
      "source": [
        "def text_process(text):\n",
        "        text = re.sub(r'<[^>]*>', ' ', text).strip()\n",
        "        text = text.lower()\n",
        "        text = re.sub('\\[.*?\\]', '', text)\n",
        "        text = re.sub('[%s]' % re.escape(string.punctuation), '', text)\n",
        "        text = re.sub('\\w*\\d\\w*', '', text)\n",
        "        text = re.sub('[‘’“”…]', '', text)\n",
        "        text = re.sub('\\n', '', text)\n",
        "        nopunc = [char for char in text if char not in string.punctuation]\n",
        "\n",
        "        nopunc = ''.join(nopunc)\n",
        "        list_words = [word for word in nopunc.split() if word.lower() not in stopwords.words('english')]\n",
        "     \n",
        "        stemmer_snowball = PorterStemmer()\n",
        " \n",
        "        tokens_stemsnowball = [stemmer_snowball.stem(sent) for sent in list_words]\n",
        "\n",
        "        return ' '.join(tokens_stemsnowball)\n"
      ],
      "execution_count": 18,
      "outputs": []
    },
    {
      "cell_type": "code",
      "metadata": {
        "id": "y9FJCk36iYYQ",
        "colab_type": "code",
        "colab": {}
      },
      "source": [
        "def nlp_process(df):\n",
        "\n",
        "    df[\"text\"] = df[\"description\"]+df[\"brand\"]+df[\"feature\"]+df[\"reviewText\"]+df[\"summary\"]+df['style']\n",
        "        \n",
        "\n",
        "    df['text'] = df['text'].apply(text_process)\n",
        "\n",
        "    # vectorizer = TfidfVectorizer(min_df = 3,max_df = 0.8, max_features = 1200)\n",
        "    # m_nlp = vectorizer.fit_transform(df[\"text\"]).toarray()\n",
        "    # df_nlp = pd.DataFrame(m_nlp, columns=vectorizer.get_feature_names())\n",
        "    \n",
        "    return df_nlp"
      ],
      "execution_count": 19,
      "outputs": []
    },
    {
      "cell_type": "code",
      "metadata": {
        "id": "MrxqSaBvojU2",
        "colab_type": "code",
        "colab": {}
      },
      "source": [
        "df_all = nlp_process(df_all)"
      ],
      "execution_count": null,
      "outputs": []
    },
    {
      "cell_type": "code",
      "metadata": {
        "id": "U_Kq_uU8pKUS",
        "colab_type": "code",
        "colab": {
          "base_uri": "https://localhost:8080/",
          "height": 35
        },
        "outputId": "056b05e5-c41f-4d3a-c0ca-6d0c7b7d9277"
      },
      "source": [
        "df_all[\"style\"].iloc[9794153]"
      ],
      "execution_count": 73,
      "outputs": [
        {
          "output_type": "execute_result",
          "data": {
            "application/vnd.google.colaboratory.intrinsic+json": {
              "type": "string"
            },
            "text/plain": [
              "\"{'Size:': ' Small', 'Color:': ' Black/White'}\""
            ]
          },
          "metadata": {
            "tags": []
          },
          "execution_count": 73
        }
      ]
    },
    {
      "cell_type": "code",
      "metadata": {
        "id": "AS6-hsrZpg0z",
        "colab_type": "code",
        "colab": {}
      },
      "source": [
        ""
      ],
      "execution_count": null,
      "outputs": []
    }
  ]
}